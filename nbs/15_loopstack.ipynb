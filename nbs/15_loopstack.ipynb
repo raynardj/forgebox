{
 "cells": [
  {
   "cell_type": "markdown",
   "metadata": {},
   "source": [
    "# 15 LoopStack"
   ]
  },
  {
   "cell_type": "code",
   "execution_count": 1,
   "metadata": {},
   "outputs": [],
   "source": [
    "# default_exp loopstack"
   ]
  },
  {
   "cell_type": "code",
   "execution_count": 2,
   "metadata": {},
   "outputs": [],
   "source": [
    "# export\n",
    "from forgebox.loop import Loop,ProgressBar,Tolerate,Event,Stuff\n",
    "from types import MethodType\n",
    "import numpy as np"
   ]
  },
  {
   "cell_type": "code",
   "execution_count": 3,
   "metadata": {},
   "outputs": [
    {
     "data": {
      "text/plain": [
       "((20640, 8), (20640,))"
      ]
     },
     "execution_count": 3,
     "metadata": {},
     "output_type": "execute_result"
    }
   ],
   "source": [
    "from sklearn.datasets.california_housing import fetch_california_housing\n",
    "x,y = fetch_california_housing(return_X_y = True)\n",
    "\n",
    "x.shape, y.shape"
   ]
  },
  {
   "cell_type": "markdown",
   "metadata": {},
   "source": [
    "Normalized Data"
   ]
  },
  {
   "cell_type": "code",
   "execution_count": 4,
   "metadata": {},
   "outputs": [],
   "source": [
    "def norm(m,s): return lambda x: (x-m)/s\n",
    "def denorm(m,s): return lambda x: (x*s)+m\n",
    "\n",
    "x_normed = norm(x.mean(0),x.std(0))(x)\n",
    "y_normed = norm(y.mean(),y.std())(y)"
   ]
  },
  {
   "cell_type": "code",
   "execution_count": 5,
   "metadata": {},
   "outputs": [
    {
     "data": {
      "text/plain": [
       "(array([ 0.,  0.,  0., -0., -0.,  0., -0., -0.], dtype=float16),\n",
       " array([1., 1., 1., 1., 1., 1., 1., 1.]),\n",
       " 0.0,\n",
       " 1.0)"
      ]
     },
     "execution_count": 5,
     "metadata": {},
     "output_type": "execute_result"
    }
   ],
   "source": [
    "x_normed.mean(0).astype(np.float16),x_normed.std(0),\\\n",
    "y_normed.mean().astype(np.float16),y_normed.std()"
   ]
  },
  {
   "cell_type": "markdown",
   "metadata": {},
   "source": [
    "Preview x input"
   ]
  },
  {
   "cell_type": "code",
   "execution_count": 6,
   "metadata": {},
   "outputs": [
    {
     "data": {
      "text/plain": [
       "<matplotlib.image.AxesImage at 0x1a1425a810>"
      ]
     },
     "execution_count": 6,
     "metadata": {},
     "output_type": "execute_result"
    },
    {
     "data": {
      "image/png": "[encoded data removed]",
      "text/plain": [
       "<Figure size 432x288 with 1 Axes>"
      ]
     },
     "metadata": {
      "needs_background": "light"
     },
     "output_type": "display_data"
    }
   ],
   "source": [
    "from matplotlib import pyplot as plt\n",
    "%matplotlib inline\n",
    "plt.imshow(x_normed[np.random.choice(range(1000),10)])"
   ]
  },
  {
   "cell_type": "code",
   "execution_count": 7,
   "metadata": {},
   "outputs": [],
   "source": [
    "# export\n",
    "def create_event(event_name):\n",
    "    class BatchEvent(Event):pass\n",
    "    BatchEvent.__name__ = event_name\n",
    "    return BatchEvent\n",
    "\n",
    "def events(*enames):\n",
    "    return list(map(create_event,enames))"
   ]
  },
  {
   "cell_type": "code",
   "execution_count": 8,
   "metadata": {},
   "outputs": [],
   "source": [
    "# export\n",
    "class LoopStack(Loop):\n",
    "    settings = []\n",
    "    \"\"\"\n",
    "    A stack of loop\n",
    "    \"\"\"\n",
    "    @classmethod\n",
    "    def from_loops(cls,*loops):\n",
    "        def init(self,iterable=[],name = None):\n",
    "            name = name if name!=None else cls.__name__\n",
    "            \n",
    "            self.loops = dict()\n",
    "            l = Loop(iterable)\n",
    "            for L in loops:\n",
    "                l = L(iterable = l)\n",
    "            super().__init__(iterable = l,\n",
    "                             name = name)\n",
    "            \n",
    "            for stuff in cls.settings:\n",
    "                self.make_stuff(stuff)\n",
    "            \n",
    "        setattr(cls,\"__init__\",init)\n",
    "        return cls\n",
    "    \n",
    "    @classmethod\n",
    "    def new_setting(cls,*settings):\n",
    "        cls.settings+=list(settings)\n",
    "    \n",
    "    def make_stuff(self,name):\n",
    "        new_stuff = Stuff(name)\n",
    "        setattr(self.core,name,new_stuff)\n",
    "        setattr(self,name,new_stuff)\n",
    "    \n",
    "    def __repr__(self,):\n",
    "        return f\"LoopStack>:{self.name}\\n\\t\"+\\\n",
    "            \"\\n\\t\".join(map(str,self.core.layers[:-1]))"
   ]
  },
  {
   "cell_type": "code",
   "execution_count": 9,
   "metadata": {},
   "outputs": [],
   "source": [
    "TRAIN_EVENTS = [\"DATA_PROCESS\",\"FORWARD\",\"LOSS_CALC\",\n",
    "                \"BACKWARD\",\"OPT_STEP\",\"METRICS\"]\n",
    "EVAL_EVENTS = [\"DATA_PROCESS\",\"EVAL_WRAP\",\"FORWARD\",\"LOSS_CALC\",\"METRICS\"]"
   ]
  },
  {
   "cell_type": "code",
   "execution_count": 10,
   "metadata": {},
   "outputs": [],
   "source": [
    "# export \n",
    "class TrainLoop(LoopStack):\n",
    "    def __init__(self,data_iter):\n",
    "        self.from_loops(ProgressBar,Tolerate,\n",
    "                        *events(*TRAIN_EVENTS))\n",
    "        self.new_setting(\"model\",\"opt\",\"loss\",\"hp\",\"cuda\")\n",
    "        self.__init__(data_iter,)\n",
    "        \n",
    "        @self.on_DATA_PROCESS\n",
    "        def opt_zero_grad(self):\n",
    "            self.opt.zero_grad()\n",
    "        \n",
    "        @self.before_1st_FORWARD\n",
    "        def switch_model_to_train(self):\n",
    "            self.core.model = self.core.model.train()\n",
    "            \n",
    "class EvalLoop(LoopStack):\n",
    "    def __init__(self,data_iter):\n",
    "        self.from_loops(ProgressBar,Tolerate,\n",
    "                        *events(*EVAL_EVENTS))\n",
    "        self.new_setting(\"model\",\"opt\",\"loss\",\"hp\",\"cuda\")\n",
    "        self.__init__(data_iter,)\n",
    "        \n",
    "        @self.EVAL_FORWARD.downstream\n",
    "        def torch_eval_wrap(self,func):\n",
    "            with torch.no_grad():\n",
    "                func()"
   ]
  },
  {
   "cell_type": "code",
   "execution_count": 11,
   "metadata": {},
   "outputs": [
    {
     "data": {
      "text/plain": [
       "LoopStack>:TrainLoop\n",
       "\tlayer🍰Loop\n",
       "\tlayer🍰ProgressBar\n",
       "\tlayer🍰Tolerate\n",
       "\tevent🌏DATA_PROCESS\n",
       "\tevent🌏FORWARD\n",
       "\tevent🌏LOSS_CALC\n",
       "\tevent🌏BACKWARD\n",
       "\tevent🌏OPT_STEP\n",
       "\tevent🌏METRICS"
      ]
     },
     "execution_count": 11,
     "metadata": {},
     "output_type": "execute_result"
    }
   ],
   "source": [
    "loop = TrainLoop(range(50))\n",
    "loop"
   ]
  },
  {
   "cell_type": "code",
   "execution_count": 14,
   "metadata": {},
   "outputs": [
    {
     "ename": "KeyError",
     "evalue": "'❌🗝no key [abc]: in self.cases or self.funcs'",
     "output_type": "error",
     "traceback": [
      "\u001b[0;31m---------------------------------------------------------------------------\u001b[0m",
      "\u001b[0;31mKeyError\u001b[0m                                  Traceback (most recent call last)",
      "\u001b[0;32m<ipython-input-14-f788fb6eae87>\u001b[0m in \u001b[0;36m<module>\u001b[0;34m\u001b[0m\n\u001b[0;32m----> 1\u001b[0;31m \u001b[0mhasattr\u001b[0m\u001b[0;34m(\u001b[0m\u001b[0mloop\u001b[0m\u001b[0;34m.\u001b[0m\u001b[0mmodel\u001b[0m\u001b[0;34m,\u001b[0m\u001b[0;34m\"abc\"\u001b[0m\u001b[0;34m)\u001b[0m\u001b[0;34m\u001b[0m\u001b[0;34m\u001b[0m\u001b[0m\n\u001b[0m",
      "\u001b[0;32m~/github/forgebox/forgebox/loop.py\u001b[0m in \u001b[0;36m__getattr__\u001b[0;34m(self, k)\u001b[0m\n\u001b[1;32m     29\u001b[0m         \u001b[0;32melif\u001b[0m \u001b[0mk\u001b[0m \u001b[0;32min\u001b[0m \u001b[0mself\u001b[0m\u001b[0;34m.\u001b[0m\u001b[0mfuncs\u001b[0m\u001b[0;34m:\u001b[0m \u001b[0;32mreturn\u001b[0m \u001b[0mself\u001b[0m\u001b[0;34m.\u001b[0m\u001b[0mfuncs\u001b[0m\u001b[0;34m[\u001b[0m\u001b[0mk\u001b[0m\u001b[0;34m]\u001b[0m\u001b[0;34m\u001b[0m\u001b[0;34m\u001b[0m\u001b[0m\n\u001b[1;32m     30\u001b[0m         \u001b[0;32melse\u001b[0m\u001b[0;34m:\u001b[0m\u001b[0;34m\u001b[0m\u001b[0;34m\u001b[0m\u001b[0m\n\u001b[0;32m---> 31\u001b[0;31m             \u001b[0;32mraise\u001b[0m \u001b[0mKeyError\u001b[0m\u001b[0;34m(\u001b[0m\u001b[0;34mf\"❌🗝no key [{k}]: in self.cases or self.funcs\"\u001b[0m\u001b[0;34m)\u001b[0m\u001b[0;34m\u001b[0m\u001b[0;34m\u001b[0m\u001b[0m\n\u001b[0m\u001b[1;32m     32\u001b[0m \u001b[0;34m\u001b[0m\u001b[0m\n\u001b[1;32m     33\u001b[0m     \u001b[0;32mdef\u001b[0m \u001b[0m__hasattr__\u001b[0m\u001b[0;34m(\u001b[0m\u001b[0mself\u001b[0m\u001b[0;34m,\u001b[0m\u001b[0mk\u001b[0m\u001b[0;34m)\u001b[0m\u001b[0;34m:\u001b[0m\u001b[0;34m\u001b[0m\u001b[0;34m\u001b[0m\u001b[0m\n",
      "\u001b[0;31mKeyError\u001b[0m: '❌🗝no key [abc]: in self.cases or self.funcs'"
     ]
    }
   ],
   "source": [
    "hasattr(loop.model,\"abc\")"
   ]
  },
  {
   "cell_type": "code",
   "execution_count": 13,
   "metadata": {
    "scrolled": false
   },
   "outputs": [
    {
     "ename": "KeyError",
     "evalue": "'❌🗝no key [forall]: in self.cases or self.funcs'",
     "output_type": "error",
     "traceback": [
      "\u001b[0;31m---------------------------------------------------------------------------\u001b[0m",
      "\u001b[0;31mKeyError\u001b[0m                                  Traceback (most recent call last)",
      "\u001b[0;32m<ipython-input-13-8efba2eecf81>\u001b[0m in \u001b[0;36m<module>\u001b[0;34m\u001b[0m\n\u001b[0;32m----> 1\u001b[0;31m \u001b[0mloop\u001b[0m\u001b[0;34m.\u001b[0m\u001b[0msummary\u001b[0m\u001b[0;34m(\u001b[0m\u001b[0;34m)\u001b[0m\u001b[0;34m\u001b[0m\u001b[0;34m\u001b[0m\u001b[0m\n\u001b[0m",
      "\u001b[0;32m~/github/forgebox/forgebox/loop.py\u001b[0m in \u001b[0;36msummary\u001b[0;34m(self)\u001b[0m\n\u001b[1;32m    148\u001b[0m         \u001b[0;32mfor\u001b[0m \u001b[0midx\u001b[0m\u001b[0;34m,\u001b[0m\u001b[0mlayer\u001b[0m \u001b[0;32min\u001b[0m \u001b[0mself\u001b[0m\u001b[0;34m.\u001b[0m\u001b[0mcore\u001b[0m\u001b[0;34m.\u001b[0m\u001b[0mlmap\u001b[0m\u001b[0;34m.\u001b[0m\u001b[0mitems\u001b[0m\u001b[0;34m(\u001b[0m\u001b[0;34m)\u001b[0m\u001b[0;34m:\u001b[0m\u001b[0;34m\u001b[0m\u001b[0;34m\u001b[0m\u001b[0m\n\u001b[1;32m    149\u001b[0m             \u001b[0mrt\u001b[0m\u001b[0;34m+=\u001b[0m \u001b[0;34mf\"🍰layer{idx}\\t{str(layer)}\\n\"\u001b[0m\u001b[0;34m\u001b[0m\u001b[0;34m\u001b[0m\u001b[0m\n\u001b[0;32m--> 150\u001b[0;31m             \u001b[0;32mfor\u001b[0m \u001b[0mfname\u001b[0m\u001b[0;34m,\u001b[0m\u001b[0mf\u001b[0m \u001b[0;32min\u001b[0m \u001b[0mself\u001b[0m\u001b[0;34m.\u001b[0m\u001b[0mcore\u001b[0m\u001b[0;34m.\u001b[0m\u001b[0mfor_all_functions\u001b[0m\u001b[0;34m(\u001b[0m\u001b[0mlayer\u001b[0m\u001b[0;34m)\u001b[0m\u001b[0;34m.\u001b[0m\u001b[0mitems\u001b[0m\u001b[0;34m(\u001b[0m\u001b[0;34m)\u001b[0m\u001b[0;34m:\u001b[0m\u001b[0;34m\u001b[0m\u001b[0;34m\u001b[0m\u001b[0m\n\u001b[0m\u001b[1;32m    151\u001b[0m                 \u001b[0;32mif\u001b[0m \u001b[0mid\u001b[0m\u001b[0;34m(\u001b[0m\u001b[0mf\u001b[0m\u001b[0;34m)\u001b[0m \u001b[0;32mnot\u001b[0m \u001b[0;32min\u001b[0m \u001b[0mfuncs\u001b[0m\u001b[0;34m:\u001b[0m\u001b[0;34m\u001b[0m\u001b[0;34m\u001b[0m\u001b[0m\n\u001b[1;32m    152\u001b[0m                     \u001b[0mrt\u001b[0m\u001b[0;34m+=\u001b[0m\u001b[0;34m\"\\t\"\u001b[0m\u001b[0;34m\u001b[0m\u001b[0;34m\u001b[0m\u001b[0m\n",
      "\u001b[0;32m~/github/forgebox/forgebox/loop.py\u001b[0m in \u001b[0;36mfor_all_functions\u001b[0;34m(self, obj)\u001b[0m\n\u001b[1;32m     98\u001b[0m     \u001b[0;32mdef\u001b[0m \u001b[0mfor_all_functions\u001b[0m\u001b[0;34m(\u001b[0m\u001b[0mself\u001b[0m\u001b[0;34m,\u001b[0m\u001b[0mobj\u001b[0m\u001b[0;34m)\u001b[0m\u001b[0;34m:\u001b[0m\u001b[0;34m\u001b[0m\u001b[0;34m\u001b[0m\u001b[0m\n\u001b[1;32m     99\u001b[0m         return dict(inspect.getmembers(obj,\n\u001b[0;32m--> 100\u001b[0;31m                   predicate=lambda x:hasattr(x,\"forall\")))\n\u001b[0m\u001b[1;32m    101\u001b[0m \u001b[0;34m\u001b[0m\u001b[0m\n\u001b[1;32m    102\u001b[0m     \u001b[0;32mdef\u001b[0m \u001b[0mupdate_forall\u001b[0m\u001b[0;34m(\u001b[0m\u001b[0mself\u001b[0m\u001b[0;34m,\u001b[0m\u001b[0mobj\u001b[0m\u001b[0;34m)\u001b[0m\u001b[0;34m:\u001b[0m\u001b[0;34m\u001b[0m\u001b[0;34m\u001b[0m\u001b[0m\n",
      "\u001b[0;32m~/anaconda3/lib/python3.7/inspect.py\u001b[0m in \u001b[0;36mgetmembers\u001b[0;34m(object, predicate)\u001b[0m\n\u001b[1;32m    352\u001b[0m                 \u001b[0;31m# __dir__; discard and move on\u001b[0m\u001b[0;34m\u001b[0m\u001b[0;34m\u001b[0m\u001b[0;34m\u001b[0m\u001b[0m\n\u001b[1;32m    353\u001b[0m                 \u001b[0;32mcontinue\u001b[0m\u001b[0;34m\u001b[0m\u001b[0;34m\u001b[0m\u001b[0m\n\u001b[0;32m--> 354\u001b[0;31m         \u001b[0;32mif\u001b[0m \u001b[0;32mnot\u001b[0m \u001b[0mpredicate\u001b[0m \u001b[0;32mor\u001b[0m \u001b[0mpredicate\u001b[0m\u001b[0;34m(\u001b[0m\u001b[0mvalue\u001b[0m\u001b[0;34m)\u001b[0m\u001b[0;34m:\u001b[0m\u001b[0;34m\u001b[0m\u001b[0;34m\u001b[0m\u001b[0m\n\u001b[0m\u001b[1;32m    355\u001b[0m             \u001b[0mresults\u001b[0m\u001b[0;34m.\u001b[0m\u001b[0mappend\u001b[0m\u001b[0;34m(\u001b[0m\u001b[0;34m(\u001b[0m\u001b[0mkey\u001b[0m\u001b[0;34m,\u001b[0m \u001b[0mvalue\u001b[0m\u001b[0;34m)\u001b[0m\u001b[0;34m)\u001b[0m\u001b[0;34m\u001b[0m\u001b[0;34m\u001b[0m\u001b[0m\n\u001b[1;32m    356\u001b[0m         \u001b[0mprocessed\u001b[0m\u001b[0;34m.\u001b[0m\u001b[0madd\u001b[0m\u001b[0;34m(\u001b[0m\u001b[0mkey\u001b[0m\u001b[0;34m)\u001b[0m\u001b[0;34m\u001b[0m\u001b[0;34m\u001b[0m\u001b[0m\n",
      "\u001b[0;32m~/github/forgebox/forgebox/loop.py\u001b[0m in \u001b[0;36m<lambda>\u001b[0;34m(x)\u001b[0m\n\u001b[1;32m     98\u001b[0m     \u001b[0;32mdef\u001b[0m \u001b[0mfor_all_functions\u001b[0m\u001b[0;34m(\u001b[0m\u001b[0mself\u001b[0m\u001b[0;34m,\u001b[0m\u001b[0mobj\u001b[0m\u001b[0;34m)\u001b[0m\u001b[0;34m:\u001b[0m\u001b[0;34m\u001b[0m\u001b[0;34m\u001b[0m\u001b[0m\n\u001b[1;32m     99\u001b[0m         return dict(inspect.getmembers(obj,\n\u001b[0;32m--> 100\u001b[0;31m                   predicate=lambda x:hasattr(x,\"forall\")))\n\u001b[0m\u001b[1;32m    101\u001b[0m \u001b[0;34m\u001b[0m\u001b[0m\n\u001b[1;32m    102\u001b[0m     \u001b[0;32mdef\u001b[0m \u001b[0mupdate_forall\u001b[0m\u001b[0;34m(\u001b[0m\u001b[0mself\u001b[0m\u001b[0;34m,\u001b[0m\u001b[0mobj\u001b[0m\u001b[0;34m)\u001b[0m\u001b[0;34m:\u001b[0m\u001b[0;34m\u001b[0m\u001b[0;34m\u001b[0m\u001b[0m\n",
      "\u001b[0;32m~/github/forgebox/forgebox/loop.py\u001b[0m in \u001b[0;36m__getattr__\u001b[0;34m(self, k)\u001b[0m\n\u001b[1;32m     29\u001b[0m         \u001b[0;32melif\u001b[0m \u001b[0mk\u001b[0m \u001b[0;32min\u001b[0m \u001b[0mself\u001b[0m\u001b[0;34m.\u001b[0m\u001b[0mfuncs\u001b[0m\u001b[0;34m:\u001b[0m \u001b[0;32mreturn\u001b[0m \u001b[0mself\u001b[0m\u001b[0;34m.\u001b[0m\u001b[0mfuncs\u001b[0m\u001b[0;34m[\u001b[0m\u001b[0mk\u001b[0m\u001b[0;34m]\u001b[0m\u001b[0;34m\u001b[0m\u001b[0;34m\u001b[0m\u001b[0m\n\u001b[1;32m     30\u001b[0m         \u001b[0;32melse\u001b[0m\u001b[0;34m:\u001b[0m\u001b[0;34m\u001b[0m\u001b[0;34m\u001b[0m\u001b[0m\n\u001b[0;32m---> 31\u001b[0;31m             \u001b[0;32mraise\u001b[0m \u001b[0mKeyError\u001b[0m\u001b[0;34m(\u001b[0m\u001b[0;34mf\"❌🗝no key [{k}]: in self.cases or self.funcs\"\u001b[0m\u001b[0;34m)\u001b[0m\u001b[0;34m\u001b[0m\u001b[0;34m\u001b[0m\u001b[0m\n\u001b[0m\u001b[1;32m     32\u001b[0m \u001b[0;34m\u001b[0m\u001b[0m\n\u001b[1;32m     33\u001b[0m     \u001b[0;32mdef\u001b[0m \u001b[0m__hasattr__\u001b[0m\u001b[0;34m(\u001b[0m\u001b[0mself\u001b[0m\u001b[0;34m,\u001b[0m\u001b[0mk\u001b[0m\u001b[0;34m)\u001b[0m\u001b[0;34m:\u001b[0m\u001b[0;34m\u001b[0m\u001b[0;34m\u001b[0m\u001b[0m\n",
      "\u001b[0;31mKeyError\u001b[0m: '❌🗝no key [forall]: in self.cases or self.funcs'"
     ]
    }
   ],
   "source": [
    "loop.summary()"
   ]
  },
  {
   "cell_type": "code",
   "execution_count": 9,
   "metadata": {},
   "outputs": [],
   "source": [
    "from time import sleep"
   ]
  },
  {
   "cell_type": "code",
   "execution_count": 10,
   "metadata": {},
   "outputs": [],
   "source": [
    "@loop.on_DATA_PROCESS\n",
    "def process_data(loop):\n",
    "    sleep(.1)\n",
    "    loop.core.double = loop.element*2\n",
    "    \n",
    "@loop.on_FORWARD\n",
    "def update_pg(loop):\n",
    "    loop.pgbar_description(f\"double: {loop.double}\")\n",
    "    \n",
    "@loop.on_FORWARD\n",
    "def another_thing_on_forward(loop):\n",
    "    loop.pgbar_data(dict(a=1))"
   ]
  },
  {
   "cell_type": "code",
   "execution_count": 11,
   "metadata": {},
   "outputs": [
    {
     "data": {
      "application/vnd.jupyter.widget-view+json": {
       "model_id": "dc7fd5b4bb5447a888453dd1c1ae03fa",
       "version_major": 2,
       "version_minor": 0
      },
      "text/plain": [
       "HBox(children=(FloatProgress(value=0.0, max=50.0), HTML(value='')))"
      ]
     },
     "metadata": {},
     "output_type": "display_data"
    },
    {
     "name": "stdout",
     "output_type": "stream",
     "text": [
      "\n",
      "WARNING:51 errors\n"
     ]
    }
   ],
   "source": [
    "loop.run()"
   ]
  },
  {
   "cell_type": "code",
   "execution_count": 12,
   "metadata": {},
   "outputs": [
    {
     "data": {
      "text/plain": [
       "[{'stage': 'start_cb',\n",
       "  'i': -1,\n",
       "  'epoch': 0,\n",
       "  'error': AttributeError(\"'StorageCore' object has no attribute 'model'\")},\n",
       " {'stage': 'iter_cb',\n",
       "  'i': 0,\n",
       "  'epoch': 0,\n",
       "  'error': AttributeError(\"'StorageCore' object has no attribute 'opt'\")},\n",
       " {'stage': 'iter_cb',\n",
       "  'i': 1,\n",
       "  'epoch': 0,\n",
       "  'error': AttributeError(\"'StorageCore' object has no attribute 'opt'\")},\n",
       " {'stage': 'iter_cb',\n",
       "  'i': 2,\n",
       "  'epoch': 0,\n",
       "  'error': AttributeError(\"'StorageCore' object has no attribute 'opt'\")},\n",
       " {'stage': 'iter_cb',\n",
       "  'i': 3,\n",
       "  'epoch': 0,\n",
       "  'error': AttributeError(\"'StorageCore' object has no attribute 'opt'\")},\n",
       " {'stage': 'iter_cb',\n",
       "  'i': 4,\n",
       "  'epoch': 0,\n",
       "  'error': AttributeError(\"'StorageCore' object has no attribute 'opt'\")},\n",
       " {'stage': 'iter_cb',\n",
       "  'i': 5,\n",
       "  'epoch': 0,\n",
       "  'error': AttributeError(\"'StorageCore' object has no attribute 'opt'\")},\n",
       " {'stage': 'iter_cb',\n",
       "  'i': 6,\n",
       "  'epoch': 0,\n",
       "  'error': AttributeError(\"'StorageCore' object has no attribute 'opt'\")},\n",
       " {'stage': 'iter_cb',\n",
       "  'i': 7,\n",
       "  'epoch': 0,\n",
       "  'error': AttributeError(\"'StorageCore' object has no attribute 'opt'\")},\n",
       " {'stage': 'iter_cb',\n",
       "  'i': 8,\n",
       "  'epoch': 0,\n",
       "  'error': AttributeError(\"'StorageCore' object has no attribute 'opt'\")},\n",
       " {'stage': 'iter_cb',\n",
       "  'i': 9,\n",
       "  'epoch': 0,\n",
       "  'error': AttributeError(\"'StorageCore' object has no attribute 'opt'\")},\n",
       " {'stage': 'iter_cb',\n",
       "  'i': 10,\n",
       "  'epoch': 0,\n",
       "  'error': AttributeError(\"'StorageCore' object has no attribute 'opt'\")},\n",
       " {'stage': 'iter_cb',\n",
       "  'i': 11,\n",
       "  'epoch': 0,\n",
       "  'error': AttributeError(\"'StorageCore' object has no attribute 'opt'\")},\n",
       " {'stage': 'iter_cb',\n",
       "  'i': 12,\n",
       "  'epoch': 0,\n",
       "  'error': AttributeError(\"'StorageCore' object has no attribute 'opt'\")},\n",
       " {'stage': 'iter_cb',\n",
       "  'i': 13,\n",
       "  'epoch': 0,\n",
       "  'error': AttributeError(\"'StorageCore' object has no attribute 'opt'\")},\n",
       " {'stage': 'iter_cb',\n",
       "  'i': 14,\n",
       "  'epoch': 0,\n",
       "  'error': AttributeError(\"'StorageCore' object has no attribute 'opt'\")},\n",
       " {'stage': 'iter_cb',\n",
       "  'i': 15,\n",
       "  'epoch': 0,\n",
       "  'error': AttributeError(\"'StorageCore' object has no attribute 'opt'\")},\n",
       " {'stage': 'iter_cb',\n",
       "  'i': 16,\n",
       "  'epoch': 0,\n",
       "  'error': AttributeError(\"'StorageCore' object has no attribute 'opt'\")},\n",
       " {'stage': 'iter_cb',\n",
       "  'i': 17,\n",
       "  'epoch': 0,\n",
       "  'error': AttributeError(\"'StorageCore' object has no attribute 'opt'\")},\n",
       " {'stage': 'iter_cb',\n",
       "  'i': 18,\n",
       "  'epoch': 0,\n",
       "  'error': AttributeError(\"'StorageCore' object has no attribute 'opt'\")},\n",
       " {'stage': 'iter_cb',\n",
       "  'i': 19,\n",
       "  'epoch': 0,\n",
       "  'error': AttributeError(\"'StorageCore' object has no attribute 'opt'\")},\n",
       " {'stage': 'iter_cb',\n",
       "  'i': 20,\n",
       "  'epoch': 0,\n",
       "  'error': AttributeError(\"'StorageCore' object has no attribute 'opt'\")},\n",
       " {'stage': 'iter_cb',\n",
       "  'i': 21,\n",
       "  'epoch': 0,\n",
       "  'error': AttributeError(\"'StorageCore' object has no attribute 'opt'\")},\n",
       " {'stage': 'iter_cb',\n",
       "  'i': 22,\n",
       "  'epoch': 0,\n",
       "  'error': AttributeError(\"'StorageCore' object has no attribute 'opt'\")},\n",
       " {'stage': 'iter_cb',\n",
       "  'i': 23,\n",
       "  'epoch': 0,\n",
       "  'error': AttributeError(\"'StorageCore' object has no attribute 'opt'\")},\n",
       " {'stage': 'iter_cb',\n",
       "  'i': 24,\n",
       "  'epoch': 0,\n",
       "  'error': AttributeError(\"'StorageCore' object has no attribute 'opt'\")},\n",
       " {'stage': 'iter_cb',\n",
       "  'i': 25,\n",
       "  'epoch': 0,\n",
       "  'error': AttributeError(\"'StorageCore' object has no attribute 'opt'\")},\n",
       " {'stage': 'iter_cb',\n",
       "  'i': 26,\n",
       "  'epoch': 0,\n",
       "  'error': AttributeError(\"'StorageCore' object has no attribute 'opt'\")},\n",
       " {'stage': 'iter_cb',\n",
       "  'i': 27,\n",
       "  'epoch': 0,\n",
       "  'error': AttributeError(\"'StorageCore' object has no attribute 'opt'\")},\n",
       " {'stage': 'iter_cb',\n",
       "  'i': 28,\n",
       "  'epoch': 0,\n",
       "  'error': AttributeError(\"'StorageCore' object has no attribute 'opt'\")},\n",
       " {'stage': 'iter_cb',\n",
       "  'i': 29,\n",
       "  'epoch': 0,\n",
       "  'error': AttributeError(\"'StorageCore' object has no attribute 'opt'\")},\n",
       " {'stage': 'iter_cb',\n",
       "  'i': 30,\n",
       "  'epoch': 0,\n",
       "  'error': AttributeError(\"'StorageCore' object has no attribute 'opt'\")},\n",
       " {'stage': 'iter_cb',\n",
       "  'i': 31,\n",
       "  'epoch': 0,\n",
       "  'error': AttributeError(\"'StorageCore' object has no attribute 'opt'\")},\n",
       " {'stage': 'iter_cb',\n",
       "  'i': 32,\n",
       "  'epoch': 0,\n",
       "  'error': AttributeError(\"'StorageCore' object has no attribute 'opt'\")},\n",
       " {'stage': 'iter_cb',\n",
       "  'i': 33,\n",
       "  'epoch': 0,\n",
       "  'error': AttributeError(\"'StorageCore' object has no attribute 'opt'\")},\n",
       " {'stage': 'iter_cb',\n",
       "  'i': 34,\n",
       "  'epoch': 0,\n",
       "  'error': AttributeError(\"'StorageCore' object has no attribute 'opt'\")},\n",
       " {'stage': 'iter_cb',\n",
       "  'i': 35,\n",
       "  'epoch': 0,\n",
       "  'error': AttributeError(\"'StorageCore' object has no attribute 'opt'\")},\n",
       " {'stage': 'iter_cb',\n",
       "  'i': 36,\n",
       "  'epoch': 0,\n",
       "  'error': AttributeError(\"'StorageCore' object has no attribute 'opt'\")},\n",
       " {'stage': 'iter_cb',\n",
       "  'i': 37,\n",
       "  'epoch': 0,\n",
       "  'error': AttributeError(\"'StorageCore' object has no attribute 'opt'\")},\n",
       " {'stage': 'iter_cb',\n",
       "  'i': 38,\n",
       "  'epoch': 0,\n",
       "  'error': AttributeError(\"'StorageCore' object has no attribute 'opt'\")},\n",
       " {'stage': 'iter_cb',\n",
       "  'i': 39,\n",
       "  'epoch': 0,\n",
       "  'error': AttributeError(\"'StorageCore' object has no attribute 'opt'\")},\n",
       " {'stage': 'iter_cb',\n",
       "  'i': 40,\n",
       "  'epoch': 0,\n",
       "  'error': AttributeError(\"'StorageCore' object has no attribute 'opt'\")},\n",
       " {'stage': 'iter_cb',\n",
       "  'i': 41,\n",
       "  'epoch': 0,\n",
       "  'error': AttributeError(\"'StorageCore' object has no attribute 'opt'\")},\n",
       " {'stage': 'iter_cb',\n",
       "  'i': 42,\n",
       "  'epoch': 0,\n",
       "  'error': AttributeError(\"'StorageCore' object has no attribute 'opt'\")},\n",
       " {'stage': 'iter_cb',\n",
       "  'i': 43,\n",
       "  'epoch': 0,\n",
       "  'error': AttributeError(\"'StorageCore' object has no attribute 'opt'\")},\n",
       " {'stage': 'iter_cb',\n",
       "  'i': 44,\n",
       "  'epoch': 0,\n",
       "  'error': AttributeError(\"'StorageCore' object has no attribute 'opt'\")},\n",
       " {'stage': 'iter_cb',\n",
       "  'i': 45,\n",
       "  'epoch': 0,\n",
       "  'error': AttributeError(\"'StorageCore' object has no attribute 'opt'\")},\n",
       " {'stage': 'iter_cb',\n",
       "  'i': 46,\n",
       "  'epoch': 0,\n",
       "  'error': AttributeError(\"'StorageCore' object has no attribute 'opt'\")},\n",
       " {'stage': 'iter_cb',\n",
       "  'i': 47,\n",
       "  'epoch': 0,\n",
       "  'error': AttributeError(\"'StorageCore' object has no attribute 'opt'\")},\n",
       " {'stage': 'iter_cb',\n",
       "  'i': 48,\n",
       "  'epoch': 0,\n",
       "  'error': AttributeError(\"'StorageCore' object has no attribute 'opt'\")},\n",
       " {'stage': 'iter_cb',\n",
       "  'i': 49,\n",
       "  'epoch': 0,\n",
       "  'error': AttributeError(\"'StorageCore' object has no attribute 'opt'\")}]"
      ]
     },
     "execution_count": 12,
     "metadata": {},
     "output_type": "execute_result"
    }
   ],
   "source": [
    "loop.error_list()"
   ]
  },
  {
   "cell_type": "code",
   "execution_count": null,
   "metadata": {},
   "outputs": [],
   "source": []
  }
 ],
 "metadata": {
  "kernelspec": {
   "display_name": "Python 3",
   "language": "python",
   "name": "python3"
  },
  "language_info": {
   "codemirror_mode": {
    "name": "ipython",
    "version": 3
   },
   "file_extension": ".py",
   "mimetype": "text/x-python",
   "name": "python",
   "nbconvert_exporter": "python",
   "pygments_lexer": "ipython3",
   "version": "3.7.4"
  }
 },
 "nbformat": 4,
 "nbformat_minor": 4
}
