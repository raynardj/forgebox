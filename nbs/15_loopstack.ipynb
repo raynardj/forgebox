{
 "cells": [
  {
   "cell_type": "markdown",
   "metadata": {},
   "source": [
    "# 15 LoopStack"
   ]
  },
  {
   "cell_type": "code",
   "execution_count": 1,
   "metadata": {},
   "outputs": [],
   "source": [
    "# default_exp loopstack"
   ]
  },
  {
   "cell_type": "code",
   "execution_count": 2,
   "metadata": {},
   "outputs": [],
   "source": [
    "# export\n",
    "from forgebox.loop import Loop,ProgressBar,Tolerate,Event,Stuff,chunkify\n",
    "from types import MethodType\n",
    "import numpy as np"
   ]
  },
  {
   "cell_type": "markdown",
   "metadata": {},
   "source": [
    "To run through iterations quickly, we use the california housing data"
   ]
  },
  {
   "cell_type": "code",
   "execution_count": 3,
   "metadata": {},
   "outputs": [
    {
     "data": {
      "text/plain": [
       "((20640, 8), (20640,))"
      ]
     },
     "execution_count": 3,
     "metadata": {},
     "output_type": "execute_result"
    }
   ],
   "source": [
    "from sklearn.datasets.california_housing import fetch_california_housing\n",
    "x,y = fetch_california_housing(return_X_y = True)\n",
    "\n",
    "x.shape, y.shape"
   ]
  },
  {
   "cell_type": "markdown",
   "metadata": {},
   "source": [
    "Normalized Data"
   ]
  },
  {
   "cell_type": "markdown",
   "metadata": {},
   "source": [
    "Preview x input"
   ]
  },
  {
   "cell_type": "code",
   "execution_count": 4,
   "metadata": {},
   "outputs": [],
   "source": [
    "def norm(m,s): return lambda x: (x-m)/s\n",
    "def denorm(m,s): return lambda x: (x*s)+m\n",
    "\n",
    "x_normed = norm(x.mean(0),x.std(0))(x)\n",
    "y_normed = norm(y.mean(),y.std())(y)"
   ]
  },
  {
   "cell_type": "code",
   "execution_count": 5,
   "metadata": {},
   "outputs": [
    {
     "data": {
      "text/plain": [
       "(array([ 0.,  0.,  0., -0., -0.,  0., -0., -0.], dtype=float16),\n",
       " array([1., 1., 1., 1., 1., 1., 1., 1.]),\n",
       " 0.0,\n",
       " 1.0)"
      ]
     },
     "execution_count": 5,
     "metadata": {},
     "output_type": "execute_result"
    }
   ],
   "source": [
    "x_normed.mean(0).astype(np.float16),x_normed.std(0),\\\n",
    "y_normed.mean().astype(np.float16),y_normed.std()"
   ]
  },
  {
   "cell_type": "code",
   "execution_count": 6,
   "metadata": {},
   "outputs": [
    {
     "data": {
      "text/plain": [
       "<matplotlib.image.AxesImage at 0x1a187a8110>"
      ]
     },
     "execution_count": 6,
     "metadata": {},
     "output_type": "execute_result"
    },
    {
     "data": {
      "image/png": "[encoded data removed]",
      "text/plain": [
       "<Figure size 432x288 with 1 Axes>"
      ]
     },
     "metadata": {
      "needs_background": "light"
     },
     "output_type": "display_data"
    }
   ],
   "source": [
    "from matplotlib import pyplot as plt\n",
    "%matplotlib inline\n",
    "plt.imshow(x_normed[np.random.choice(range(1000),10)])"
   ]
  },
  {
   "cell_type": "code",
   "execution_count": 7,
   "metadata": {},
   "outputs": [
    {
     "data": {
      "text/plain": [
       "array([[ 2.34476576,  0.98214266,  0.62855945, ..., -0.04959654,\n",
       "         1.05254828, -1.32783522],\n",
       "       [ 2.33223796, -0.60701891,  0.32704136, ..., -0.09251223,\n",
       "         1.04318455, -1.32284391],\n",
       "       [ 1.7826994 ,  1.85618152,  1.15562047, ..., -0.02584253,\n",
       "         1.03850269, -1.33282653],\n",
       "       ...,\n",
       "       [-1.14259331, -0.92485123, -0.09031802, ..., -0.0717345 ,\n",
       "         1.77823747, -0.8237132 ],\n",
       "       [-1.05458292, -0.84539315, -0.04021111, ..., -0.09122515,\n",
       "         1.77823747, -0.87362627],\n",
       "       [-0.78012947, -1.00430931, -0.07044252, ..., -0.04368215,\n",
       "         1.75014627, -0.83369581]])"
      ]
     },
     "execution_count": 7,
     "metadata": {},
     "output_type": "execute_result"
    }
   ],
   "source": [
    "x_normed"
   ]
  },
  {
   "cell_type": "code",
   "execution_count": 8,
   "metadata": {},
   "outputs": [],
   "source": [
    "# export\n",
    "def create_event(event_name):\n",
    "    class BatchEvent(Event):pass\n",
    "    BatchEvent.__name__ = event_name\n",
    "    return BatchEvent\n",
    "\n",
    "def events(*enames):\n",
    "    return list(map(create_event,enames))"
   ]
  },
  {
   "cell_type": "code",
   "execution_count": 9,
   "metadata": {},
   "outputs": [],
   "source": [
    "# export\n",
    "class LoopStack(Loop):\n",
    "    settings = []\n",
    "    \"\"\"\n",
    "    A stack of loop\n",
    "    \"\"\"\n",
    "    @classmethod\n",
    "    def from_loops(cls,*loops):\n",
    "        def init(self,iterable=[],name = None):\n",
    "            name = name if name!=None else cls.__name__\n",
    "            \n",
    "            self.loops = dict()\n",
    "            l = Loop(iterable)\n",
    "            for L in loops:\n",
    "                l = L(iterable = l)\n",
    "            super().__init__(iterable = l,\n",
    "                             name = name)\n",
    "            \n",
    "            for stuff in cls.settings:\n",
    "                self.make_stuff(stuff)\n",
    "            \n",
    "        setattr(cls,\"init\",init)\n",
    "        return cls\n",
    "    \n",
    "    @classmethod\n",
    "    def new_setting(cls,*settings):\n",
    "        cls.settings+=list(settings)\n",
    "    \n",
    "    def make_stuff(self,name):\n",
    "        new_stuff = Stuff(name)\n",
    "        setattr(self.core,name,new_stuff)\n",
    "        setattr(self,name,new_stuff)\n",
    "    \n",
    "    def __repr__(self,):\n",
    "        return f\"LoopStack>:{self.name}\\n\\t\"+\\\n",
    "            \"\\n\\t\".join(map(str,self.core.layers[:-1]))"
   ]
  },
  {
   "cell_type": "code",
   "execution_count": 10,
   "metadata": {},
   "outputs": [],
   "source": [
    "TRAIN_EVENTS = [\"DATA_PROCESS\",\"FORWARD\",\"LOSS_CALC\",\n",
    "                \"BACKWARD\",\"OPT_STEP\",\"METRICS\"]\n",
    "EVAL_EVENTS = [\"DATA_PROCESS\",\"EVAL_WRAP\",\"FORWARD\",\"LOSS_CALC\",\"METRICS\"]"
   ]
  },
  {
   "cell_type": "code",
   "execution_count": 72,
   "metadata": {},
   "outputs": [],
   "source": [
    "# export \n",
    "import torch\n",
    "\n",
    "def train_callbacks(loop):\n",
    "    @loop.on_DATA_PROCESS\n",
    "    def opt_zero_grad(loop):\n",
    "        loop.opt(\"zero_grad\")\n",
    "        \n",
    "    @loop.before_1st_FORWARD\n",
    "    def switch_model_to_train(loop):\n",
    "        loop.model(\"train\")\n",
    "        \n",
    "    @loop.BACKWARD.on\n",
    "    def opt_step(loop):\n",
    "        loop.loss(\"backward\")\n",
    "            \n",
    "    @loop.BACKWARD.on\n",
    "    def opt_step(loop):\n",
    "        loop.opt(\"step\")\n",
    "        \n",
    "def to_tensor(x):\n",
    "    return torch.Tensor(x)\n",
    "        \n",
    "def train_single_forward(metric_func = []):\n",
    "    def train_single_forward_cb(loop):\n",
    "        @loop.on_DATA_PROCESS\n",
    "        def set_xy(loop):\n",
    "            loop.x[\"x1\"],loop.y[\"y1\"] = loop.element\n",
    "            loop.x.update(to_tensor)\n",
    "            loop.y.update(to_tensor)\n",
    "            \n",
    "        @loop.on_FORWARD\n",
    "        def forward_pass(loop):\n",
    "            loop.core.pred = loop.model(\"__call__\",loop.x.x1)[0]\n",
    "            \n",
    "        @loop.on_LOSS_CALC\n",
    "        def calculate_loss(loop):\n",
    "            loop.loss[\"latest\"] = loop.loss_func(\"__call__\",loop.pred,loop.y.y1)\n",
    "            \n",
    "        @loop.on_METRICS\n",
    "        def calcualte_metrics(loop):\n",
    "            # calculate metrics\n",
    "            with torch.no_grad():\n",
    "                for func in metric_func:\n",
    "                    loop.metric[func.__name__] = func(loop.pred,loop.y)\n",
    "                    \n",
    "            # loop through metrics\n",
    "            loop.pgbar_data(loop.metric.cases)\n",
    "            \n",
    "    return train_single_forward_cb\n",
    "    \n",
    "class TrainLoop(LoopStack):\n",
    "    def __init__(self,data_iter,model=[],opt=[],loss_func=[],loss=[],hp=[],cuda=[], \n",
    "                 callbacks = [train_callbacks,],tolerate=True):\n",
    "        loops = [ProgressBar,]\n",
    "        if tolerate:\n",
    "            loops.append(Tolerate)\n",
    "        loops+=list(events(*TRAIN_EVENTS))\n",
    "        self.from_loops(*loops)\n",
    "        self.new_setting(\"model\",\"x\",\"y\",\n",
    "                         \"opt\",\"loss_func\",\"loss\",\n",
    "                         \"hp\",\"cuda\",\"metric_func\",\"metric\")\n",
    "        self.init(data_iter,)\n",
    "        for cb in callbacks:\n",
    "            print(f\"assigning callback {cb}\")\n",
    "            cb(self)\n",
    "        \n",
    "class EvalLoop(LoopStack):\n",
    "    def __init__(self,data_iter,tolerate=True):\n",
    "        loops = [ProgressBar,]\n",
    "        if tolerate:\n",
    "            loops.append(Tolerate)\n",
    "        loops+=list(events(*EVAL_EVENTS))\n",
    "        self.from_loops(*loops)\n",
    "        self.new_setting(\"model\",\"opt\",\"loss\",\"hp\",\"cuda\")\n",
    "        self.__init__(data_iter,)\n",
    "        \n",
    "        @self.EVAL_FORWARD.downstream\n",
    "        def torch_eval_wrap(self,func):\n",
    "            with torch.no_grad():\n",
    "                func()"
   ]
  },
  {
   "cell_type": "code",
   "execution_count": 73,
   "metadata": {},
   "outputs": [
    {
     "name": "stdout",
     "output_type": "stream",
     "text": [
      "assigning callback <function train_callbacks at 0x1a28d47950>\n",
      "assigning callback <function train_single_forward.<locals>.train_single_forward_cb at 0x1a28d5c5f0>\n"
     ]
    },
    {
     "data": {
      "text/plain": [
       "LoopStack>:TrainLoop\n",
       "\tlayer🍰Loop\n",
       "\tlayer🍰ProgressBar\n",
       "\tevent🌏DATA_PROCESS\n",
       "\tevent🌏FORWARD\n",
       "\tevent🌏LOSS_CALC\n",
       "\tevent🌏BACKWARD\n",
       "\tevent🌏OPT_STEP\n",
       "\tevent🌏METRICS"
      ]
     },
     "execution_count": 73,
     "metadata": {},
     "output_type": "execute_result"
    }
   ],
   "source": [
    "from torch import nn\n",
    "loop = TrainLoop(list(zip(chunkify(x_normed),chunkify(y_normed))),\n",
    "                 tolerate=False,\n",
    "                 callbacks=[train_callbacks,train_single_forward([nn.MSELoss()])])\n",
    "loop"
   ]
  },
  {
   "cell_type": "code",
   "execution_count": 74,
   "metadata": {},
   "outputs": [
    {
     "data": {
      "application/vnd.jupyter.widget-view+json": {
       "model_id": "d11d7b55d322472d8176267690598636",
       "version_major": 2,
       "version_minor": 0
      },
      "text/plain": [
       "interactive(children=(Text(value='', description='KeyWord'), Output()), _dom_classes=('widget-interact',))"
      ]
     },
     "metadata": {},
     "output_type": "display_data"
    }
   ],
   "source": [
    "loop.search()"
   ]
  },
  {
   "cell_type": "code",
   "execution_count": 75,
   "metadata": {
    "scrolled": false
   },
   "outputs": [
    {
     "name": "stdout",
     "output_type": "stream",
     "text": [
      "Loop layer TrainLoop summary:\n",
      "==================================================\n",
      "🍰layer0.0\tlayer🍰Loop\n",
      "--------------------------------------------------\n",
      "🍰layer1.0\tlayer🍰ProgressBar\n",
      "\t[🐍func_name]\tpgbar_data\n",
      "\t[⛰doc]\t\n",
      "        update progress bar with python dictionary\n",
      "        data: python dictionary\n",
      "        \n",
      "\t[😝var]\tself,data\n",
      "\t[😜names]\tt,set_postfix\n",
      "\t...................................\n",
      "\t[🐍func_name]\tpgbar_description\n",
      "\t[⛰doc]\t\n",
      "        update progress bar prefix with text string\n",
      "        \n",
      "\t[😝var]\tself,text\n",
      "\t[😜names]\tt,set_description_str\n",
      "\t...................................\n",
      "--------------------------------------------------\n",
      "🍰layer2.0\tevent🌏DATA_PROCESS\n",
      "\t[🐍func_name]\tafter_last_DATA_PROCESS\n",
      "\t[⛰doc]\t\n",
      "            Append new after_last callback for event:DATA_PROCESS\n",
      "            Use this function as decorator\n",
      "        \n",
      "\t[😝var]\tcls,f\n",
      "\t[😜names]\tgetattr\n",
      "\t...................................\n",
      "\t[🐍func_name]\tbefore_1st_DATA_PROCESS\n",
      "\t[⛰doc]\t\n",
      "            Append new before_1st callback for event:DATA_PROCESS\n",
      "            Use this function as decorator\n",
      "        \n",
      "\t[😝var]\tcls,f\n",
      "\t[😜names]\tgetattr\n",
      "\t...................................\n",
      "\t[🐍func_name]\ton_DATA_PROCESS\n",
      "\t[⛰doc]\t\n",
      "            Append new on callback for event:DATA_PROCESS\n",
      "            Use this function as decorator\n",
      "        \n",
      "\t[😝var]\tcls,f\n",
      "\t[😜names]\tgetattr\n",
      "\t...................................\n",
      "--------------------------------------------------\n",
      "🍰layer3.0\tevent🌏FORWARD\n",
      "\t[🐍func_name]\tafter_last_FORWARD\n",
      "\t[⛰doc]\t\n",
      "            Append new after_last callback for event:FORWARD\n",
      "            Use this function as decorator\n",
      "        \n",
      "\t[😝var]\tcls,f\n",
      "\t[😜names]\tgetattr\n",
      "\t...................................\n",
      "\t[🐍func_name]\tbefore_1st_FORWARD\n",
      "\t[⛰doc]\t\n",
      "            Append new before_1st callback for event:FORWARD\n",
      "            Use this function as decorator\n",
      "        \n",
      "\t[😝var]\tcls,f\n",
      "\t[😜names]\tgetattr\n",
      "\t...................................\n",
      "\t[🐍func_name]\ton_FORWARD\n",
      "\t[⛰doc]\t\n",
      "            Append new on callback for event:FORWARD\n",
      "            Use this function as decorator\n",
      "        \n",
      "\t[😝var]\tcls,f\n",
      "\t[😜names]\tgetattr\n",
      "\t...................................\n",
      "--------------------------------------------------\n",
      "🍰layer4.0\tevent🌏LOSS_CALC\n",
      "\t[🐍func_name]\tafter_last_LOSS_CALC\n",
      "\t[⛰doc]\t\n",
      "            Append new after_last callback for event:LOSS_CALC\n",
      "            Use this function as decorator\n",
      "        \n",
      "\t[😝var]\tcls,f\n",
      "\t[😜names]\tgetattr\n",
      "\t...................................\n",
      "\t[🐍func_name]\tbefore_1st_LOSS_CALC\n",
      "\t[⛰doc]\t\n",
      "            Append new before_1st callback for event:LOSS_CALC\n",
      "            Use this function as decorator\n",
      "        \n",
      "\t[😝var]\tcls,f\n",
      "\t[😜names]\tgetattr\n",
      "\t...................................\n",
      "\t[🐍func_name]\ton_LOSS_CALC\n",
      "\t[⛰doc]\t\n",
      "            Append new on callback for event:LOSS_CALC\n",
      "            Use this function as decorator\n",
      "        \n",
      "\t[😝var]\tcls,f\n",
      "\t[😜names]\tgetattr\n",
      "\t...................................\n",
      "--------------------------------------------------\n",
      "🍰layer5.0\tevent🌏BACKWARD\n",
      "\t[🐍func_name]\tafter_last_BACKWARD\n",
      "\t[⛰doc]\t\n",
      "            Append new after_last callback for event:BACKWARD\n",
      "            Use this function as decorator\n",
      "        \n",
      "\t[😝var]\tcls,f\n",
      "\t[😜names]\tgetattr\n",
      "\t...................................\n",
      "\t[🐍func_name]\tbefore_1st_BACKWARD\n",
      "\t[⛰doc]\t\n",
      "            Append new before_1st callback for event:BACKWARD\n",
      "            Use this function as decorator\n",
      "        \n",
      "\t[😝var]\tcls,f\n",
      "\t[😜names]\tgetattr\n",
      "\t...................................\n",
      "\t[🐍func_name]\ton_BACKWARD\n",
      "\t[⛰doc]\t\n",
      "            Append new on callback for event:BACKWARD\n",
      "            Use this function as decorator\n",
      "        \n",
      "\t[😝var]\tcls,f\n",
      "\t[😜names]\tgetattr\n",
      "\t...................................\n",
      "--------------------------------------------------\n",
      "🍰layer6.0\tevent🌏OPT_STEP\n",
      "\t[🐍func_name]\tafter_last_OPT_STEP\n",
      "\t[⛰doc]\t\n",
      "            Append new after_last callback for event:OPT_STEP\n",
      "            Use this function as decorator\n",
      "        \n",
      "\t[😝var]\tcls,f\n",
      "\t[😜names]\tgetattr\n",
      "\t...................................\n",
      "\t[🐍func_name]\tbefore_1st_OPT_STEP\n",
      "\t[⛰doc]\t\n",
      "            Append new before_1st callback for event:OPT_STEP\n",
      "            Use this function as decorator\n",
      "        \n",
      "\t[😝var]\tcls,f\n",
      "\t[😜names]\tgetattr\n",
      "\t...................................\n",
      "\t[🐍func_name]\ton_OPT_STEP\n",
      "\t[⛰doc]\t\n",
      "            Append new on callback for event:OPT_STEP\n",
      "            Use this function as decorator\n",
      "        \n",
      "\t[😝var]\tcls,f\n",
      "\t[😜names]\tgetattr\n",
      "\t...................................\n",
      "--------------------------------------------------\n",
      "🍰layer7.0\tevent🌏METRICS\n",
      "\t[🐍func_name]\tafter_last_METRICS\n",
      "\t[⛰doc]\t\n",
      "            Append new after_last callback for event:METRICS\n",
      "            Use this function as decorator\n",
      "        \n",
      "\t[😝var]\tcls,f\n",
      "\t[😜names]\tgetattr\n",
      "\t...................................\n",
      "\t[🐍func_name]\tbefore_1st_METRICS\n",
      "\t[⛰doc]\t\n",
      "            Append new before_1st callback for event:METRICS\n",
      "            Use this function as decorator\n",
      "        \n",
      "\t[😝var]\tcls,f\n",
      "\t[😜names]\tgetattr\n",
      "\t...................................\n",
      "\t[🐍func_name]\ton_METRICS\n",
      "\t[⛰doc]\t\n",
      "            Append new on callback for event:METRICS\n",
      "            Use this function as decorator\n",
      "        \n",
      "\t[😝var]\tcls,f\n",
      "\t[😜names]\tgetattr\n",
      "\t...................................\n",
      "--------------------------------------------------\n",
      "🍰layer8.0\tLoopStack>:TrainLoop\n",
      "\tlayer🍰Loop\n",
      "\tlayer🍰ProgressBar\n",
      "\tevent🌏DATA_PROCESS\n",
      "\tevent🌏FORWARD\n",
      "\tevent🌏LOSS_CALC\n",
      "\tevent🌏BACKWARD\n",
      "\tevent🌏OPT_STEP\n",
      "\tevent🌏METRICS\n",
      "--------------------------------------------------\n",
      "==================================================\n",
      "\n"
     ]
    }
   ],
   "source": [
    "loop.summary()"
   ]
  },
  {
   "cell_type": "code",
   "execution_count": 76,
   "metadata": {},
   "outputs": [],
   "source": [
    "from torch import nn"
   ]
  },
  {
   "cell_type": "code",
   "execution_count": 77,
   "metadata": {},
   "outputs": [],
   "source": [
    "loop.model[\"baseline\"] = torch.nn.Linear(8,1)"
   ]
  },
  {
   "cell_type": "code",
   "execution_count": 78,
   "metadata": {},
   "outputs": [],
   "source": [
    "# loop.loss_func[\"mse\"] = torch.nn.MSELoss()\n",
    "# loop.metric_func[\"loss\"]= torch.nn.MSELoss()"
   ]
  },
  {
   "cell_type": "code",
   "execution_count": 79,
   "metadata": {},
   "outputs": [
    {
     "data": {
      "application/vnd.jupyter.widget-view+json": {
       "model_id": "9c12385e9b78441199cd239c29f630a9",
       "version_major": 2,
       "version_minor": 0
      },
      "text/plain": [
       "HBox(children=(IntProgress(value=0, max=645), HTML(value='')))"
      ]
     },
     "metadata": {},
     "output_type": "display_data"
    },
    {
     "ename": "AttributeError",
     "evalue": "'list' object has no attribute 'backward'",
     "output_type": "error",
     "traceback": [
      "\u001b[0;31m---------------------------------------------------------------------------\u001b[0m",
      "\u001b[0;31mAttributeError\u001b[0m                            Traceback (most recent call last)",
      "\u001b[0;32m<ipython-input-79-bc3c14747a31>\u001b[0m in \u001b[0;36m<module>\u001b[0;34m\u001b[0m\n\u001b[0;32m----> 1\u001b[0;31m \u001b[0mloop\u001b[0m\u001b[0;34m.\u001b[0m\u001b[0mrun\u001b[0m\u001b[0;34m(\u001b[0m\u001b[0;34m)\u001b[0m\u001b[0;34m\u001b[0m\u001b[0;34m\u001b[0m\u001b[0m\n\u001b[0m",
      "\u001b[0;32m~/github/forgebox/forgebox/loop.py\u001b[0m in \u001b[0;36mrun\u001b[0;34m(self)\u001b[0m\n\u001b[1;32m    196\u001b[0m         \u001b[0mself\u001b[0m\u001b[0;34m.\u001b[0m\u001b[0mrefresh_i\u001b[0m\u001b[0;34m(\u001b[0m\u001b[0;34m)\u001b[0m\u001b[0;34m\u001b[0m\u001b[0;34m\u001b[0m\u001b[0m\n\u001b[1;32m    197\u001b[0m         \u001b[0mfirst\u001b[0m\u001b[0;34m.\u001b[0m\u001b[0mstart_callon\u001b[0m\u001b[0;34m(\u001b[0m\u001b[0;34m)\u001b[0m\u001b[0;34m\u001b[0m\u001b[0;34m\u001b[0m\u001b[0m\n\u001b[0;32m--> 198\u001b[0;31m         \u001b[0;32mfor\u001b[0m \u001b[0melement\u001b[0m \u001b[0;32min\u001b[0m \u001b[0mfirst\u001b[0m\u001b[0;34m:\u001b[0m\u001b[0;34m\u001b[0m\u001b[0;34m\u001b[0m\u001b[0m\n\u001b[0m\u001b[1;32m    199\u001b[0m             \u001b[0mfirst\u001b[0m\u001b[0;34m(\u001b[0m\u001b[0;34m)\u001b[0m\u001b[0;34m\u001b[0m\u001b[0;34m\u001b[0m\u001b[0m\n\u001b[1;32m    200\u001b[0m         \u001b[0mfirst\u001b[0m\u001b[0;34m.\u001b[0m\u001b[0mend_callon\u001b[0m\u001b[0;34m(\u001b[0m\u001b[0;34m)\u001b[0m\u001b[0;34m\u001b[0m\u001b[0;34m\u001b[0m\u001b[0m\n",
      "\u001b[0;32m~/github/forgebox/forgebox/loop.py\u001b[0m in \u001b[0;36m__iter__\u001b[0;34m(self)\u001b[0m\n\u001b[1;32m    308\u001b[0m                 \u001b[0mself\u001b[0m\u001b[0;34m.\u001b[0m\u001b[0mupdate_i\u001b[0m\u001b[0;34m(\u001b[0m\u001b[0;34m)\u001b[0m\u001b[0;34m\u001b[0m\u001b[0;34m\u001b[0m\u001b[0m\n\u001b[1;32m    309\u001b[0m             \u001b[0mself\u001b[0m\u001b[0;34m.\u001b[0m\u001b[0mcore\u001b[0m\u001b[0;34m.\u001b[0m\u001b[0melement\u001b[0m \u001b[0;34m=\u001b[0m \u001b[0melement\u001b[0m\u001b[0;34m\u001b[0m\u001b[0;34m\u001b[0m\u001b[0m\n\u001b[0;32m--> 310\u001b[0;31m             \u001b[0mself\u001b[0m\u001b[0;34m.\u001b[0m\u001b[0mcallon\u001b[0m\u001b[0;34m(\u001b[0m\u001b[0;34m)\u001b[0m\u001b[0;34m\u001b[0m\u001b[0;34m\u001b[0m\u001b[0m\n\u001b[0m\u001b[1;32m    311\u001b[0m             \u001b[0;32myield\u001b[0m \u001b[0mself\u001b[0m\u001b[0;34m.\u001b[0m\u001b[0melement\u001b[0m\u001b[0;34m\u001b[0m\u001b[0;34m\u001b[0m\u001b[0m\n\u001b[1;32m    312\u001b[0m \u001b[0;34m\u001b[0m\u001b[0m\n",
      "\u001b[0;32m~/github/forgebox/forgebox/loop.py\u001b[0m in \u001b[0;36mcallon\u001b[0;34m(self)\u001b[0m\n\u001b[1;32m    262\u001b[0m     \u001b[0;32mdef\u001b[0m \u001b[0mcallon\u001b[0m\u001b[0;34m(\u001b[0m\u001b[0mself\u001b[0m\u001b[0;34m)\u001b[0m\u001b[0;34m:\u001b[0m\u001b[0;34m\u001b[0m\u001b[0;34m\u001b[0m\u001b[0m\n\u001b[1;32m    263\u001b[0m         \u001b[0mself\u001b[0m\u001b[0;34m(\u001b[0m\u001b[0;34m)\u001b[0m\u001b[0;34m\u001b[0m\u001b[0;34m\u001b[0m\u001b[0m\n\u001b[0;32m--> 264\u001b[0;31m         \u001b[0mself\u001b[0m\u001b[0;34m.\u001b[0m\u001b[0mdownstream_wrap\u001b[0m\u001b[0;34m(\u001b[0m\u001b[0mself\u001b[0m\u001b[0;34m.\u001b[0m\u001b[0miter_cb\u001b[0m\u001b[0;34m)\u001b[0m\u001b[0;34m\u001b[0m\u001b[0;34m\u001b[0m\u001b[0m\n\u001b[0m\u001b[1;32m    265\u001b[0m \u001b[0;34m\u001b[0m\u001b[0m\n\u001b[1;32m    266\u001b[0m     \u001b[0;32mdef\u001b[0m \u001b[0mstart_callon\u001b[0m\u001b[0;34m(\u001b[0m\u001b[0mself\u001b[0m\u001b[0;34m)\u001b[0m\u001b[0;34m:\u001b[0m\u001b[0;34m\u001b[0m\u001b[0;34m\u001b[0m\u001b[0m\n",
      "\u001b[0;32m~/github/forgebox/forgebox/loop.py\u001b[0m in \u001b[0;36mdownstream_wrap\u001b[0;34m(self, f)\u001b[0m\n\u001b[1;32m    208\u001b[0m \u001b[0;34m\u001b[0m\u001b[0m\n\u001b[1;32m    209\u001b[0m     \u001b[0;32mdef\u001b[0m \u001b[0mdownstream_wrap\u001b[0m\u001b[0;34m(\u001b[0m\u001b[0mself\u001b[0m\u001b[0;34m,\u001b[0m\u001b[0mf\u001b[0m\u001b[0;34m)\u001b[0m\u001b[0;34m:\u001b[0m\u001b[0;34m\u001b[0m\u001b[0;34m\u001b[0m\u001b[0m\n\u001b[0;32m--> 210\u001b[0;31m         \u001b[0;32mreturn\u001b[0m \u001b[0mf\u001b[0m\u001b[0;34m(\u001b[0m\u001b[0;34m)\u001b[0m\u001b[0;34m\u001b[0m\u001b[0;34m\u001b[0m\u001b[0m\n\u001b[0m\u001b[1;32m    211\u001b[0m \u001b[0;34m\u001b[0m\u001b[0m\n\u001b[1;32m    212\u001b[0m     \u001b[0;32mdef\u001b[0m \u001b[0mdownstream_start_wrap\u001b[0m\u001b[0;34m(\u001b[0m\u001b[0mself\u001b[0m\u001b[0;34m,\u001b[0m\u001b[0mf\u001b[0m\u001b[0;34m)\u001b[0m\u001b[0;34m:\u001b[0m\u001b[0;34m\u001b[0m\u001b[0;34m\u001b[0m\u001b[0m\n",
      "\u001b[0;32m~/github/forgebox/forgebox/loop.py\u001b[0m in \u001b[0;36miter_cb\u001b[0;34m(self)\u001b[0m\n\u001b[1;32m    277\u001b[0m         \"\"\"\n\u001b[1;32m    278\u001b[0m         \u001b[0;32mif\u001b[0m \u001b[0mself\u001b[0m\u001b[0;34m.\u001b[0m\u001b[0mnext_layer\u001b[0m\u001b[0;34m!=\u001b[0m\u001b[0;32mNone\u001b[0m\u001b[0;34m:\u001b[0m\u001b[0;34m\u001b[0m\u001b[0;34m\u001b[0m\u001b[0m\n\u001b[0;32m--> 279\u001b[0;31m             \u001b[0mself\u001b[0m\u001b[0;34m.\u001b[0m\u001b[0mnext_layer\u001b[0m\u001b[0;34m.\u001b[0m\u001b[0mcallon\u001b[0m\u001b[0;34m(\u001b[0m\u001b[0;34m)\u001b[0m\u001b[0;34m\u001b[0m\u001b[0;34m\u001b[0m\u001b[0m\n\u001b[0m\u001b[1;32m    280\u001b[0m         \u001b[0mself\u001b[0m\u001b[0;34m.\u001b[0m\u001b[0mafter\u001b[0m\u001b[0;34m(\u001b[0m\u001b[0;34m)\u001b[0m\u001b[0;34m\u001b[0m\u001b[0;34m\u001b[0m\u001b[0m\n\u001b[1;32m    281\u001b[0m \u001b[0;34m\u001b[0m\u001b[0m\n",
      "\u001b[0;32m~/github/forgebox/forgebox/loop.py\u001b[0m in \u001b[0;36mcallon\u001b[0;34m(self)\u001b[0m\n\u001b[1;32m    262\u001b[0m     \u001b[0;32mdef\u001b[0m \u001b[0mcallon\u001b[0m\u001b[0;34m(\u001b[0m\u001b[0mself\u001b[0m\u001b[0;34m)\u001b[0m\u001b[0;34m:\u001b[0m\u001b[0;34m\u001b[0m\u001b[0;34m\u001b[0m\u001b[0m\n\u001b[1;32m    263\u001b[0m         \u001b[0mself\u001b[0m\u001b[0;34m(\u001b[0m\u001b[0;34m)\u001b[0m\u001b[0;34m\u001b[0m\u001b[0;34m\u001b[0m\u001b[0m\n\u001b[0;32m--> 264\u001b[0;31m         \u001b[0mself\u001b[0m\u001b[0;34m.\u001b[0m\u001b[0mdownstream_wrap\u001b[0m\u001b[0;34m(\u001b[0m\u001b[0mself\u001b[0m\u001b[0;34m.\u001b[0m\u001b[0miter_cb\u001b[0m\u001b[0;34m)\u001b[0m\u001b[0;34m\u001b[0m\u001b[0;34m\u001b[0m\u001b[0m\n\u001b[0m\u001b[1;32m    265\u001b[0m \u001b[0;34m\u001b[0m\u001b[0m\n\u001b[1;32m    266\u001b[0m     \u001b[0;32mdef\u001b[0m \u001b[0mstart_callon\u001b[0m\u001b[0;34m(\u001b[0m\u001b[0mself\u001b[0m\u001b[0;34m)\u001b[0m\u001b[0;34m:\u001b[0m\u001b[0;34m\u001b[0m\u001b[0;34m\u001b[0m\u001b[0m\n",
      "\u001b[0;32m~/github/forgebox/forgebox/loop.py\u001b[0m in \u001b[0;36mdownstream_wrap\u001b[0;34m(self, f)\u001b[0m\n\u001b[1;32m    208\u001b[0m \u001b[0;34m\u001b[0m\u001b[0m\n\u001b[1;32m    209\u001b[0m     \u001b[0;32mdef\u001b[0m \u001b[0mdownstream_wrap\u001b[0m\u001b[0;34m(\u001b[0m\u001b[0mself\u001b[0m\u001b[0;34m,\u001b[0m\u001b[0mf\u001b[0m\u001b[0;34m)\u001b[0m\u001b[0;34m:\u001b[0m\u001b[0;34m\u001b[0m\u001b[0;34m\u001b[0m\u001b[0m\n\u001b[0;32m--> 210\u001b[0;31m         \u001b[0;32mreturn\u001b[0m \u001b[0mf\u001b[0m\u001b[0;34m(\u001b[0m\u001b[0;34m)\u001b[0m\u001b[0;34m\u001b[0m\u001b[0;34m\u001b[0m\u001b[0m\n\u001b[0m\u001b[1;32m    211\u001b[0m \u001b[0;34m\u001b[0m\u001b[0m\n\u001b[1;32m    212\u001b[0m     \u001b[0;32mdef\u001b[0m \u001b[0mdownstream_start_wrap\u001b[0m\u001b[0;34m(\u001b[0m\u001b[0mself\u001b[0m\u001b[0;34m,\u001b[0m\u001b[0mf\u001b[0m\u001b[0;34m)\u001b[0m\u001b[0;34m:\u001b[0m\u001b[0;34m\u001b[0m\u001b[0;34m\u001b[0m\u001b[0m\n",
      "\u001b[0;32m~/github/forgebox/forgebox/loop.py\u001b[0m in \u001b[0;36miter_cb\u001b[0;34m(self)\u001b[0m\n\u001b[1;32m    277\u001b[0m         \"\"\"\n\u001b[1;32m    278\u001b[0m         \u001b[0;32mif\u001b[0m \u001b[0mself\u001b[0m\u001b[0;34m.\u001b[0m\u001b[0mnext_layer\u001b[0m\u001b[0;34m!=\u001b[0m\u001b[0;32mNone\u001b[0m\u001b[0;34m:\u001b[0m\u001b[0;34m\u001b[0m\u001b[0;34m\u001b[0m\u001b[0m\n\u001b[0;32m--> 279\u001b[0;31m             \u001b[0mself\u001b[0m\u001b[0;34m.\u001b[0m\u001b[0mnext_layer\u001b[0m\u001b[0;34m.\u001b[0m\u001b[0mcallon\u001b[0m\u001b[0;34m(\u001b[0m\u001b[0;34m)\u001b[0m\u001b[0;34m\u001b[0m\u001b[0;34m\u001b[0m\u001b[0m\n\u001b[0m\u001b[1;32m    280\u001b[0m         \u001b[0mself\u001b[0m\u001b[0;34m.\u001b[0m\u001b[0mafter\u001b[0m\u001b[0;34m(\u001b[0m\u001b[0;34m)\u001b[0m\u001b[0;34m\u001b[0m\u001b[0;34m\u001b[0m\u001b[0m\n\u001b[1;32m    281\u001b[0m \u001b[0;34m\u001b[0m\u001b[0m\n",
      "\u001b[0;32m~/github/forgebox/forgebox/loop.py\u001b[0m in \u001b[0;36mcallon\u001b[0;34m(self)\u001b[0m\n\u001b[1;32m    262\u001b[0m     \u001b[0;32mdef\u001b[0m \u001b[0mcallon\u001b[0m\u001b[0;34m(\u001b[0m\u001b[0mself\u001b[0m\u001b[0;34m)\u001b[0m\u001b[0;34m:\u001b[0m\u001b[0;34m\u001b[0m\u001b[0;34m\u001b[0m\u001b[0m\n\u001b[1;32m    263\u001b[0m         \u001b[0mself\u001b[0m\u001b[0;34m(\u001b[0m\u001b[0;34m)\u001b[0m\u001b[0;34m\u001b[0m\u001b[0;34m\u001b[0m\u001b[0m\n\u001b[0;32m--> 264\u001b[0;31m         \u001b[0mself\u001b[0m\u001b[0;34m.\u001b[0m\u001b[0mdownstream_wrap\u001b[0m\u001b[0;34m(\u001b[0m\u001b[0mself\u001b[0m\u001b[0;34m.\u001b[0m\u001b[0miter_cb\u001b[0m\u001b[0;34m)\u001b[0m\u001b[0;34m\u001b[0m\u001b[0;34m\u001b[0m\u001b[0m\n\u001b[0m\u001b[1;32m    265\u001b[0m \u001b[0;34m\u001b[0m\u001b[0m\n\u001b[1;32m    266\u001b[0m     \u001b[0;32mdef\u001b[0m \u001b[0mstart_callon\u001b[0m\u001b[0;34m(\u001b[0m\u001b[0mself\u001b[0m\u001b[0;34m)\u001b[0m\u001b[0;34m:\u001b[0m\u001b[0;34m\u001b[0m\u001b[0;34m\u001b[0m\u001b[0m\n",
      "\u001b[0;32m~/github/forgebox/forgebox/loop.py\u001b[0m in \u001b[0;36mdownstream_wrap\u001b[0;34m(self, f)\u001b[0m\n\u001b[1;32m    208\u001b[0m \u001b[0;34m\u001b[0m\u001b[0m\n\u001b[1;32m    209\u001b[0m     \u001b[0;32mdef\u001b[0m \u001b[0mdownstream_wrap\u001b[0m\u001b[0;34m(\u001b[0m\u001b[0mself\u001b[0m\u001b[0;34m,\u001b[0m\u001b[0mf\u001b[0m\u001b[0;34m)\u001b[0m\u001b[0;34m:\u001b[0m\u001b[0;34m\u001b[0m\u001b[0;34m\u001b[0m\u001b[0m\n\u001b[0;32m--> 210\u001b[0;31m         \u001b[0;32mreturn\u001b[0m \u001b[0mf\u001b[0m\u001b[0;34m(\u001b[0m\u001b[0;34m)\u001b[0m\u001b[0;34m\u001b[0m\u001b[0;34m\u001b[0m\u001b[0m\n\u001b[0m\u001b[1;32m    211\u001b[0m \u001b[0;34m\u001b[0m\u001b[0m\n\u001b[1;32m    212\u001b[0m     \u001b[0;32mdef\u001b[0m \u001b[0mdownstream_start_wrap\u001b[0m\u001b[0;34m(\u001b[0m\u001b[0mself\u001b[0m\u001b[0;34m,\u001b[0m\u001b[0mf\u001b[0m\u001b[0;34m)\u001b[0m\u001b[0;34m:\u001b[0m\u001b[0;34m\u001b[0m\u001b[0;34m\u001b[0m\u001b[0m\n",
      "\u001b[0;32m~/github/forgebox/forgebox/loop.py\u001b[0m in \u001b[0;36miter_cb\u001b[0;34m(self)\u001b[0m\n\u001b[1;32m    277\u001b[0m         \"\"\"\n\u001b[1;32m    278\u001b[0m         \u001b[0;32mif\u001b[0m \u001b[0mself\u001b[0m\u001b[0;34m.\u001b[0m\u001b[0mnext_layer\u001b[0m\u001b[0;34m!=\u001b[0m\u001b[0;32mNone\u001b[0m\u001b[0;34m:\u001b[0m\u001b[0;34m\u001b[0m\u001b[0;34m\u001b[0m\u001b[0m\n\u001b[0;32m--> 279\u001b[0;31m             \u001b[0mself\u001b[0m\u001b[0;34m.\u001b[0m\u001b[0mnext_layer\u001b[0m\u001b[0;34m.\u001b[0m\u001b[0mcallon\u001b[0m\u001b[0;34m(\u001b[0m\u001b[0;34m)\u001b[0m\u001b[0;34m\u001b[0m\u001b[0;34m\u001b[0m\u001b[0m\n\u001b[0m\u001b[1;32m    280\u001b[0m         \u001b[0mself\u001b[0m\u001b[0;34m.\u001b[0m\u001b[0mafter\u001b[0m\u001b[0;34m(\u001b[0m\u001b[0;34m)\u001b[0m\u001b[0;34m\u001b[0m\u001b[0;34m\u001b[0m\u001b[0m\n\u001b[1;32m    281\u001b[0m \u001b[0;34m\u001b[0m\u001b[0m\n",
      "\u001b[0;32m~/github/forgebox/forgebox/loop.py\u001b[0m in \u001b[0;36mcallon\u001b[0;34m(self)\u001b[0m\n\u001b[1;32m    262\u001b[0m     \u001b[0;32mdef\u001b[0m \u001b[0mcallon\u001b[0m\u001b[0;34m(\u001b[0m\u001b[0mself\u001b[0m\u001b[0;34m)\u001b[0m\u001b[0;34m:\u001b[0m\u001b[0;34m\u001b[0m\u001b[0;34m\u001b[0m\u001b[0m\n\u001b[1;32m    263\u001b[0m         \u001b[0mself\u001b[0m\u001b[0;34m(\u001b[0m\u001b[0;34m)\u001b[0m\u001b[0;34m\u001b[0m\u001b[0;34m\u001b[0m\u001b[0m\n\u001b[0;32m--> 264\u001b[0;31m         \u001b[0mself\u001b[0m\u001b[0;34m.\u001b[0m\u001b[0mdownstream_wrap\u001b[0m\u001b[0;34m(\u001b[0m\u001b[0mself\u001b[0m\u001b[0;34m.\u001b[0m\u001b[0miter_cb\u001b[0m\u001b[0;34m)\u001b[0m\u001b[0;34m\u001b[0m\u001b[0;34m\u001b[0m\u001b[0m\n\u001b[0m\u001b[1;32m    265\u001b[0m \u001b[0;34m\u001b[0m\u001b[0m\n\u001b[1;32m    266\u001b[0m     \u001b[0;32mdef\u001b[0m \u001b[0mstart_callon\u001b[0m\u001b[0;34m(\u001b[0m\u001b[0mself\u001b[0m\u001b[0;34m)\u001b[0m\u001b[0;34m:\u001b[0m\u001b[0;34m\u001b[0m\u001b[0;34m\u001b[0m\u001b[0m\n",
      "\u001b[0;32m~/github/forgebox/forgebox/loop.py\u001b[0m in \u001b[0;36mdownstream_wrap\u001b[0;34m(self, f)\u001b[0m\n\u001b[1;32m    208\u001b[0m \u001b[0;34m\u001b[0m\u001b[0m\n\u001b[1;32m    209\u001b[0m     \u001b[0;32mdef\u001b[0m \u001b[0mdownstream_wrap\u001b[0m\u001b[0;34m(\u001b[0m\u001b[0mself\u001b[0m\u001b[0;34m,\u001b[0m\u001b[0mf\u001b[0m\u001b[0;34m)\u001b[0m\u001b[0;34m:\u001b[0m\u001b[0;34m\u001b[0m\u001b[0;34m\u001b[0m\u001b[0m\n\u001b[0;32m--> 210\u001b[0;31m         \u001b[0;32mreturn\u001b[0m \u001b[0mf\u001b[0m\u001b[0;34m(\u001b[0m\u001b[0;34m)\u001b[0m\u001b[0;34m\u001b[0m\u001b[0;34m\u001b[0m\u001b[0m\n\u001b[0m\u001b[1;32m    211\u001b[0m \u001b[0;34m\u001b[0m\u001b[0m\n\u001b[1;32m    212\u001b[0m     \u001b[0;32mdef\u001b[0m \u001b[0mdownstream_start_wrap\u001b[0m\u001b[0;34m(\u001b[0m\u001b[0mself\u001b[0m\u001b[0;34m,\u001b[0m\u001b[0mf\u001b[0m\u001b[0;34m)\u001b[0m\u001b[0;34m:\u001b[0m\u001b[0;34m\u001b[0m\u001b[0;34m\u001b[0m\u001b[0m\n",
      "\u001b[0;32m~/github/forgebox/forgebox/loop.py\u001b[0m in \u001b[0;36miter_cb\u001b[0;34m(self)\u001b[0m\n\u001b[1;32m    277\u001b[0m         \"\"\"\n\u001b[1;32m    278\u001b[0m         \u001b[0;32mif\u001b[0m \u001b[0mself\u001b[0m\u001b[0;34m.\u001b[0m\u001b[0mnext_layer\u001b[0m\u001b[0;34m!=\u001b[0m\u001b[0;32mNone\u001b[0m\u001b[0;34m:\u001b[0m\u001b[0;34m\u001b[0m\u001b[0;34m\u001b[0m\u001b[0m\n\u001b[0;32m--> 279\u001b[0;31m             \u001b[0mself\u001b[0m\u001b[0;34m.\u001b[0m\u001b[0mnext_layer\u001b[0m\u001b[0;34m.\u001b[0m\u001b[0mcallon\u001b[0m\u001b[0;34m(\u001b[0m\u001b[0;34m)\u001b[0m\u001b[0;34m\u001b[0m\u001b[0;34m\u001b[0m\u001b[0m\n\u001b[0m\u001b[1;32m    280\u001b[0m         \u001b[0mself\u001b[0m\u001b[0;34m.\u001b[0m\u001b[0mafter\u001b[0m\u001b[0;34m(\u001b[0m\u001b[0;34m)\u001b[0m\u001b[0;34m\u001b[0m\u001b[0;34m\u001b[0m\u001b[0m\n\u001b[1;32m    281\u001b[0m \u001b[0;34m\u001b[0m\u001b[0m\n",
      "\u001b[0;32m~/github/forgebox/forgebox/loop.py\u001b[0m in \u001b[0;36mcallon\u001b[0;34m(self)\u001b[0m\n\u001b[1;32m    262\u001b[0m     \u001b[0;32mdef\u001b[0m \u001b[0mcallon\u001b[0m\u001b[0;34m(\u001b[0m\u001b[0mself\u001b[0m\u001b[0;34m)\u001b[0m\u001b[0;34m:\u001b[0m\u001b[0;34m\u001b[0m\u001b[0;34m\u001b[0m\u001b[0m\n\u001b[1;32m    263\u001b[0m         \u001b[0mself\u001b[0m\u001b[0;34m(\u001b[0m\u001b[0;34m)\u001b[0m\u001b[0;34m\u001b[0m\u001b[0;34m\u001b[0m\u001b[0m\n\u001b[0;32m--> 264\u001b[0;31m         \u001b[0mself\u001b[0m\u001b[0;34m.\u001b[0m\u001b[0mdownstream_wrap\u001b[0m\u001b[0;34m(\u001b[0m\u001b[0mself\u001b[0m\u001b[0;34m.\u001b[0m\u001b[0miter_cb\u001b[0m\u001b[0;34m)\u001b[0m\u001b[0;34m\u001b[0m\u001b[0;34m\u001b[0m\u001b[0m\n\u001b[0m\u001b[1;32m    265\u001b[0m \u001b[0;34m\u001b[0m\u001b[0m\n\u001b[1;32m    266\u001b[0m     \u001b[0;32mdef\u001b[0m \u001b[0mstart_callon\u001b[0m\u001b[0;34m(\u001b[0m\u001b[0mself\u001b[0m\u001b[0;34m)\u001b[0m\u001b[0;34m:\u001b[0m\u001b[0;34m\u001b[0m\u001b[0;34m\u001b[0m\u001b[0m\n",
      "\u001b[0;32m~/github/forgebox/forgebox/loop.py\u001b[0m in \u001b[0;36mdownstream_wrap\u001b[0;34m(self, f)\u001b[0m\n\u001b[1;32m    208\u001b[0m \u001b[0;34m\u001b[0m\u001b[0m\n\u001b[1;32m    209\u001b[0m     \u001b[0;32mdef\u001b[0m \u001b[0mdownstream_wrap\u001b[0m\u001b[0;34m(\u001b[0m\u001b[0mself\u001b[0m\u001b[0;34m,\u001b[0m\u001b[0mf\u001b[0m\u001b[0;34m)\u001b[0m\u001b[0;34m:\u001b[0m\u001b[0;34m\u001b[0m\u001b[0;34m\u001b[0m\u001b[0m\n\u001b[0;32m--> 210\u001b[0;31m         \u001b[0;32mreturn\u001b[0m \u001b[0mf\u001b[0m\u001b[0;34m(\u001b[0m\u001b[0;34m)\u001b[0m\u001b[0;34m\u001b[0m\u001b[0;34m\u001b[0m\u001b[0m\n\u001b[0m\u001b[1;32m    211\u001b[0m \u001b[0;34m\u001b[0m\u001b[0m\n\u001b[1;32m    212\u001b[0m     \u001b[0;32mdef\u001b[0m \u001b[0mdownstream_start_wrap\u001b[0m\u001b[0;34m(\u001b[0m\u001b[0mself\u001b[0m\u001b[0;34m,\u001b[0m\u001b[0mf\u001b[0m\u001b[0;34m)\u001b[0m\u001b[0;34m:\u001b[0m\u001b[0;34m\u001b[0m\u001b[0;34m\u001b[0m\u001b[0m\n",
      "\u001b[0;32m~/github/forgebox/forgebox/loop.py\u001b[0m in \u001b[0;36miter_cb\u001b[0;34m(self)\u001b[0m\n\u001b[1;32m    277\u001b[0m         \"\"\"\n\u001b[1;32m    278\u001b[0m         \u001b[0;32mif\u001b[0m \u001b[0mself\u001b[0m\u001b[0;34m.\u001b[0m\u001b[0mnext_layer\u001b[0m\u001b[0;34m!=\u001b[0m\u001b[0;32mNone\u001b[0m\u001b[0;34m:\u001b[0m\u001b[0;34m\u001b[0m\u001b[0;34m\u001b[0m\u001b[0m\n\u001b[0;32m--> 279\u001b[0;31m             \u001b[0mself\u001b[0m\u001b[0;34m.\u001b[0m\u001b[0mnext_layer\u001b[0m\u001b[0;34m.\u001b[0m\u001b[0mcallon\u001b[0m\u001b[0;34m(\u001b[0m\u001b[0;34m)\u001b[0m\u001b[0;34m\u001b[0m\u001b[0;34m\u001b[0m\u001b[0m\n\u001b[0m\u001b[1;32m    280\u001b[0m         \u001b[0mself\u001b[0m\u001b[0;34m.\u001b[0m\u001b[0mafter\u001b[0m\u001b[0;34m(\u001b[0m\u001b[0;34m)\u001b[0m\u001b[0;34m\u001b[0m\u001b[0;34m\u001b[0m\u001b[0m\n\u001b[1;32m    281\u001b[0m \u001b[0;34m\u001b[0m\u001b[0m\n",
      "\u001b[0;32m~/github/forgebox/forgebox/loop.py\u001b[0m in \u001b[0;36mcallon\u001b[0;34m(self)\u001b[0m\n\u001b[1;32m    261\u001b[0m \u001b[0;34m\u001b[0m\u001b[0m\n\u001b[1;32m    262\u001b[0m     \u001b[0;32mdef\u001b[0m \u001b[0mcallon\u001b[0m\u001b[0;34m(\u001b[0m\u001b[0mself\u001b[0m\u001b[0;34m)\u001b[0m\u001b[0;34m:\u001b[0m\u001b[0;34m\u001b[0m\u001b[0;34m\u001b[0m\u001b[0m\n\u001b[0;32m--> 263\u001b[0;31m         \u001b[0mself\u001b[0m\u001b[0;34m(\u001b[0m\u001b[0;34m)\u001b[0m\u001b[0;34m\u001b[0m\u001b[0;34m\u001b[0m\u001b[0m\n\u001b[0m\u001b[1;32m    264\u001b[0m         \u001b[0mself\u001b[0m\u001b[0;34m.\u001b[0m\u001b[0mdownstream_wrap\u001b[0m\u001b[0;34m(\u001b[0m\u001b[0mself\u001b[0m\u001b[0;34m.\u001b[0m\u001b[0miter_cb\u001b[0m\u001b[0;34m)\u001b[0m\u001b[0;34m\u001b[0m\u001b[0;34m\u001b[0m\u001b[0m\n\u001b[1;32m    265\u001b[0m \u001b[0;34m\u001b[0m\u001b[0m\n",
      "\u001b[0;32m~/github/forgebox/forgebox/loop.py\u001b[0m in \u001b[0;36m__call__\u001b[0;34m(self)\u001b[0m\n\u001b[1;32m    459\u001b[0m     \u001b[0;32mdef\u001b[0m \u001b[0m__call__\u001b[0m\u001b[0;34m(\u001b[0m\u001b[0mself\u001b[0m\u001b[0;34m)\u001b[0m\u001b[0;34m:\u001b[0m\u001b[0;34m\u001b[0m\u001b[0;34m\u001b[0m\u001b[0m\n\u001b[1;32m    460\u001b[0m         \u001b[0;32mif\u001b[0m \u001b[0mlen\u001b[0m\u001b[0;34m(\u001b[0m\u001b[0mself\u001b[0m\u001b[0;34m.\u001b[0m\u001b[0mcbs\u001b[0m\u001b[0;34m)\u001b[0m\u001b[0;34m>\u001b[0m\u001b[0;36m0\u001b[0m\u001b[0;34m:\u001b[0m\u001b[0;34m\u001b[0m\u001b[0;34m\u001b[0m\u001b[0m\n\u001b[0;32m--> 461\u001b[0;31m             \u001b[0mself\u001b[0m\u001b[0;34m.\u001b[0m\u001b[0mcbs\u001b[0m\u001b[0;34m[\u001b[0m\u001b[0;36m0\u001b[0m\u001b[0;34m]\u001b[0m\u001b[0;34m.\u001b[0m\u001b[0mcallon\u001b[0m\u001b[0;34m(\u001b[0m\u001b[0;34m)\u001b[0m\u001b[0;34m\u001b[0m\u001b[0;34m\u001b[0m\u001b[0m\n\u001b[0m\u001b[1;32m    462\u001b[0m \u001b[0;34m\u001b[0m\u001b[0m\n\u001b[1;32m    463\u001b[0m     \u001b[0;32mdef\u001b[0m \u001b[0mstart_call\u001b[0m\u001b[0;34m(\u001b[0m\u001b[0mself\u001b[0m\u001b[0;34m)\u001b[0m\u001b[0;34m:\u001b[0m\u001b[0;34m\u001b[0m\u001b[0;34m\u001b[0m\u001b[0m\n",
      "\u001b[0;32m~/github/forgebox/forgebox/loop.py\u001b[0m in \u001b[0;36mcallon\u001b[0;34m(self)\u001b[0m\n\u001b[1;32m    261\u001b[0m \u001b[0;34m\u001b[0m\u001b[0m\n\u001b[1;32m    262\u001b[0m     \u001b[0;32mdef\u001b[0m \u001b[0mcallon\u001b[0m\u001b[0;34m(\u001b[0m\u001b[0mself\u001b[0m\u001b[0;34m)\u001b[0m\u001b[0;34m:\u001b[0m\u001b[0;34m\u001b[0m\u001b[0;34m\u001b[0m\u001b[0m\n\u001b[0;32m--> 263\u001b[0;31m         \u001b[0mself\u001b[0m\u001b[0;34m(\u001b[0m\u001b[0;34m)\u001b[0m\u001b[0;34m\u001b[0m\u001b[0;34m\u001b[0m\u001b[0m\n\u001b[0m\u001b[1;32m    264\u001b[0m         \u001b[0mself\u001b[0m\u001b[0;34m.\u001b[0m\u001b[0mdownstream_wrap\u001b[0m\u001b[0;34m(\u001b[0m\u001b[0mself\u001b[0m\u001b[0;34m.\u001b[0m\u001b[0miter_cb\u001b[0m\u001b[0;34m)\u001b[0m\u001b[0;34m\u001b[0m\u001b[0;34m\u001b[0m\u001b[0m\n\u001b[1;32m    265\u001b[0m \u001b[0;34m\u001b[0m\u001b[0m\n",
      "\u001b[0;32m~/github/forgebox/forgebox/loop.py\u001b[0m in \u001b[0;36m__call__\u001b[0;34m(self_)\u001b[0m\n\u001b[1;32m    476\u001b[0m                 \u001b[0mself_\u001b[0m\u001b[0;34m.\u001b[0m\u001b[0mf\u001b[0m \u001b[0;34m=\u001b[0m \u001b[0mf\u001b[0m\u001b[0;34m\u001b[0m\u001b[0;34m\u001b[0m\u001b[0m\n\u001b[1;32m    477\u001b[0m \u001b[0;34m\u001b[0m\u001b[0m\n\u001b[0;32m--> 478\u001b[0;31m             \u001b[0;32mdef\u001b[0m \u001b[0m__call__\u001b[0m\u001b[0;34m(\u001b[0m\u001b[0mself_\u001b[0m\u001b[0;34m)\u001b[0m\u001b[0;34m:\u001b[0m \u001b[0mself_\u001b[0m\u001b[0;34m.\u001b[0m\u001b[0mf\u001b[0m\u001b[0;34m(\u001b[0m\u001b[0mself\u001b[0m\u001b[0;34m)\u001b[0m\u001b[0;34m\u001b[0m\u001b[0;34m\u001b[0m\u001b[0m\n\u001b[0m\u001b[1;32m    479\u001b[0m \u001b[0;34m\u001b[0m\u001b[0m\n\u001b[1;32m    480\u001b[0m         \u001b[0mnew_cb\u001b[0m \u001b[0;34m=\u001b[0m \u001b[0mEventCB\u001b[0m\u001b[0;34m(\u001b[0m\u001b[0;34m)\u001b[0m\u001b[0;34m\u001b[0m\u001b[0;34m\u001b[0m\u001b[0m\n",
      "\u001b[0;32m<ipython-input-72-4b7d22181575>\u001b[0m in \u001b[0;36mopt_step\u001b[0;34m(loop)\u001b[0m\n\u001b[1;32m     13\u001b[0m     \u001b[0;34m@\u001b[0m\u001b[0mloop\u001b[0m\u001b[0;34m.\u001b[0m\u001b[0mBACKWARD\u001b[0m\u001b[0;34m.\u001b[0m\u001b[0mon\u001b[0m\u001b[0;34m\u001b[0m\u001b[0;34m\u001b[0m\u001b[0m\n\u001b[1;32m     14\u001b[0m     \u001b[0;32mdef\u001b[0m \u001b[0mopt_step\u001b[0m\u001b[0;34m(\u001b[0m\u001b[0mloop\u001b[0m\u001b[0;34m)\u001b[0m\u001b[0;34m:\u001b[0m\u001b[0;34m\u001b[0m\u001b[0;34m\u001b[0m\u001b[0m\n\u001b[0;32m---> 15\u001b[0;31m         \u001b[0mloop\u001b[0m\u001b[0;34m.\u001b[0m\u001b[0mloss\u001b[0m\u001b[0;34m(\u001b[0m\u001b[0;34m\"backward\"\u001b[0m\u001b[0;34m)\u001b[0m\u001b[0;34m\u001b[0m\u001b[0;34m\u001b[0m\u001b[0m\n\u001b[0m\u001b[1;32m     16\u001b[0m \u001b[0;34m\u001b[0m\u001b[0m\n\u001b[1;32m     17\u001b[0m     \u001b[0;34m@\u001b[0m\u001b[0mloop\u001b[0m\u001b[0;34m.\u001b[0m\u001b[0mBACKWARD\u001b[0m\u001b[0;34m.\u001b[0m\u001b[0mon\u001b[0m\u001b[0;34m\u001b[0m\u001b[0;34m\u001b[0m\u001b[0m\n",
      "\u001b[0;32m~/github/forgebox/forgebox/loop.py\u001b[0m in \u001b[0;36m__call__\u001b[0;34m(self, func, *args, **kwargs)\u001b[0m\n\u001b[1;32m     60\u001b[0m         \u001b[0;32mfor\u001b[0m \u001b[0mk\u001b[0m\u001b[0;34m,\u001b[0m\u001b[0mcase\u001b[0m \u001b[0;32min\u001b[0m \u001b[0mself\u001b[0m\u001b[0;34m.\u001b[0m\u001b[0mcases\u001b[0m\u001b[0;34m.\u001b[0m\u001b[0mitems\u001b[0m\u001b[0;34m(\u001b[0m\u001b[0;34m)\u001b[0m\u001b[0;34m:\u001b[0m\u001b[0;34m\u001b[0m\u001b[0;34m\u001b[0m\u001b[0m\n\u001b[1;32m     61\u001b[0m             \u001b[0;32mif\u001b[0m \u001b[0mtype\u001b[0m\u001b[0;34m(\u001b[0m\u001b[0mfunc\u001b[0m\u001b[0;34m)\u001b[0m\u001b[0;34m==\u001b[0m\u001b[0mstr\u001b[0m\u001b[0;34m:\u001b[0m\u001b[0;34m\u001b[0m\u001b[0;34m\u001b[0m\u001b[0m\n\u001b[0;32m---> 62\u001b[0;31m                 \u001b[0mresults\u001b[0m\u001b[0;34m.\u001b[0m\u001b[0mappend\u001b[0m\u001b[0;34m(\u001b[0m\u001b[0mgetattr\u001b[0m\u001b[0;34m(\u001b[0m\u001b[0mcase\u001b[0m\u001b[0;34m,\u001b[0m\u001b[0mfunc\u001b[0m\u001b[0;34m)\u001b[0m\u001b[0;34m(\u001b[0m\u001b[0;34m*\u001b[0m\u001b[0margs\u001b[0m\u001b[0;34m,\u001b[0m\u001b[0;34m**\u001b[0m\u001b[0mkwargs\u001b[0m\u001b[0;34m)\u001b[0m\u001b[0;34m)\u001b[0m\u001b[0;34m\u001b[0m\u001b[0;34m\u001b[0m\u001b[0m\n\u001b[0m\u001b[1;32m     63\u001b[0m             \u001b[0;32melse\u001b[0m\u001b[0;34m:\u001b[0m\u001b[0;34m\u001b[0m\u001b[0;34m\u001b[0m\u001b[0m\n\u001b[1;32m     64\u001b[0m                 \u001b[0mresults\u001b[0m\u001b[0;34m.\u001b[0m\u001b[0mappend\u001b[0m\u001b[0;34m(\u001b[0m\u001b[0mfunc\u001b[0m\u001b[0;34m(\u001b[0m\u001b[0mcase\u001b[0m\u001b[0;34m,\u001b[0m\u001b[0;34m*\u001b[0m\u001b[0margs\u001b[0m\u001b[0;34m,\u001b[0m\u001b[0;34m**\u001b[0m\u001b[0mkwargs\u001b[0m\u001b[0;34m)\u001b[0m\u001b[0;34m)\u001b[0m\u001b[0;34m\u001b[0m\u001b[0;34m\u001b[0m\u001b[0m\n",
      "\u001b[0;31mAttributeError\u001b[0m: 'list' object has no attribute 'backward'"
     ]
    }
   ],
   "source": [
    "loop.run()"
   ]
  },
  {
   "cell_type": "code",
   "execution_count": 80,
   "metadata": {},
   "outputs": [
    {
     "data": {
      "text/plain": [
       "🍄:model[\n",
       "\tbaseline\n",
       "]"
      ]
     },
     "execution_count": 80,
     "metadata": {},
     "output_type": "execute_result"
    }
   ],
   "source": [
    "loop.model"
   ]
  },
  {
   "cell_type": "code",
   "execution_count": 67,
   "metadata": {},
   "outputs": [
    {
     "data": {
      "text/plain": [
       "🍄:loss_func[\n",
       "\t\n",
       "]"
      ]
     },
     "execution_count": 67,
     "metadata": {},
     "output_type": "execute_result"
    }
   ],
   "source": [
    "loop.loss_func"
   ]
  },
  {
   "cell_type": "code",
   "execution_count": 47,
   "metadata": {},
   "outputs": [
    {
     "data": {
      "text/plain": [
       "torch.Tensor"
      ]
     },
     "execution_count": 47,
     "metadata": {},
     "output_type": "execute_result"
    }
   ],
   "source": [
    "type(loop.x.x1)"
   ]
  },
  {
   "cell_type": "code",
   "execution_count": 48,
   "metadata": {},
   "outputs": [
    {
     "data": {
      "text/plain": [
       "🍄:metric[\n",
       "\t\n",
       "]"
      ]
     },
     "execution_count": 48,
     "metadata": {},
     "output_type": "execute_result"
    }
   ],
   "source": [
    "loop.metric"
   ]
  },
  {
   "cell_type": "code",
   "execution_count": 49,
   "metadata": {},
   "outputs": [
    {
     "data": {
      "text/plain": [
       "'NoneType: None\\n'"
      ]
     },
     "execution_count": 49,
     "metadata": {},
     "output_type": "execute_result"
    }
   ],
   "source": [
    "def get_error(e):\n",
    "    \"\"\"\n",
    "    String format error massage and trace back\n",
    "    \"\"\"\n",
    "    import sys,traceback\n",
    "    from io import StringIO\n",
    "    exc_type, exc_value, exc_traceback = sys.exc_info()\n",
    "    sio = StringIO()\n",
    "    traceback.print_exception(exc_type, exc_value, exc_traceback,\n",
    "                              limit=100, file=sio)\n",
    "    return sio.getvalue()\n",
    "\n",
    "e = loop.error_list()[0][\"error\"]\n",
    "get_error(e)"
   ]
  },
  {
   "cell_type": "code",
   "execution_count": 50,
   "metadata": {},
   "outputs": [
    {
     "data": {
      "text/plain": [
       "IndexError('list index out of range')"
      ]
     },
     "execution_count": 50,
     "metadata": {},
     "output_type": "execute_result"
    }
   ],
   "source": [
    "e"
   ]
  },
  {
   "cell_type": "code",
   "execution_count": 71,
   "metadata": {},
   "outputs": [
    {
     "data": {
      "text/plain": [
       "(tensor([[ 0.7769],\n",
       "         [ 0.2967],\n",
       "         [ 0.6991],\n",
       "         [ 0.6803],\n",
       "         [ 0.3590],\n",
       "         [ 0.5273],\n",
       "         [ 0.4915],\n",
       "         [ 0.3569],\n",
       "         [-0.0015],\n",
       "         [ 0.4416],\n",
       "         [ 0.3151],\n",
       "         [ 0.3791],\n",
       "         [ 0.3341],\n",
       "         [ 0.4002],\n",
       "         [ 0.2497],\n",
       "         [ 0.2458],\n",
       "         [ 0.2327],\n",
       "         [ 0.3615],\n",
       "         [ 0.0947],\n",
       "         [ 0.2408],\n",
       "         [-0.1149],\n",
       "         [ 0.0087],\n",
       "         [ 0.0926],\n",
       "         [ 0.2175],\n",
       "         [ 0.2622],\n",
       "         [ 0.1142],\n",
       "         [ 0.2609],\n",
       "         [ 0.1703],\n",
       "         [ 0.1444],\n",
       "         [ 0.2212],\n",
       "         [ 0.0442],\n",
       "         [ 0.1634]], grad_fn=<AddmmBackward>),\n",
       " tensor([ 2.1296,  1.3142,  1.2587,  1.1651,  1.1729,  0.5446,  0.8003,  0.2994,\n",
       "          0.1720,  0.4701,  0.6469,  0.3028,  0.0576, -0.1348, -0.4130, -0.5794,\n",
       "         -0.4711, -0.4451, -0.4173, -0.3809, -0.5144, -0.4078, -0.8056, -0.9286,\n",
       "         -0.6435, -0.8610, -0.9797, -0.8784, -0.8489, -0.6487, -0.7328, -0.7943]))"
      ]
     },
     "execution_count": 71,
     "metadata": {},
     "output_type": "execute_result"
    }
   ],
   "source": [
    "loop.pred,loop.y.y1"
   ]
  },
  {
   "cell_type": "code",
   "execution_count": null,
   "metadata": {},
   "outputs": [],
   "source": []
  }
 ],
 "metadata": {
  "kernelspec": {
   "display_name": "Python 3",
   "language": "python",
   "name": "python3"
  },
  "language_info": {
   "codemirror_mode": {
    "name": "ipython",
    "version": 3
   },
   "file_extension": ".py",
   "mimetype": "text/x-python",
   "name": "python",
   "nbconvert_exporter": "python",
   "pygments_lexer": "ipython3",
   "version": "3.7.4"
  }
 },
 "nbformat": 4,
 "nbformat_minor": 4
}
