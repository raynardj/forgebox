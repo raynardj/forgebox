{
 "cells": [
  {
   "cell_type": "markdown",
   "metadata": {},
   "source": [
    "# 15 LoopStack"
   ]
  },
  {
   "cell_type": "code",
   "execution_count": 1,
   "metadata": {},
   "outputs": [],
   "source": [
    "# default_exp loopstack"
   ]
  },
  {
   "cell_type": "code",
   "execution_count": 2,
   "metadata": {},
   "outputs": [],
   "source": [
    "# export\n",
    "from forgebox.loop import Loop,ProgressBar,Tolerate,Event,Stuff,chunkify\n",
    "from types import MethodType\n",
    "from datetime import datetime\n",
    "import numpy as np\n",
    "import pandas as pd\n",
    "from time import sleep"
   ]
  },
  {
   "cell_type": "markdown",
   "metadata": {},
   "source": [
    "To run through iterations quickly, we use the california housing data"
   ]
  },
  {
   "cell_type": "code",
   "execution_count": 3,
   "metadata": {},
   "outputs": [
    {
     "data": {
      "text/plain": [
       "((20640, 8), (20640,))"
      ]
     },
     "execution_count": 3,
     "metadata": {},
     "output_type": "execute_result"
    }
   ],
   "source": [
    "from sklearn.datasets.california_housing import fetch_california_housing\n",
    "x,y = fetch_california_housing(return_X_y = True)\n",
    "\n",
    "x.shape, y.shape"
   ]
  },
  {
   "cell_type": "markdown",
   "metadata": {},
   "source": [
    "Normalized Data"
   ]
  },
  {
   "cell_type": "markdown",
   "metadata": {},
   "source": [
    "Preview x input"
   ]
  },
  {
   "cell_type": "code",
   "execution_count": 4,
   "metadata": {},
   "outputs": [],
   "source": [
    "def norm(m,s): return lambda x: (x-m)/s\n",
    "def denorm(m,s): return lambda x: (x*s)+m\n",
    "\n",
    "x_normed = norm(x.mean(0),x.std(0))(x)\n",
    "y_normed = norm(y.mean(),y.std())(y)\n",
    "\n",
    "x_normed = np.clip(x_normed,-2,2)\n",
    "y_normed = np.clip(y_normed,-2,2)"
   ]
  },
  {
   "cell_type": "code",
   "execution_count": 5,
   "metadata": {},
   "outputs": [
    {
     "data": {
      "text/plain": [
       "(array([-0.04333 ,  0.000478, -0.0397  , -0.04486 , -0.0554  , -0.01229 ,\n",
       "        -0.007812,  0.001071], dtype=float16),\n",
       " array([0.85610596, 0.99901853, 0.53787672, 0.32598025, 0.73420682,\n",
       "        0.09438235, 0.98221114, 0.99421595]),\n",
       " -0.0302,\n",
       " 0.928904447452199)"
      ]
     },
     "execution_count": 5,
     "metadata": {},
     "output_type": "execute_result"
    }
   ],
   "source": [
    "x_normed.mean(0).astype(np.float16),x_normed.std(0),\\\n",
    "y_normed.mean().astype(np.float16),y_normed.std()"
   ]
  },
  {
   "cell_type": "code",
   "execution_count": 6,
   "metadata": {},
   "outputs": [
    {
     "data": {
      "text/plain": [
       "<matplotlib.image.AxesImage at 0x11d445f50>"
      ]
     },
     "execution_count": 6,
     "metadata": {},
     "output_type": "execute_result"
    },
    {
     "data": {
      "image/png": "[encoded data removed]",
      "text/plain": [
       "<Figure size 432x288 with 1 Axes>"
      ]
     },
     "metadata": {
      "needs_background": "light"
     },
     "output_type": "display_data"
    }
   ],
   "source": [
    "from matplotlib import pyplot as plt\n",
    "%matplotlib inline\n",
    "plt.imshow(x_normed[np.random.choice(range(1000),10)])"
   ]
  },
  {
   "cell_type": "code",
   "execution_count": 7,
   "metadata": {},
   "outputs": [
    {
     "data": {
      "text/plain": [
       "array([[ 2.        ,  0.98214266,  0.62855945, ..., -0.04959654,\n",
       "         1.05254828, -1.32783522],\n",
       "       [ 2.        , -0.60701891,  0.32704136, ..., -0.09251223,\n",
       "         1.04318455, -1.32284391],\n",
       "       [ 1.7826994 ,  1.85618152,  1.15562047, ..., -0.02584253,\n",
       "         1.03850269, -1.33282653],\n",
       "       ...,\n",
       "       [-1.14259331, -0.92485123, -0.09031802, ..., -0.0717345 ,\n",
       "         1.77823747, -0.8237132 ],\n",
       "       [-1.05458292, -0.84539315, -0.04021111, ..., -0.09122515,\n",
       "         1.77823747, -0.87362627],\n",
       "       [-0.78012947, -1.00430931, -0.07044252, ..., -0.04368215,\n",
       "         1.75014627, -0.83369581]])"
      ]
     },
     "execution_count": 7,
     "metadata": {},
     "output_type": "execute_result"
    }
   ],
   "source": [
    "x_normed"
   ]
  },
  {
   "cell_type": "code",
   "execution_count": 8,
   "metadata": {},
   "outputs": [],
   "source": [
    "# export\n",
    "def create_event(event_name):\n",
    "    class BatchEvent(Event):pass\n",
    "    BatchEvent.__name__ = event_name\n",
    "    return BatchEvent\n",
    "\n",
    "def events(*enames):\n",
    "    return list(map(create_event,enames))"
   ]
  },
  {
   "cell_type": "code",
   "execution_count": 9,
   "metadata": {},
   "outputs": [],
   "source": [
    "# export\n",
    "class LoopStack(Loop):\n",
    "    settings = []\n",
    "    \"\"\"\n",
    "    A stack of loop\n",
    "    \"\"\"\n",
    "    @classmethod\n",
    "    def from_loops(cls,*loops):\n",
    "        def init(self,iterable=[],name = None):\n",
    "            name = name if name!=None else cls.__name__\n",
    "            \n",
    "            self.loops = dict()\n",
    "            l = Loop(iterable)\n",
    "            for L in loops:\n",
    "                l = L(iterable = l)\n",
    "            super().__init__(iterable = l,\n",
    "                             name = name)\n",
    "            \n",
    "            for stuff in cls.settings:\n",
    "                self.make_stuff(stuff)\n",
    "                \n",
    "        setattr(cls,\"init\",init)\n",
    "        return cls\n",
    "    \n",
    "    @classmethod\n",
    "    def new_setting(cls,*settings):\n",
    "        cls.settings+=list(settings)\n",
    "    \n",
    "    def make_stuff(self,name):\n",
    "        new_stuff = Stuff(name)\n",
    "        setattr(self.core,name,new_stuff)\n",
    "        setattr(self,name,new_stuff)\n",
    "    \n",
    "    def __repr__(self,):\n",
    "        return f\"LoopStack>:{self.name}\\n\\t\"+\\\n",
    "            \"\\n\\t\".join(map(str,self.core.layers[:-1]))"
   ]
  },
  {
   "cell_type": "code",
   "execution_count": 10,
   "metadata": {},
   "outputs": [],
   "source": [
    "TRAIN_EVENTS = [\"DATA_PROCESS\",\"FORWARD\",\"LOSS_CALC\",\n",
    "                \"BACKWARD\",\"OPT_STEP\",\"METRICS\"]\n",
    "EVAL_EVENTS = [\"DATA_PROCESS\",\"EVAL_WRAP\",\"FORWARD\",\"LOSS_CALC\",\"METRICS\"]"
   ]
  },
  {
   "cell_type": "code",
   "execution_count": 11,
   "metadata": {},
   "outputs": [],
   "source": [
    "class MetricTab:\n",
    "    def __init__(self):\n",
    "        self.df_by_epoch = []\n",
    "        self.mean_by_epoch = []\n",
    "        self.refresh_list()\n",
    "        \n",
    "    def __add__(self,row):\n",
    "        self.results.append(row)\n",
    "        return self\n",
    "    \n",
    "    def summary(self):\n",
    "        return pd.DataFrame(self.mean_by_epoch)\n",
    "    \n",
    "    def update(self,**batch):\n",
    "        self.batch.append(batch)\n",
    "        return self\n",
    "    \n",
    "    def result_df(self):\n",
    "        return pd.DataFrame(self.results)\n",
    "    \n",
    "    def batch_df(self):\n",
    "        return pd.DataFrame(self.batch)\n",
    "    \n",
    "    def refresh_list(self):\n",
    "        self.batch = []\n",
    "        self.results = []\n",
    "        \n",
    "    def calc_mean(self,result_df,batch_df):\n",
    "        product_df = pd.DataFrame(dict((col,result_df[col]*batch_df[\"bs\"]) for col in self.result_cols))\n",
    "        batch_mean = dict()\n",
    "        for col in self.result_cols:\n",
    "            batch_mean[col] = product_df[col].sum()/batch_df[\"bs\"].sum()\n",
    "        batch_mean[\"epoch\"] = len(self.mean_by_epoch)+1\n",
    "        batch_mean[\"span\"] = batch_df.ts.max()-batch_df.ts.min()\n",
    "        return batch_mean\n",
    "    \n",
    "    def mark(self):\n",
    "        result_df = self.result_df()\n",
    "        batch_df = self.batch_df()\n",
    "        \n",
    "        self.result_cols = result_df.columns\n",
    "        for col in self.result_cols:\n",
    "            batch_df[col] = result_df[col]\n",
    "            \n",
    "        batch_mean = self.calc_mean(result_df,batch_df)\n",
    "            \n",
    "        self.df_by_epoch.append(batch_df)\n",
    "        self.mean_by_epoch.append(batch_mean)\n",
    "        \n",
    "        self.refresh_list()\n",
    "        \n",
    "        return batch_df, batch_mean"
   ]
  },
  {
   "cell_type": "code",
   "execution_count": 12,
   "metadata": {},
   "outputs": [],
   "source": [
    "metab = MetricTab()"
   ]
  },
  {
   "cell_type": "code",
   "execution_count": 13,
   "metadata": {},
   "outputs": [],
   "source": [
    "for i in range(100):\n",
    "    sleep(.01)\n",
    "    metab+=dict(loss= np.random.rand()*(100-i))\n",
    "    metab.update(i=i,epoch=i//5,bs = 32,ts = datetime.now())"
   ]
  },
  {
   "cell_type": "code",
   "execution_count": 14,
   "metadata": {},
   "outputs": [
    {
     "data": {
      "text/html": [
       "<div>\n",
       "<style scoped>\n",
       "    .dataframe tbody tr th:only-of-type {\n",
       "        vertical-align: middle;\n",
       "    }\n",
       "\n",
       "    .dataframe tbody tr th {\n",
       "        vertical-align: top;\n",
       "    }\n",
       "\n",
       "    .dataframe thead th {\n",
       "        text-align: right;\n",
       "    }\n",
       "</style>\n",
       "<table border=\"1\" class=\"dataframe\">\n",
       "  <thead>\n",
       "    <tr style=\"text-align: right;\">\n",
       "      <th></th>\n",
       "      <th>i</th>\n",
       "      <th>epoch</th>\n",
       "      <th>bs</th>\n",
       "      <th>ts</th>\n",
       "      <th>loss</th>\n",
       "    </tr>\n",
       "  </thead>\n",
       "  <tbody>\n",
       "    <tr>\n",
       "      <th>0</th>\n",
       "      <td>0</td>\n",
       "      <td>0</td>\n",
       "      <td>32</td>\n",
       "      <td>2020-06-26 17:07:40.908089</td>\n",
       "      <td>56.293156</td>\n",
       "    </tr>\n",
       "    <tr>\n",
       "      <th>1</th>\n",
       "      <td>1</td>\n",
       "      <td>0</td>\n",
       "      <td>32</td>\n",
       "      <td>2020-06-26 17:07:40.919035</td>\n",
       "      <td>2.125075</td>\n",
       "    </tr>\n",
       "    <tr>\n",
       "      <th>2</th>\n",
       "      <td>2</td>\n",
       "      <td>0</td>\n",
       "      <td>32</td>\n",
       "      <td>2020-06-26 17:07:40.932480</td>\n",
       "      <td>70.779526</td>\n",
       "    </tr>\n",
       "    <tr>\n",
       "      <th>3</th>\n",
       "      <td>3</td>\n",
       "      <td>0</td>\n",
       "      <td>32</td>\n",
       "      <td>2020-06-26 17:07:40.943151</td>\n",
       "      <td>26.205641</td>\n",
       "    </tr>\n",
       "    <tr>\n",
       "      <th>4</th>\n",
       "      <td>4</td>\n",
       "      <td>0</td>\n",
       "      <td>32</td>\n",
       "      <td>2020-06-26 17:07:40.953359</td>\n",
       "      <td>24.290771</td>\n",
       "    </tr>\n",
       "    <tr>\n",
       "      <th>...</th>\n",
       "      <td>...</td>\n",
       "      <td>...</td>\n",
       "      <td>...</td>\n",
       "      <td>...</td>\n",
       "      <td>...</td>\n",
       "    </tr>\n",
       "    <tr>\n",
       "      <th>95</th>\n",
       "      <td>95</td>\n",
       "      <td>19</td>\n",
       "      <td>32</td>\n",
       "      <td>2020-06-26 17:07:42.009715</td>\n",
       "      <td>3.558731</td>\n",
       "    </tr>\n",
       "    <tr>\n",
       "      <th>96</th>\n",
       "      <td>96</td>\n",
       "      <td>19</td>\n",
       "      <td>32</td>\n",
       "      <td>2020-06-26 17:07:42.021234</td>\n",
       "      <td>1.056357</td>\n",
       "    </tr>\n",
       "    <tr>\n",
       "      <th>97</th>\n",
       "      <td>97</td>\n",
       "      <td>19</td>\n",
       "      <td>32</td>\n",
       "      <td>2020-06-26 17:07:42.033225</td>\n",
       "      <td>0.283324</td>\n",
       "    </tr>\n",
       "    <tr>\n",
       "      <th>98</th>\n",
       "      <td>98</td>\n",
       "      <td>19</td>\n",
       "      <td>32</td>\n",
       "      <td>2020-06-26 17:07:42.044607</td>\n",
       "      <td>0.586491</td>\n",
       "    </tr>\n",
       "    <tr>\n",
       "      <th>99</th>\n",
       "      <td>99</td>\n",
       "      <td>19</td>\n",
       "      <td>32</td>\n",
       "      <td>2020-06-26 17:07:42.055291</td>\n",
       "      <td>0.719754</td>\n",
       "    </tr>\n",
       "  </tbody>\n",
       "</table>\n",
       "<p>100 rows × 5 columns</p>\n",
       "</div>"
      ],
      "text/plain": [
       "     i  epoch  bs                         ts       loss\n",
       "0    0      0  32 2020-06-26 17:07:40.908089  56.293156\n",
       "1    1      0  32 2020-06-26 17:07:40.919035   2.125075\n",
       "2    2      0  32 2020-06-26 17:07:40.932480  70.779526\n",
       "3    3      0  32 2020-06-26 17:07:40.943151  26.205641\n",
       "4    4      0  32 2020-06-26 17:07:40.953359  24.290771\n",
       "..  ..    ...  ..                        ...        ...\n",
       "95  95     19  32 2020-06-26 17:07:42.009715   3.558731\n",
       "96  96     19  32 2020-06-26 17:07:42.021234   1.056357\n",
       "97  97     19  32 2020-06-26 17:07:42.033225   0.283324\n",
       "98  98     19  32 2020-06-26 17:07:42.044607   0.586491\n",
       "99  99     19  32 2020-06-26 17:07:42.055291   0.719754\n",
       "\n",
       "[100 rows x 5 columns]"
      ]
     },
     "metadata": {},
     "output_type": "display_data"
    },
    {
     "data": {
      "text/plain": [
       "{'loss': 23.086102708977013,\n",
       " 'epoch': 1,\n",
       " 'span': Timedelta('0 days 00:00:01.147202')}"
      ]
     },
     "execution_count": 14,
     "metadata": {},
     "output_type": "execute_result"
    }
   ],
   "source": [
    "batch_df,batch_mean = metab.mark()\n",
    "display(batch_df)\n",
    "batch_mean"
   ]
  },
  {
   "cell_type": "code",
   "execution_count": 15,
   "metadata": {},
   "outputs": [
    {
     "data": {
      "text/html": [
       "<div>\n",
       "<style scoped>\n",
       "    .dataframe tbody tr th:only-of-type {\n",
       "        vertical-align: middle;\n",
       "    }\n",
       "\n",
       "    .dataframe tbody tr th {\n",
       "        vertical-align: top;\n",
       "    }\n",
       "\n",
       "    .dataframe thead th {\n",
       "        text-align: right;\n",
       "    }\n",
       "</style>\n",
       "<table border=\"1\" class=\"dataframe\">\n",
       "  <thead>\n",
       "    <tr style=\"text-align: right;\">\n",
       "      <th></th>\n",
       "      <th>loss</th>\n",
       "      <th>epoch</th>\n",
       "      <th>span</th>\n",
       "    </tr>\n",
       "  </thead>\n",
       "  <tbody>\n",
       "    <tr>\n",
       "      <th>0</th>\n",
       "      <td>23.086103</td>\n",
       "      <td>1</td>\n",
       "      <td>00:00:01.147202</td>\n",
       "    </tr>\n",
       "  </tbody>\n",
       "</table>\n",
       "</div>"
      ],
      "text/plain": [
       "        loss  epoch            span\n",
       "0  23.086103      1 00:00:01.147202"
      ]
     },
     "execution_count": 15,
     "metadata": {},
     "output_type": "execute_result"
    }
   ],
   "source": [
    "metab.summary()"
   ]
  },
  {
   "cell_type": "code",
   "execution_count": 23,
   "metadata": {},
   "outputs": [],
   "source": [
    "# export\n",
    "def train_callbacks(loop):\n",
    "    loop.core.metric_tab = MetricTab()\n",
    "    \n",
    "    @loop.on_DATA_PROCESS\n",
    "    def opt_zero_grad(loop):\n",
    "        loop.opt(\"zero_grad\")()\n",
    "        \n",
    "    @loop.before_1st_FORWARD\n",
    "    def switch_model_to_train(loop):\n",
    "        loop.model(\"train\")()\n",
    "        \n",
    "    @loop.BACKWARD.on\n",
    "    def opt_step(loop):\n",
    "        loop.loss(\"backward\")()\n",
    "            \n",
    "    @loop.BACKWARD.on\n",
    "    def opt_step(loop):\n",
    "        loop.opt(\"step\")()\n",
    "        \n",
    "def to_tensor(x):\n",
    "    return torch.Tensor(x)\n",
    "        \n",
    "def train_single_forward(metric_func = []):\n",
    "    def train_single_forward_cb(self):\n",
    "        @self.on_DATA_PROCESS\n",
    "        def set_xy(self):\n",
    "            self.var.x,self.var.y = self.element\n",
    "            self.var.x = to_tensor(self.var.x)\n",
    "            self.var.y = to_tensor(self.var.y)\n",
    "            \n",
    "        @self.on_FORWARD\n",
    "        def forward_pass(self):\n",
    "            y_ = self.model()(self.var.x)\n",
    "            self.var.y_ = y_.popitem()[1][:,0]\n",
    "            \n",
    "        @self.on_LOSS_CALC\n",
    "        def calculate_loss(self):\n",
    "            losses =  self.loss_func()(self.var.y_,self.var.y)\n",
    "            self.loss.update(losses)\n",
    "            \n",
    "        @self.on_METRICS\n",
    "        def calcualte_metrics(self):\n",
    "            # calculate metrics\n",
    "            with torch.no_grad():\n",
    "                metrics = self.metric_func()(self.var.y_,self.var.y)\n",
    "                self.metric.update(metrics)\n",
    "        \n",
    "        @self.on_METRICS\n",
    "        def to_item(self):\n",
    "            # loop through metrics\n",
    "            self.metric.update(self.loss.cases)\n",
    "            dt = dict((k,v.item() if is_tensor(v) else v) \\\n",
    "                          for k,v in self.metric.cases.items())\n",
    "            self.metric_tab+=dt\n",
    "            self.pgbar_data(dt)\n",
    "            \n",
    "        @self.on_METRICS\n",
    "        def save_batch_row(self):\n",
    "            self.metric_tab.update(\n",
    "                bs = self.var.x.size(0),\n",
    "                epoch = self.epoch,\n",
    "                i = self.i,\n",
    "                ts = datetime.now()\n",
    "            )\n",
    "            \n",
    "        @self.after_last_METRICS\n",
    "        def show_metric(self):\n",
    "            self.metric_tab.mark()\n",
    "            summary =self.metric_tab.summary()\n",
    "            try:\n",
    "                from IPython.display import clear_output\n",
    "                clear_output()\n",
    "                display(summary)\n",
    "            except:\n",
    "                print(print(summary))\n",
    "            \n",
    "    return train_single_forward_cb\n",
    "\n",
    "def single_device(device):\n",
    "    def single_device_callback(self):\n",
    "        @on_DATA_PROCESS\n",
    "        def var_to_device(self):\n",
    "            self.var.apply(\"to\")(device)\n",
    "            \n",
    "        @before_1st_FORWARD\n",
    "        def model_to_device(self):\n",
    "            self.model.apply(\"to\")(device)\n",
    "            \n",
    "    return single_device"
   ]
  },
  {
   "cell_type": "code",
   "execution_count": 24,
   "metadata": {},
   "outputs": [],
   "source": [
    "# export \n",
    "import torch\n",
    "from torch import is_tensor\n",
    "\n",
    "class TrainLoop(LoopStack):\n",
    "    def __init__(self,data_iter,model=[],opt=[],loss_func=[],loss=[],hp=[],cuda=[], \n",
    "                 callbacks = [train_callbacks,],tolerate=True):\n",
    "        loops = [ProgressBar,]\n",
    "        if tolerate:\n",
    "            loops.append(Tolerate)\n",
    "        loops+=list(events(*TRAIN_EVENTS))\n",
    "        self.from_loops(*loops)\n",
    "        self.new_setting(\"model\",\"var\",\n",
    "                         \"opt\",\"loss_func\",\"loss\",\n",
    "                         \"hp\",\"cuda\",\"metric_func\",\"metric\")\n",
    "        self.init(data_iter,)\n",
    "        for cb in callbacks:\n",
    "            print(f\"assigning callback {cb}\")\n",
    "            cb(self)\n",
    "        \n",
    "class EvalLoop(LoopStack):\n",
    "    def __init__(self,data_iter,tolerate=True):\n",
    "        loops = [ProgressBar,]\n",
    "        if tolerate:\n",
    "            loops.append(Tolerate)\n",
    "        loops+=list(events(*EVAL_EVENTS))\n",
    "        self.from_loops(*loops)\n",
    "        self.new_setting(\"model\",\"var\",\n",
    "                         \"loss_func\",\"loss\",\n",
    "                         \"hp\",\"cuda\",\"metric_func\",\"metric\")\n",
    "        self.init(data_iter,)\n",
    "        \n",
    "        @self.EVAL_FORWARD.downstream\n",
    "        def torch_eval_wrap(self,func):\n",
    "            with torch.no_grad():\n",
    "                func()            "
   ]
  },
  {
   "cell_type": "code",
   "execution_count": 38,
   "metadata": {},
   "outputs": [
    {
     "name": "stdout",
     "output_type": "stream",
     "text": [
      "assigning callback <function train_callbacks at 0x1a36ab9e60>\n",
      "assigning callback <function train_single_forward.<locals>.train_single_forward_cb at 0x11d555cb0>\n"
     ]
    },
    {
     "data": {
      "text/plain": [
       "LoopStack>:TrainLoop\n",
       "\tlayer🍰Loop\n",
       "\tlayer🍰ProgressBar\n",
       "\tevent🌏DATA_PROCESS\n",
       "\tevent🌏FORWARD\n",
       "\tevent🌏LOSS_CALC\n",
       "\tevent🌏BACKWARD\n",
       "\tevent🌏OPT_STEP\n",
       "\tevent🌏METRICS"
      ]
     },
     "execution_count": 38,
     "metadata": {},
     "output_type": "execute_result"
    }
   ],
   "source": [
    "from torch import nn\n",
    "import torch\n",
    "\n",
    "data_list = list(zip(chunkify(x_normed),chunkify(y_normed)))\n",
    "\n",
    "loop = TrainLoop(data_list,tolerate=False,\n",
    "                 callbacks=[train_callbacks,\n",
    "                            train_single_forward([nn.MSELoss()])])\n",
    "loop"
   ]
  },
  {
   "cell_type": "code",
   "execution_count": 39,
   "metadata": {},
   "outputs": [],
   "source": [
    "# loop.search()"
   ]
  },
  {
   "cell_type": "code",
   "execution_count": 40,
   "metadata": {},
   "outputs": [],
   "source": [
    "loop.model.baseline = nn.Linear(8,1)\n",
    "loop.loss_func.mse = torch.nn.MSELoss()\n",
    "loop.metric_func.mae = torch.nn.L1Loss()\n",
    "loop.opt.adam = torch.optim.Adam(loop.model.baseline.parameters())"
   ]
  },
  {
   "cell_type": "code",
   "execution_count": 41,
   "metadata": {},
   "outputs": [
    {
     "data": {
      "application/vnd.jupyter.widget-view+json": {
       "model_id": "78b079bd2a34424ba13178af4b703cff",
       "version_major": 2,
       "version_minor": 0
      },
      "text/plain": [
       "interactive(children=(Text(value='', description='KeyWord'), Output()), _dom_classes=('widget-interact',))"
      ]
     },
     "metadata": {},
     "output_type": "display_data"
    }
   ],
   "source": [
    "loop.search()"
   ]
  },
  {
   "cell_type": "code",
   "execution_count": 42,
   "metadata": {
    "scrolled": false
   },
   "outputs": [
    {
     "data": {
      "text/html": [
       "<div>\n",
       "<style scoped>\n",
       "    .dataframe tbody tr th:only-of-type {\n",
       "        vertical-align: middle;\n",
       "    }\n",
       "\n",
       "    .dataframe tbody tr th {\n",
       "        vertical-align: top;\n",
       "    }\n",
       "\n",
       "    .dataframe thead th {\n",
       "        text-align: right;\n",
       "    }\n",
       "</style>\n",
       "<table border=\"1\" class=\"dataframe\">\n",
       "  <thead>\n",
       "    <tr style=\"text-align: right;\">\n",
       "      <th></th>\n",
       "      <th>mae</th>\n",
       "      <th>mse</th>\n",
       "      <th>epoch</th>\n",
       "      <th>span</th>\n",
       "    </tr>\n",
       "  </thead>\n",
       "  <tbody>\n",
       "    <tr>\n",
       "      <th>0</th>\n",
       "      <td>0.789477</td>\n",
       "      <td>0.934347</td>\n",
       "      <td>1</td>\n",
       "      <td>00:00:02.494852</td>\n",
       "    </tr>\n",
       "    <tr>\n",
       "      <th>1</th>\n",
       "      <td>0.599466</td>\n",
       "      <td>0.558161</td>\n",
       "      <td>2</td>\n",
       "      <td>00:00:02.232319</td>\n",
       "    </tr>\n",
       "    <tr>\n",
       "      <th>2</th>\n",
       "      <td>0.519890</td>\n",
       "      <td>0.439335</td>\n",
       "      <td>3</td>\n",
       "      <td>00:00:02.177595</td>\n",
       "    </tr>\n",
       "    <tr>\n",
       "      <th>3</th>\n",
       "      <td>0.483205</td>\n",
       "      <td>0.393359</td>\n",
       "      <td>4</td>\n",
       "      <td>00:00:02.190810</td>\n",
       "    </tr>\n",
       "    <tr>\n",
       "      <th>4</th>\n",
       "      <td>0.462739</td>\n",
       "      <td>0.367892</td>\n",
       "      <td>5</td>\n",
       "      <td>00:00:02.200242</td>\n",
       "    </tr>\n",
       "    <tr>\n",
       "      <th>5</th>\n",
       "      <td>0.448386</td>\n",
       "      <td>0.349679</td>\n",
       "      <td>6</td>\n",
       "      <td>00:00:02.257246</td>\n",
       "    </tr>\n",
       "    <tr>\n",
       "      <th>6</th>\n",
       "      <td>0.437556</td>\n",
       "      <td>0.336139</td>\n",
       "      <td>7</td>\n",
       "      <td>00:00:02.244074</td>\n",
       "    </tr>\n",
       "    <tr>\n",
       "      <th>7</th>\n",
       "      <td>0.429547</td>\n",
       "      <td>0.326401</td>\n",
       "      <td>8</td>\n",
       "      <td>00:00:02.210389</td>\n",
       "    </tr>\n",
       "    <tr>\n",
       "      <th>8</th>\n",
       "      <td>0.423843</td>\n",
       "      <td>0.319611</td>\n",
       "      <td>9</td>\n",
       "      <td>00:00:02.067069</td>\n",
       "    </tr>\n",
       "    <tr>\n",
       "      <th>9</th>\n",
       "      <td>0.419872</td>\n",
       "      <td>0.314951</td>\n",
       "      <td>10</td>\n",
       "      <td>00:00:02.129182</td>\n",
       "    </tr>\n",
       "  </tbody>\n",
       "</table>\n",
       "</div>"
      ],
      "text/plain": [
       "        mae       mse  epoch            span\n",
       "0  0.789477  0.934347  1     00:00:02.494852\n",
       "1  0.599466  0.558161  2     00:00:02.232319\n",
       "2  0.519890  0.439335  3     00:00:02.177595\n",
       "3  0.483205  0.393359  4     00:00:02.190810\n",
       "4  0.462739  0.367892  5     00:00:02.200242\n",
       "5  0.448386  0.349679  6     00:00:02.257246\n",
       "6  0.437556  0.336139  7     00:00:02.244074\n",
       "7  0.429547  0.326401  8     00:00:02.210389\n",
       "8  0.423843  0.319611  9     00:00:02.067069\n",
       "9  0.419872  0.314951  10    00:00:02.129182"
      ]
     },
     "metadata": {},
     "output_type": "display_data"
    }
   ],
   "source": [
    "for i in range(10):loop.run()"
   ]
  },
  {
   "cell_type": "code",
   "execution_count": 43,
   "metadata": {},
   "outputs": [],
   "source": [
    "from matplotlib import pyplot as plt"
   ]
  },
  {
   "cell_type": "code",
   "execution_count": 45,
   "metadata": {},
   "outputs": [
    {
     "data": {
      "text/html": [
       "<div>\n",
       "<style scoped>\n",
       "    .dataframe tbody tr th:only-of-type {\n",
       "        vertical-align: middle;\n",
       "    }\n",
       "\n",
       "    .dataframe tbody tr th {\n",
       "        vertical-align: top;\n",
       "    }\n",
       "\n",
       "    .dataframe thead th {\n",
       "        text-align: right;\n",
       "    }\n",
       "</style>\n",
       "<table border=\"1\" class=\"dataframe\">\n",
       "  <thead>\n",
       "    <tr style=\"text-align: right;\">\n",
       "      <th></th>\n",
       "      <th>bs</th>\n",
       "      <th>epoch</th>\n",
       "      <th>i</th>\n",
       "      <th>ts</th>\n",
       "      <th>mae</th>\n",
       "      <th>mse</th>\n",
       "    </tr>\n",
       "  </thead>\n",
       "  <tbody>\n",
       "    <tr>\n",
       "      <th>0</th>\n",
       "      <td>32</td>\n",
       "      <td>0</td>\n",
       "      <td>0</td>\n",
       "      <td>2020-06-26 22:49:40.482066</td>\n",
       "      <td>0.763297</td>\n",
       "      <td>1.123522</td>\n",
       "    </tr>\n",
       "    <tr>\n",
       "      <th>1</th>\n",
       "      <td>32</td>\n",
       "      <td>0</td>\n",
       "      <td>1</td>\n",
       "      <td>2020-06-26 22:49:40.484762</td>\n",
       "      <td>0.522899</td>\n",
       "      <td>0.373168</td>\n",
       "    </tr>\n",
       "    <tr>\n",
       "      <th>2</th>\n",
       "      <td>32</td>\n",
       "      <td>0</td>\n",
       "      <td>2</td>\n",
       "      <td>2020-06-26 22:49:40.487800</td>\n",
       "      <td>0.691767</td>\n",
       "      <td>0.706414</td>\n",
       "    </tr>\n",
       "    <tr>\n",
       "      <th>3</th>\n",
       "      <td>32</td>\n",
       "      <td>0</td>\n",
       "      <td>3</td>\n",
       "      <td>2020-06-26 22:49:40.491514</td>\n",
       "      <td>1.304520</td>\n",
       "      <td>2.105799</td>\n",
       "    </tr>\n",
       "    <tr>\n",
       "      <th>4</th>\n",
       "      <td>32</td>\n",
       "      <td>0</td>\n",
       "      <td>4</td>\n",
       "      <td>2020-06-26 22:49:40.494450</td>\n",
       "      <td>1.671734</td>\n",
       "      <td>3.089001</td>\n",
       "    </tr>\n",
       "    <tr>\n",
       "      <th>...</th>\n",
       "      <td>...</td>\n",
       "      <td>...</td>\n",
       "      <td>...</td>\n",
       "      <td>...</td>\n",
       "      <td>...</td>\n",
       "      <td>...</td>\n",
       "    </tr>\n",
       "    <tr>\n",
       "      <th>640</th>\n",
       "      <td>32</td>\n",
       "      <td>9</td>\n",
       "      <td>640</td>\n",
       "      <td>2020-06-26 22:50:03.125625</td>\n",
       "      <td>0.355864</td>\n",
       "      <td>0.172288</td>\n",
       "    </tr>\n",
       "    <tr>\n",
       "      <th>641</th>\n",
       "      <td>32</td>\n",
       "      <td>9</td>\n",
       "      <td>641</td>\n",
       "      <td>2020-06-26 22:50:03.128776</td>\n",
       "      <td>0.497732</td>\n",
       "      <td>0.538887</td>\n",
       "    </tr>\n",
       "    <tr>\n",
       "      <th>642</th>\n",
       "      <td>32</td>\n",
       "      <td>9</td>\n",
       "      <td>642</td>\n",
       "      <td>2020-06-26 22:50:03.131032</td>\n",
       "      <td>0.355291</td>\n",
       "      <td>0.221424</td>\n",
       "    </tr>\n",
       "    <tr>\n",
       "      <th>643</th>\n",
       "      <td>32</td>\n",
       "      <td>9</td>\n",
       "      <td>643</td>\n",
       "      <td>2020-06-26 22:50:03.134356</td>\n",
       "      <td>0.321069</td>\n",
       "      <td>0.172723</td>\n",
       "    </tr>\n",
       "    <tr>\n",
       "      <th>644</th>\n",
       "      <td>32</td>\n",
       "      <td>9</td>\n",
       "      <td>644</td>\n",
       "      <td>2020-06-26 22:50:03.137253</td>\n",
       "      <td>0.242149</td>\n",
       "      <td>0.128177</td>\n",
       "    </tr>\n",
       "  </tbody>\n",
       "</table>\n",
       "<p>6450 rows × 6 columns</p>\n",
       "</div>"
      ],
      "text/plain": [
       "     bs  epoch    i                         ts       mae       mse\n",
       "0    32  0      0   2020-06-26 22:49:40.482066  0.763297  1.123522\n",
       "1    32  0      1   2020-06-26 22:49:40.484762  0.522899  0.373168\n",
       "2    32  0      2   2020-06-26 22:49:40.487800  0.691767  0.706414\n",
       "3    32  0      3   2020-06-26 22:49:40.491514  1.304520  2.105799\n",
       "4    32  0      4   2020-06-26 22:49:40.494450  1.671734  3.089001\n",
       "..   .. ..     ..                          ...       ...       ...\n",
       "640  32  9      640 2020-06-26 22:50:03.125625  0.355864  0.172288\n",
       "641  32  9      641 2020-06-26 22:50:03.128776  0.497732  0.538887\n",
       "642  32  9      642 2020-06-26 22:50:03.131032  0.355291  0.221424\n",
       "643  32  9      643 2020-06-26 22:50:03.134356  0.321069  0.172723\n",
       "644  32  9      644 2020-06-26 22:50:03.137253  0.242149  0.128177\n",
       "\n",
       "[6450 rows x 6 columns]"
      ]
     },
     "execution_count": 45,
     "metadata": {},
     "output_type": "execute_result"
    }
   ],
   "source": [
    "metric_df"
   ]
  },
  {
   "cell_type": "code",
   "execution_count": 47,
   "metadata": {},
   "outputs": [
    {
     "data": {
      "text/plain": [
       "[<matplotlib.lines.Line2D at 0x1a36f3aed0>,\n",
       " <matplotlib.lines.Line2D at 0x1a36985150>]"
      ]
     },
     "execution_count": 47,
     "metadata": {},
     "output_type": "execute_result"
    },
    {
     "data": {
      "image/png": "[encoded data removed]",
      "text/plain": [
       "<Figure size 864x360 with 1 Axes>"
      ]
     },
     "metadata": {
      "needs_background": "light"
     },
     "output_type": "display_data"
    }
   ],
   "source": [
    "plt.figure(figsize = (12,5))\n",
    "metric_df = loop.metric_tab.summary()\n",
    "plt.plot(metric_df.mse,\"g--\",metric_df.mae,\"b.\")"
   ]
  },
  {
   "cell_type": "code",
   "execution_count": 19,
   "metadata": {},
   "outputs": [
    {
     "data": {
      "text/plain": [
       "🍄:model[\n",
       "\tbaseline\n",
       "]"
      ]
     },
     "execution_count": 19,
     "metadata": {},
     "output_type": "execute_result"
    }
   ],
   "source": [
    "loop.model"
   ]
  },
  {
   "cell_type": "code",
   "execution_count": 20,
   "metadata": {},
   "outputs": [
    {
     "data": {
      "text/plain": [
       "🍄:loss_func[\n",
       "\tmse\n",
       "]"
      ]
     },
     "execution_count": 20,
     "metadata": {},
     "output_type": "execute_result"
    }
   ],
   "source": [
    "loop.loss_func"
   ]
  },
  {
   "cell_type": "code",
   "execution_count": 21,
   "metadata": {},
   "outputs": [
    {
     "data": {
      "text/plain": [
       "🍄:metric[\n",
       "\tmae\n",
       "\tmse\n",
       "]"
      ]
     },
     "execution_count": 21,
     "metadata": {},
     "output_type": "execute_result"
    }
   ],
   "source": [
    "loop.metric"
   ]
  },
  {
   "cell_type": "code",
   "execution_count": 22,
   "metadata": {},
   "outputs": [
    {
     "data": {
      "text/plain": [
       "tensor(0.1213, grad_fn=<MseLossBackward>)"
      ]
     },
     "execution_count": 22,
     "metadata": {},
     "output_type": "execute_result"
    }
   ],
   "source": [
    "loop.metric.mse"
   ]
  },
  {
   "cell_type": "code",
   "execution_count": null,
   "metadata": {},
   "outputs": [],
   "source": []
  }
 ],
 "metadata": {
  "kernelspec": {
   "display_name": "Python 3",
   "language": "python",
   "name": "python3"
  },
  "language_info": {
   "codemirror_mode": {
    "name": "ipython",
    "version": 3
   },
   "file_extension": ".py",
   "mimetype": "text/x-python",
   "name": "python",
   "nbconvert_exporter": "python",
   "pygments_lexer": "ipython3",
   "version": "3.7.4"
  }
 },
 "nbformat": 4,
 "nbformat_minor": 4
}
