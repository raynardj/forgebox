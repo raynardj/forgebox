{
 "cells": [
  {
   "cell_type": "markdown",
   "metadata": {},
   "source": [
    "# 15 LoopStack"
   ]
  },
  {
   "cell_type": "code",
   "execution_count": 1,
   "metadata": {},
   "outputs": [],
   "source": [
    "# default_exp loopstack"
   ]
  },
  {
   "cell_type": "code",
   "execution_count": 1,
   "metadata": {},
   "outputs": [],
   "source": [
    "# export\n",
    "from forgebox.loop import Loop,ProgressBar,Tolerate,Event\n",
    "from types import MethodType"
   ]
  },
  {
   "cell_type": "code",
   "execution_count": 2,
   "metadata": {},
   "outputs": [],
   "source": [
    "# export\n",
    "def create_event(event_name):\n",
    "    class BatchEvent(Event):pass\n",
    "    BatchEvent.__name__ = event_name\n",
    "    return BatchEvent\n",
    "\n",
    "def events(*enames):\n",
    "    return list(map(create_event,enames))"
   ]
  },
  {
   "cell_type": "code",
   "execution_count": 3,
   "metadata": {},
   "outputs": [],
   "source": [
    "# export\n",
    "class LoopStack(Loop):\n",
    "    @classmethod\n",
    "    def from_loops(cls,*loops):\n",
    "        def init(self_,iterable=[],name = None):\n",
    "            name = name if name!=None else cls.__name__\n",
    "            super().__init__(iterable = iterable,\n",
    "                             name = name)\n",
    "            self_.loops = dict()\n",
    "            l = None\n",
    "            for L in loops:\n",
    "          #                 setattr(self,L.__name__,l)      \n",
    "                if l==None:\n",
    "                    l = L(iterable = self_)\n",
    "                else:\n",
    "                    l = L(iterable = l)\n",
    "                print(l.core.forall_pool.keys())\n",
    "                self_.loops.update({L.__name__:l})\n",
    "            \n",
    "        setattr(cls,\"__init__\",init)\n",
    "        return cls\n",
    "    \n",
    "    def __repr__(self,):\n",
    "        return f\"LoopStack>:{self.name}\\n\\t\"+\\\n",
    "            \"\\n\\t\".join(map(lambda x:\"Layer>>:\"+x,self.loops.keys()))"
   ]
  },
  {
   "cell_type": "code",
   "execution_count": 4,
   "metadata": {},
   "outputs": [],
   "source": [
    "TRAIN_EVENTS = [\"DATA_PROCESS\",\"FORWARD\",\"LOSS_CALC\",\"BACKWARD\",\"OPT_STEP\",\"METRICS\"]\n",
    "EVAL_EVENTS = [\"DATA_PROCESS\",\"EVAL_WRAP\",\"FORWARD\",\"LOSS_CALC\",\"METRICS\"]"
   ]
  },
  {
   "cell_type": "code",
   "execution_count": 5,
   "metadata": {},
   "outputs": [],
   "source": [
    "class TrainLoop(LoopStack):\n",
    "    def __init__(self,data_iter):\n",
    "        self.from_loops(ProgressBar,Tolerate,\n",
    "                        *events(*TRAIN_EVENTS))\n",
    "        self.__init__(data_iter,)"
   ]
  },
  {
   "cell_type": "code",
   "execution_count": 6,
   "metadata": {},
   "outputs": [
    {
     "name": "stdout",
     "output_type": "stream",
     "text": [
      "dict_keys(['pgbar_data', 'pgbar_description'])\n",
      "dict_keys(['pgbar_data', 'pgbar_description', 'error_list'])\n",
      "dict_keys(['pgbar_data', 'pgbar_description', 'error_list'])\n",
      "dict_keys(['pgbar_data', 'pgbar_description', 'error_list'])\n",
      "dict_keys(['pgbar_data', 'pgbar_description', 'error_list'])\n",
      "dict_keys(['pgbar_data', 'pgbar_description', 'error_list'])\n",
      "dict_keys(['pgbar_data', 'pgbar_description', 'error_list'])\n",
      "dict_keys(['pgbar_data', 'pgbar_description', 'error_list'])\n"
     ]
    },
    {
     "data": {
      "text/plain": [
       "LoopStack>:TrainLoop\n",
       "\tLayer>>:ProgressBar\n",
       "\tLayer>>:Tolerate\n",
       "\tLayer>>:DATA_PROCESS\n",
       "\tLayer>>:FORWARD\n",
       "\tLayer>>:LOSS_CALC\n",
       "\tLayer>>:BACKWARD\n",
       "\tLayer>>:OPT_STEP\n",
       "\tLayer>>:METRICS"
      ]
     },
     "execution_count": 6,
     "metadata": {},
     "output_type": "execute_result"
    }
   ],
   "source": [
    "loop = TrainLoop(range(20))\n",
    "loop"
   ]
  },
  {
   "cell_type": "code",
   "execution_count": 7,
   "metadata": {},
   "outputs": [
    {
     "data": {
      "text/plain": [
       "4618034896"
      ]
     },
     "execution_count": 7,
     "metadata": {},
     "output_type": "execute_result"
    }
   ],
   "source": [
    "id(loop.core)"
   ]
  },
  {
   "cell_type": "code",
   "execution_count": 121,
   "metadata": {},
   "outputs": [],
   "source": [
    "loop.core.assign_forall(loop)"
   ]
  },
  {
   "cell_type": "code",
   "execution_count": 125,
   "metadata": {},
   "outputs": [
    {
     "data": {
      "text/plain": [
       "{'pgbar_data': <bound method ProgressBar.pgbar_data of layer:>>>ProgressBar>,\n",
       " 'pgbar_description': <bound method ProgressBar.pgbar_description of layer:>>>ProgressBar>,\n",
       " 'error_list': <bound method Tolerate.error_list of layer:>>>Tolerate>}"
      ]
     },
     "execution_count": 125,
     "metadata": {},
     "output_type": "execute_result"
    }
   ],
   "source": [
    "loop.core.update_forall(loop)\n",
    "loop.core.forall_pool"
   ]
  },
  {
   "cell_type": "code",
   "execution_count": 130,
   "metadata": {},
   "outputs": [
    {
     "name": "stdout",
     "output_type": "stream",
     "text": [
      "{'pgbar_data': <bound method ProgressBar.pgbar_data of layer:>>>ProgressBar>, 'pgbar_description': <bound method ProgressBar.pgbar_description of layer:>>>ProgressBar>}\n"
     ]
    },
    {
     "data": {
      "text/plain": [
       "{'pgbar_data': <bound method ProgressBar.pgbar_data of layer:>>>ProgressBar>,\n",
       " 'pgbar_description': <bound method ProgressBar.pgbar_description of layer:>>>ProgressBar>,\n",
       " 'error_list': <bound method Tolerate.error_list of layer:>>>Tolerate>}"
      ]
     },
     "execution_count": 130,
     "metadata": {},
     "output_type": "execute_result"
    }
   ],
   "source": [
    "loop = loop.next_layer\n",
    "print(loop.core.for_all_functions(loop))\n",
    "loop.core.update_forall(loop)\n",
    "loop.core.forall_pool"
   ]
  },
  {
   "cell_type": "code",
   "execution_count": 131,
   "metadata": {},
   "outputs": [
    {
     "name": "stdout",
     "output_type": "stream",
     "text": [
      "{'error_list': <bound method Tolerate.error_list of layer:>>>Tolerate>, 'pgbar_data': <bound method ProgressBar.pgbar_data of layer:>>>ProgressBar>, 'pgbar_description': <bound method ProgressBar.pgbar_description of layer:>>>ProgressBar>}\n"
     ]
    },
    {
     "data": {
      "text/plain": [
       "{'pgbar_data': <bound method ProgressBar.pgbar_data of layer:>>>ProgressBar>,\n",
       " 'pgbar_description': <bound method ProgressBar.pgbar_description of layer:>>>ProgressBar>,\n",
       " 'error_list': <bound method Tolerate.error_list of layer:>>>Tolerate>}"
      ]
     },
     "execution_count": 131,
     "metadata": {},
     "output_type": "execute_result"
    }
   ],
   "source": [
    "loop = loop.next_layer\n",
    "print(loop.core.for_all_functions(loop))\n",
    "loop.core.update_forall(loop)\n",
    "loop.core.forall_pool"
   ]
  },
  {
   "cell_type": "code",
   "execution_count": 132,
   "metadata": {},
   "outputs": [
    {
     "name": "stdout",
     "output_type": "stream",
     "text": [
      "{'after_last_DATA_PROCESS': <bound method Event.create_cb_deco.<locals>.wraper of layer:>>>DATA_PROCESS>, 'before_1st_DATA_PROCESS': <bound method Event.create_cb_deco.<locals>.wraper of layer:>>>DATA_PROCESS>, 'error_list': <bound method Tolerate.error_list of layer:>>>Tolerate>, 'on_DATA_PROCESS': <bound method Event.create_cb_deco.<locals>.wraper of layer:>>>DATA_PROCESS>, 'pgbar_data': <bound method ProgressBar.pgbar_data of layer:>>>ProgressBar>, 'pgbar_description': <bound method ProgressBar.pgbar_description of layer:>>>ProgressBar>}\n"
     ]
    },
    {
     "data": {
      "text/plain": [
       "{'pgbar_data': <bound method ProgressBar.pgbar_data of layer:>>>ProgressBar>,\n",
       " 'pgbar_description': <bound method ProgressBar.pgbar_description of layer:>>>ProgressBar>,\n",
       " 'error_list': <bound method Tolerate.error_list of layer:>>>Tolerate>,\n",
       " 'after_last_DATA_PROCESS': <bound method Event.create_cb_deco.<locals>.wraper of layer:>>>DATA_PROCESS>,\n",
       " 'before_1st_DATA_PROCESS': <bound method Event.create_cb_deco.<locals>.wraper of layer:>>>DATA_PROCESS>,\n",
       " 'on_DATA_PROCESS': <bound method Event.create_cb_deco.<locals>.wraper of layer:>>>DATA_PROCESS>}"
      ]
     },
     "execution_count": 132,
     "metadata": {},
     "output_type": "execute_result"
    }
   ],
   "source": [
    "loop = loop.next_layer\n",
    "print(loop.core.for_all_functions(loop))\n",
    "loop.core.update_forall(loop)\n",
    "loop.core.forall_pool"
   ]
  },
  {
   "cell_type": "code",
   "execution_count": 133,
   "metadata": {},
   "outputs": [
    {
     "name": "stdout",
     "output_type": "stream",
     "text": [
      "{'after_last_FORWARD': <bound method Event.create_cb_deco.<locals>.wraper of layer:>>>FORWARD>, 'before_1st_FORWARD': <bound method Event.create_cb_deco.<locals>.wraper of layer:>>>FORWARD>, 'error_list': <bound method Tolerate.error_list of layer:>>>Tolerate>, 'on_FORWARD': <bound method Event.create_cb_deco.<locals>.wraper of layer:>>>FORWARD>, 'pgbar_data': <bound method ProgressBar.pgbar_data of layer:>>>ProgressBar>, 'pgbar_description': <bound method ProgressBar.pgbar_description of layer:>>>ProgressBar>}\n"
     ]
    },
    {
     "data": {
      "text/plain": [
       "{'pgbar_data': <bound method ProgressBar.pgbar_data of layer:>>>ProgressBar>,\n",
       " 'pgbar_description': <bound method ProgressBar.pgbar_description of layer:>>>ProgressBar>,\n",
       " 'error_list': <bound method Tolerate.error_list of layer:>>>Tolerate>,\n",
       " 'after_last_DATA_PROCESS': <bound method Event.create_cb_deco.<locals>.wraper of layer:>>>DATA_PROCESS>,\n",
       " 'before_1st_DATA_PROCESS': <bound method Event.create_cb_deco.<locals>.wraper of layer:>>>DATA_PROCESS>,\n",
       " 'on_DATA_PROCESS': <bound method Event.create_cb_deco.<locals>.wraper of layer:>>>DATA_PROCESS>,\n",
       " 'after_last_FORWARD': <bound method Event.create_cb_deco.<locals>.wraper of layer:>>>FORWARD>,\n",
       " 'before_1st_FORWARD': <bound method Event.create_cb_deco.<locals>.wraper of layer:>>>FORWARD>,\n",
       " 'on_FORWARD': <bound method Event.create_cb_deco.<locals>.wraper of layer:>>>FORWARD>}"
      ]
     },
     "execution_count": 133,
     "metadata": {},
     "output_type": "execute_result"
    }
   ],
   "source": [
    "loop = loop.next_layer\n",
    "print(loop.core.for_all_functions(loop))\n",
    "loop.core.update_forall(loop)\n",
    "loop.core.forall_pool"
   ]
  },
  {
   "cell_type": "code",
   "execution_count": 134,
   "metadata": {},
   "outputs": [
    {
     "name": "stdout",
     "output_type": "stream",
     "text": [
      "{'after_last_LOSS_CALC': <bound method Event.create_cb_deco.<locals>.wraper of layer:>>>LOSS_CALC>, 'before_1st_LOSS_CALC': <bound method Event.create_cb_deco.<locals>.wraper of layer:>>>LOSS_CALC>, 'error_list': <bound method Tolerate.error_list of layer:>>>Tolerate>, 'on_LOSS_CALC': <bound method Event.create_cb_deco.<locals>.wraper of layer:>>>LOSS_CALC>, 'pgbar_data': <bound method ProgressBar.pgbar_data of layer:>>>ProgressBar>, 'pgbar_description': <bound method ProgressBar.pgbar_description of layer:>>>ProgressBar>}\n"
     ]
    },
    {
     "data": {
      "text/plain": [
       "{'pgbar_data': <bound method ProgressBar.pgbar_data of layer:>>>ProgressBar>,\n",
       " 'pgbar_description': <bound method ProgressBar.pgbar_description of layer:>>>ProgressBar>,\n",
       " 'error_list': <bound method Tolerate.error_list of layer:>>>Tolerate>,\n",
       " 'after_last_DATA_PROCESS': <bound method Event.create_cb_deco.<locals>.wraper of layer:>>>DATA_PROCESS>,\n",
       " 'before_1st_DATA_PROCESS': <bound method Event.create_cb_deco.<locals>.wraper of layer:>>>DATA_PROCESS>,\n",
       " 'on_DATA_PROCESS': <bound method Event.create_cb_deco.<locals>.wraper of layer:>>>DATA_PROCESS>,\n",
       " 'after_last_FORWARD': <bound method Event.create_cb_deco.<locals>.wraper of layer:>>>FORWARD>,\n",
       " 'before_1st_FORWARD': <bound method Event.create_cb_deco.<locals>.wraper of layer:>>>FORWARD>,\n",
       " 'on_FORWARD': <bound method Event.create_cb_deco.<locals>.wraper of layer:>>>FORWARD>,\n",
       " 'after_last_LOSS_CALC': <bound method Event.create_cb_deco.<locals>.wraper of layer:>>>LOSS_CALC>,\n",
       " 'before_1st_LOSS_CALC': <bound method Event.create_cb_deco.<locals>.wraper of layer:>>>LOSS_CALC>,\n",
       " 'on_LOSS_CALC': <bound method Event.create_cb_deco.<locals>.wraper of layer:>>>LOSS_CALC>}"
      ]
     },
     "execution_count": 134,
     "metadata": {},
     "output_type": "execute_result"
    }
   ],
   "source": [
    "loop = loop.next_layer\n",
    "print(loop.core.for_all_functions(loop))\n",
    "loop.core.update_forall(loop)\n",
    "loop.core.forall_pool"
   ]
  },
  {
   "cell_type": "code",
   "execution_count": 122,
   "metadata": {},
   "outputs": [
    {
     "data": {
      "text/plain": [
       "{'pgbar_data': <bound method ProgressBar.pgbar_data of layer:>>>ProgressBar>,\n",
       " 'pgbar_description': <bound method ProgressBar.pgbar_description of layer:>>>ProgressBar>,\n",
       " 'error_list': <bound method Tolerate.error_list of layer:>>>Tolerate>}"
      ]
     },
     "execution_count": 122,
     "metadata": {},
     "output_type": "execute_result"
    }
   ],
   "source": [
    "loop.next_layer.next_layer.next_layer.core.forall_pool"
   ]
  },
  {
   "cell_type": "code",
   "execution_count": 123,
   "metadata": {},
   "outputs": [
    {
     "data": {
      "text/plain": [
       "{'after_last_LOSS_CALC': <bound method Event.create_cb_deco.<locals>.wraper of layer:>>>LOSS_CALC>,\n",
       " 'before_1st_LOSS_CALC': <bound method Event.create_cb_deco.<locals>.wraper of layer:>>>LOSS_CALC>,\n",
       " 'error_list': <bound method Tolerate.error_list of layer:>>>Tolerate>,\n",
       " 'on_LOSS_CALC': <bound method Event.create_cb_deco.<locals>.wraper of layer:>>>LOSS_CALC>,\n",
       " 'pgbar_data': <bound method ProgressBar.pgbar_data of layer:>>>ProgressBar>,\n",
       " 'pgbar_description': <bound method ProgressBar.pgbar_description of layer:>>>ProgressBar>}"
      ]
     },
     "execution_count": 123,
     "metadata": {},
     "output_type": "execute_result"
    }
   ],
   "source": [
    "loop.core.for_all_functions(loop.next_layer.next_layer.next_layer.next_layer.next_layer)"
   ]
  },
  {
   "cell_type": "code",
   "execution_count": 124,
   "metadata": {},
   "outputs": [
    {
     "ename": "AttributeError",
     "evalue": "'StorageCore' object has no attribute 'on_PROCESS'",
     "output_type": "error",
     "traceback": [
      "\u001b[0;31m---------------------------------------------------------------------------\u001b[0m",
      "\u001b[0;31mAttributeError\u001b[0m                            Traceback (most recent call last)",
      "\u001b[0;32m<ipython-input-124-90c2d1cd5e65>\u001b[0m in \u001b[0;36m<module>\u001b[0;34m\u001b[0m\n\u001b[0;32m----> 1\u001b[0;31m \u001b[0;34m@\u001b[0m\u001b[0mloop\u001b[0m\u001b[0;34m.\u001b[0m\u001b[0mon_PROCESS\u001b[0m\u001b[0;34m\u001b[0m\u001b[0;34m\u001b[0m\u001b[0m\n\u001b[0m\u001b[1;32m      2\u001b[0m \u001b[0;32mdef\u001b[0m \u001b[0mprocess_data\u001b[0m\u001b[0;34m(\u001b[0m\u001b[0mloop\u001b[0m\u001b[0;34m)\u001b[0m\u001b[0;34m:\u001b[0m\u001b[0;34m\u001b[0m\u001b[0;34m\u001b[0m\u001b[0m\n\u001b[1;32m      3\u001b[0m     \u001b[0mloop\u001b[0m\u001b[0;34m.\u001b[0m\u001b[0mcore\u001b[0m\u001b[0;34m.\u001b[0m\u001b[0mdouble\u001b[0m \u001b[0;34m=\u001b[0m \u001b[0mloop\u001b[0m\u001b[0;34m.\u001b[0m\u001b[0melement\u001b[0m\u001b[0;34m*\u001b[0m\u001b[0;36m2\u001b[0m\u001b[0;34m\u001b[0m\u001b[0;34m\u001b[0m\u001b[0m\n\u001b[1;32m      4\u001b[0m \u001b[0;34m\u001b[0m\u001b[0m\n\u001b[1;32m      5\u001b[0m \u001b[0;34m@\u001b[0m\u001b[0mloop\u001b[0m\u001b[0;34m.\u001b[0m\u001b[0mon_FORWARD\u001b[0m\u001b[0;34m\u001b[0m\u001b[0;34m\u001b[0m\u001b[0m\n",
      "\u001b[0;32m~/github/forgebox/forgebox/loop.py\u001b[0m in \u001b[0;36m__getattr__\u001b[0;34m(self, k)\u001b[0m\n\u001b[1;32m    234\u001b[0m \u001b[0;34m\u001b[0m\u001b[0m\n\u001b[1;32m    235\u001b[0m     \u001b[0;32mdef\u001b[0m \u001b[0m__getattr__\u001b[0m\u001b[0;34m(\u001b[0m\u001b[0mself\u001b[0m\u001b[0;34m,\u001b[0m\u001b[0mk\u001b[0m\u001b[0;34m)\u001b[0m\u001b[0;34m:\u001b[0m\u001b[0;34m\u001b[0m\u001b[0;34m\u001b[0m\u001b[0m\n\u001b[0;32m--> 236\u001b[0;31m         \u001b[0;32mreturn\u001b[0m \u001b[0mgetattr\u001b[0m\u001b[0;34m(\u001b[0m\u001b[0mself\u001b[0m\u001b[0;34m.\u001b[0m\u001b[0mcore\u001b[0m\u001b[0;34m,\u001b[0m\u001b[0mk\u001b[0m\u001b[0;34m)\u001b[0m\u001b[0;34m\u001b[0m\u001b[0;34m\u001b[0m\u001b[0m\n\u001b[0m\u001b[1;32m    237\u001b[0m \u001b[0;34m\u001b[0m\u001b[0m\n\u001b[1;32m    238\u001b[0m     \u001b[0;32mdef\u001b[0m \u001b[0mis_newloop\u001b[0m\u001b[0;34m(\u001b[0m\u001b[0mself\u001b[0m\u001b[0;34m)\u001b[0m\u001b[0;34m:\u001b[0m\u001b[0;34m\u001b[0m\u001b[0;34m\u001b[0m\u001b[0m\n",
      "\u001b[0;31mAttributeError\u001b[0m: 'StorageCore' object has no attribute 'on_PROCESS'"
     ]
    }
   ],
   "source": [
    "@loop.on_PROCESS\n",
    "def process_data(loop):\n",
    "    loop.core.double = loop.element*2\n",
    "    \n",
    "@loop.on_FORWARD\n",
    "def update_pg(loop):\n",
    "    loop.pgbar_description(f\"double:{self.double}\")"
   ]
  },
  {
   "cell_type": "code",
   "execution_count": 59,
   "metadata": {},
   "outputs": [
    {
     "data": {
      "text/plain": [
       "{'after_last_OPT_STEP': <bound method Event.create_cb_deco.<locals>.wraper of layer:>>>OPT_STEP>,\n",
       " 'before_1st_OPT_STEP': <bound method Event.create_cb_deco.<locals>.wraper of layer:>>>OPT_STEP>,\n",
       " 'error_list': <bound method Tolerate.error_list of layer:>>>Tolerate>,\n",
       " 'on_OPT_STEP': <bound method Event.create_cb_deco.<locals>.wraper of layer:>>>OPT_STEP>,\n",
       " 'pgbar_data': <bound method ProgressBar.pgbar_data of layer:>>>ProgressBar>,\n",
       " 'pgbar_description': <bound method ProgressBar.pgbar_description of layer:>>>ProgressBar>}"
      ]
     },
     "execution_count": 59,
     "metadata": {},
     "output_type": "execute_result"
    }
   ],
   "source": [
    "loop.core.for_all_functions(loop.OPT_STEP)"
   ]
  },
  {
   "cell_type": "code",
   "execution_count": 53,
   "metadata": {},
   "outputs": [
    {
     "name": "stdout",
     "output_type": "stream",
     "text": [
      "Loop layer TrainLoop summary:\n",
      "==================================================\n",
      "🍰layer0.0\tLoopStack>:TrainLoop\n",
      "\tLayer>>:ProgressBar\n",
      "\tLayer>>:Tolerate\n",
      "\tLayer>>:PROCESS\n",
      "\tLayer>>:FORWARD\n",
      "\tLayer>>:LOSS_CALC\n",
      "\tLayer>>:BACKWARD\n",
      "\tLayer>>:OPT_STEP\n",
      "\tLayer>>:METRICS\n",
      "\t[🐍func_name]\tafter_last_METRICS\n",
      "\t[⛰doc]\t\n",
      "            Append new after_last callback for event:METRICS\n",
      "            Use this function as decorator\n",
      "        \n",
      "\t[😝var]\tcls,f\n",
      "\t[😜names]\tgetattr\n",
      "\t...................................\n",
      "\t[🐍func_name]\tbefore_1st_METRICS\n",
      "\t[⛰doc]\t\n",
      "            Append new before_1st callback for event:METRICS\n",
      "            Use this function as decorator\n",
      "        \n",
      "\t[😝var]\tcls,f\n",
      "\t[😜names]\tgetattr\n",
      "\t...................................\n",
      "\t[🐍func_name]\terror_list\n",
      "\t[⛰doc]\t\n",
      "        A list of errors happend so far\n",
      "        \n",
      "\t[😝var]\tself\n",
      "\t[😜names]\terrors\n",
      "\t...................................\n",
      "\t[🐍func_name]\ton_METRICS\n",
      "\t[⛰doc]\t\n",
      "            Append new on callback for event:METRICS\n",
      "            Use this function as decorator\n",
      "        \n",
      "\t[😝var]\tcls,f\n",
      "\t[😜names]\tgetattr\n",
      "\t...................................\n",
      "\t[🐍func_name]\tpgbar_data\n",
      "\t[⛰doc]\t\n",
      "        update progress bar with python dictionary\n",
      "        data: python dictionary\n",
      "        \n",
      "\t[😝var]\tself,data\n",
      "\t[😜names]\tt,set_postfix\n",
      "\t...................................\n",
      "\t[🐍func_name]\tpgbar_description\n",
      "\t[⛰doc]\t\n",
      "        update progress bar prefix with text string\n",
      "        \n",
      "\t[😝var]\tself,text\n",
      "\t[😜names]\tt,set_description_str\n",
      "\t...................................\n",
      "--------------------------------------------------\n",
      "🍰layer1.0\tlayer:>>>ProgressBar\n",
      "--------------------------------------------------\n",
      "🍰layer2.0\tlayer:>>>Tolerate\n",
      "--------------------------------------------------\n",
      "🍰layer3.0\tlayer:>>>PROCESS\n",
      "\t[🐍func_name]\tafter_last_PROCESS\n",
      "\t[⛰doc]\t\n",
      "            Append new after_last callback for event:PROCESS\n",
      "            Use this function as decorator\n",
      "        \n",
      "\t[😝var]\tcls,f\n",
      "\t[😜names]\tgetattr\n",
      "\t...................................\n",
      "\t[🐍func_name]\tbefore_1st_PROCESS\n",
      "\t[⛰doc]\t\n",
      "            Append new before_1st callback for event:PROCESS\n",
      "            Use this function as decorator\n",
      "        \n",
      "\t[😝var]\tcls,f\n",
      "\t[😜names]\tgetattr\n",
      "\t...................................\n",
      "\t[🐍func_name]\ton_PROCESS\n",
      "\t[⛰doc]\t\n",
      "            Append new on callback for event:PROCESS\n",
      "            Use this function as decorator\n",
      "        \n",
      "\t[😝var]\tcls,f\n",
      "\t[😜names]\tgetattr\n",
      "\t...................................\n",
      "--------------------------------------------------\n",
      "🍰layer4.0\tlayer:>>>FORWARD\n",
      "\t[🐍func_name]\tafter_last_FORWARD\n",
      "\t[⛰doc]\t\n",
      "            Append new after_last callback for event:FORWARD\n",
      "            Use this function as decorator\n",
      "        \n",
      "\t[😝var]\tcls,f\n",
      "\t[😜names]\tgetattr\n",
      "\t...................................\n",
      "\t[🐍func_name]\tbefore_1st_FORWARD\n",
      "\t[⛰doc]\t\n",
      "            Append new before_1st callback for event:FORWARD\n",
      "            Use this function as decorator\n",
      "        \n",
      "\t[😝var]\tcls,f\n",
      "\t[😜names]\tgetattr\n",
      "\t...................................\n",
      "\t[🐍func_name]\ton_FORWARD\n",
      "\t[⛰doc]\t\n",
      "            Append new on callback for event:FORWARD\n",
      "            Use this function as decorator\n",
      "        \n",
      "\t[😝var]\tcls,f\n",
      "\t[😜names]\tgetattr\n",
      "\t...................................\n",
      "--------------------------------------------------\n",
      "🍰layer5.0\tlayer:>>>LOSS_CALC\n",
      "\t[🐍func_name]\tafter_last_LOSS_CALC\n",
      "\t[⛰doc]\t\n",
      "            Append new after_last callback for event:LOSS_CALC\n",
      "            Use this function as decorator\n",
      "        \n",
      "\t[😝var]\tcls,f\n",
      "\t[😜names]\tgetattr\n",
      "\t...................................\n",
      "\t[🐍func_name]\tbefore_1st_LOSS_CALC\n",
      "\t[⛰doc]\t\n",
      "            Append new before_1st callback for event:LOSS_CALC\n",
      "            Use this function as decorator\n",
      "        \n",
      "\t[😝var]\tcls,f\n",
      "\t[😜names]\tgetattr\n",
      "\t...................................\n",
      "\t[🐍func_name]\ton_LOSS_CALC\n",
      "\t[⛰doc]\t\n",
      "            Append new on callback for event:LOSS_CALC\n",
      "            Use this function as decorator\n",
      "        \n",
      "\t[😝var]\tcls,f\n",
      "\t[😜names]\tgetattr\n",
      "\t...................................\n",
      "--------------------------------------------------\n",
      "🍰layer6.0\tlayer:>>>BACKWARD\n",
      "\t[🐍func_name]\tafter_last_BACKWARD\n",
      "\t[⛰doc]\t\n",
      "            Append new after_last callback for event:BACKWARD\n",
      "            Use this function as decorator\n",
      "        \n",
      "\t[😝var]\tcls,f\n",
      "\t[😜names]\tgetattr\n",
      "\t...................................\n",
      "\t[🐍func_name]\tbefore_1st_BACKWARD\n",
      "\t[⛰doc]\t\n",
      "            Append new before_1st callback for event:BACKWARD\n",
      "            Use this function as decorator\n",
      "        \n",
      "\t[😝var]\tcls,f\n",
      "\t[😜names]\tgetattr\n",
      "\t...................................\n",
      "\t[🐍func_name]\ton_BACKWARD\n",
      "\t[⛰doc]\t\n",
      "            Append new on callback for event:BACKWARD\n",
      "            Use this function as decorator\n",
      "        \n",
      "\t[😝var]\tcls,f\n",
      "\t[😜names]\tgetattr\n",
      "\t...................................\n",
      "--------------------------------------------------\n",
      "🍰layer7.0\tlayer:>>>OPT_STEP\n",
      "\t[🐍func_name]\tafter_last_OPT_STEP\n",
      "\t[⛰doc]\t\n",
      "            Append new after_last callback for event:OPT_STEP\n",
      "            Use this function as decorator\n",
      "        \n",
      "\t[😝var]\tcls,f\n",
      "\t[😜names]\tgetattr\n",
      "\t...................................\n",
      "\t[🐍func_name]\tbefore_1st_OPT_STEP\n",
      "\t[⛰doc]\t\n",
      "            Append new before_1st callback for event:OPT_STEP\n",
      "            Use this function as decorator\n",
      "        \n",
      "\t[😝var]\tcls,f\n",
      "\t[😜names]\tgetattr\n",
      "\t...................................\n",
      "\t[🐍func_name]\ton_OPT_STEP\n",
      "\t[⛰doc]\t\n",
      "            Append new on callback for event:OPT_STEP\n",
      "            Use this function as decorator\n",
      "        \n",
      "\t[😝var]\tcls,f\n",
      "\t[😜names]\tgetattr\n",
      "\t...................................\n",
      "--------------------------------------------------\n",
      "🍰layer8.0\tlayer:>>>METRICS\n",
      "--------------------------------------------------\n",
      "==================================================\n",
      "\n"
     ]
    }
   ],
   "source": [
    "loop.summary()"
   ]
  },
  {
   "cell_type": "code",
   "execution_count": 11,
   "metadata": {},
   "outputs": [
    {
     "data": {
      "application/vnd.jupyter.widget-view+json": {
       "model_id": "c891a7e106614dba8f9ea3e3e00b473b",
       "version_major": 2,
       "version_minor": 0
      },
      "text/plain": [
       "HBox(children=(FloatProgress(value=0.0, max=20.0), HTML(value='')))"
      ]
     },
     "metadata": {},
     "output_type": "display_data"
    },
    {
     "name": "stdout",
     "output_type": "stream",
     "text": [
      "\n"
     ]
    }
   ],
   "source": [
    "train_loop.run()"
   ]
  },
  {
   "cell_type": "code",
   "execution_count": 54,
   "metadata": {},
   "outputs": [],
   "source": [
    "loopstack = LoopStack\\\n",
    "    .from_loops(*events(\"a\",\"b\",\"c\"))(range(5))"
   ]
  },
  {
   "cell_type": "code",
   "execution_count": 55,
   "metadata": {},
   "outputs": [
    {
     "data": {
      "text/plain": [
       "LoopStack>:LoopStack\n",
       "\tLayer>>:a\n",
       "\tLayer>>:b\n",
       "\tLayer>>:c"
      ]
     },
     "execution_count": 55,
     "metadata": {},
     "output_type": "execute_result"
    }
   ],
   "source": [
    "loopstack"
   ]
  },
  {
   "cell_type": "code",
   "execution_count": null,
   "metadata": {},
   "outputs": [],
   "source": []
  }
 ],
 "metadata": {
  "kernelspec": {
   "display_name": "Python 3",
   "language": "python",
   "name": "python3"
  },
  "language_info": {
   "codemirror_mode": {
    "name": "ipython",
    "version": 3
   },
   "file_extension": ".py",
   "mimetype": "text/x-python",
   "name": "python",
   "nbconvert_exporter": "python",
   "pygments_lexer": "ipython3",
   "version": "3.7.4"
  }
 },
 "nbformat": 4,
 "nbformat_minor": 4
}
