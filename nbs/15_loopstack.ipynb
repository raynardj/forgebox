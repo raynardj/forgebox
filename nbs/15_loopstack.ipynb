{
 "cells": [
  {
   "cell_type": "markdown",
   "metadata": {},
   "source": [
    "# 15 LoopStack\n",
    "> Stack loops in layers"
   ]
  },
  {
   "cell_type": "code",
   "execution_count": 1,
   "metadata": {},
   "outputs": [],
   "source": [
    "# default_exp loopstack"
   ]
  },
  {
   "cell_type": "code",
   "execution_count": 1,
   "metadata": {},
   "outputs": [],
   "source": [
    "# export\n",
    "from forgebox.loop import StorageCore,Loop,ProgressBar,Tolerate,Event,Stuff,chunkify\n",
    "from types import MethodType\n",
    "from datetime import datetime\n",
    "import numpy as np\n",
    "import pandas as pd\n",
    "from time import sleep"
   ]
  },
  {
   "cell_type": "markdown",
   "metadata": {},
   "source": [
    "To run through iterations quickly, we use the california housing data"
   ]
  },
  {
   "cell_type": "code",
   "execution_count": 2,
   "metadata": {},
   "outputs": [
    {
     "data": {
      "text/plain": [
       "((20640, 8), (20640,))"
      ]
     },
     "execution_count": 2,
     "metadata": {},
     "output_type": "execute_result"
    }
   ],
   "source": [
    "from sklearn.datasets.california_housing import fetch_california_housing\n",
    "x,y = fetch_california_housing(return_X_y = True)\n",
    "\n",
    "x.shape, y.shape"
   ]
  },
  {
   "cell_type": "markdown",
   "metadata": {},
   "source": [
    "Normalized Data"
   ]
  },
  {
   "cell_type": "markdown",
   "metadata": {},
   "source": [
    "Preview x input"
   ]
  },
  {
   "cell_type": "code",
   "execution_count": 3,
   "metadata": {},
   "outputs": [],
   "source": [
    "def norm(m,s): return lambda x: (x-m)/s\n",
    "def denorm(m,s): return lambda x: (x*s)+m\n",
    "\n",
    "x_normed = norm(x.mean(0),x.std(0))(x)\n",
    "y_normed = norm(y.mean(),y.std())(y)\n",
    "\n",
    "x_normed = np.clip(x_normed,-2,2)\n",
    "y_normed = np.clip(y_normed,-2,2)"
   ]
  },
  {
   "cell_type": "code",
   "execution_count": 4,
   "metadata": {},
   "outputs": [
    {
     "data": {
      "text/plain": [
       "(array([-0.04333 ,  0.000478, -0.0397  , -0.04486 , -0.0554  , -0.01229 ,\n",
       "        -0.007812,  0.001071], dtype=float16),\n",
       " array([0.85610596, 0.99901853, 0.53787672, 0.32598025, 0.73420682,\n",
       "        0.09438235, 0.98221114, 0.99421595]),\n",
       " -0.0302,\n",
       " 0.928904447452199)"
      ]
     },
     "execution_count": 4,
     "metadata": {},
     "output_type": "execute_result"
    }
   ],
   "source": [
    "x_normed.mean(0).astype(np.float16),x_normed.std(0),\\\n",
    "y_normed.mean().astype(np.float16),y_normed.std()"
   ]
  },
  {
   "cell_type": "code",
   "execution_count": 5,
   "metadata": {},
   "outputs": [
    {
     "data": {
      "text/plain": [
       "<matplotlib.image.AxesImage at 0x1a16a7fa50>"
      ]
     },
     "execution_count": 5,
     "metadata": {},
     "output_type": "execute_result"
    },
    {
     "data": {
      "image/png": "[encoded data removed]",
      "text/plain": [
       "<Figure size 432x288 with 1 Axes>"
      ]
     },
     "metadata": {
      "needs_background": "light"
     },
     "output_type": "display_data"
    }
   ],
   "source": [
    "from matplotlib import pyplot as plt\n",
    "%matplotlib inline\n",
    "plt.imshow(x_normed[np.random.choice(range(1000),10)])"
   ]
  },
  {
   "cell_type": "code",
   "execution_count": 6,
   "metadata": {},
   "outputs": [
    {
     "data": {
      "text/plain": [
       "array([[ 2.        ,  0.98214266,  0.62855945, ..., -0.04959654,\n",
       "         1.05254828, -1.32783522],\n",
       "       [ 2.        , -0.60701891,  0.32704136, ..., -0.09251223,\n",
       "         1.04318455, -1.32284391],\n",
       "       [ 1.7826994 ,  1.85618152,  1.15562047, ..., -0.02584253,\n",
       "         1.03850269, -1.33282653],\n",
       "       ...,\n",
       "       [-1.14259331, -0.92485123, -0.09031802, ..., -0.0717345 ,\n",
       "         1.77823747, -0.8237132 ],\n",
       "       [-1.05458292, -0.84539315, -0.04021111, ..., -0.09122515,\n",
       "         1.77823747, -0.87362627],\n",
       "       [-0.78012947, -1.00430931, -0.07044252, ..., -0.04368215,\n",
       "         1.75014627, -0.83369581]])"
      ]
     },
     "execution_count": 6,
     "metadata": {},
     "output_type": "execute_result"
    }
   ],
   "source": [
    "x_normed"
   ]
  },
  {
   "cell_type": "code",
   "execution_count": 7,
   "metadata": {},
   "outputs": [],
   "source": [
    "# export\n",
    "def create_event(event_name):\n",
    "    class BatchEvent(Event):pass\n",
    "    BatchEvent.__name__ = event_name\n",
    "    return BatchEvent\n",
    "\n",
    "def events(*enames):\n",
    "    return list(map(create_event,enames))"
   ]
  },
  {
   "cell_type": "code",
   "execution_count": 8,
   "metadata": {},
   "outputs": [],
   "source": [
    "# export\n",
    "class LoopStack(Loop):\n",
    "    settings = []\n",
    "    \"\"\"\n",
    "    A stack of loop\n",
    "    \"\"\"\n",
    "    @classmethod\n",
    "    def from_loops(cls,*loops):\n",
    "        def init(self,iterable=[],name = None):\n",
    "            name = name if name!=None else cls.__name__\n",
    "            \n",
    "            self.loops = dict()\n",
    "            l = Loop(iterable)\n",
    "            for L in loops: l = L(iterable = l)\n",
    "            super().__init__(iterable = l,\n",
    "                             name = name)\n",
    "            \n",
    "            for stuff in cls.settings:\n",
    "                self.make_stuff(stuff)\n",
    "                \n",
    "        setattr(cls,\"init\",init)\n",
    "        return cls\n",
    "    \n",
    "    @classmethod\n",
    "    def new_setting(cls,*settings):\n",
    "        cls.settings+=list(settings)\n",
    "    \n",
    "    def make_stuff(self,name):\n",
    "        new_stuff = Stuff(name)\n",
    "        setattr(self.core,name,new_stuff)\n",
    "        setattr(self,name,new_stuff)\n",
    "    \n",
    "    def __repr__(self,):\n",
    "        return f\"LoopStack>:{self.name}\\n\\t\"+\\\n",
    "            \"\\n\\t\".join(map(str,self.core.layers[:-1]))"
   ]
  },
  {
   "cell_type": "code",
   "execution_count": 9,
   "metadata": {},
   "outputs": [],
   "source": [
    "TRAIN_EVENTS = [\"DATA_PROCESS\",\"FORWARD\",\"LOSS_CALC\",\n",
    "                \"BACKWARD\",\"OPT_STEP\",\"METRICS\"]\n",
    "EVAL_EVENTS = [\"DATA_PROCESS\",\"EVAL_WRAP\",\"FORWARD\",\"LOSS_CALC\",\"METRICS\"]"
   ]
  },
  {
   "cell_type": "markdown",
   "metadata": {},
   "source": [
    "## Tabulated Metrics"
   ]
  },
  {
   "cell_type": "code",
   "execution_count": 10,
   "metadata": {},
   "outputs": [],
   "source": [
    "# export\n",
    "class MetricTab:\n",
    "    \"\"\"\n",
    "    An object handling metric running\n",
    "    \"\"\"\n",
    "    def __init__(self):\n",
    "        self.df_by_epoch = []\n",
    "        self.mean_by_epoch = []\n",
    "        self.refresh_list()\n",
    "        \n",
    "    def __add__(self,row):\n",
    "        self.results.append(row)\n",
    "        return self\n",
    "    \n",
    "    def summary(self):\n",
    "        \"\"\"The summary on metrics\"\"\"\n",
    "        return pd.DataFrame(self.mean_by_epoch)\n",
    "    \n",
    "    def update(self,**batch):\n",
    "        self.batch.append(batch)\n",
    "        return self\n",
    "    \n",
    "    def result_df(self):\n",
    "        return pd.DataFrame(self.results)\n",
    "    \n",
    "    def batch_df(self):\n",
    "        return pd.DataFrame(self.batch)\n",
    "    \n",
    "    def refresh_list(self):\n",
    "        self.batch = []\n",
    "        self.results = []\n",
    "        \n",
    "    def calc_mean(self,result_df,batch_df):\n",
    "        product_df = pd.DataFrame(dict((col,result_df[col]*batch_df[\"bs\"]) for col in self.result_cols))\n",
    "        batch_mean = dict()\n",
    "        for col in self.result_cols:\n",
    "            batch_mean[col] = product_df[col].sum()/batch_df[\"bs\"].sum()\n",
    "        batch_mean[\"epoch\"] = len(self.mean_by_epoch)+1\n",
    "        batch_mean[\"span\"] = batch_df.ts.max()-batch_df.ts.min()\n",
    "        return batch_mean\n",
    "    \n",
    "    def mark(self):\n",
    "        result_df = self.result_df()\n",
    "        batch_df = self.batch_df()\n",
    "        \n",
    "        self.result_cols = result_df.columns\n",
    "        for col in self.result_cols:\n",
    "            batch_df[col] = result_df[col]\n",
    "            \n",
    "        batch_mean = self.calc_mean(result_df,batch_df)\n",
    "            \n",
    "        self.df_by_epoch.append(batch_df)\n",
    "        self.mean_by_epoch.append(batch_mean)\n",
    "        \n",
    "        self.refresh_list()\n",
    "        \n",
    "        return batch_df, batch_mean"
   ]
  },
  {
   "cell_type": "code",
   "execution_count": 11,
   "metadata": {},
   "outputs": [],
   "source": [
    "metab = MetricTab()"
   ]
  },
  {
   "cell_type": "code",
   "execution_count": 12,
   "metadata": {},
   "outputs": [],
   "source": [
    "for i in range(100):\n",
    "    sleep(.01)\n",
    "    metab+=dict(loss= np.random.rand()*(100-i))\n",
    "    metab.update(i=i,epoch=i//5,bs = 32,ts = datetime.now())"
   ]
  },
  {
   "cell_type": "code",
   "execution_count": 13,
   "metadata": {},
   "outputs": [
    {
     "data": {
      "text/html": [
       "<div>\n",
       "<style scoped>\n",
       "    .dataframe tbody tr th:only-of-type {\n",
       "        vertical-align: middle;\n",
       "    }\n",
       "\n",
       "    .dataframe tbody tr th {\n",
       "        vertical-align: top;\n",
       "    }\n",
       "\n",
       "    .dataframe thead th {\n",
       "        text-align: right;\n",
       "    }\n",
       "</style>\n",
       "<table border=\"1\" class=\"dataframe\">\n",
       "  <thead>\n",
       "    <tr style=\"text-align: right;\">\n",
       "      <th></th>\n",
       "      <th>i</th>\n",
       "      <th>epoch</th>\n",
       "      <th>bs</th>\n",
       "      <th>ts</th>\n",
       "      <th>loss</th>\n",
       "    </tr>\n",
       "  </thead>\n",
       "  <tbody>\n",
       "    <tr>\n",
       "      <th>0</th>\n",
       "      <td>0</td>\n",
       "      <td>0</td>\n",
       "      <td>32</td>\n",
       "      <td>2020-06-29 23:44:44.966740</td>\n",
       "      <td>16.961023</td>\n",
       "    </tr>\n",
       "    <tr>\n",
       "      <th>1</th>\n",
       "      <td>1</td>\n",
       "      <td>0</td>\n",
       "      <td>32</td>\n",
       "      <td>2020-06-29 23:44:44.979320</td>\n",
       "      <td>13.221317</td>\n",
       "    </tr>\n",
       "    <tr>\n",
       "      <th>2</th>\n",
       "      <td>2</td>\n",
       "      <td>0</td>\n",
       "      <td>32</td>\n",
       "      <td>2020-06-29 23:44:44.991558</td>\n",
       "      <td>20.029550</td>\n",
       "    </tr>\n",
       "    <tr>\n",
       "      <th>3</th>\n",
       "      <td>3</td>\n",
       "      <td>0</td>\n",
       "      <td>32</td>\n",
       "      <td>2020-06-29 23:44:45.004121</td>\n",
       "      <td>35.804462</td>\n",
       "    </tr>\n",
       "    <tr>\n",
       "      <th>4</th>\n",
       "      <td>4</td>\n",
       "      <td>0</td>\n",
       "      <td>32</td>\n",
       "      <td>2020-06-29 23:44:45.014502</td>\n",
       "      <td>79.937055</td>\n",
       "    </tr>\n",
       "    <tr>\n",
       "      <th>...</th>\n",
       "      <td>...</td>\n",
       "      <td>...</td>\n",
       "      <td>...</td>\n",
       "      <td>...</td>\n",
       "      <td>...</td>\n",
       "    </tr>\n",
       "    <tr>\n",
       "      <th>95</th>\n",
       "      <td>95</td>\n",
       "      <td>19</td>\n",
       "      <td>32</td>\n",
       "      <td>2020-06-29 23:44:46.093200</td>\n",
       "      <td>1.311746</td>\n",
       "    </tr>\n",
       "    <tr>\n",
       "      <th>96</th>\n",
       "      <td>96</td>\n",
       "      <td>19</td>\n",
       "      <td>32</td>\n",
       "      <td>2020-06-29 23:44:46.103283</td>\n",
       "      <td>3.787564</td>\n",
       "    </tr>\n",
       "    <tr>\n",
       "      <th>97</th>\n",
       "      <td>97</td>\n",
       "      <td>19</td>\n",
       "      <td>32</td>\n",
       "      <td>2020-06-29 23:44:46.113360</td>\n",
       "      <td>2.087981</td>\n",
       "    </tr>\n",
       "    <tr>\n",
       "      <th>98</th>\n",
       "      <td>98</td>\n",
       "      <td>19</td>\n",
       "      <td>32</td>\n",
       "      <td>2020-06-29 23:44:46.125122</td>\n",
       "      <td>0.246656</td>\n",
       "    </tr>\n",
       "    <tr>\n",
       "      <th>99</th>\n",
       "      <td>99</td>\n",
       "      <td>19</td>\n",
       "      <td>32</td>\n",
       "      <td>2020-06-29 23:44:46.137825</td>\n",
       "      <td>0.154635</td>\n",
       "    </tr>\n",
       "  </tbody>\n",
       "</table>\n",
       "<p>100 rows × 5 columns</p>\n",
       "</div>"
      ],
      "text/plain": [
       "     i  epoch  bs                         ts       loss\n",
       "0    0      0  32 2020-06-29 23:44:44.966740  16.961023\n",
       "1    1      0  32 2020-06-29 23:44:44.979320  13.221317\n",
       "2    2      0  32 2020-06-29 23:44:44.991558  20.029550\n",
       "3    3      0  32 2020-06-29 23:44:45.004121  35.804462\n",
       "4    4      0  32 2020-06-29 23:44:45.014502  79.937055\n",
       "..  ..    ...  ..                        ...        ...\n",
       "95  95     19  32 2020-06-29 23:44:46.093200   1.311746\n",
       "96  96     19  32 2020-06-29 23:44:46.103283   3.787564\n",
       "97  97     19  32 2020-06-29 23:44:46.113360   2.087981\n",
       "98  98     19  32 2020-06-29 23:44:46.125122   0.246656\n",
       "99  99     19  32 2020-06-29 23:44:46.137825   0.154635\n",
       "\n",
       "[100 rows x 5 columns]"
      ]
     },
     "metadata": {},
     "output_type": "display_data"
    },
    {
     "data": {
      "text/plain": [
       "{'loss': 24.615831910057956,\n",
       " 'epoch': 1,\n",
       " 'span': Timedelta('0 days 00:00:01.171085')}"
      ]
     },
     "execution_count": 13,
     "metadata": {},
     "output_type": "execute_result"
    }
   ],
   "source": [
    "batch_df,batch_mean = metab.mark()\n",
    "display(batch_df)\n",
    "batch_mean"
   ]
  },
  {
   "cell_type": "code",
   "execution_count": 14,
   "metadata": {},
   "outputs": [
    {
     "data": {
      "text/html": [
       "<div>\n",
       "<style scoped>\n",
       "    .dataframe tbody tr th:only-of-type {\n",
       "        vertical-align: middle;\n",
       "    }\n",
       "\n",
       "    .dataframe tbody tr th {\n",
       "        vertical-align: top;\n",
       "    }\n",
       "\n",
       "    .dataframe thead th {\n",
       "        text-align: right;\n",
       "    }\n",
       "</style>\n",
       "<table border=\"1\" class=\"dataframe\">\n",
       "  <thead>\n",
       "    <tr style=\"text-align: right;\">\n",
       "      <th></th>\n",
       "      <th>loss</th>\n",
       "      <th>epoch</th>\n",
       "      <th>span</th>\n",
       "    </tr>\n",
       "  </thead>\n",
       "  <tbody>\n",
       "    <tr>\n",
       "      <th>0</th>\n",
       "      <td>24.615832</td>\n",
       "      <td>1</td>\n",
       "      <td>00:00:01.171085</td>\n",
       "    </tr>\n",
       "  </tbody>\n",
       "</table>\n",
       "</div>"
      ],
      "text/plain": [
       "        loss  epoch            span\n",
       "0  24.615832      1 00:00:01.171085"
      ]
     },
     "execution_count": 14,
     "metadata": {},
     "output_type": "execute_result"
    }
   ],
   "source": [
    "metab.summary()"
   ]
  },
  {
   "cell_type": "code",
   "execution_count": 63,
   "metadata": {},
   "outputs": [],
   "source": [
    "# export\n",
    "def train_callbacks(loop:Loop)->\"A cluster of callback function\":\n",
    "    \"\"\"\n",
    "    call backs allow optimizing model weights\n",
    "    \"\"\"\n",
    "    loop.core.metric_tab = MetricTab()\n",
    "    \n",
    "    @loop.every_start_FORWARD\n",
    "    def switch_model_to_train(loop:Loop): loop.model(\"train\")()\n",
    "    \n",
    "    @loop.on_DATA_PROCESS\n",
    "    def opt_zero_grad(loop:Loop):loop.opt(\"zero_grad\")()\n",
    "        \n",
    "    @loop.on_BACKWARD\n",
    "    def opt_move(loop:Loop): \n",
    "        loop.loss(\"backward\")()\n",
    "        loop.opt(\"step\")()\n",
    "        \n",
    "def eval_callbacks(loop:Loop):\n",
    "    loop.core.metric_tab = MetricTab()\n",
    "    @loop.on_DATA_PROCESS\n",
    "    def switch_model_to_eval(loop:Loop): loop.model(\"eval\")()\n",
    "        \n",
    "def to_tensor(x):\n",
    "    return torch.Tensor(x)\n",
    "        \n",
    "def simple_forward(metric_func:list = [])->\"A cluster of callback function\":\n",
    "    def simple_forward_cb(self):\n",
    "        @self.on_DATA_PROCESS\n",
    "        def set_xy(self):\n",
    "            self.var.clear()\n",
    "            self.var.x,self.var.y = self.element\n",
    "            self.var.apply(to_tensor,scope = [\"x\",\"y\"])()\n",
    "            \n",
    "        @self.on_FORWARD\n",
    "        def forward_pass(self):\n",
    "            y_ = self.model()(self.var.x)\n",
    "            self.var.y_ = y_.popitem()[1][:,0]\n",
    "            \n",
    "        @self.on_LOSS_CALC\n",
    "        def calculate_loss(self):\n",
    "            losses =  self.loss_func()(self.var.y_,self.var.y)\n",
    "            self.loss.update(losses)\n",
    "            \n",
    "        @self.on_METRICS\n",
    "        def calcualte_metrics(self):\n",
    "            # calculate metrics\n",
    "            with torch.no_grad():\n",
    "                metrics = self.metric_func()(self.var.y_,self.var.y)\n",
    "                self.metric.update(metrics)\n",
    "        \n",
    "        @self.on_METRICS\n",
    "        def to_item(self):\n",
    "            # loop through metrics\n",
    "            self.metric.update(self.loss.cases)\n",
    "            dt = dict((k,v.item() if is_tensor(v) else v) \\\n",
    "                          for k,v in self.metric.cases.items())\n",
    "            self.metric_tab+=dt\n",
    "            self.pgbar_data(dt)\n",
    "            \n",
    "        @self.on_METRICS\n",
    "        def save_batch_row(self):\n",
    "            self.metric_tab.update(\n",
    "                bs = self.var.x.size(0),\n",
    "                epoch = self.epoch,\n",
    "                i = self.i,\n",
    "                ts = datetime.now()\n",
    "            )\n",
    "            \n",
    "        @self.every_end_METRICS\n",
    "        def show_metric(self):\n",
    "            self.metric_tab.mark()\n",
    "            summary =self.metric_tab.summary()\n",
    "            try:\n",
    "                from IPython.display import clear_output\n",
    "                clear_output()\n",
    "                display(summary)\n",
    "            except:\n",
    "                print(summary)\n",
    "            \n",
    "    return simple_forward_cb\n",
    "\n",
    "def single_device(device):\n",
    "    def single_device_callback(self):\n",
    "        @self.on_DATA_PROCESS\n",
    "        def var_to_device(self):\n",
    "            self.var.apply(\"to\")(device)\n",
    "            \n",
    "        @self.before_1st_FORWARD\n",
    "        def model_to_device(self):\n",
    "            self.model.apply(\"to\")(device)\n",
    "            \n",
    "    return single_device"
   ]
  },
  {
   "cell_type": "code",
   "execution_count": 77,
   "metadata": {},
   "outputs": [],
   "source": [
    "# export \n",
    "import torch\n",
    "from torch import is_tensor\n",
    "\n",
    "class TrainLoop(LoopStack):\n",
    "    def __init__(self,data_iter,model=[],opt=[],loss_func=[],loss=[],hp=[],cuda=[], \n",
    "                 callbacks = [train_callbacks,],tolerate=True):\n",
    "        loops = [ProgressBar,]\n",
    "        if tolerate:\n",
    "            loops.append(Tolerate)\n",
    "        loops+=list(events(*TRAIN_EVENTS))\n",
    "        self.from_loops(*loops)\n",
    "        self.new_setting(\"model\",\"var\",\n",
    "                         \"opt\",\"loss_func\",\"loss\",\n",
    "                         \"hp\",\"cuda\",\"metric_func\",\"metric\")\n",
    "        self.init(data_iter,)\n",
    "        for cb in callbacks:\n",
    "            print(f\"assigning callback {cb}\")\n",
    "            cb(self)\n",
    "            \n",
    "#     @classmethod\n",
    "#     def from_config(cls,train_data,val_data,model,opt,)\n",
    "        \n",
    "class EvalLoop(LoopStack):\n",
    "    def __init__(self,data_iter,callbacks,tolerate=False):\n",
    "        loops = [ProgressBar,]\n",
    "        if tolerate:\n",
    "            loops.append(Tolerate)\n",
    "        loops+=list(events(*EVAL_EVENTS))\n",
    "        self.from_loops(*loops)\n",
    "        self.new_setting(\"model\",\"var\",\n",
    "                         \"loss_func\",\"loss\",\n",
    "                         \"hp\",\"cuda\",\"metric_func\",\"metric\")\n",
    "        self.init(data_iter,)\n",
    "        \n",
    "        for cb in callbacks:\n",
    "            print(f\"assigning callback {cb}\")\n",
    "            cb(self)\n",
    "        \n",
    "        @self.FORWARD.downstream\n",
    "        def torch_eval_wrap(self,func):\n",
    "            with torch.no_grad():\n",
    "                func()            "
   ]
  },
  {
   "cell_type": "code",
   "execution_count": 78,
   "metadata": {},
   "outputs": [],
   "source": [
    "from sklearn.model_selection import train_test_split"
   ]
  },
  {
   "cell_type": "code",
   "execution_count": 79,
   "metadata": {},
   "outputs": [],
   "source": [
    "x_train,x_val,y_train, y_val = train_test_split(x_normed,y_normed,test_size = .1)"
   ]
  },
  {
   "cell_type": "code",
   "execution_count": 80,
   "metadata": {},
   "outputs": [
    {
     "data": {
      "text/plain": [
       "[(18576, 8), (2064, 8), (18576,), (2064,)]"
      ]
     },
     "execution_count": 80,
     "metadata": {},
     "output_type": "execute_result"
    }
   ],
   "source": [
    "list(a.shape for a in [x_train,x_val,y_train, y_val])"
   ]
  },
  {
   "cell_type": "code",
   "execution_count": 81,
   "metadata": {},
   "outputs": [
    {
     "name": "stdout",
     "output_type": "stream",
     "text": [
      "assigning callback <function train_callbacks at 0x1a32fc70e0>\n",
      "assigning callback <function simple_forward.<locals>.simple_forward_cb at 0x1a2e995950>\n",
      "assigning callback <function eval_callbacks at 0x1a32fc7290>\n",
      "assigning callback <function simple_forward.<locals>.simple_forward_cb at 0x1a2e995950>\n"
     ]
    }
   ],
   "source": [
    "from torch import nn\n",
    "import torch\n",
    "\n",
    "data_train = list(zip(chunkify(x_train),chunkify(y_train)))\n",
    "data_val = list(zip(chunkify(x_val),chunkify(y_val)))\n",
    "\n",
    "forward_cb = simple_forward([nn.MSELoss()])\n",
    "\n",
    "train_loop = TrainLoop(data_train,tolerate=False,callbacks=[train_callbacks,forward_cb,])\n",
    "val_loop = EvalLoop(data_val,callbacks=[eval_callbacks,forward_cb,])"
   ]
  },
  {
   "cell_type": "code",
   "execution_count": 82,
   "metadata": {},
   "outputs": [],
   "source": [
    "@train_loop.every_end_METRICS\n",
    "def run_eval(self):\n",
    "    val_loop.run(1)"
   ]
  },
  {
   "cell_type": "code",
   "execution_count": 83,
   "metadata": {},
   "outputs": [],
   "source": [
    "# loop.search()"
   ]
  },
  {
   "cell_type": "markdown",
   "metadata": {},
   "source": [
    "#### Assigning stuff"
   ]
  },
  {
   "cell_type": "code",
   "execution_count": 84,
   "metadata": {},
   "outputs": [],
   "source": [
    "train_loop.model.baseline = nn.Linear(8,1)\n",
    "train_loop.loss_func.mse = torch.nn.MSELoss()\n",
    "train_loop.metric_func.mae = torch.nn.L1Loss() # MAE is L1 loss \n",
    "train_loop.opt.adam = torch.optim.Adam(train_loop.model.baseline.parameters())"
   ]
  },
  {
   "cell_type": "code",
   "execution_count": 85,
   "metadata": {},
   "outputs": [],
   "source": [
    "# export\n",
    "def find_stuff(core:StorageCore):\n",
    "    klist = list(filter(lambda k:hasattr(getattr(core,k),\"_is_stuff\"), vars(core).keys()))\n",
    "    return dict((k,getattr(core,k)) for k in klist)\n",
    "\n",
    "def share_stuff(loop_from:Loop,loop_to:Loop):\n",
    "    stuff_dict = find_stuff(loop_from.core)\n",
    "    for k,v in stuff_dict.items():\n",
    "        setattr(loop_to.core,k,v)"
   ]
  },
  {
   "cell_type": "code",
   "execution_count": 86,
   "metadata": {},
   "outputs": [],
   "source": [
    "share_stuff(train_loop,val_loop)"
   ]
  },
  {
   "cell_type": "code",
   "execution_count": 87,
   "metadata": {},
   "outputs": [
    {
     "data": {
      "application/vnd.jupyter.widget-view+json": {
       "model_id": "4e6efad5dada404d8d12754e2ffa6bc7",
       "version_major": 2,
       "version_minor": 0
      },
      "text/plain": [
       "interactive(children=(Text(value='', description='KeyWord'), Output()), _dom_classes=('widget-interact',))"
      ]
     },
     "metadata": {},
     "output_type": "display_data"
    }
   ],
   "source": [
    "train_loop.search()"
   ]
  },
  {
   "cell_type": "code",
   "execution_count": 88,
   "metadata": {
    "scrolled": false
   },
   "outputs": [
    {
     "data": {
      "text/html": [
       "<div>\n",
       "<style scoped>\n",
       "    .dataframe tbody tr th:only-of-type {\n",
       "        vertical-align: middle;\n",
       "    }\n",
       "\n",
       "    .dataframe tbody tr th {\n",
       "        vertical-align: top;\n",
       "    }\n",
       "\n",
       "    .dataframe thead th {\n",
       "        text-align: right;\n",
       "    }\n",
       "</style>\n",
       "<table border=\"1\" class=\"dataframe\">\n",
       "  <thead>\n",
       "    <tr style=\"text-align: right;\">\n",
       "      <th></th>\n",
       "      <th>mae</th>\n",
       "      <th>mse</th>\n",
       "      <th>epoch</th>\n",
       "      <th>span</th>\n",
       "    </tr>\n",
       "  </thead>\n",
       "  <tbody>\n",
       "    <tr>\n",
       "      <th>0</th>\n",
       "      <td>0.543840</td>\n",
       "      <td>0.470426</td>\n",
       "      <td>1</td>\n",
       "      <td>00:00:00.192830</td>\n",
       "    </tr>\n",
       "    <tr>\n",
       "      <th>1</th>\n",
       "      <td>0.469442</td>\n",
       "      <td>0.370095</td>\n",
       "      <td>2</td>\n",
       "      <td>00:00:00.218338</td>\n",
       "    </tr>\n",
       "    <tr>\n",
       "      <th>2</th>\n",
       "      <td>0.435934</td>\n",
       "      <td>0.328378</td>\n",
       "      <td>3</td>\n",
       "      <td>00:00:00.341273</td>\n",
       "    </tr>\n",
       "    <tr>\n",
       "      <th>3</th>\n",
       "      <td>0.421058</td>\n",
       "      <td>0.309691</td>\n",
       "      <td>4</td>\n",
       "      <td>00:00:00.226564</td>\n",
       "    </tr>\n",
       "    <tr>\n",
       "      <th>4</th>\n",
       "      <td>0.413919</td>\n",
       "      <td>0.301794</td>\n",
       "      <td>5</td>\n",
       "      <td>00:00:00.370209</td>\n",
       "    </tr>\n",
       "    <tr>\n",
       "      <th>5</th>\n",
       "      <td>0.410733</td>\n",
       "      <td>0.298556</td>\n",
       "      <td>6</td>\n",
       "      <td>00:00:00.243021</td>\n",
       "    </tr>\n",
       "    <tr>\n",
       "      <th>6</th>\n",
       "      <td>0.409406</td>\n",
       "      <td>0.297206</td>\n",
       "      <td>7</td>\n",
       "      <td>00:00:00.590279</td>\n",
       "    </tr>\n",
       "    <tr>\n",
       "      <th>7</th>\n",
       "      <td>0.408820</td>\n",
       "      <td>0.296614</td>\n",
       "      <td>8</td>\n",
       "      <td>00:00:00.211286</td>\n",
       "    </tr>\n",
       "    <tr>\n",
       "      <th>8</th>\n",
       "      <td>0.408552</td>\n",
       "      <td>0.296338</td>\n",
       "      <td>9</td>\n",
       "      <td>00:00:00.222686</td>\n",
       "    </tr>\n",
       "    <tr>\n",
       "      <th>9</th>\n",
       "      <td>0.408407</td>\n",
       "      <td>0.296203</td>\n",
       "      <td>10</td>\n",
       "      <td>00:00:00.243863</td>\n",
       "    </tr>\n",
       "  </tbody>\n",
       "</table>\n",
       "</div>"
      ],
      "text/plain": [
       "        mae       mse  epoch            span\n",
       "0  0.543840  0.470426  1     00:00:00.192830\n",
       "1  0.469442  0.370095  2     00:00:00.218338\n",
       "2  0.435934  0.328378  3     00:00:00.341273\n",
       "3  0.421058  0.309691  4     00:00:00.226564\n",
       "4  0.413919  0.301794  5     00:00:00.370209\n",
       "5  0.410733  0.298556  6     00:00:00.243021\n",
       "6  0.409406  0.297206  7     00:00:00.590279\n",
       "7  0.408820  0.296614  8     00:00:00.211286\n",
       "8  0.408552  0.296338  9     00:00:00.222686\n",
       "9  0.408407  0.296203  10    00:00:00.243863"
      ]
     },
     "metadata": {},
     "output_type": "display_data"
    }
   ],
   "source": [
    "for i in range(10): train_loop.run()"
   ]
  },
  {
   "cell_type": "code",
   "execution_count": 30,
   "metadata": {},
   "outputs": [],
   "source": [
    "from matplotlib import pyplot as plt"
   ]
  },
  {
   "cell_type": "code",
   "execution_count": 98,
   "metadata": {},
   "outputs": [
    {
     "data": {
      "text/html": [
       "<div>\n",
       "<style scoped>\n",
       "    .dataframe tbody tr th:only-of-type {\n",
       "        vertical-align: middle;\n",
       "    }\n",
       "\n",
       "    .dataframe tbody tr th {\n",
       "        vertical-align: top;\n",
       "    }\n",
       "\n",
       "    .dataframe thead th {\n",
       "        text-align: right;\n",
       "    }\n",
       "</style>\n",
       "<table border=\"1\" class=\"dataframe\">\n",
       "  <thead>\n",
       "    <tr style=\"text-align: right;\">\n",
       "      <th></th>\n",
       "      <th>mae</th>\n",
       "      <th>mse</th>\n",
       "      <th>epoch</th>\n",
       "      <th>span</th>\n",
       "    </tr>\n",
       "  </thead>\n",
       "  <tbody>\n",
       "    <tr>\n",
       "      <th>0</th>\n",
       "      <td>0.638208</td>\n",
       "      <td>0.643468</td>\n",
       "      <td>1</td>\n",
       "      <td>00:00:03.698205</td>\n",
       "    </tr>\n",
       "    <tr>\n",
       "      <th>1</th>\n",
       "      <td>0.502992</td>\n",
       "      <td>0.419795</td>\n",
       "      <td>2</td>\n",
       "      <td>00:00:03.794402</td>\n",
       "    </tr>\n",
       "    <tr>\n",
       "      <th>2</th>\n",
       "      <td>0.452121</td>\n",
       "      <td>0.352748</td>\n",
       "      <td>3</td>\n",
       "      <td>00:00:02.817318</td>\n",
       "    </tr>\n",
       "    <tr>\n",
       "      <th>3</th>\n",
       "      <td>0.428087</td>\n",
       "      <td>0.322776</td>\n",
       "      <td>4</td>\n",
       "      <td>00:00:03.210466</td>\n",
       "    </tr>\n",
       "    <tr>\n",
       "      <th>4</th>\n",
       "      <td>0.417210</td>\n",
       "      <td>0.309802</td>\n",
       "      <td>5</td>\n",
       "      <td>00:00:03.277518</td>\n",
       "    </tr>\n",
       "    <tr>\n",
       "      <th>5</th>\n",
       "      <td>0.412780</td>\n",
       "      <td>0.304515</td>\n",
       "      <td>6</td>\n",
       "      <td>00:00:02.883348</td>\n",
       "    </tr>\n",
       "    <tr>\n",
       "      <th>6</th>\n",
       "      <td>0.410944</td>\n",
       "      <td>0.302396</td>\n",
       "      <td>7</td>\n",
       "      <td>00:00:03.805901</td>\n",
       "    </tr>\n",
       "    <tr>\n",
       "      <th>7</th>\n",
       "      <td>0.410153</td>\n",
       "      <td>0.301516</td>\n",
       "      <td>8</td>\n",
       "      <td>00:00:03.043291</td>\n",
       "    </tr>\n",
       "    <tr>\n",
       "      <th>8</th>\n",
       "      <td>0.409786</td>\n",
       "      <td>0.301119</td>\n",
       "      <td>9</td>\n",
       "      <td>00:00:02.914900</td>\n",
       "    </tr>\n",
       "    <tr>\n",
       "      <th>9</th>\n",
       "      <td>0.409595</td>\n",
       "      <td>0.300921</td>\n",
       "      <td>10</td>\n",
       "      <td>00:00:02.387062</td>\n",
       "    </tr>\n",
       "  </tbody>\n",
       "</table>\n",
       "</div>"
      ],
      "text/plain": [
       "        mae       mse  epoch            span\n",
       "0  0.638208  0.643468  1     00:00:03.698205\n",
       "1  0.502992  0.419795  2     00:00:03.794402\n",
       "2  0.452121  0.352748  3     00:00:02.817318\n",
       "3  0.428087  0.322776  4     00:00:03.210466\n",
       "4  0.417210  0.309802  5     00:00:03.277518\n",
       "5  0.412780  0.304515  6     00:00:02.883348\n",
       "6  0.410944  0.302396  7     00:00:03.805901\n",
       "7  0.410153  0.301516  8     00:00:03.043291\n",
       "8  0.409786  0.301119  9     00:00:02.914900\n",
       "9  0.409595  0.300921  10    00:00:02.387062"
      ]
     },
     "metadata": {},
     "output_type": "display_data"
    },
    {
     "data": {
      "text/html": [
       "<div>\n",
       "<style scoped>\n",
       "    .dataframe tbody tr th:only-of-type {\n",
       "        vertical-align: middle;\n",
       "    }\n",
       "\n",
       "    .dataframe tbody tr th {\n",
       "        vertical-align: top;\n",
       "    }\n",
       "\n",
       "    .dataframe thead th {\n",
       "        text-align: right;\n",
       "    }\n",
       "</style>\n",
       "<table border=\"1\" class=\"dataframe\">\n",
       "  <thead>\n",
       "    <tr style=\"text-align: right;\">\n",
       "      <th></th>\n",
       "      <th>mae</th>\n",
       "      <th>mse</th>\n",
       "      <th>epoch</th>\n",
       "      <th>span</th>\n",
       "    </tr>\n",
       "  </thead>\n",
       "  <tbody>\n",
       "    <tr>\n",
       "      <th>0</th>\n",
       "      <td>0.543840</td>\n",
       "      <td>0.470426</td>\n",
       "      <td>1</td>\n",
       "      <td>00:00:00.192830</td>\n",
       "    </tr>\n",
       "    <tr>\n",
       "      <th>1</th>\n",
       "      <td>0.469442</td>\n",
       "      <td>0.370095</td>\n",
       "      <td>2</td>\n",
       "      <td>00:00:00.218338</td>\n",
       "    </tr>\n",
       "    <tr>\n",
       "      <th>2</th>\n",
       "      <td>0.435934</td>\n",
       "      <td>0.328378</td>\n",
       "      <td>3</td>\n",
       "      <td>00:00:00.341273</td>\n",
       "    </tr>\n",
       "    <tr>\n",
       "      <th>3</th>\n",
       "      <td>0.421058</td>\n",
       "      <td>0.309691</td>\n",
       "      <td>4</td>\n",
       "      <td>00:00:00.226564</td>\n",
       "    </tr>\n",
       "    <tr>\n",
       "      <th>4</th>\n",
       "      <td>0.413919</td>\n",
       "      <td>0.301794</td>\n",
       "      <td>5</td>\n",
       "      <td>00:00:00.370209</td>\n",
       "    </tr>\n",
       "    <tr>\n",
       "      <th>5</th>\n",
       "      <td>0.410733</td>\n",
       "      <td>0.298556</td>\n",
       "      <td>6</td>\n",
       "      <td>00:00:00.243021</td>\n",
       "    </tr>\n",
       "    <tr>\n",
       "      <th>6</th>\n",
       "      <td>0.409406</td>\n",
       "      <td>0.297206</td>\n",
       "      <td>7</td>\n",
       "      <td>00:00:00.590279</td>\n",
       "    </tr>\n",
       "    <tr>\n",
       "      <th>7</th>\n",
       "      <td>0.408820</td>\n",
       "      <td>0.296614</td>\n",
       "      <td>8</td>\n",
       "      <td>00:00:00.211286</td>\n",
       "    </tr>\n",
       "    <tr>\n",
       "      <th>8</th>\n",
       "      <td>0.408552</td>\n",
       "      <td>0.296338</td>\n",
       "      <td>9</td>\n",
       "      <td>00:00:00.222686</td>\n",
       "    </tr>\n",
       "    <tr>\n",
       "      <th>9</th>\n",
       "      <td>0.408407</td>\n",
       "      <td>0.296203</td>\n",
       "      <td>10</td>\n",
       "      <td>00:00:00.243863</td>\n",
       "    </tr>\n",
       "  </tbody>\n",
       "</table>\n",
       "</div>"
      ],
      "text/plain": [
       "        mae       mse  epoch            span\n",
       "0  0.543840  0.470426  1     00:00:00.192830\n",
       "1  0.469442  0.370095  2     00:00:00.218338\n",
       "2  0.435934  0.328378  3     00:00:00.341273\n",
       "3  0.421058  0.309691  4     00:00:00.226564\n",
       "4  0.413919  0.301794  5     00:00:00.370209\n",
       "5  0.410733  0.298556  6     00:00:00.243021\n",
       "6  0.409406  0.297206  7     00:00:00.590279\n",
       "7  0.408820  0.296614  8     00:00:00.211286\n",
       "8  0.408552  0.296338  9     00:00:00.222686\n",
       "9  0.408407  0.296203  10    00:00:00.243863"
      ]
     },
     "metadata": {},
     "output_type": "display_data"
    },
    {
     "data": {
      "text/plain": [
       "[<matplotlib.lines.Line2D at 0x1a2f731050>,\n",
       " <matplotlib.lines.Line2D at 0x1a2f461cd0>]"
      ]
     },
     "execution_count": 98,
     "metadata": {},
     "output_type": "execute_result"
    },
    {
     "data": {
      "image/png": "[encoded data removed]",
      "text/plain": [
       "<Figure size 864x360 with 1 Axes>"
      ]
     },
     "metadata": {
      "needs_background": "light"
     },
     "output_type": "display_data"
    }
   ],
   "source": [
    "plt.figure(figsize = (12,5))\n",
    "metric_df = train_loop.metric_tab.summary()\n",
    "val_metric_df = val_loop.metric_tab.summary()\n",
    "\n",
    "display(metric_df)\n",
    "display(val_metric_df)\n",
    "plt.plot(metric_df.mse,\"bo--\",label=\"train mse\")\n",
    "plt.plot(metric_df.mae,\"bo\",label=\"train mae\")\n",
    "plt.plot(val_metric_df.mse,\"ro--\",val_metric_df.mae,\"ro\")"
   ]
  },
  {
   "cell_type": "code",
   "execution_count": null,
   "metadata": {},
   "outputs": [],
   "source": []
  }
 ],
 "metadata": {
  "kernelspec": {
   "display_name": "Python 3",
   "language": "python",
   "name": "python3"
  },
  "language_info": {
   "codemirror_mode": {
    "name": "ipython",
    "version": 3
   },
   "file_extension": ".py",
   "mimetype": "text/x-python",
   "name": "python",
   "nbconvert_exporter": "python",
   "pygments_lexer": "ipython3",
   "version": "3.7.4"
  },
  "toc": {
   "base_numbering": 1,
   "nav_menu": {},
   "number_sections": true,
   "sideBar": true,
   "skip_h1_title": false,
   "title_cell": "Table of Contents",
   "title_sidebar": "Contents",
   "toc_cell": false,
   "toc_position": {},
   "toc_section_display": true,
   "toc_window_display": false
  }
 },
 "nbformat": 4,
 "nbformat_minor": 4
}
