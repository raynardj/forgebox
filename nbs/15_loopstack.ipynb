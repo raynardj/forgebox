{
 "cells": [
  {
   "cell_type": "markdown",
   "metadata": {},
   "source": [
    "# 15 LoopStack"
   ]
  },
  {
   "cell_type": "code",
   "execution_count": 1,
   "metadata": {},
   "outputs": [],
   "source": [
    "# default_exp loopstack"
   ]
  },
  {
   "cell_type": "code",
   "execution_count": 2,
   "metadata": {},
   "outputs": [],
   "source": [
    "# export\n",
    "from forgebox.loop import Loop,ProgressBar,Tolerate,Event,Stuff,chunkify\n",
    "from types import MethodType\n",
    "import numpy as np"
   ]
  },
  {
   "cell_type": "markdown",
   "metadata": {},
   "source": [
    "To run through iterations quickly, we use the california housing data"
   ]
  },
  {
   "cell_type": "code",
   "execution_count": 3,
   "metadata": {},
   "outputs": [
    {
     "data": {
      "text/plain": [
       "((20640, 8), (20640,))"
      ]
     },
     "execution_count": 3,
     "metadata": {},
     "output_type": "execute_result"
    }
   ],
   "source": [
    "from sklearn.datasets.california_housing import fetch_california_housing\n",
    "x,y = fetch_california_housing(return_X_y = True)\n",
    "\n",
    "x.shape, y.shape"
   ]
  },
  {
   "cell_type": "markdown",
   "metadata": {},
   "source": [
    "Normalized Data"
   ]
  },
  {
   "cell_type": "markdown",
   "metadata": {},
   "source": [
    "Preview x input"
   ]
  },
  {
   "cell_type": "code",
   "execution_count": 4,
   "metadata": {},
   "outputs": [],
   "source": [
    "def norm(m,s): return lambda x: (x-m)/s\n",
    "def denorm(m,s): return lambda x: (x*s)+m\n",
    "\n",
    "x_normed = norm(x.mean(0),x.std(0))(x)\n",
    "y_normed = norm(y.mean(),y.std())(y)"
   ]
  },
  {
   "cell_type": "code",
   "execution_count": 5,
   "metadata": {},
   "outputs": [
    {
     "data": {
      "text/plain": [
       "(array([ 0.,  0.,  0., -0., -0.,  0., -0., -0.], dtype=float16),\n",
       " array([1., 1., 1., 1., 1., 1., 1., 1.]),\n",
       " 0.0,\n",
       " 1.0)"
      ]
     },
     "execution_count": 5,
     "metadata": {},
     "output_type": "execute_result"
    }
   ],
   "source": [
    "x_normed.mean(0).astype(np.float16),x_normed.std(0),\\\n",
    "y_normed.mean().astype(np.float16),y_normed.std()"
   ]
  },
  {
   "cell_type": "code",
   "execution_count": 6,
   "metadata": {},
   "outputs": [
    {
     "data": {
      "text/plain": [
       "<matplotlib.image.AxesImage at 0x1a1ef4fb50>"
      ]
     },
     "execution_count": 6,
     "metadata": {},
     "output_type": "execute_result"
    },
    {
     "data": {
      "image/png": "[encoded data removed]",
      "text/plain": [
       "<Figure size 432x288 with 1 Axes>"
      ]
     },
     "metadata": {
      "needs_background": "light"
     },
     "output_type": "display_data"
    }
   ],
   "source": [
    "from matplotlib import pyplot as plt\n",
    "%matplotlib inline\n",
    "plt.imshow(x_normed[np.random.choice(range(1000),10)])"
   ]
  },
  {
   "cell_type": "code",
   "execution_count": 7,
   "metadata": {},
   "outputs": [
    {
     "data": {
      "text/plain": [
       "array([[ 2.34476576,  0.98214266,  0.62855945, ..., -0.04959654,\n",
       "         1.05254828, -1.32783522],\n",
       "       [ 2.33223796, -0.60701891,  0.32704136, ..., -0.09251223,\n",
       "         1.04318455, -1.32284391],\n",
       "       [ 1.7826994 ,  1.85618152,  1.15562047, ..., -0.02584253,\n",
       "         1.03850269, -1.33282653],\n",
       "       ...,\n",
       "       [-1.14259331, -0.92485123, -0.09031802, ..., -0.0717345 ,\n",
       "         1.77823747, -0.8237132 ],\n",
       "       [-1.05458292, -0.84539315, -0.04021111, ..., -0.09122515,\n",
       "         1.77823747, -0.87362627],\n",
       "       [-0.78012947, -1.00430931, -0.07044252, ..., -0.04368215,\n",
       "         1.75014627, -0.83369581]])"
      ]
     },
     "execution_count": 7,
     "metadata": {},
     "output_type": "execute_result"
    }
   ],
   "source": [
    "x_normed"
   ]
  },
  {
   "cell_type": "code",
   "execution_count": 8,
   "metadata": {},
   "outputs": [],
   "source": [
    "# export\n",
    "def create_event(event_name):\n",
    "    class BatchEvent(Event):pass\n",
    "    BatchEvent.__name__ = event_name\n",
    "    return BatchEvent\n",
    "\n",
    "def events(*enames):\n",
    "    return list(map(create_event,enames))"
   ]
  },
  {
   "cell_type": "code",
   "execution_count": 9,
   "metadata": {},
   "outputs": [],
   "source": [
    "# export\n",
    "class LoopStack(Loop):\n",
    "    settings = []\n",
    "    \"\"\"\n",
    "    A stack of loop\n",
    "    \"\"\"\n",
    "    @classmethod\n",
    "    def from_loops(cls,*loops):\n",
    "        def init(self,iterable=[],name = None):\n",
    "            name = name if name!=None else cls.__name__\n",
    "            \n",
    "            self.loops = dict()\n",
    "            l = Loop(iterable)\n",
    "            for L in loops:\n",
    "                l = L(iterable = l)\n",
    "            super().__init__(iterable = l,\n",
    "                             name = name)\n",
    "            \n",
    "            for stuff in cls.settings:\n",
    "                self.make_stuff(stuff)\n",
    "                \n",
    "            \n",
    "            \n",
    "        setattr(cls,\"init\",init)\n",
    "        return cls\n",
    "    \n",
    "    @classmethod\n",
    "    def new_setting(cls,*settings):\n",
    "        cls.settings+=list(settings)\n",
    "    \n",
    "    def make_stuff(self,name):\n",
    "        new_stuff = Stuff(name)\n",
    "        setattr(self.core,name,new_stuff)\n",
    "        setattr(self,name,new_stuff)\n",
    "    \n",
    "    def __repr__(self,):\n",
    "        return f\"LoopStack>:{self.name}\\n\\t\"+\\\n",
    "            \"\\n\\t\".join(map(str,self.core.layers[:-1]))"
   ]
  },
  {
   "cell_type": "code",
   "execution_count": 10,
   "metadata": {},
   "outputs": [],
   "source": [
    "TRAIN_EVENTS = [\"DATA_PROCESS\",\"FORWARD\",\"LOSS_CALC\",\n",
    "                \"BACKWARD\",\"OPT_STEP\",\"METRICS\"]\n",
    "EVAL_EVENTS = [\"DATA_PROCESS\",\"EVAL_WRAP\",\"FORWARD\",\"LOSS_CALC\",\"METRICS\"]"
   ]
  },
  {
   "cell_type": "code",
   "execution_count": 43,
   "metadata": {},
   "outputs": [],
   "source": [
    "# export \n",
    "import torch\n",
    "from torch import is_tensor\n",
    "\n",
    "def train_callbacks(loop):\n",
    "    @loop.on_DATA_PROCESS\n",
    "    def opt_zero_grad(loop):\n",
    "        loop.opt(\"zero_grad\")\n",
    "        \n",
    "    @loop.before_1st_FORWARD\n",
    "    def switch_model_to_train(loop):\n",
    "        loop.model(\"train\")\n",
    "        \n",
    "    @loop.BACKWARD.on\n",
    "    def opt_step(loop):\n",
    "        loop.loss(\"backward\")\n",
    "            \n",
    "    @loop.BACKWARD.on\n",
    "    def opt_step(loop):\n",
    "        loop.opt(\"step\")\n",
    "        \n",
    "def to_tensor(x):\n",
    "    return torch.Tensor(x)\n",
    "        \n",
    "def train_single_forward(metric_func = []):\n",
    "    def train_single_forward_cb(self):\n",
    "        @self.on_DATA_PROCESS\n",
    "        def set_xy(self):\n",
    "            self.var.x,self.var.y = self.element\n",
    "            self.var.x = to_tensor(self.var.x)\n",
    "            self.var.y = to_tensor(self.var.y)\n",
    "            \n",
    "        @self.on_FORWARD\n",
    "        def forward_pass(self):\n",
    "            y_ = self.model(\"__call__\",self.var.x)\n",
    "            self.var.y_ = y_.popitem()[1][:,0]\n",
    "            \n",
    "        @self.on_LOSS_CALC\n",
    "        def calculate_loss(self):\n",
    "            for loss_name,loss_val in \\\n",
    "                self.loss_func(\"__call__\",self.var.y_,self.var.y).items():\n",
    "                self.loss[loss_name] = loss_val\n",
    "            \n",
    "        @self.on_METRICS\n",
    "        def calcualte_metrics(self):\n",
    "            # calculate metrics\n",
    "            with torch.no_grad():\n",
    "                self.metric.cases.update(self.metric_func(\"__call__\",\n",
    "                                                          self.var.y_,self.var.y))\n",
    "        \n",
    "        @self.on_METRICS\n",
    "        def to_item(self):\n",
    "            # loop through metrics\n",
    "            dt = self.metric.cases\n",
    "            dt.update(self.loss.cases)\n",
    "            dt = dict((k,v.item() if is_tensor(v) else v) \\\n",
    "                          for k,v in dt.items())\n",
    "            self.results.append(dt)\n",
    "            self.pgbar_data(dt)\n",
    "            \n",
    "    return train_single_forward_cb\n",
    "\n",
    "def single_device(device):\n",
    "    def single_device_callback(self):\n",
    "        @on_DATA_PROCESS\n",
    "        def var_to_device(self):\n",
    "            self.var.update(\"to\",device)\n",
    "            \n",
    "        @before_1st_FORWARD\n",
    "        def model_to_device(self):\n",
    "            self.model.update(\"to\",device)\n",
    "            \n",
    "    return single_device\n",
    "    \n",
    "class TrainLoop(LoopStack):\n",
    "    def __init__(self,data_iter,model=[],opt=[],loss_func=[],loss=[],hp=[],cuda=[], \n",
    "                 callbacks = [train_callbacks,],tolerate=True):\n",
    "        loops = [ProgressBar,]\n",
    "        if tolerate:\n",
    "            loops.append(Tolerate)\n",
    "        loops+=list(events(*TRAIN_EVENTS))\n",
    "        self.from_loops(*loops)\n",
    "        self.new_setting(\"model\",\"var\",\n",
    "                         \"opt\",\"loss_func\",\"loss\",\n",
    "                         \"hp\",\"cuda\",\"metric_func\",\"metric\")\n",
    "        self.init(data_iter,)\n",
    "        for cb in callbacks:\n",
    "            print(f\"assigning callback {cb}\")\n",
    "            cb(self)\n",
    "            \n",
    "        self.core.results = []\n",
    "        \n",
    "class EvalLoop(LoopStack):\n",
    "    def __init__(self,data_iter,tolerate=True):\n",
    "        loops = [ProgressBar,]\n",
    "        if tolerate:\n",
    "            loops.append(Tolerate)\n",
    "        loops+=list(events(*EVAL_EVENTS))\n",
    "        self.from_loops(*loops)\n",
    "        self.new_setting(\"model\",\"var\",\n",
    "                         \"loss_func\",\"loss\",\n",
    "                         \"hp\",\"cuda\",\"metric_func\",\"metric\")\n",
    "        self.__init__(data_iter,)\n",
    "        \n",
    "        @self.EVAL_FORWARD.downstream\n",
    "        def torch_eval_wrap(self,func):\n",
    "            with torch.no_grad():\n",
    "                func()"
   ]
  },
  {
   "cell_type": "code",
   "execution_count": 72,
   "metadata": {},
   "outputs": [
    {
     "name": "stdout",
     "output_type": "stream",
     "text": [
      "assigning callback <function train_callbacks at 0x1a2f9b43b0>\n",
      "assigning callback <function train_single_forward.<locals>.train_single_forward_cb at 0x1a32c8d440>\n"
     ]
    },
    {
     "data": {
      "text/plain": [
       "LoopStack>:TrainLoop\n",
       "\tlayer🍰Loop\n",
       "\tlayer🍰ProgressBar\n",
       "\tevent🌏DATA_PROCESS\n",
       "\tevent🌏FORWARD\n",
       "\tevent🌏LOSS_CALC\n",
       "\tevent🌏BACKWARD\n",
       "\tevent🌏OPT_STEP\n",
       "\tevent🌏METRICS"
      ]
     },
     "execution_count": 72,
     "metadata": {},
     "output_type": "execute_result"
    }
   ],
   "source": [
    "from torch import nn\n",
    "import torch\n",
    "\n",
    "data_list = list(zip(chunkify(x_normed),chunkify(y_normed)))\n",
    "\n",
    "loop = TrainLoop(data_list,tolerate=False,\n",
    "                 callbacks=[train_callbacks,\n",
    "                            train_single_forward([nn.MSELoss()])])\n",
    "loop"
   ]
  },
  {
   "cell_type": "code",
   "execution_count": 73,
   "metadata": {},
   "outputs": [],
   "source": [
    "# loop.search()"
   ]
  },
  {
   "cell_type": "code",
   "execution_count": 75,
   "metadata": {},
   "outputs": [],
   "source": [
    "loop.model.baseline = nn.Linear(8,1)\n",
    "loop.loss_func.mse = torch.nn.MSELoss()\n",
    "loop.metric_func.mae = torch.nn.L1Loss()\n",
    "loop.opt.adam = torch.optim.Adam(loop.model.baseline.parameters())"
   ]
  },
  {
   "cell_type": "code",
   "execution_count": 76,
   "metadata": {},
   "outputs": [
    {
     "data": {
      "application/vnd.jupyter.widget-view+json": {
       "model_id": "e6f476c022ab4f71835c7ea579be16d5",
       "version_major": 2,
       "version_minor": 0
      },
      "text/plain": [
       "HBox(children=(FloatProgress(value=0.0, max=645.0), HTML(value='')))"
      ]
     },
     "metadata": {},
     "output_type": "display_data"
    },
    {
     "name": "stdout",
     "output_type": "stream",
     "text": [
      "\n"
     ]
    },
    {
     "data": {
      "application/vnd.jupyter.widget-view+json": {
       "model_id": "5e9c069e2b8b4289b9d81f2cf72f5580",
       "version_major": 2,
       "version_minor": 0
      },
      "text/plain": [
       "HBox(children=(FloatProgress(value=0.0, max=645.0), HTML(value='')))"
      ]
     },
     "metadata": {},
     "output_type": "display_data"
    },
    {
     "name": "stdout",
     "output_type": "stream",
     "text": [
      "\n"
     ]
    },
    {
     "data": {
      "application/vnd.jupyter.widget-view+json": {
       "model_id": "4893bc10cf2d49d8853f4a6b9ef74be3",
       "version_major": 2,
       "version_minor": 0
      },
      "text/plain": [
       "HBox(children=(FloatProgress(value=0.0, max=645.0), HTML(value='')))"
      ]
     },
     "metadata": {},
     "output_type": "display_data"
    },
    {
     "name": "stdout",
     "output_type": "stream",
     "text": [
      "\n"
     ]
    },
    {
     "data": {
      "application/vnd.jupyter.widget-view+json": {
       "model_id": "9f8534d6eb8140c7bd322c16271f1318",
       "version_major": 2,
       "version_minor": 0
      },
      "text/plain": [
       "HBox(children=(FloatProgress(value=0.0, max=645.0), HTML(value='')))"
      ]
     },
     "metadata": {},
     "output_type": "display_data"
    },
    {
     "name": "stdout",
     "output_type": "stream",
     "text": [
      "\n"
     ]
    },
    {
     "data": {
      "application/vnd.jupyter.widget-view+json": {
       "model_id": "59c8a2e35842412692135e0d7356157d",
       "version_major": 2,
       "version_minor": 0
      },
      "text/plain": [
       "HBox(children=(FloatProgress(value=0.0, max=645.0), HTML(value='')))"
      ]
     },
     "metadata": {},
     "output_type": "display_data"
    },
    {
     "name": "stdout",
     "output_type": "stream",
     "text": [
      "\n"
     ]
    },
    {
     "data": {
      "application/vnd.jupyter.widget-view+json": {
       "model_id": "abc53c746edf4ebe8a0c7d86462fd0c5",
       "version_major": 2,
       "version_minor": 0
      },
      "text/plain": [
       "HBox(children=(FloatProgress(value=0.0, max=645.0), HTML(value='')))"
      ]
     },
     "metadata": {},
     "output_type": "display_data"
    },
    {
     "name": "stdout",
     "output_type": "stream",
     "text": [
      "\n"
     ]
    },
    {
     "data": {
      "application/vnd.jupyter.widget-view+json": {
       "model_id": "028ff2a12903460daf4de6f86ba5d190",
       "version_major": 2,
       "version_minor": 0
      },
      "text/plain": [
       "HBox(children=(FloatProgress(value=0.0, max=645.0), HTML(value='')))"
      ]
     },
     "metadata": {},
     "output_type": "display_data"
    },
    {
     "name": "stdout",
     "output_type": "stream",
     "text": [
      "\n"
     ]
    },
    {
     "data": {
      "application/vnd.jupyter.widget-view+json": {
       "model_id": "fc6ecb1415034eb0b7ac8fd94e703ac8",
       "version_major": 2,
       "version_minor": 0
      },
      "text/plain": [
       "HBox(children=(FloatProgress(value=0.0, max=645.0), HTML(value='')))"
      ]
     },
     "metadata": {},
     "output_type": "display_data"
    },
    {
     "name": "stdout",
     "output_type": "stream",
     "text": [
      "\n"
     ]
    }
   ],
   "source": [
    "for i in range(8):loop.run()"
   ]
  },
  {
   "cell_type": "code",
   "execution_count": 56,
   "metadata": {},
   "outputs": [
    {
     "data": {
      "text/html": [
       "<div>\n",
       "<style scoped>\n",
       "    .dataframe tbody tr th:only-of-type {\n",
       "        vertical-align: middle;\n",
       "    }\n",
       "\n",
       "    .dataframe tbody tr th {\n",
       "        vertical-align: top;\n",
       "    }\n",
       "\n",
       "    .dataframe thead th {\n",
       "        text-align: right;\n",
       "    }\n",
       "</style>\n",
       "<table border=\"1\" class=\"dataframe\">\n",
       "  <thead>\n",
       "    <tr style=\"text-align: right;\">\n",
       "      <th></th>\n",
       "      <th>mae</th>\n",
       "      <th>mse</th>\n",
       "    </tr>\n",
       "  </thead>\n",
       "  <tbody>\n",
       "    <tr>\n",
       "      <th>0</th>\n",
       "      <td>0.838709</td>\n",
       "      <td>1.321269</td>\n",
       "    </tr>\n",
       "    <tr>\n",
       "      <th>1</th>\n",
       "      <td>0.676079</td>\n",
       "      <td>0.593617</td>\n",
       "    </tr>\n",
       "    <tr>\n",
       "      <th>2</th>\n",
       "      <td>0.875658</td>\n",
       "      <td>0.955391</td>\n",
       "    </tr>\n",
       "    <tr>\n",
       "      <th>3</th>\n",
       "      <td>1.093525</td>\n",
       "      <td>1.841254</td>\n",
       "    </tr>\n",
       "    <tr>\n",
       "      <th>4</th>\n",
       "      <td>1.884628</td>\n",
       "      <td>4.300918</td>\n",
       "    </tr>\n",
       "    <tr>\n",
       "      <th>...</th>\n",
       "      <td>...</td>\n",
       "      <td>...</td>\n",
       "    </tr>\n",
       "    <tr>\n",
       "      <th>5155</th>\n",
       "      <td>0.365038</td>\n",
       "      <td>0.177207</td>\n",
       "    </tr>\n",
       "    <tr>\n",
       "      <th>5156</th>\n",
       "      <td>0.503200</td>\n",
       "      <td>0.411286</td>\n",
       "    </tr>\n",
       "    <tr>\n",
       "      <th>5157</th>\n",
       "      <td>0.391761</td>\n",
       "      <td>0.211094</td>\n",
       "    </tr>\n",
       "    <tr>\n",
       "      <th>5158</th>\n",
       "      <td>0.420467</td>\n",
       "      <td>0.235614</td>\n",
       "    </tr>\n",
       "    <tr>\n",
       "      <th>5159</th>\n",
       "      <td>0.337746</td>\n",
       "      <td>0.176561</td>\n",
       "    </tr>\n",
       "  </tbody>\n",
       "</table>\n",
       "<p>5160 rows × 2 columns</p>\n",
       "</div>"
      ],
      "text/plain": [
       "           mae       mse\n",
       "0     0.838709  1.321269\n",
       "1     0.676079  0.593617\n",
       "2     0.875658  0.955391\n",
       "3     1.093525  1.841254\n",
       "4     1.884628  4.300918\n",
       "...        ...       ...\n",
       "5155  0.365038  0.177207\n",
       "5156  0.503200  0.411286\n",
       "5157  0.391761  0.211094\n",
       "5158  0.420467  0.235614\n",
       "5159  0.337746  0.176561\n",
       "\n",
       "[5160 rows x 2 columns]"
      ]
     },
     "execution_count": 56,
     "metadata": {},
     "output_type": "execute_result"
    }
   ],
   "source": [
    "import pandas as pd\n",
    "pd.DataFrame(loop.results)"
   ]
  },
  {
   "cell_type": "code",
   "execution_count": 57,
   "metadata": {},
   "outputs": [],
   "source": [
    "from matplotlib import pyplot as plt"
   ]
  },
  {
   "cell_type": "code",
   "execution_count": 61,
   "metadata": {},
   "outputs": [
    {
     "data": {
      "text/plain": [
       "[<matplotlib.lines.Line2D at 0x1a31d9b890>,\n",
       " <matplotlib.lines.Line2D at 0x1a31d9bb10>]"
      ]
     },
     "execution_count": 61,
     "metadata": {},
     "output_type": "execute_result"
    },
    {
     "data": {
      "image/png": "[encoded data removed]",
      "text/plain": [
       "<Figure size 432x288 with 1 Axes>"
      ]
     },
     "metadata": {
      "needs_background": "light"
     },
     "output_type": "display_data"
    }
   ],
   "source": [
    "plt.plot(pd.DataFrame(loop.results).mse,\"g--\",pd.DataFrame(loop.results).mae,\"b.\")"
   ]
  },
  {
   "cell_type": "code",
   "execution_count": 62,
   "metadata": {},
   "outputs": [
    {
     "data": {
      "text/plain": [
       "🍄:model[\n",
       "\tbaseline\n",
       "]"
      ]
     },
     "execution_count": 62,
     "metadata": {},
     "output_type": "execute_result"
    }
   ],
   "source": [
    "loop.model"
   ]
  },
  {
   "cell_type": "code",
   "execution_count": 63,
   "metadata": {},
   "outputs": [
    {
     "data": {
      "text/plain": [
       "🍄:loss_func[\n",
       "\tmse\n",
       "]"
      ]
     },
     "execution_count": 63,
     "metadata": {},
     "output_type": "execute_result"
    }
   ],
   "source": [
    "loop.loss_func"
   ]
  },
  {
   "cell_type": "code",
   "execution_count": 67,
   "metadata": {},
   "outputs": [
    {
     "data": {
      "text/plain": [
       "🍄:metric[\n",
       "\tmae\n",
       "\tmse\n",
       "]"
      ]
     },
     "execution_count": 67,
     "metadata": {},
     "output_type": "execute_result"
    }
   ],
   "source": [
    "loop.metric"
   ]
  },
  {
   "cell_type": "code",
   "execution_count": 70,
   "metadata": {},
   "outputs": [
    {
     "data": {
      "text/plain": [
       "tensor(0.1766, grad_fn=<MseLossBackward>)"
      ]
     },
     "execution_count": 70,
     "metadata": {},
     "output_type": "execute_result"
    }
   ],
   "source": [
    "loop.metric.mse"
   ]
  },
  {
   "cell_type": "code",
   "execution_count": null,
   "metadata": {},
   "outputs": [],
   "source": []
  }
 ],
 "metadata": {
  "kernelspec": {
   "display_name": "Python 3",
   "language": "python",
   "name": "python3"
  },
  "language_info": {
   "codemirror_mode": {
    "name": "ipython",
    "version": 3
   },
   "file_extension": ".py",
   "mimetype": "text/x-python",
   "name": "python",
   "nbconvert_exporter": "python",
   "pygments_lexer": "ipython3",
   "version": "3.7.4"
  }
 },
 "nbformat": 4,
 "nbformat_minor": 4
}
