{
 "cells": [
  {
   "cell_type": "markdown",
   "metadata": {},
   "source": [
    "# 15 LoopStack"
   ]
  },
  {
   "cell_type": "code",
   "execution_count": 1,
   "metadata": {},
   "outputs": [],
   "source": [
    "# default_exp loopstack"
   ]
  },
  {
   "cell_type": "code",
   "execution_count": 2,
   "metadata": {},
   "outputs": [],
   "source": [
    "# export\n",
    "from forgebox.loop import Loop,ProgressBar,Tolerate,Event,Stuff\n",
    "from types import MethodType\n",
    "import numpy as np"
   ]
  },
  {
   "cell_type": "markdown",
   "metadata": {},
   "source": [
    "To run through iterations quickly, we use the california housing data"
   ]
  },
  {
   "cell_type": "code",
   "execution_count": 3,
   "metadata": {},
   "outputs": [
    {
     "data": {
      "text/plain": [
       "((20640, 8), (20640,))"
      ]
     },
     "execution_count": 3,
     "metadata": {},
     "output_type": "execute_result"
    }
   ],
   "source": [
    "from sklearn.datasets.california_housing import fetch_california_housing\n",
    "x,y = fetch_california_housing(return_X_y = True)\n",
    "\n",
    "x.shape, y.shape"
   ]
  },
  {
   "cell_type": "markdown",
   "metadata": {},
   "source": [
    "Normalized Data"
   ]
  },
  {
   "cell_type": "markdown",
   "metadata": {},
   "source": [
    "Preview x input"
   ]
  },
  {
   "cell_type": "code",
   "execution_count": 4,
   "metadata": {},
   "outputs": [],
   "source": [
    "def norm(m,s): return lambda x: (x-m)/s\n",
    "def denorm(m,s): return lambda x: (x*s)+m\n",
    "\n",
    "x_normed = norm(x.mean(0),x.std(0))(x)\n",
    "y_normed = norm(y.mean(),y.std())(y)"
   ]
  },
  {
   "cell_type": "code",
   "execution_count": 5,
   "metadata": {},
   "outputs": [
    {
     "data": {
      "text/plain": [
       "(array([ 0.,  0.,  0., -0., -0.,  0., -0., -0.], dtype=float16),\n",
       " array([1., 1., 1., 1., 1., 1., 1., 1.]),\n",
       " 0.0,\n",
       " 1.0)"
      ]
     },
     "execution_count": 5,
     "metadata": {},
     "output_type": "execute_result"
    }
   ],
   "source": [
    "x_normed.mean(0).astype(np.float16),x_normed.std(0),\\\n",
    "y_normed.mean().astype(np.float16),y_normed.std()"
   ]
  },
  {
   "cell_type": "code",
   "execution_count": 6,
   "metadata": {},
   "outputs": [
    {
     "data": {
      "text/plain": [
       "<matplotlib.image.AxesImage at 0x1a1c059b10>"
      ]
     },
     "execution_count": 6,
     "metadata": {},
     "output_type": "execute_result"
    },
    {
     "data": {
      "image/png": "[encoded data removed]",
      "text/plain": [
       "<Figure size 432x288 with 1 Axes>"
      ]
     },
     "metadata": {
      "needs_background": "light"
     },
     "output_type": "display_data"
    }
   ],
   "source": [
    "from matplotlib import pyplot as plt\n",
    "%matplotlib inline\n",
    "plt.imshow(x_normed[np.random.choice(range(1000),10)])"
   ]
  },
  {
   "cell_type": "code",
   "execution_count": 12,
   "metadata": {},
   "outputs": [
    {
     "data": {
      "text/plain": [
       "array([[ 2.34476576,  0.98214266,  0.62855945, ..., -0.04959654,\n",
       "         1.05254828, -1.32783522],\n",
       "       [ 2.33223796, -0.60701891,  0.32704136, ..., -0.09251223,\n",
       "         1.04318455, -1.32284391],\n",
       "       [ 1.7826994 ,  1.85618152,  1.15562047, ..., -0.02584253,\n",
       "         1.03850269, -1.33282653],\n",
       "       ...,\n",
       "       [-1.14259331, -0.92485123, -0.09031802, ..., -0.0717345 ,\n",
       "         1.77823747, -0.8237132 ],\n",
       "       [-1.05458292, -0.84539315, -0.04021111, ..., -0.09122515,\n",
       "         1.77823747, -0.87362627],\n",
       "       [-0.78012947, -1.00430931, -0.07044252, ..., -0.04368215,\n",
       "         1.75014627, -0.83369581]])"
      ]
     },
     "execution_count": 12,
     "metadata": {},
     "output_type": "execute_result"
    }
   ],
   "source": [
    "x_normed"
   ]
  },
  {
   "cell_type": "code",
   "execution_count": 7,
   "metadata": {},
   "outputs": [],
   "source": [
    "# export\n",
    "def create_event(event_name):\n",
    "    class BatchEvent(Event):pass\n",
    "    BatchEvent.__name__ = event_name\n",
    "    return BatchEvent\n",
    "\n",
    "def events(*enames):\n",
    "    return list(map(create_event,enames))"
   ]
  },
  {
   "cell_type": "code",
   "execution_count": 8,
   "metadata": {},
   "outputs": [],
   "source": [
    "# export\n",
    "class LoopStack(Loop):\n",
    "    settings = []\n",
    "    \"\"\"\n",
    "    A stack of loop\n",
    "    \"\"\"\n",
    "    @classmethod\n",
    "    def from_loops(cls,*loops):\n",
    "        def init(self,iterable=[],name = None):\n",
    "            name = name if name!=None else cls.__name__\n",
    "            \n",
    "            self.loops = dict()\n",
    "            l = Loop(iterable)\n",
    "            for L in loops:\n",
    "                l = L(iterable = l)\n",
    "            super().__init__(iterable = l,\n",
    "                             name = name)\n",
    "            \n",
    "            for stuff in cls.settings:\n",
    "                self.make_stuff(stuff)\n",
    "            \n",
    "        setattr(cls,\"__init__\",init)\n",
    "        return cls\n",
    "    \n",
    "    @classmethod\n",
    "    def new_setting(cls,*settings):\n",
    "        cls.settings+=list(settings)\n",
    "    \n",
    "    def make_stuff(self,name):\n",
    "        new_stuff = Stuff(name)\n",
    "        setattr(self.core,name,new_stuff)\n",
    "        setattr(self,name,new_stuff)\n",
    "    \n",
    "    def __repr__(self,):\n",
    "        return f\"LoopStack>:{self.name}\\n\\t\"+\\\n",
    "            \"\\n\\t\".join(map(str,self.core.layers[:-1]))"
   ]
  },
  {
   "cell_type": "code",
   "execution_count": 9,
   "metadata": {},
   "outputs": [],
   "source": [
    "TRAIN_EVENTS = [\"DATA_PROCESS\",\"FORWARD\",\"LOSS_CALC\",\n",
    "                \"BACKWARD\",\"OPT_STEP\",\"METRICS\"]\n",
    "EVAL_EVENTS = [\"DATA_PROCESS\",\"EVAL_WRAP\",\"FORWARD\",\"LOSS_CALC\",\"METRICS\"]"
   ]
  },
  {
   "cell_type": "code",
   "execution_count": 10,
   "metadata": {},
   "outputs": [],
   "source": [
    "# export \n",
    "import torch\n",
    "\n",
    "def train_callbacks(loop):\n",
    "    @loop.on_DATA_PROCESS\n",
    "    def opt_zero_grad(loop):\n",
    "        loop.opt(\"zero_grad\")\n",
    "        \n",
    "    @loop.before_1st_FORWARD\n",
    "    def switch_model_to_train(loop):\n",
    "        loop.model(\"train\")\n",
    "        \n",
    "    @loop.BACKWARD.on\n",
    "    def opt_step(loop):\n",
    "        loop.loss(\"backward\")\n",
    "            \n",
    "    @loop.BACKWARD.on\n",
    "    def opt_step(loop):\n",
    "        loop.opt(\"step\")\n",
    "        \n",
    "def train_single_forward(metric_func = []):\n",
    "    def train_single_forward_cb(loop):\n",
    "        @loop.on_DATA_PROCESS\n",
    "        def set_xy(loop):\n",
    "            loop.core.x,loop.core.y = loop.element\n",
    "            \n",
    "        @loop.on_FORWARD\n",
    "        def forward_pass(loop):\n",
    "            loop.core.pred = loop.model(\"__call__\",loop.x)[0]\n",
    "            \n",
    "        @loop.on_CALC_LOSS\n",
    "        def calculate_loss(loop):\n",
    "            loop.loss[\"latest\"] = loop.loss_func(\"__call__\",loop.pred,loop.y)\n",
    "            \n",
    "        @loop.on_METRICS\n",
    "        def calcualte_metrics(loop):\n",
    "            # calculate metrics\n",
    "            with torch.no_grad():\n",
    "                for func in metric_func:\n",
    "                    loop.metrics[func.__name__] = func(loop.pred,loop.y)\n",
    "                    \n",
    "            # loop through metrics\n",
    "            loop.pgbar_data(loop.metrics.cases)\n",
    "            \n",
    "    return train_single_forward_cb\n",
    "    \n",
    "class TrainLoop(LoopStack):\n",
    "    def __init__(self,data_iter,model=[],opt=[],loss_func=[],loss=[],hp=[],cuda=[], \n",
    "                 callbacks = [train_callbacks,]):\n",
    "        self.from_loops(ProgressBar,Tolerate,\n",
    "                        *events(*TRAIN_EVENTS))\n",
    "        self.new_setting(\"model\",\"opt\",\"loss_func\",\"loss\",\"hp\",\"cuda\",\"metric_func\",\"metric\")\n",
    "        self.__init__(data_iter,)\n",
    "        for cb in callbacks:\n",
    "            cb(self)\n",
    "        \n",
    "class EvalLoop(LoopStack):\n",
    "    def __init__(self,data_iter):\n",
    "        self.from_loops(ProgressBar,Tolerate,\n",
    "                        *events(*EVAL_EVENTS))\n",
    "        self.new_setting(\"model\",\"opt\",\"loss\",\"hp\",\"cuda\")\n",
    "        self.__init__(data_iter,)\n",
    "        \n",
    "        @self.EVAL_FORWARD.downstream\n",
    "        def torch_eval_wrap(self,func):\n",
    "            with torch.no_grad():\n",
    "                func()"
   ]
  },
  {
   "cell_type": "code",
   "execution_count": 11,
   "metadata": {},
   "outputs": [
    {
     "data": {
      "text/plain": [
       "LoopStack>:TrainLoop\n",
       "\tlayer🍰Loop\n",
       "\tlayer🍰ProgressBar\n",
       "\tlayer🍰Tolerate\n",
       "\tevent🌏DATA_PROCESS\n",
       "\tevent🌏FORWARD\n",
       "\tevent🌏LOSS_CALC\n",
       "\tevent🌏BACKWARD\n",
       "\tevent🌏OPT_STEP\n",
       "\tevent🌏METRICS"
      ]
     },
     "execution_count": 11,
     "metadata": {},
     "output_type": "execute_result"
    }
   ],
   "source": [
    "loop = TrainLoop(range(50))\n",
    "loop"
   ]
  },
  {
   "cell_type": "code",
   "execution_count": 26,
   "metadata": {},
   "outputs": [
    {
     "data": {
      "application/vnd.jupyter.widget-view+json": {
       "model_id": "7afadc90f2344b7ea312aefc68257533",
       "version_major": 2,
       "version_minor": 0
      },
      "text/plain": [
       "interactive(children=(Text(value='', description='KeyWord'), Output()), _dom_classes=('widget-interact',))"
      ]
     },
     "metadata": {},
     "output_type": "display_data"
    }
   ],
   "source": [
    "loop.search()"
   ]
  },
  {
   "cell_type": "code",
   "execution_count": 20,
   "metadata": {
    "scrolled": false
   },
   "outputs": [
    {
     "name": "stdout",
     "output_type": "stream",
     "text": [
      "Loop layer TrainLoop summary:\n",
      "==================================================\n",
      "🍰layer0.0\tlayer🍰Loop\n",
      "--------------------------------------------------\n",
      "🍰layer1.0\tlayer🍰ProgressBar\n",
      "\t[🐍func_name]\tpgbar_data\n",
      "\t[⛰doc]\t\n",
      "        update progress bar with python dictionary\n",
      "        data: python dictionary\n",
      "        \n",
      "\t[😝var]\tself,data\n",
      "\t[😜names]\tt,set_postfix\n",
      "\t...................................\n",
      "\t[🐍func_name]\tpgbar_description\n",
      "\t[⛰doc]\t\n",
      "        update progress bar prefix with text string\n",
      "        \n",
      "\t[😝var]\tself,text\n",
      "\t[😜names]\tt,set_description_str\n",
      "\t...................................\n",
      "--------------------------------------------------\n",
      "🍰layer2.0\tlayer🍰Tolerate\n",
      "\t[🐍func_name]\terror_list\n",
      "\t[⛰doc]\t\n",
      "        A list of errors happend so far\n",
      "        \n",
      "\t[😝var]\tself\n",
      "\t[😜names]\terrors\n",
      "\t...................................\n",
      "--------------------------------------------------\n",
      "🍰layer3.0\tevent🌏DATA_PROCESS\n",
      "\t[🐍func_name]\tafter_last_DATA_PROCESS\n",
      "\t[⛰doc]\t\n",
      "            Append new after_last callback for event:DATA_PROCESS\n",
      "            Use this function as decorator\n",
      "        \n",
      "\t[😝var]\tcls,f\n",
      "\t[😜names]\tgetattr\n",
      "\t...................................\n",
      "\t[🐍func_name]\tbefore_1st_DATA_PROCESS\n",
      "\t[⛰doc]\t\n",
      "            Append new before_1st callback for event:DATA_PROCESS\n",
      "            Use this function as decorator\n",
      "        \n",
      "\t[😝var]\tcls,f\n",
      "\t[😜names]\tgetattr\n",
      "\t...................................\n",
      "\t[🐍func_name]\ton_DATA_PROCESS\n",
      "\t[⛰doc]\t\n",
      "            Append new on callback for event:DATA_PROCESS\n",
      "            Use this function as decorator\n",
      "        \n",
      "\t[😝var]\tcls,f\n",
      "\t[😜names]\tgetattr\n",
      "\t...................................\n",
      "--------------------------------------------------\n",
      "🍰layer4.0\tevent🌏FORWARD\n",
      "\t[🐍func_name]\tafter_last_FORWARD\n",
      "\t[⛰doc]\t\n",
      "            Append new after_last callback for event:FORWARD\n",
      "            Use this function as decorator\n",
      "        \n",
      "\t[😝var]\tcls,f\n",
      "\t[😜names]\tgetattr\n",
      "\t...................................\n",
      "\t[🐍func_name]\tbefore_1st_FORWARD\n",
      "\t[⛰doc]\t\n",
      "            Append new before_1st callback for event:FORWARD\n",
      "            Use this function as decorator\n",
      "        \n",
      "\t[😝var]\tcls,f\n",
      "\t[😜names]\tgetattr\n",
      "\t...................................\n",
      "\t[🐍func_name]\ton_FORWARD\n",
      "\t[⛰doc]\t\n",
      "            Append new on callback for event:FORWARD\n",
      "            Use this function as decorator\n",
      "        \n",
      "\t[😝var]\tcls,f\n",
      "\t[😜names]\tgetattr\n",
      "\t...................................\n",
      "--------------------------------------------------\n",
      "🍰layer5.0\tevent🌏LOSS_CALC\n",
      "\t[🐍func_name]\tafter_last_LOSS_CALC\n",
      "\t[⛰doc]\t\n",
      "            Append new after_last callback for event:LOSS_CALC\n",
      "            Use this function as decorator\n",
      "        \n",
      "\t[😝var]\tcls,f\n",
      "\t[😜names]\tgetattr\n",
      "\t...................................\n",
      "\t[🐍func_name]\tbefore_1st_LOSS_CALC\n",
      "\t[⛰doc]\t\n",
      "            Append new before_1st callback for event:LOSS_CALC\n",
      "            Use this function as decorator\n",
      "        \n",
      "\t[😝var]\tcls,f\n",
      "\t[😜names]\tgetattr\n",
      "\t...................................\n",
      "\t[🐍func_name]\ton_LOSS_CALC\n",
      "\t[⛰doc]\t\n",
      "            Append new on callback for event:LOSS_CALC\n",
      "            Use this function as decorator\n",
      "        \n",
      "\t[😝var]\tcls,f\n",
      "\t[😜names]\tgetattr\n",
      "\t...................................\n",
      "--------------------------------------------------\n",
      "🍰layer6.0\tevent🌏BACKWARD\n",
      "\t[🐍func_name]\tafter_last_BACKWARD\n",
      "\t[⛰doc]\t\n",
      "            Append new after_last callback for event:BACKWARD\n",
      "            Use this function as decorator\n",
      "        \n",
      "\t[😝var]\tcls,f\n",
      "\t[😜names]\tgetattr\n",
      "\t...................................\n",
      "\t[🐍func_name]\tbefore_1st_BACKWARD\n",
      "\t[⛰doc]\t\n",
      "            Append new before_1st callback for event:BACKWARD\n",
      "            Use this function as decorator\n",
      "        \n",
      "\t[😝var]\tcls,f\n",
      "\t[😜names]\tgetattr\n",
      "\t...................................\n",
      "\t[🐍func_name]\ton_BACKWARD\n",
      "\t[⛰doc]\t\n",
      "            Append new on callback for event:BACKWARD\n",
      "            Use this function as decorator\n",
      "        \n",
      "\t[😝var]\tcls,f\n",
      "\t[😜names]\tgetattr\n",
      "\t...................................\n",
      "--------------------------------------------------\n",
      "🍰layer7.0\tevent🌏OPT_STEP\n",
      "\t[🐍func_name]\tafter_last_OPT_STEP\n",
      "\t[⛰doc]\t\n",
      "            Append new after_last callback for event:OPT_STEP\n",
      "            Use this function as decorator\n",
      "        \n",
      "\t[😝var]\tcls,f\n",
      "\t[😜names]\tgetattr\n",
      "\t...................................\n",
      "\t[🐍func_name]\tbefore_1st_OPT_STEP\n",
      "\t[⛰doc]\t\n",
      "            Append new before_1st callback for event:OPT_STEP\n",
      "            Use this function as decorator\n",
      "        \n",
      "\t[😝var]\tcls,f\n",
      "\t[😜names]\tgetattr\n",
      "\t...................................\n",
      "\t[🐍func_name]\ton_OPT_STEP\n",
      "\t[⛰doc]\t\n",
      "            Append new on callback for event:OPT_STEP\n",
      "            Use this function as decorator\n",
      "        \n",
      "\t[😝var]\tcls,f\n",
      "\t[😜names]\tgetattr\n",
      "\t...................................\n",
      "--------------------------------------------------\n",
      "🍰layer8.0\tevent🌏METRICS\n",
      "\t[🐍func_name]\tafter_last_METRICS\n",
      "\t[⛰doc]\t\n",
      "            Append new after_last callback for event:METRICS\n",
      "            Use this function as decorator\n",
      "        \n",
      "\t[😝var]\tcls,f\n",
      "\t[😜names]\tgetattr\n",
      "\t...................................\n",
      "\t[🐍func_name]\tbefore_1st_METRICS\n",
      "\t[⛰doc]\t\n",
      "            Append new before_1st callback for event:METRICS\n",
      "            Use this function as decorator\n",
      "        \n",
      "\t[😝var]\tcls,f\n",
      "\t[😜names]\tgetattr\n",
      "\t...................................\n",
      "\t[🐍func_name]\ton_METRICS\n",
      "\t[⛰doc]\t\n",
      "            Append new on callback for event:METRICS\n",
      "            Use this function as decorator\n",
      "        \n",
      "\t[😝var]\tcls,f\n",
      "\t[😜names]\tgetattr\n",
      "\t...................................\n",
      "--------------------------------------------------\n",
      "🍰layer9.0\tLoopStack>:TrainLoop\n",
      "\tlayer🍰Loop\n",
      "\tlayer🍰ProgressBar\n",
      "\tlayer🍰Tolerate\n",
      "\tevent🌏DATA_PROCESS\n",
      "\tevent🌏FORWARD\n",
      "\tevent🌏LOSS_CALC\n",
      "\tevent🌏BACKWARD\n",
      "\tevent🌏OPT_STEP\n",
      "\tevent🌏METRICS\n",
      "--------------------------------------------------\n",
      "==================================================\n",
      "\n"
     ]
    }
   ],
   "source": [
    "loop.summary()"
   ]
  },
  {
   "cell_type": "code",
   "execution_count": 16,
   "metadata": {},
   "outputs": [],
   "source": [
    "loop.model[\"baseline\"] = torch.nn.Linear(8,1)"
   ]
  },
  {
   "cell_type": "code",
   "execution_count": 9,
   "metadata": {},
   "outputs": [],
   "source": [
    "from time import sleep"
   ]
  },
  {
   "cell_type": "code",
   "execution_count": 10,
   "metadata": {},
   "outputs": [],
   "source": [
    "@loop.on_DATA_PROCESS\n",
    "def process_data(loop):\n",
    "    sleep(.1)\n",
    "    loop.core.double = loop.element*2\n",
    "    \n",
    "@loop.on_FORWARD\n",
    "def update_pg(loop):\n",
    "    loop.pgbar_description(f\"double: {loop.double}\")\n",
    "    \n",
    "@loop.on_FORWARD\n",
    "def another_thing_on_forward(loop):\n",
    "    loop.pgbar_data(dict(a=1))"
   ]
  },
  {
   "cell_type": "code",
   "execution_count": 11,
   "metadata": {},
   "outputs": [
    {
     "data": {
      "application/vnd.jupyter.widget-view+json": {
       "model_id": "dc7fd5b4bb5447a888453dd1c1ae03fa",
       "version_major": 2,
       "version_minor": 0
      },
      "text/plain": [
       "HBox(children=(FloatProgress(value=0.0, max=50.0), HTML(value='')))"
      ]
     },
     "metadata": {},
     "output_type": "display_data"
    },
    {
     "name": "stdout",
     "output_type": "stream",
     "text": [
      "\n",
      "WARNING:51 errors\n"
     ]
    }
   ],
   "source": [
    "loop.run()"
   ]
  },
  {
   "cell_type": "code",
   "execution_count": null,
   "metadata": {},
   "outputs": [],
   "source": []
  }
 ],
 "metadata": {
  "kernelspec": {
   "display_name": "Python 3",
   "language": "python",
   "name": "python3"
  },
  "language_info": {
   "codemirror_mode": {
    "name": "ipython",
    "version": 3
   },
   "file_extension": ".py",
   "mimetype": "text/x-python",
   "name": "python",
   "nbconvert_exporter": "python",
   "pygments_lexer": "ipython3",
   "version": "3.7.4"
  }
 },
 "nbformat": 4,
 "nbformat_minor": 4
}
