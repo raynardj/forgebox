{
 "cells": [
  {
   "cell_type": "markdown",
   "metadata": {},
   "source": [
    "# Lightning Callbacks\n",
    "> Thunder, the DIYed [pytorch-lightening callbacks](https://pytorch-lightning.readthedocs.io/en/latest/extensions/callbacks.html)"
   ]
  },
  {
   "cell_type": "code",
   "execution_count": 1,
   "metadata": {},
   "outputs": [],
   "source": [
    "# default_exp thunder.callbacks"
   ]
  },
  {
   "cell_type": "code",
   "execution_count": 2,
   "metadata": {},
   "outputs": [],
   "source": [
    "# export\n",
    "import pandas as pd\n",
    "from ipywidgets import Output\n",
    "from typing import List, Dict\n",
    "import copy\n",
    "import pytorch_lightning as pl\n",
    "import torch\n",
    "from torch import nn"
   ]
  },
  {
   "cell_type": "code",
   "execution_count": 3,
   "metadata": {},
   "outputs": [],
   "source": [
    "# export\n",
    "def unfreeze(self):\n",
    "    \"\"\"unfreeze this module, and its sub modules\"\"\"\n",
    "    for p in self.parameters():\n",
    "        p.requires_grad = True\n",
    "\n",
    "\n",
    "def freeze(self):\n",
    "    \"\"\"freeze this module, and its sub modules\"\"\"\n",
    "    for p in self.parameters():\n",
    "        p.requires_grad = False\n",
    "\n",
    "nn.Module.unfreeze = unfreeze\n",
    "nn.Module.freeze = freeze\n",
    "\n",
    "class DataFrameMetricsCallback(pl.Callback):\n",
    "    \"\"\"\n",
    "    A metrics callback keep showing pandas dataframe\n",
    "    \"\"\"\n",
    "\n",
    "    def __init__(self) -> None:\n",
    "        \"\"\"\n",
    "        In Trainer kwargs, passing this arguements along with other callbacks\n",
    "        callbacks = [DataFrameMetricsCallback(),]\n",
    "        \"\"\"\n",
    "        self.metrics: List = []\n",
    "\n",
    "    def on_fit_start(\n",
    "        self, trainer: pl.Trainer,\n",
    "        pl_module: pl.LightningModule\n",
    "    ) -> None:\n",
    "        pl_module.output = Output()\n",
    "        display(pl_module.output)\n",
    "\n",
    "    def on_validation_epoch_end(\n",
    "        self, trainer: pl.Trainer,\n",
    "        pl_module: pl.LightningModule\n",
    "    ) -> None:\n",
    "        metrics_dict = copy.copy(trainer.callback_metrics)\n",
    "        self.metrics.append(dict((k, v.item())\n",
    "                                 for k, v in metrics_dict.items()))\n",
    "        pl_module.output.clear_output()\n",
    "        with pl_module.output:\n",
    "            display(pd.DataFrame(self.metrics).tail(10))\n",
    "\n",
    "\n",
    "def UnfreezeScheduler(frozen_epochs: int = 2):\n",
    "    assert hasattr(pl_module, \"top_layers\"), \"Please define 'top_layers' attributes\"+\\\n",
    "    \" for pl_module, which will return a list of nn.Module object(s)\"\n",
    "    class UnfreezeSchedulerCallback(pl.callbacks.Callback):\n",
    "        \"\"\"\n",
    "        Train the top layer for [frozen_epochs] epochs\n",
    "        then un freeze all\n",
    "        \"\"\"\n",
    "\n",
    "        def on_epoch_start(self, trainer, pl_module):\n",
    "            epoch = trainer.current_epoch\n",
    "\n",
    "            if epoch == 0:\n",
    "                pl_module.freeze()\n",
    "                for tl in pl_module.top_layers:\n",
    "                    tl.unfreeze()\n",
    "            if epoch == frozen_epochs:\n",
    "                pl_module.unfreeze()\n",
    "                pl_module.base.embeddings.freeze()"
   ]
  },
  {
   "cell_type": "code",
   "execution_count": null,
   "metadata": {},
   "outputs": [],
   "source": []
  }
 ],
 "metadata": {
  "kernelspec": {
   "display_name": "Python 3",
   "language": "python",
   "name": "python3"
  },
  "language_info": {
   "codemirror_mode": {
    "name": "ipython",
    "version": 3
   },
   "file_extension": ".py",
   "mimetype": "text/x-python",
   "name": "python",
   "nbconvert_exporter": "python",
   "pygments_lexer": "ipython3",
   "version": "3.7.4"
  },
  "toc": {
   "base_numbering": 1,
   "nav_menu": {},
   "number_sections": true,
   "sideBar": true,
   "skip_h1_title": false,
   "title_cell": "Table of Contents",
   "title_sidebar": "Contents",
   "toc_cell": false,
   "toc_position": {},
   "toc_section_display": true,
   "toc_window_display": false
  }
 },
 "nbformat": 4,
 "nbformat_minor": 4
}
