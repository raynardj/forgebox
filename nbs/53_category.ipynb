{
 "cells": [
  {
   "cell_type": "markdown",
   "metadata": {},
   "source": [
    "# Categorical Transformation for DL\n",
    "> a list of things to categoryical transformation"
   ]
  },
  {
   "cell_type": "code",
   "execution_count": 2,
   "metadata": {},
   "outputs": [],
   "source": [
    "# default_exp category"
   ]
  },
  {
   "cell_type": "markdown",
   "metadata": {},
   "source": [
    "## Imports"
   ]
  },
  {
   "cell_type": "code",
   "execution_count": 3,
   "metadata": {},
   "outputs": [],
   "source": [
    "# export\n",
    "import pandas as pd\n",
    "import numpy as np\n",
    "from pathlib import Path\n",
    "import json"
   ]
  },
  {
   "cell_type": "code",
   "execution_count": 27,
   "metadata": {
    "code_folding": []
   },
   "outputs": [],
   "source": [
    "# export\n",
    "from torch.utils.data.dataset import Dataset\n",
    "from torch.utils.data.dataloader import DataLoader\n",
    "from typing import Iterable\n",
    "\n",
    "class C2I:\n",
    "    def __init__(\n",
    "        self,\n",
    "        arr:Iterable,\n",
    "        pad_mst:bool=False,\n",
    "    ):\n",
    "        self.pad_mst = pad_mst\n",
    "        self.pad = [\"[MST]\",] if self.pad_mst else []\n",
    "        self.dict = dict(\n",
    "            (v,k) for k,v in enumerate(self.pad + list(arr)))\n",
    "        self.get_int = self.get_get_int()\n",
    "        self.get_int_ = np.vectorize(self.get_int)\n",
    "        \n",
    "    def get_get_int(self,):\n",
    "        if self.pad_mst:\n",
    "            def get_int(idx:str) -> int:\n",
    "                if idx in self.dict:\n",
    "                    return self.dict[idx]\n",
    "                else:\n",
    "                    return 0\n",
    "        else:\n",
    "            def get_int(idx:str) -> int:\n",
    "                return self.dict[idx]\n",
    "        return get_int\n",
    "\n",
    "    def __repr__(self) -> str:\n",
    "        return f\"C2I:{self.__len__()} categories\"\n",
    "\n",
    "    def __len__(self):\n",
    "        return len(self.dict)\n",
    "\n",
    "    def __getitem__(self, k:int):\n",
    "        if type(k) == np.ndarray:\n",
    "            return self.get_int_(k)\n",
    "        else:\n",
    "            return self.get_int(k)\n",
    "        \n",
    "class Category:\n",
    "    def __init__(\n",
    "        self,\n",
    "        arr:Iterable,\n",
    "        pad_mst:bool=False\n",
    "    ):\n",
    "        self.pad_mst=pad_mst\n",
    "        self.c2i = C2I(arr, pad_mst=pad_mst)\n",
    "        self.i2c = np.array(self.c2i.pad+list(arr))\n",
    "\n",
    "    def save(self,path: Path):\n",
    "        with open(path,\"w\") as f:\n",
    "            json.dump(self.i2c.tolist(),f)\n",
    "\n",
    "    @classmethod\n",
    "    def load(cls, path:Path, pad_mst:bool=False):\n",
    "        with open(path,\"r\") as f:\n",
    "            l = np.array(json.load(f))\n",
    "        return cls(l, pad_mst=pad_mst)\n",
    "\n",
    "    def __len__(self):\n",
    "        return len(self.i2c)\n",
    "\n",
    "    def __repr__(self):\n",
    "        return f\"Category Manager with {self.__len__()}\""
   ]
  },
  {
   "cell_type": "markdown",
   "metadata": {},
   "source": [
    "## Test effect"
   ]
  },
  {
   "cell_type": "code",
   "execution_count": 21,
   "metadata": {},
   "outputs": [],
   "source": [
    "cates = Category(range(50))"
   ]
  },
  {
   "cell_type": "code",
   "execution_count": 26,
   "metadata": {},
   "outputs": [
    {
     "data": {
      "text/plain": [
       "1.0"
      ]
     },
     "execution_count": 26,
     "metadata": {},
     "output_type": "execute_result"
    }
   ],
   "source": [
    "test_c = np.random.randint(0,30,1000)\n",
    "(cates.c2i[test_c]==test_c).mean()"
   ]
  },
  {
   "cell_type": "code",
   "execution_count": null,
   "metadata": {},
   "outputs": [],
   "source": []
  }
 ],
 "metadata": {
  "kernelspec": {
   "display_name": "Python 3",
   "language": "python",
   "name": "python3"
  },
  "language_info": {
   "codemirror_mode": {
    "name": "ipython",
    "version": 3
   },
   "file_extension": ".py",
   "mimetype": "text/x-python",
   "name": "python",
   "nbconvert_exporter": "python",
   "pygments_lexer": "ipython3",
   "version": "3.7.4"
  },
  "toc": {
   "base_numbering": 1,
   "nav_menu": {},
   "number_sections": true,
   "sideBar": true,
   "skip_h1_title": false,
   "title_cell": "Table of Contents",
   "title_sidebar": "Contents",
   "toc_cell": false,
   "toc_position": {},
   "toc_section_display": true,
   "toc_window_display": false
  }
 },
 "nbformat": 4,
 "nbformat_minor": 4
}
