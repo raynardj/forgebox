{
 "cells": [
  {
   "cell_type": "markdown",
   "metadata": {},
   "source": [
    "# Categorical Transformation for DL\n",
    "> a list of things to categoryical transformation"
   ]
  },
  {
   "cell_type": "code",
   "execution_count": 2,
   "metadata": {},
   "outputs": [],
   "source": [
    "# default_exp category"
   ]
  },
  {
   "cell_type": "markdown",
   "metadata": {},
   "source": [
    "## Imports"
   ]
  },
  {
   "cell_type": "code",
   "execution_count": 29,
   "metadata": {
    "code_folding": []
   },
   "outputs": [],
   "source": [
    "# export\n",
    "import pandas as pd\n",
    "import numpy as np\n",
    "from pathlib import Path\n",
    "import json\n",
    "from torch.utils.data.dataset import Dataset\n",
    "from torch.utils.data.dataloader import DataLoader\n",
    "from typing import Iterable, Dict, List\n",
    "\n",
    "\n",
    "class C2I:\n",
    "    \"\"\"\n",
    "    Category to indices\n",
    "    >>> c2i = C2I(\n",
    "            [\"class 1\", \"class 2\", ..., \"class n\"],\n",
    "            pad_mst=True,\n",
    "            )\n",
    "    >>> c2i[[\"class 2\", \"class 5\"]]\n",
    "    [0] array([2,3])\n",
    "\n",
    "    If the indices you put in the slicing is a np.ndarray\n",
    "        a verctorized function will be used\n",
    "    \"\"\"\n",
    "\n",
    "    def __init__(\n",
    "        self,\n",
    "        arr: Iterable,\n",
    "        pad_mst: bool = False,\n",
    "    ):\n",
    "        self.pad_mst = pad_mst\n",
    "        self.pad = [\"[MST]\", ] if self.pad_mst else []\n",
    "        self.dict = dict(\n",
    "            (v, k) for k, v in enumerate(self.pad + list(arr)))\n",
    "        self.get_int = self.get_get_int()\n",
    "        self.get_int_ = np.vectorize(self.get_int)\n",
    "\n",
    "    def get_get_int(self,):\n",
    "        if self.pad_mst:\n",
    "            def get_int(idx: str) -> int:\n",
    "                if idx in self.dict:\n",
    "                    return self.dict[idx]\n",
    "                else:\n",
    "                    return 0\n",
    "        else:\n",
    "            def get_int(idx: str) -> int:\n",
    "                return self.dict[idx]\n",
    "        return get_int\n",
    "\n",
    "    def __repr__(self) -> str:\n",
    "        return f\"C2I:{self.__len__()} categories\"\n",
    "\n",
    "    def __len__(self):\n",
    "        return len(self.dict)\n",
    "\n",
    "    def __getitem__(self, k: int):\n",
    "        if type(k) in [np.ndarray, list]:\n",
    "            # use vectorized function\n",
    "            return self.get_int_(k)\n",
    "        else:\n",
    "            # use the original python function\n",
    "            return self.get_int(k)\n",
    "\n",
    "\n",
    "class Category:\n",
    "    \"\"\"\n",
    "    Manage categorical translations\n",
    "    c = Category(\n",
    "            [\"class 1\", \"class 2\", ..., \"class n\"],\n",
    "            pad_mst=True,)\n",
    "\n",
    "    c.c2i[[\"class 3\",\"class 6\"]]\n",
    "    c.i2c[[3, 2, 1]]\n",
    "    \"\"\"\n",
    "\n",
    "    def __init__(\n",
    "        self,\n",
    "        arr: Iterable,\n",
    "        pad_mst: bool = False\n",
    "    ):\n",
    "        self.pad_mst = pad_mst\n",
    "        self.c2i = C2I(arr, pad_mst=pad_mst)\n",
    "        self.i2c = np.array(self.c2i.pad+list(arr))\n",
    "\n",
    "    def save(self, path: Path) -> None:\n",
    "        \"\"\"\n",
    "        save category information to json file\n",
    "        \"\"\"\n",
    "        with open(path, \"w\") as f:\n",
    "            json.dump(self.i2c.tolist(), f)\n",
    "\n",
    "    @classmethod\n",
    "    def load(cls, path: Path):\n",
    "        \"\"\"\n",
    "        load category information from a json file\n",
    "        \"\"\"\n",
    "        with open(path, \"r\") as f:\n",
    "            l = np.array(json.load(f))\n",
    "        if l[0] == \"[MST]\":\n",
    "            return cls(l[1:], pad_mst=True)\n",
    "        else:\n",
    "            return cls(l, pad_mst=False)\n",
    "\n",
    "    def __len__(self):\n",
    "        return len(self.i2c)\n",
    "\n",
    "    def __repr__(self):\n",
    "        return f\"Category Manager with {self.__len__()}\"\n",
    "\n",
    "\n",
    "class TreeCategory(Category):\n",
    "    \"\"\"\n",
    "    Manage categorical translations\n",
    "    c = Category(\n",
    "            [\"class 1\", \"class 2\", ..., \"class n\"],\n",
    "            pad_mst=True,)\n",
    "\n",
    "    c.c2i[[\"class 3\",\"class 6\"]]\n",
    "    c.i2c[[3, 2, 1]]\n",
    "    \"\"\"\n",
    "\n",
    "    def __init__(\n",
    "        self,\n",
    "        parent_map: Dict[str, str],\n",
    "        pad_mst: bool = False\n",
    "    ):\n",
    "        self.parent_map = parent_map\n",
    "        arr = np.array(list(self.parent_map.keys()))\n",
    "        super().__init__(arr, pad_mst=pad_mst)\n",
    "        self.ancestor_map = dict()\n",
    "        for name in self.parent_map.keys():\n",
    "            self.find_ancestor_map(name)\n",
    "            \n",
    "        self.get_depth_map()\n",
    "        self.get_depth_map_array()\n",
    "\n",
    "    def find_ancestor_map(\n",
    "        self, name: str\n",
    "    ) -> Dict[str, List[str]]:\n",
    "        if name in self.ancestor_map:\n",
    "            return self.ancestor_map[name]\n",
    "        if name not in self.parent_map:\n",
    "            return []\n",
    "        else:\n",
    "            result = [name, ]+self.find_ancestor_map(self.parent_map[name])\n",
    "            self.ancestor_map[name] = result\n",
    "            return result\n",
    "        \n",
    "        \n",
    "    def tree_hot(self, name: str) -> np.array:\n",
    "        \"\"\"\n",
    "        return tree hot encoding name according to category\n",
    "        \"\"\"\n",
    "        target = np.zeros(len(self), dtype=int)\n",
    "        target[self.c2i[self.ancestor_map[name]]]=1\n",
    "        return target\n",
    "\n",
    "    def get_depth_map(self) -> Dict[str, int]:\n",
    "        self.depth_map = dict(\n",
    "            (k, len(v)) for k,v in self.ancestor_map.items())\n",
    "        return self.depth_map\n",
    "\n",
    "    def get_depth_map_array(self) -> np.array:\n",
    "        self.depth_map_array = np.vectorize(\n",
    "            self.depth_map.get)(self.i2c)\n",
    "        return self.depth_map_array\n",
    "    \n",
    "    def __repr__(self):\n",
    "        return f\"\"\"Tree Category({len(self)}):\\n\\tself.tree_hot(\"name\")\\tself.ancestor_map\\tself.depth_map_array\"\"\""
   ]
  },
  {
   "cell_type": "markdown",
   "metadata": {},
   "source": [
    "## Indexing forward and backward"
   ]
  },
  {
   "cell_type": "code",
   "execution_count": 30,
   "metadata": {},
   "outputs": [],
   "source": [
    "cates = Category(list(map(lambda x:f\"Cate_{x+1}\",range(50))))"
   ]
  },
  {
   "cell_type": "code",
   "execution_count": 31,
   "metadata": {},
   "outputs": [
    {
     "data": {
      "text/plain": [
       "Category Manager with 50"
      ]
     },
     "execution_count": 31,
     "metadata": {},
     "output_type": "execute_result"
    }
   ],
   "source": [
    "cates"
   ]
  },
  {
   "cell_type": "code",
   "execution_count": 4,
   "metadata": {},
   "outputs": [
    {
     "data": {
      "text/plain": [
       "array(['Cate_1', 'Cate_2', 'Cate_3', 'Cate_4', 'Cate_5'], dtype='<U7')"
      ]
     },
     "execution_count": 4,
     "metadata": {},
     "output_type": "execute_result"
    }
   ],
   "source": [
    "cates.i2c[:5]"
   ]
  },
  {
   "cell_type": "code",
   "execution_count": 32,
   "metadata": {},
   "outputs": [],
   "source": [
    "test_c = np.random.randint(1,50,1000)"
   ]
  },
  {
   "cell_type": "markdown",
   "metadata": {},
   "source": [
    "### Indices to categories"
   ]
  },
  {
   "cell_type": "code",
   "execution_count": 33,
   "metadata": {},
   "outputs": [
    {
     "data": {
      "text/plain": [
       "array(['Cate_3', 'Cate_21', 'Cate_41', 'Cate_29', 'Cate_3', 'Cate_5',\n",
       "       'Cate_5', 'Cate_40', 'Cate_3', 'Cate_24', 'Cate_10', 'Cate_19',\n",
       "       'Cate_37', 'Cate_45', 'Cate_35', 'Cate_36', 'Cate_28', 'Cate_8',\n",
       "       'Cate_13', 'Cate_23'], dtype='<U7')"
      ]
     },
     "execution_count": 33,
     "metadata": {},
     "output_type": "execute_result"
    }
   ],
   "source": [
    "labels = cates.i2c[test_c]\n",
    "labels[:20]"
   ]
  },
  {
   "cell_type": "markdown",
   "metadata": {},
   "source": [
    "### Category to indices"
   ]
  },
  {
   "cell_type": "code",
   "execution_count": 34,
   "metadata": {},
   "outputs": [
    {
     "data": {
      "text/plain": [
       "array([ 2, 20, 40, 28,  2,  4,  4, 39,  2, 23,  9, 18, 36, 44, 34, 35, 27,\n",
       "        7, 12, 22])"
      ]
     },
     "execution_count": 34,
     "metadata": {},
     "output_type": "execute_result"
    }
   ],
   "source": [
    "cates.c2i[labels[:20]]"
   ]
  },
  {
   "cell_type": "markdown",
   "metadata": {},
   "source": [
    "Using vectorized function"
   ]
  },
  {
   "cell_type": "code",
   "execution_count": 35,
   "metadata": {},
   "outputs": [
    {
     "name": "stdout",
     "output_type": "stream",
     "text": [
      "CPU times: user 59.8 ms, sys: 2.67 ms, total: 62.4 ms\n",
      "Wall time: 62.4 ms\n"
     ]
    }
   ],
   "source": [
    "%%time\n",
    "for i in range(200):\n",
    "    indices_generated = cates.c2i[labels]"
   ]
  },
  {
   "cell_type": "markdown",
   "metadata": {},
   "source": [
    "Using the original python function"
   ]
  },
  {
   "cell_type": "code",
   "execution_count": 36,
   "metadata": {},
   "outputs": [
    {
     "name": "stdout",
     "output_type": "stream",
     "text": [
      "CPU times: user 102 ms, sys: 2.31 ms, total: 104 ms\n",
      "Wall time: 104 ms\n"
     ]
    }
   ],
   "source": [
    "%%time\n",
    "for i in range(200):\n",
    "    indices_generated2 = list(cates.c2i.get_int(l) for l in labels)"
   ]
  },
  {
   "cell_type": "markdown",
   "metadata": {},
   "source": [
    "Transform forward and backward and check fidelity"
   ]
  },
  {
   "cell_type": "code",
   "execution_count": 37,
   "metadata": {},
   "outputs": [
    {
     "data": {
      "text/plain": [
       "1.0"
      ]
     },
     "execution_count": 37,
     "metadata": {},
     "output_type": "execute_result"
    }
   ],
   "source": [
    "(cates.c2i[labels]==test_c).mean()"
   ]
  },
  {
   "cell_type": "markdown",
   "metadata": {},
   "source": [
    "## With missing tokens"
   ]
  },
  {
   "cell_type": "markdown",
   "metadata": {},
   "source": [
    "We can set pad_mst to True to manage missing token"
   ]
  },
  {
   "cell_type": "code",
   "execution_count": 38,
   "metadata": {},
   "outputs": [],
   "source": [
    "nt = Category(\"ATCG\", pad_mst=True)"
   ]
  },
  {
   "cell_type": "markdown",
   "metadata": {},
   "source": [
    "### Categories to indices"
   ]
  },
  {
   "cell_type": "code",
   "execution_count": 39,
   "metadata": {},
   "outputs": [
    {
     "data": {
      "text/plain": [
       "array([1, 1, 1, 3, 3, 2, 2, 1, 2, 2, 4, 3, 1, 4, 3, 0, 1, 1, 2])"
      ]
     },
     "execution_count": 39,
     "metadata": {},
     "output_type": "execute_result"
    }
   ],
   "source": [
    "nt.c2i[list(\"AAACCTTATTGCAGCOAAT\")]"
   ]
  },
  {
   "cell_type": "markdown",
   "metadata": {},
   "source": [
    "### Indices to categories"
   ]
  },
  {
   "cell_type": "code",
   "execution_count": 40,
   "metadata": {},
   "outputs": [
    {
     "data": {
      "text/plain": [
       "array(['A', 'A', 'A', 'C', 'C', 'T', 'T', 'T', 'T', 'G', 'C', 'A', 'G',\n",
       "       'C', '[MST]', 'A', 'A', 'T'], dtype='<U5')"
      ]
     },
     "execution_count": 40,
     "metadata": {},
     "output_type": "execute_result"
    }
   ],
   "source": [
    "nt.i2c[[1, 1, 1, 3, 3, 2, 2, 2, 2, 4, 3, 1, 4, 3, 0, 1, 1, 2]]"
   ]
  },
  {
   "cell_type": "markdown",
   "metadata": {},
   "source": [
    "## Data save and load"
   ]
  },
  {
   "cell_type": "markdown",
   "metadata": {},
   "source": [
    "### Save categories"
   ]
  },
  {
   "cell_type": "code",
   "execution_count": 41,
   "metadata": {},
   "outputs": [],
   "source": [
    "nt.save(\"atcg.json\")"
   ]
  },
  {
   "cell_type": "markdown",
   "metadata": {},
   "source": [
    "### Load categories"
   ]
  },
  {
   "cell_type": "code",
   "execution_count": 42,
   "metadata": {},
   "outputs": [
    {
     "data": {
      "text/plain": [
       "Category Manager with 5"
      ]
     },
     "execution_count": 42,
     "metadata": {},
     "output_type": "execute_result"
    }
   ],
   "source": [
    "cm = Category.load(\"atcg.json\")\n",
    "cm"
   ]
  },
  {
   "cell_type": "markdown",
   "metadata": {},
   "source": [
    "## Tree data"
   ]
  },
  {
   "cell_type": "markdown",
   "metadata": {},
   "source": [
    "Sometime the target should be treated like a tree structure multi-hotting, not one-hot encoding, the benifit of such operation is explained in this [colab notebook](https://colab.research.google.com/github/raynardj/python4ml/blob/master/experiments/treehot_encoding.ipynb)"
   ]
  },
  {
   "cell_type": "code",
   "execution_count": 43,
   "metadata": {},
   "outputs": [],
   "source": [
    "import requests\n",
    "\n",
    "tree_str = requests.get(\"http://oncotree.mskcc.org/api/tumorTypes/tree?&version=oncotree_latest_stable\").text\n",
    "tree = json.loads(tree_str)"
   ]
  },
  {
   "cell_type": "code",
   "execution_count": 53,
   "metadata": {},
   "outputs": [],
   "source": [
    "parent_map = dict()\n",
    "def get_pairs(node):\n",
    "    if \"name\" in node:\n",
    "        parent_map.update({node.get(\"code\"):node.get(\"parent\")})\n",
    "    if \"children\" in node:\n",
    "        for c,child in node[\"children\"].items():\n",
    "            get_pairs(child)\n",
    "\n",
    "get_pairs(tree['TISSUE'])"
   ]
  },
  {
   "cell_type": "code",
   "execution_count": 54,
   "metadata": {},
   "outputs": [],
   "source": [
    "tree_category = TreeCategory(parent_map)"
   ]
  },
  {
   "cell_type": "code",
   "execution_count": 55,
   "metadata": {},
   "outputs": [
    {
     "data": {
      "text/plain": [
       "Tree Category(869):\n",
       "\tself.tree_hot(\"name\")\tself.ancestor_map\tself.depth_map_array"
      ]
     },
     "execution_count": 55,
     "metadata": {},
     "output_type": "execute_result"
    }
   ],
   "source": [
    "tree_category"
   ]
  },
  {
   "cell_type": "markdown",
   "metadata": {},
   "source": [
    "You can transform the category data into the following multihot hierachical encoding vector.\n",
    "\n",
    "The rest is good old BCELoss"
   ]
  },
  {
   "cell_type": "code",
   "execution_count": 56,
   "metadata": {},
   "outputs": [
    {
     "data": {
      "text/plain": [
       "array([1, 0, 0, 0, 0, 0, 0, 0, 0, 0, 0, 0, 0, 0, 0, 0, 0, 0, 0, 0, 0, 0,\n",
       "       0, 0, 0, 0, 0, 0, 0, 0, 0, 0, 0, 0, 0, 0, 0, 0, 0, 0, 0, 0, 0, 0,\n",
       "       0, 0, 0, 0, 0, 0, 0, 0, 0, 0, 0, 0, 0, 0, 0, 0, 0, 0, 0, 0, 0, 0,\n",
       "       0, 0, 0, 0, 0, 0, 0, 0, 0, 0, 0, 0, 0, 0, 0, 0, 0, 0, 0, 0, 0, 0,\n",
       "       0, 0, 0, 0, 0, 0, 0, 0, 0, 0, 0, 0, 0, 0, 0, 0, 0, 0, 0, 0, 0, 0,\n",
       "       0, 0, 0, 0, 0, 0, 0, 0, 0, 0, 0, 0, 0, 0, 0, 0, 0, 0, 0, 0, 0, 0,\n",
       "       0, 0, 0, 0, 0, 0, 0, 0, 0, 0, 0, 0, 0, 0, 0, 0, 0, 0, 0, 0, 0, 0,\n",
       "       0, 0, 0, 0, 0, 0, 0, 0, 0, 0, 0, 0, 0, 0, 0, 0, 0, 0, 0, 0, 0, 0,\n",
       "       0, 0, 0, 0, 0, 0, 0, 0, 0, 0, 0, 0, 0, 0, 0, 0, 0, 0, 0, 0, 0, 0,\n",
       "       0, 0, 0, 0, 0, 0, 0, 0, 0, 0, 0, 0, 0, 0, 0, 0, 0, 0, 0, 0, 0, 0,\n",
       "       0, 0, 0, 0, 0, 0, 0, 0, 0, 0, 0, 0, 0, 0, 0, 0, 0, 0, 0, 0, 0, 0,\n",
       "       0, 0, 0, 0, 0, 0, 0, 0, 0, 0, 0, 0, 0, 0, 0, 0, 0, 0, 0, 0, 0, 0,\n",
       "       0, 0, 0, 0, 0, 0, 0, 0, 0, 0, 0, 0, 0, 0, 0, 0, 0, 0, 0, 0, 0, 0,\n",
       "       0, 0, 0, 0, 0, 0, 0, 0, 0, 0, 0, 0, 0, 0, 0, 0, 0, 0, 0, 0, 0, 0,\n",
       "       0, 0, 0, 0, 0, 0, 0, 0, 0, 0, 0, 0, 0, 0, 0, 0, 0, 0, 0, 0, 0, 0,\n",
       "       0, 0, 0, 0, 0, 0, 0, 0, 0, 0, 0, 0, 0, 0, 0, 0, 0, 0, 0, 0, 0, 0,\n",
       "       0, 0, 0, 0, 0, 0, 0, 0, 0, 0, 0, 0, 0, 0, 0, 0, 0, 0, 0, 0, 0, 0,\n",
       "       0, 0, 0, 0, 0, 0, 0, 0, 0, 0, 0, 0, 0, 0, 0, 0, 0, 0, 0, 0, 0, 0,\n",
       "       0, 0, 0, 0, 0, 0, 0, 0, 0, 0, 0, 0, 0, 0, 0, 0, 0, 0, 0, 0, 0, 0,\n",
       "       0, 0, 0, 0, 0, 0, 0, 0, 0, 0, 0, 0, 0, 0, 0, 0, 0, 0, 0, 0, 0, 0,\n",
       "       0, 0, 0, 0, 0, 0, 0, 0, 0, 0, 0, 0, 0, 0, 0, 0, 0, 0, 0, 0, 0, 0,\n",
       "       0, 0, 0, 0, 0, 0, 0, 0, 0, 0, 0, 0, 0, 0, 0, 0, 0, 0, 0, 0, 0, 0,\n",
       "       0, 0, 0, 0, 0, 0, 0, 0, 0, 0, 0, 0, 0, 0, 0, 0, 0, 0, 0, 0, 0, 0,\n",
       "       0, 0, 0, 0, 0, 0, 0, 0, 0, 0, 0, 0, 0, 0, 0, 0, 0, 0, 0, 0, 0, 0,\n",
       "       0, 0, 0, 0, 0, 0, 0, 0, 0, 0, 0, 0, 0, 0, 0, 0, 0, 0, 0, 0, 0, 0,\n",
       "       0, 0, 0, 0, 0, 0, 0, 0, 0, 0, 0, 0, 0, 0, 0, 0, 0, 0, 0, 0, 0, 0,\n",
       "       0, 0, 0, 0, 0, 0, 0, 0, 0, 0, 0, 0, 0, 0, 0, 0, 0, 0, 0, 0, 0, 0,\n",
       "       0, 0, 0, 0, 0, 0, 0, 0, 0, 0, 0, 0, 0, 0, 0, 0, 0, 0, 0, 0, 0, 0,\n",
       "       0, 0, 0, 0, 0, 0, 0, 0, 0, 0, 0, 0, 0, 0, 0, 0, 0, 0, 0, 0, 0, 0,\n",
       "       0, 0, 0, 0, 0, 0, 0, 0, 0, 0, 0, 0, 0, 0, 0, 0, 0, 0, 0, 0, 0, 0,\n",
       "       0, 0, 0, 0, 0, 0, 0, 0, 0, 0, 0, 0, 0, 0, 0, 0, 0, 0, 0, 0, 0, 0,\n",
       "       0, 0, 0, 0, 0, 0, 0, 0, 0, 0, 0, 0, 0, 0, 0, 0, 0, 0, 0, 0, 0, 0,\n",
       "       0, 0, 0, 0, 0, 0, 0, 0, 0, 0, 0, 0, 0, 0, 0, 0, 0, 0, 0, 0, 0, 0,\n",
       "       0, 0, 0, 0, 0, 0, 0, 0, 0, 0, 0, 0, 0, 0, 0, 0, 0, 0, 0, 0, 0, 0,\n",
       "       0, 0, 0, 0, 0, 0, 0, 0, 0, 0, 0, 0, 0, 0, 0, 0, 0, 0, 0, 0, 0, 0,\n",
       "       0, 0, 0, 0, 0, 0, 0, 0, 0, 0, 0, 0, 0, 0, 0, 0, 0, 0, 0, 0, 0, 0,\n",
       "       0, 0, 0, 0, 0, 0, 0, 0, 0, 0, 0, 0, 0, 0, 0, 0, 0, 0, 0, 0, 0, 0,\n",
       "       0, 0, 0, 0, 0, 0, 0, 0, 0, 1, 1, 1, 0, 0, 0, 0, 0, 0, 0, 0, 0, 0,\n",
       "       0, 0, 0, 0, 0, 0, 0, 0, 0, 0, 0, 0, 0, 0, 0, 0, 0, 0, 0, 0, 0, 0,\n",
       "       0, 0, 0, 0, 0, 0, 0, 0, 0, 0, 0])"
      ]
     },
     "execution_count": 56,
     "metadata": {},
     "output_type": "execute_result"
    }
   ],
   "source": [
    "tree_category.tree_hot(\"NCCRCC\")"
   ]
  },
  {
   "cell_type": "code",
   "execution_count": 57,
   "metadata": {},
   "outputs": [
    {
     "data": {
      "text/plain": [
       "array([1, 2, 3, 4, 4, 4, 3, 4, 4, 5, 5, 4, 5, 5, 5, 4, 4, 4, 4, 4, 4, 4,\n",
       "       4, 4, 4, 4, 4, 4, 3, 4, 4, 4, 4, 4, 4, 4, 3, 4, 4, 4, 4, 4, 2, 3,\n",
       "       4, 5, 5, 5, 5, 5, 5, 4, 5, 6, 6, 6, 6, 6, 6, 6, 6, 6, 5, 4, 5, 6,\n",
       "       6, 7, 7, 6, 6, 7, 6, 6, 6, 6, 6, 6, 6, 6, 6, 6, 6, 6, 6, 6, 7, 7,\n",
       "       7, 6, 6, 6, 6, 6, 6, 6, 6, 6, 6, 6, 6, 6, 7, 7, 6, 6, 6, 6, 7, 6,\n",
       "       7, 7, 6, 6, 7, 7, 7, 6, 7, 7, 5, 6, 6, 6, 6, 7, 7, 7, 6, 6, 6, 6,\n",
       "       6, 6, 6, 6, 6, 6, 6, 7, 7, 6, 6, 6, 6, 6, 6, 6, 6, 6, 6, 4, 5, 5,\n",
       "       6, 6, 6, 6, 4, 5, 5, 3, 3, 2, 3, 3, 3, 3, 3, 3, 3, 3, 4, 3, 3, 3,\n",
       "       3, 3, 3, 3, 3, 3, 3, 3, 4, 4, 4, 4, 3, 3, 3, 3, 3, 3, 3, 3, 3, 3,\n",
       "       3, 3, 3, 3, 3, 3, 3, 3, 4, 3, 3, 4, 3, 4, 3, 4, 4, 4, 4, 4, 2, 3,\n",
       "       3, 3, 4, 4, 3, 3, 3, 3, 2, 3, 4, 4, 4, 2, 3, 3, 3, 3, 4, 3, 3, 3,\n",
       "       4, 4, 4, 4, 4, 3, 2, 3, 4, 4, 4, 3, 3, 4, 4, 4, 3, 2, 3, 3, 4, 3,\n",
       "       3, 4, 4, 4, 4, 4, 4, 4, 4, 4, 4, 3, 3, 4, 3, 3, 4, 5, 5, 5, 4, 3,\n",
       "       3, 4, 5, 5, 5, 4, 5, 5, 5, 2, 3, 3, 3, 4, 3, 4, 4, 4, 4, 4, 4, 3,\n",
       "       4, 5, 4, 4, 4, 4, 4, 4, 3, 4, 4, 4, 4, 4, 4, 4, 4, 4, 4, 4, 4, 4,\n",
       "       3, 2, 3, 4, 4, 3, 3, 4, 4, 2, 3, 4, 4, 4, 2, 3, 4, 4, 3, 2, 3, 3,\n",
       "       3, 3, 3, 3, 3, 3, 3, 3, 3, 4, 4, 4, 5, 5, 5, 4, 4, 4, 4, 3, 3, 2,\n",
       "       3, 3, 3, 4, 4, 5, 5, 4, 3, 2, 3, 4, 4, 4, 4, 3, 3, 3, 4, 3, 3, 3,\n",
       "       3, 4, 4, 4, 4, 3, 3, 3, 4, 4, 4, 4, 4, 2, 3, 3, 4, 4, 3, 4, 4, 4,\n",
       "       4, 4, 4, 4, 4, 4, 4, 3, 3, 3, 3, 4, 4, 4, 4, 2, 3, 3, 3, 3, 3, 3,\n",
       "       3, 3, 3, 3, 3, 3, 3, 3, 3, 4, 4, 4, 4, 4, 4, 4, 3, 3, 3, 3, 3, 3,\n",
       "       2, 3, 3, 3, 3, 3, 3, 3, 3, 4, 4, 4, 3, 3, 3, 3, 3, 4, 2, 3, 4, 4,\n",
       "       4, 4, 4, 3, 4, 4, 4, 4, 4, 4, 4, 4, 4, 4, 4, 3, 4, 4, 4, 4, 4, 4,\n",
       "       5, 5, 5, 4, 4, 4, 4, 4, 3, 4, 4, 4, 3, 4, 4, 3, 4, 4, 4, 4, 4, 4,\n",
       "       4, 4, 3, 4, 4, 4, 4, 3, 4, 4, 4, 4, 4, 4, 4, 4, 4, 3, 4, 4, 4, 4,\n",
       "       4, 4, 4, 4, 4, 4, 4, 3, 4, 4, 4, 4, 4, 4, 4, 4, 3, 4, 4, 4, 4, 4,\n",
       "       4, 4, 4, 4, 3, 4, 4, 4, 4, 4, 4, 4, 4, 2, 3, 3, 3, 2, 3, 3, 3, 3,\n",
       "       3, 2, 3, 4, 4, 4, 4, 3, 3, 4, 4, 4, 4, 4, 4, 5, 5, 4, 4, 5, 5, 5,\n",
       "       5, 5, 4, 4, 3, 3, 3, 3, 3, 2, 3, 4, 4, 4, 2, 3, 4, 4, 5, 5, 5, 5,\n",
       "       5, 4, 4, 5, 5, 4, 4, 3, 3, 4, 4, 4, 4, 4, 4, 4, 4, 4, 4, 4, 4, 3,\n",
       "       4, 5, 5, 5, 4, 4, 4, 2, 3, 3, 3, 3, 4, 4, 4, 4, 4, 4, 4, 4, 4, 2,\n",
       "       3, 4, 4, 4, 4, 4, 4, 3, 3, 3, 3, 2, 3, 3, 3, 3, 3, 3, 3, 3, 3, 2,\n",
       "       3, 3, 2, 3, 3, 4, 5, 6, 6, 6, 6, 6, 6, 6, 6, 6, 5, 6, 6, 5, 6, 6,\n",
       "       5, 5, 5, 6, 6, 6, 6, 6, 6, 6, 6, 6, 6, 6, 6, 4, 5, 5, 5, 5, 5, 5,\n",
       "       5, 5, 5, 5, 4, 4, 5, 5, 5, 5, 5, 4, 5, 5, 5, 6, 6, 6, 5, 5, 4, 5,\n",
       "       5, 6, 5, 6, 5, 6, 6, 5, 5, 5, 6, 4, 4, 5, 5, 5, 5, 4, 5, 6, 6, 5,\n",
       "       6, 6, 5, 5, 5, 5, 5, 4, 5, 5, 6, 6, 6, 6, 6, 5, 3, 2, 3, 3, 4, 4,\n",
       "       4, 4, 4, 4, 4, 3, 3, 3, 3, 2, 3, 4, 5, 5, 5, 5, 5, 5, 5, 5, 5, 5,\n",
       "       5, 5, 5, 4, 5, 3, 3, 3, 3, 2, 3, 4, 5, 5, 5, 5, 5, 4, 4, 4, 4, 4,\n",
       "       5, 5, 4, 3, 3, 3, 4, 4, 4, 3, 3])"
      ]
     },
     "execution_count": 57,
     "metadata": {},
     "output_type": "execute_result"
    }
   ],
   "source": [
    "tree_category.depth_map_array"
   ]
  },
  {
   "cell_type": "markdown",
   "metadata": {},
   "source": [
    "With the above array, you can achieve many tasks.\n",
    "\n",
    "eg. you can calc accuracy, loss, f1 for each level\n",
    "\n",
    "```python\n",
    "crit = nn.BCEWithLogitLoss()\n",
    "def accuracy(y,y_): return (y==(y_>.5)).float().mean()\n",
    "loss = crit(y,y_)\n",
    "acc = accuracy(y,y_)\n",
    "\n",
    "level_map = torch.LongTensor(tree_category.depth_map_array).cuda()\n",
    "\n",
    "# calc metrics for level2, level3, level4\n",
    "loss_l = dict()\n",
    "acc_l = dict()\n",
    "for level in [2,3,4]:\n",
    "    y_level = y[level_map==level]\n",
    "    y_hat_level = y_[level_map==level]\n",
    "    loss_l[level] = crit(y_level, y_hat_level)\n",
    "    acc_l[level] = accuracy(y_level, y_hat_level)\n",
    "```\n",
    "\n",
    "Or assign different weights to different level of loss, etc.\n",
    "\n",
    "Visualize level for first 100 categories"
   ]
  },
  {
   "cell_type": "code",
   "execution_count": 61,
   "metadata": {},
   "outputs": [
    {
     "data": {
      "text/plain": [
       "<matplotlib.image.AxesImage at 0x1c375535d0>"
      ]
     },
     "execution_count": 61,
     "metadata": {},
     "output_type": "execute_result"
    },
    {
     "data": {
      "image/png": "[encoded data removed]",
      "text/plain": [
       "<Figure size 1440x720 with 1 Axes>"
      ]
     },
     "metadata": {
      "needs_background": "light"
     },
     "output_type": "display_data"
    }
   ],
   "source": [
    "from matplotlib import pyplot as plt\n",
    "plt.figure(figsize=(20,10))\n",
    "plt.imshow(\n",
    "    np.stack(list(tree_category.depth_map_array==i\n",
    "                  for i in range(1,tree_category.depth_map_array.max()+1)))[:,:100])"
   ]
  }
 ],
 "metadata": {
  "kernelspec": {
   "display_name": "Python 3",
   "language": "python",
   "name": "python3"
  },
  "language_info": {
   "codemirror_mode": {
    "name": "ipython",
    "version": 3
   },
   "file_extension": ".py",
   "mimetype": "text/x-python",
   "name": "python",
   "nbconvert_exporter": "python",
   "pygments_lexer": "ipython3",
   "version": "3.7.4"
  },
  "toc": {
   "base_numbering": 1,
   "nav_menu": {},
   "number_sections": true,
   "sideBar": true,
   "skip_h1_title": false,
   "title_cell": "Table of Contents",
   "title_sidebar": "Contents",
   "toc_cell": false,
   "toc_position": {},
   "toc_section_display": true,
   "toc_window_display": false
  }
 },
 "nbformat": 4,
 "nbformat_minor": 4
}
