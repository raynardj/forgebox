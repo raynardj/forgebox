{
 "cells": [
  {
   "cell_type": "markdown",
   "metadata": {},
   "source": [
    "# Categorical Transformation for DL\n",
    "> a list of things to categoryical transformation"
   ]
  },
  {
   "cell_type": "code",
   "execution_count": 2,
   "metadata": {},
   "outputs": [],
   "source": [
    "# default_exp category"
   ]
  },
  {
   "cell_type": "markdown",
   "metadata": {},
   "source": [
    "## Imports"
   ]
  },
  {
   "cell_type": "code",
   "execution_count": 74,
   "metadata": {
    "code_folding": []
   },
   "outputs": [],
   "source": [
    "# export\n",
    "import pandas as pd\n",
    "import numpy as np\n",
    "from pathlib import Path\n",
    "import json\n",
    "from torch.utils.data.dataset import Dataset\n",
    "from torch.utils.data.dataloader import DataLoader\n",
    "from typing import Iterable\n",
    "\n",
    "class C2I:\n",
    "    \"\"\"\n",
    "    Category to indices\n",
    "    >>> c2i = C2I(\n",
    "            [\"class 1\", \"class 2\", ..., \"class n\"],\n",
    "            pad_mst=True,\n",
    "            )\n",
    "    >>> c2i[[\"class 2\", \"class 5\"]]\n",
    "    [0] array([2,3])\n",
    "    \n",
    "    If the indices you put in the slicing is a np.ndarray\n",
    "        a verctorized function will be used\n",
    "    \"\"\"\n",
    "    def __init__(\n",
    "        self,\n",
    "        arr:Iterable,\n",
    "        pad_mst:bool=False,\n",
    "    ):\n",
    "        self.pad_mst = pad_mst\n",
    "        self.pad = [\"[MST]\",] if self.pad_mst else []\n",
    "        self.dict = dict(\n",
    "            (v,k) for k,v in enumerate(self.pad + list(arr)))\n",
    "        self.get_int = self.get_get_int()\n",
    "        self.get_int_ = np.vectorize(self.get_int)\n",
    "        \n",
    "    def get_get_int(self,):\n",
    "        if self.pad_mst:\n",
    "            def get_int(idx:str) -> int:\n",
    "                if idx in self.dict:\n",
    "                    return self.dict[idx]\n",
    "                else:\n",
    "                    return 0\n",
    "        else:\n",
    "            def get_int(idx:str) -> int:\n",
    "                return self.dict[idx]\n",
    "        return get_int\n",
    "\n",
    "    def __repr__(self) -> str:\n",
    "        return f\"C2I:{self.__len__()} categories\"\n",
    "\n",
    "    def __len__(self):\n",
    "        return len(self.dict)\n",
    "\n",
    "    def __getitem__(self, k:int):\n",
    "        if type(k) == np.ndarray:\n",
    "            # use vectorized function\n",
    "            return self.get_int_(k)\n",
    "        else:\n",
    "            # use the original python function\n",
    "            return self.get_int(k)\n",
    "        \n",
    "class Category:\n",
    "    \"\"\"\n",
    "    Manage categorical translations\n",
    "    c = Category(\n",
    "            [\"class 1\", \"class 2\", ..., \"class n\"],\n",
    "            pad_mst=True,)\n",
    "            \n",
    "    c.c2i[[\"class 3\",\"class 6\"]]\n",
    "    c.i2c[[3, 2, 1]]\n",
    "    \"\"\"\n",
    "    def __init__(\n",
    "        self,\n",
    "        arr:Iterable,\n",
    "        pad_mst:bool=False\n",
    "    ):\n",
    "        self.pad_mst=pad_mst\n",
    "        self.c2i = C2I(arr, pad_mst=pad_mst)\n",
    "        self.i2c = np.array(self.c2i.pad+list(arr))\n",
    "\n",
    "    def save(self,path: Path) -> None:\n",
    "        \"\"\"\n",
    "        save category information to json file\n",
    "        \"\"\"\n",
    "        with open(path,\"w\") as f:\n",
    "            json.dump(self.i2c.tolist(),f)\n",
    "\n",
    "    @classmethod\n",
    "    def load(cls, path:Path):\n",
    "        \"\"\"\n",
    "        load category information from a json file\n",
    "        \"\"\"\n",
    "        with open(path,\"r\") as f:\n",
    "            l = np.array(json.load(f))\n",
    "        if l[0]==\"[MST]\":\n",
    "            return cls(l[1:], pad_mst=True)\n",
    "        else:\n",
    "            return cls(l, pad_mst=False)\n",
    "\n",
    "    def __len__(self):\n",
    "        return len(self.i2c)\n",
    "\n",
    "    def __repr__(self):\n",
    "        return f\"Category Manager with {self.__len__()}\""
   ]
  },
  {
   "cell_type": "markdown",
   "metadata": {},
   "source": [
    "## Indexing forward and backward"
   ]
  },
  {
   "cell_type": "code",
   "execution_count": 75,
   "metadata": {},
   "outputs": [],
   "source": [
    "cates = Category(list(map(lambda x:f\"Cate_{x+1}\",range(50))))"
   ]
  },
  {
   "cell_type": "code",
   "execution_count": 76,
   "metadata": {},
   "outputs": [
    {
     "data": {
      "text/plain": [
       "Category Manager with 50"
      ]
     },
     "execution_count": 76,
     "metadata": {},
     "output_type": "execute_result"
    }
   ],
   "source": [
    "cates"
   ]
  },
  {
   "cell_type": "code",
   "execution_count": 77,
   "metadata": {},
   "outputs": [
    {
     "data": {
      "text/plain": [
       "array(['Cate_1', 'Cate_2', 'Cate_3', 'Cate_4', 'Cate_5'], dtype='<U7')"
      ]
     },
     "execution_count": 77,
     "metadata": {},
     "output_type": "execute_result"
    }
   ],
   "source": [
    "cates.i2c[:5]"
   ]
  },
  {
   "cell_type": "code",
   "execution_count": 78,
   "metadata": {},
   "outputs": [],
   "source": [
    "test_c = np.random.randint(1,50,1000)"
   ]
  },
  {
   "cell_type": "markdown",
   "metadata": {},
   "source": [
    "### Indices to categories"
   ]
  },
  {
   "cell_type": "code",
   "execution_count": 79,
   "metadata": {},
   "outputs": [
    {
     "data": {
      "text/plain": [
       "array(['Cate_49', 'Cate_27', 'Cate_42', 'Cate_15', 'Cate_19', 'Cate_30',\n",
       "       'Cate_33', 'Cate_18', 'Cate_45', 'Cate_43', 'Cate_3', 'Cate_14',\n",
       "       'Cate_50', 'Cate_26', 'Cate_42', 'Cate_33', 'Cate_38', 'Cate_38',\n",
       "       'Cate_50', 'Cate_2'], dtype='<U7')"
      ]
     },
     "execution_count": 79,
     "metadata": {},
     "output_type": "execute_result"
    }
   ],
   "source": [
    "labels = cates.i2c[test_c]\n",
    "labels[:20]"
   ]
  },
  {
   "cell_type": "markdown",
   "metadata": {},
   "source": [
    "### Category to indices"
   ]
  },
  {
   "cell_type": "code",
   "execution_count": 80,
   "metadata": {},
   "outputs": [
    {
     "data": {
      "text/plain": [
       "array([48, 26, 41, 14, 18, 29, 32, 17, 44, 42,  2, 13, 49, 25, 41, 32, 37,\n",
       "       37, 49,  1])"
      ]
     },
     "execution_count": 80,
     "metadata": {},
     "output_type": "execute_result"
    }
   ],
   "source": [
    "cates.c2i[labels[:20]]"
   ]
  },
  {
   "cell_type": "markdown",
   "metadata": {},
   "source": [
    "Using vectorized function"
   ]
  },
  {
   "cell_type": "code",
   "execution_count": 83,
   "metadata": {},
   "outputs": [
    {
     "name": "stdout",
     "output_type": "stream",
     "text": [
      "CPU times: user 445 µs, sys: 10 µs, total: 455 µs\n",
      "Wall time: 452 µs\n"
     ]
    }
   ],
   "source": [
    "%%time\n",
    "indices_generated = cates.c2i[labels]"
   ]
  },
  {
   "cell_type": "markdown",
   "metadata": {},
   "source": [
    "Using the original python function"
   ]
  },
  {
   "cell_type": "code",
   "execution_count": 84,
   "metadata": {},
   "outputs": [
    {
     "name": "stdout",
     "output_type": "stream",
     "text": [
      "CPU times: user 730 µs, sys: 0 ns, total: 730 µs\n",
      "Wall time: 735 µs\n"
     ]
    }
   ],
   "source": [
    "%%time\n",
    "indices_generated2 = list(cates.c2i.get_int(l) for l in labels)"
   ]
  },
  {
   "cell_type": "markdown",
   "metadata": {},
   "source": [
    "Transform forward and backward and check fidelity"
   ]
  },
  {
   "cell_type": "code",
   "execution_count": 85,
   "metadata": {},
   "outputs": [
    {
     "data": {
      "text/plain": [
       "1.0"
      ]
     },
     "execution_count": 85,
     "metadata": {},
     "output_type": "execute_result"
    }
   ],
   "source": [
    "(cates.c2i[labels]==test_c).mean()"
   ]
  },
  {
   "cell_type": "markdown",
   "metadata": {},
   "source": [
    "## With missing tokens"
   ]
  },
  {
   "cell_type": "markdown",
   "metadata": {},
   "source": [
    "We can set pad_mst to True to manage missing token"
   ]
  },
  {
   "cell_type": "code",
   "execution_count": 86,
   "metadata": {},
   "outputs": [],
   "source": [
    "nt = Category(\"ATCG\", pad_mst=True)"
   ]
  },
  {
   "cell_type": "markdown",
   "metadata": {},
   "source": [
    "### Categories to indices"
   ]
  },
  {
   "cell_type": "code",
   "execution_count": 87,
   "metadata": {},
   "outputs": [
    {
     "data": {
      "text/plain": [
       "array([1, 1, 1, 3, 3, 2, 2, 1, 2, 2, 4, 3, 1, 4, 3, 0, 1, 1, 2])"
      ]
     },
     "execution_count": 87,
     "metadata": {},
     "output_type": "execute_result"
    }
   ],
   "source": [
    "nt.c2i[np.array(list(\"AAACCTTATTGCAGCOAAT\"))]"
   ]
  },
  {
   "cell_type": "markdown",
   "metadata": {},
   "source": [
    "### Indices to categories"
   ]
  },
  {
   "cell_type": "code",
   "execution_count": 88,
   "metadata": {},
   "outputs": [
    {
     "data": {
      "text/plain": [
       "array(['A', 'A', 'A', 'C', 'C', 'T', 'T', 'T', 'T', 'G', 'C', 'A', 'G',\n",
       "       'C', '[MST]', 'A', 'A', 'T'], dtype='<U5')"
      ]
     },
     "execution_count": 88,
     "metadata": {},
     "output_type": "execute_result"
    }
   ],
   "source": [
    "nt.i2c[[1, 1, 1, 3, 3, 2, 2, 2, 2, 4, 3, 1, 4, 3, 0, 1, 1, 2]]"
   ]
  },
  {
   "cell_type": "markdown",
   "metadata": {},
   "source": [
    "## Data save and load"
   ]
  },
  {
   "cell_type": "markdown",
   "metadata": {},
   "source": [
    "### Save categories"
   ]
  },
  {
   "cell_type": "code",
   "execution_count": 89,
   "metadata": {},
   "outputs": [],
   "source": [
    "nt.save(\"atcg.json\")"
   ]
  },
  {
   "cell_type": "markdown",
   "metadata": {},
   "source": [
    "### Load categories"
   ]
  },
  {
   "cell_type": "code",
   "execution_count": 90,
   "metadata": {},
   "outputs": [
    {
     "data": {
      "text/plain": [
       "Category Manager with 5"
      ]
     },
     "execution_count": 90,
     "metadata": {},
     "output_type": "execute_result"
    }
   ],
   "source": [
    "cm = Category.load(\"atcg.json\")\n",
    "cm"
   ]
  },
  {
   "cell_type": "code",
   "execution_count": null,
   "metadata": {},
   "outputs": [],
   "source": []
  }
 ],
 "metadata": {
  "kernelspec": {
   "display_name": "Python 3",
   "language": "python",
   "name": "python3"
  },
  "language_info": {
   "codemirror_mode": {
    "name": "ipython",
    "version": 3
   },
   "file_extension": ".py",
   "mimetype": "text/x-python",
   "name": "python",
   "nbconvert_exporter": "python",
   "pygments_lexer": "ipython3",
   "version": "3.7.4"
  },
  "toc": {
   "base_numbering": 1,
   "nav_menu": {},
   "number_sections": true,
   "sideBar": true,
   "skip_h1_title": false,
   "title_cell": "Table of Contents",
   "title_sidebar": "Contents",
   "toc_cell": false,
   "toc_position": {},
   "toc_section_display": true,
   "toc_window_display": false
  }
 },
 "nbformat": 4,
 "nbformat_minor": 4
}
