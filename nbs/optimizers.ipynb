{
 "cells": [
  {
   "cell_type": "markdown",
   "metadata": {},
   "source": [
    "# Optimizer Mangement\n",
    "> Handling PyTorch Cuda"
   ]
  },
  {
   "cell_type": "code",
   "execution_count": null,
   "metadata": {},
   "outputs": [],
   "source": [
    "# default_exp ftorch.optimizer"
   ]
  },
  {
   "cell_type": "markdown",
   "metadata": {},
   "source": [
    "This handler is created to handle the multiple optimizer situations"
   ]
  },
  {
   "cell_type": "code",
   "execution_count": 1,
   "metadata": {},
   "outputs": [],
   "source": [
    "# export\n",
    "import torch\n",
    "\n",
    "class Opts(object):\n",
    "    def __init__(self, *args, **kwargs):\n",
    "        \"\"\"\n",
    "        opts = Opts(opt1 = opt1, opt2 = opt2)\n",
    "        opts.opt2.zero_grad()\n",
    "        opts[\"opt3\"] = opt3\n",
    "        print(len(opts))\n",
    "        \"\"\"\n",
    "        self.optlist = []\n",
    "        self.optnames = []\n",
    "        for i in range(len(args)):\n",
    "            oname = f\"optimizer_no{i + 1}\"\n",
    "            setattr(self, oname, args[i])\n",
    "            self.optlist.append(args[i])\n",
    "            self.optnames.append(oname)\n",
    "        for k, v in kwargs.items():\n",
    "            setattr(self, k, v)\n",
    "            self.optlist.append(v)\n",
    "            self.optnames.append(k)\n",
    "\n",
    "    def __repr__(self):\n",
    "        return \"\\n\".join(list(\n",
    "            f\"{self.optnames[i]}\\n\\t{self.optlist[i].__class__}\\n\\t{self.read_opt(self.optlist[i])}\" for i in\n",
    "            range(len(self.optnames))))\n",
    "\n",
    "    def get_pg(self, opt):\n",
    "        \"\"\"\n",
    "        Get paramgroups dictionary, informations about an optimizer\n",
    "        opt:torch.optim.optimizer\n",
    "        \"\"\"\n",
    "        return dict.copy(opt.param_groups[0])\n",
    "\n",
    "    def read_opt(self, opt):\n",
    "        rt = self.get_pg(opt)\n",
    "        if \"params\" in rt:\n",
    "            del rt[\"params\"]\n",
    "        return rt\n",
    "\n",
    "    def __len__(self):\n",
    "        \"\"\"\n",
    "        Total number of optimizers\n",
    "        \"\"\"\n",
    "        return len(self.optlist)\n",
    "\n",
    "    def __contains__(self, item):\n",
    "        return item in self.optlist\n",
    "\n",
    "    def __getitem__(self, item):\n",
    "        return getattr(self, item)\n",
    "\n",
    "    def __setitem__(self, key, optimizer):\n",
    "        self.optlist.append(optimizer)\n",
    "        self.optnames.append(key)\n",
    "        setattr(self, key, optimizer)\n",
    "\n",
    "    def zero_all(self):\n",
    "        \"\"\"\n",
    "        Zero gradient on all the optimizers\n",
    "        \"\"\"\n",
    "        for opt in self.optlist:\n",
    "            opt.zero_grad()\n",
    "\n",
    "    def step_all(self):\n",
    "        \"\"\"\n",
    "        All the optimizers match a step\n",
    "        \"\"\"\n",
    "        for opt in self.optlist:\n",
    "            opt.step()"
   ]
  },
  {
   "cell_type": "markdown",
   "metadata": {},
   "source": [
    "## Experiment"
   ]
  },
  {
   "cell_type": "code",
   "execution_count": 4,
   "metadata": {},
   "outputs": [],
   "source": [
    "import torch\n",
    "from torch import nn"
   ]
  },
  {
   "cell_type": "code",
   "execution_count": 5,
   "metadata": {},
   "outputs": [],
   "source": [
    "layer1 = nn.Linear(5,5)\n",
    "layer2 = nn.Linear(5,5)"
   ]
  },
  {
   "cell_type": "code",
   "execution_count": 8,
   "metadata": {},
   "outputs": [],
   "source": [
    "op1 = torch.optim.Adam(layer1.parameters())\n",
    "op2 = torch.optim.Adagrad(layer2.parameters())"
   ]
  },
  {
   "cell_type": "code",
   "execution_count": 9,
   "metadata": {},
   "outputs": [],
   "source": [
    "opts = Opts(op1, op2)"
   ]
  },
  {
   "cell_type": "code",
   "execution_count": 10,
   "metadata": {},
   "outputs": [
    {
     "data": {
      "text/plain": [
       "Adam (\n",
       "Parameter Group 0\n",
       "    amsgrad: False\n",
       "    betas: (0.9, 0.999)\n",
       "    eps: 1e-08\n",
       "    lr: 0.001\n",
       "    weight_decay: 0\n",
       ")"
      ]
     },
     "execution_count": 10,
     "metadata": {},
     "output_type": "execute_result"
    }
   ],
   "source": [
    "opts.optimizer_no1"
   ]
  },
  {
   "cell_type": "code",
   "execution_count": 11,
   "metadata": {},
   "outputs": [
    {
     "data": {
      "text/plain": [
       "Adagrad (\n",
       "Parameter Group 0\n",
       "    eps: 1e-10\n",
       "    initial_accumulator_value: 0\n",
       "    lr: 0.01\n",
       "    lr_decay: 0\n",
       "    weight_decay: 0\n",
       ")"
      ]
     },
     "execution_count": 11,
     "metadata": {},
     "output_type": "execute_result"
    }
   ],
   "source": [
    "opts.optimizer_no2"
   ]
  },
  {
   "cell_type": "code",
   "execution_count": 12,
   "metadata": {},
   "outputs": [
    {
     "data": {
      "text/plain": [
       "optimizer_no1\n",
       "\t<class 'torch.optim.adam.Adam'>\n",
       "\t{'lr': 0.001, 'betas': (0.9, 0.999), 'eps': 1e-08, 'weight_decay': 0, 'amsgrad': False}\n",
       "optimizer_no2\n",
       "\t<class 'torch.optim.adagrad.Adagrad'>\n",
       "\t{'lr': 0.01, 'lr_decay': 0, 'eps': 1e-10, 'weight_decay': 0, 'initial_accumulator_value': 0}"
      ]
     },
     "execution_count": 12,
     "metadata": {},
     "output_type": "execute_result"
    }
   ],
   "source": [
    "opts"
   ]
  },
  {
   "cell_type": "markdown",
   "metadata": {},
   "source": [
    "Let's create some gradients"
   ]
  },
  {
   "cell_type": "code",
   "execution_count": 28,
   "metadata": {},
   "outputs": [],
   "source": [
    "x = torch.rand(2,5)\n",
    "y_ = -(layer2(torch.nn.functional.relu(layer1(x))).mean())"
   ]
  },
  {
   "cell_type": "code",
   "execution_count": 29,
   "metadata": {},
   "outputs": [],
   "source": [
    "y_.backward()"
   ]
  },
  {
   "cell_type": "code",
   "execution_count": 30,
   "metadata": {},
   "outputs": [
    {
     "data": {
      "text/plain": [
       "(tensor([[ 0.0000e+00,  0.0000e+00,  0.0000e+00,  0.0000e+00,  0.0000e+00],\n",
       "         [-5.7813e-02, -5.0724e-02, -6.1752e-02, -1.1506e-01, -6.0402e-02],\n",
       "         [-4.5386e-04, -2.3771e-04, -2.1409e-04, -6.2308e-04, -3.3177e-04],\n",
       "         [-1.3012e-01, -1.1416e-01, -1.3899e-01, -2.5898e-01, -1.3595e-01],\n",
       "         [ 0.0000e+00,  0.0000e+00,  0.0000e+00,  0.0000e+00,  0.0000e+00]]),\n",
       " tensor([ 0.0000, -0.1238, -0.0007, -0.2787,  0.0000]),\n",
       " tensor([[ 0.0000, -0.1671, -0.0036, -0.1062,  0.0000],\n",
       "         [ 0.0000, -0.1671, -0.0036, -0.1062,  0.0000],\n",
       "         [ 0.0000, -0.1671, -0.0036, -0.1062,  0.0000],\n",
       "         [ 0.0000, -0.1671, -0.0036, -0.1062,  0.0000],\n",
       "         [ 0.0000, -0.1671, -0.0036, -0.1062,  0.0000]]),\n",
       " tensor([-0.2000, -0.2000, -0.2000, -0.2000, -0.2000]))"
      ]
     },
     "execution_count": 30,
     "metadata": {},
     "output_type": "execute_result"
    }
   ],
   "source": [
    "layer1.weight.grad,layer1.bias.grad,layer2.weight.grad,layer2.bias.grad"
   ]
  },
  {
   "cell_type": "markdown",
   "metadata": {},
   "source": [
    "### Take a step for all optimizers"
   ]
  },
  {
   "cell_type": "code",
   "execution_count": 31,
   "metadata": {},
   "outputs": [],
   "source": [
    "opts.step_all()"
   ]
  },
  {
   "cell_type": "markdown",
   "metadata": {},
   "source": [
    "### Zero gradient on all optimizers"
   ]
  },
  {
   "cell_type": "code",
   "execution_count": 26,
   "metadata": {},
   "outputs": [],
   "source": [
    "opts.zero_all()"
   ]
  },
  {
   "cell_type": "code",
   "execution_count": 27,
   "metadata": {},
   "outputs": [
    {
     "data": {
      "text/plain": [
       "(tensor([[0., 0., 0., 0., 0.],\n",
       "         [0., 0., 0., 0., 0.],\n",
       "         [0., 0., 0., 0., 0.],\n",
       "         [0., 0., 0., 0., 0.],\n",
       "         [0., 0., 0., 0., 0.]]),\n",
       " tensor([0., 0., 0., 0., 0.]),\n",
       " tensor([[0., 0., 0., 0., 0.],\n",
       "         [0., 0., 0., 0., 0.],\n",
       "         [0., 0., 0., 0., 0.],\n",
       "         [0., 0., 0., 0., 0.],\n",
       "         [0., 0., 0., 0., 0.]]),\n",
       " tensor([0., 0., 0., 0., 0.]))"
      ]
     },
     "execution_count": 27,
     "metadata": {},
     "output_type": "execute_result"
    }
   ],
   "source": [
    "layer1.weight.grad,layer1.bias.grad,layer2.weight.grad,layer2.bias.grad"
   ]
  }
 ],
 "metadata": {
  "kernelspec": {
   "display_name": "Python 3",
   "language": "python",
   "name": "python3"
  },
  "language_info": {
   "codemirror_mode": {
    "name": "ipython",
    "version": 3
   },
   "file_extension": ".py",
   "mimetype": "text/x-python",
   "name": "python",
   "nbconvert_exporter": "python",
   "pygments_lexer": "ipython3",
   "version": "3.7.4"
  }
 },
 "nbformat": 4,
 "nbformat_minor": 2
}
