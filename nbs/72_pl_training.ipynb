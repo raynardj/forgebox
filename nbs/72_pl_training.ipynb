{
 "cells": [
  {
   "cell_type": "markdown",
   "metadata": {},
   "source": [
    "# Pytorch Lighting training\n",
    "> on huggingface transformers"
   ]
  },
  {
   "cell_type": "code",
   "execution_count": 2,
   "metadata": {},
   "outputs": [],
   "source": [
    "# default_exp hf.train"
   ]
  },
  {
   "cell_type": "code",
   "execution_count": 11,
   "metadata": {},
   "outputs": [],
   "source": [
    "# export\n",
    "from forgebox.hf.data import IOBES\n",
    "from forgebox.imports import *\n",
    "import pytorch_lightning as pl\n",
    "from transformers import (\n",
    "    AutoModelForTokenClassification,\n",
    "    AutoTokenizer,\n",
    "    pipeline\n",
    ")\n",
    "from typing import Callable"
   ]
  },
  {
   "cell_type": "code",
   "execution_count": 6,
   "metadata": {},
   "outputs": [],
   "source": [
    "# !pip install transformers==4.9.1\n",
    "# !pip install pytorch-lightning==1.3.8\n",
    "# !pip install tensorflow==2.2.0"
   ]
  },
  {
   "cell_type": "markdown",
   "metadata": {},
   "source": [
    "## Load model and tokenizer"
   ]
  },
  {
   "cell_type": "code",
   "execution_count": null,
   "metadata": {},
   "outputs": [],
   "source": [
    "# export\n",
    "\n",
    "# ner model and tokenizer\n",
    "def ner_model_from(\n",
    "    name:str, dataset: IOBES\n",
    "):\n",
    "    \"\"\"\n",
    "    name: from_pretrain(name)\n",
    "    \"\"\"\n",
    "    model = AutoModelForTokenClassification.from_pretrained(\n",
    "        name,\n",
    "        num_labels=len(dataset.cates),\n",
    "    )\n",
    "    dataset.set_hfconfig(model.config)\n",
    "    return model\n",
    "\n",
    "def ner_tokenizer_from(\n",
    "    name: str\n",
    "):\n",
    "    return AutoTokenizer.from_pretrained(\n",
    "        name, add_prefix_space=True)"
   ]
  },
  {
   "cell_type": "markdown",
   "metadata": {},
   "source": [
    "## Lightning data module"
   ]
  },
  {
   "cell_type": "code",
   "execution_count": 8,
   "metadata": {},
   "outputs": [],
   "source": [
    "# export\n",
    "\n",
    "# ner data module\n",
    "class NERDataModule(pl.LightningDataModule):\n",
    "    def __init__(self, train_ds, val_ds, batch_size=32):\n",
    "        super().__init__()\n",
    "        self.train_ds = train_ds\n",
    "        self.val_ds = val_ds\n",
    "        self.batch_size = batch_size\n",
    "\n",
    "    def train_dataloader(self):\n",
    "        return self.train_ds.dataloader(batch_size=self.batch_size, shuffle=True)\n",
    "\n",
    "    def val_dataloader(self):\n",
    "        return self.val_ds.dataloader(batch_size=self.batch_size*2, shuffle=False)"
   ]
  },
  {
   "cell_type": "code",
   "execution_count": 10,
   "metadata": {},
   "outputs": [],
   "source": [
    "# export\n",
    "\n",
    "# ner module\n",
    "class NERModule(pl.LightningModule):\n",
    "    \"\"\"\n",
    "    PyTorch lightning module for training ner model\n",
    "    \"\"\"\n",
    "    def __init__(\n",
    "        self, model,\n",
    "        ):\n",
    "        \"\"\"\n",
    "        model: huggingface transformer model for ner\n",
    "        \"\"\"\n",
    "        super().__init__()\n",
    "        self.model = model\n",
    "\n",
    "    def forward(self, batch):\n",
    "        return self.model(\n",
    "            input_ids=batch['input_ids'],\n",
    "            attention_mask=batch['attention_mask'],\n",
    "            labels=batch['labels'])\n",
    "    \n",
    "    def training_step(self, batch, batch_idx):\n",
    "        outputs = self(batch)\n",
    "        loss = outputs.loss\n",
    "        self.log(\"loss\", loss)\n",
    "        self.log(\"acc\", self.calcualte_acc(outputs, batch.labels))\n",
    "        return loss\n",
    "\n",
    "    def validation_step(self, batch, batch_idx):\n",
    "        outputs = self(batch)\n",
    "        loss = outputs.loss\n",
    "        self.log(\"val_loss\", loss)\n",
    "        self.log(\"val_acc\", self.calcualte_acc(outputs, batch.labels))\n",
    "        return loss\n",
    "    \n",
    "    def calcualte_acc(self, outputs, labels):\n",
    "        pred_idx = outputs.logits.argmax(-1)\n",
    "        mask = torch.ones_like(pred_idx)\n",
    "        mask[labels==-100]=False\n",
    "        return (pred_idx[mask]==labels[mask]).float().mean()\n",
    "    \n",
    "    def configure_optimizers(self):\n",
    "        # discriminative learning rate\n",
    "        param_groups = [\n",
    "            {'params': self.model.roberta.parameters(), 'lr': 5e-6},\n",
    "            {'params': self.model.classifier.parameters(), 'lr': 1e-3},\n",
    "        ]\n",
    "        optimizer = torch.optim.Adam(param_groups, lr=1e-3)\n",
    "        return optimizer"
   ]
  },
  {
   "cell_type": "markdown",
   "metadata": {},
   "source": [
    "## Enhance pipeline"
   ]
  },
  {
   "cell_type": "code",
   "execution_count": 14,
   "metadata": {},
   "outputs": [],
   "source": [
    "# export\n",
    "def clean_ner_output(self, outputs):\n",
    "    \"\"\"\n",
    "    Cleaning output for NER task\n",
    "    \"\"\"\n",
    "    results = []\n",
    "    current = []\n",
    "    last_idx = 0\n",
    "    # make to sub group by position\n",
    "    for output in outputs:\n",
    "        if output[\"index\"]-1 == last_idx:\n",
    "            current.append(output)\n",
    "        else:\n",
    "            results.append(current)\n",
    "            current = [output, ]\n",
    "        last_idx = output[\"index\"]\n",
    "    if len(current) > 0:\n",
    "        results.append(current)\n",
    "\n",
    "    # from tokens to string\n",
    "    strings = []\n",
    "    for c in results:\n",
    "        tokens = []\n",
    "        starts = []\n",
    "        ends = []\n",
    "        for o in c:\n",
    "            tokens.append(o['word'])\n",
    "            starts.append(o['start'])\n",
    "            ends.append(o['end'])\n",
    "\n",
    "        new_str = self.tokenizer.convert_tokens_to_string(tokens)\n",
    "        if new_str != '':\n",
    "            strings.append(dict(\n",
    "                word=new_str,\n",
    "                start=min(starts),\n",
    "                end=max(ends),\n",
    "                entity=c[0]['entity']\n",
    "            ))\n",
    "    return strings\n",
    "\n",
    "def predict_ner_table(pipeline_kw):\n",
    "    def predict_ner_table_(self, text: str) -> pd.DataFrame:\n",
    "        return pd.DataFrame(\n",
    "            self.clean_output(\n",
    "                self(text, **pipeline_kw)\n",
    "                )\n",
    "            )\n",
    "    return predict_ner_table_\n",
    "\n",
    "def refined_ner_pipeline(model, tokenizer, **pipeline_kw):\n",
    "    if \"aggregation_strategy\" not in pipeline_kw:\n",
    "        pipeline_kw[\"aggregation_strategy\"] = \"first\"\n",
    "\n",
    "    ner_pipeline = pipeline(\"ner\", model=model, tokenizer=tokenizer)\n",
    "    \n",
    "    ner_pipeline.__class__.clean_output = clean_ner_output\n",
    "    ner_pipeline.__class__.predict_table = predict_ner_table(pipeline_kw)\n",
    "    return ner_pipeline\n",
    "\n",
    "def refined_ner_from_pretrained(pretrained, **pipeline_kw):\n",
    "    model = AutoModelForTokenClassification.from_pretrained(pretrained)\n",
    "    tokenizer = AutoTokenizer.from_pretrained(pretrained)\n",
    "    return refined_ner_pipeline(model, tokenizer, **pipeline_kw)"
   ]
  }
 ],
 "metadata": {
  "kernelspec": {
   "display_name": "Python 3",
   "language": "python",
   "name": "python3"
  },
  "language_info": {
   "codemirror_mode": {
    "name": "ipython",
    "version": 3
   },
   "file_extension": ".py",
   "mimetype": "text/x-python",
   "name": "python",
   "nbconvert_exporter": "python",
   "pygments_lexer": "ipython3",
   "version": "3.7.4"
  },
  "toc": {
   "base_numbering": 1,
   "nav_menu": {},
   "number_sections": true,
   "sideBar": true,
   "skip_h1_title": false,
   "title_cell": "Table of Contents",
   "title_sidebar": "Contents",
   "toc_cell": false,
   "toc_position": {},
   "toc_section_display": true,
   "toc_window_display": false
  }
 },
 "nbformat": 4,
 "nbformat_minor": 4
}
