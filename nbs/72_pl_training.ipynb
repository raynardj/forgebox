{
 "cells": [
  {
   "cell_type": "markdown",
   "metadata": {},
   "source": [
    "# Pytorch Lighting training\n",
    "> on huggingface transformers"
   ]
  },
  {
   "cell_type": "code",
   "execution_count": 2,
   "metadata": {},
   "outputs": [],
   "source": [
    "# default_exp hf.train"
   ]
  },
  {
   "cell_type": "code",
   "execution_count": 11,
   "metadata": {},
   "outputs": [],
   "source": [
    "# export\n",
    "from forgebox.hf.data import IOBES\n",
    "from forgebox.imports import *\n",
    "import pytorch_lightning as pl\n",
    "from transformers import AutoModelForTokenClassification, AutoTokenizer"
   ]
  },
  {
   "cell_type": "code",
   "execution_count": 6,
   "metadata": {},
   "outputs": [],
   "source": [
    "# !pip install transformers==4.9.1\n",
    "# !pip install pytorch-lightning==1.3.8\n",
    "# !pip install tensorflow==2.2.0"
   ]
  },
  {
   "cell_type": "markdown",
   "metadata": {},
   "source": [
    "## Load model and tokenizer"
   ]
  },
  {
   "cell_type": "code",
   "execution_count": null,
   "metadata": {},
   "outputs": [],
   "source": [
    "# export\n",
    "\n",
    "# ner model and tokenizer\n",
    "def ner_model_from(\n",
    "    name:str, dataset: IOBES\n",
    "):\n",
    "    \"\"\"\n",
    "    name: from_pretrain(name)\n",
    "    \"\"\"\n",
    "    model = AutoModelForTokenClassification.from_pretrained(\n",
    "        name,\n",
    "        num_labels=len(dataset.cates),\n",
    "    )\n",
    "    dataset.set_hfconfig(model.config)\n",
    "    return model\n",
    "\n",
    "def ner_tokenizer_from(\n",
    "    name: str\n",
    "):\n",
    "    return AutoTokenizer.from_pretrained(\n",
    "        name, add_prefix_space=True)"
   ]
  },
  {
   "cell_type": "markdown",
   "metadata": {},
   "source": [
    "## Lightning data module"
   ]
  },
  {
   "cell_type": "code",
   "execution_count": 8,
   "metadata": {},
   "outputs": [],
   "source": [
    "# export\n",
    "\n",
    "# ner data module\n",
    "class NERDataModule(pl.LightningDataModule):\n",
    "    def __init__(self, train_ds, val_ds, batch_size=32):\n",
    "        super().__init__()\n",
    "        self.train_ds = train_ds\n",
    "        self.val_ds = val_ds\n",
    "        self.batch_size = batch_size\n",
    "\n",
    "    def train_dataloader(self):\n",
    "        return self.train_ds.dataloader(batch_size=self.batch_size, shuffle=True)\n",
    "\n",
    "    def val_dataloader(self):\n",
    "        return self.val_ds.dataloader(batch_size=self.batch_size*2, shuffle=False)"
   ]
  },
  {
   "cell_type": "code",
   "execution_count": 10,
   "metadata": {},
   "outputs": [],
   "source": [
    "# export\n",
    "\n",
    "# ner module\n",
    "class NERModule(pl.LightningModule):\n",
    "    \"\"\"\n",
    "    PyTorch lightning module for training ner model\n",
    "    \"\"\"\n",
    "    def __init__(\n",
    "        self, model,\n",
    "        ):\n",
    "        \"\"\"\n",
    "        model: huggingface transformer model for ner\n",
    "        \"\"\"\n",
    "        super().__init__()\n",
    "        self.model = model\n",
    "\n",
    "    def forward(self, batch):\n",
    "        return self.model(\n",
    "            input_ids=batch['input_ids'],\n",
    "            attention_mask=batch['attention_mask'],\n",
    "            labels=batch['labels'])\n",
    "    \n",
    "    def training_step(self, batch, batch_idx):\n",
    "        outputs = self(batch)\n",
    "        loss = outputs.loss\n",
    "        self.log(\"loss\", loss)\n",
    "        self.log(\"acc\", self.calcualte_acc(outputs, batch.labels))\n",
    "        return loss\n",
    "\n",
    "    def validation_step(self, batch, batch_idx):\n",
    "        outputs = self(batch)\n",
    "        loss = outputs.loss\n",
    "        self.log(\"val_loss\", loss)\n",
    "        self.log(\"val_acc\", self.calcualte_acc(outputs, batch.labels))\n",
    "        return loss\n",
    "    \n",
    "    def calcualte_acc(self, outputs, labels):\n",
    "        pred_idx = outputs.logits.argmax(-1)\n",
    "        mask = torch.ones_like(pred_idx)\n",
    "        mask[labels==-100]=False\n",
    "        return (pred_idx[mask]==labels[mask]).float().mean()\n",
    "    \n",
    "    def configure_optimizers(self):\n",
    "        # discriminative learning rate\n",
    "        param_groups = [\n",
    "            {'params': self.model.roberta.parameters(), 'lr': 5e-6},\n",
    "            {'params': self.model.classifier.parameters(), 'lr': 1e-3},\n",
    "        ]\n",
    "        optimizer = torch.optim.Adam(param_groups, lr=1e-3)\n",
    "        return optimizer"
   ]
  },
  {
   "cell_type": "code",
   "execution_count": null,
   "metadata": {},
   "outputs": [],
   "source": []
  }
 ],
 "metadata": {
  "kernelspec": {
   "display_name": "Python 3",
   "language": "python",
   "name": "python3"
  },
  "language_info": {
   "codemirror_mode": {
    "name": "ipython",
    "version": 3
   },
   "file_extension": ".py",
   "mimetype": "text/x-python",
   "name": "python",
   "nbconvert_exporter": "python",
   "pygments_lexer": "ipython3",
   "version": "3.7.4"
  },
  "toc": {
   "base_numbering": 1,
   "nav_menu": {},
   "number_sections": true,
   "sideBar": true,
   "skip_h1_title": false,
   "title_cell": "Table of Contents",
   "title_sidebar": "Contents",
   "toc_cell": false,
   "toc_position": {},
   "toc_section_display": true,
   "toc_window_display": false
  }
 },
 "nbformat": 4,
 "nbformat_minor": 4
}
