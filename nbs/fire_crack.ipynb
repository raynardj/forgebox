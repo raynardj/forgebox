{
 "cells": [
  {
   "cell_type": "markdown",
   "metadata": {},
   "source": [
    "# Fire Crack\n",
    "> Analyzing How Model Improves"
   ]
  },
  {
   "cell_type": "code",
   "execution_count": 41,
   "metadata": {},
   "outputs": [],
   "source": [
    "from torchvision.models.alexnet import AlexNet\n",
    "import torch"
   ]
  },
  {
   "cell_type": "code",
   "execution_count": 42,
   "metadata": {},
   "outputs": [],
   "source": [
    "model = AlexNet()"
   ]
  },
  {
   "cell_type": "code",
   "execution_count": 43,
   "metadata": {},
   "outputs": [],
   "source": [
    "samp = torch.rand(2,3,224,224)"
   ]
  },
  {
   "cell_type": "code",
   "execution_count": 44,
   "metadata": {},
   "outputs": [
    {
     "data": {
      "text/plain": [
       "torch.Size([2, 1000])"
      ]
     },
     "execution_count": 44,
     "metadata": {},
     "output_type": "execute_result"
    }
   ],
   "source": [
    "model(samp).shape"
   ]
  },
  {
   "cell_type": "code",
   "execution_count": 45,
   "metadata": {},
   "outputs": [],
   "source": [
    "model(samp).mean().backward()"
   ]
  },
  {
   "cell_type": "code",
   "execution_count": 46,
   "metadata": {},
   "outputs": [],
   "source": [
    "from uuid import uuid4"
   ]
  },
  {
   "cell_type": "code",
   "execution_count": 47,
   "metadata": {},
   "outputs": [],
   "source": [
    "from types import MethodType\n",
    "\n",
    "module_tracks = dict()\n",
    "\n",
    "class moduleTrack(object):\n",
    "    def __init__(self,module):\n",
    "        self.module = module\n",
    "        self.name = module.__class__.__name__\n",
    "        self.id = id(module)\n",
    "        module_tracks[self.id] = self\n",
    "        \n",
    "    def __repr__(self):\n",
    "        rt = f\"<{self.name} @ {hex(self.id)}>\"\n",
    "        if hasattr(self,\"input_dt\"):\n",
    "            rt+=f'\\n\\t[Inputs]{\",\".join(list(k+\" \"+str(list(v.shape)) for k,v in self.input_dt.items()))}'\n",
    "        if hasattr(self,\"output_dt\"):\n",
    "            rt+=f'\\n\\t[Outputs]{\",\".join(list(str(list(v.shape)) for v in self.output_dt))}'\n",
    "        return rt\n",
    "    \n",
    "data_edges = dict()\n",
    "    \n",
    "class dataEdge(object):\n",
    "    def __init__(self, uuid):\n",
    "        self.uuid = uuid\n",
    "        data_edges[uuid] = self\n",
    "        self.ups = []\n",
    "        self.downs = []\n",
    "        \n",
    "    def __repr__(self):\n",
    "        return \"\\nEdge:\"\\\n",
    "        +f\"\\n\\t - Inputs: {','.join(list(str(u) for u in self.ups))}\" \\\n",
    "        +f\"\\n\\t - Outputs: {','.join(list(str(u) for u in self.downs))}\"\n",
    "        \n",
    "def get_stats(tensor):\n",
    "    return {\"mean\":tensor.mean().item(), \"std\":tensor.std().item(), \"max\":tensor.max().item(), \"min\":tensor.min().item()}\n",
    "\n",
    "class fireCrack(object):\n",
    "    def __init__(self, model):\n",
    "        self.modules = dict()\n",
    "        self.uids = dict()\n",
    "        self.model = model\n",
    "        self.arm()\n",
    "        \n",
    "    def arm(self):\n",
    "        \"\"\"\n",
    "        arming the tracing function to self.model\n",
    "        \"\"\"\n",
    "        for m in self.model.modules():\n",
    "            m.forward = self.module_register(m)\n",
    "            \n",
    "    def disarm(self):\n",
    "        \"\"\"remove the tracing function\"\"\"\n",
    "        for m in self.model.modules():\n",
    "            self.recover(m)\n",
    "            \n",
    "    def rearm(self):\n",
    "        self.disarm()\n",
    "        self.arm()\n",
    "    \n",
    "    def reg_check(self,m):\n",
    "        if id(m) in self.modules:\n",
    "            return False\n",
    "        if hasattr(m.forward,\"armed\"):\n",
    "            if m.forward.armed:\n",
    "                return False\n",
    "        return True\n",
    "    \n",
    "    def recover(self, m):\n",
    "        if hasattr(m,\"former\"):\n",
    "            m.forward = m.former\n",
    "            \n",
    "    def check_out_tid(self,mt):\n",
    "        if hasattr(mt,\"out_tid\")==False:\n",
    "            mt.out_tid = list()\n",
    "            for op in mt.output_dt:\n",
    "                de = dataEdge(uuid4())\n",
    "                dataEdge.shape = list(op.shape)\n",
    "                de.ups.append(mt)\n",
    "                mt.out_tid.append(de)\n",
    "                op.tid = de.uuid\n",
    "                \n",
    "    def check_in_tid(self,mt):\n",
    "        if hasattr(mt,\"in_tid\") == False:\n",
    "            mt.in_tid = dict()\n",
    "            for k, ip in mt.input_dt.items():\n",
    "                if hasattr(ip,\"tid\"):\n",
    "                    de = data_edges[ip.tid]\n",
    "                    mt.in_tid[k] = de\n",
    "                    de.downs.append(mt)\n",
    "        \n",
    "    def module_register(self,m):\n",
    "        if self.reg_check(m) == False: return m.forward\n",
    "        f = m.forward\n",
    "        mt = moduleTrack(m)\n",
    "        self.modules[id(m)] = mt\n",
    "        vs = f.__code__.co_varnames\n",
    "        mt.vars = vs[1:]\n",
    "        \n",
    "        def wraper(*args,**kwargs):\n",
    "            mt.input_dt = dict(zip(mt.vars[:len(args)],args))\n",
    "            mt.input_dt.update(kwargs)\n",
    "            \n",
    "            self.check_in_tid(mt)\n",
    "            \n",
    "            # ------execution of the function------\n",
    "            outputs = f(*args,**kwargs)\n",
    "            # ------execution of the function------\n",
    "            if type(outputs) in [list,tuple]:\n",
    "                mt.output_dt = [outputs]\n",
    "            else:\n",
    "                mt.output_dt = [outputs,]\n",
    "                \n",
    "            self.check_out_tid(mt)\n",
    "               \n",
    "            print(mt)\n",
    "            return outputs\n",
    "        \n",
    "        setattr(wraper,\"armed\",True)\n",
    "        setattr(wraper,\"former\",f)\n",
    "        return wraper"
   ]
  },
  {
   "cell_type": "code",
   "execution_count": 48,
   "metadata": {},
   "outputs": [],
   "source": [
    "fc = fireCrack(model)\n",
    "fc.rearm()"
   ]
  },
  {
   "cell_type": "code",
   "execution_count": 49,
   "metadata": {},
   "outputs": [
    {
     "name": "stdout",
     "output_type": "stream",
     "text": [
      "<Conv2d @ 0x16be5b8d0>\n",
      "\t[Inputs]input [2, 3, 224, 224]\n",
      "\t[Outputs][2, 64, 55, 55]\n",
      "<ReLU @ 0x16bcfc490>\n",
      "\t[Inputs]input [2, 64, 55, 55]\n",
      "\t[Outputs][2, 64, 55, 55]\n",
      "<MaxPool2d @ 0x16bcfc990>\n",
      "\t[Inputs]input [2, 64, 55, 55]\n",
      "\t[Outputs][2, 64, 27, 27]\n",
      "<Conv2d @ 0x16bcfcb50>\n",
      "\t[Inputs]input [2, 64, 27, 27]\n",
      "\t[Outputs][2, 192, 27, 27]\n",
      "<ReLU @ 0x16ba88790>\n",
      "\t[Inputs]input [2, 192, 27, 27]\n",
      "\t[Outputs][2, 192, 27, 27]\n",
      "<MaxPool2d @ 0x16bcfc450>\n",
      "\t[Inputs]input [2, 192, 27, 27]\n",
      "\t[Outputs][2, 192, 13, 13]\n",
      "<Conv2d @ 0x16bcfc290>\n",
      "\t[Inputs]input [2, 192, 13, 13]\n",
      "\t[Outputs][2, 384, 13, 13]\n",
      "<ReLU @ 0x16bcfca10>\n",
      "\t[Inputs]input [2, 384, 13, 13]\n",
      "\t[Outputs][2, 384, 13, 13]\n",
      "<Conv2d @ 0x16ba55e10>\n",
      "\t[Inputs]input [2, 384, 13, 13]\n",
      "\t[Outputs][2, 256, 13, 13]\n",
      "<ReLU @ 0x16be5b110>\n",
      "\t[Inputs]input [2, 256, 13, 13]\n",
      "\t[Outputs][2, 256, 13, 13]\n",
      "<Conv2d @ 0x16be5b790>\n",
      "\t[Inputs]input [2, 256, 13, 13]\n",
      "\t[Outputs][2, 256, 13, 13]\n",
      "<ReLU @ 0x16be5b610>\n",
      "\t[Inputs]input [2, 256, 13, 13]\n",
      "\t[Outputs][2, 256, 13, 13]\n",
      "<MaxPool2d @ 0x16be5b890>\n",
      "\t[Inputs]input [2, 256, 13, 13]\n",
      "\t[Outputs][2, 256, 6, 6]\n",
      "<Sequential @ 0x16be5b750>\n",
      "\t[Inputs]input [2, 3, 224, 224]\n",
      "\t[Outputs][2, 256, 6, 6]\n",
      "<AdaptiveAvgPool2d @ 0x16be5b810>\n",
      "\t[Inputs]input [2, 256, 6, 6]\n",
      "\t[Outputs][2, 256, 6, 6]\n",
      "<Dropout @ 0x16be5bed0>\n",
      "\t[Inputs]input [2, 9216]\n",
      "\t[Outputs][2, 9216]\n",
      "<Linear @ 0x16be5bad0>\n",
      "\t[Inputs]input [2, 9216]\n",
      "\t[Outputs][2, 4096]\n",
      "<ReLU @ 0x16bcfce90>\n",
      "\t[Inputs]input [2, 4096]\n",
      "\t[Outputs][2, 4096]\n",
      "<Dropout @ 0x16bcfc850>\n",
      "\t[Inputs]input [2, 4096]\n",
      "\t[Outputs][2, 4096]\n",
      "<Linear @ 0x16bcfcc10>\n",
      "\t[Inputs]input [2, 4096]\n",
      "\t[Outputs][2, 4096]\n",
      "<ReLU @ 0x16bcfc8d0>\n",
      "\t[Inputs]input [2, 4096]\n",
      "\t[Outputs][2, 4096]\n",
      "<Linear @ 0x16bcd5390>\n",
      "\t[Inputs]input [2, 4096]\n",
      "\t[Outputs][2, 1000]\n",
      "<Sequential @ 0x16bcd5790>\n",
      "\t[Inputs]input [2, 9216]\n",
      "\t[Outputs][2, 1000]\n",
      "<AlexNet @ 0x16be5b190>\n",
      "\t[Inputs]x [2, 3, 224, 224]\n",
      "\t[Outputs][2, 1000]\n"
     ]
    },
    {
     "data": {
      "text/plain": [
       "tensor([[ 0.0185, -0.0033, -0.0087,  ...,  0.0088, -0.0076,  0.0108],\n",
       "        [ 0.0164, -0.0021, -0.0101,  ...,  0.0016, -0.0085,  0.0085]],\n",
       "       grad_fn=<AddmmBackward>)"
      ]
     },
     "execution_count": 49,
     "metadata": {},
     "output_type": "execute_result"
    }
   ],
   "source": [
    "model(samp)"
   ]
  },
  {
   "cell_type": "code",
   "execution_count": 50,
   "metadata": {},
   "outputs": [
    {
     "data": {
      "text/plain": [
       "{UUID('2828a738-6290-454b-b8c4-cb4e6e5f10e0'): \n",
       " Edge:\n",
       " \t - Inputs: <Conv2d @ 0x16be5b8d0>\n",
       " \t[Inputs]input [2, 3, 224, 224]\n",
       " \t[Outputs][2, 64, 55, 55]\n",
       " \t - Outputs: <ReLU @ 0x16bcfc490>\n",
       " \t[Inputs]input [2, 64, 55, 55]\n",
       " \t[Outputs][2, 64, 55, 55], UUID('d4185188-fc37-44cf-9beb-edc14b0992e5'): \n",
       " Edge:\n",
       " \t - Inputs: <ReLU @ 0x16bcfc490>\n",
       " \t[Inputs]input [2, 64, 55, 55]\n",
       " \t[Outputs][2, 64, 55, 55]\n",
       " \t - Outputs: <MaxPool2d @ 0x16bcfc990>\n",
       " \t[Inputs]input [2, 64, 55, 55]\n",
       " \t[Outputs][2, 64, 27, 27], UUID('3b65cfbb-4797-4534-8fcc-2c5f5954e710'): \n",
       " Edge:\n",
       " \t - Inputs: <MaxPool2d @ 0x16bcfc990>\n",
       " \t[Inputs]input [2, 64, 55, 55]\n",
       " \t[Outputs][2, 64, 27, 27]\n",
       " \t - Outputs: <Conv2d @ 0x16bcfcb50>\n",
       " \t[Inputs]input [2, 64, 27, 27]\n",
       " \t[Outputs][2, 192, 27, 27], UUID('480c612b-3015-408f-a275-eba44caa9452'): \n",
       " Edge:\n",
       " \t - Inputs: <Conv2d @ 0x16bcfcb50>\n",
       " \t[Inputs]input [2, 64, 27, 27]\n",
       " \t[Outputs][2, 192, 27, 27]\n",
       " \t - Outputs: <ReLU @ 0x16ba88790>\n",
       " \t[Inputs]input [2, 192, 27, 27]\n",
       " \t[Outputs][2, 192, 27, 27], UUID('efc92589-92c7-4a40-a32c-f2a91cc61779'): \n",
       " Edge:\n",
       " \t - Inputs: <ReLU @ 0x16ba88790>\n",
       " \t[Inputs]input [2, 192, 27, 27]\n",
       " \t[Outputs][2, 192, 27, 27]\n",
       " \t - Outputs: <MaxPool2d @ 0x16bcfc450>\n",
       " \t[Inputs]input [2, 192, 27, 27]\n",
       " \t[Outputs][2, 192, 13, 13], UUID('ea3d0174-3a3e-4ed6-83df-a365f41d4fbc'): \n",
       " Edge:\n",
       " \t - Inputs: <MaxPool2d @ 0x16bcfc450>\n",
       " \t[Inputs]input [2, 192, 27, 27]\n",
       " \t[Outputs][2, 192, 13, 13]\n",
       " \t - Outputs: <Conv2d @ 0x16bcfc290>\n",
       " \t[Inputs]input [2, 192, 13, 13]\n",
       " \t[Outputs][2, 384, 13, 13], UUID('8b95b2a0-8b63-4be2-a83d-5959104d6c95'): \n",
       " Edge:\n",
       " \t - Inputs: <Conv2d @ 0x16bcfc290>\n",
       " \t[Inputs]input [2, 192, 13, 13]\n",
       " \t[Outputs][2, 384, 13, 13]\n",
       " \t - Outputs: <ReLU @ 0x16bcfca10>\n",
       " \t[Inputs]input [2, 384, 13, 13]\n",
       " \t[Outputs][2, 384, 13, 13], UUID('ee2c31c1-ce0b-476c-aa1c-cf87dc684bc5'): \n",
       " Edge:\n",
       " \t - Inputs: <ReLU @ 0x16bcfca10>\n",
       " \t[Inputs]input [2, 384, 13, 13]\n",
       " \t[Outputs][2, 384, 13, 13]\n",
       " \t - Outputs: <Conv2d @ 0x16ba55e10>\n",
       " \t[Inputs]input [2, 384, 13, 13]\n",
       " \t[Outputs][2, 256, 13, 13], UUID('1ebfa2da-7830-447c-9b2f-107f5d97d16f'): \n",
       " Edge:\n",
       " \t - Inputs: <Conv2d @ 0x16ba55e10>\n",
       " \t[Inputs]input [2, 384, 13, 13]\n",
       " \t[Outputs][2, 256, 13, 13]\n",
       " \t - Outputs: <ReLU @ 0x16be5b110>\n",
       " \t[Inputs]input [2, 256, 13, 13]\n",
       " \t[Outputs][2, 256, 13, 13], UUID('f91579e3-d701-49eb-8cb7-83ed395ca980'): \n",
       " Edge:\n",
       " \t - Inputs: <ReLU @ 0x16be5b110>\n",
       " \t[Inputs]input [2, 256, 13, 13]\n",
       " \t[Outputs][2, 256, 13, 13]\n",
       " \t - Outputs: <Conv2d @ 0x16be5b790>\n",
       " \t[Inputs]input [2, 256, 13, 13]\n",
       " \t[Outputs][2, 256, 13, 13], UUID('fa263880-be1f-4a0b-8276-c1006b233459'): \n",
       " Edge:\n",
       " \t - Inputs: <Conv2d @ 0x16be5b790>\n",
       " \t[Inputs]input [2, 256, 13, 13]\n",
       " \t[Outputs][2, 256, 13, 13]\n",
       " \t - Outputs: <ReLU @ 0x16be5b610>\n",
       " \t[Inputs]input [2, 256, 13, 13]\n",
       " \t[Outputs][2, 256, 13, 13], UUID('24b4eb1e-cc58-46a4-8d49-80533488bffd'): \n",
       " Edge:\n",
       " \t - Inputs: <ReLU @ 0x16be5b610>\n",
       " \t[Inputs]input [2, 256, 13, 13]\n",
       " \t[Outputs][2, 256, 13, 13]\n",
       " \t - Outputs: <MaxPool2d @ 0x16be5b890>\n",
       " \t[Inputs]input [2, 256, 13, 13]\n",
       " \t[Outputs][2, 256, 6, 6], UUID('8bf595a7-e13d-45d1-b17e-e885319f5ad2'): \n",
       " Edge:\n",
       " \t - Inputs: <MaxPool2d @ 0x16be5b890>\n",
       " \t[Inputs]input [2, 256, 13, 13]\n",
       " \t[Outputs][2, 256, 6, 6]\n",
       " \t - Outputs: , UUID('d7e2a5bd-c7f2-4307-9ca0-eed0283013c0'): \n",
       " Edge:\n",
       " \t - Inputs: <Sequential @ 0x16be5b750>\n",
       " \t[Inputs]input [2, 3, 224, 224]\n",
       " \t[Outputs][2, 256, 6, 6]\n",
       " \t - Outputs: <AdaptiveAvgPool2d @ 0x16be5b810>\n",
       " \t[Inputs]input [2, 256, 6, 6]\n",
       " \t[Outputs][2, 256, 6, 6], UUID('86cc6b4a-b4f8-405d-b424-9a2abafd7a5a'): \n",
       " Edge:\n",
       " \t - Inputs: <AdaptiveAvgPool2d @ 0x16be5b810>\n",
       " \t[Inputs]input [2, 256, 6, 6]\n",
       " \t[Outputs][2, 256, 6, 6]\n",
       " \t - Outputs: , UUID('8463773e-0685-4b21-b569-ebd4f72f55fe'): \n",
       " Edge:\n",
       " \t - Inputs: <Dropout @ 0x16be5bed0>\n",
       " \t[Inputs]input [2, 9216]\n",
       " \t[Outputs][2, 9216]\n",
       " \t - Outputs: <Linear @ 0x16be5bad0>\n",
       " \t[Inputs]input [2, 9216]\n",
       " \t[Outputs][2, 4096], UUID('92fdd1ba-8c8e-4eb4-87b4-e133f5a97664'): \n",
       " Edge:\n",
       " \t - Inputs: <Linear @ 0x16be5bad0>\n",
       " \t[Inputs]input [2, 9216]\n",
       " \t[Outputs][2, 4096]\n",
       " \t - Outputs: <ReLU @ 0x16bcfce90>\n",
       " \t[Inputs]input [2, 4096]\n",
       " \t[Outputs][2, 4096], UUID('8bc70762-292f-45e6-a1a5-19be9b0305e1'): \n",
       " Edge:\n",
       " \t - Inputs: <ReLU @ 0x16bcfce90>\n",
       " \t[Inputs]input [2, 4096]\n",
       " \t[Outputs][2, 4096]\n",
       " \t - Outputs: <Dropout @ 0x16bcfc850>\n",
       " \t[Inputs]input [2, 4096]\n",
       " \t[Outputs][2, 4096], UUID('54814b3a-daeb-40ca-8c50-ca58fdd20123'): \n",
       " Edge:\n",
       " \t - Inputs: <Dropout @ 0x16bcfc850>\n",
       " \t[Inputs]input [2, 4096]\n",
       " \t[Outputs][2, 4096]\n",
       " \t - Outputs: <Linear @ 0x16bcfcc10>\n",
       " \t[Inputs]input [2, 4096]\n",
       " \t[Outputs][2, 4096], UUID('0a7e0919-3727-40bd-b448-d517d964af60'): \n",
       " Edge:\n",
       " \t - Inputs: <Linear @ 0x16bcfcc10>\n",
       " \t[Inputs]input [2, 4096]\n",
       " \t[Outputs][2, 4096]\n",
       " \t - Outputs: <ReLU @ 0x16bcfc8d0>\n",
       " \t[Inputs]input [2, 4096]\n",
       " \t[Outputs][2, 4096], UUID('15b0f25e-bcdc-4aac-925e-fa37a246e04c'): \n",
       " Edge:\n",
       " \t - Inputs: <ReLU @ 0x16bcfc8d0>\n",
       " \t[Inputs]input [2, 4096]\n",
       " \t[Outputs][2, 4096]\n",
       " \t - Outputs: <Linear @ 0x16bcd5390>\n",
       " \t[Inputs]input [2, 4096]\n",
       " \t[Outputs][2, 1000], UUID('05a2781b-5d4e-4864-8bbf-ea13e34699ba'): \n",
       " Edge:\n",
       " \t - Inputs: <Linear @ 0x16bcd5390>\n",
       " \t[Inputs]input [2, 4096]\n",
       " \t[Outputs][2, 1000]\n",
       " \t - Outputs: , UUID('36c9c6e4-5b15-4b1a-a89b-afe176eb169f'): \n",
       " Edge:\n",
       " \t - Inputs: <Sequential @ 0x16bcd5790>\n",
       " \t[Inputs]input [2, 9216]\n",
       " \t[Outputs][2, 1000]\n",
       " \t - Outputs: , UUID('ca2eddb5-7f39-4e63-b02a-2ea81b8baae9'): \n",
       " Edge:\n",
       " \t - Inputs: <AlexNet @ 0x16be5b190>\n",
       " \t[Inputs]x [2, 3, 224, 224]\n",
       " \t[Outputs][2, 1000]\n",
       " \t - Outputs: }"
      ]
     },
     "execution_count": 50,
     "metadata": {},
     "output_type": "execute_result"
    }
   ],
   "source": [
    "data_edges"
   ]
  },
  {
   "cell_type": "code",
   "execution_count": 9,
   "metadata": {},
   "outputs": [],
   "source": [
    "x1 = torch.rand(5,6)\n",
    "x2 = torch.rand(5,6)\n",
    "x3 = x1*6+x2"
   ]
  },
  {
   "cell_type": "code",
   "execution_count": 10,
   "metadata": {},
   "outputs": [],
   "source": [
    "sz = x3.size()"
   ]
  },
  {
   "cell_type": "code",
   "execution_count": 11,
   "metadata": {},
   "outputs": [
    {
     "data": {
      "text/plain": [
       "tensor(1.5808)"
      ]
     },
     "execution_count": 11,
     "metadata": {},
     "output_type": "execute_result"
    }
   ],
   "source": [
    "x3.std()"
   ]
  },
  {
   "cell_type": "code",
   "execution_count": 35,
   "metadata": {},
   "outputs": [
    {
     "data": {
      "text/plain": [
       "[5, 6]"
      ]
     },
     "execution_count": 35,
     "metadata": {},
     "output_type": "execute_result"
    }
   ],
   "source": [
    "import numpy as np\n",
    "list(sz)"
   ]
  }
 ],
 "metadata": {
  "kernelspec": {
   "display_name": "Python 3",
   "language": "python",
   "name": "python3"
  },
  "language_info": {
   "codemirror_mode": {
    "name": "ipython",
    "version": 3
   },
   "file_extension": ".py",
   "mimetype": "text/x-python",
   "name": "python",
   "nbconvert_exporter": "python",
   "pygments_lexer": "ipython3",
   "version": "3.7.4"
  }
 },
 "nbformat": 4,
 "nbformat_minor": 2
}
