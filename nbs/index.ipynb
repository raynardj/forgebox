{
 "cells": [
  {
   "cell_type": "markdown",
   "metadata": {},
   "source": [
    "# ForgeBox\n",
    "> Data science comprehensive toolbox 🛠⚔️📦"
   ]
  },
  {
   "cell_type": "markdown",
   "metadata": {},
   "source": [
    "[![fame](https://sourcerer.io/fame/raynardj/raynardj/forgebox/images/0)](https://sourcerer.io/fame/raynardj/raynardj/forgebox/links/0)"
   ]
  },
  {
   "cell_type": "markdown",
   "metadata": {},
   "source": [
    "![logo](logo.jpg)"
   ]
  },
  {
   "cell_type": "markdown",
   "metadata": {},
   "source": [
    "## Installation\n",
    "\n",
    "Easy simple installation in 1 shot\n",
    "```shell\n",
    "pip install forgebox\n",
    "```\n",
    "\n",
    "If not specified, you need anaconda3 for most of the tools, python shold be at least >=3.6"
   ]
  },
  {
   "cell_type": "markdown",
   "metadata": {},
   "source": [
    "## Features 🚀 Briefing\n",
    "\n",
    "> This is a tool box with comprehensive utilies, to put it simply, I just hope most of my frequetyly used DIY tools in in place and can be easily installed and imported"
   ]
  },
  {
   "cell_type": "markdown",
   "metadata": {},
   "source": [
    "### Lazy, fast imports 🤯"
   ]
  },
  {
   "cell_type": "markdown",
   "metadata": {},
   "source": [
    "The following command will import many frequent tools for data science, like **pd** for pandas, **np** for numpy, os, json, PIL.Image for image processing\n",
    "\n",
    "```python\n",
    "from frogebox.imports import *\n",
    "```\n",
    "\n",
    "No more🚫 following typings\n",
    "```python\n",
    "import pandas as pd\n",
    "import numpy as np\n",
    "import os\n",
    "import json\n",
    "...\n",
    "```"
   ]
  },
  {
   "cell_type": "markdown",
   "metadata": {},
   "source": [
    "### Free style mapping"
   ]
  },
  {
   "cell_type": "markdown",
   "metadata": {},
   "source": [
    "Works on every value of a complicated dictionary structure (eg. list in dict in list in dict, etc,. 😳)\n",
    "\n",
    "```python\n",
    "from forgebox.freemap import FreeMap\n",
    "\n",
    "# flatten decides if we want to flatten the strucuture\n",
    "freemap_tool = FreeMap(\n",
    "    <function/callable applying to every value>,\n",
    "    <function/callable that filters every value>,\n",
    "    flatten=True\n",
    ")\n",
    "\n",
    "data2 = freemap_tool(data1)\n",
    "```"
   ]
  },
  {
   "cell_type": "markdown",
   "metadata": {},
   "source": [
    "### Interactive Widgets\n",
    "> Interactive widgets work with in jupyter notebooks"
   ]
  },
  {
   "cell_type": "markdown",
   "metadata": {},
   "source": [
    "#### Search box 🔎 for dataframe\n",
    "This will create an interactive text input box to search through the pandas dataframe, within the columns you set.\n",
    "\n",
    "if ```manual``` is set to False, the search will respond to **each of your key press**, it's fast but will suffer terrible user experience if the dataframe is huge in size.\n",
    "\n",
    "```python\n",
    "from forgebox.widgets import search_box\n",
    "\n",
    "search_box(data_df, columns=[\"col1\",\"col2\"], manual=False)\n",
    "```"
   ]
  },
  {
   "cell_type": "markdown",
   "metadata": {},
   "source": [
    "#### paginate\n",
    "You can browse through a pandas dataframe like fliping pages 📄.\n",
    "\n",
    "```python\n",
    "from forgebox.widgets import paginate\n",
    "\n",
    "paginate(your_dataframe, page_len=10)\n",
    "```"
   ]
  },
  {
   "cell_type": "markdown",
   "metadata": {},
   "source": [
    "#### Single button callback\n",
    "> a fully functional page with a single button, this single button is bonded to a function\n",
    "\n",
    "This is as much code as you need, to build a fully functional interactive page shows sql table from jupyter, that you can:\n",
    "\n",
    "* choose which table to visit\n",
    "* choose how many lines you want to show, (with a slider)\n",
    "* configure the where condition with a textbox on fron\n",
    "```python\n",
    "tablename_list = [\"pubmed\", \"patient\", \"users\", \"drugs\"]\n",
    "\n",
    "from forgebox.html import DOM\n",
    "def show_sql_table(sql_input:str) -> str:\n",
    "    with engine.connect() as conn:\n",
    "        df=pd.read_sql(sql_input, con=conn)\n",
    "    # display the table as html\n",
    "    DOM(df.to_html(),\"div\")()\n",
    "\n",
    "@SingleButton(callback=show_sql_table)\n",
    "def abc(\n",
    "    limit:{\"typing\":int, \"default\":10, \"min\":5, \"max\":20},\n",
    "    where_condition:{\"typing\":str, \"default\": \"where 1=1\", },\n",
    "    table:{\"typing\":list, \"options\":tablename_list}\n",
    "):\n",
    "    return f\"sql > SELECT * FROM {table} {where_condition} LIMIT {limit}\"\n",
    "```"
   ]
  },
  {
   "cell_type": "code",
   "execution_count": null,
   "metadata": {},
   "outputs": [],
   "source": []
  }
 ],
 "metadata": {
  "kernelspec": {
   "display_name": "Python 3",
   "language": "python",
   "name": "python3"
  },
  "language_info": {
   "codemirror_mode": {
    "name": "ipython",
    "version": 3
   },
   "file_extension": ".py",
   "mimetype": "text/x-python",
   "name": "python",
   "nbconvert_exporter": "python",
   "pygments_lexer": "ipython3",
   "version": "3.7.4"
  },
  "toc": {
   "base_numbering": 1,
   "nav_menu": {},
   "number_sections": true,
   "sideBar": true,
   "skip_h1_title": false,
   "title_cell": "Table of Contents",
   "title_sidebar": "Contents",
   "toc_cell": false,
   "toc_position": {},
   "toc_section_display": true,
   "toc_window_display": false
  }
 },
 "nbformat": 4,
 "nbformat_minor": 2
}
