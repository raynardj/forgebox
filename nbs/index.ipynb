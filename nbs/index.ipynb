{
 "cells": [
  {
   "cell_type": "markdown",
   "metadata": {},
   "source": [
    "# ForgeBox\n",
    "> Data science comprehensive toolbox 🛠⚔️📦"
   ]
  },
  {
   "cell_type": "markdown",
   "metadata": {},
   "source": [
    "![forgebox logo](docs/logo.jpg)"
   ]
  },
  {
   "cell_type": "markdown",
   "metadata": {},
   "source": [
    "## Installation\n",
    "\n",
    "Easy simple installation in 1 line\n",
    "```shell\n",
    "pip install forgebox\n",
    "```\n",
    "\n",
    "If not specified, you need anaconda3 for most of the tools, python shold be at least >=3.6"
   ]
  },
  {
   "cell_type": "markdown",
   "metadata": {},
   "source": [
    "## Features 🚀 Briefing\n",
    "\n",
    "> This is a tool box with comprehensive **utilies**, to put it simply, I just hope most of my frequetyly used DIY tools in in place and can be easily installed and imported"
   ]
  },
  {
   "cell_type": "markdown",
   "metadata": {},
   "source": [
    "### Lazy, fast imports 🤯"
   ]
  },
  {
   "cell_type": "markdown",
   "metadata": {},
   "source": [
    "The following command will import many frequent tools for data science, like **pd** for pandas, **np** for numpy, os, json, PIL.Image for image processing\n",
    "\n",
    "```python\n",
    "from frogebox.imports import *\n",
    "```\n",
    "\n",
    "No more🚫 following typings\n",
    "```python\n",
    "import pandas as pd\n",
    "import numpy as np\n",
    "import os\n",
    "import json\n",
    "...\n",
    "```"
   ]
  },
  {
   "cell_type": "markdown",
   "metadata": {},
   "source": [
    "### Categorical converter\n",
    "\n",
    "> Mapping and converting categorical infomation"
   ]
  },
  {
   "cell_type": "code",
   "execution_count": 1,
   "metadata": {},
   "outputs": [],
   "source": [
    "from forgebox.category import Category"
   ]
  },
  {
   "cell_type": "code",
   "execution_count": 14,
   "metadata": {},
   "outputs": [
    {
     "name": "stdout",
     "output_type": "stream",
     "text": [
      "['A', 'B', 'C', 'D', 'E', 'F', 'G', 'H', 'I', 'J', 'K', 'L', 'M', 'N', 'O', 'P', 'Q', 'R', 'S', 'T', 'U', 'V', 'W', 'X', 'Y', 'Z', '[', '\\\\', ']', '^', '_', '`', 'a', 'b', 'c', 'd', 'e', 'f', 'g', 'h', 'i', 'j', 'k', 'l', 'm', 'n', 'o', 'p', 'q', 'r', 's', 't', 'u', 'v', 'w', 'x', 'y', 'z']\n"
     ]
    }
   ],
   "source": [
    "az = list(map(chr,range(ord(\"A\"), ord(\"z\")+1)))\n",
    "print(az)"
   ]
  },
  {
   "cell_type": "code",
   "execution_count": 15,
   "metadata": {},
   "outputs": [
    {
     "data": {
      "text/plain": [
       "Category Manager with 58"
      ]
     },
     "execution_count": 15,
     "metadata": {},
     "output_type": "execute_result"
    }
   ],
   "source": [
    "cate_az = Category(az)\n",
    "cate_az"
   ]
  },
  {
   "cell_type": "code",
   "execution_count": 28,
   "metadata": {},
   "outputs": [
    {
     "data": {
      "text/plain": [
       "(17, 'R')"
      ]
     },
     "execution_count": 28,
     "metadata": {},
     "output_type": "execute_result"
    }
   ],
   "source": [
    "cate_az.c2i[\"R\"], cate_az.i2c[17]"
   ]
  },
  {
   "cell_type": "code",
   "execution_count": 24,
   "metadata": {},
   "outputs": [
    {
     "data": {
      "text/plain": [
       "array([ 5, 46, 49, 38, 36,  1, 46, 55])"
      ]
     },
     "execution_count": 24,
     "metadata": {},
     "output_type": "execute_result"
    }
   ],
   "source": [
    "cate_az.c2i[list(\"ForgeBox\")]"
   ]
  },
  {
   "cell_type": "code",
   "execution_count": 22,
   "metadata": {},
   "outputs": [
    {
     "data": {
      "text/plain": [
       "array(['F', 'o', 'r', 'g', 'e', 'B', 'o', 'x'], dtype='<U1')"
      ]
     },
     "execution_count": 22,
     "metadata": {},
     "output_type": "execute_result"
    }
   ],
   "source": [
    "cate_az.i2c[[ 5, 46, 49, 38, 36,  1, 46, 55]]"
   ]
  },
  {
   "cell_type": "markdown",
   "metadata": {},
   "source": [
    "Padding missing token"
   ]
  },
  {
   "cell_type": "code",
   "execution_count": 30,
   "metadata": {},
   "outputs": [
    {
     "data": {
      "text/plain": [
       "array([ 6, 47, 50, 39, 37,  0,  0,  2, 47, 56])"
      ]
     },
     "execution_count": 30,
     "metadata": {},
     "output_type": "execute_result"
    }
   ],
   "source": [
    "cate_az = Category(az, pad_mst=True)\n",
    "cate_az.c2i[list(\"Forge⚡️Box\")]"
   ]
  },
  {
   "cell_type": "markdown",
   "metadata": {},
   "source": [
    "### Get a dataframe of file details under a  directory"
   ]
  },
  {
   "cell_type": "code",
   "execution_count": 33,
   "metadata": {},
   "outputs": [],
   "source": [
    "from forgebox.files import file_detail"
   ]
  },
  {
   "cell_type": "code",
   "execution_count": 40,
   "metadata": {},
   "outputs": [
    {
     "data": {
      "text/html": [
       "<div>\n",
       "<style scoped>\n",
       "    .dataframe tbody tr th:only-of-type {\n",
       "        vertical-align: middle;\n",
       "    }\n",
       "\n",
       "    .dataframe tbody tr th {\n",
       "        vertical-align: top;\n",
       "    }\n",
       "\n",
       "    .dataframe thead th {\n",
       "        text-align: right;\n",
       "    }\n",
       "</style>\n",
       "<table border=\"1\" class=\"dataframe\">\n",
       "  <thead>\n",
       "    <tr style=\"text-align: right;\">\n",
       "      <th></th>\n",
       "      <th>path</th>\n",
       "      <th>file_type</th>\n",
       "      <th>parent</th>\n",
       "      <th>depth</th>\n",
       "    </tr>\n",
       "  </thead>\n",
       "  <tbody>\n",
       "    <tr>\n",
       "      <td>36</td>\n",
       "      <td>/Users/xiaochen.zhang/.cache/torch/transformer...</td>\n",
       "      <td>json</td>\n",
       "      <td>transformers</td>\n",
       "      <td>7</td>\n",
       "    </tr>\n",
       "    <tr>\n",
       "      <td>13</td>\n",
       "      <td>/Users/xiaochen.zhang/.cache/torch/transformer...</td>\n",
       "      <td>json</td>\n",
       "      <td>transformers</td>\n",
       "      <td>7</td>\n",
       "    </tr>\n",
       "    <tr>\n",
       "      <td>51</td>\n",
       "      <td>/Users/xiaochen.zhang/.cache/langhuan/task_NER...</td>\n",
       "      <td>json</td>\n",
       "      <td>task_NER_210121_140513</td>\n",
       "      <td>7</td>\n",
       "    </tr>\n",
       "    <tr>\n",
       "      <td>32</td>\n",
       "      <td>/Users/xiaochen.zhang/.cache/torch/transformer...</td>\n",
       "      <td>lock</td>\n",
       "      <td>transformers</td>\n",
       "      <td>7</td>\n",
       "    </tr>\n",
       "    <tr>\n",
       "      <td>58</td>\n",
       "      <td>/Users/xiaochen.zhang/.cache/langhuan/task_Cla...</td>\n",
       "      <td>json</td>\n",
       "      <td>task_Classify_210128_164710</td>\n",
       "      <td>7</td>\n",
       "    </tr>\n",
       "  </tbody>\n",
       "</table>\n",
       "</div>"
      ],
      "text/plain": [
       "                                                 path file_type                       parent  depth\n",
       "36  /Users/xiaochen.zhang/.cache/torch/transformer...      json                 transformers      7\n",
       "13  /Users/xiaochen.zhang/.cache/torch/transformer...      json                 transformers      7\n",
       "51  /Users/xiaochen.zhang/.cache/langhuan/task_NER...      json       task_NER_210121_140513      7\n",
       "32  /Users/xiaochen.zhang/.cache/torch/transformer...      lock                 transformers      7\n",
       "58  /Users/xiaochen.zhang/.cache/langhuan/task_Cla...      json  task_Classify_210128_164710      7"
      ]
     },
     "execution_count": 40,
     "metadata": {},
     "output_type": "execute_result"
    }
   ],
   "source": [
    "file_detail(\"/Users/xiaochen.zhang/.cache/\").sample(5)"
   ]
  },
  {
   "cell_type": "markdown",
   "metadata": {},
   "source": [
    "### JS style async"
   ]
  },
  {
   "cell_type": "code",
   "execution_count": 20,
   "metadata": {},
   "outputs": [],
   "source": [
    "from forgebox.asyncing import Async\n",
    "from time import sleep"
   ]
  },
  {
   "cell_type": "code",
   "execution_count": 26,
   "metadata": {},
   "outputs": [
    {
     "name": "stdout",
     "output_type": "stream",
     "text": [
      "1111111111\n",
      "22222222222\n",
      "[result]:\tslept for 2 seconds\n"
     ]
    }
   ],
   "source": [
    "def something_time_costing_but_you_dont_want_to_wait(x):\n",
    "    sleep(x)\n",
    "    return f\"slept for {x} seconds\"\n",
    "\n",
    "def task2_you_will_perfrom_after_the_time_costing_one(x):\n",
    "    print(f\"[result]:\\t{x}\")\n",
    "    return 1\n",
    "\n",
    "print(\"1111111111\")\n",
    "\n",
    "Async(something_time_costing_but_you_dont_want_to_wait)(2)\\\n",
    ".then(task2_you_will_perfrom_after_the_time_costing_one)\\\n",
    ".catch(print)\n",
    "\n",
    "print(\"22222222222\")"
   ]
  },
  {
   "cell_type": "markdown",
   "metadata": {},
   "source": [
    "### HTML in notebook"
   ]
  },
  {
   "cell_type": "code",
   "execution_count": 4,
   "metadata": {},
   "outputs": [],
   "source": [
    "from forgebox.html import DOM, list_group, list_group_kv"
   ]
  },
  {
   "cell_type": "markdown",
   "metadata": {},
   "source": [
    "This will map a clear HTML table view of wild tree type json structure/ list"
   ]
  },
  {
   "cell_type": "code",
   "execution_count": 8,
   "metadata": {},
   "outputs": [
    {
     "data": {
      "text/html": [
       "<ul class=\"list-group\"><li class=\"list-group-item\">police</li><li class=\"list-group-item\">headpin</li><li class=\"list-group-item\"><ul class=\"list-group\"><li class=\"list-group-item\"><div class=\"row\"><strong class=\"col-sm-5\">ac</strong><span class=\"col-sm-7\">dc</span></div></li></ul></li></ul>"
      ],
      "text/plain": [
       "<IPython.core.display.HTML object>"
      ]
     },
     "metadata": {},
     "output_type": "display_data"
    }
   ],
   "source": [
    "bands = [\"police\", \"headpin\", {\"ac\":\"dc\"}]\n",
    "list_group(bands)()"
   ]
  },
  {
   "cell_type": "code",
   "execution_count": 9,
   "metadata": {},
   "outputs": [
    {
     "data": {
      "text/html": [
       "<ul class=\"list-group\"><li class=\"list-group-item\"><div class=\"row\"><strong class=\"col-sm-5\">question</strong><span class=\"col-sm-7\">answer</span></div></li><li class=\"list-group-item\"><div class=\"row\"><strong class=\"col-sm-5\">another</strong><span class=\"col-sm-7\"><ul class=\"list-group\"><li class=\"list-group-item\"><div class=\"row\"><strong class=\"col-sm-5\">deeper question</strong><span class=\"col-sm-7\">answer again</span></div></li></ul></span></div></li><li class=\"list-group-item\"><div class=\"row\"><strong class=\"col-sm-5\">final</strong><span class=\"col-sm-7\"><ul class=\"list-group\"><li class=\"list-group-item\"><div class=\"row\"><strong class=\"col-sm-5\">questions</strong><span class=\"col-sm-7\"><ul class=\"list-group\"><li class=\"list-group-item\">what</li><li class=\"list-group-item\">is</li><li class=\"list-group-item\">the</li><li class=\"list-group-item\">answer</li><li class=\"list-group-item\">to</li><li class=\"list-group-item\"><ul class=\"list-group\"><li class=\"list-group-item\">life</li><li class=\"list-group-item\">universe</li><li class=\"list-group-item\">everything</li></ul></li></ul></span></div></li></ul></span></div></li></ul>"
      ],
      "text/plain": [
       "<IPython.core.display.HTML object>"
      ]
     },
     "metadata": {},
     "output_type": "display_data"
    }
   ],
   "source": [
    "questions = {\n",
    "    \"question\":\"answer\",\n",
    "    \"another\":{\n",
    "        \"deeper question\": \"answer again\"},\n",
    "    \"final\":{\n",
    "        \"questions\": [\"what\",\"is\",\"the\",\"answer\", \"to\",\n",
    "            [\"life\", \"universe\",\"everything\"]]}\n",
    "}\n",
    "list_group_kv(questions)()"
   ]
  },
  {
   "cell_type": "markdown",
   "metadata": {},
   "source": [
    "#### Coding html in python"
   ]
  },
  {
   "cell_type": "code",
   "execution_count": 59,
   "metadata": {},
   "outputs": [
    {
     "data": {
      "text/html": [
       "<h5 style=\"color:#3399EE\">Title example</h5>"
      ],
      "text/plain": [
       "<IPython.core.display.HTML object>"
      ]
     },
     "metadata": {},
     "output_type": "display_data"
    },
    {
     "data": {
      "text/html": [
       "<ul><li style=\"color:#EE33DD\">Line 0</li><li style=\"color:#EE33DD\">Line 1</li><li style=\"color:#EE33DD\">Line 2</li><li style=\"color:#EE33DD\">Line 3</li><li style=\"color:#EE33DD\">Line 4</li></ul>"
      ],
      "text/plain": [
       "<IPython.core.display.HTML object>"
      ]
     },
     "metadata": {},
     "output_type": "display_data"
    }
   ],
   "source": [
    "title = DOM(\"Title example\",\"h5\", kwargs={\"style\":\"color:#3399EE\"})\n",
    "ul = DOM(\"\",\"ul\");\n",
    "for i in range(5):\n",
    "    ul = ul.append(DOM(f\"Line {i}\", \"li\", kwargs={\"style\":\"color:#EE33DD\"}))\n",
    "\n",
    "title()\n",
    "ul()"
   ]
  },
  {
   "cell_type": "markdown",
   "metadata": {},
   "source": [
    "### Free style mapping"
   ]
  },
  {
   "cell_type": "markdown",
   "metadata": {},
   "source": [
    "Works on every value of a complicated dictionary structure (eg. list in dict in list in dict, etc,. 😳)\n",
    "\n",
    "```python\n",
    "from forgebox.freemap import FreeMap\n",
    "\n",
    "# flatten decides if we want to flatten the strucuture\n",
    "freemap_tool = FreeMap(\n",
    "    <function/callable applying to every value>,\n",
    "    <function/callable that filters every value>,\n",
    "    flatten=True\n",
    ")\n",
    "\n",
    "data2 = freemap_tool(data1)\n",
    "```"
   ]
  },
  {
   "cell_type": "markdown",
   "metadata": {},
   "source": [
    "### Interactive Widgets\n",
    "> Interactive widgets work with in jupyter notebooks"
   ]
  },
  {
   "cell_type": "markdown",
   "metadata": {},
   "source": [
    "#### Search box 🔎 for dataframe\n",
    "This will create an interactive text input box to search through the pandas dataframe, within the columns you set.\n",
    "\n",
    "if ```manual``` is set to False, the search will respond to **each of your key press**, it's fast but will suffer terrible user experience if the dataframe is huge in size.\n",
    "\n",
    "```python\n",
    "from forgebox.widgets import search_box\n",
    "\n",
    "search_box(data_df, columns=[\"col1\",\"col2\"], manual=False)\n",
    "```"
   ]
  },
  {
   "cell_type": "markdown",
   "metadata": {},
   "source": [
    "#### paginate\n",
    "You can browse through a pandas dataframe like fliping pages 📄.\n",
    "\n",
    "```python\n",
    "from forgebox.widgets import paginate\n",
    "\n",
    "paginate(your_dataframe, page_len=10)\n",
    "```"
   ]
  },
  {
   "cell_type": "markdown",
   "metadata": {},
   "source": [
    "#### Single button callback\n",
    "> a fully functional page with a single button, this single button is bonded to a function\n",
    "\n",
    "This is as much code as you need, to build a fully functional interactive page shows sql table from jupyter, that you can:\n",
    "\n",
    "* choose which table to visit\n",
    "* choose how many lines you want to show, (with a slider)\n",
    "* configure the where condition with a text box on front end\n",
    "\n",
    "```python\n",
    "tablename_list = [\"pubmed\", \"patient\", \"users\", \"drugs\"]\n",
    "\n",
    "from forgebox.html import DOM\n",
    "def show_sql_table(sql_input:str) -> str:\n",
    "    with engine.connect() as conn:\n",
    "        df=pd.read_sql(sql_input, con=conn)\n",
    "    # display the table as html\n",
    "    DOM(df.to_html(),\"div\")()\n",
    "\n",
    "@SingleButton(callback=show_sql_table)\n",
    "def abc(\n",
    "    limit:{\"typing\":int, \"default\":10, \"min\":5, \"max\":20},\n",
    "    where_condition:{\"typing\":str, \"default\": \"where 1=1\", },\n",
    "    table:{\"typing\":list, \"options\":tablename_list}\n",
    "):\n",
    "    return f\"SELECT * FROM {table} {where_condition} LIMIT {limit}\"\n",
    "```"
   ]
  }
 ],
 "metadata": {
  "kernelspec": {
   "display_name": "Python 3",
   "language": "python",
   "name": "python3"
  },
  "language_info": {
   "codemirror_mode": {
    "name": "ipython",
    "version": 3
   },
   "file_extension": ".py",
   "mimetype": "text/x-python",
   "name": "python",
   "nbconvert_exporter": "python",
   "pygments_lexer": "ipython3",
   "version": "3.7.4"
  },
  "toc": {
   "base_numbering": 1,
   "nav_menu": {},
   "number_sections": true,
   "sideBar": true,
   "skip_h1_title": false,
   "title_cell": "Table of Contents",
   "title_sidebar": "Contents",
   "toc_cell": false,
   "toc_position": {},
   "toc_section_display": true,
   "toc_window_display": false
  }
 },
 "nbformat": 4,
 "nbformat_minor": 2
}
