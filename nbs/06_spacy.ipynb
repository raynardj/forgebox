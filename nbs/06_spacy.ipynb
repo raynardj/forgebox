{
 "cells": [
  {
   "cell_type": "markdown",
   "metadata": {},
   "source": [
    "# spacy toolkit\n",
    "> Tools enhancing spacy usage"
   ]
  },
  {
   "cell_type": "code",
   "execution_count": 1,
   "metadata": {},
   "outputs": [],
   "source": [
    "# default_exp  spacy"
   ]
  },
  {
   "cell_type": "code",
   "execution_count": 9,
   "metadata": {},
   "outputs": [],
   "source": [
    "# export\n",
    "from forgebox.html import DOM,JS\n",
    "import numpy as np\n",
    "import json"
   ]
  },
  {
   "cell_type": "markdown",
   "metadata": {},
   "source": [
    "Normalization and cosine distance calculation, between each word of 2 sentences"
   ]
  },
  {
   "cell_type": "code",
   "execution_count": 10,
   "metadata": {},
   "outputs": [],
   "source": [
    "# export\n",
    "def l2norm(x):return np.sqrt(np.power(x,2).sum(-1))\n",
    "def normal(x):return (x/l2norm(x)[:,None])\n",
    "def distance(a,b):return 1- normal(a)@(normal(b).T)"
   ]
  },
  {
   "cell_type": "code",
   "execution_count": 11,
   "metadata": {},
   "outputs": [],
   "source": [
    "# export\n",
    "\n",
    "highlight = \"\"\"\n",
    "$(document).ready(function(){\n",
    "    const red=(dom)=>{\n",
    "        $(dom)\n",
    "            .css(\"background-color\",\"#FFCCEE\")\n",
    "            .css(\"box-shadow\",\"0px 0px 10px #FFCCEE\")\n",
    "    }\n",
    "    const white=(dom)=>{\n",
    "        $(dom).css(\"background-color\",\"#FFFFFF\")\n",
    "            .css(\"box-shadow\",\"0px 0px 0px #FFFFFF\")\n",
    "    }\n",
    "    $(\".nlp_tok\")\n",
    "            .css(\"margin\",\"1px 2px\")\n",
    "            .css(\"padding\",\"1px 1px\")\n",
    "            .css(\"border-radius\",\"5px\");\n",
    "        var edge = JSON.parse(window.edge_data)\n",
    "        var edge2 = JSON.parse(window.edge_data2)\n",
    "        var all_b = []\n",
    "        for(var a in edge)\n",
    "        {\n",
    "            $(`#map_word_src_${a}`).data(\"match\",edge[a].idx)\n",
    "            $(`#map_word_src_${a}`).css(\"font-weight\",900)\n",
    "           $(`#map_word_src_${a}`)\n",
    "                   .hover(function(){\n",
    "                       red(this)\n",
    "                       var b_match = $(this).data(\"match\")\n",
    "                       for(var i in b_match){\n",
    "                           var b = b_match[i]\n",
    "                           red(document.querySelector(`#map_word_tgt_${b}`))\n",
    "                       }\n",
    "                   })\n",
    "            $(`#map_word_src_${a}`)\n",
    "                    .mouseleave(function(){\n",
    "                        white(this)\n",
    "                        var b_match = $(this).data(\"match\")\n",
    "                        for(var i in b_match){\n",
    "                           var b = b_match[i]\n",
    "                           white(document.querySelector(`#map_word_tgt_${b}`))\n",
    "                       }\n",
    "                    })\n",
    "        }\n",
    "        for(var a in edge2)\n",
    "        {\n",
    "            $(`#map_word_tgt_${a}`).data(\"match\",edge2[a].idx)\n",
    "            $(`#map_word_tgt_${a}`).css(\"font-weight\",900)\n",
    "           $(`#map_word_tgt_${a}`)\n",
    "                   .hover(function(){\n",
    "                       red(this)\n",
    "                       var b_match = $(this).data(\"match\")\n",
    "                       for(var i in b_match){\n",
    "                           var b = b_match[i]\n",
    "                           red(document.querySelector(`#map_word_src_${b}`))\n",
    "                       }\n",
    "                   })\n",
    "            $(`#map_word_tgt_${a}`)\n",
    "                    .mouseleave(function(){\n",
    "                        white(this)\n",
    "                        var b_match = $(this).data(\"match\")\n",
    "                        for(var i in b_match){\n",
    "                           var b = b_match[i]\n",
    "                           white(document.querySelector(`#map_word_src_${b}`))\n",
    "                       }\n",
    "                    })\n",
    "        }\n",
    "        \n",
    "})\n",
    "\"\"\"\n",
    "def make_map(distance_map,th = .1):\n",
    "    \"\"\"\n",
    "    create a hot spot map between similar token\n",
    "    return dict, token index with matching token index in the target sentence\n",
    "    \"\"\"\n",
    "    a2b_dict = dict()\n",
    "    tgt_range = np.arange(distance_map.shape[-1])\n",
    "    for i in range(len(distance_map)):\n",
    "        slice_ = (distance_map[i,:]<th)\n",
    "        if slice_.sum()>0:\n",
    "            a2b_dict[str(i)]= dict(dist = list(distance_map[i,:][slice_].astype(float)),\n",
    "                              idx = list(tgt_range[slice_].astype(str)))\n",
    "    return a2b_dict\n",
    "\n",
    "def make_span(tok,tok_id,classes):\n",
    "    \"\"\"\n",
    "    create span for token\n",
    "    tok,spacy token\n",
    "    tok_id, span's html id\n",
    "    \n",
    "    return forgebox.html.DOM\n",
    "    \"\"\"\n",
    "    return DOM(tok.text,\"span\",{\"class\":\" \".join(classes),\"id\":tok_id})\n",
    "\n",
    "def make_div(doc,id_list,classes_list):\n",
    "    \"\"\"\n",
    "    create div tag for a sentence\n",
    "    doc:spacy doc\n",
    "    id_list, a list of html id\n",
    "    classes_list, a list of classes assigning to the token span\n",
    "    \n",
    "    return forgebox.html.DOM\n",
    "    \"\"\"\n",
    "    div = DOM(\"\",\"div\",{\"class\":\"text-block\"})\n",
    "    for tok,tok_id,classes in zip(doc,id_list,classes_list):\n",
    "        div.append(make_span(tok,tok_id,classes))\n",
    "    return div\n",
    "\n",
    "def doc2div(doc,distance_map,th=.1,is_src= True):\n",
    "    totallen = len(doc)\n",
    "    src_tgt = \"src\" if is_src else \"tgt\"\n",
    "    id_list = list(f\"map_word_{src_tgt}_{i}\" for i in range(len(doc)))\n",
    "    if is_src:\n",
    "        edge_map = make_map(distance_map,th=th)\n",
    "        DOM(f\"window.edge_data = '{json.dumps(edge_map)}'\",\"script\")()\n",
    "    else:\n",
    "        edge_map2 = make_map(distance_map.T,th=th)\n",
    "        DOM(f\"window.edge_data2 = '{json.dumps(edge_map2)}'\",\"script\")()\n",
    "    \n",
    "    return make_div(doc,id_list,zip([src_tgt,]*totallen,[\"nlp_tok\"]*totallen))\n",
    "\n",
    "\n",
    "\n",
    "def compare_sentences(A,B,nlp,th=.1):\n",
    "    \"\"\"\n",
    "    Compare between sentences\n",
    "    A: str, a sentence\n",
    "    B: str, another sentence\n",
    "    nlp: loaded spacy: eg. from spacy import load;nlp = load(\"some_model_name\"), \n",
    "    see spacy documentation https://spacy.io/usage/spacy-101/\n",
    "    \n",
    "    th:float, threshold for consine distance, smaller it is, fewer matching tokens will be found, \n",
    "    but assume that means higher quality\n",
    "    \"\"\"\n",
    "    doc_a = nlp(A)\n",
    "    doc_b = nlp(B)\n",
    "    distance_map = distance(doc_a.tensor,doc_b.tensor)\n",
    "    DOM(\"Sentence A\",\"h3\",{\"class\":\"text-primary\"})()\n",
    "    doc2div(doc_a,distance_map,th=th,is_src=True)()\n",
    "    DOM(\"Sentence B\",\"h3\",{\"class\":\"text-primary\"})()\n",
    "    doc2div(doc_b,distance_map,th=th,is_src=False)()\n",
    "    JS(highlight)"
   ]
  },
  {
   "cell_type": "markdown",
   "metadata": {},
   "source": [
    "## Visualizing Sentence Compare"
   ]
  },
  {
   "cell_type": "markdown",
   "metadata": {},
   "source": [
    "### Example\n",
    "* Suppose you have 2 sentences, name them A and B"
   ]
  },
  {
   "cell_type": "code",
   "execution_count": 14,
   "metadata": {},
   "outputs": [],
   "source": [
    "A = \"\"\"BACKGROUND: In the COU-AA-302 study (NCT00887198), abiraterone acetate plus prednisone (AAP) \n",
    "significantly improved outcomes in patients with metastatic castration-resistant prostate cancer (mCRPC) \n",
    "versus prednisone alone. Baseline clinical parameters predicting that treatment response could help inform \n",
    "clinical decisions were explored. OBJECTIVE: To identify patients who derive the greatest clinical benefit \n",
    "from AAP treatment. DESIGN, SETTING, AND PARTICIPANTS: A total of 1088 mCRPC patients treated with either \n",
    "AAP or prednisone in the first-line setting in COU-AA-302 were included in this post hoc analysis. \n",
    "INTERVENTION: Abiraterone acetate1000mg daily versus placebo, both plus prednisone 10mg daily. \n",
    "OUTCOME MEASUREMENTS AND STATISTICAL ANALYSIS: Univariate and multivariable Cox regression \n",
    "analyses were performed, including clinical and pathological parameters for the primary end points overall \n",
    "survival (OS) and radiographic progression-free survival (rPFS), and secondary study end points. \n",
    "Tumor-associated baseline parameters independently impacting OS were applied to stratify patients according \n",
    "to possible treatment effects. RESULTS AND LIMITATIONS: Baseline prostate-specific antigen (PSA), tumor-related \n",
    "pain as assessed by the Brief Pain Inventory-Short Form (BPI-SF), and Gleason score (GS) at primary diagnosis\n",
    "were identified as tumor-associated variables that independently impacted OS. AAP significantly improved \n",
    "outcomes versus prednisone in both group 1 (BPI-SF 0-1 and PSA <80 ng/ml and GS <8; p=0.006; hazard ratio \n",
    "[HR]: 0.61) and group 2 (BPI-SF 2-3 and/or PSA ≥80 ng/ml and/or GS ≥8; p=0.03; HR: 0.84). \n",
    "The differences observed for treatment effects between groups 1 and 2 for OS (HR: 0.61 vs 0.84), rPFS \n",
    "(HR: 0.41 vs 0.59), and time to chemotherapy (HR: 0.64 vs 0.71) were not statistically significant. \n",
    "CONCLUSIONS: AAP significantly improved outcomes in mCRPC patients compared with prednisone alone regardless \n",
    "of baseline pain and PSA level, and GS at primary diagnosis with no significant differences between observed \n",
    "treatment effects in groups 1 and 2. PATIENT SUMMARY: Treatment with abiraterone acetate and prednisone \n",
    "(compared with treatment with prednisone only) for metastatic castration-resistant prostate cancer \n",
    "increased survival in all patients in the study regardless of pain, prostate-specific antigen levels \n",
    "at the start of treatment, and Gleason score at primary diagnosis.\"\"\"\n",
    "\n",
    "B = \"\"\"'Treatment with abiraterone acetate and prednisone (compared with treatment with prednisone only) \n",
    "for metastatic castration-resistant prostate cancer increased survival in all patients in the study regardless \n",
    "of pain, prostate-specific antigen levels at the start of treatment, and Gleason score at primary diagnosis.'\n",
    "\"\"\""
   ]
  },
  {
   "cell_type": "markdown",
   "metadata": {},
   "source": [
    "You can run the comparation between A & B"
   ]
  },
  {
   "cell_type": "code",
   "execution_count": 15,
   "metadata": {},
   "outputs": [
    {
     "data": {
      "text/html": [
       "<h3 class=\"text-primary\">Sentence A</h3>"
      ],
      "text/plain": [
       "<IPython.core.display.HTML object>"
      ]
     },
     "metadata": {},
     "output_type": "display_data"
    },
    {
     "data": {
      "text/html": [
       "<script>window.edge_data = '{\"26\": {\"dist\": [0.04427701234817505], \"idx\": [\"17\"]}, \"27\": {\"dist\": [0.006211042404174805], \"idx\": [\"18\"]}, \"28\": {\"dist\": [0.0005973577499389648], \"idx\": [\"19\"]}, \"29\": {\"dist\": [0.00035071372985839844], \"idx\": [\"20\"]}, \"30\": {\"dist\": [0.006457805633544922], \"idx\": [\"21\"]}, \"203\": {\"dist\": [0.05108797550201416], \"idx\": [\"37\"]}, \"204\": {\"dist\": [0.035068631172180176], \"idx\": [\"38\"]}, \"231\": {\"dist\": [0.03962278366088867], \"idx\": [\"47\"]}, \"232\": {\"dist\": [0.01484060287475586], \"idx\": [\"48\"]}, \"238\": {\"dist\": [0.045661211013793945], \"idx\": [\"51\"]}, \"384\": {\"dist\": [0.07528722286224365], \"idx\": [\"32\"]}, \"395\": {\"dist\": [0.05053102970123291], \"idx\": [\"51\"]}, \"416\": {\"dist\": [0.016687512397766113], \"idx\": [\"2\"]}, \"417\": {\"dist\": [0.0025945305824279785], \"idx\": [\"3\"]}, \"418\": {\"dist\": [0.008763313293457031], \"idx\": [\"4\"]}, \"419\": {\"dist\": [0.03224223852157593], \"idx\": [\"5\"]}, \"423\": {\"dist\": [0.020077824592590332], \"idx\": [\"8\"]}, \"424\": {\"dist\": [0.0006245970726013184], \"idx\": [\"9\"]}, \"425\": {\"dist\": [2.9087066650390625e-05], \"idx\": [\"10\"]}, \"426\": {\"dist\": [1.4007091522216797e-05], \"idx\": [\"11\"]}, \"427\": {\"dist\": [0.0008963346481323242], \"idx\": [\"12\"]}, \"428\": {\"dist\": [0.020281314849853516], \"idx\": [\"13\"]}, \"431\": {\"dist\": [0.02114015817642212], \"idx\": [\"17\"]}, \"432\": {\"dist\": [0.004466593265533447], \"idx\": [\"18\"]}, \"433\": {\"dist\": [0.0004544258117675781], \"idx\": [\"19\"]}, \"434\": {\"dist\": [0.0008549690246582031], \"idx\": [\"20\"]}, \"435\": {\"dist\": [0.0073449015617370605], \"idx\": [\"21\"]}, \"439\": {\"dist\": [0.03128838539123535], \"idx\": [\"24\"]}, \"440\": {\"dist\": [0.0012129545211791992], \"idx\": [\"25\"]}, \"441\": {\"dist\": [3.802776336669922e-05], \"idx\": [\"26\"]}, \"442\": {\"dist\": [0.0], \"idx\": [\"27\"]}, \"443\": {\"dist\": [5.6743621826171875e-05], \"idx\": [\"28\"]}, \"444\": {\"dist\": [0.0013952255249023438, 0.09293580055236816], \"idx\": [\"29\", \"42\"]}, \"445\": {\"dist\": [0.023953914642333984], \"idx\": [\"30\"]}, \"448\": {\"dist\": [0.0600048303604126], \"idx\": [\"34\"]}, \"449\": {\"dist\": [0.006703495979309082], \"idx\": [\"35\"]}, \"450\": {\"dist\": [0.0009998679161071777], \"idx\": [\"36\"]}, \"451\": {\"dist\": [6.67572021484375e-06], \"idx\": [\"37\"]}, \"452\": {\"dist\": [0.00040137767791748047], \"idx\": [\"38\"]}, \"453\": {\"dist\": [0.009007453918457031], \"idx\": [\"39\"]}, \"457\": {\"dist\": [0.029283881187438965], \"idx\": [\"42\"]}, \"458\": {\"dist\": [0.002362489700317383], \"idx\": [\"43\"]}, \"459\": {\"dist\": [3.24249267578125e-05], \"idx\": [\"44\"]}, \"460\": {\"dist\": [1.1920928955078125e-07], \"idx\": [\"45\"]}, \"461\": {\"dist\": [0.0], \"idx\": [\"46\"]}, \"462\": {\"dist\": [2.980232238769531e-07], \"idx\": [\"47\"]}, \"463\": {\"dist\": [1.1920928955078125e-07], \"idx\": [\"48\"]}, \"464\": {\"dist\": [-2.384185791015625e-07], \"idx\": [\"49\"]}, \"465\": {\"dist\": [2.562999725341797e-05], \"idx\": [\"50\"]}, \"466\": {\"dist\": [0.0018355846405029297], \"idx\": [\"51\"]}, \"467\": {\"dist\": [0.022684931755065918], \"idx\": [\"52\"]}}'</script>"
      ],
      "text/plain": [
       "<IPython.core.display.HTML object>"
      ]
     },
     "metadata": {},
     "output_type": "display_data"
    },
    {
     "data": {
      "text/html": [
       "<div class=\"text-block\"><span class=\"src nlp_tok\" id=\"map_word_src_0\">BACKGROUND</span><span class=\"src nlp_tok\" id=\"map_word_src_1\">:</span><span class=\"src nlp_tok\" id=\"map_word_src_2\">In</span><span class=\"src nlp_tok\" id=\"map_word_src_3\">the</span><span class=\"src nlp_tok\" id=\"map_word_src_4\">COU</span><span class=\"src nlp_tok\" id=\"map_word_src_5\">-</span><span class=\"src nlp_tok\" id=\"map_word_src_6\">AA-302</span><span class=\"src nlp_tok\" id=\"map_word_src_7\">study</span><span class=\"src nlp_tok\" id=\"map_word_src_8\">(</span><span class=\"src nlp_tok\" id=\"map_word_src_9\">NCT00887198</span><span class=\"src nlp_tok\" id=\"map_word_src_10\">)</span><span class=\"src nlp_tok\" id=\"map_word_src_11\">,</span><span class=\"src nlp_tok\" id=\"map_word_src_12\">abiraterone</span><span class=\"src nlp_tok\" id=\"map_word_src_13\">acetate</span><span class=\"src nlp_tok\" id=\"map_word_src_14\">plus</span><span class=\"src nlp_tok\" id=\"map_word_src_15\">prednisone</span><span class=\"src nlp_tok\" id=\"map_word_src_16\">(</span><span class=\"src nlp_tok\" id=\"map_word_src_17\">AAP</span><span class=\"src nlp_tok\" id=\"map_word_src_18\">)</span><span class=\"src nlp_tok\" id=\"map_word_src_19\">\n",
       "</span><span class=\"src nlp_tok\" id=\"map_word_src_20\">significantly</span><span class=\"src nlp_tok\" id=\"map_word_src_21\">improved</span><span class=\"src nlp_tok\" id=\"map_word_src_22\">outcomes</span><span class=\"src nlp_tok\" id=\"map_word_src_23\">in</span><span class=\"src nlp_tok\" id=\"map_word_src_24\">patients</span><span class=\"src nlp_tok\" id=\"map_word_src_25\">with</span><span class=\"src nlp_tok\" id=\"map_word_src_26\">metastatic</span><span class=\"src nlp_tok\" id=\"map_word_src_27\">castration</span><span class=\"src nlp_tok\" id=\"map_word_src_28\">-</span><span class=\"src nlp_tok\" id=\"map_word_src_29\">resistant</span><span class=\"src nlp_tok\" id=\"map_word_src_30\">prostate</span><span class=\"src nlp_tok\" id=\"map_word_src_31\">cancer</span><span class=\"src nlp_tok\" id=\"map_word_src_32\">(</span><span class=\"src nlp_tok\" id=\"map_word_src_33\">mCRPC</span><span class=\"src nlp_tok\" id=\"map_word_src_34\">)</span><span class=\"src nlp_tok\" id=\"map_word_src_35\">\n",
       "</span><span class=\"src nlp_tok\" id=\"map_word_src_36\">versus</span><span class=\"src nlp_tok\" id=\"map_word_src_37\">prednisone</span><span class=\"src nlp_tok\" id=\"map_word_src_38\">alone</span><span class=\"src nlp_tok\" id=\"map_word_src_39\">.</span><span class=\"src nlp_tok\" id=\"map_word_src_40\">Baseline</span><span class=\"src nlp_tok\" id=\"map_word_src_41\">clinical</span><span class=\"src nlp_tok\" id=\"map_word_src_42\">parameters</span><span class=\"src nlp_tok\" id=\"map_word_src_43\">predicting</span><span class=\"src nlp_tok\" id=\"map_word_src_44\">that</span><span class=\"src nlp_tok\" id=\"map_word_src_45\">treatment</span><span class=\"src nlp_tok\" id=\"map_word_src_46\">response</span><span class=\"src nlp_tok\" id=\"map_word_src_47\">could</span><span class=\"src nlp_tok\" id=\"map_word_src_48\">help</span><span class=\"src nlp_tok\" id=\"map_word_src_49\">inform</span><span class=\"src nlp_tok\" id=\"map_word_src_50\">\n",
       "</span><span class=\"src nlp_tok\" id=\"map_word_src_51\">clinical</span><span class=\"src nlp_tok\" id=\"map_word_src_52\">decisions</span><span class=\"src nlp_tok\" id=\"map_word_src_53\">were</span><span class=\"src nlp_tok\" id=\"map_word_src_54\">explored</span><span class=\"src nlp_tok\" id=\"map_word_src_55\">.</span><span class=\"src nlp_tok\" id=\"map_word_src_56\">OBJECTIVE</span><span class=\"src nlp_tok\" id=\"map_word_src_57\">:</span><span class=\"src nlp_tok\" id=\"map_word_src_58\">To</span><span class=\"src nlp_tok\" id=\"map_word_src_59\">identify</span><span class=\"src nlp_tok\" id=\"map_word_src_60\">patients</span><span class=\"src nlp_tok\" id=\"map_word_src_61\">who</span><span class=\"src nlp_tok\" id=\"map_word_src_62\">derive</span><span class=\"src nlp_tok\" id=\"map_word_src_63\">the</span><span class=\"src nlp_tok\" id=\"map_word_src_64\">greatest</span><span class=\"src nlp_tok\" id=\"map_word_src_65\">clinical</span><span class=\"src nlp_tok\" id=\"map_word_src_66\">benefit</span><span class=\"src nlp_tok\" id=\"map_word_src_67\">\n",
       "</span><span class=\"src nlp_tok\" id=\"map_word_src_68\">from</span><span class=\"src nlp_tok\" id=\"map_word_src_69\">AAP</span><span class=\"src nlp_tok\" id=\"map_word_src_70\">treatment</span><span class=\"src nlp_tok\" id=\"map_word_src_71\">.</span><span class=\"src nlp_tok\" id=\"map_word_src_72\">DESIGN</span><span class=\"src nlp_tok\" id=\"map_word_src_73\">,</span><span class=\"src nlp_tok\" id=\"map_word_src_74\">SETTING</span><span class=\"src nlp_tok\" id=\"map_word_src_75\">,</span><span class=\"src nlp_tok\" id=\"map_word_src_76\">AND</span><span class=\"src nlp_tok\" id=\"map_word_src_77\">PARTICIPANTS</span><span class=\"src nlp_tok\" id=\"map_word_src_78\">:</span><span class=\"src nlp_tok\" id=\"map_word_src_79\">A</span><span class=\"src nlp_tok\" id=\"map_word_src_80\">total</span><span class=\"src nlp_tok\" id=\"map_word_src_81\">of</span><span class=\"src nlp_tok\" id=\"map_word_src_82\">1088</span><span class=\"src nlp_tok\" id=\"map_word_src_83\">mCRPC</span><span class=\"src nlp_tok\" id=\"map_word_src_84\">patients</span><span class=\"src nlp_tok\" id=\"map_word_src_85\">treated</span><span class=\"src nlp_tok\" id=\"map_word_src_86\">with</span><span class=\"src nlp_tok\" id=\"map_word_src_87\">either</span><span class=\"src nlp_tok\" id=\"map_word_src_88\">\n",
       "</span><span class=\"src nlp_tok\" id=\"map_word_src_89\">AAP</span><span class=\"src nlp_tok\" id=\"map_word_src_90\">or</span><span class=\"src nlp_tok\" id=\"map_word_src_91\">prednisone</span><span class=\"src nlp_tok\" id=\"map_word_src_92\">in</span><span class=\"src nlp_tok\" id=\"map_word_src_93\">the</span><span class=\"src nlp_tok\" id=\"map_word_src_94\">first</span><span class=\"src nlp_tok\" id=\"map_word_src_95\">-</span><span class=\"src nlp_tok\" id=\"map_word_src_96\">line</span><span class=\"src nlp_tok\" id=\"map_word_src_97\">setting</span><span class=\"src nlp_tok\" id=\"map_word_src_98\">in</span><span class=\"src nlp_tok\" id=\"map_word_src_99\">COU</span><span class=\"src nlp_tok\" id=\"map_word_src_100\">-</span><span class=\"src nlp_tok\" id=\"map_word_src_101\">AA-302</span><span class=\"src nlp_tok\" id=\"map_word_src_102\">were</span><span class=\"src nlp_tok\" id=\"map_word_src_103\">included</span><span class=\"src nlp_tok\" id=\"map_word_src_104\">in</span><span class=\"src nlp_tok\" id=\"map_word_src_105\">this</span><span class=\"src nlp_tok\" id=\"map_word_src_106\">post</span><span class=\"src nlp_tok\" id=\"map_word_src_107\">hoc</span><span class=\"src nlp_tok\" id=\"map_word_src_108\">analysis</span><span class=\"src nlp_tok\" id=\"map_word_src_109\">.</span><span class=\"src nlp_tok\" id=\"map_word_src_110\">\n",
       "</span><span class=\"src nlp_tok\" id=\"map_word_src_111\">INTERVENTION</span><span class=\"src nlp_tok\" id=\"map_word_src_112\">:</span><span class=\"src nlp_tok\" id=\"map_word_src_113\">Abiraterone</span><span class=\"src nlp_tok\" id=\"map_word_src_114\">acetate1000</span><span class=\"src nlp_tok\" id=\"map_word_src_115\">mg</span><span class=\"src nlp_tok\" id=\"map_word_src_116\">daily</span><span class=\"src nlp_tok\" id=\"map_word_src_117\">versus</span><span class=\"src nlp_tok\" id=\"map_word_src_118\">placebo</span><span class=\"src nlp_tok\" id=\"map_word_src_119\">,</span><span class=\"src nlp_tok\" id=\"map_word_src_120\">both</span><span class=\"src nlp_tok\" id=\"map_word_src_121\">plus</span><span class=\"src nlp_tok\" id=\"map_word_src_122\">prednisone</span><span class=\"src nlp_tok\" id=\"map_word_src_123\">10</span><span class=\"src nlp_tok\" id=\"map_word_src_124\">mg</span><span class=\"src nlp_tok\" id=\"map_word_src_125\">daily</span><span class=\"src nlp_tok\" id=\"map_word_src_126\">.</span><span class=\"src nlp_tok\" id=\"map_word_src_127\">\n",
       "</span><span class=\"src nlp_tok\" id=\"map_word_src_128\">OUTCOME</span><span class=\"src nlp_tok\" id=\"map_word_src_129\">MEASUREMENTS</span><span class=\"src nlp_tok\" id=\"map_word_src_130\">AND</span><span class=\"src nlp_tok\" id=\"map_word_src_131\">STATISTICAL</span><span class=\"src nlp_tok\" id=\"map_word_src_132\">ANALYSIS</span><span class=\"src nlp_tok\" id=\"map_word_src_133\">:</span><span class=\"src nlp_tok\" id=\"map_word_src_134\">Univariate</span><span class=\"src nlp_tok\" id=\"map_word_src_135\">and</span><span class=\"src nlp_tok\" id=\"map_word_src_136\">multivariable</span><span class=\"src nlp_tok\" id=\"map_word_src_137\">Cox</span><span class=\"src nlp_tok\" id=\"map_word_src_138\">regression</span><span class=\"src nlp_tok\" id=\"map_word_src_139\">\n",
       "</span><span class=\"src nlp_tok\" id=\"map_word_src_140\">analyses</span><span class=\"src nlp_tok\" id=\"map_word_src_141\">were</span><span class=\"src nlp_tok\" id=\"map_word_src_142\">performed</span><span class=\"src nlp_tok\" id=\"map_word_src_143\">,</span><span class=\"src nlp_tok\" id=\"map_word_src_144\">including</span><span class=\"src nlp_tok\" id=\"map_word_src_145\">clinical</span><span class=\"src nlp_tok\" id=\"map_word_src_146\">and</span><span class=\"src nlp_tok\" id=\"map_word_src_147\">pathological</span><span class=\"src nlp_tok\" id=\"map_word_src_148\">parameters</span><span class=\"src nlp_tok\" id=\"map_word_src_149\">for</span><span class=\"src nlp_tok\" id=\"map_word_src_150\">the</span><span class=\"src nlp_tok\" id=\"map_word_src_151\">primary</span><span class=\"src nlp_tok\" id=\"map_word_src_152\">end</span><span class=\"src nlp_tok\" id=\"map_word_src_153\">points</span><span class=\"src nlp_tok\" id=\"map_word_src_154\">overall</span><span class=\"src nlp_tok\" id=\"map_word_src_155\">\n",
       "</span><span class=\"src nlp_tok\" id=\"map_word_src_156\">survival</span><span class=\"src nlp_tok\" id=\"map_word_src_157\">(</span><span class=\"src nlp_tok\" id=\"map_word_src_158\">OS</span><span class=\"src nlp_tok\" id=\"map_word_src_159\">)</span><span class=\"src nlp_tok\" id=\"map_word_src_160\">and</span><span class=\"src nlp_tok\" id=\"map_word_src_161\">radiographic</span><span class=\"src nlp_tok\" id=\"map_word_src_162\">progression</span><span class=\"src nlp_tok\" id=\"map_word_src_163\">-</span><span class=\"src nlp_tok\" id=\"map_word_src_164\">free</span><span class=\"src nlp_tok\" id=\"map_word_src_165\">survival</span><span class=\"src nlp_tok\" id=\"map_word_src_166\">(</span><span class=\"src nlp_tok\" id=\"map_word_src_167\">rPFS</span><span class=\"src nlp_tok\" id=\"map_word_src_168\">)</span><span class=\"src nlp_tok\" id=\"map_word_src_169\">,</span><span class=\"src nlp_tok\" id=\"map_word_src_170\">and</span><span class=\"src nlp_tok\" id=\"map_word_src_171\">secondary</span><span class=\"src nlp_tok\" id=\"map_word_src_172\">study</span><span class=\"src nlp_tok\" id=\"map_word_src_173\">end</span><span class=\"src nlp_tok\" id=\"map_word_src_174\">points</span><span class=\"src nlp_tok\" id=\"map_word_src_175\">.</span><span class=\"src nlp_tok\" id=\"map_word_src_176\">\n",
       "</span><span class=\"src nlp_tok\" id=\"map_word_src_177\">Tumor</span><span class=\"src nlp_tok\" id=\"map_word_src_178\">-</span><span class=\"src nlp_tok\" id=\"map_word_src_179\">associated</span><span class=\"src nlp_tok\" id=\"map_word_src_180\">baseline</span><span class=\"src nlp_tok\" id=\"map_word_src_181\">parameters</span><span class=\"src nlp_tok\" id=\"map_word_src_182\">independently</span><span class=\"src nlp_tok\" id=\"map_word_src_183\">impacting</span><span class=\"src nlp_tok\" id=\"map_word_src_184\">OS</span><span class=\"src nlp_tok\" id=\"map_word_src_185\">were</span><span class=\"src nlp_tok\" id=\"map_word_src_186\">applied</span><span class=\"src nlp_tok\" id=\"map_word_src_187\">to</span><span class=\"src nlp_tok\" id=\"map_word_src_188\">stratify</span><span class=\"src nlp_tok\" id=\"map_word_src_189\">patients</span><span class=\"src nlp_tok\" id=\"map_word_src_190\">according</span><span class=\"src nlp_tok\" id=\"map_word_src_191\">\n",
       "</span><span class=\"src nlp_tok\" id=\"map_word_src_192\">to</span><span class=\"src nlp_tok\" id=\"map_word_src_193\">possible</span><span class=\"src nlp_tok\" id=\"map_word_src_194\">treatment</span><span class=\"src nlp_tok\" id=\"map_word_src_195\">effects</span><span class=\"src nlp_tok\" id=\"map_word_src_196\">.</span><span class=\"src nlp_tok\" id=\"map_word_src_197\">RESULTS</span><span class=\"src nlp_tok\" id=\"map_word_src_198\">AND</span><span class=\"src nlp_tok\" id=\"map_word_src_199\">LIMITATIONS</span><span class=\"src nlp_tok\" id=\"map_word_src_200\">:</span><span class=\"src nlp_tok\" id=\"map_word_src_201\">Baseline</span><span class=\"src nlp_tok\" id=\"map_word_src_202\">prostate</span><span class=\"src nlp_tok\" id=\"map_word_src_203\">-</span><span class=\"src nlp_tok\" id=\"map_word_src_204\">specific</span><span class=\"src nlp_tok\" id=\"map_word_src_205\">antigen</span><span class=\"src nlp_tok\" id=\"map_word_src_206\">(</span><span class=\"src nlp_tok\" id=\"map_word_src_207\">PSA</span><span class=\"src nlp_tok\" id=\"map_word_src_208\">)</span><span class=\"src nlp_tok\" id=\"map_word_src_209\">,</span><span class=\"src nlp_tok\" id=\"map_word_src_210\">tumor</span><span class=\"src nlp_tok\" id=\"map_word_src_211\">-</span><span class=\"src nlp_tok\" id=\"map_word_src_212\">related</span><span class=\"src nlp_tok\" id=\"map_word_src_213\">\n",
       "</span><span class=\"src nlp_tok\" id=\"map_word_src_214\">pain</span><span class=\"src nlp_tok\" id=\"map_word_src_215\">as</span><span class=\"src nlp_tok\" id=\"map_word_src_216\">assessed</span><span class=\"src nlp_tok\" id=\"map_word_src_217\">by</span><span class=\"src nlp_tok\" id=\"map_word_src_218\">the</span><span class=\"src nlp_tok\" id=\"map_word_src_219\">Brief</span><span class=\"src nlp_tok\" id=\"map_word_src_220\">Pain</span><span class=\"src nlp_tok\" id=\"map_word_src_221\">Inventory</span><span class=\"src nlp_tok\" id=\"map_word_src_222\">-</span><span class=\"src nlp_tok\" id=\"map_word_src_223\">Short</span><span class=\"src nlp_tok\" id=\"map_word_src_224\">Form</span><span class=\"src nlp_tok\" id=\"map_word_src_225\">(</span><span class=\"src nlp_tok\" id=\"map_word_src_226\">BPI</span><span class=\"src nlp_tok\" id=\"map_word_src_227\">-</span><span class=\"src nlp_tok\" id=\"map_word_src_228\">SF</span><span class=\"src nlp_tok\" id=\"map_word_src_229\">)</span><span class=\"src nlp_tok\" id=\"map_word_src_230\">,</span><span class=\"src nlp_tok\" id=\"map_word_src_231\">and</span><span class=\"src nlp_tok\" id=\"map_word_src_232\">Gleason</span><span class=\"src nlp_tok\" id=\"map_word_src_233\">score</span><span class=\"src nlp_tok\" id=\"map_word_src_234\">(</span><span class=\"src nlp_tok\" id=\"map_word_src_235\">GS</span><span class=\"src nlp_tok\" id=\"map_word_src_236\">)</span><span class=\"src nlp_tok\" id=\"map_word_src_237\">at</span><span class=\"src nlp_tok\" id=\"map_word_src_238\">primary</span><span class=\"src nlp_tok\" id=\"map_word_src_239\">diagnosis</span><span class=\"src nlp_tok\" id=\"map_word_src_240\">\n",
       "</span><span class=\"src nlp_tok\" id=\"map_word_src_241\">were</span><span class=\"src nlp_tok\" id=\"map_word_src_242\">identified</span><span class=\"src nlp_tok\" id=\"map_word_src_243\">as</span><span class=\"src nlp_tok\" id=\"map_word_src_244\">tumor</span><span class=\"src nlp_tok\" id=\"map_word_src_245\">-</span><span class=\"src nlp_tok\" id=\"map_word_src_246\">associated</span><span class=\"src nlp_tok\" id=\"map_word_src_247\">variables</span><span class=\"src nlp_tok\" id=\"map_word_src_248\">that</span><span class=\"src nlp_tok\" id=\"map_word_src_249\">independently</span><span class=\"src nlp_tok\" id=\"map_word_src_250\">impacted</span><span class=\"src nlp_tok\" id=\"map_word_src_251\">OS</span><span class=\"src nlp_tok\" id=\"map_word_src_252\">.</span><span class=\"src nlp_tok\" id=\"map_word_src_253\">AAP</span><span class=\"src nlp_tok\" id=\"map_word_src_254\">significantly</span><span class=\"src nlp_tok\" id=\"map_word_src_255\">improved</span><span class=\"src nlp_tok\" id=\"map_word_src_256\">\n",
       "</span><span class=\"src nlp_tok\" id=\"map_word_src_257\">outcomes</span><span class=\"src nlp_tok\" id=\"map_word_src_258\">versus</span><span class=\"src nlp_tok\" id=\"map_word_src_259\">prednisone</span><span class=\"src nlp_tok\" id=\"map_word_src_260\">in</span><span class=\"src nlp_tok\" id=\"map_word_src_261\">both</span><span class=\"src nlp_tok\" id=\"map_word_src_262\">group</span><span class=\"src nlp_tok\" id=\"map_word_src_263\">1</span><span class=\"src nlp_tok\" id=\"map_word_src_264\">(</span><span class=\"src nlp_tok\" id=\"map_word_src_265\">BPI</span><span class=\"src nlp_tok\" id=\"map_word_src_266\">-</span><span class=\"src nlp_tok\" id=\"map_word_src_267\">SF</span><span class=\"src nlp_tok\" id=\"map_word_src_268\">0</span><span class=\"src nlp_tok\" id=\"map_word_src_269\">-</span><span class=\"src nlp_tok\" id=\"map_word_src_270\">1</span><span class=\"src nlp_tok\" id=\"map_word_src_271\">and</span><span class=\"src nlp_tok\" id=\"map_word_src_272\">PSA</span><span class=\"src nlp_tok\" id=\"map_word_src_273\"><</span><span class=\"src nlp_tok\" id=\"map_word_src_274\">80</span><span class=\"src nlp_tok\" id=\"map_word_src_275\">ng</span><span class=\"src nlp_tok\" id=\"map_word_src_276\">/</span><span class=\"src nlp_tok\" id=\"map_word_src_277\">ml</span><span class=\"src nlp_tok\" id=\"map_word_src_278\">and</span><span class=\"src nlp_tok\" id=\"map_word_src_279\">GS</span><span class=\"src nlp_tok\" id=\"map_word_src_280\"><</span><span class=\"src nlp_tok\" id=\"map_word_src_281\">8</span><span class=\"src nlp_tok\" id=\"map_word_src_282\">;</span><span class=\"src nlp_tok\" id=\"map_word_src_283\">p=0.006</span><span class=\"src nlp_tok\" id=\"map_word_src_284\">;</span><span class=\"src nlp_tok\" id=\"map_word_src_285\">hazard</span><span class=\"src nlp_tok\" id=\"map_word_src_286\">ratio</span><span class=\"src nlp_tok\" id=\"map_word_src_287\">\n",
       "</span><span class=\"src nlp_tok\" id=\"map_word_src_288\">[</span><span class=\"src nlp_tok\" id=\"map_word_src_289\">HR</span><span class=\"src nlp_tok\" id=\"map_word_src_290\">]</span><span class=\"src nlp_tok\" id=\"map_word_src_291\">:</span><span class=\"src nlp_tok\" id=\"map_word_src_292\">0.61</span><span class=\"src nlp_tok\" id=\"map_word_src_293\">)</span><span class=\"src nlp_tok\" id=\"map_word_src_294\">and</span><span class=\"src nlp_tok\" id=\"map_word_src_295\">group</span><span class=\"src nlp_tok\" id=\"map_word_src_296\">2</span><span class=\"src nlp_tok\" id=\"map_word_src_297\">(</span><span class=\"src nlp_tok\" id=\"map_word_src_298\">BPI</span><span class=\"src nlp_tok\" id=\"map_word_src_299\">-</span><span class=\"src nlp_tok\" id=\"map_word_src_300\">SF</span><span class=\"src nlp_tok\" id=\"map_word_src_301\">2</span><span class=\"src nlp_tok\" id=\"map_word_src_302\">-</span><span class=\"src nlp_tok\" id=\"map_word_src_303\">3</span><span class=\"src nlp_tok\" id=\"map_word_src_304\">and/or</span><span class=\"src nlp_tok\" id=\"map_word_src_305\">PSA</span><span class=\"src nlp_tok\" id=\"map_word_src_306\">≥80</span><span class=\"src nlp_tok\" id=\"map_word_src_307\">ng</span><span class=\"src nlp_tok\" id=\"map_word_src_308\">/</span><span class=\"src nlp_tok\" id=\"map_word_src_309\">ml</span><span class=\"src nlp_tok\" id=\"map_word_src_310\">and/or</span><span class=\"src nlp_tok\" id=\"map_word_src_311\">GS</span><span class=\"src nlp_tok\" id=\"map_word_src_312\">≥8</span><span class=\"src nlp_tok\" id=\"map_word_src_313\">;</span><span class=\"src nlp_tok\" id=\"map_word_src_314\">p=0.03</span><span class=\"src nlp_tok\" id=\"map_word_src_315\">;</span><span class=\"src nlp_tok\" id=\"map_word_src_316\">HR</span><span class=\"src nlp_tok\" id=\"map_word_src_317\">:</span><span class=\"src nlp_tok\" id=\"map_word_src_318\">0.84</span><span class=\"src nlp_tok\" id=\"map_word_src_319\">)</span><span class=\"src nlp_tok\" id=\"map_word_src_320\">.</span><span class=\"src nlp_tok\" id=\"map_word_src_321\">\n",
       "</span><span class=\"src nlp_tok\" id=\"map_word_src_322\">The</span><span class=\"src nlp_tok\" id=\"map_word_src_323\">differences</span><span class=\"src nlp_tok\" id=\"map_word_src_324\">observed</span><span class=\"src nlp_tok\" id=\"map_word_src_325\">for</span><span class=\"src nlp_tok\" id=\"map_word_src_326\">treatment</span><span class=\"src nlp_tok\" id=\"map_word_src_327\">effects</span><span class=\"src nlp_tok\" id=\"map_word_src_328\">between</span><span class=\"src nlp_tok\" id=\"map_word_src_329\">groups</span><span class=\"src nlp_tok\" id=\"map_word_src_330\">1</span><span class=\"src nlp_tok\" id=\"map_word_src_331\">and</span><span class=\"src nlp_tok\" id=\"map_word_src_332\">2</span><span class=\"src nlp_tok\" id=\"map_word_src_333\">for</span><span class=\"src nlp_tok\" id=\"map_word_src_334\">OS</span><span class=\"src nlp_tok\" id=\"map_word_src_335\">(</span><span class=\"src nlp_tok\" id=\"map_word_src_336\">HR</span><span class=\"src nlp_tok\" id=\"map_word_src_337\">:</span><span class=\"src nlp_tok\" id=\"map_word_src_338\">0.61</span><span class=\"src nlp_tok\" id=\"map_word_src_339\">vs</span><span class=\"src nlp_tok\" id=\"map_word_src_340\">0.84</span><span class=\"src nlp_tok\" id=\"map_word_src_341\">)</span><span class=\"src nlp_tok\" id=\"map_word_src_342\">,</span><span class=\"src nlp_tok\" id=\"map_word_src_343\">rPFS</span><span class=\"src nlp_tok\" id=\"map_word_src_344\">\n",
       "</span><span class=\"src nlp_tok\" id=\"map_word_src_345\">(</span><span class=\"src nlp_tok\" id=\"map_word_src_346\">HR</span><span class=\"src nlp_tok\" id=\"map_word_src_347\">:</span><span class=\"src nlp_tok\" id=\"map_word_src_348\">0.41</span><span class=\"src nlp_tok\" id=\"map_word_src_349\">vs</span><span class=\"src nlp_tok\" id=\"map_word_src_350\">0.59</span><span class=\"src nlp_tok\" id=\"map_word_src_351\">)</span><span class=\"src nlp_tok\" id=\"map_word_src_352\">,</span><span class=\"src nlp_tok\" id=\"map_word_src_353\">and</span><span class=\"src nlp_tok\" id=\"map_word_src_354\">time</span><span class=\"src nlp_tok\" id=\"map_word_src_355\">to</span><span class=\"src nlp_tok\" id=\"map_word_src_356\">chemotherapy</span><span class=\"src nlp_tok\" id=\"map_word_src_357\">(</span><span class=\"src nlp_tok\" id=\"map_word_src_358\">HR</span><span class=\"src nlp_tok\" id=\"map_word_src_359\">:</span><span class=\"src nlp_tok\" id=\"map_word_src_360\">0.64</span><span class=\"src nlp_tok\" id=\"map_word_src_361\">vs</span><span class=\"src nlp_tok\" id=\"map_word_src_362\">0.71</span><span class=\"src nlp_tok\" id=\"map_word_src_363\">)</span><span class=\"src nlp_tok\" id=\"map_word_src_364\">were</span><span class=\"src nlp_tok\" id=\"map_word_src_365\">not</span><span class=\"src nlp_tok\" id=\"map_word_src_366\">statistically</span><span class=\"src nlp_tok\" id=\"map_word_src_367\">significant</span><span class=\"src nlp_tok\" id=\"map_word_src_368\">.</span><span class=\"src nlp_tok\" id=\"map_word_src_369\">\n",
       "</span><span class=\"src nlp_tok\" id=\"map_word_src_370\">CONCLUSIONS</span><span class=\"src nlp_tok\" id=\"map_word_src_371\">:</span><span class=\"src nlp_tok\" id=\"map_word_src_372\">AAP</span><span class=\"src nlp_tok\" id=\"map_word_src_373\">significantly</span><span class=\"src nlp_tok\" id=\"map_word_src_374\">improved</span><span class=\"src nlp_tok\" id=\"map_word_src_375\">outcomes</span><span class=\"src nlp_tok\" id=\"map_word_src_376\">in</span><span class=\"src nlp_tok\" id=\"map_word_src_377\">mCRPC</span><span class=\"src nlp_tok\" id=\"map_word_src_378\">patients</span><span class=\"src nlp_tok\" id=\"map_word_src_379\">compared</span><span class=\"src nlp_tok\" id=\"map_word_src_380\">with</span><span class=\"src nlp_tok\" id=\"map_word_src_381\">prednisone</span><span class=\"src nlp_tok\" id=\"map_word_src_382\">alone</span><span class=\"src nlp_tok\" id=\"map_word_src_383\">regardless</span><span class=\"src nlp_tok\" id=\"map_word_src_384\">\n",
       "</span><span class=\"src nlp_tok\" id=\"map_word_src_385\">of</span><span class=\"src nlp_tok\" id=\"map_word_src_386\">baseline</span><span class=\"src nlp_tok\" id=\"map_word_src_387\">pain</span><span class=\"src nlp_tok\" id=\"map_word_src_388\">and</span><span class=\"src nlp_tok\" id=\"map_word_src_389\">PSA</span><span class=\"src nlp_tok\" id=\"map_word_src_390\">level</span><span class=\"src nlp_tok\" id=\"map_word_src_391\">,</span><span class=\"src nlp_tok\" id=\"map_word_src_392\">and</span><span class=\"src nlp_tok\" id=\"map_word_src_393\">GS</span><span class=\"src nlp_tok\" id=\"map_word_src_394\">at</span><span class=\"src nlp_tok\" id=\"map_word_src_395\">primary</span><span class=\"src nlp_tok\" id=\"map_word_src_396\">diagnosis</span><span class=\"src nlp_tok\" id=\"map_word_src_397\">with</span><span class=\"src nlp_tok\" id=\"map_word_src_398\">no</span><span class=\"src nlp_tok\" id=\"map_word_src_399\">significant</span><span class=\"src nlp_tok\" id=\"map_word_src_400\">differences</span><span class=\"src nlp_tok\" id=\"map_word_src_401\">between</span><span class=\"src nlp_tok\" id=\"map_word_src_402\">observed</span><span class=\"src nlp_tok\" id=\"map_word_src_403\">\n",
       "</span><span class=\"src nlp_tok\" id=\"map_word_src_404\">treatment</span><span class=\"src nlp_tok\" id=\"map_word_src_405\">effects</span><span class=\"src nlp_tok\" id=\"map_word_src_406\">in</span><span class=\"src nlp_tok\" id=\"map_word_src_407\">groups</span><span class=\"src nlp_tok\" id=\"map_word_src_408\">1</span><span class=\"src nlp_tok\" id=\"map_word_src_409\">and</span><span class=\"src nlp_tok\" id=\"map_word_src_410\">2</span><span class=\"src nlp_tok\" id=\"map_word_src_411\">.</span><span class=\"src nlp_tok\" id=\"map_word_src_412\">PATIENT</span><span class=\"src nlp_tok\" id=\"map_word_src_413\">SUMMARY</span><span class=\"src nlp_tok\" id=\"map_word_src_414\">:</span><span class=\"src nlp_tok\" id=\"map_word_src_415\">Treatment</span><span class=\"src nlp_tok\" id=\"map_word_src_416\">with</span><span class=\"src nlp_tok\" id=\"map_word_src_417\">abiraterone</span><span class=\"src nlp_tok\" id=\"map_word_src_418\">acetate</span><span class=\"src nlp_tok\" id=\"map_word_src_419\">and</span><span class=\"src nlp_tok\" id=\"map_word_src_420\">prednisone</span><span class=\"src nlp_tok\" id=\"map_word_src_421\">\n",
       "</span><span class=\"src nlp_tok\" id=\"map_word_src_422\">(</span><span class=\"src nlp_tok\" id=\"map_word_src_423\">compared</span><span class=\"src nlp_tok\" id=\"map_word_src_424\">with</span><span class=\"src nlp_tok\" id=\"map_word_src_425\">treatment</span><span class=\"src nlp_tok\" id=\"map_word_src_426\">with</span><span class=\"src nlp_tok\" id=\"map_word_src_427\">prednisone</span><span class=\"src nlp_tok\" id=\"map_word_src_428\">only</span><span class=\"src nlp_tok\" id=\"map_word_src_429\">)</span><span class=\"src nlp_tok\" id=\"map_word_src_430\">for</span><span class=\"src nlp_tok\" id=\"map_word_src_431\">metastatic</span><span class=\"src nlp_tok\" id=\"map_word_src_432\">castration</span><span class=\"src nlp_tok\" id=\"map_word_src_433\">-</span><span class=\"src nlp_tok\" id=\"map_word_src_434\">resistant</span><span class=\"src nlp_tok\" id=\"map_word_src_435\">prostate</span><span class=\"src nlp_tok\" id=\"map_word_src_436\">cancer</span><span class=\"src nlp_tok\" id=\"map_word_src_437\">\n",
       "</span><span class=\"src nlp_tok\" id=\"map_word_src_438\">increased</span><span class=\"src nlp_tok\" id=\"map_word_src_439\">survival</span><span class=\"src nlp_tok\" id=\"map_word_src_440\">in</span><span class=\"src nlp_tok\" id=\"map_word_src_441\">all</span><span class=\"src nlp_tok\" id=\"map_word_src_442\">patients</span><span class=\"src nlp_tok\" id=\"map_word_src_443\">in</span><span class=\"src nlp_tok\" id=\"map_word_src_444\">the</span><span class=\"src nlp_tok\" id=\"map_word_src_445\">study</span><span class=\"src nlp_tok\" id=\"map_word_src_446\">regardless</span><span class=\"src nlp_tok\" id=\"map_word_src_447\">of</span><span class=\"src nlp_tok\" id=\"map_word_src_448\">pain</span><span class=\"src nlp_tok\" id=\"map_word_src_449\">,</span><span class=\"src nlp_tok\" id=\"map_word_src_450\">prostate</span><span class=\"src nlp_tok\" id=\"map_word_src_451\">-</span><span class=\"src nlp_tok\" id=\"map_word_src_452\">specific</span><span class=\"src nlp_tok\" id=\"map_word_src_453\">antigen</span><span class=\"src nlp_tok\" id=\"map_word_src_454\">levels</span><span class=\"src nlp_tok\" id=\"map_word_src_455\">\n",
       "</span><span class=\"src nlp_tok\" id=\"map_word_src_456\">at</span><span class=\"src nlp_tok\" id=\"map_word_src_457\">the</span><span class=\"src nlp_tok\" id=\"map_word_src_458\">start</span><span class=\"src nlp_tok\" id=\"map_word_src_459\">of</span><span class=\"src nlp_tok\" id=\"map_word_src_460\">treatment</span><span class=\"src nlp_tok\" id=\"map_word_src_461\">,</span><span class=\"src nlp_tok\" id=\"map_word_src_462\">and</span><span class=\"src nlp_tok\" id=\"map_word_src_463\">Gleason</span><span class=\"src nlp_tok\" id=\"map_word_src_464\">score</span><span class=\"src nlp_tok\" id=\"map_word_src_465\">at</span><span class=\"src nlp_tok\" id=\"map_word_src_466\">primary</span><span class=\"src nlp_tok\" id=\"map_word_src_467\">diagnosis</span><span class=\"src nlp_tok\" id=\"map_word_src_468\">.</span></div>"
      ],
      "text/plain": [
       "<IPython.core.display.HTML object>"
      ]
     },
     "metadata": {},
     "output_type": "display_data"
    },
    {
     "data": {
      "text/html": [
       "<h3 class=\"text-primary\">Sentence B</h3>"
      ],
      "text/plain": [
       "<IPython.core.display.HTML object>"
      ]
     },
     "metadata": {},
     "output_type": "display_data"
    },
    {
     "data": {
      "text/html": [
       "<script>window.edge_data2 = '{\"2\": {\"dist\": [0.016687512397766113], \"idx\": [\"416\"]}, \"3\": {\"dist\": [0.0025945305824279785], \"idx\": [\"417\"]}, \"4\": {\"dist\": [0.008763313293457031], \"idx\": [\"418\"]}, \"5\": {\"dist\": [0.03224223852157593], \"idx\": [\"419\"]}, \"8\": {\"dist\": [0.020077824592590332], \"idx\": [\"423\"]}, \"9\": {\"dist\": [0.0006245970726013184], \"idx\": [\"424\"]}, \"10\": {\"dist\": [2.9087066650390625e-05], \"idx\": [\"425\"]}, \"11\": {\"dist\": [1.4007091522216797e-05], \"idx\": [\"426\"]}, \"12\": {\"dist\": [0.0008963346481323242], \"idx\": [\"427\"]}, \"13\": {\"dist\": [0.020281314849853516], \"idx\": [\"428\"]}, \"17\": {\"dist\": [0.04427701234817505, 0.02114015817642212], \"idx\": [\"26\", \"431\"]}, \"18\": {\"dist\": [0.006211042404174805, 0.004466593265533447], \"idx\": [\"27\", \"432\"]}, \"19\": {\"dist\": [0.0005973577499389648, 0.0004544258117675781], \"idx\": [\"28\", \"433\"]}, \"20\": {\"dist\": [0.00035071372985839844, 0.0008549690246582031], \"idx\": [\"29\", \"434\"]}, \"21\": {\"dist\": [0.006457805633544922, 0.0073449015617370605], \"idx\": [\"30\", \"435\"]}, \"24\": {\"dist\": [0.03128838539123535], \"idx\": [\"439\"]}, \"25\": {\"dist\": [0.0012129545211791992], \"idx\": [\"440\"]}, \"26\": {\"dist\": [3.802776336669922e-05], \"idx\": [\"441\"]}, \"27\": {\"dist\": [0.0], \"idx\": [\"442\"]}, \"28\": {\"dist\": [5.6743621826171875e-05], \"idx\": [\"443\"]}, \"29\": {\"dist\": [0.0013952255249023438], \"idx\": [\"444\"]}, \"30\": {\"dist\": [0.023953914642333984], \"idx\": [\"445\"]}, \"32\": {\"dist\": [0.07528722286224365], \"idx\": [\"384\"]}, \"34\": {\"dist\": [0.0600048303604126], \"idx\": [\"448\"]}, \"35\": {\"dist\": [0.006703495979309082], \"idx\": [\"449\"]}, \"36\": {\"dist\": [0.0009998679161071777], \"idx\": [\"450\"]}, \"37\": {\"dist\": [0.05108797550201416, 6.67572021484375e-06], \"idx\": [\"203\", \"451\"]}, \"38\": {\"dist\": [0.035068631172180176, 0.00040137767791748047], \"idx\": [\"204\", \"452\"]}, \"39\": {\"dist\": [0.009007453918457031], \"idx\": [\"453\"]}, \"42\": {\"dist\": [0.09293580055236816, 0.029283881187438965], \"idx\": [\"444\", \"457\"]}, \"43\": {\"dist\": [0.002362489700317383], \"idx\": [\"458\"]}, \"44\": {\"dist\": [3.24249267578125e-05], \"idx\": [\"459\"]}, \"45\": {\"dist\": [1.1920928955078125e-07], \"idx\": [\"460\"]}, \"46\": {\"dist\": [0.0], \"idx\": [\"461\"]}, \"47\": {\"dist\": [0.03962278366088867, 2.980232238769531e-07], \"idx\": [\"231\", \"462\"]}, \"48\": {\"dist\": [0.01484060287475586, 1.1920928955078125e-07], \"idx\": [\"232\", \"463\"]}, \"49\": {\"dist\": [-2.384185791015625e-07], \"idx\": [\"464\"]}, \"50\": {\"dist\": [2.562999725341797e-05], \"idx\": [\"465\"]}, \"51\": {\"dist\": [0.045661211013793945, 0.05053102970123291, 0.0018355846405029297], \"idx\": [\"238\", \"395\", \"466\"]}, \"52\": {\"dist\": [0.022684931755065918], \"idx\": [\"467\"]}}'</script>"
      ],
      "text/plain": [
       "<IPython.core.display.HTML object>"
      ]
     },
     "metadata": {},
     "output_type": "display_data"
    },
    {
     "data": {
      "text/html": [
       "<div class=\"text-block\"><span class=\"tgt nlp_tok\" id=\"map_word_tgt_0\">'</span><span class=\"tgt nlp_tok\" id=\"map_word_tgt_1\">Treatment</span><span class=\"tgt nlp_tok\" id=\"map_word_tgt_2\">with</span><span class=\"tgt nlp_tok\" id=\"map_word_tgt_3\">abiraterone</span><span class=\"tgt nlp_tok\" id=\"map_word_tgt_4\">acetate</span><span class=\"tgt nlp_tok\" id=\"map_word_tgt_5\">and</span><span class=\"tgt nlp_tok\" id=\"map_word_tgt_6\">prednisone</span><span class=\"tgt nlp_tok\" id=\"map_word_tgt_7\">(</span><span class=\"tgt nlp_tok\" id=\"map_word_tgt_8\">compared</span><span class=\"tgt nlp_tok\" id=\"map_word_tgt_9\">with</span><span class=\"tgt nlp_tok\" id=\"map_word_tgt_10\">treatment</span><span class=\"tgt nlp_tok\" id=\"map_word_tgt_11\">with</span><span class=\"tgt nlp_tok\" id=\"map_word_tgt_12\">prednisone</span><span class=\"tgt nlp_tok\" id=\"map_word_tgt_13\">only</span><span class=\"tgt nlp_tok\" id=\"map_word_tgt_14\">)</span><span class=\"tgt nlp_tok\" id=\"map_word_tgt_15\">\n",
       "</span><span class=\"tgt nlp_tok\" id=\"map_word_tgt_16\">for</span><span class=\"tgt nlp_tok\" id=\"map_word_tgt_17\">metastatic</span><span class=\"tgt nlp_tok\" id=\"map_word_tgt_18\">castration</span><span class=\"tgt nlp_tok\" id=\"map_word_tgt_19\">-</span><span class=\"tgt nlp_tok\" id=\"map_word_tgt_20\">resistant</span><span class=\"tgt nlp_tok\" id=\"map_word_tgt_21\">prostate</span><span class=\"tgt nlp_tok\" id=\"map_word_tgt_22\">cancer</span><span class=\"tgt nlp_tok\" id=\"map_word_tgt_23\">increased</span><span class=\"tgt nlp_tok\" id=\"map_word_tgt_24\">survival</span><span class=\"tgt nlp_tok\" id=\"map_word_tgt_25\">in</span><span class=\"tgt nlp_tok\" id=\"map_word_tgt_26\">all</span><span class=\"tgt nlp_tok\" id=\"map_word_tgt_27\">patients</span><span class=\"tgt nlp_tok\" id=\"map_word_tgt_28\">in</span><span class=\"tgt nlp_tok\" id=\"map_word_tgt_29\">the</span><span class=\"tgt nlp_tok\" id=\"map_word_tgt_30\">study</span><span class=\"tgt nlp_tok\" id=\"map_word_tgt_31\">regardless</span><span class=\"tgt nlp_tok\" id=\"map_word_tgt_32\">\n",
       "</span><span class=\"tgt nlp_tok\" id=\"map_word_tgt_33\">of</span><span class=\"tgt nlp_tok\" id=\"map_word_tgt_34\">pain</span><span class=\"tgt nlp_tok\" id=\"map_word_tgt_35\">,</span><span class=\"tgt nlp_tok\" id=\"map_word_tgt_36\">prostate</span><span class=\"tgt nlp_tok\" id=\"map_word_tgt_37\">-</span><span class=\"tgt nlp_tok\" id=\"map_word_tgt_38\">specific</span><span class=\"tgt nlp_tok\" id=\"map_word_tgt_39\">antigen</span><span class=\"tgt nlp_tok\" id=\"map_word_tgt_40\">levels</span><span class=\"tgt nlp_tok\" id=\"map_word_tgt_41\">at</span><span class=\"tgt nlp_tok\" id=\"map_word_tgt_42\">the</span><span class=\"tgt nlp_tok\" id=\"map_word_tgt_43\">start</span><span class=\"tgt nlp_tok\" id=\"map_word_tgt_44\">of</span><span class=\"tgt nlp_tok\" id=\"map_word_tgt_45\">treatment</span><span class=\"tgt nlp_tok\" id=\"map_word_tgt_46\">,</span><span class=\"tgt nlp_tok\" id=\"map_word_tgt_47\">and</span><span class=\"tgt nlp_tok\" id=\"map_word_tgt_48\">Gleason</span><span class=\"tgt nlp_tok\" id=\"map_word_tgt_49\">score</span><span class=\"tgt nlp_tok\" id=\"map_word_tgt_50\">at</span><span class=\"tgt nlp_tok\" id=\"map_word_tgt_51\">primary</span><span class=\"tgt nlp_tok\" id=\"map_word_tgt_52\">diagnosis</span><span class=\"tgt nlp_tok\" id=\"map_word_tgt_53\">.</span><span class=\"tgt nlp_tok\" id=\"map_word_tgt_54\">'</span><span class=\"tgt nlp_tok\" id=\"map_word_tgt_55\">\n",
       "</span></div>"
      ],
      "text/plain": [
       "<IPython.core.display.HTML object>"
      ]
     },
     "metadata": {},
     "output_type": "display_data"
    },
    {
     "data": {
      "text/html": [
       "<script>\n",
       "$(document).ready(function(){\n",
       "    const red=(dom)=>{\n",
       "        $(dom)\n",
       "            .css(\"background-color\",\"#FFCCEE\")\n",
       "            .css(\"box-shadow\",\"0px 0px 10px #FFCCEE\")\n",
       "    }\n",
       "    const white=(dom)=>{\n",
       "        $(dom).css(\"background-color\",\"#FFFFFF\")\n",
       "            .css(\"box-shadow\",\"0px 0px 0px #FFFFFF\")\n",
       "    }\n",
       "    $(\".nlp_tok\")\n",
       "            .css(\"margin\",\"1px 2px\")\n",
       "            .css(\"padding\",\"1px 1px\")\n",
       "            .css(\"border-radius\",\"5px\");\n",
       "        var edge = JSON.parse(window.edge_data)\n",
       "        var edge2 = JSON.parse(window.edge_data2)\n",
       "        var all_b = []\n",
       "        for(var a in edge)\n",
       "        {\n",
       "            $(`#map_word_src_${a}`).data(\"match\",edge[a].idx)\n",
       "            $(`#map_word_src_${a}`).css(\"font-weight\",900)\n",
       "           $(`#map_word_src_${a}`)\n",
       "                   .hover(function(){\n",
       "                       red(this)\n",
       "                       var b_match = $(this).data(\"match\")\n",
       "                       for(var i in b_match){\n",
       "                           var b = b_match[i]\n",
       "                           red(document.querySelector(`#map_word_tgt_${b}`))\n",
       "                       }\n",
       "                   })\n",
       "            $(`#map_word_src_${a}`)\n",
       "                    .mouseleave(function(){\n",
       "                        white(this)\n",
       "                        var b_match = $(this).data(\"match\")\n",
       "                        for(var i in b_match){\n",
       "                           var b = b_match[i]\n",
       "                           white(document.querySelector(`#map_word_tgt_${b}`))\n",
       "                       }\n",
       "                    })\n",
       "        }\n",
       "        for(var a in edge2)\n",
       "        {\n",
       "            $(`#map_word_tgt_${a}`).data(\"match\",edge2[a].idx)\n",
       "            $(`#map_word_tgt_${a}`).css(\"font-weight\",900)\n",
       "           $(`#map_word_tgt_${a}`)\n",
       "                   .hover(function(){\n",
       "                       red(this)\n",
       "                       var b_match = $(this).data(\"match\")\n",
       "                       for(var i in b_match){\n",
       "                           var b = b_match[i]\n",
       "                           red(document.querySelector(`#map_word_src_${b}`))\n",
       "                       }\n",
       "                   })\n",
       "            $(`#map_word_tgt_${a}`)\n",
       "                    .mouseleave(function(){\n",
       "                        white(this)\n",
       "                        var b_match = $(this).data(\"match\")\n",
       "                        for(var i in b_match){\n",
       "                           var b = b_match[i]\n",
       "                           white(document.querySelector(`#map_word_src_${b}`))\n",
       "                       }\n",
       "                    })\n",
       "        }\n",
       "        \n",
       "})\n",
       "</script>"
      ],
      "text/plain": [
       "<IPython.core.display.HTML object>"
      ]
     },
     "metadata": {},
     "output_type": "display_data"
    }
   ],
   "source": [
    "from spacy import load\n",
    "nlp = load(\"en_core_web_sm\")\n",
    "\n",
    "compare_sentences(A,B,nlp)"
   ]
  },
  {
   "cell_type": "code",
   "execution_count": null,
   "metadata": {},
   "outputs": [],
   "source": []
  }
 ],
 "metadata": {
  "kernelspec": {
   "display_name": "Python 3",
   "language": "python",
   "name": "python3"
  },
  "language_info": {
   "codemirror_mode": {
    "name": "ipython",
    "version": 3
   },
   "file_extension": ".py",
   "mimetype": "text/x-python",
   "name": "python",
   "nbconvert_exporter": "python",
   "pygments_lexer": "ipython3",
   "version": "3.7.4"
  }
 },
 "nbformat": 4,
 "nbformat_minor": 2
}
