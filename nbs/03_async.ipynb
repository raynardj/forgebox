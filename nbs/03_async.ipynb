{
 "cells": [
  {
   "cell_type": "markdown",
   "metadata": {},
   "source": [
    "# Async\n",
    "> Async toolset"
   ]
  },
  {
   "cell_type": "code",
   "execution_count": 3,
   "metadata": {},
   "outputs": [],
   "source": [
    "# default_exp async"
   ]
  },
  {
   "cell_type": "code",
   "execution_count": 4,
   "metadata": {
    "code_folding": []
   },
   "outputs": [],
   "source": [
    "# export\n",
    "import asyncio\n",
    "from typing import Callable\n",
    "def Async(func: Callable):\n",
    "    \"\"\"\n",
    "    JS style async tool\n",
    "    def download_file(url):\n",
    "        ...\n",
    "        return path\n",
    "    \n",
    "    download_async = Async(download_file)\n",
    "    \n",
    "    download_async(url)\\\n",
    "    .then(lambda x: os.system(f\"tar -xvf {path}\"))\n",
    "    .catch(logging.error)\n",
    "    \n",
    "    \"\"\"\n",
    "    class AsyncFunc:\n",
    "        f\"\"\"{func.__doc__}\"\"\"\n",
    "        def __init__(self):\n",
    "            self.success=[]\n",
    "\n",
    "        async def afunc(self, *args, **kwargs):\n",
    "            try:\n",
    "                result = func(*args, **kwargs)\n",
    "                for success_func in self.success:\n",
    "                    result = success_func(result)\n",
    "            except Exception as e:\n",
    "                self.catch_func(e)\n",
    "                \n",
    "        def __repr__(self):\n",
    "            return f\"async function [{func}]\"\n",
    "\n",
    "        def __call__(self, *args, **kwargs):\n",
    "            f\"{func.__doc__}\"\n",
    "            self.args = args\n",
    "            self.kwargs = kwargs\n",
    "            self.success = []\n",
    "            return self\n",
    "\n",
    "        def then(self, success):\n",
    "            self.success.append(success)\n",
    "            return self\n",
    "\n",
    "        def catch(self, catch):\n",
    "            assert len(self.success)>0,\\\n",
    "                \"You have to define self.then first\"\n",
    "            self.catch_func = catch\n",
    "            asyncio.gather(self.afunc(*self.args, **self.kwargs))\n",
    "\n",
    "    return AsyncFunc()"
   ]
  },
  {
   "cell_type": "markdown",
   "metadata": {},
   "source": [
    "## JS style async"
   ]
  },
  {
   "cell_type": "code",
   "execution_count": null,
   "metadata": {},
   "outputs": [],
   "source": [
    "def some_long(x):\n",
    "    \"\"\"took long calc\"\"\"\n",
    "    if x>0:\n",
    "        for i in range(x):\n",
    "            some_long(x-1)\n",
    "    return x"
   ]
  }
 ],
 "metadata": {
  "kernelspec": {
   "display_name": "Python 3",
   "language": "python",
   "name": "python3"
  },
  "language_info": {
   "codemirror_mode": {
    "name": "ipython",
    "version": 3
   },
   "file_extension": ".py",
   "mimetype": "text/x-python",
   "name": "python",
   "nbconvert_exporter": "python",
   "pygments_lexer": "ipython3",
   "version": "3.7.4"
  },
  "toc": {
   "base_numbering": 1,
   "nav_menu": {},
   "number_sections": true,
   "sideBar": true,
   "skip_h1_title": false,
   "title_cell": "Table of Contents",
   "title_sidebar": "Contents",
   "toc_cell": false,
   "toc_position": {},
   "toc_section_display": true,
   "toc_window_display": false
  }
 },
 "nbformat": 4,
 "nbformat_minor": 4
}
