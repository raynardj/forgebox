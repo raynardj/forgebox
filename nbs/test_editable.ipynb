{
 "cells": [
  {
   "cell_type": "markdown",
   "metadata": {},
   "source": [
    "# Testing Flask Editable Widgets"
   ]
  },
  {
   "cell_type": "code",
   "execution_count": 33,
   "metadata": {},
   "outputs": [],
   "source": [
    "# !pip install forgebox\n",
    "# !rm sample.db"
   ]
  },
  {
   "cell_type": "markdown",
   "metadata": {},
   "source": [
    "## Create a fake database"
   ]
  },
  {
   "cell_type": "code",
   "execution_count": 1,
   "metadata": {},
   "outputs": [],
   "source": [
    "import pandas as pd"
   ]
  },
  {
   "cell_type": "code",
   "execution_count": 2,
   "metadata": {},
   "outputs": [],
   "source": [
    "from sqlalchemy import create_engine as ce\n",
    "\n",
    "con = ce(\"sqlite:///sample.db\")\n",
    "\n",
    "sample_df = pd.DataFrame(dict(name=[\"Darrow\",\"Virginia\",\"Sevro\",]*20,\n",
    "                              house =[\"Andromedus\",\"Augustus\",\"Barca\"]*20,\n",
    "                              age=[20,18,17]*20))\n",
    "\n",
    "sample_df.to_sql(\"sample_table\",index_label=\"id\",\n",
    "                 index=True,\n",
    "                 con = con, method='multi',\n",
    "                 if_exists=\"replace\")"
   ]
  },
  {
   "cell_type": "code",
   "execution_count": 3,
   "metadata": {},
   "outputs": [
    {
     "name": "stdout",
     "output_type": "stream",
     "text": [
      "sample_table\r\n"
     ]
    }
   ],
   "source": [
    "!sqlite3 sample.db .tables"
   ]
  },
  {
   "cell_type": "code",
   "execution_count": 5,
   "metadata": {},
   "outputs": [
    {
     "name": "stdout",
     "output_type": "stream",
     "text": [
      "0|Darrow|Andromedus|20\r\n",
      "1|Virginia|Augustus|18\r\n",
      "2|Sevro|Barca|17\r\n",
      "3|Darrow|Andromedus|20\r\n",
      "4|Virginia|Augustus|18\r\n",
      "5|Sevro|Barca|17\r\n",
      "6|Darrow|Andromedus|20\r\n",
      "7|Virginia|Augustus|18\r\n",
      "8|Sevro|Barca|17\r\n",
      "9|Darrow|Andromedus|20\r\n"
     ]
    }
   ],
   "source": [
    "!sqlite3 sample.db \"SELECT * FROM sample_table LIMIT 10\""
   ]
  },
  {
   "cell_type": "markdown",
   "metadata": {},
   "source": [
    "## Create a editable widget"
   ]
  },
  {
   "cell_type": "code",
   "execution_count": 6,
   "metadata": {},
   "outputs": [],
   "source": [
    "from flask import Flask\n",
    "app = Flask(__name__)\n",
    "\n",
    "@app.route('/')\n",
    "def hello_world():\n",
    "    return 'Hello, World!'"
   ]
  },
  {
   "cell_type": "code",
   "execution_count": 8,
   "metadata": {},
   "outputs": [
    {
     "data": {
      "text/plain": [
       "<forgebox.editable.Editable at 0x11716a290>"
      ]
     },
     "execution_count": 8,
     "metadata": {},
     "output_type": "execute_result"
    }
   ],
   "source": [
    "from forgebox.editable import Editable\n",
    "\n",
    "Editable(\"task1\", # route/task name\n",
    "         app, # flask app to wrap around\n",
    "         table_name=\"sample_table\", # target table name\n",
    "         id_col=\"id\", # unique column\n",
    "         con = con,\n",
    "         log_con=con)"
   ]
  },
  {
   "cell_type": "code",
   "execution_count": 9,
   "metadata": {},
   "outputs": [
    {
     "name": "stdout",
     "output_type": "stream",
     "text": [
      " * Serving Flask app \"__main__\" (lazy loading)\n",
      " * Environment: production\n",
      "\u001b[31m   WARNING: This is a development server. Do not use it in a production deployment.\u001b[0m\n",
      "\u001b[2m   Use a production WSGI server instead.\u001b[0m\n",
      " * Debug mode: off\n"
     ]
    },
    {
     "name": "stderr",
     "output_type": "stream",
     "text": [
      " * Running on http://127.0.0.1:4242/ (Press CTRL+C to quit)\n",
      "127.0.0.1 - - [21/Jun/2020 18:58:50] \"\u001b[37mGET / HTTP/1.1\u001b[0m\" 200 -\n",
      "127.0.0.1 - - [21/Jun/2020 18:58:57] \"\u001b[37mGET /task1 HTTP/1.1\u001b[0m\" 200 -\n",
      "127.0.0.1 - - [21/Jun/2020 18:58:57] \"\u001b[37mGET /task1/df_api?page=0&where= HTTP/1.1\u001b[0m\" 200 -\n"
     ]
    },
    {
     "name": "stdout",
     "output_type": "stream",
     "text": [
      "SELECT * FROM sample_table \n",
      "        ORDER BY id ASC LIMIT 0,20\n",
      "        \n"
     ]
    },
    {
     "name": "stderr",
     "output_type": "stream",
     "text": [
      "127.0.0.1 - - [21/Jun/2020 18:59:09] \"\u001b[37mGET /task1/df_api?page=1&where= HTTP/1.1\u001b[0m\" 200 -\n"
     ]
    },
    {
     "name": "stdout",
     "output_type": "stream",
     "text": [
      "SELECT * FROM sample_table \n",
      "        ORDER BY id ASC LIMIT 1,20\n",
      "        \n"
     ]
    },
    {
     "name": "stderr",
     "output_type": "stream",
     "text": [
      "127.0.0.1 - - [21/Jun/2020 18:59:10] \"\u001b[37mGET /task1/df_api?page=0&where= HTTP/1.1\u001b[0m\" 200 -\n"
     ]
    },
    {
     "name": "stdout",
     "output_type": "stream",
     "text": [
      "SELECT * FROM sample_table \n",
      "        ORDER BY id ASC LIMIT 0,20\n",
      "        \n"
     ]
    },
    {
     "name": "stderr",
     "output_type": "stream",
     "text": [
      "127.0.0.1 - - [21/Jun/2020 18:59:24] \"\u001b[37mGET /task1/df_api?page=0&where=house=%27barca%27 HTTP/1.1\u001b[0m\" 200 -\n"
     ]
    },
    {
     "name": "stdout",
     "output_type": "stream",
     "text": [
      "SELECT * FROM sample_table WHERE house='barca' \n",
      "        ORDER BY id ASC LIMIT 0,20\n",
      "        \n"
     ]
    },
    {
     "name": "stderr",
     "output_type": "stream",
     "text": [
      "127.0.0.1 - - [21/Jun/2020 18:59:36] \"\u001b[37mGET /task1/df_api?page=0&where=house=%27Barca%27 HTTP/1.1\u001b[0m\" 200 -\n"
     ]
    },
    {
     "name": "stdout",
     "output_type": "stream",
     "text": [
      "SELECT * FROM sample_table WHERE house='Barca' \n",
      "        ORDER BY id ASC LIMIT 0,20\n",
      "        \n"
     ]
    },
    {
     "name": "stderr",
     "output_type": "stream",
     "text": [
      "127.0.0.1 - - [21/Jun/2020 18:59:45] \"\u001b[37mGET /task1/df_api?page=0&where=age%3E17 HTTP/1.1\u001b[0m\" 200 -\n"
     ]
    },
    {
     "name": "stdout",
     "output_type": "stream",
     "text": [
      "SELECT * FROM sample_table WHERE age>17 \n",
      "        ORDER BY id ASC LIMIT 0,20\n",
      "        \n"
     ]
    },
    {
     "name": "stderr",
     "output_type": "stream",
     "text": [
      "127.0.0.1 - - [21/Jun/2020 19:00:18] \"\u001b[37mPOST /task1/save_api HTTP/1.1\u001b[0m\" 200 -\n"
     ]
    },
    {
     "name": "stdout",
     "output_type": "stream",
     "text": [
      "  idx    col valtype    original  changed         ip    table_name  \\\n",
      "0   0   name     str      Darrow   Reaper  127.0.0.1  sample_table   \n",
      "1   0  house     str  Andromedus  Ringing  127.0.0.1  sample_table   \n",
      "2   3    age     int          20       23  127.0.0.1  sample_table   \n",
      "3   4   name     str    Virginia  Mustang  127.0.0.1  sample_table   \n",
      "\n",
      "                          ts  \\\n",
      "0 2020-06-21 19:00:18.015897   \n",
      "1 2020-06-21 19:00:18.021918   \n",
      "2 2020-06-21 19:00:18.025394   \n",
      "3 2020-06-21 19:00:18.027062   \n",
      "\n",
      "                                                 sql  \n",
      "0  UPDATE sample_table\\n            SET name='Rea...  \n",
      "1  UPDATE sample_table\\n            SET house='Ri...  \n",
      "2  UPDATE sample_table\\n            SET age=23 WH...  \n",
      "3  UPDATE sample_table\\n            SET name='Mus...  \n",
      "SELECT * FROM sample_table WHERE age>17 \n",
      "        ORDER BY id ASC LIMIT 0,20\n",
      "        \n"
     ]
    }
   ],
   "source": [
    "app.run(port = 4242)"
   ]
  },
  {
   "cell_type": "code",
   "execution_count": 10,
   "metadata": {},
   "outputs": [
    {
     "data": {
      "text/html": [
       "<div>\n",
       "<style scoped>\n",
       "    .dataframe tbody tr th:only-of-type {\n",
       "        vertical-align: middle;\n",
       "    }\n",
       "\n",
       "    .dataframe tbody tr th {\n",
       "        vertical-align: top;\n",
       "    }\n",
       "\n",
       "    .dataframe thead th {\n",
       "        text-align: right;\n",
       "    }\n",
       "</style>\n",
       "<table border=\"1\" class=\"dataframe\">\n",
       "  <thead>\n",
       "    <tr style=\"text-align: right;\">\n",
       "      <th></th>\n",
       "      <th>idx</th>\n",
       "      <th>col</th>\n",
       "      <th>valtype</th>\n",
       "      <th>original</th>\n",
       "      <th>changed</th>\n",
       "      <th>ip</th>\n",
       "      <th>table_name</th>\n",
       "      <th>ts</th>\n",
       "      <th>sql</th>\n",
       "    </tr>\n",
       "  </thead>\n",
       "  <tbody>\n",
       "    <tr>\n",
       "      <th>0</th>\n",
       "      <td>0</td>\n",
       "      <td>name</td>\n",
       "      <td>str</td>\n",
       "      <td>Darrow</td>\n",
       "      <td>Reaper</td>\n",
       "      <td>127.0.0.1</td>\n",
       "      <td>sample_table</td>\n",
       "      <td>2020-06-21 19:00:18.015897</td>\n",
       "      <td>UPDATE sample_table\\n            SET name='Reaper' WHERE id=0\\n</td>\n",
       "    </tr>\n",
       "    <tr>\n",
       "      <th>1</th>\n",
       "      <td>0</td>\n",
       "      <td>house</td>\n",
       "      <td>str</td>\n",
       "      <td>Andromedus</td>\n",
       "      <td>Ringing</td>\n",
       "      <td>127.0.0.1</td>\n",
       "      <td>sample_table</td>\n",
       "      <td>2020-06-21 19:00:18.021918</td>\n",
       "      <td>UPDATE sample_table\\n            SET house='Ringing' WHERE id=0\\n</td>\n",
       "    </tr>\n",
       "    <tr>\n",
       "      <th>2</th>\n",
       "      <td>3</td>\n",
       "      <td>age</td>\n",
       "      <td>int</td>\n",
       "      <td>20</td>\n",
       "      <td>23</td>\n",
       "      <td>127.0.0.1</td>\n",
       "      <td>sample_table</td>\n",
       "      <td>2020-06-21 19:00:18.025394</td>\n",
       "      <td>UPDATE sample_table\\n            SET age=23 WHERE id=3\\n</td>\n",
       "    </tr>\n",
       "    <tr>\n",
       "      <th>3</th>\n",
       "      <td>4</td>\n",
       "      <td>name</td>\n",
       "      <td>str</td>\n",
       "      <td>Virginia</td>\n",
       "      <td>Mustang</td>\n",
       "      <td>127.0.0.1</td>\n",
       "      <td>sample_table</td>\n",
       "      <td>2020-06-21 19:00:18.027062</td>\n",
       "      <td>UPDATE sample_table\\n            SET name='Mustang' WHERE id=4\\n</td>\n",
       "    </tr>\n",
       "  </tbody>\n",
       "</table>\n",
       "</div>"
      ],
      "text/plain": [
       "  idx    col valtype    original  changed         ip    table_name  \\\n",
       "0  0   name   str     Darrow      Reaper   127.0.0.1  sample_table   \n",
       "1  0   house  str     Andromedus  Ringing  127.0.0.1  sample_table   \n",
       "2  3   age    int     20          23       127.0.0.1  sample_table   \n",
       "3  4   name   str     Virginia    Mustang  127.0.0.1  sample_table   \n",
       "\n",
       "                          ts  \\\n",
       "0 2020-06-21 19:00:18.015897   \n",
       "1 2020-06-21 19:00:18.021918   \n",
       "2 2020-06-21 19:00:18.025394   \n",
       "3 2020-06-21 19:00:18.027062   \n",
       "\n",
       "                                                                             sql  \n",
       "0  UPDATE sample_table\\n            SET name='Reaper' WHERE id=0\\n                \n",
       "1  UPDATE sample_table\\n            SET house='Ringing' WHERE id=0\\n              \n",
       "2  UPDATE sample_table\\n            SET age=23 WHERE id=3\\n                       \n",
       "3  UPDATE sample_table\\n            SET name='Mustang' WHERE id=4\\n               "
      ]
     },
     "metadata": {},
     "output_type": "display_data"
    }
   ],
   "source": [
    "from forgebox.df import PandasDisplay\n",
    "with PandasDisplay(max_colwidth = 0,max_rows=100):\n",
    "    display(pd.read_sql(\"editable_log\",con=con))"
   ]
  },
  {
   "cell_type": "code",
   "execution_count": null,
   "metadata": {},
   "outputs": [],
   "source": []
  }
 ],
 "metadata": {
  "kernelspec": {
   "display_name": "Python 3",
   "language": "python",
   "name": "python3"
  },
  "language_info": {
   "codemirror_mode": {
    "name": "ipython",
    "version": 3
   },
   "file_extension": ".py",
   "mimetype": "text/x-python",
   "name": "python",
   "nbconvert_exporter": "python",
   "pygments_lexer": "ipython3",
   "version": "3.7.4"
  }
 },
 "nbformat": 4,
 "nbformat_minor": 4
}
