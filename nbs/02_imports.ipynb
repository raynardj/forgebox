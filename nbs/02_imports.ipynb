{
 "cells": [
  {
   "cell_type": "markdown",
   "metadata": {},
   "source": [
    "# 03 Imports\n",
    "> standard imports"
   ]
  },
  {
   "cell_type": "code",
   "execution_count": 1,
   "metadata": {},
   "outputs": [],
   "source": [
    "# default_exp imports"
   ]
  },
  {
   "cell_type": "code",
   "execution_count": 1,
   "metadata": {},
   "outputs": [],
   "source": [
    "# export\n",
    "\n",
    "__all__ = [\"pd\",\"np\",\"partial\",\"Path\",\"json\",\"Counter\",\"list_vc\",\"col_list_vc\",\n",
    "           \"plt\",\"os\",\"sys\",\"glob\",\"Image\",]\n",
    "import pandas as pd\n",
    "\n",
    "def list_vc(\n",
    "    df, colname: str, value: str\n",
    ") -> pd.DataFrame:\n",
    "    \"\"\"\n",
    "    count the values in a column\n",
    "        that each cell is a list\n",
    "    \"\"\"\n",
    "    return df[colname].list_vc(value)\n",
    "\n",
    "def col_list_vc(\n",
    "    col, value: str\n",
    ") -> pd.DataFrame:\n",
    "    \"\"\"\n",
    "    count the values in a column\n",
    "        that each cell is a list\n",
    "    \"\"\"\n",
    "    return pd.DataFrame(\n",
    "        col.apply(lambda x: value in x).value_counts()\n",
    "    )\n",
    "\n",
    "pd.DataFrame.vc = lambda self,col:pd.DataFrame(self[col].value_counts())\n",
    "pd.Series.list_vc = col_list_vc\n",
    "pd.DataFrame.list_vc = list_vc\n",
    "\n",
    "import numpy as np\n",
    "from pathlib import Path\n",
    "import json\n",
    "from functools import partial\n",
    "from collections import Counter\n",
    "from matplotlib import pyplot as plt\n",
    "\n",
    "import os\n",
    "import sys\n",
    "\n",
    "try:\n",
    "    from forgebox.widgets import search_box,paginate\n",
    "    pd.DataFrame.search_box = search_box\n",
    "    pd.DataFrame.paginate = paginate\n",
    "except:\n",
    "    pass\n",
    "\n",
    "try:\n",
    "    import torch\n",
    "    from torch import nn\n",
    "    from torch.utils.data.dataset import Dataset\n",
    "    from torch.utils.data.dataloader import DataLoader\n",
    "    __all__+=[\"nn\",\"torch\",\"Dataset\",\"DataLoader\"]\n",
    "except:\n",
    "    pass\n",
    "\n",
    "try:\n",
    "    from ipywidgets import interact, interact_manual\n",
    "    from IPython.display import HTML\n",
    "    __all__+=[\"interact\",\"interact_manual\",\"HTML\"]\n",
    "except:\n",
    "    pass\n",
    "\n",
    "from glob import glob\n",
    "from PIL import Image\n",
    "\n",
    "Path.ls = lambda x:os.listdir(x)"
   ]
  }
 ],
 "metadata": {
  "kernelspec": {
   "display_name": "Python 3",
   "language": "python",
   "name": "python3"
  },
  "language_info": {
   "codemirror_mode": {
    "name": "ipython",
    "version": 3
   },
   "file_extension": ".py",
   "mimetype": "text/x-python",
   "name": "python",
   "nbconvert_exporter": "python",
   "pygments_lexer": "ipython3",
   "version": "3.7.4"
  },
  "toc": {
   "base_numbering": 1,
   "nav_menu": {},
   "number_sections": true,
   "sideBar": true,
   "skip_h1_title": false,
   "title_cell": "Table of Contents",
   "title_sidebar": "Contents",
   "toc_cell": false,
   "toc_position": {},
   "toc_section_display": true,
   "toc_window_display": false
  }
 },
 "nbformat": 4,
 "nbformat_minor": 2
}
