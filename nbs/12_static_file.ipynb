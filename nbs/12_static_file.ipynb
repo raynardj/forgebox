{
 "cells": [
  {
   "cell_type": "markdown",
   "metadata": {},
   "source": [
    "# Get static file\n",
    "> get none-python file, like js and html"
   ]
  },
  {
   "cell_type": "code",
   "execution_count": 1,
   "metadata": {},
   "outputs": [],
   "source": [
    "# default_exp static_file"
   ]
  },
  {
   "cell_type": "code",
   "execution_count": 4,
   "metadata": {},
   "outputs": [],
   "source": [
    "# export\n",
    "from pathlib import Path \n",
    "def get_static()->Path: \n",
    "    \"\"\"\n",
    "    return the absolute path of forgebox.static\n",
    "    \"\"\"\n",
    "    import forgebox \n",
    "    return Path(forgebox.__path__[0])/\"static\" \n",
    "\n",
    "def open_static(relative_path:str)->str:\n",
    "    file = get_static()/relative_path\n",
    "    with open(file,\"r\") as f:\n",
    "        return f.read()"
   ]
  },
  {
   "cell_type": "markdown",
   "metadata": {},
   "source": [
    "The static file directory"
   ]
  },
  {
   "cell_type": "code",
   "execution_count": 5,
   "metadata": {},
   "outputs": [
    {
     "data": {
      "text/plain": [
       "PosixPath('/Users/xiaochen.zhang/github/forgebox/forgebox/static')"
      ]
     },
     "execution_count": 5,
     "metadata": {},
     "output_type": "execute_result"
    }
   ],
   "source": [
    "get_static()"
   ]
  },
  {
   "cell_type": "markdown",
   "metadata": {},
   "source": [
    "Open relative path"
   ]
  },
  {
   "cell_type": "code",
   "execution_count": 8,
   "metadata": {},
   "outputs": [
    {
     "data": {
      "text/plain": [
       "\"<div>\\n    <h2>Masked language modeling visualization</h2>\\n    <script>\\n        {{mlm_visual_js}}\\n\\n        var data = JSON.parse('{{data}}');\\n        var text =  `{{text}}`;\\n        var output_id = '{{output_id}}'\\n        mlm_visualize(data,text,output_id);\\n    </script>\\n\\n    <div id='{{output_id}}'></div>\\n</div>\""
      ]
     },
     "execution_count": 8,
     "metadata": {},
     "output_type": "execute_result"
    }
   ],
   "source": [
    "open_static(\"mlm/visual.html\")"
   ]
  },
  {
   "cell_type": "code",
   "execution_count": 10,
   "metadata": {},
   "outputs": [
    {
     "name": "stdout",
     "output_type": "stream",
     "text": [
      "var mlm_visualize = (data, text, output_id) => {\n",
      "    var {\n",
      "        Sentence,\n",
      "        ControlBar,\n",
      "        att_obj\n",
      "    } = attention_factory(data, text, output_id)\n",
      "\n",
      "    var sentence = new Sentence();\n",
      "    var control_bar = new ControlBar({\n",
      "        nb_heads: att_obj.attention.length,\n",
      "        current_head: 0\n",
      "    });\n",
      "\n",
      "    control_bar.sensitive.add_callback(\n",
      "        control_bar.func_print_change,\n",
      "        control_bar.change_current_head(att_obj),\n",
      "    )\n",
      "\n",
      "    $(`#${output_id}`).append(control_bar.dom)\n",
      "   \n"
     ]
    }
   ],
   "source": [
    "print(open_static(\"mlm/visual.js\")[:500])"
   ]
  }
 ],
 "metadata": {
  "kernelspec": {
   "display_name": "Python 3",
   "language": "python",
   "name": "python3"
  },
  "language_info": {
   "codemirror_mode": {
    "name": "ipython",
    "version": 3
   },
   "file_extension": ".py",
   "mimetype": "text/x-python",
   "name": "python",
   "nbconvert_exporter": "python",
   "pygments_lexer": "ipython3",
   "version": "3.7.4"
  },
  "toc": {
   "base_numbering": 1,
   "nav_menu": {},
   "number_sections": true,
   "sideBar": true,
   "skip_h1_title": false,
   "title_cell": "Table of Contents",
   "title_sidebar": "Contents",
   "toc_cell": false,
   "toc_position": {},
   "toc_section_display": true,
   "toc_window_display": false
  }
 },
 "nbformat": 4,
 "nbformat_minor": 4
}
