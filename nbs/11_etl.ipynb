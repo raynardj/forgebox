{
 "cells": [
  {
   "cell_type": "markdown",
   "metadata": {},
   "source": [
    "# ETL Helper\n",
    "> A combined ETL tool sets"
   ]
  },
  {
   "cell_type": "code",
   "execution_count": 1,
   "metadata": {},
   "outputs": [],
   "source": [
    "# default_exp etl"
   ]
  },
  {
   "cell_type": "markdown",
   "metadata": {},
   "source": [
    "## A list for each step"
   ]
  },
  {
   "cell_type": "code",
   "execution_count": 23,
   "metadata": {},
   "outputs": [],
   "source": [
    "# export\n",
    "\n",
    "from forgebox.imports import *\n",
    "from typing import Callable, Union\n",
    "import traceback as tb\n",
    "import logging\n",
    "\n",
    "class NewFileScanner:\n",
    "    \"\"\"\n",
    "    Keep scannning a directory for new file\n",
    "    if found any, callback processing the file\n",
    "    \n",
    "    Designed for download and delete strategy\n",
    "    \n",
    "    # Example\n",
    "    new_file_scanner = NewFileScanner(\".\", new_file_filter=lambda x:x[-4:]==\".txt\")\n",
    "    new_file_scanner(lambda x:print(f\"new file:{x} found\"))s\n",
    "    \"\"\"\n",
    "    def __init__(\n",
    "        self,\n",
    "        directory,\n",
    "        new_file_filter: Callable=None,\n",
    "        done_list_getter: Callable=None,\n",
    "        stop_callback: Callable=None,\n",
    "    ):\n",
    "        self.directory = Path(directory)\n",
    "        \n",
    "        if new_file_filter is not None:\n",
    "            self.new_file_filter=new_file_filter\n",
    "        else:\n",
    "            self.new_file_filter=lambda x:True\n",
    "        \n",
    "        if done_list_getter is not None:\n",
    "            self.done_list_getter = done_list_getter\n",
    "        else:\n",
    "            self.done_list_getter = lambda *args:[]\n",
    "            \n",
    "        if stop_callback is not None:\n",
    "            self.stop_callback = stop_callback\n",
    "            \n",
    "        self.processed = []\n",
    "        \n",
    "    def __call__(self, process: Callable):\n",
    "        while True:\n",
    "            try:\n",
    "                done_list = self.done_list_getter()\n",
    "                for fname in self.directory.iterdir():\n",
    "                    fname = str(fname)\n",
    "                    if self.new_file_filter(fname) != True:\n",
    "                        continue\n",
    "                    file_path = str(self.directory/fname)\n",
    "                    if fname not in done_list:\n",
    "                        if fname not in self.processed:\n",
    "                            result = process(file_path)\n",
    "                            self.processed.append(fname)\n",
    "            except KeyboardInterrupt as e:\n",
    "                if hasattr(self, \"stop_callback\"):\n",
    "                    self.stop_callback()\n",
    "                logging.error(\"manually stoped\")\n",
    "                break\n",
    "            except Exception as e:\n",
    "                error = tb.format_exc()\n",
    "                logging.error(error)"
   ]
  },
  {
   "cell_type": "markdown",
   "metadata": {},
   "source": [
    "### Test new file scanner"
   ]
  },
  {
   "cell_type": "code",
   "execution_count": null,
   "metadata": {},
   "outputs": [
    {
     "name": "stdout",
     "output_type": "stream",
     "text": [
      "new file:untitled.txt found\n",
      "new file:bc.txt found\n",
      "new file:cde.txt found\n"
     ]
    },
    {
     "name": "stderr",
     "output_type": "stream",
     "text": [
      "ERROR:root:manually stoped\n"
     ]
    }
   ],
   "source": [
    "new_file_scanner = NewFileScanner(\".\", new_file_filter=lambda x:x[-4:]==\".txt\")\n",
    "new_file_scanner(lambda x:print(f\"new file:{x} found\"))"
   ]
  },
  {
   "cell_type": "code",
   "execution_count": null,
   "metadata": {},
   "outputs": [],
   "source": []
  }
 ],
 "metadata": {
  "kernelspec": {
   "display_name": "Python 3",
   "language": "python",
   "name": "python3"
  },
  "language_info": {
   "codemirror_mode": {
    "name": "ipython",
    "version": 3
   },
   "file_extension": ".py",
   "mimetype": "text/x-python",
   "name": "python",
   "nbconvert_exporter": "python",
   "pygments_lexer": "ipython3",
   "version": "3.7.4"
  },
  "toc": {
   "base_numbering": 1,
   "nav_menu": {},
   "number_sections": true,
   "sideBar": true,
   "skip_h1_title": false,
   "title_cell": "Table of Contents",
   "title_sidebar": "Contents",
   "toc_cell": false,
   "toc_position": {},
   "toc_section_display": true,
   "toc_window_display": false
  }
 },
 "nbformat": 4,
 "nbformat_minor": 4
}
