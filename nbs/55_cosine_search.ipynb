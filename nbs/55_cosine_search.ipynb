{
 "cells": [
  {
   "cell_type": "markdown",
   "metadata": {},
   "source": [
    "# Cosine "
   ]
  },
  {
   "cell_type": "code",
   "execution_count": 1,
   "metadata": {},
   "outputs": [],
   "source": [
    "# default_exp cosine"
   ]
  },
  {
   "cell_type": "code",
   "execution_count": 2,
   "metadata": {},
   "outputs": [],
   "source": [
    "# export\n",
    "import numpy as np\n",
    "import pandas as pd\n",
    "from forgebox.category import Category"
   ]
  },
  {
   "cell_type": "markdown",
   "metadata": {},
   "source": [
    "## Cosine Similarity"
   ]
  },
  {
   "cell_type": "code",
   "execution_count": 3,
   "metadata": {},
   "outputs": [],
   "source": [
    "# export\n",
    "class CosineSearch:\n",
    "    \"\"\"\n",
    "    Build a index search on cosine distance\n",
    "\n",
    "    cos = CosineSearch(base_array)\n",
    "    idx_order = cos(vec)\n",
    "    \"\"\"\n",
    "\n",
    "    def __init__(self, base):\n",
    "        assert len(base.shape) == 2,\\\n",
    "            f\"Base array has to be 2 dimentional, input is {len(base.shape)}\"\n",
    "        self.base = base\n",
    "        self.base_norm = self.calc_base_norm(self.base)\n",
    "        self.normed_base = self.base/self.base_norm[:, None]\n",
    "        self.dim = self.base.shape[1]\n",
    "\n",
    "    def __len__(self): return base.shape[0]\n",
    "\n",
    "    @staticmethod\n",
    "    def calc_base_norm(base: np.ndarray) -> np.ndarray:\n",
    "        return np.sqrt(np.power(base, 2).sum(1))\n",
    "\n",
    "    def search(self, vec: np.ndarray, return_similarity: bool = False):\n",
    "        if return_similarity:\n",
    "            similarity = (vec * self.normed_base /\n",
    "                          (np.power(vec, 2).sum())).sum(1)\n",
    "            order = similarity.argsort()[::-1]\n",
    "            return order, similarity[order]\n",
    "        return self(vec)\n",
    "\n",
    "    def __call__(self, vec: np.ndarray) -> np.ndarray:\n",
    "        \"\"\"\n",
    "        Return the order index of the closest vector to the furthest\n",
    "        vec: an 1 dimentional vector\n",
    "        \"\"\"\n",
    "        return (vec * self.normed_base).sum(1).argsort()[::-1]\n",
    "\n",
    "\n",
    "class CosineSearchWithCategory(CosineSearch):\n",
    "    \"\"\"\n",
    "    Combine with the category manager\n",
    "    The class can return a dataframe with category information\n",
    "    \n",
    "    search_dataframe\n",
    "    \"\"\"\n",
    "\n",
    "    def __init__(self, base: np.ndarray, category: np.ndarray):\n",
    "        super().__init__(base)\n",
    "        self.category = category\n",
    "        assert len(self.category) >= len(self), \"category number too small\"\n",
    "\n",
    "    def search_dataframe(\n",
    "        self, vec, return_similarity=True\n",
    "    ) -> pd.DataFrame:\n",
    "        \"\"\"\n",
    "        return a dataframe from the closest\n",
    "            category to the furthest\n",
    "        \"\"\"\n",
    "        if return_similarity:\n",
    "            idx, similarity = self.search(vec, return_similarity)\n",
    "            return pd.DataFrame({\n",
    "                \"category\": self.category.i2c[idx],\n",
    "                \"idx\": idx,\n",
    "                \"similarity\": similarity})\n",
    "        idx = self.search(vec, return_similarity)\n",
    "        return pd.DataFrame({\n",
    "            \"category\": self.category.i2c[idx],\n",
    "            \"idx\": idx})"
   ]
  },
  {
   "cell_type": "markdown",
   "metadata": {},
   "source": [
    "## Test search"
   ]
  },
  {
   "cell_type": "code",
   "execution_count": 4,
   "metadata": {},
   "outputs": [],
   "source": [
    "base = np.random.rand(50000,100)-.2\n",
    "vec = base[200]"
   ]
  },
  {
   "cell_type": "code",
   "execution_count": 5,
   "metadata": {},
   "outputs": [],
   "source": [
    "cosine = CosineSearch(base)"
   ]
  },
  {
   "cell_type": "code",
   "execution_count": 6,
   "metadata": {},
   "outputs": [
    {
     "data": {
      "text/plain": [
       "array([  200, 42154,  2439, ..., 45360, 13398,  9083])"
      ]
     },
     "execution_count": 6,
     "metadata": {},
     "output_type": "execute_result"
    }
   ],
   "source": [
    "cosine(vec)"
   ]
  },
  {
   "cell_type": "code",
   "execution_count": 7,
   "metadata": {},
   "outputs": [
    {
     "data": {
      "text/plain": [
       "(array([  200, 42154,  2439, ..., 45360, 13398,  9083]),\n",
       " array([0.22396417, 0.16316632, 0.16174796, ..., 0.06436053, 0.06367614,\n",
       "        0.0608117 ]))"
      ]
     },
     "execution_count": 7,
     "metadata": {},
     "output_type": "execute_result"
    }
   ],
   "source": [
    "cosine.search(vec, return_similarity=True)"
   ]
  },
  {
   "cell_type": "code",
   "execution_count": 8,
   "metadata": {},
   "outputs": [],
   "source": [
    "# cos_cat = CosineSearchWithCategory(base, Category(list(f\"c{i}\" for i in range(len(base)))))"
   ]
  },
  {
   "cell_type": "code",
   "execution_count": 9,
   "metadata": {},
   "outputs": [
    {
     "name": "stdout",
     "output_type": "stream",
     "text": [
      "CPU times: user 1.21 s, sys: 147 ms, total: 1.36 s\n",
      "Wall time: 1.37 s\n"
     ]
    }
   ],
   "source": [
    "%%time\n",
    "for i in range(100):\n",
    "    cosine(vec)"
   ]
  }
 ],
 "metadata": {
  "kernelspec": {
   "display_name": "Python 3",
   "language": "python",
   "name": "python3"
  },
  "language_info": {
   "codemirror_mode": {
    "name": "ipython",
    "version": 3
   },
   "file_extension": ".py",
   "mimetype": "text/x-python",
   "name": "python",
   "nbconvert_exporter": "python",
   "pygments_lexer": "ipython3",
   "version": "3.7.4"
  },
  "toc": {
   "base_numbering": 1,
   "nav_menu": {},
   "number_sections": true,
   "sideBar": true,
   "skip_h1_title": false,
   "title_cell": "Table of Contents",
   "title_sidebar": "Contents",
   "toc_cell": false,
   "toc_position": {},
   "toc_section_display": true,
   "toc_window_display": false
  }
 },
 "nbformat": 4,
 "nbformat_minor": 4
}
