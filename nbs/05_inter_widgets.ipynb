{
 "cells": [
  {
   "cell_type": "markdown",
   "metadata": {},
   "source": [
    "# Interactive tools\n",
    "> Very helpful interactive tools"
   ]
  },
  {
   "cell_type": "code",
   "execution_count": null,
   "metadata": {},
   "outputs": [],
   "source": [
    "# default_exp widgets"
   ]
  },
  {
   "cell_type": "code",
   "execution_count": 1,
   "metadata": {},
   "outputs": [],
   "source": [
    "# export\n",
    "import pandas as pd\n",
    "import numpy as np\n",
    "from ipywidgets import interact,interact_manual\n",
    "from IPython.display import HTML"
   ]
  },
  {
   "cell_type": "code",
   "execution_count": 17,
   "metadata": {},
   "outputs": [],
   "source": [
    "# export\n",
    "def display_df(df):display(df)\n",
    "\n",
    "def search_box(df,columns,manual = False,max_rows = 10,callback = display_df):\n",
    "    \"\"\"\n",
    "    create a search box based on dataframe\n",
    "    df: pandas dataframe\n",
    "    columns: str, dataframe field name\n",
    "    manual: bool, search the dataframe on when click the button(manual=True), \n",
    "        or on keypress reaction to inputbox (manual=False), default False\n",
    "    max_rows:int, max rows of show result, default 10\n",
    "    callback: python callable, discribe the action you want to put on \n",
    "        search result (a filtered dataframe), default is to display the dataframe\n",
    "    \"\"\"\n",
    "    intera = interact_manual if manual else interact\n",
    "\n",
    "    @intera\n",
    "    def search(KeyWord = \"\",):\n",
    "        for col in columns:\n",
    "            result = df[col].fillna(\"NaN Value\").str.contains(KeyWord)\n",
    "            if sum(result)>0:\n",
    "                display(HTML(f\"<h3>\\\"{KeyWord}\\\" matched on column:[{col}]</h3>\"))\n",
    "                callback(df[result].head(max_rows))\n",
    "                return \n",
    "        print(f\"Nothing found on any column on keyword:{KeyWord}\")\n",
    "        return "
   ]
  },
  {
   "cell_type": "markdown",
   "metadata": {},
   "source": [
    "## Search text within dataframe columns\n",
    "\n",
    "We can have any dataframe we like:"
   ]
  },
  {
   "cell_type": "code",
   "execution_count": 2,
   "metadata": {},
   "outputs": [],
   "source": [
    "df = pd.read_csv(\"~/Downloads/mesh_keywords_202004201804.csv\").head(2000)"
   ]
  },
  {
   "cell_type": "markdown",
   "metadata": {},
   "source": [
    "Put the dataframe and target column names into the ```search_box()```"
   ]
  },
  {
   "cell_type": "code",
   "execution_count": null,
   "metadata": {},
   "outputs": [],
   "source": [
    "search_box(df,columns=[\"keyword\",])"
   ]
  },
  {
   "cell_type": "markdown",
   "metadata": {},
   "source": [
    "If your dataframe is slightly huge, and slow to respond, you can use ```manual=True``` to turn off the auto keypress response"
   ]
  },
  {
   "cell_type": "code",
   "execution_count": null,
   "metadata": {},
   "outputs": [],
   "source": [
    "search_box(df,columns=[\"keyword\",],manual=True)"
   ]
  }
 ],
 "metadata": {
  "kernelspec": {
   "display_name": "Python 3",
   "language": "python",
   "name": "python3"
  },
  "language_info": {
   "codemirror_mode": {
    "name": "ipython",
    "version": 3
   },
   "file_extension": ".py",
   "mimetype": "text/x-python",
   "name": "python",
   "nbconvert_exporter": "python",
   "pygments_lexer": "ipython3",
   "version": "3.7.4"
  }
 },
 "nbformat": 4,
 "nbformat_minor": 2
}
