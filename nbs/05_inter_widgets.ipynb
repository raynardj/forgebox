{
 "cells": [
  {
   "cell_type": "markdown",
   "metadata": {},
   "source": [
    "# Interactive tools\n",
    "> Very helpful interactive tools"
   ]
  },
  {
   "cell_type": "code",
   "execution_count": 1,
   "metadata": {},
   "outputs": [],
   "source": [
    "# default_exp widgets"
   ]
  },
  {
   "cell_type": "code",
   "execution_count": 7,
   "metadata": {},
   "outputs": [],
   "source": [
    "# export\n",
    "import pandas as pd\n",
    "import numpy as np\n",
    "from forgebox.df import PandasDisplay\n",
    "from typing import Callable, List, Tuple, Set, Dict\n",
    "from ipywidgets import IntSlider, FloatSlider, Text, Textarea, Layout,\\\n",
    "    Output, HBox, VBox, Button, Select, SelectMultiple, Dropdown,\\\n",
    "    IntProgress, HTML"
   ]
  },
  {
   "cell_type": "code",
   "execution_count": 8,
   "metadata": {},
   "outputs": [],
   "source": [
    "# export\n",
    "def display_df(df):display(df)\n",
    "\n",
    "def search_box(df,columns,manual = False,max_rows = 10,callback = display_df):\n",
    "    \"\"\"\n",
    "    create a search box based on dataframe\n",
    "    df: pandas dataframe\n",
    "    columns: str, dataframe field name\n",
    "    manual: bool, search the dataframe on when click the button(manual=True), \n",
    "        or on keypress reaction to inputbox (manual=False), default False\n",
    "    max_rows:int, max rows of show result, default 10\n",
    "    callback: python callable, discribe the action you want to put on \n",
    "        search result (a filtered dataframe), default is to display the dataframe\n",
    "    \"\"\"\n",
    "    from ipywidgets import interact,interact_manual\n",
    "    from IPython.display import HTML\n",
    "    \n",
    "    intera = interact_manual if manual else interact\n",
    "\n",
    "    @intera\n",
    "    def search(KeyWord = \"\",):\n",
    "        for col in columns:\n",
    "            result = df[col].fillna(\"NaN Value\").str.contains(KeyWord)\n",
    "            if sum(result)>0:\n",
    "                with PandasDisplay(max_colwidth=0,max_rows=max_rows):\n",
    "                    display(HTML(f\"<h3>\\\"{KeyWord}\\\" matched on column:[{col}]</h3>\"))\n",
    "                    callback(df[result].head(max_rows))\n",
    "                    return \n",
    "        print(f\"Nothing found on any column on keyword:{KeyWord}\")\n",
    "        return "
   ]
  },
  {
   "cell_type": "markdown",
   "metadata": {},
   "source": [
    "## Search text within dataframe columns\n",
    "\n",
    "We can have any dataframe we like:"
   ]
  },
  {
   "cell_type": "code",
   "execution_count": 29,
   "metadata": {},
   "outputs": [],
   "source": [
    "df = pd.read_csv(\"~/Downloads/mesh_keywords_202004201804.csv\").head(2000)"
   ]
  },
  {
   "cell_type": "markdown",
   "metadata": {},
   "source": [
    "Put the dataframe and target column names into the ```search_box()```"
   ]
  },
  {
   "cell_type": "code",
   "execution_count": 4,
   "metadata": {},
   "outputs": [
    {
     "data": {
      "application/vnd.jupyter.widget-view+json": {
       "model_id": "3b3e0ea48c51455a8729a3d2f4fcf5b4",
       "version_major": 2,
       "version_minor": 0
      },
      "text/plain": [
       "interactive(children=(Text(value='', description='KeyWord'), Output()), _dom_classes=('widget-interact',))"
      ]
     },
     "metadata": {},
     "output_type": "display_data"
    }
   ],
   "source": [
    "search_box(df,columns=[\"keyword\",])"
   ]
  },
  {
   "cell_type": "markdown",
   "metadata": {},
   "source": [
    "If your dataframe is slightly huge, and slow to respond, you can use ```manual=True``` to turn off the auto keypress response"
   ]
  },
  {
   "cell_type": "code",
   "execution_count": 5,
   "metadata": {},
   "outputs": [
    {
     "data": {
      "application/vnd.jupyter.widget-view+json": {
       "model_id": "6d148ae6a3a142fdba1ef48372e38f68",
       "version_major": 2,
       "version_minor": 0
      },
      "text/plain": [
       "interactive(children=(Text(value='', description='KeyWord'), Button(description='Run Interact', style=ButtonSt…"
      ]
     },
     "metadata": {},
     "output_type": "display_data"
    }
   ],
   "source": [
    "search_box(df,columns=[\"keyword\",],manual=True)"
   ]
  },
  {
   "cell_type": "markdown",
   "metadata": {},
   "source": [
    "## Interactive pagination"
   ]
  },
  {
   "cell_type": "code",
   "execution_count": 6,
   "metadata": {},
   "outputs": [],
   "source": [
    "# export\n",
    "def paginate(df,page_len = 20):\n",
    "    \"\"\"\n",
    "    Paginate dataframe in jupyter notebook interactively\n",
    "    Like you can flip through the page\n",
    "    \"\"\"\n",
    "    from ipywidgets import interact,interact_manual\n",
    "    from IPython.display import display,HTML\n",
    "    pages = len(df)//page_len\n",
    "    @interact\n",
    "    def preview(page = (0,pages)):\n",
    "        display(HTML(f\"<h4>page:{page}/{pages}</4>\"))\n",
    "        end = (page+1)*page_len\n",
    "        display(df.head(end).tail(page_len))"
   ]
  },
  {
   "cell_type": "code",
   "execution_count": 7,
   "metadata": {},
   "outputs": [
    {
     "data": {
      "application/vnd.jupyter.widget-view+json": {
       "model_id": "a378159cd5ba4be5a1f5ebfb1f7725f5",
       "version_major": 2,
       "version_minor": 0
      },
      "text/plain": [
       "interactive(children=(IntSlider(value=50, description='page'), Output()), _dom_classes=('widget-interact',))"
      ]
     },
     "metadata": {},
     "output_type": "display_data"
    }
   ],
   "source": [
    "paginate(df)"
   ]
  },
  {
   "cell_type": "markdown",
   "metadata": {},
   "source": [
    "## SingleButton widget"
   ]
  },
  {
   "cell_type": "markdown",
   "metadata": {},
   "source": [
    "A single button widget\n",
    "\n",
    "It's like interactive_manual with callback\n",
    "\n",
    "You can make an fully interactive featured widgets if there is only one button to get new page\n",
    "    \n",
    "### Example\n",
    "    \n",
    "```python\n",
    "@SingleButton(callback=execute_sql, btn_text:\"run command\", btn_style=\"primary\")\n",
    "def makeup_some_sql(\n",
    "    table={\"typing\":list, \"options\":[\"table_a\", \"table_b\"]},\n",
    "    limit={\"typing\":int, \"max\":1000, \"step\":10, \"default\":100},\n",
    "):\n",
    "    return f\"select * from {table} limit {limit}\"\n",
    "```"
   ]
  },
  {
   "cell_type": "code",
   "execution_count": 11,
   "metadata": {},
   "outputs": [],
   "source": [
    "# export\n",
    "def make_hboxes(\n",
    "    *widgets,\n",
    "    sections: int=2\n",
    ") -> List[HBox]:\n",
    "    \"\"\"\n",
    "    Make a list of HBox, with each hbox\n",
    "        contans {sections} of widgets at most\n",
    "    widgets: widget from ipywidgets\n",
    "    sections: int\n",
    "    \"\"\"\n",
    "    hbox_list = []\n",
    "    hbox_inner=[]\n",
    "    for idx, widget in enumerate(widgets):\n",
    "        hbox_inner.append(widget)\n",
    "        if idx%sections==sections-1:\n",
    "            hbox_list.append(HBox(hbox_inner))\n",
    "            hbox_inner=[]\n",
    "    if len(hbox_inner)>0:\n",
    "        hbox_list.append(HBox(hbox_inner))\n",
    "    return hbox_list\n",
    "\n",
    "class SingleButton:\n",
    "    \"\"\"\n",
    "    A single button widget\n",
    "    It's like interactive_manual with callback\n",
    "    \n",
    "    ## Example\n",
    "    \n",
    "    ```python\n",
    "    @SingleButton(callback=execute_sql, btn_text:\"run command\", btn_style=\"primary\")\n",
    "    def makeup_some_sql(\n",
    "        table={\"typing\":list, \"options\":[\"table_a\", \"table_b\"]},\n",
    "        limit={\"typing\":int, \"max\":1000, \"step\":10, \"default\":100},\n",
    "    ):\n",
    "        return f\"select * from {table} limit {limit}\"\n",
    "    ```\n",
    "    \"\"\"\n",
    "    def __init__(\n",
    "        self,\n",
    "        btn_text: str=\"Run\",\n",
    "        btn_style: str=\"danger\",\n",
    "        callback: Callable=lambda x:x,\n",
    "        sections: int=2,\n",
    "    ):\n",
    "        \"\"\"\n",
    "        btn_text: str, text appears on the button\n",
    "        btn_style: str, one of the [\"danger\", \"warning\", \"info\", \"primary\"]\n",
    "        \"\"\"\n",
    "        self.btn_text = btn_text\n",
    "        self.btn_style = btn_style\n",
    "        self.callback = callback\n",
    "        self.sections = sections\n",
    "        \n",
    "    def create_slider(\n",
    "        self, k: str,\n",
    "        anno: dict):\n",
    "        \"\"\"\n",
    "        create int or float slider widget \n",
    "        \"\"\"\n",
    "        typing = anno[\"typing\"]\n",
    "        if typing == int:\n",
    "            wi = IntSlider(description=k)\n",
    "        elif typing == float:\n",
    "            wi = FloatSlider(description=k)\n",
    "        else:\n",
    "            raise TypeError(\n",
    "                f\"typing should be either int or float, not {typing}\")\n",
    "        if \"default\" in anno:\n",
    "            wi.value = anno[\"default\"]\n",
    "        if \"min\" in anno:\n",
    "            wi.min = anno[\"min\"]\n",
    "        if \"max\" in anno:\n",
    "            wi.max = anno[\"max\"]\n",
    "        if \"step\" in anno:\n",
    "            wi.step = anno[\"step\"]\n",
    "            \n",
    "        return wi\n",
    "    \n",
    "    def create_text(self, k, anno):\n",
    "        \"\"\"\n",
    "        create text area widget\n",
    "        \"\"\"\n",
    "        if \"textarea\" in anno:\n",
    "            layout = Layout(width=\"100%\", height=\"auto\" )\n",
    "            wi = Textarea(description=k, layout=layout)\n",
    "        else:\n",
    "            wi = Text(description=k)\n",
    "        if \"default\" in anno:\n",
    "            wi.value = anno[\"default\"]\n",
    "        return wi\n",
    "    \n",
    "    def create_dropdown(self, k, anno) -> Dropdown:\n",
    "        atype = anno[\"typing\"]\n",
    "        wi = Dropdown(description=k, options=anno[\"options\"])\n",
    "        if \"default\" in anno:\n",
    "            wi.value = anno[\"default\"]\n",
    "        return wi\n",
    "        \n",
    "    def anno_widgets(self):\n",
    "        self.controls = dict()\n",
    "        for k, anno in self.f.__annotations__.items():\n",
    "            if \"typing\" not in anno:\n",
    "                raise KeyError(f\"Missing typing data in arg/kwarg: {k}\")\n",
    "            atype = anno[\"typing\"]\n",
    "            if atype in [int, float]:\n",
    "                create_func = self.create_slider\n",
    "            elif atype == str:\n",
    "                create_func = self.create_text\n",
    "            elif atype in [list, tuple, set, dict, List, Tuple, Set, Dict]:\n",
    "                create_func = self.create_dropdown\n",
    "            else:\n",
    "                raise TypeError(f\"type {atype} not found\")\n",
    "            self.controls.update({k:create_func(k, anno)})\n",
    "        \n",
    "    def execute(self, btn):\n",
    "        \"\"\"\n",
    "        Execute target function\n",
    "        \"\"\"\n",
    "        self.out.clear_output()\n",
    "        inputs = dict((b.description, b.value) for b in self.controls.values())\n",
    "        \n",
    "        with self.out:\n",
    "            rt = self.target_func(**inputs)\n",
    "            return rt\n",
    "        \n",
    "    def __call__(self, f: Callable):\n",
    "        \"\"\"\n",
    "        Use this class as a decorator\n",
    "        @SingleButton(callback=func)\n",
    "        def abc(...):\n",
    "            ...\n",
    "        \"\"\"\n",
    "        self.f=f\n",
    "        self.name = f.__name__\n",
    "        self.anno_widgets()\n",
    "        def wrapper(*args,**kwargs):\n",
    "            rt = f(*args,**kwargs)\n",
    "            self.callback(rt)\n",
    "            return rt\n",
    "        \n",
    "        self.target_func = wrapper\n",
    "        self.out = Output()\n",
    "        self.run_btn = Button(\n",
    "            description=self.btn_text, button_style=\"danger\")\n",
    "        self.hboxes = make_hboxes(\n",
    "            *list(self.controls.values()),\n",
    "            sections=self.sections)\n",
    "        self.btn_boxes = make_hboxes(self.run_btn, sections=self.sections)\n",
    "        \n",
    "        self.run_btn.on_click(self.execute)\n",
    "        self.vbox = VBox([*self.hboxes, *self.btn_boxes, self.out])\n",
    "        display(self.vbox)\n",
    "        return f"
   ]
  },
  {
   "cell_type": "markdown",
   "metadata": {},
   "source": [
    "### Example for SingleButton"
   ]
  },
  {
   "cell_type": "markdown",
   "metadata": {},
   "source": [
    "This is a sample callback"
   ]
  },
  {
   "cell_type": "code",
   "execution_count": 12,
   "metadata": {},
   "outputs": [],
   "source": [
    "from forgebox.html import DOM\n",
    "def sql_callback(x):\n",
    "    DOM(x,\"h3\")()\n",
    "    # and we execute more code like,\n",
    "    #    eg. run this line in sql\n",
    "    return x"
   ]
  },
  {
   "cell_type": "markdown",
   "metadata": {},
   "source": [
    "Now we can have an interactive single button page, with multipule input widgets"
   ]
  },
  {
   "cell_type": "code",
   "execution_count": 13,
   "metadata": {},
   "outputs": [
    {
     "data": {
      "application/vnd.jupyter.widget-view+json": {
       "model_id": "d95b90652b954e1ba7c1ee44256e90e3",
       "version_major": 2,
       "version_minor": 0
      },
      "text/plain": [
       "VBox(children=(HBox(children=(IntSlider(value=10, description='limit', max=20, min=5), Text(value='where 1=1',…"
      ]
     },
     "metadata": {},
     "output_type": "display_data"
    }
   ],
   "source": [
    "@SingleButton(callback=sql_callback)\n",
    "def abc(\n",
    "    limit:{\"typing\":int, \"default\":10, \"min\":5, \"max\":20},\n",
    "    where_condition:{\"typing\":str, \"default\": \"where 1=1\", },\n",
    "    table:{\"typing\":list, \"options\":[\"image_urls\",\"patient_data\"]},\n",
    "):\n",
    "    return f\"sql > SELECT * FROM {table} {where_condition} LIMIT {limit}\""
   ]
  },
  {
   "cell_type": "markdown",
   "metadata": {},
   "source": [
    "# Dataframe labeler"
   ]
  },
  {
   "cell_type": "code",
   "execution_count": 26,
   "metadata": {},
   "outputs": [],
   "source": [
    "# export\n",
    "class Labeler:\n",
    "    \"\"\"\n",
    "    An interactive tool labeling pandas dataframe\n",
    "        row by row\n",
    "    \"\"\"\n",
    "    def __init__(\n",
    "        self,\n",
    "        df: pd.DataFrame,\n",
    "        options_col: str,\n",
    "        result_col: str=\"label\",\n",
    "        show_callback: Callable=None,\n",
    "        auto_fill_in: bool=True\n",
    "    ):\n",
    "        \"\"\"\n",
    "        - df: pd.DataFrame, a dataframe prepared\n",
    "        - options_col: str, column name assigned with options\n",
    "        - result_col: str, default 'label',\n",
    "            column name we'll assign the labels\n",
    "        - auto_fill_in: bool, defult True, do we fill in the label\n",
    "            automatically if there is only one option\n",
    "        \"\"\"\n",
    "        self.df = df\n",
    "        self.result_col = result_col\n",
    "        self.options_col = options_col\n",
    "        \n",
    "        if auto_fill_in:\n",
    "            self.df.loc[:,self.result_col] = self.df[self.options_col]\\\n",
    "                .apply(lambda x:x[0] if len(x)==1 else None)\n",
    "        else:\n",
    "            self.df.loc[:,self.result_col] = [None,]*len(self.df)\n",
    "        \n",
    "        self.out = Output()\n",
    "        show_dict = lambda idx,row:str(dict(row))\n",
    "        self.show_callback = show_dict if show_callback is None else show_callback\n",
    "        \n",
    "    def get_progress_bar(self, idx) -> HBox:\n",
    "        \"\"\"\n",
    "        get a progress bar based on the row index\n",
    "        \"\"\"\n",
    "        i = self.df.index.get_loc(idx)\n",
    "        return HBox([\n",
    "            IntProgress(value=i, min=0, max=len(self.df)),\n",
    "            HTML(f\"{i+1}/{len(self.df)}\")\n",
    "                    ])\n",
    "        \n",
    "    def button_box(\n",
    "        self,\n",
    "        idx: int,\n",
    "        options: List[str]\n",
    "    ) -> HBox:\n",
    "        \"\"\"\n",
    "        create a box of buttons based on options\n",
    "        \"\"\"\n",
    "        btns = []\n",
    "        for o in options:\n",
    "            btn = Button(description = o,)\n",
    "            btn.value=o\n",
    "            btn.idx=idx\n",
    "            btn.on_click(self.choice_cb)\n",
    "            btns.append(btn)\n",
    "        return HBox(btns)\n",
    "        \n",
    "    def choice_cb(self, option):\n",
    "        with self.out:\n",
    "            self.df.loc[option.idx, self.result_col] = option.value\n",
    "        try:\n",
    "            idx,row = next(self.gen)\n",
    "        except StopIteration as e:\n",
    "            self.out.clear_output()\n",
    "            display(self.get_progress_bar(self.df.index[-1]))\n",
    "            display(HTML(\"<h3>All Done</h3>\"))\n",
    "            display(HTML(\"<h5>Thanks for all the labeling, now try self.df to see the result</h5>\"))\n",
    "            return\n",
    "        self.show_func(idx,row)\n",
    "        \n",
    "    def __iter__(self):\n",
    "        for idx, row in self.df.iterrows():\n",
    "            if (row[self.result_col] is None) and (len(row[self.options_col]))>1:\n",
    "                yield idx, row\n",
    "        \n",
    "    def __call__(self) -> None:\n",
    "        \"\"\"\n",
    "        Start labeling\n",
    "        \"\"\"\n",
    "        self.gen = iter(self)\n",
    "        self.show_func(*next(self.gen))\n",
    "        display(self.out)\n",
    "    \n",
    "    def show_func(self, idx, row) -> None:\n",
    "        self.out.clear_output()\n",
    "        with self.out:\n",
    "            display(\n",
    "                    VBox([\n",
    "                        self.get_progress_bar(idx),\n",
    "                        HTML(self.show_callback(idx, row)),\n",
    "                        self.button_box(idx, row[self.options_col])\n",
    "                    ]))"
   ]
  },
  {
   "cell_type": "code",
   "execution_count": 30,
   "metadata": {},
   "outputs": [
    {
     "data": {
      "text/html": [
       "<div>\n",
       "<style scoped>\n",
       "    .dataframe tbody tr th:only-of-type {\n",
       "        vertical-align: middle;\n",
       "    }\n",
       "\n",
       "    .dataframe tbody tr th {\n",
       "        vertical-align: top;\n",
       "    }\n",
       "\n",
       "    .dataframe thead th {\n",
       "        text-align: right;\n",
       "    }\n",
       "</style>\n",
       "<table border=\"1\" class=\"dataframe\">\n",
       "  <thead>\n",
       "    <tr style=\"text-align: right;\">\n",
       "      <th></th>\n",
       "      <th>keyword</th>\n",
       "    </tr>\n",
       "  </thead>\n",
       "  <tbody>\n",
       "    <tr>\n",
       "      <td>0</td>\n",
       "      <td>Appetite Regulation</td>\n",
       "    </tr>\n",
       "    <tr>\n",
       "      <td>1</td>\n",
       "      <td>Hymecromone</td>\n",
       "    </tr>\n",
       "    <tr>\n",
       "      <td>2</td>\n",
       "      <td>Round Ligament of Uterus</td>\n",
       "    </tr>\n",
       "    <tr>\n",
       "      <td>3</td>\n",
       "      <td>Sugar Acids</td>\n",
       "    </tr>\n",
       "    <tr>\n",
       "      <td>4</td>\n",
       "      <td>Nogalamycin</td>\n",
       "    </tr>\n",
       "  </tbody>\n",
       "</table>\n",
       "</div>"
      ],
      "text/plain": [
       "                    keyword\n",
       "0       Appetite Regulation\n",
       "1               Hymecromone\n",
       "2  Round Ligament of Uterus\n",
       "3               Sugar Acids\n",
       "4               Nogalamycin"
      ]
     },
     "execution_count": 30,
     "metadata": {},
     "output_type": "execute_result"
    }
   ],
   "source": [
    "df = df.loc[1:].reset_index(drop=True)\n",
    "df.head()"
   ]
  },
  {
   "cell_type": "markdown",
   "metadata": {},
   "source": [
    "### Design a dataframe with a column assigned with options"
   ]
  },
  {
   "cell_type": "code",
   "execution_count": 32,
   "metadata": {},
   "outputs": [
    {
     "data": {
      "text/html": [
       "<div>\n",
       "<style scoped>\n",
       "    .dataframe tbody tr th:only-of-type {\n",
       "        vertical-align: middle;\n",
       "    }\n",
       "\n",
       "    .dataframe tbody tr th {\n",
       "        vertical-align: top;\n",
       "    }\n",
       "\n",
       "    .dataframe thead th {\n",
       "        text-align: right;\n",
       "    }\n",
       "</style>\n",
       "<table border=\"1\" class=\"dataframe\">\n",
       "  <thead>\n",
       "    <tr style=\"text-align: right;\">\n",
       "      <th></th>\n",
       "      <th>keyword</th>\n",
       "      <th>length</th>\n",
       "      <th>options</th>\n",
       "    </tr>\n",
       "  </thead>\n",
       "  <tbody>\n",
       "    <tr>\n",
       "      <td>0</td>\n",
       "      <td>Appetite Regulation</td>\n",
       "      <td>19</td>\n",
       "      <td>[A, B]</td>\n",
       "    </tr>\n",
       "    <tr>\n",
       "      <td>1</td>\n",
       "      <td>Hymecromone</td>\n",
       "      <td>11</td>\n",
       "      <td>[A, B]</td>\n",
       "    </tr>\n",
       "    <tr>\n",
       "      <td>2</td>\n",
       "      <td>Round Ligament of Uterus</td>\n",
       "      <td>24</td>\n",
       "      <td>[A, B]</td>\n",
       "    </tr>\n",
       "    <tr>\n",
       "      <td>3</td>\n",
       "      <td>Sugar Acids</td>\n",
       "      <td>11</td>\n",
       "      <td>[A, B]</td>\n",
       "    </tr>\n",
       "    <tr>\n",
       "      <td>4</td>\n",
       "      <td>Nogalamycin</td>\n",
       "      <td>11</td>\n",
       "      <td>[A, B]</td>\n",
       "    </tr>\n",
       "    <tr>\n",
       "      <td>...</td>\n",
       "      <td>...</td>\n",
       "      <td>...</td>\n",
       "      <td>...</td>\n",
       "    </tr>\n",
       "    <tr>\n",
       "      <td>1994</td>\n",
       "      <td>Alcoholics Anonymous</td>\n",
       "      <td>20</td>\n",
       "      <td>[A, B]</td>\n",
       "    </tr>\n",
       "    <tr>\n",
       "      <td>1995</td>\n",
       "      <td>Lymphocyte Cooperation</td>\n",
       "      <td>22</td>\n",
       "      <td>[A, B]</td>\n",
       "    </tr>\n",
       "    <tr>\n",
       "      <td>1996</td>\n",
       "      <td>Anthocerotophyta</td>\n",
       "      <td>16</td>\n",
       "      <td>[A, B]</td>\n",
       "    </tr>\n",
       "    <tr>\n",
       "      <td>1997</td>\n",
       "      <td>Traction</td>\n",
       "      <td>8</td>\n",
       "      <td>[A, B]</td>\n",
       "    </tr>\n",
       "    <tr>\n",
       "      <td>1998</td>\n",
       "      <td>H(+)-K(+)-Exchanging ATPase</td>\n",
       "      <td>27</td>\n",
       "      <td>[A, B]</td>\n",
       "    </tr>\n",
       "  </tbody>\n",
       "</table>\n",
       "<p>1999 rows × 3 columns</p>\n",
       "</div>"
      ],
      "text/plain": [
       "                          keyword  length options\n",
       "0             Appetite Regulation      19  [A, B]\n",
       "1                     Hymecromone      11  [A, B]\n",
       "2        Round Ligament of Uterus      24  [A, B]\n",
       "3                     Sugar Acids      11  [A, B]\n",
       "4                     Nogalamycin      11  [A, B]\n",
       "...                           ...     ...     ...\n",
       "1994         Alcoholics Anonymous      20  [A, B]\n",
       "1995       Lymphocyte Cooperation      22  [A, B]\n",
       "1996             Anthocerotophyta      16  [A, B]\n",
       "1997                     Traction       8  [A, B]\n",
       "1998  H(+)-K(+)-Exchanging ATPase      27  [A, B]\n",
       "\n",
       "[1999 rows x 3 columns]"
      ]
     },
     "execution_count": 32,
     "metadata": {},
     "output_type": "execute_result"
    }
   ],
   "source": [
    "df.loc[:,\"length\"] = df.keyword.apply(len)\n",
    "df[\"options\"] = pd.Series([[\"A\",\"B\"]]*len(df))\n",
    "df"
   ]
  },
  {
   "cell_type": "code",
   "execution_count": 34,
   "metadata": {},
   "outputs": [],
   "source": [
    "def show_keyword(idx: int, row: Dict[str, str]):\n",
    "    kw = row[\"keyword\"]\n",
    "    length = row[\"length\"]\n",
    "    return f\"\"\"\n",
    "    <div>Keyword\n",
    "    <strong class='text-danger'>{kw}</strong>\n",
    "    (with length:{length})\n",
    "    </div>\"\"\"\n",
    "\n",
    "lbl = Labeler(df, options_col=\"options\", show_callback=show_keyword)"
   ]
  },
  {
   "cell_type": "markdown",
   "metadata": {},
   "source": [
    "### Start labeling "
   ]
  },
  {
   "cell_type": "code",
   "execution_count": null,
   "metadata": {},
   "outputs": [],
   "source": [
    "lbl()"
   ]
  },
  {
   "cell_type": "markdown",
   "metadata": {},
   "source": [
    "<img src=\"data:image/png;base64,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\" alt=\"image.png\">"
   ]
  },
  {
   "cell_type": "markdown",
   "metadata": {},
   "source": [
    "### Review the label result"
   ]
  },
  {
   "cell_type": "code",
   "execution_count": 38,
   "metadata": {},
   "outputs": [
    {
     "data": {
      "text/html": [
       "<div>\n",
       "<style scoped>\n",
       "    .dataframe tbody tr th:only-of-type {\n",
       "        vertical-align: middle;\n",
       "    }\n",
       "\n",
       "    .dataframe tbody tr th {\n",
       "        vertical-align: top;\n",
       "    }\n",
       "\n",
       "    .dataframe thead th {\n",
       "        text-align: right;\n",
       "    }\n",
       "</style>\n",
       "<table border=\"1\" class=\"dataframe\">\n",
       "  <thead>\n",
       "    <tr style=\"text-align: right;\">\n",
       "      <th></th>\n",
       "      <th>keyword</th>\n",
       "      <th>length</th>\n",
       "      <th>options</th>\n",
       "      <th>label</th>\n",
       "    </tr>\n",
       "  </thead>\n",
       "  <tbody>\n",
       "    <tr>\n",
       "      <td>0</td>\n",
       "      <td>Appetite Regulation</td>\n",
       "      <td>19</td>\n",
       "      <td>[A, B]</td>\n",
       "      <td>A</td>\n",
       "    </tr>\n",
       "    <tr>\n",
       "      <td>1</td>\n",
       "      <td>Hymecromone</td>\n",
       "      <td>11</td>\n",
       "      <td>[A, B]</td>\n",
       "      <td>B</td>\n",
       "    </tr>\n",
       "    <tr>\n",
       "      <td>2</td>\n",
       "      <td>Round Ligament of Uterus</td>\n",
       "      <td>24</td>\n",
       "      <td>[A, B]</td>\n",
       "      <td>A</td>\n",
       "    </tr>\n",
       "    <tr>\n",
       "      <td>3</td>\n",
       "      <td>Sugar Acids</td>\n",
       "      <td>11</td>\n",
       "      <td>[A, B]</td>\n",
       "      <td>B</td>\n",
       "    </tr>\n",
       "    <tr>\n",
       "      <td>4</td>\n",
       "      <td>Nogalamycin</td>\n",
       "      <td>11</td>\n",
       "      <td>[A, B]</td>\n",
       "      <td>B</td>\n",
       "    </tr>\n",
       "  </tbody>\n",
       "</table>\n",
       "</div>"
      ],
      "text/plain": [
       "                    keyword  length options label\n",
       "0       Appetite Regulation      19  [A, B]     A\n",
       "1               Hymecromone      11  [A, B]     B\n",
       "2  Round Ligament of Uterus      24  [A, B]     A\n",
       "3               Sugar Acids      11  [A, B]     B\n",
       "4               Nogalamycin      11  [A, B]     B"
      ]
     },
     "execution_count": 38,
     "metadata": {},
     "output_type": "execute_result"
    }
   ],
   "source": [
    "lbl.df.head()"
   ]
  }
 ],
 "metadata": {
  "kernelspec": {
   "display_name": "Python 3",
   "language": "python",
   "name": "python3"
  },
  "language_info": {
   "codemirror_mode": {
    "name": "ipython",
    "version": 3
   },
   "file_extension": ".py",
   "mimetype": "text/x-python",
   "name": "python",
   "nbconvert_exporter": "python",
   "pygments_lexer": "ipython3",
   "version": "3.7.4"
  },
  "toc": {
   "base_numbering": 1,
   "nav_menu": {},
   "number_sections": true,
   "sideBar": true,
   "skip_h1_title": false,
   "title_cell": "Table of Contents",
   "title_sidebar": "Contents",
   "toc_cell": false,
   "toc_position": {},
   "toc_section_display": true,
   "toc_window_display": false
  }
 },
 "nbformat": 4,
 "nbformat_minor": 2
}
