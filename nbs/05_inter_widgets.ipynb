{
 "cells": [
  {
   "cell_type": "markdown",
   "metadata": {},
   "source": [
    "# Interactive tools\n",
    "> Very helpful interactive tools"
   ]
  },
  {
   "cell_type": "code",
   "execution_count": 1,
   "metadata": {},
   "outputs": [],
   "source": [
    "# default_exp widgets"
   ]
  },
  {
   "cell_type": "code",
   "execution_count": 1,
   "metadata": {},
   "outputs": [],
   "source": [
    "# export\n",
    "import pandas as pd\n",
    "import numpy as np\n",
    "from forgebox.df import PandasDisplay\n",
    "from typing import Callable, List, Tuple, Set, Dict\n",
    "from ipywidgets import IntSlider, FloatSlider, Text, Textarea, Layout,\\\n",
    "    Output, HBox, VBox, Button, Select, SelectMultiple, Dropdown"
   ]
  },
  {
   "cell_type": "code",
   "execution_count": 2,
   "metadata": {},
   "outputs": [],
   "source": [
    "# export\n",
    "def display_df(df):display(df)\n",
    "\n",
    "def search_box(df,columns,manual = False,max_rows = 10,callback = display_df):\n",
    "    \"\"\"\n",
    "    create a search box based on dataframe\n",
    "    df: pandas dataframe\n",
    "    columns: str, dataframe field name\n",
    "    manual: bool, search the dataframe on when click the button(manual=True), \n",
    "        or on keypress reaction to inputbox (manual=False), default False\n",
    "    max_rows:int, max rows of show result, default 10\n",
    "    callback: python callable, discribe the action you want to put on \n",
    "        search result (a filtered dataframe), default is to display the dataframe\n",
    "    \"\"\"\n",
    "    from ipywidgets import interact,interact_manual\n",
    "    from IPython.display import HTML\n",
    "    \n",
    "    intera = interact_manual if manual else interact\n",
    "\n",
    "    @intera\n",
    "    def search(KeyWord = \"\",):\n",
    "        for col in columns:\n",
    "            result = df[col].fillna(\"NaN Value\").str.contains(KeyWord)\n",
    "            if sum(result)>0:\n",
    "                with PandasDisplay(max_colwidth=0,max_rows=max_rows):\n",
    "                    display(HTML(f\"<h3>\\\"{KeyWord}\\\" matched on column:[{col}]</h3>\"))\n",
    "                    callback(df[result].head(max_rows))\n",
    "                    return \n",
    "        print(f\"Nothing found on any column on keyword:{KeyWord}\")\n",
    "        return "
   ]
  },
  {
   "cell_type": "markdown",
   "metadata": {},
   "source": [
    "## Search text within dataframe columns\n",
    "\n",
    "We can have any dataframe we like:"
   ]
  },
  {
   "cell_type": "code",
   "execution_count": 3,
   "metadata": {},
   "outputs": [],
   "source": [
    "df = pd.read_csv(\"~/Downloads/mesh_keywords_202004201804.csv\").head(2000)"
   ]
  },
  {
   "cell_type": "markdown",
   "metadata": {},
   "source": [
    "Put the dataframe and target column names into the ```search_box()```"
   ]
  },
  {
   "cell_type": "code",
   "execution_count": 4,
   "metadata": {},
   "outputs": [
    {
     "data": {
      "application/vnd.jupyter.widget-view+json": {
       "model_id": "3b3e0ea48c51455a8729a3d2f4fcf5b4",
       "version_major": 2,
       "version_minor": 0
      },
      "text/plain": [
       "interactive(children=(Text(value='', description='KeyWord'), Output()), _dom_classes=('widget-interact',))"
      ]
     },
     "metadata": {},
     "output_type": "display_data"
    }
   ],
   "source": [
    "search_box(df,columns=[\"keyword\",])"
   ]
  },
  {
   "cell_type": "markdown",
   "metadata": {},
   "source": [
    "If your dataframe is slightly huge, and slow to respond, you can use ```manual=True``` to turn off the auto keypress response"
   ]
  },
  {
   "cell_type": "code",
   "execution_count": 5,
   "metadata": {},
   "outputs": [
    {
     "data": {
      "application/vnd.jupyter.widget-view+json": {
       "model_id": "6d148ae6a3a142fdba1ef48372e38f68",
       "version_major": 2,
       "version_minor": 0
      },
      "text/plain": [
       "interactive(children=(Text(value='', description='KeyWord'), Button(description='Run Interact', style=ButtonSt…"
      ]
     },
     "metadata": {},
     "output_type": "display_data"
    }
   ],
   "source": [
    "search_box(df,columns=[\"keyword\",],manual=True)"
   ]
  },
  {
   "cell_type": "markdown",
   "metadata": {},
   "source": [
    "## Interactive pagination"
   ]
  },
  {
   "cell_type": "code",
   "execution_count": 6,
   "metadata": {},
   "outputs": [],
   "source": [
    "# export\n",
    "def paginate(df,page_len = 20):\n",
    "    \"\"\"\n",
    "    Paginate dataframe in jupyter notebook interactively\n",
    "    Like you can flip through the page\n",
    "    \"\"\"\n",
    "    from ipywidgets import interact,interact_manual\n",
    "    from IPython.display import display,HTML\n",
    "    pages = len(df)//page_len\n",
    "    @interact\n",
    "    def preview(page = (0,pages)):\n",
    "        display(HTML(f\"<h4>page:{page}/{pages}</4>\"))\n",
    "        end = (page+1)*page_len\n",
    "        display(df.head(end).tail(page_len))"
   ]
  },
  {
   "cell_type": "code",
   "execution_count": 7,
   "metadata": {},
   "outputs": [
    {
     "data": {
      "application/vnd.jupyter.widget-view+json": {
       "model_id": "a378159cd5ba4be5a1f5ebfb1f7725f5",
       "version_major": 2,
       "version_minor": 0
      },
      "text/plain": [
       "interactive(children=(IntSlider(value=50, description='page'), Output()), _dom_classes=('widget-interact',))"
      ]
     },
     "metadata": {},
     "output_type": "display_data"
    }
   ],
   "source": [
    "paginate(df)"
   ]
  },
  {
   "cell_type": "markdown",
   "metadata": {},
   "source": [
    "## SingleButton widget"
   ]
  },
  {
   "cell_type": "markdown",
   "metadata": {},
   "source": [
    "A single button widget\n",
    "\n",
    "It's like interactive_manual with callback\n",
    "\n",
    "You can make an fully interactive featured widgets if there is only one button to get new page\n",
    "    \n",
    "### Example\n",
    "    \n",
    "```python\n",
    "@SingleButton(callback=execute_sql, btn_text:\"run command\", btn_style=\"primary\")\n",
    "def makeup_some_sql(\n",
    "    table={\"typing\":list, \"options\":[\"table_a\", \"table_b\"]},\n",
    "    limit={\"typing\":int, \"max\":1000, \"step\":10, \"default\":100},\n",
    "):\n",
    "    return f\"select * from {table} limit {limit}\"\n",
    "```"
   ]
  },
  {
   "cell_type": "code",
   "execution_count": 11,
   "metadata": {},
   "outputs": [],
   "source": [
    "# export\n",
    "def make_hboxes(\n",
    "    *widgets,\n",
    "    sections: int=2\n",
    ") -> List[HBox]:\n",
    "    \"\"\"\n",
    "    Make a list of HBox, with each hbox\n",
    "        contans {sections} of widgets at most\n",
    "    widgets: widget from ipywidgets\n",
    "    sections: int\n",
    "    \"\"\"\n",
    "    hbox_list = []\n",
    "    hbox_inner=[]\n",
    "    for idx, widget in enumerate(widgets):\n",
    "        hbox_inner.append(widget)\n",
    "        if idx%sections==sections-1:\n",
    "            hbox_list.append(HBox(hbox_inner))\n",
    "            hbox_inner=[]\n",
    "    if len(hbox_inner)>0:\n",
    "        hbox_list.append(HBox(hbox_inner))\n",
    "    return hbox_list\n",
    "\n",
    "class SingleButton:\n",
    "    \"\"\"\n",
    "    A single button widget\n",
    "    It's like interactive_manual with callback\n",
    "    \n",
    "    ## Example\n",
    "    \n",
    "    ```python\n",
    "    @SingleButton(callback=execute_sql, btn_text:\"run command\", btn_style=\"primary\")\n",
    "    def makeup_some_sql(\n",
    "        table={\"typing\":list, \"options\":[\"table_a\", \"table_b\"]},\n",
    "        limit={\"typing\":int, \"max\":1000, \"step\":10, \"default\":100},\n",
    "    ):\n",
    "        return f\"select * from {table} limit {limit}\"\n",
    "    ```\n",
    "    \"\"\"\n",
    "    def __init__(\n",
    "        self,\n",
    "        btn_text: str=\"Run\",\n",
    "        btn_style: str=\"danger\",\n",
    "        callback: Callable=lambda x:x,\n",
    "        sections: int=2,\n",
    "    ):\n",
    "        \"\"\"\n",
    "        btn_text: str, text appears on the button\n",
    "        btn_style: str, one of the [\"danger\", \"warning\", \"info\", \"primary\"]\n",
    "        \"\"\"\n",
    "        self.btn_text = btn_text\n",
    "        self.btn_style = btn_style\n",
    "        self.callback = callback\n",
    "        self.sections = sections\n",
    "        \n",
    "    def create_slider(\n",
    "        self, k: str,\n",
    "        anno: dict):\n",
    "        \"\"\"\n",
    "        create int or float slider widget \n",
    "        \"\"\"\n",
    "        typing = anno[\"typing\"]\n",
    "        if typing == int:\n",
    "            wi = IntSlider(description=k)\n",
    "        elif typing == float:\n",
    "            wi = FloatSlider(description=k)\n",
    "        else:\n",
    "            raise TypeError(\n",
    "                f\"typing should be either int or float, not {typing}\")\n",
    "        if \"default\" in anno:\n",
    "            wi.value = anno[\"default\"]\n",
    "        if \"min\" in anno:\n",
    "            wi.min = anno[\"min\"]\n",
    "        if \"max\" in anno:\n",
    "            wi.max = anno[\"max\"]\n",
    "        if \"step\" in anno:\n",
    "            wi.step = anno[\"step\"]\n",
    "            \n",
    "        return wi\n",
    "    \n",
    "    def create_text(self, k, anno):\n",
    "        \"\"\"\n",
    "        create text area widget\n",
    "        \"\"\"\n",
    "        if \"textarea\" in anno:\n",
    "            layout = Layout(width=\"100%\", height=\"auto\" )\n",
    "            wi = Textarea(description=k, layout=layout)\n",
    "        else:\n",
    "            wi = Text(description=k)\n",
    "        if \"default\" in anno:\n",
    "            wi.value = anno[\"default\"]\n",
    "        return wi\n",
    "    \n",
    "    def create_dropdown(self, k, anno) -> Dropdown:\n",
    "        atype = anno[\"typing\"]\n",
    "        wi = Dropdown(description=k, options=anno[\"options\"])\n",
    "        if \"default\" in anno:\n",
    "            wi.value = anno[\"default\"]\n",
    "        return wi\n",
    "        \n",
    "    def anno_widgets(self):\n",
    "        self.controls = dict()\n",
    "        for k, anno in self.f.__annotations__.items():\n",
    "            if \"typing\" not in anno:\n",
    "                raise KeyError(f\"Missing typing data in arg/kwarg: {k}\")\n",
    "            atype = anno[\"typing\"]\n",
    "            if atype in [int, float]:\n",
    "                create_func = self.create_slider\n",
    "            elif atype == str:\n",
    "                create_func = self.create_text\n",
    "            elif atype in [list, tuple, set, dict, List, Tuple, Set, Dict]:\n",
    "                create_func = self.create_dropdown\n",
    "            else:\n",
    "                raise TypeError(f\"type {atype} not found\")\n",
    "            self.controls.update({k:create_func(k, anno)})\n",
    "        \n",
    "    def execute(self, btn):\n",
    "        \"\"\"\n",
    "        Execute target function\n",
    "        \"\"\"\n",
    "        self.out.clear_output()\n",
    "        inputs = dict((b.description, b.value) for b in self.controls.values())\n",
    "        \n",
    "        with self.out:\n",
    "            rt = self.target_func(**inputs)\n",
    "            return rt\n",
    "        \n",
    "    def __call__(self, f: Callable):\n",
    "        \"\"\"\n",
    "        Use this class as a decorator\n",
    "        @SingleButton(callback=func)\n",
    "        def abc(...):\n",
    "            ...\n",
    "        \"\"\"\n",
    "        self.f=f\n",
    "        self.name = f.__name__\n",
    "        self.anno_widgets()\n",
    "        def wrapper(*args,**kwargs):\n",
    "            rt = f(*args,**kwargs)\n",
    "            self.callback(rt)\n",
    "            return rt\n",
    "        \n",
    "        self.target_func = wrapper\n",
    "        self.out = Output()\n",
    "        self.run_btn = Button(\n",
    "            description=self.btn_text, button_style=\"danger\")\n",
    "        self.hboxes = make_hboxes(\n",
    "            *list(self.controls.values()),\n",
    "            sections=self.sections)\n",
    "        self.btn_boxes = make_hboxes(self.run_btn, sections=self.sections)\n",
    "        \n",
    "        self.run_btn.on_click(self.execute)\n",
    "        self.vbox = VBox([*self.hboxes, *self.btn_boxes, self.out])\n",
    "        display(self.vbox)\n",
    "        return f"
   ]
  },
  {
   "cell_type": "markdown",
   "metadata": {},
   "source": [
    "### Example for SingleButton"
   ]
  },
  {
   "cell_type": "markdown",
   "metadata": {},
   "source": [
    "This is a sample callback"
   ]
  },
  {
   "cell_type": "code",
   "execution_count": 12,
   "metadata": {},
   "outputs": [],
   "source": [
    "from forgebox.html import DOM\n",
    "def sql_callback(x):\n",
    "    DOM(x,\"h3\")()\n",
    "    # and we execute more code like,\n",
    "    #    eg. run this line in sql\n",
    "    return x"
   ]
  },
  {
   "cell_type": "markdown",
   "metadata": {},
   "source": [
    "Now we can have an interactive single button page, with multipule input widgets"
   ]
  },
  {
   "cell_type": "code",
   "execution_count": 13,
   "metadata": {},
   "outputs": [
    {
     "data": {
      "application/vnd.jupyter.widget-view+json": {
       "model_id": "d95b90652b954e1ba7c1ee44256e90e3",
       "version_major": 2,
       "version_minor": 0
      },
      "text/plain": [
       "VBox(children=(HBox(children=(IntSlider(value=10, description='limit', max=20, min=5), Text(value='where 1=1',…"
      ]
     },
     "metadata": {},
     "output_type": "display_data"
    }
   ],
   "source": [
    "@SingleButton(callback=sql_callback)\n",
    "def abc(\n",
    "    limit:{\"typing\":int, \"default\":10, \"min\":5, \"max\":20},\n",
    "    where_condition:{\"typing\":str, \"default\": \"where 1=1\", },\n",
    "    table:{\"typing\":list, \"options\":[\"image_urls\",\"patient_data\"]},\n",
    "):\n",
    "    return f\"sql > SELECT * FROM {table} {where_condition} LIMIT {limit}\""
   ]
  },
  {
   "cell_type": "code",
   "execution_count": null,
   "metadata": {},
   "outputs": [],
   "source": []
  }
 ],
 "metadata": {
  "kernelspec": {
   "display_name": "Python 3",
   "language": "python",
   "name": "python3"
  },
  "language_info": {
   "codemirror_mode": {
    "name": "ipython",
    "version": 3
   },
   "file_extension": ".py",
   "mimetype": "text/x-python",
   "name": "python",
   "nbconvert_exporter": "python",
   "pygments_lexer": "ipython3",
   "version": "3.7.4"
  },
  "toc": {
   "base_numbering": 1,
   "nav_menu": {},
   "number_sections": true,
   "sideBar": true,
   "skip_h1_title": false,
   "title_cell": "Table of Contents",
   "title_sidebar": "Contents",
   "toc_cell": false,
   "toc_position": {},
   "toc_section_display": true,
   "toc_window_display": false
  }
 },
 "nbformat": 4,
 "nbformat_minor": 2
}
