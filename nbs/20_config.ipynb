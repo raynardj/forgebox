{
 "cells": [
  {
   "cell_type": "markdown",
   "metadata": {},
   "source": [
    "# Config"
   ]
  },
  {
   "cell_type": "code",
   "execution_count": null,
   "metadata": {},
   "outputs": [],
   "source": [
    "# default_exp config"
   ]
  },
  {
   "cell_type": "code",
   "execution_count": 20,
   "metadata": {},
   "outputs": [],
   "source": [
    "# export\n",
    "import json\n",
    "from datetime import datetime"
   ]
  },
  {
   "cell_type": "code",
   "execution_count": 105,
   "metadata": {},
   "outputs": [],
   "source": [
    "# export\n",
    "class Config(dict):\n",
    "    def __setattr__(self,k,v):\n",
    "        self[k]=v\n",
    "        \n",
    "    def __getattr__(self,k,):\n",
    "        return self[k]\n",
    "    \n",
    "    def __delattr__(self,k):\n",
    "        del self[k]\n",
    "        \n",
    "    def pretty_print(self):\n",
    "        print(json.dumps(self,indent = 4))\n",
    "        \n",
    "    def __call__(self,**kwargs):\n",
    "        \"\"\"\n",
    "        assign more keyword value\n",
    "        \"\"\"\n",
    "        self.update(kwargs)\n",
    "        return self\n",
    "    \n",
    "    def save(self,json_path,indent=None):\n",
    "        \"\"\"\n",
    "        save to json file\n",
    "        \"\"\"\n",
    "        with open(json_path,\"w\") as f:\n",
    "            json.dump(self,f,indent = indent)\n",
    "    \n",
    "    @classmethod\n",
    "    def load(cls,path):\n",
    "        \"\"\"\n",
    "        load from json file\n",
    "        \"\"\"\n",
    "        with open(path,\"r\") as f:\n",
    "            obj = cls()(**json.loads(f.read()))\n",
    "        return obj\n",
    "    \n",
    "    def first(self,key):\n",
    "        return first(self,key)\n",
    "    \n",
    "    def getall(self,key):\n",
    "        return getall(self,key)\n",
    "    \n",
    "def first(d,key):\n",
    "    if hasattr(d,\"items\"):\n",
    "        for k,v in d.items():\n",
    "            if k==key: return v\n",
    "            else: \n",
    "                ans = first(v,key)\n",
    "                if ans!=None: return ans\n",
    "                \n",
    "    if type(d) in [tuple,list,set]:\n",
    "        for i in d:\n",
    "            ans = first(i,key)\n",
    "            if ans!=None: return ans\n",
    "    return None\n",
    "\n",
    "def getall(d,key):\n",
    "    results = []\n",
    "    if hasattr(d,\"items\"):\n",
    "        for k,v in d.items():\n",
    "            if k==key: results+=[v,]\n",
    "            else: results += getall(v,key)\n",
    "                \n",
    "    if type(d) in [tuple,list,set]:\n",
    "        for i in d:\n",
    "            results += getall(i,key)\n",
    "    return results"
   ]
  },
  {
   "cell_type": "code",
   "execution_count": 106,
   "metadata": {},
   "outputs": [
    {
     "data": {
      "text/plain": [
       "<method 'items' of 'dict' objects>"
      ]
     },
     "execution_count": 106,
     "metadata": {},
     "output_type": "execute_result"
    }
   ],
   "source": [
    "dict.items"
   ]
  },
  {
   "cell_type": "code",
   "execution_count": 107,
   "metadata": {},
   "outputs": [
    {
     "name": "stdout",
     "output_type": "stream",
     "text": [
      "{\n",
      "    \"a\": 1,\n",
      "    \"z\": 3,\n",
      "    \"b\": 2,\n",
      "    \"c\": [\n",
      "        {\n",
      "            \"d\": 5,\n",
      "            \"e\": 6,\n",
      "            \"z\": 5\n",
      "        },\n",
      "        {\n",
      "            \"g\": 7,\n",
      "            \"h\": {\n",
      "                \"i\": 8,\n",
      "                \"z\": 6\n",
      "            }\n",
      "        }\n",
      "    ]\n",
      "}\n"
     ]
    }
   ],
   "source": [
    "config = Config(a = 1,z=3,b=2,c=[dict(d=5,e=6,z=5),dict(g=7,h=dict(i=8,z=6))])\n",
    "config.pretty_print()"
   ]
  },
  {
   "cell_type": "code",
   "execution_count": 108,
   "metadata": {},
   "outputs": [
    {
     "data": {
      "text/plain": [
       "3"
      ]
     },
     "execution_count": 108,
     "metadata": {},
     "output_type": "execute_result"
    }
   ],
   "source": [
    "config.first(\"z\")"
   ]
  },
  {
   "cell_type": "code",
   "execution_count": 109,
   "metadata": {},
   "outputs": [
    {
     "data": {
      "text/plain": [
       "[3, 5, 6]"
      ]
     },
     "execution_count": 109,
     "metadata": {},
     "output_type": "execute_result"
    }
   ],
   "source": [
    "config.getall(\"z\")"
   ]
  },
  {
   "cell_type": "markdown",
   "metadata": {},
   "source": [
    "## Pretty print config"
   ]
  },
  {
   "cell_type": "code",
   "execution_count": 61,
   "metadata": {},
   "outputs": [
    {
     "name": "stdout",
     "output_type": "stream",
     "text": [
      "{\n",
      "    \"a\": 1,\n",
      "    \"b\": 2\n",
      "}\n"
     ]
    }
   ],
   "source": [
    "Config(a=1,b=2).pretty_print()"
   ]
  },
  {
   "cell_type": "markdown",
   "metadata": {},
   "source": [
    "## Multiple ways of setting config"
   ]
  },
  {
   "cell_type": "code",
   "execution_count": 62,
   "metadata": {},
   "outputs": [],
   "source": [
    "config = Config(a=1,b=2)(c=5)(d=6)\n",
    "config.e=12"
   ]
  },
  {
   "cell_type": "code",
   "execution_count": 63,
   "metadata": {},
   "outputs": [
    {
     "data": {
      "text/plain": [
       "{'a': 1, 'b': 2, 'c': 5, 'd': 6, 'e': 12}"
      ]
     },
     "execution_count": 63,
     "metadata": {},
     "output_type": "execute_result"
    }
   ],
   "source": [
    "config"
   ]
  },
  {
   "cell_type": "markdown",
   "metadata": {},
   "source": [
    "## Save and load json"
   ]
  },
  {
   "cell_type": "code",
   "execution_count": 64,
   "metadata": {},
   "outputs": [
    {
     "name": "stdout",
     "output_type": "stream",
     "text": [
      "{\"a\": 1, \"b\": 2, \"c\": 5, \"d\": 6, \"e\": 12}"
     ]
    }
   ],
   "source": [
    "config.save(\"test.json\")\n",
    "!cat test.json"
   ]
  },
  {
   "cell_type": "code",
   "execution_count": 65,
   "metadata": {},
   "outputs": [
    {
     "data": {
      "text/plain": [
       "{'a': 1, 'b': 2, 'c': 5, 'd': 6, 'e': 12}"
      ]
     },
     "execution_count": 65,
     "metadata": {},
     "output_type": "execute_result"
    }
   ],
   "source": [
    "Config.load(\"test.json\")"
   ]
  },
  {
   "cell_type": "code",
   "execution_count": 51,
   "metadata": {},
   "outputs": [],
   "source": [
    "!rm test.json"
   ]
  },
  {
   "cell_type": "code",
   "execution_count": null,
   "metadata": {},
   "outputs": [],
   "source": []
  }
 ],
 "metadata": {
  "kernelspec": {
   "display_name": "Python 3",
   "language": "python",
   "name": "python3"
  },
  "language_info": {
   "codemirror_mode": {
    "name": "ipython",
    "version": 3
   },
   "file_extension": ".py",
   "mimetype": "text/x-python",
   "name": "python",
   "nbconvert_exporter": "python",
   "pygments_lexer": "ipython3",
   "version": "3.7.4"
  },
  "toc": {
   "base_numbering": 1,
   "nav_menu": {},
   "number_sections": true,
   "sideBar": true,
   "skip_h1_title": false,
   "title_cell": "Table of Contents",
   "title_sidebar": "Contents",
   "toc_cell": false,
   "toc_position": {},
   "toc_section_display": true,
   "toc_window_display": false
  }
 },
 "nbformat": 4,
 "nbformat_minor": 4
}
