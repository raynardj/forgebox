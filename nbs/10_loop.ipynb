{
 "cells": [
  {
   "cell_type": "markdown",
   "metadata": {},
   "source": [
    "# Controllable loop process\n",
    "> iteration with callbacks"
   ]
  },
  {
   "cell_type": "code",
   "execution_count": 1,
   "metadata": {},
   "outputs": [],
   "source": [
    "# default loop"
   ]
  },
  {
   "cell_type": "code",
   "execution_count": 2,
   "metadata": {},
   "outputs": [],
   "source": [
    "# export \n",
    "import numpy as np"
   ]
  },
  {
   "cell_type": "code",
   "execution_count": 22,
   "metadata": {},
   "outputs": [],
   "source": [
    "# export\n",
    "from tqdm import tqdm\n",
    "class StorageCore:\n",
    "    def __init__(self,start_layer):\n",
    "        self.layers = []\n",
    "        self.lmap = dict()\n",
    "        self.new_layer(start_layer)\n",
    "        self.i = 0\n",
    "    \n",
    "    def new_layer(self,layer):\n",
    "        layer.core = self\n",
    "        self.layers.append(layer)\n",
    "        self.lmap[layer._loop_layer]=layer\n",
    "        setattr(self,layer.name,layer)\n",
    "        \n",
    "    def __repr__(self):\n",
    "        return str(self.lmap)\n",
    "\n",
    "class Loop:\n",
    "    _loop_layer = 0\n",
    "    def __init__(self,iterable,name=None):\n",
    "        self.iterable  = iterable\n",
    "        self.name = name if name!=None else self.__class__.__name__\n",
    "        \n",
    "        if hasattr(iterable,\"_loop_layer\"):\n",
    "            self._loop_layer = iterable._loop_layer + 1\n",
    "            iterable.core.new_layer(self)\n",
    "        else:\n",
    "            self.core = StorageCore(self)\n",
    "            \n",
    "        self.i = 0\n",
    "        \n",
    "    def __call__(self):\n",
    "        pass\n",
    "    \n",
    "    def __repr__(self):\n",
    "        return f\"layer:{self.name}\"\n",
    "    \n",
    "    def __len__(self):\n",
    "        return self.iterable.__len__()\n",
    "    \n",
    "    def run(self,):\n",
    "        for element in self:\n",
    "            pass\n",
    "            \n",
    "    def __iter__(self,):\n",
    "        if self._loop_layer == 0:\n",
    "            for i,element in enumerate(self.iterable):\n",
    "                self.core.i = i\n",
    "                self.core.element = element\n",
    "                self()\n",
    "                yield self.core.element\n",
    "        else:\n",
    "            for element in self.iterable:\n",
    "                self.core.element = element\n",
    "                self()\n",
    "                yield element"
   ]
  },
  {
   "cell_type": "code",
   "execution_count": 23,
   "metadata": {},
   "outputs": [],
   "source": [
    "l = Loop(range(5,10),\"hahahha\")"
   ]
  },
  {
   "cell_type": "code",
   "execution_count": 29,
   "metadata": {},
   "outputs": [],
   "source": [
    "from datetime import datetime"
   ]
  },
  {
   "cell_type": "code",
   "execution_count": 48,
   "metadata": {},
   "outputs": [],
   "source": [
    "class Printer(Loop):\n",
    "    def __call__(self):\n",
    "        print(self.core.i,end=\"\\t\")\n",
    "        print(self.core.element)\n",
    "\n",
    "class ProgressBar(Loop):\n",
    "    def __init__(self,iterable,jupyter = True):\n",
    "        super().__init__(iterable,\"Progress\")\n",
    "        if jupyter:\n",
    "            from tqdm import tqdm_notebook as tq\n",
    "        else:\n",
    "            from tqdm import tqdm as tq\n",
    "        self.tq = tq\n",
    "        self.data = dict()\n",
    "        \n",
    "    def __call__(self):\n",
    "        self.t.set_postfix(self.data)\n",
    "        \n",
    "    def set_data(self,dict_):\n",
    "        self.data = dict_\n",
    "        \n",
    "    def __iter__(self):\n",
    "        i = self.core.i\n",
    "        if i==0:\n",
    "            self.t = self.tq(self.iterable)\n",
    "            self.gen = iter(self.t)\n",
    "        \n",
    "        for element in self.t:\n",
    "            self()\n",
    "            yield element\n",
    "            \n",
    "class Application(Loop):\n",
    "    def __call__(self):\n",
    "        self.core.Progress.set_data(dict(val = self.core.element,time = datetime.now()))"
   ]
  },
  {
   "cell_type": "code",
   "execution_count": 49,
   "metadata": {},
   "outputs": [
    {
     "name": "stdout",
     "output_type": "stream",
     "text": [
      "0\t5\n",
      "1\t6\n",
      "2\t7\n",
      "3\t8\n",
      "4\t9\n"
     ]
    }
   ],
   "source": [
    "l2 = Printer(l)\n",
    "l2.run()"
   ]
  },
  {
   "cell_type": "code",
   "execution_count": 50,
   "metadata": {},
   "outputs": [
    {
     "data": {
      "application/vnd.jupyter.widget-view+json": {
       "model_id": "8426fb52731945e1a0e3aa4d4be5daf5",
       "version_major": 2,
       "version_minor": 0
      },
      "text/plain": [
       "HBox(children=(IntProgress(value=0, max=5), HTML(value='')))"
      ]
     },
     "metadata": {},
     "output_type": "display_data"
    },
    {
     "name": "stdout",
     "output_type": "stream",
     "text": [
      "\n"
     ]
    }
   ],
   "source": [
    "l3 = Application(ProgressBar(Loop(range(5,10))))\n",
    "l3.run()"
   ]
  },
  {
   "cell_type": "code",
   "execution_count": 227,
   "metadata": {},
   "outputs": [
    {
     "data": {
      "text/plain": [
       "{0: layer:hahahha, 1: layer:ProgressBar}"
      ]
     },
     "execution_count": 227,
     "metadata": {},
     "output_type": "execute_result"
    }
   ],
   "source": [
    "l2.core"
   ]
  },
  {
   "cell_type": "code",
   "execution_count": 183,
   "metadata": {},
   "outputs": [],
   "source": [
    "l.run()"
   ]
  },
  {
   "cell_type": "code",
   "execution_count": 127,
   "metadata": {},
   "outputs": [],
   "source": [
    "# export\n",
    "class CallBack:\n",
    "    \"\"\"\n",
    "    Use as ancestor\n",
    "    class Printer(CallBack):\n",
    "        def __call__(self,loop):\n",
    "            print(loop.i,end=\"\\t\")\n",
    "            print(loop.element)\n",
    "    \"\"\"\n",
    "    def __init__(self,name=None):\n",
    "        \n",
    "        self.status = True\n",
    "        if hasattr(self,\"__call__\")==False:\n",
    "            raise NotImplementedError(f\"Please define __call__(self,loop) function of callback: {self.name}\")\n",
    "    \n",
    "    \n",
    "    \n",
    "    @property\n",
    "    def i(self):\n",
    "        return self.loop.i"
   ]
  },
  {
   "cell_type": "code",
   "execution_count": 20,
   "metadata": {},
   "outputs": [],
   "source": [
    "l = Loop(range(10,20),)\n",
    "l.run()"
   ]
  },
  {
   "cell_type": "code",
   "execution_count": null,
   "metadata": {},
   "outputs": [],
   "source": []
  }
 ],
 "metadata": {
  "kernelspec": {
   "display_name": "Python 3",
   "language": "python",
   "name": "python3"
  },
  "language_info": {
   "codemirror_mode": {
    "name": "ipython",
    "version": 3
   },
   "file_extension": ".py",
   "mimetype": "text/x-python",
   "name": "python",
   "nbconvert_exporter": "python",
   "pygments_lexer": "ipython3",
   "version": "3.7.4"
  }
 },
 "nbformat": 4,
 "nbformat_minor": 2
}
