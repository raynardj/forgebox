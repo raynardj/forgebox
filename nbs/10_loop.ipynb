{
 "cells": [
  {
   "cell_type": "markdown",
   "metadata": {},
   "source": [
    "# Controllable loop process\n",
    "> iteration with callbacks"
   ]
  },
  {
   "cell_type": "code",
   "execution_count": 1,
   "metadata": {},
   "outputs": [],
   "source": [
    "# default_exp loop"
   ]
  },
  {
   "cell_type": "code",
   "execution_count": 2,
   "metadata": {},
   "outputs": [],
   "source": [
    "# export \n",
    "import numpy as np"
   ]
  },
  {
   "cell_type": "code",
   "execution_count": 3,
   "metadata": {},
   "outputs": [],
   "source": [
    "# export\n",
    "from tqdm import tqdm\n",
    "from types import MethodType\n",
    "import inspect\n",
    "from functools import partial\n",
    "\n",
    "def method4all(f):\n",
    "    \"\"\"\n",
    "    Use this function as a decorator,\n",
    "    The decorated function under Loop class can be used on outer layer\n",
    "    \"\"\"\n",
    "    setattr(f,\"forall\",True)\n",
    "    return f\n",
    "\n",
    "class StorageCore:\n",
    "    def __init__(self,start_layer):\n",
    "        self.layers = []\n",
    "        self.lmap = dict()\n",
    "        self.forall_pool = dict()\n",
    "        self.new_layer(start_layer)\n",
    "        self.i = -1\n",
    "        self.epoch = -1\n",
    "    \n",
    "    def new_layer(self,layer):\n",
    "        layer.core = self\n",
    "        self.layers.append(layer)\n",
    "        self.seq_layers(self.layers)\n",
    "        self.lmap[layer._loop_layer]=layer\n",
    "        if hasattr(self,layer.name):\n",
    "            raise KeyError(f\"Layer name already exist: {layer.name}\")\n",
    "        setattr(self,layer.name,layer)\n",
    "        self.update_forall(layer)\n",
    "        self.assign_forall(layer)\n",
    "    \n",
    "    def seq_layers(self,layers):\n",
    "        last = None\n",
    "        for layer in layers[::-1]:\n",
    "            if last!=None: last.last_layer = layer\n",
    "            layer.next_layer = last\n",
    "            last = layer\n",
    "        \n",
    "    def __repr__(self):\n",
    "        return str(self.lmap)\n",
    "    \n",
    "    def immitate_func(self,obj,name,func):\n",
    "        setattr(obj,name,func)\n",
    "        \n",
    "    def for_all_functions(self,obj):\n",
    "        return dict(inspect.getmembers(obj, \n",
    "#                   predicate=lambda x:hasattr(x,\"forall\") if inspect.ismethod(x) else False))\n",
    "                  predicate=lambda x:hasattr(x,\"forall\")))\n",
    "    \n",
    "    def update_forall(self,obj):\n",
    "        self.forall_pool.update(self.for_all_functions(obj))\n",
    "        \n",
    "    def assign_forall(self,obj):\n",
    "        for name,f in self.forall_pool.items():\n",
    "            self.immitate_func(obj,name,f)\n",
    "\n",
    "class Loop:\n",
    "    \"\"\"\n",
    "    Basic loop class\n",
    "    \"\"\"\n",
    "    _loop_layer = 0.\n",
    "    def __init__(self,iterable = [],name=None):\n",
    "        self.iterable  = iterable\n",
    "        self.next_layer = None\n",
    "        self.name = name if name!=None else self.__class__.__name__\n",
    "        \n",
    "        if hasattr(iterable,\"_loop_layer\"):\n",
    "            self._loop_layer = iterable._loop_layer + 1\n",
    "            iterable.core.new_layer(self)\n",
    "        else:\n",
    "            self.core = StorageCore(self)\n",
    "        \n",
    "    def __call__(self):\n",
    "        pass\n",
    "    \n",
    "    def __repr__(self):\n",
    "        return f\"layer:>>>{self.name}\"\n",
    "    \n",
    "    def on(self,iterable):\n",
    "        self.iterable = iterable\n",
    "        self._loop_layer = iterable._loop_layer + 1\n",
    "        \n",
    "    def func_detail(self,f):\n",
    "        detail = dict({\"🐍func_name\":f.__name__,\n",
    "                       \"⛰doc\":f.__doc__,\n",
    "                       \"😝var\":\",\".join(f.__code__.co_varnames),\n",
    "                       \"😜names\":\",\".join(f.__code__.co_names),\n",
    "                      })\n",
    "        return detail\n",
    "    \n",
    "    def summary(self):\n",
    "        rt = f\"Loop layer {self.name} summary:\\n\"\n",
    "        rt+= \"=\"*50+\"\\n\"\n",
    "        funcs = []\n",
    "        for idx,layer in self.core.lmap.items():\n",
    "            rt+= f\"🍰layer{idx}\\t{str(layer)}\\n\"\n",
    "            for fname,f in self.core.for_all_functions(layer).items():\n",
    "                if id(f) not in funcs:\n",
    "                    rt+=\"\\t\"\n",
    "                    rt+=\"\\n\\t\".join(f\"[{k}]\\t{v}\" for k,v in self.func_detail(f).items())\n",
    "                    rt+=\"\\n\\t\"+\".\"*35+\"\\n\"\n",
    "                    funcs.append(id(f))\n",
    "            rt+=\"-\"*50+\"\\n\"\n",
    "        rt+= \"=\"*50+\"\\n\"\n",
    "        print(rt)\n",
    "    \n",
    "    def __len__(self):\n",
    "        return self.iterable.__len__()\n",
    "    \n",
    "    def run(self,):\n",
    "        \"\"\"\n",
    "        Run through iteration\n",
    "        run start_call for every layer on the start of iteration\n",
    "            run __call__ for every layer for each iteration\n",
    "        run end_call for every layer on the end of iteration\n",
    "        \"\"\"\n",
    "        first = self.layers[0]\n",
    "        self.refresh_i()\n",
    "        first.start_callon()\n",
    "        for element in first:\n",
    "            first()\n",
    "        first.end_callon()\n",
    "        \n",
    "    def refresh_i(self):\n",
    "        self.core.i=-1\n",
    "        self.core.epoch+=1\n",
    "        \n",
    "    def update_i(self):\n",
    "        self.core.i+=1\n",
    "        \n",
    "    def callon(self):\n",
    "        self()\n",
    "        self.iter_cb()\n",
    "            \n",
    "    def start_callon(self):\n",
    "        self.start_call()\n",
    "        self.start_cb()\n",
    "            \n",
    "    def end_callon(self):\n",
    "        self.end_call()\n",
    "        self.end_cb()\n",
    "            \n",
    "    def iter_cb(self):\n",
    "        \"\"\"\n",
    "        call back during each iteration\n",
    "        \"\"\"\n",
    "        if self.next_layer!=None:\n",
    "            self.next_layer.callon()\n",
    "            \n",
    "    def start_cb(self):\n",
    "        \"\"\"\n",
    "        callback at the start of iteration\n",
    "        \"\"\"\n",
    "        if self.next_layer!=None:\n",
    "            self.next_layer.start_callon()\n",
    "    \n",
    "    def end_cb(self):\n",
    "        \"\"\"\n",
    "        callback at the end of iteration\n",
    "        \"\"\"\n",
    "        if self.next_layer!=None:\n",
    "            self.next_layer.end_callon()\n",
    "            \n",
    "    def start_call(self):\n",
    "        pass\n",
    "    \n",
    "    def end_call(self):\n",
    "        pass\n",
    "            \n",
    "    def __iter__(self,):\n",
    "        for element in self.iterable:\n",
    "            if self._loop_layer ==0:\n",
    "                self.update_i()\n",
    "            self.core.element = element\n",
    "            self.callon()\n",
    "            yield self.element\n",
    "            \n",
    "    def __getattr__(self,k):\n",
    "        return getattr(self.core,k)\n",
    "    \n",
    "    def is_newloop(self):\n",
    "        \"\"\"\n",
    "        return Bool:Is this a new loop ready to start\n",
    "        \"\"\"\n",
    "        return (self.i==-1 or self.i==self.__len__()-1)"
   ]
  },
  {
   "cell_type": "markdown",
   "metadata": {},
   "source": [
    "## Loop-in-loop concept\n",
    "Loop and its inheriting descendants runs on iterable, incuding other ```Loop```"
   ]
  },
  {
   "cell_type": "code",
   "execution_count": 4,
   "metadata": {},
   "outputs": [
    {
     "data": {
      "text/plain": [
       "layer:>>>hahahha"
      ]
     },
     "execution_count": 4,
     "metadata": {},
     "output_type": "execute_result"
    }
   ],
   "source": [
    "l = Loop(range(5,10),name = \"hahahha\")\n",
    "l"
   ]
  },
  {
   "cell_type": "code",
   "execution_count": 5,
   "metadata": {},
   "outputs": [],
   "source": [
    "class Printer(Loop):\n",
    "    def __call__(self):\n",
    "        print(f\"i_{self.core.i}\",end=\"\\t\")\n",
    "        print(self.core.element)\n",
    "        \n",
    "    def start_call(self):\n",
    "        print(f\"start of epoch {self.epoch}\")\n",
    "        \n",
    "    def end_call(self):\n",
    "        print(f\"end of epoch {self.epoch}\")\n",
    "l2 = Printer(l)"
   ]
  },
  {
   "cell_type": "code",
   "execution_count": 6,
   "metadata": {},
   "outputs": [
    {
     "name": "stdout",
     "output_type": "stream",
     "text": [
      "start of epoch 0\n",
      "i_0\t5\n",
      "i_1\t6\n",
      "i_2\t7\n",
      "i_3\t8\n",
      "i_4\t9\n",
      "end of epoch 0\n"
     ]
    }
   ],
   "source": [
    "l2.run()"
   ]
  },
  {
   "cell_type": "markdown",
   "metadata": {},
   "source": [
    "## Progress bar"
   ]
  },
  {
   "cell_type": "code",
   "execution_count": 7,
   "metadata": {},
   "outputs": [],
   "source": [
    "# export\n",
    "class ProgressBar(Loop):\n",
    "    def __init__(self,iterable=[],jupyter = True,mininterval = 1e-1):\n",
    "        super().__init__(iterable,\"Progressb Bar\")\n",
    "        \n",
    "        if jupyter: # jupyter widget\n",
    "            from tqdm.notebook import tqdm\n",
    "            \n",
    "        else: # compatible for console print\n",
    "            from tqdm import tqdm\n",
    "            \n",
    "        self.tqdm = tqdm\n",
    "        self.mininterval = mininterval\n",
    "        self.data = dict()\n",
    "        \n",
    "    @method4all\n",
    "    def pgbar_data(self,data):\n",
    "        \"\"\"\n",
    "        update progress bar with python dictionary\n",
    "        data: python dictionary\n",
    "        \"\"\"\n",
    "        self.t.set_postfix(data)\n",
    "    \n",
    "    @method4all\n",
    "    def pgbar_description(self,text):\n",
    "        \"\"\"\n",
    "        update progress bar prefix with text string\n",
    "        \"\"\"\n",
    "        self.t.set_description_str(f\"{text}\")\n",
    "        \n",
    "    def start_call(self):\n",
    "        self.create_bar()\n",
    "        \n",
    "    def end_call(self):\n",
    "        self.t.close()\n",
    "        \n",
    "    def __call__(self):\n",
    "        self.t.update(1)\n",
    "            \n",
    "    def create_bar(self):\n",
    "        self.t = self.tqdm(total=len(self.iterable),\n",
    "                           mininterval=self.mininterval)"
   ]
  },
  {
   "cell_type": "code",
   "execution_count": 8,
   "metadata": {},
   "outputs": [],
   "source": [
    "from tqdm.notebook import tqdm,tqdm_notebook"
   ]
  },
  {
   "cell_type": "code",
   "execution_count": 9,
   "metadata": {},
   "outputs": [
    {
     "data": {
      "application/vnd.jupyter.widget-view+json": {
       "model_id": "bb8ca7ff1fc54bc39733892da3eff781",
       "version_major": 2,
       "version_minor": 0
      },
      "text/plain": [
       "HBox(children=(IntProgress(value=0, max=5), HTML(value='')))"
      ]
     },
     "metadata": {},
     "output_type": "display_data"
    },
    {
     "name": "stdout",
     "output_type": "stream",
     "text": [
      "\n"
     ]
    }
   ],
   "source": [
    "pb = ProgressBar(Loop(range(5,10)),jupyter = True)\n",
    "pb.run()"
   ]
  },
  {
   "cell_type": "markdown",
   "metadata": {},
   "source": [
    "### Error Handling"
   ]
  },
  {
   "cell_type": "markdown",
   "metadata": {},
   "source": [
    "In cases you don't want error stop the iteration, meanwhile taking down all the error message"
   ]
  },
  {
   "cell_type": "code",
   "execution_count": 10,
   "metadata": {},
   "outputs": [],
   "source": [
    "# export\n",
    "class Tolerate(Loop):\n",
    "    \"\"\"\n",
    "    Tolerate any error happened downstream\n",
    "    layer2 = Tolerate(upstream_iterable)\n",
    "    # build downstream tasks\n",
    "    layer3 = OtherApplication(layer2)\n",
    "    layer3.run()\n",
    "    # show the happened error message\n",
    "    layer3.error_list()\n",
    "    \"\"\"\n",
    "    def __init__(self,iterable = []):\n",
    "        super().__init__(iterable,)\n",
    "        self.errors = list()\n",
    "    \n",
    "    @method4all\n",
    "    def error_list(self):\n",
    "        \"\"\"\n",
    "        A list of errors happend so far\n",
    "        \"\"\"\n",
    "        return self.errors\n",
    "        \n",
    "    def callon(self):\n",
    "        \"\"\"\n",
    "        Usual callon method like other loop, but tolerate all errors\n",
    "        \"\"\"\n",
    "        try:\n",
    "            # this will only capture the downstream error\n",
    "            self.iter_cb()\n",
    "        except Exception as e:\n",
    "            self.errors.append(dict(stage=\"middle\",i=self.i,epoch=self.epoch,error=e))\n",
    "    \n",
    "    def start_callon(self):\n",
    "        try:\n",
    "            self.start_cb()\n",
    "        except Exception as e:\n",
    "            self.errors.append(dict(stage=\"start\",i=self.i,epoch=self.epoch,error=e))\n",
    "            \n",
    "    def end_callon(self):\n",
    "        try:\n",
    "            self.end_cb()\n",
    "        except Exception as e:\n",
    "            self.errors.append(dict(stage=\"end\",i=self.i,epoch=self.epoch,error=e))\n",
    "\n",
    "class LambdaCall(Loop):\n",
    "    def __init__(self,iterable = [],func = lambda x:x):\n",
    "        super().__init__(iterable,name=f\"Lambda<{hex(id(self))}>\")\n",
    "        self.func = func\n",
    "    \n",
    "    def __call__(self):\n",
    "        self.func(self)"
   ]
  },
  {
   "cell_type": "code",
   "execution_count": 11,
   "metadata": {},
   "outputs": [],
   "source": [
    "l1 = ProgressBar(Loop(range(1,10)))\n",
    "error_loop = LambdaCall(l1,func= lambda x:(5-x.element)**(-2))"
   ]
  },
  {
   "cell_type": "markdown",
   "metadata": {},
   "source": [
    "Running this will yield error"
   ]
  },
  {
   "cell_type": "markdown",
   "metadata": {},
   "source": [
    "```python\n",
    "error_loop.run()\n",
    "```"
   ]
  },
  {
   "cell_type": "code",
   "execution_count": 12,
   "metadata": {},
   "outputs": [
    {
     "data": {
      "application/vnd.jupyter.widget-view+json": {
       "model_id": "87e9fdc434c04875bfea633d45e626e2",
       "version_major": 2,
       "version_minor": 0
      },
      "text/plain": [
       "HBox(children=(IntProgress(value=0, max=9), HTML(value='')))"
      ]
     },
     "metadata": {},
     "output_type": "display_data"
    },
    {
     "name": "stdout",
     "output_type": "stream",
     "text": [
      "\n"
     ]
    }
   ],
   "source": [
    "def error_on_purpose(x):\n",
    "    if x.element>5:\n",
    "        raise ValueError(f\"value too small, {x.element}\")\n",
    "\n",
    "l1 = ProgressBar(Loop(range(1,10)))\n",
    "# add the tolerate layer in between\n",
    "l2 = Tolerate(l1)\n",
    "tolerated_loop = LambdaCall(l2,func=error_on_purpose)\n",
    "l2.run()"
   ]
  },
  {
   "cell_type": "code",
   "execution_count": 13,
   "metadata": {},
   "outputs": [
    {
     "data": {
      "text/html": [
       "<div>\n",
       "<style scoped>\n",
       "    .dataframe tbody tr th:only-of-type {\n",
       "        vertical-align: middle;\n",
       "    }\n",
       "\n",
       "    .dataframe tbody tr th {\n",
       "        vertical-align: top;\n",
       "    }\n",
       "\n",
       "    .dataframe thead th {\n",
       "        text-align: right;\n",
       "    }\n",
       "</style>\n",
       "<table border=\"1\" class=\"dataframe\">\n",
       "  <thead>\n",
       "    <tr style=\"text-align: right;\">\n",
       "      <th></th>\n",
       "      <th>stage</th>\n",
       "      <th>i</th>\n",
       "      <th>epoch</th>\n",
       "      <th>error</th>\n",
       "    </tr>\n",
       "  </thead>\n",
       "  <tbody>\n",
       "    <tr>\n",
       "      <td>0</td>\n",
       "      <td>middle</td>\n",
       "      <td>5</td>\n",
       "      <td>0</td>\n",
       "      <td>value too small, 6</td>\n",
       "    </tr>\n",
       "    <tr>\n",
       "      <td>1</td>\n",
       "      <td>middle</td>\n",
       "      <td>6</td>\n",
       "      <td>0</td>\n",
       "      <td>value too small, 7</td>\n",
       "    </tr>\n",
       "    <tr>\n",
       "      <td>2</td>\n",
       "      <td>middle</td>\n",
       "      <td>7</td>\n",
       "      <td>0</td>\n",
       "      <td>value too small, 8</td>\n",
       "    </tr>\n",
       "    <tr>\n",
       "      <td>3</td>\n",
       "      <td>middle</td>\n",
       "      <td>8</td>\n",
       "      <td>0</td>\n",
       "      <td>value too small, 9</td>\n",
       "    </tr>\n",
       "  </tbody>\n",
       "</table>\n",
       "</div>"
      ],
      "text/plain": [
       "    stage  i  epoch               error\n",
       "0  middle  5      0  value too small, 6\n",
       "1  middle  6      0  value too small, 7\n",
       "2  middle  7      0  value too small, 8\n",
       "3  middle  8      0  value too small, 9"
      ]
     },
     "execution_count": 13,
     "metadata": {},
     "output_type": "execute_result"
    }
   ],
   "source": [
    "import pandas as pd\n",
    "pd.DataFrame(l2.error_list())"
   ]
  },
  {
   "cell_type": "code",
   "execution_count": 14,
   "metadata": {},
   "outputs": [
    {
     "name": "stdout",
     "output_type": "stream",
     "text": [
      "Loop layer Tolerate summary:\n",
      "==================================================\n",
      "🍰layer0.0\tlayer:>>>Loop\n",
      "--------------------------------------------------\n",
      "🍰layer1.0\tlayer:>>>Progressb Bar\n",
      "\t[🐍func_name]\tpgbar_data\n",
      "\t[⛰doc]\t\n",
      "        update progress bar with python dictionary\n",
      "        data: python dictionary\n",
      "        \n",
      "\t[😝var]\tself,data\n",
      "\t[😜names]\tt,set_postfix\n",
      "\t...................................\n",
      "\t[🐍func_name]\tpgbar_description\n",
      "\t[⛰doc]\t\n",
      "        update progress bar prefix with text string\n",
      "        \n",
      "\t[😝var]\tself,text\n",
      "\t[😜names]\tt,set_description_str\n",
      "\t...................................\n",
      "--------------------------------------------------\n",
      "🍰layer2.0\tlayer:>>>Tolerate\n",
      "\t[🐍func_name]\terror_list\n",
      "\t[⛰doc]\t\n",
      "        A list of errors happend so far\n",
      "        \n",
      "\t[😝var]\tself\n",
      "\t[😜names]\terrors\n",
      "\t...................................\n",
      "--------------------------------------------------\n",
      "🍰layer3.0\tlayer:>>>Lambda<0x112cbd690>\n",
      "--------------------------------------------------\n",
      "==================================================\n",
      "\n"
     ]
    }
   ],
   "source": [
    "l2.summary()"
   ]
  },
  {
   "cell_type": "markdown",
   "metadata": {},
   "source": [
    "### Application upon progress bar\n",
    "The function ```pgbar_data``` is decorated under ```method4all```, hence the function can be used else where"
   ]
  },
  {
   "cell_type": "code",
   "execution_count": 15,
   "metadata": {},
   "outputs": [
    {
     "data": {
      "application/vnd.jupyter.widget-view+json": {
       "model_id": "be05d7777e6b4311913a69e0875d3b40",
       "version_major": 2,
       "version_minor": 0
      },
      "text/plain": [
       "HBox(children=(IntProgress(value=0, max=5), HTML(value='')))"
      ]
     },
     "metadata": {},
     "output_type": "display_data"
    },
    {
     "name": "stdout",
     "output_type": "stream",
     "text": [
      "\n"
     ]
    }
   ],
   "source": [
    "from datetime import datetime\n",
    "class Application(Loop):\n",
    "    def __call__(self):\n",
    "        # create some data\n",
    "        loop_data = dict(epoch=self.epoch,i = self.i,\n",
    "                         val = self.element,)\n",
    "        # update data to progress bar\n",
    "        self.pgbar_data(loop_data)\n",
    "        self.pgbar_description(str(datetime.now().strftime(\"%H:%M:%S\")))\n",
    "\n",
    "l3 = Application(ProgressBar(Loop(range(5,10)),jupyter=True))\n",
    "l3.run()"
   ]
  },
  {
   "cell_type": "markdown",
   "metadata": {},
   "source": [
    "## Print out the summary of the loop"
   ]
  },
  {
   "cell_type": "code",
   "execution_count": 16,
   "metadata": {},
   "outputs": [
    {
     "name": "stdout",
     "output_type": "stream",
     "text": [
      "Loop layer Application summary:\n",
      "==================================================\n",
      "🍰layer0.0\tlayer:>>>Loop\n",
      "--------------------------------------------------\n",
      "🍰layer1.0\tlayer:>>>Progressb Bar\n",
      "\t[🐍func_name]\tpgbar_data\n",
      "\t[⛰doc]\t\n",
      "        update progress bar with python dictionary\n",
      "        data: python dictionary\n",
      "        \n",
      "\t[😝var]\tself,data\n",
      "\t[😜names]\tt,set_postfix\n",
      "\t...................................\n",
      "\t[🐍func_name]\tpgbar_description\n",
      "\t[⛰doc]\t\n",
      "        update progress bar prefix with text string\n",
      "        \n",
      "\t[😝var]\tself,text\n",
      "\t[😜names]\tt,set_description_str\n",
      "\t...................................\n",
      "--------------------------------------------------\n",
      "🍰layer2.0\tlayer:>>>Application\n",
      "--------------------------------------------------\n",
      "==================================================\n",
      "\n"
     ]
    }
   ],
   "source": [
    "l3.summary()"
   ]
  },
  {
   "cell_type": "code",
   "execution_count": 17,
   "metadata": {
    "scrolled": true
   },
   "outputs": [
    {
     "data": {
      "application/vnd.jupyter.widget-view+json": {
       "model_id": "22b16fe47f194a5086051686b8b9ec14",
       "version_major": 2,
       "version_minor": 0
      },
      "text/plain": [
       "HBox(children=(IntProgress(value=0, max=5), HTML(value='')))"
      ]
     },
     "metadata": {},
     "output_type": "display_data"
    },
    {
     "name": "stdout",
     "output_type": "stream",
     "text": [
      "\n"
     ]
    }
   ],
   "source": [
    "l3.run()"
   ]
  },
  {
   "cell_type": "markdown",
   "metadata": {},
   "source": [
    "## Event\n",
    "\n",
    "Event allows add-hoc callbacks to be created"
   ]
  },
  {
   "cell_type": "code",
   "execution_count": 18,
   "metadata": {},
   "outputs": [],
   "source": [
    "# export\n",
    "class Event(Loop):\n",
    "    \"\"\"\n",
    "    An event is the landmark with in 1 iteration\n",
    "    \"\"\"\n",
    "    def __init__(self,iterable=[],event_name = None,cbs = []):\n",
    "        super().__init__(iterable,event_name)\n",
    "        self.cbs = cbs\n",
    "        \n",
    "        def call(self):\n",
    "            return self.__call__()\n",
    "        call.__name__ = f\"on_{event_name}\"\n",
    "        call.__doc__ = f\"\"\"\n",
    "            Excute callback for event:{event_name}\n",
    "        \"\"\"\n",
    "        setattr(self,call.__name__,MethodType(method4all(call),self))\n",
    "        \n",
    "        def set_(self,f):\n",
    "            return self.on(f)\n",
    "        set_.__name__ = f\"set_{event_name}\"\n",
    "        set_.__doc__ = f\"\"\"\n",
    "            Append new callback for event:{event_name}\n",
    "            Use this function as decorator\n",
    "        \"\"\"\n",
    "        setattr(self,set_.__name__,MethodType(method4all(set_),self))\n",
    "    \n",
    "    def __call__(self):\n",
    "        for cb in self.cbs:\n",
    "            cb(self)\n",
    "       \n",
    "    def on(self,f):\n",
    "        def wrapper(self):\n",
    "            return f(self)\n",
    "        self.cbs.append(wrapper)\n",
    "        return wrapper"
   ]
  },
  {
   "cell_type": "code",
   "execution_count": 19,
   "metadata": {},
   "outputs": [],
   "source": [
    "class ToString(Loop):\n",
    "    def __call__(self,):\n",
    "        self.core.element = f\"variable_{self.i}\"\n",
    "\n",
    "class AfterToString(Event):\n",
    "    def __init__(self,iterable=[],cbs=[]):\n",
    "        super().__init__(iterable=iterable,event_name=\"after_to_string\",cbs=cbs)\n",
    "\n",
    "def get_frame(iterable):\n",
    "    l1 = ProgressBar(Loop(iterable,\"base\"))\n",
    "    l2 = ToString(l1,)\n",
    "    l3 = AfterToString(l2)\n",
    "    return l3"
   ]
  },
  {
   "cell_type": "code",
   "execution_count": 20,
   "metadata": {},
   "outputs": [],
   "source": [
    "l = get_frame(range(10))"
   ]
  },
  {
   "cell_type": "code",
   "execution_count": 21,
   "metadata": {},
   "outputs": [],
   "source": [
    "# you can use this \"on\" syntax\n",
    "@l.after_to_string.on\n",
    "def trim(self):\n",
    "    self.core.element = f\"Var_{self.element}\"\n",
    "    \n",
    "# or this syntax\n",
    "@l.set_after_to_string\n",
    "def update(self,):\n",
    "    self.pgbar_description(self.element)"
   ]
  },
  {
   "cell_type": "code",
   "execution_count": 22,
   "metadata": {},
   "outputs": [
    {
     "name": "stdout",
     "output_type": "stream",
     "text": [
      "Loop layer after_to_string summary:\n",
      "==================================================\n",
      "🍰layer0.0\tlayer:>>>base\n",
      "--------------------------------------------------\n",
      "🍰layer1.0\tlayer:>>>Progressb Bar\n",
      "\t[🐍func_name]\tpgbar_data\n",
      "\t[⛰doc]\t\n",
      "        update progress bar with python dictionary\n",
      "        data: python dictionary\n",
      "        \n",
      "\t[😝var]\tself,data\n",
      "\t[😜names]\tt,set_postfix\n",
      "\t...................................\n",
      "\t[🐍func_name]\tpgbar_description\n",
      "\t[⛰doc]\t\n",
      "        update progress bar prefix with text string\n",
      "        \n",
      "\t[😝var]\tself,text\n",
      "\t[😜names]\tt,set_description_str\n",
      "\t...................................\n",
      "--------------------------------------------------\n",
      "🍰layer2.0\tlayer:>>>ToString\n",
      "--------------------------------------------------\n",
      "🍰layer3.0\tlayer:>>>after_to_string\n",
      "\t[🐍func_name]\ton_after_to_string\n",
      "\t[⛰doc]\t\n",
      "            Excute callback for event:after_to_string\n",
      "        \n",
      "\t[😝var]\tself\n",
      "\t[😜names]\t__call__\n",
      "\t...................................\n",
      "\t[🐍func_name]\tset_after_to_string\n",
      "\t[⛰doc]\t\n",
      "            Append new callback for event:after_to_string\n",
      "            Use this function as decorator\n",
      "        \n",
      "\t[😝var]\tself,f\n",
      "\t[😜names]\ton\n",
      "\t...................................\n",
      "--------------------------------------------------\n",
      "==================================================\n",
      "\n"
     ]
    }
   ],
   "source": [
    "l.summary()"
   ]
  },
  {
   "cell_type": "code",
   "execution_count": 23,
   "metadata": {},
   "outputs": [
    {
     "data": {
      "application/vnd.jupyter.widget-view+json": {
       "model_id": "2ce2adf9e2b44032b20c036b3bb8e1a1",
       "version_major": 2,
       "version_minor": 0
      },
      "text/plain": [
       "HBox(children=(IntProgress(value=0, max=10), HTML(value='')))"
      ]
     },
     "metadata": {},
     "output_type": "display_data"
    },
    {
     "name": "stdout",
     "output_type": "stream",
     "text": [
      "\n"
     ]
    }
   ],
   "source": [
    "l.run()"
   ]
  },
  {
   "cell_type": "code",
   "execution_count": null,
   "metadata": {},
   "outputs": [],
   "source": []
  }
 ],
 "metadata": {
  "kernelspec": {
   "display_name": "Python 3",
   "language": "python",
   "name": "python3"
  },
  "language_info": {
   "codemirror_mode": {
    "name": "ipython",
    "version": 3
   },
   "file_extension": ".py",
   "mimetype": "text/x-python",
   "name": "python",
   "nbconvert_exporter": "python",
   "pygments_lexer": "ipython3",
   "version": "3.7.4"
  }
 },
 "nbformat": 4,
 "nbformat_minor": 2
}
