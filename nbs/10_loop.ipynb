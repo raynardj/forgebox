{
 "cells": [
  {
   "cell_type": "markdown",
   "metadata": {},
   "source": [
    "# Controllable loop process\n",
    "> iteration with callbacks"
   ]
  },
  {
   "cell_type": "code",
   "execution_count": 1,
   "metadata": {},
   "outputs": [],
   "source": [
    "# default_exp loop"
   ]
  },
  {
   "cell_type": "code",
   "execution_count": 2,
   "metadata": {},
   "outputs": [],
   "source": [
    "# export \n",
    "import numpy as np"
   ]
  },
  {
   "cell_type": "code",
   "execution_count": 3,
   "metadata": {},
   "outputs": [],
   "source": [
    "from time import sleep"
   ]
  },
  {
   "cell_type": "code",
   "execution_count": 4,
   "metadata": {},
   "outputs": [],
   "source": [
    "# export\n",
    "from tqdm import tqdm\n",
    "from types import MethodType\n",
    "import inspect\n",
    "from functools import partial\n",
    "\n",
    "def method4all(f):\n",
    "    \"\"\"\n",
    "    Use this function as a decorator,\n",
    "    The decorated function under Loop class can be used on outer layer\n",
    "    \"\"\"\n",
    "    setattr(f,\"forall\",True)\n",
    "    return f\n",
    "\n",
    "class StorageCore:\n",
    "    def __init__(self,start_layer):\n",
    "        self.layers = []\n",
    "        self.lmap = dict()\n",
    "        self.forall_pool = dict()\n",
    "        self.new_layer(start_layer)\n",
    "        self.i = -1\n",
    "        self.epoch = -1\n",
    "    \n",
    "    def new_layer(self,layer):\n",
    "        layer.core = self\n",
    "        self.layers.append(layer)\n",
    "\n",
    "        self.lmap[layer._loop_layer]=layer\n",
    "        if hasattr(self,layer.name):\n",
    "            raise KeyError(f\"Layer name already exist: {layer.name}\")\n",
    "        setattr(self,layer.name,layer)\n",
    "        self.update_forall(layer)\n",
    "        self.assign_forall(layer)\n",
    "  \n",
    "    def __repr__(self):\n",
    "        return str(self.lmap)\n",
    "        \n",
    "    def for_all_functions(self,obj):\n",
    "        return dict(inspect.getmembers(obj, \n",
    "                  predicate=lambda x:hasattr(x,\"forall\")))\n",
    "    \n",
    "    def update_forall(self,obj):\n",
    "        self.forall_pool.update(self.for_all_functions(obj))\n",
    "        \n",
    "    def assign_forall(self,obj):\n",
    "        for name,f in self.forall_pool.items():\n",
    "            setattr(obj,name,f)\n",
    "\n",
    "class Loop:\n",
    "    \"\"\"\n",
    "    Basic loop class\n",
    "    \"\"\"\n",
    "    _loop_layer = 0.\n",
    "    def __init__(self,iterable = [],name=None):\n",
    "        self.iterable  = iterable\n",
    "        self.next_layer = None\n",
    "        self.name = name if name!=None else self.__class__.__name__\n",
    "        \n",
    "        if hasattr(iterable,\"_loop_layer\"):\n",
    "            self._loop_layer = iterable._loop_layer + 1\n",
    "            iterable.next_layer = self\n",
    "            iterable.core.new_layer(self)\n",
    "        else:\n",
    "            self.core = StorageCore(self)\n",
    "        \n",
    "    def __call__(self):\n",
    "        pass\n",
    "    \n",
    "    def __repr__(self):\n",
    "        return f\"layer🍰{self.name}\"\n",
    "    \n",
    "    def on(self,iterable):\n",
    "        self.iterable = iterable\n",
    "        self._loop_layer = iterable._loop_layer + 1\n",
    "        \n",
    "    def func_detail(self,f):\n",
    "        detail = dict({\"🐍func_name\":f.__name__,\n",
    "                       \"⛰doc\":f.__doc__,\n",
    "                       \"😝var\":\",\".join(f.__code__.co_varnames),\n",
    "                       \"😜names\":\",\".join(f.__code__.co_names),\n",
    "                      })\n",
    "        return detail\n",
    "    \n",
    "    def summary(self):\n",
    "        rt = f\"Loop layer {self.name} summary:\\n\"\n",
    "        rt+= \"=\"*50+\"\\n\"\n",
    "        funcs = []\n",
    "        for idx,layer in self.core.lmap.items():\n",
    "            rt+= f\"🍰layer{idx}\\t{str(layer)}\\n\"\n",
    "            for fname,f in self.core.for_all_functions(layer).items():\n",
    "                if id(f) not in funcs:\n",
    "                    rt+=\"\\t\"\n",
    "                    rt+=\"\\n\\t\".join(f\"[{k}]\\t{v}\" for k,v in self.func_detail(f).items())\n",
    "                    rt+=\"\\n\\t\"+\".\"*35+\"\\n\"\n",
    "                    funcs.append(id(f))\n",
    "            rt+=\"-\"*50+\"\\n\"\n",
    "        rt+= \"=\"*50+\"\\n\"\n",
    "        print(rt)\n",
    "    \n",
    "    def __len__(self):\n",
    "        return self.iterable.__len__()\n",
    "    \n",
    "    def run(self,):\n",
    "        \"\"\"\n",
    "        Run through iteration\n",
    "        run start_call for every layer on the start of iteration\n",
    "            run __call__ for every layer for each iteration\n",
    "        run end_call for every layer on the end of iteration\n",
    "        \"\"\"\n",
    "        first = self.layers[0]\n",
    "        self.refresh_i()\n",
    "        first.start_callon()\n",
    "        for element in first:\n",
    "            first()\n",
    "        first.end_callon()\n",
    "        \n",
    "    def refresh_i(self):\n",
    "        self.core.i=-1\n",
    "        self.core.epoch+=1\n",
    "        \n",
    "    def update_i(self):\n",
    "        self.core.i+=1\n",
    "\n",
    "    def downstream_wrap(self,f):\n",
    "        return f()\n",
    "    \n",
    "    def downstream_start_wrap(self,f):\n",
    "        return f()\n",
    "    \n",
    "    def downstream_end_wrap(self,f):\n",
    "        return f()\n",
    "    \n",
    "    def downstream(self,f):\n",
    "        \"\"\"\n",
    "        set downstream wrapper on callback, \n",
    "        The callback will happend in the local realm of the deocrated function\n",
    "        example\n",
    "        @loop.downstream\n",
    "        def control_layer(self,callback):\n",
    "            try:\n",
    "                callback()\n",
    "            except:\n",
    "                print(\"error happened\")\n",
    "        \"\"\"\n",
    "        setattr(self,\"downstream_wrap\",MethodType(f,self))\n",
    "        return f\n",
    "    \n",
    "    def downstream_start(self,f):\n",
    "        \"\"\"\n",
    "        set downstream wrapper on start callback, \n",
    "        The start_callback will happend in the local realm of the deocrated function\n",
    "        example\n",
    "        @loop.downstream_start\n",
    "        def control_layer(self,start_callback):\n",
    "            try:\n",
    "                start_callback()\n",
    "            except:\n",
    "                print(\"error happened\")\n",
    "        \"\"\"\n",
    "        setattr(self,\"downstream_start_wrap\",MethodType(f,self))\n",
    "        return f\n",
    "    \n",
    "    def downstream_end(self,f):\n",
    "        \"\"\"\n",
    "        set downstream wrapper on end callback, \n",
    "        The end_callback will happend in the local realm of the deocrated function\n",
    "        @loop.downstream_end\n",
    "        def control_layer(self,end_callback):\n",
    "            try:\n",
    "                end_callback()\n",
    "            except:\n",
    "                print(\"error happened\")\n",
    "        \"\"\"\n",
    "        setattr(self,\"downstream_end_wrap\",MethodType(f,self))\n",
    "        return f\n",
    "    \n",
    "    def callon(self):\n",
    "        self()\n",
    "        self.downstream_wrap(self.iter_cb)\n",
    "            \n",
    "    def start_callon(self):\n",
    "        self.start_call()\n",
    "        self.downstream_start_wrap(self.start_cb)\n",
    "            \n",
    "    def end_callon(self):\n",
    "        self.end_call()\n",
    "        self.downstream_end_wrap(self.end_cb)\n",
    "            \n",
    "    def iter_cb(self):\n",
    "        \"\"\"\n",
    "        call back during each iteration\n",
    "        \"\"\"\n",
    "        if self.next_layer!=None:\n",
    "            self.next_layer.callon()\n",
    "        self.after()\n",
    "            \n",
    "    def after(self):\n",
    "        pass\n",
    "            \n",
    "    def start_cb(self):\n",
    "        \"\"\"\n",
    "        callback at the start of iteration\n",
    "        \"\"\"\n",
    "        if self.next_layer!=None:\n",
    "            self.next_layer.start_callon()\n",
    "    \n",
    "    def end_cb(self):\n",
    "        \"\"\"\n",
    "        callback at the end of iteration\n",
    "        \"\"\"\n",
    "        if self.next_layer!=None:\n",
    "            self.next_layer.end_callon()\n",
    "            \n",
    "    def start_call(self):\n",
    "        pass\n",
    "    \n",
    "    def end_call(self):\n",
    "        pass\n",
    "            \n",
    "    def __iter__(self,):\n",
    "        for element in self.iterable:\n",
    "            if self._loop_layer ==0:\n",
    "                self.update_i()\n",
    "            self.core.element = element\n",
    "            self.callon()\n",
    "            yield self.element\n",
    "            \n",
    "    def __getattr__(self,k):\n",
    "        return getattr(self.core,k)\n",
    "    \n",
    "    def is_newloop(self):\n",
    "        \"\"\"\n",
    "        return Bool:Is this a new loop ready to start\n",
    "        \"\"\"\n",
    "        return (self.i==-1 or self.i==self.__len__()-1)"
   ]
  },
  {
   "cell_type": "markdown",
   "metadata": {},
   "source": [
    "## Loop-in-loop concept\n",
    "Loop and its inheriting descendants runs on iterable, incuding other ```Loop```"
   ]
  },
  {
   "cell_type": "code",
   "execution_count": 5,
   "metadata": {},
   "outputs": [
    {
     "data": {
      "text/plain": [
       "layer🍰hahahha"
      ]
     },
     "execution_count": 5,
     "metadata": {},
     "output_type": "execute_result"
    }
   ],
   "source": [
    "l = Loop(range(5,10),name = \"hahahha\")\n",
    "l"
   ]
  },
  {
   "cell_type": "code",
   "execution_count": 6,
   "metadata": {},
   "outputs": [],
   "source": [
    "class Printer(Loop):\n",
    "    def __call__(self):\n",
    "        print(f\"i_{self.core.i}\",end=\"\\t\")\n",
    "        print(self.core.element)\n",
    "        \n",
    "    def start_call(self):\n",
    "        print(f\"start of epoch {self.epoch}\")\n",
    "        \n",
    "    def end_call(self):\n",
    "        print(f\"end of epoch {self.epoch}\")\n",
    "l2 = Printer(l)"
   ]
  },
  {
   "cell_type": "code",
   "execution_count": 7,
   "metadata": {},
   "outputs": [
    {
     "name": "stdout",
     "output_type": "stream",
     "text": [
      "start of epoch 0\n",
      "i_0\t5\n",
      "i_1\t6\n",
      "i_2\t7\n",
      "i_3\t8\n",
      "i_4\t9\n",
      "end of epoch 0\n"
     ]
    }
   ],
   "source": [
    "l2.run()"
   ]
  },
  {
   "cell_type": "markdown",
   "metadata": {},
   "source": [
    "## Progress bar"
   ]
  },
  {
   "cell_type": "code",
   "execution_count": 8,
   "metadata": {},
   "outputs": [],
   "source": [
    "# export\n",
    "class ProgressBar(Loop):\n",
    "    def __init__(self,iterable=[],jupyter = True,mininterval = 1e-1):\n",
    "        super().__init__(iterable,\"ProgressBar\")\n",
    "        \n",
    "        if jupyter: # jupyter widget\n",
    "            from tqdm.notebook import tqdm\n",
    "            \n",
    "        else: # compatible for console print\n",
    "            from tqdm import tqdm\n",
    "            \n",
    "        self.tqdm = tqdm\n",
    "        self.mininterval = mininterval\n",
    "        self.data = dict()\n",
    "        \n",
    "    @method4all\n",
    "    def pgbar_data(self,data):\n",
    "        \"\"\"\n",
    "        update progress bar with python dictionary\n",
    "        data: python dictionary\n",
    "        \"\"\"\n",
    "        self.t.set_postfix(data)\n",
    "    \n",
    "    @method4all\n",
    "    def pgbar_description(self,text):\n",
    "        \"\"\"\n",
    "        update progress bar prefix with text string\n",
    "        \"\"\"\n",
    "        self.t.set_description_str(f\"{text}\")\n",
    "        \n",
    "    def start_call(self):\n",
    "        self.create_bar()\n",
    "        \n",
    "    def end_call(self):\n",
    "        self.t.close()\n",
    "        \n",
    "    def __call__(self):\n",
    "        self.t.update(1)\n",
    "            \n",
    "    def create_bar(self):\n",
    "        self.t = self.tqdm(total=len(self.iterable),\n",
    "                           mininterval=self.mininterval)"
   ]
  },
  {
   "cell_type": "code",
   "execution_count": 9,
   "metadata": {},
   "outputs": [],
   "source": [
    "from tqdm.notebook import tqdm,tqdm_notebook"
   ]
  },
  {
   "cell_type": "code",
   "execution_count": 10,
   "metadata": {},
   "outputs": [
    {
     "data": {
      "application/vnd.jupyter.widget-view+json": {
       "model_id": "2f4c931898d344339087959e941eaaec",
       "version_major": 2,
       "version_minor": 0
      },
      "text/plain": [
       "HBox(children=(IntProgress(value=0, max=5), HTML(value='')))"
      ]
     },
     "metadata": {},
     "output_type": "display_data"
    },
    {
     "name": "stdout",
     "output_type": "stream",
     "text": [
      "\n"
     ]
    }
   ],
   "source": [
    "pb = ProgressBar(Loop(range(5,10)),jupyter = True)\n",
    "pb.run()"
   ]
  },
  {
   "cell_type": "markdown",
   "metadata": {},
   "source": [
    "### Downstream wraper\n",
    "> A unique way to contain downstream task in a function, hence a good Error Handling mechanism"
   ]
  },
  {
   "cell_type": "markdown",
   "metadata": {},
   "source": [
    "In cases you don't want error stop the iteration, meanwhile taking down all the error message."
   ]
  },
  {
   "cell_type": "code",
   "execution_count": 11,
   "metadata": {},
   "outputs": [],
   "source": [
    "# export\n",
    "def error_tolerate(self,downstream_func):\n",
    "    \"\"\"\n",
    "    downstream_func:Downstream function\n",
    "    \"\"\"\n",
    "    try:\n",
    "        downstream_func()\n",
    "    except Exception as e:\n",
    "        self.errors.append(dict(stage=downstream_func.__name__,\n",
    "                                i=self.i,\n",
    "                                epoch=self.epoch,\n",
    "                                error=e))\n",
    "    \n",
    "class Tolerate(Loop):\n",
    "    \"\"\"\n",
    "    Tolerate any error happened downstream\n",
    "    layer2 = Tolerate(upstream_iterable)\n",
    "    # build downstream tasks\n",
    "    layer3 = OtherApplication(layer2)\n",
    "    layer3.run()\n",
    "    # show the happened error message\n",
    "    layer3.error_list()\n",
    "    \"\"\"\n",
    "    def __init__(self,iterable = []):\n",
    "        super().__init__(iterable,)\n",
    "        self.errors = list()\n",
    "        # wrap downstream task with error tolerate\n",
    "        for decorator in [self.downstream,\n",
    "                          self.downstream_start,\n",
    "                          self.downstream_end]:\n",
    "            decorator(error_tolerate)\n",
    "    \n",
    "    @method4all\n",
    "    def error_list(self):\n",
    "        \"\"\"\n",
    "        A list of errors happend so far\n",
    "        \"\"\"\n",
    "        return self.errors\n",
    "    \n",
    "    def end_call(self,):\n",
    "        le = len(self.error_list())\n",
    "        if le>0:\n",
    "            print(f\"WARNING:{le} errors\")\n",
    "\n",
    "class LambdaCall(Loop):\n",
    "    def __init__(self,iterable = [],\n",
    "                 func = lambda x:x,\n",
    "                 start_func = lambda x:x,\n",
    "                 end_func = lambda x:x\n",
    "                ):\n",
    "        super().__init__(iterable,name=f\"Lambda<{hex(id(self))}>\")\n",
    "        self.func = func\n",
    "        self.start_func = end_func\n",
    "        self.end_func = end_func\n",
    "    \n",
    "    def __call__(self):\n",
    "        self.func(self)\n",
    "        \n",
    "    def start_call(self):\n",
    "        self.start_func(self)\n",
    "    \n",
    "    def end_call(self):\n",
    "        self.end_func(self)"
   ]
  },
  {
   "cell_type": "code",
   "execution_count": 12,
   "metadata": {},
   "outputs": [],
   "source": [
    "l1 = ProgressBar(Loop(range(1,10)))\n",
    "error_loop = LambdaCall(l1,func= lambda x:(5-x.element)**(-2))"
   ]
  },
  {
   "cell_type": "markdown",
   "metadata": {},
   "source": [
    "Running this will yield error"
   ]
  },
  {
   "cell_type": "markdown",
   "metadata": {},
   "source": [
    "```python\n",
    "error_loop.run()\n",
    "```"
   ]
  },
  {
   "cell_type": "code",
   "execution_count": 13,
   "metadata": {},
   "outputs": [
    {
     "data": {
      "application/vnd.jupyter.widget-view+json": {
       "model_id": "d092f079d72049f8abb565cd66fddbcc",
       "version_major": 2,
       "version_minor": 0
      },
      "text/plain": [
       "HBox(children=(IntProgress(value=0, max=9), HTML(value='')))"
      ]
     },
     "metadata": {},
     "output_type": "display_data"
    },
    {
     "name": "stdout",
     "output_type": "stream",
     "text": [
      "\n",
      "WARNING:5 errors\n"
     ]
    }
   ],
   "source": [
    "def error_on_purpose(x):\n",
    "    if x.element>5:\n",
    "        raise ValueError(f\"value too small, {x.element}\")\n",
    "\n",
    "l1 = ProgressBar(Loop(range(1,10)))\n",
    "# add the tolerate layer in between\n",
    "l2 = Tolerate(l1)\n",
    "# tolerate can only tolerate the erorr on downstream\n",
    "tolerated_loop = LambdaCall(l2,func=error_on_purpose,end_func=error_on_purpose)\n",
    "l2.run()"
   ]
  },
  {
   "cell_type": "markdown",
   "metadata": {},
   "source": [
    "you can use ```error_list``` function to print all the happened error"
   ]
  },
  {
   "cell_type": "code",
   "execution_count": 14,
   "metadata": {},
   "outputs": [
    {
     "data": {
      "text/html": [
       "<div>\n",
       "<style scoped>\n",
       "    .dataframe tbody tr th:only-of-type {\n",
       "        vertical-align: middle;\n",
       "    }\n",
       "\n",
       "    .dataframe tbody tr th {\n",
       "        vertical-align: top;\n",
       "    }\n",
       "\n",
       "    .dataframe thead th {\n",
       "        text-align: right;\n",
       "    }\n",
       "</style>\n",
       "<table border=\"1\" class=\"dataframe\">\n",
       "  <thead>\n",
       "    <tr style=\"text-align: right;\">\n",
       "      <th></th>\n",
       "      <th>stage</th>\n",
       "      <th>i</th>\n",
       "      <th>epoch</th>\n",
       "      <th>error</th>\n",
       "    </tr>\n",
       "  </thead>\n",
       "  <tbody>\n",
       "    <tr>\n",
       "      <td>0</td>\n",
       "      <td>start_cb</td>\n",
       "      <td>-1</td>\n",
       "      <td>0</td>\n",
       "      <td>'StorageCore' object has no attribute 'element'</td>\n",
       "    </tr>\n",
       "    <tr>\n",
       "      <td>1</td>\n",
       "      <td>iter_cb</td>\n",
       "      <td>5</td>\n",
       "      <td>0</td>\n",
       "      <td>value too small, 6</td>\n",
       "    </tr>\n",
       "    <tr>\n",
       "      <td>2</td>\n",
       "      <td>iter_cb</td>\n",
       "      <td>6</td>\n",
       "      <td>0</td>\n",
       "      <td>value too small, 7</td>\n",
       "    </tr>\n",
       "    <tr>\n",
       "      <td>3</td>\n",
       "      <td>iter_cb</td>\n",
       "      <td>7</td>\n",
       "      <td>0</td>\n",
       "      <td>value too small, 8</td>\n",
       "    </tr>\n",
       "    <tr>\n",
       "      <td>4</td>\n",
       "      <td>iter_cb</td>\n",
       "      <td>8</td>\n",
       "      <td>0</td>\n",
       "      <td>value too small, 9</td>\n",
       "    </tr>\n",
       "    <tr>\n",
       "      <td>5</td>\n",
       "      <td>end_cb</td>\n",
       "      <td>8</td>\n",
       "      <td>0</td>\n",
       "      <td>value too small, 9</td>\n",
       "    </tr>\n",
       "  </tbody>\n",
       "</table>\n",
       "</div>"
      ],
      "text/plain": [
       "      stage  i  epoch                                            error\n",
       "0  start_cb -1      0  'StorageCore' object has no attribute 'element'\n",
       "1   iter_cb  5      0                               value too small, 6\n",
       "2   iter_cb  6      0                               value too small, 7\n",
       "3   iter_cb  7      0                               value too small, 8\n",
       "4   iter_cb  8      0                               value too small, 9\n",
       "5    end_cb  8      0                               value too small, 9"
      ]
     },
     "execution_count": 14,
     "metadata": {},
     "output_type": "execute_result"
    }
   ],
   "source": [
    "import pandas as pd\n",
    "pd.DataFrame(l2.error_list())"
   ]
  },
  {
   "cell_type": "code",
   "execution_count": 15,
   "metadata": {},
   "outputs": [
    {
     "name": "stdout",
     "output_type": "stream",
     "text": [
      "Loop layer Tolerate summary:\n",
      "==================================================\n",
      "🍰layer0.0\tlayer🍰Loop\n",
      "--------------------------------------------------\n",
      "🍰layer1.0\tlayer🍰ProgressBar\n",
      "\t[🐍func_name]\tpgbar_data\n",
      "\t[⛰doc]\t\n",
      "        update progress bar with python dictionary\n",
      "        data: python dictionary\n",
      "        \n",
      "\t[😝var]\tself,data\n",
      "\t[😜names]\tt,set_postfix\n",
      "\t...................................\n",
      "\t[🐍func_name]\tpgbar_description\n",
      "\t[⛰doc]\t\n",
      "        update progress bar prefix with text string\n",
      "        \n",
      "\t[😝var]\tself,text\n",
      "\t[😜names]\tt,set_description_str\n",
      "\t...................................\n",
      "--------------------------------------------------\n",
      "🍰layer2.0\tlayer🍰Tolerate\n",
      "\t[🐍func_name]\terror_list\n",
      "\t[⛰doc]\t\n",
      "        A list of errors happend so far\n",
      "        \n",
      "\t[😝var]\tself\n",
      "\t[😜names]\terrors\n",
      "\t...................................\n",
      "--------------------------------------------------\n",
      "🍰layer3.0\tlayer🍰Lambda<0x115700dd0>\n",
      "--------------------------------------------------\n",
      "==================================================\n",
      "\n"
     ]
    }
   ],
   "source": [
    "l2.summary()"
   ]
  },
  {
   "cell_type": "markdown",
   "metadata": {},
   "source": [
    "### Application upon progress bar\n",
    "The function ```pgbar_data``` is decorated under ```method4all```, hence the function can be used else where"
   ]
  },
  {
   "cell_type": "code",
   "execution_count": 16,
   "metadata": {},
   "outputs": [
    {
     "data": {
      "application/vnd.jupyter.widget-view+json": {
       "model_id": "b87254602b82423294e62105eb354ab2",
       "version_major": 2,
       "version_minor": 0
      },
      "text/plain": [
       "HBox(children=(IntProgress(value=0, max=5), HTML(value='')))"
      ]
     },
     "metadata": {},
     "output_type": "display_data"
    },
    {
     "name": "stdout",
     "output_type": "stream",
     "text": [
      "\n"
     ]
    }
   ],
   "source": [
    "from datetime import datetime\n",
    "class Application(Loop):\n",
    "    def __call__(self):\n",
    "        # create some data\n",
    "        loop_data = dict(epoch=self.epoch,i = self.i,\n",
    "                         val = self.element,)\n",
    "        # update data to progress bar\n",
    "        self.pgbar_data(loop_data)\n",
    "        self.pgbar_description(str(datetime.now().strftime(\"%H:%M:%S\")))\n",
    "\n",
    "l3 = Application(ProgressBar(Loop(range(5,10)),jupyter=True))\n",
    "l3.run()"
   ]
  },
  {
   "cell_type": "markdown",
   "metadata": {},
   "source": [
    "## Print out the summary of the loop"
   ]
  },
  {
   "cell_type": "code",
   "execution_count": 17,
   "metadata": {},
   "outputs": [
    {
     "name": "stdout",
     "output_type": "stream",
     "text": [
      "Loop layer Application summary:\n",
      "==================================================\n",
      "🍰layer0.0\tlayer🍰Loop\n",
      "--------------------------------------------------\n",
      "🍰layer1.0\tlayer🍰ProgressBar\n",
      "\t[🐍func_name]\tpgbar_data\n",
      "\t[⛰doc]\t\n",
      "        update progress bar with python dictionary\n",
      "        data: python dictionary\n",
      "        \n",
      "\t[😝var]\tself,data\n",
      "\t[😜names]\tt,set_postfix\n",
      "\t...................................\n",
      "\t[🐍func_name]\tpgbar_description\n",
      "\t[⛰doc]\t\n",
      "        update progress bar prefix with text string\n",
      "        \n",
      "\t[😝var]\tself,text\n",
      "\t[😜names]\tt,set_description_str\n",
      "\t...................................\n",
      "--------------------------------------------------\n",
      "🍰layer2.0\tlayer🍰Application\n",
      "--------------------------------------------------\n",
      "==================================================\n",
      "\n"
     ]
    }
   ],
   "source": [
    "l3.summary()"
   ]
  },
  {
   "cell_type": "code",
   "execution_count": 18,
   "metadata": {
    "scrolled": true
   },
   "outputs": [
    {
     "data": {
      "application/vnd.jupyter.widget-view+json": {
       "model_id": "9063482726b1466e96c86f4e9c251d31",
       "version_major": 2,
       "version_minor": 0
      },
      "text/plain": [
       "HBox(children=(IntProgress(value=0, max=5), HTML(value='')))"
      ]
     },
     "metadata": {},
     "output_type": "display_data"
    },
    {
     "name": "stdout",
     "output_type": "stream",
     "text": [
      "\n"
     ]
    }
   ],
   "source": [
    "l3.run()"
   ]
  },
  {
   "cell_type": "markdown",
   "metadata": {},
   "source": [
    "## Event\n",
    "\n",
    "Event allows add-hoc callbacks to be created"
   ]
  },
  {
   "cell_type": "code",
   "execution_count": 19,
   "metadata": {},
   "outputs": [],
   "source": [
    "# export \n",
    "    \n",
    "class Event(Loop):\n",
    "    \"\"\"\n",
    "    An event is the landmark with in 1 iteration\n",
    "    \"\"\"\n",
    "    def __init__(self,iterable=[]):\n",
    "        event_name = self.__class__.__name__\n",
    "        super().__init__(iterable,event_name)\n",
    "        self.event_name = event_name\n",
    "        self.cbs = []\n",
    "        self.create_cb_deco(\"on\")\n",
    "        self.create_cb_deco(\"before_1st\")\n",
    "        self.create_cb_deco(\"after_last\")\n",
    "        self.core.update_forall(self)\n",
    "        self.core.assign_forall(self)\n",
    "        \n",
    "    def __repr__(self):\n",
    "        return f\"event🌏{self.event_name}\"\n",
    "    \n",
    "    def create_cb_deco(self,moment):\n",
    "        event_name = self.event_name\n",
    "        def wraper(cls,f):return getattr(self,moment)(f)\n",
    "        wraper.__name__ = f\"{moment}_{event_name}\"\n",
    "        wraper.__doc__ = f\"\"\"\n",
    "            Append new {moment} callback for event:{event_name}\n",
    "            Use this function as decorator\n",
    "        \"\"\"\n",
    "        setattr(self,wraper.__name__,MethodType(method4all(wraper),self))\n",
    "        \n",
    "    def __call__(self):\n",
    "        if len(self.cbs)>0:\n",
    "            self.cbs[0].callon()\n",
    "            \n",
    "    def start_call(self):\n",
    "        if len(self.cbs)>0:\n",
    "            self.cbs[0].start_callon()\n",
    "    \n",
    "    def end_call(self):\n",
    "        if len(self.cbs)>0:\n",
    "            self.cbs[0].end_callon()\n",
    "    \n",
    "    def on(self,f):\n",
    "        class EventCB(Loop):\n",
    "            def __init__(self_,iterable=[]):\n",
    "                super().__init__(iterable=iterable,\n",
    "                                 name = f\"ON_{self.event_name}_{self.cbs.__len__()+1}_{f.__name__}\")\n",
    "                self_.f = f\n",
    "                \n",
    "            def __call__(self_): self_.f(self)\n",
    "                \n",
    "        new_cb = EventCB()\n",
    "        self.new_event_cb(new_cb)\n",
    "        return f\n",
    "\n",
    "    def before_1st(self,f):\n",
    "        class EventCbBefore(Loop):\n",
    "            def __init__(self_,iterable=[]):\n",
    "                super().__init__(iterable=iterable,\n",
    "                                 name = f\"BEFORE_1ST_{self.event_name}_{self.cbs.__len__()+1}_{f.__name__}\")\n",
    "                self_.f = f\n",
    "                \n",
    "            def start_call(self_): self_.f(self)\n",
    "                \n",
    "        new_cb = EventCbBefore()\n",
    "        self.new_event_cb(new_cb)\n",
    "        return f\n",
    "    \n",
    "    def after_last(self,f):\n",
    "        class EventCbAfter(Loop):\n",
    "            def __init__(self_,iterable=[]):\n",
    "                super().__init__(iterable=iterable,\n",
    "                                 name = f\"AFTER_LAST_{self.event_name}_{self.cbs.__len__()+1}_{f.__name__}\")\n",
    "                self_.f = f\n",
    "                \n",
    "            def end_call(self_): self_.f(self)\n",
    "                \n",
    "        new_cb = EventCbAfter()\n",
    "        self.new_event_cb(new_cb)\n",
    "        return f\n",
    "                \n",
    "    def new_event_cb(self,new_cb):\n",
    "        new_cb.core.update_forall(new_cb)\n",
    "        new_cb.core.assign_forall(new_cb)\n",
    "        new_cb.core = self.core\n",
    "        if len(self.cbs)>0:\n",
    "            self.cbs[-1].next_layer = new_cb\n",
    "#             self.cbs[-1].new_layer(new_cb)\n",
    "        self.cbs.append(new_cb)"
   ]
  },
  {
   "cell_type": "code",
   "execution_count": 20,
   "metadata": {},
   "outputs": [],
   "source": [
    "class ToString(Loop):\n",
    "    def __call__(self,):\n",
    "        self.core.element = f\"variable_{self.i}\"\n",
    "\n",
    "class ChangeString(Event):\n",
    "    def __init__(self,iterable=[]):\n",
    "        super().__init__(iterable=iterable)"
   ]
  },
  {
   "cell_type": "code",
   "execution_count": 21,
   "metadata": {},
   "outputs": [],
   "source": [
    "def get_frame(li):\n",
    "    layer1 = ProgressBar(Loop(li,\"base\"))\n",
    "    layer2 = ToString(layer1,)\n",
    "    layer3 = ChangeString(layer2)\n",
    "    # you can use this \"on\" syntax\n",
    "    @layer3.ChangeString.on\n",
    "    def trim(self):\n",
    "        self.core.element = f\"Var_{self.element}\"\n",
    "        \n",
    "    # or this syntax\n",
    "    @layer3.on_ChangeString\n",
    "    def update(self):\n",
    "        self.pgbar_description(self.element)\n",
    "        \n",
    "    @layer3.before_1st_ChangeString\n",
    "    def print_start(self):\n",
    "        \"\"\"\n",
    "        decorated\n",
    "        \"\"\"\n",
    "        print(f\"start_{self.epoch}_{self.i}\")\n",
    "        print(self.name)\n",
    "    return layer3"
   ]
  },
  {
   "cell_type": "code",
   "execution_count": 22,
   "metadata": {},
   "outputs": [],
   "source": [
    "l = get_frame(range(10))"
   ]
  },
  {
   "cell_type": "code",
   "execution_count": 23,
   "metadata": {},
   "outputs": [
    {
     "data": {
      "text/plain": [
       "{0.0: layer🍰base, 1.0: layer🍰ProgressBar, 2.0: layer🍰ToString, 3.0: event🌏ChangeString}"
      ]
     },
     "execution_count": 23,
     "metadata": {},
     "output_type": "execute_result"
    }
   ],
   "source": [
    "l.core"
   ]
  },
  {
   "cell_type": "code",
   "execution_count": 24,
   "metadata": {},
   "outputs": [
    {
     "data": {
      "text/plain": [
       "[layer🍰ON_ChangeString_1_trim,\n",
       " layer🍰ON_ChangeString_2_update,\n",
       " layer🍰BEFORE_1ST_ChangeString_3_print_start]"
      ]
     },
     "execution_count": 24,
     "metadata": {},
     "output_type": "execute_result"
    }
   ],
   "source": [
    "l.cbs"
   ]
  },
  {
   "cell_type": "code",
   "execution_count": 25,
   "metadata": {},
   "outputs": [
    {
     "name": "stdout",
     "output_type": "stream",
     "text": [
      "Loop layer ChangeString summary:\n",
      "==================================================\n",
      "🍰layer0.0\tlayer🍰base\n",
      "--------------------------------------------------\n",
      "🍰layer1.0\tlayer🍰ProgressBar\n",
      "\t[🐍func_name]\tpgbar_data\n",
      "\t[⛰doc]\t\n",
      "        update progress bar with python dictionary\n",
      "        data: python dictionary\n",
      "        \n",
      "\t[😝var]\tself,data\n",
      "\t[😜names]\tt,set_postfix\n",
      "\t...................................\n",
      "\t[🐍func_name]\tpgbar_description\n",
      "\t[⛰doc]\t\n",
      "        update progress bar prefix with text string\n",
      "        \n",
      "\t[😝var]\tself,text\n",
      "\t[😜names]\tt,set_description_str\n",
      "\t...................................\n",
      "--------------------------------------------------\n",
      "🍰layer2.0\tlayer🍰ToString\n",
      "--------------------------------------------------\n",
      "🍰layer3.0\tevent🌏ChangeString\n",
      "\t[🐍func_name]\tafter_last_ChangeString\n",
      "\t[⛰doc]\t\n",
      "            Append new after_last callback for event:ChangeString\n",
      "            Use this function as decorator\n",
      "        \n",
      "\t[😝var]\tcls,f\n",
      "\t[😜names]\tgetattr\n",
      "\t...................................\n",
      "\t[🐍func_name]\tbefore_1st_ChangeString\n",
      "\t[⛰doc]\t\n",
      "            Append new before_1st callback for event:ChangeString\n",
      "            Use this function as decorator\n",
      "        \n",
      "\t[😝var]\tcls,f\n",
      "\t[😜names]\tgetattr\n",
      "\t...................................\n",
      "\t[🐍func_name]\ton_ChangeString\n",
      "\t[⛰doc]\t\n",
      "            Append new on callback for event:ChangeString\n",
      "            Use this function as decorator\n",
      "        \n",
      "\t[😝var]\tcls,f\n",
      "\t[😜names]\tgetattr\n",
      "\t...................................\n",
      "--------------------------------------------------\n",
      "==================================================\n",
      "\n"
     ]
    }
   ],
   "source": [
    "l.summary()"
   ]
  },
  {
   "cell_type": "code",
   "execution_count": 26,
   "metadata": {},
   "outputs": [
    {
     "data": {
      "text/plain": [
       "[layer🍰base, layer🍰ProgressBar, layer🍰ToString, event🌏ChangeString]"
      ]
     },
     "execution_count": 26,
     "metadata": {},
     "output_type": "execute_result"
    }
   ],
   "source": [
    "l.layers"
   ]
  },
  {
   "cell_type": "code",
   "execution_count": 27,
   "metadata": {},
   "outputs": [
    {
     "data": {
      "application/vnd.jupyter.widget-view+json": {
       "model_id": "2d494a4467864bcd9d981a6acff23422",
       "version_major": 2,
       "version_minor": 0
      },
      "text/plain": [
       "HBox(children=(IntProgress(value=0, max=10), HTML(value='')))"
      ]
     },
     "metadata": {},
     "output_type": "display_data"
    },
    {
     "name": "stdout",
     "output_type": "stream",
     "text": [
      "start_0_-1\n",
      "ChangeString\n",
      "\n"
     ]
    }
   ],
   "source": [
    "l.run()"
   ]
  },
  {
   "cell_type": "code",
   "execution_count": 28,
   "metadata": {},
   "outputs": [
    {
     "name": "stdout",
     "output_type": "stream",
     "text": [
      "layer🍰base\n",
      "None\n",
      "None\n",
      "None\n"
     ]
    }
   ],
   "source": [
    "layer = l.layers[0]\n",
    "print(layer)\n",
    "while layer.next_layer!=None:\n",
    "    layer=layer.next_layer\n",
    "    print(layer.start_call.__doc__)"
   ]
  },
  {
   "cell_type": "code",
   "execution_count": null,
   "metadata": {},
   "outputs": [],
   "source": []
  }
 ],
 "metadata": {
  "kernelspec": {
   "display_name": "Python 3",
   "language": "python",
   "name": "python3"
  },
  "language_info": {
   "codemirror_mode": {
    "name": "ipython",
    "version": 3
   },
   "file_extension": ".py",
   "mimetype": "text/x-python",
   "name": "python",
   "nbconvert_exporter": "python",
   "pygments_lexer": "ipython3",
   "version": "3.7.4"
  }
 },
 "nbformat": 4,
 "nbformat_minor": 2
}
