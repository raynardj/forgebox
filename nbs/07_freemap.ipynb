{
 "cells": [
  {
   "cell_type": "markdown",
   "metadata": {},
   "source": [
    "# FreeMap\n",
    "> ```map``` function on free json like structure"
   ]
  },
  {
   "cell_type": "code",
   "execution_count": null,
   "metadata": {},
   "outputs": [],
   "source": [
    "# default_exp freemap"
   ]
  },
  {
   "cell_type": "code",
   "execution_count": 1,
   "metadata": {},
   "outputs": [],
   "source": [
    "# export\n",
    "from collections import OrderedDict"
   ]
  },
  {
   "cell_type": "code",
   "execution_count": 123,
   "metadata": {},
   "outputs": [],
   "source": [
    "# export\n",
    "class FreeMap:\n",
    "    def __init__(self,\n",
    "                 func= lambda x:x,\n",
    "                 filter_function = lambda x: True,\n",
    "                 flatten = False):\n",
    "        \"\"\"\n",
    "        run map operation on a free stucture, \n",
    "        like dictionary, list within dictionary, etc\n",
    "        \n",
    "        \"\"\"\n",
    "        self.func = func\n",
    "        self.filter_function = filter_function\n",
    "        self.flatten = flatten\n",
    "        if flatten:\n",
    "            self.result_list = []\n",
    "        self.create_doc()\n",
    "        \n",
    "    def __repr__(self):\n",
    "        return f\"\"\"<A map function for free structure>\n",
    "        Please put in one of the following type: \n",
    "        dict, list, tuple, set, OrderedDict\n",
    "        \n",
    "        {self.keep_structure}\n",
    "        ======\n",
    "        Mapped function\n",
    "        {self.func}\n",
    "        Value Filter function\n",
    "        {self.filter_function}\n",
    "        \"\"\"\n",
    "    \n",
    "    @property\n",
    "    def keep_structure(self):\n",
    "        return \"This operation will flatten the structure to a list\"\\\n",
    "            if self.flatten else\\\n",
    "            \"This operation will keep the original structure\"\n",
    "            \n",
    "    def create_doc(self):\n",
    "        doc = f\"\"\"\n",
    "        map function for list,dict,tuple,set,OrderedDict\n",
    "        {self.keep_structure}\n",
    "        \n",
    "        \"\"\"\n",
    "        if hasattr(self.func,\"__doc__\"):\n",
    "            if self.func.__doc__!=None:\n",
    "                doc += f\"doc string from mapping function:\\n\\t\\t{self.func.__doc__}\\t\"\n",
    "        setattr(self,\"__doc__\",doc)\n",
    "        \n",
    "    def parse(self,thing):\n",
    "        if type(thing) in [list,tuple,set]:\n",
    "            return self.parse_seq(thing)\n",
    "        elif type(thing) in [dict,OrderedDict]:\n",
    "            return self.parse_kv(thing)\n",
    "        else:\n",
    "            return self.parse_value(thing)\n",
    "        \n",
    "    def parse_seq(self,thing):\n",
    "        return type(thing)(self.parse(i) for i in thing)\n",
    "    \n",
    "    def parse_kv(self,thing):\n",
    "        return type(thing)((k,self.parse(v)) for k,v in thing.items())\n",
    "    \n",
    "    def parse_value(self,thing):\n",
    "        if self.filter_function(thing):\n",
    "            if self.flatten==False:\n",
    "                return self.func(thing)\n",
    "            else:\n",
    "                self.result_list.append(self.func(thing))\n",
    "        return thing\n",
    "        \n",
    "    def __call__(self,iterable):\n",
    "        result = self.parse(iterable)\n",
    "        if self.flatten:\n",
    "            return self.result_list\n",
    "        else:\n",
    "            return result"
   ]
  },
  {
   "cell_type": "markdown",
   "metadata": {},
   "source": [
    "## Examples"
   ]
  },
  {
   "cell_type": "code",
   "execution_count": 100,
   "metadata": {},
   "outputs": [],
   "source": [
    "from math import floor"
   ]
  },
  {
   "cell_type": "code",
   "execution_count": 101,
   "metadata": {},
   "outputs": [],
   "source": [
    "examp = {\"somekey\":\"somestring\",\n",
    "         \"somekey_with_heavy_value\":[1,\n",
    "                                     \"2\",\n",
    "                                     \"word\",\n",
    "                                     {\"function\":floor},\n",
    "                                     {\"are\",\n",
    "                                      \"is\",\n",
    "                                      \"is\",\n",
    "                                      (\"Lovely\",\n",
    "                                       \"example\",)}],\n",
    "         \"someanother_key\":\"hello this is a long string with verbosity\"}"
   ]
  },
  {
   "cell_type": "code",
   "execution_count": 102,
   "metadata": {},
   "outputs": [
    {
     "data": {
      "text/plain": [
       "<A map function for free structure>\n",
       "        Please put in one of the following type: \n",
       "        dict, list, tuple, set, OrderedDict\n",
       "        \n",
       "        This operation will keep the original structure\n",
       "        ======\n",
       "        Mapped function\n",
       "        <function <lambda> at 0x10fc0fe60>\n",
       "        Value Filter function\n",
       "        <function <lambda> at 0x10fc0fef0>\n",
       "        "
      ]
     },
     "execution_count": 102,
     "metadata": {},
     "output_type": "execute_result"
    }
   ],
   "source": [
    "capitalize = FreeMap(lambda x:x.upper(),lambda x:(type(x)==str))\n",
    "capitalize"
   ]
  },
  {
   "cell_type": "code",
   "execution_count": 103,
   "metadata": {},
   "outputs": [
    {
     "data": {
      "text/plain": [
       "{'somekey': 'SOMESTRING',\n",
       " 'somekey_with_heavy_value': [1,\n",
       "  '2',\n",
       "  'WORD',\n",
       "  {'function': <function math.floor(x, /)>},\n",
       "  {('LOVELY', 'EXAMPLE'), 'ARE', 'IS'}],\n",
       " 'someanother_key': 'HELLO THIS IS A LONG STRING WITH VERBOSITY'}"
      ]
     },
     "execution_count": 103,
     "metadata": {},
     "output_type": "execute_result"
    }
   ],
   "source": [
    "capitalize(examp)"
   ]
  },
  {
   "cell_type": "markdown",
   "metadata": {},
   "source": [
    "## Flatten and map"
   ]
  },
  {
   "cell_type": "code",
   "execution_count": 121,
   "metadata": {},
   "outputs": [
    {
     "data": {
      "text/plain": [
       "['SOMESTRING',\n",
       " '2',\n",
       " 'WORD',\n",
       " 'IS',\n",
       " 'LOVELY',\n",
       " 'EXAMPLE',\n",
       " 'ARE',\n",
       " 'HELLO THIS IS A LONG STRING WITH VERBOSITY']"
      ]
     },
     "execution_count": 121,
     "metadata": {},
     "output_type": "execute_result"
    }
   ],
   "source": [
    "FreeMap(lambda x:x.upper(),lambda x:(type(x)==str),flatten=True)(examp)"
   ]
  },
  {
   "cell_type": "markdown",
   "metadata": {},
   "source": [
    "Just simple flatten, the default map function doesn't do anything"
   ]
  },
  {
   "cell_type": "code",
   "execution_count": 124,
   "metadata": {},
   "outputs": [
    {
     "data": {
      "text/plain": [
       "['somestring',\n",
       " 1,\n",
       " '2',\n",
       " 'word',\n",
       " <function math.floor(x, /)>,\n",
       " 'is',\n",
       " 'Lovely',\n",
       " 'example',\n",
       " 'are',\n",
       " 'hello this is a long string with verbosity']"
      ]
     },
     "execution_count": 124,
     "metadata": {},
     "output_type": "execute_result"
    }
   ],
   "source": [
    "FreeMap(flatten=True)(examp)"
   ]
  },
  {
   "cell_type": "code",
   "execution_count": null,
   "metadata": {},
   "outputs": [],
   "source": []
  }
 ],
 "metadata": {
  "kernelspec": {
   "display_name": "Python 3",
   "language": "python",
   "name": "python3"
  },
  "language_info": {
   "codemirror_mode": {
    "name": "ipython",
    "version": 3
   },
   "file_extension": ".py",
   "mimetype": "text/x-python",
   "name": "python",
   "nbconvert_exporter": "python",
   "pygments_lexer": "ipython3",
   "version": "3.7.4"
  },
  "toc": {
   "base_numbering": 1,
   "nav_menu": {},
   "number_sections": true,
   "sideBar": true,
   "skip_h1_title": false,
   "title_cell": "Table of Contents",
   "title_sidebar": "Contents",
   "toc_cell": false,
   "toc_position": {},
   "toc_section_display": true,
   "toc_window_display": false
  }
 },
 "nbformat": 4,
 "nbformat_minor": 4
}
