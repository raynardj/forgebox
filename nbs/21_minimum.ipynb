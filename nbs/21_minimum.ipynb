{
 "cells": [
  {
   "cell_type": "markdown",
   "metadata": {},
   "source": [
    "# Minimum\n",
    "> Minimal way of managing a **(Directed Acyclic Graph)DAG pipeline**"
   ]
  },
  {
   "cell_type": "code",
   "execution_count": null,
   "metadata": {},
   "outputs": [],
   "source": [
    "# default_exp minimum"
   ]
  },
  {
   "cell_type": "code",
   "execution_count": 62,
   "metadata": {},
   "outputs": [],
   "source": [
    "from forgebox.config import Config\n",
    "from datetime import datetime\n",
    "from uuid import uuid4"
   ]
  },
  {
   "cell_type": "code",
   "execution_count": 63,
   "metadata": {},
   "outputs": [],
   "source": [
    "def now():return datetime.now().timestamp()"
   ]
  },
  {
   "cell_type": "code",
   "execution_count": 66,
   "metadata": {},
   "outputs": [
    {
     "data": {
      "text/plain": [
       "'b3d85105-43aa-4865-a686-9365af4dfd7a'"
      ]
     },
     "execution_count": 66,
     "metadata": {},
     "output_type": "execute_result"
    }
   ],
   "source": []
  },
  {
   "cell_type": "code",
   "execution_count": 27,
   "metadata": {},
   "outputs": [],
   "source": [
    "class Link:\n",
    "    data = Config\n",
    "    def __init__(self,func):\n",
    "        self.ensure_funcs()\n",
    "        func_name = func.__name__\n",
    "        self.funcs_[func_name] = func\n",
    "        self.func = self.funcs_[func_name]\n",
    "        \n",
    "    def __repr__(self,):\n",
    "        return f\"[Link Function]:{self.func}\"\n",
    "    \n",
    "    def ensure_funcs(self,):\n",
    "        if hasattr(self,\"funcs_\")==False:\n",
    "            self.__class__.funcs_ = Config()\n",
    "            \n",
    "    def ensure_uuid(self,uuid):\n",
    "        if uuid == False:\n",
    "            uuid = str(uuid4())\n",
    "            self.data[uuid] = Config()\n",
    "        \n",
    "    def __call__(self,*args,**kwargs, uuid = False):\n",
    "        print(args)\n",
    "        print(kwargs)\n",
    "        self.ensure_uuid(uuid)\n",
    "        self.data[uuid].update(kwargs)\n",
    "        rt = self.func(*args,**kwargs)\n",
    "        print(rt)\n",
    "        return rt"
   ]
  },
  {
   "cell_type": "code",
   "execution_count": 28,
   "metadata": {},
   "outputs": [],
   "source": [
    "@Link\n",
    "def abc(a = 2):\n",
    "    return a**2"
   ]
  },
  {
   "cell_type": "code",
   "execution_count": 29,
   "metadata": {},
   "outputs": [
    {
     "name": "stdout",
     "output_type": "stream",
     "text": [
      "(5,)\n",
      "{}\n",
      "25\n"
     ]
    },
    {
     "data": {
      "text/plain": [
       "25"
      ]
     },
     "execution_count": 29,
     "metadata": {},
     "output_type": "execute_result"
    }
   ],
   "source": [
    "abc(5)"
   ]
  },
  {
   "cell_type": "code",
   "execution_count": 30,
   "metadata": {},
   "outputs": [
    {
     "data": {
      "text/plain": [
       "[Link Function]:<function abc at 0x10f3569e0>"
      ]
     },
     "execution_count": 30,
     "metadata": {},
     "output_type": "execute_result"
    }
   ],
   "source": [
    "abc"
   ]
  },
  {
   "cell_type": "code",
   "execution_count": null,
   "metadata": {},
   "outputs": [],
   "source": []
  }
 ],
 "metadata": {
  "kernelspec": {
   "display_name": "Python 3",
   "language": "python",
   "name": "python3"
  },
  "language_info": {
   "codemirror_mode": {
    "name": "ipython",
    "version": 3
   },
   "file_extension": ".py",
   "mimetype": "text/x-python",
   "name": "python",
   "nbconvert_exporter": "python",
   "pygments_lexer": "ipython3",
   "version": "3.7.4"
  },
  "toc": {
   "base_numbering": 1,
   "nav_menu": {},
   "number_sections": true,
   "sideBar": true,
   "skip_h1_title": false,
   "title_cell": "Table of Contents",
   "title_sidebar": "Contents",
   "toc_cell": false,
   "toc_position": {},
   "toc_section_display": true,
   "toc_window_display": false
  }
 },
 "nbformat": 4,
 "nbformat_minor": 4
}
