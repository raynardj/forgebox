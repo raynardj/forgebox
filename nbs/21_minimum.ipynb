{
 "cells": [
  {
   "cell_type": "markdown",
   "metadata": {},
   "source": [
    "# Minimum\n",
    "> Minimal way of managing a **(Directed Acyclic Graph)DAG pipeline**"
   ]
  },
  {
   "cell_type": "code",
   "execution_count": null,
   "metadata": {},
   "outputs": [],
   "source": [
    "# default_exp minimum"
   ]
  },
  {
   "cell_type": "code",
   "execution_count": 62,
   "metadata": {},
   "outputs": [],
   "source": [
    "from forgebox.config import Config\n",
    "from datetime import datetime\n",
    "from uuid import uuid4\n",
    "from inspect import getargspec"
   ]
  },
  {
   "cell_type": "code",
   "execution_count": 63,
   "metadata": {},
   "outputs": [],
   "source": [
    "def now():return datetime.now().timestamp()"
   ]
  },
  {
   "cell_type": "code",
   "execution_count": 66,
   "metadata": {},
   "outputs": [
    {
     "data": {
      "text/plain": [
       "'b3d85105-43aa-4865-a686-9365af4dfd7a'"
      ]
     },
     "execution_count": 66,
     "metadata": {},
     "output_type": "execute_result"
    }
   ],
   "source": []
  },
  {
   "cell_type": "code",
   "execution_count": 27,
   "metadata": {
    "code_folding": [
     2
    ]
   },
   "outputs": [],
   "source": [
    "class Link:\n",
    "    data = Config\n",
    "    def __init__(self,func):\n",
    "        self.ensure_funcs()\n",
    "        func_name = func.__name__\n",
    "        self.funcs_[func_name] = func\n",
    "        self.func = self.funcs_[func_name]\n",
    "        \n",
    "    def __repr__(self,):\n",
    "        return f\"[Link Function]:{self.func}\"\n",
    "    \n",
    "    def ensure_funcs(self,):\n",
    "        if hasattr(self,\"funcs_\")==False:\n",
    "            self.__class__.funcs_ = Config()\n",
    "            \n",
    "    def ensure_uuid(self,uuid):\n",
    "        if uuid == False:\n",
    "            uuid = str(uuid4())\n",
    "            self.data[uuid] = Config()\n",
    "        \n",
    "    def __call__(self,*args,**kwargs, uuid = False):\n",
    "        print(args)\n",
    "        print(kwargs)\n",
    "        self.ensure_uuid(uuid)\n",
    "        self.data[uuid].update(kwargs)\n",
    "        rt = self.func(*args,**kwargs)\n",
    "        print(rt)\n",
    "        return rt"
   ]
  },
  {
   "cell_type": "code",
   "execution_count": 79,
   "metadata": {},
   "outputs": [],
   "source": [
    "@Link\n",
    "def abc(a = 2,b=3):\n",
    "    return a**2"
   ]
  },
  {
   "cell_type": "code",
   "execution_count": 80,
   "metadata": {},
   "outputs": [
    {
     "name": "stdout",
     "output_type": "stream",
     "text": [
      "(5,)\n",
      "{}\n",
      "25\n"
     ]
    },
    {
     "data": {
      "text/plain": [
       "25"
      ]
     },
     "execution_count": 80,
     "metadata": {},
     "output_type": "execute_result"
    }
   ],
   "source": [
    "abc(5)"
   ]
  },
  {
   "cell_type": "code",
   "execution_count": 81,
   "metadata": {},
   "outputs": [
    {
     "data": {
      "text/plain": [
       "{'abc': <function __main__.abc(a=2, b=3)>}"
      ]
     },
     "execution_count": 81,
     "metadata": {},
     "output_type": "execute_result"
    }
   ],
   "source": [
    "abc.funcs_"
   ]
  },
  {
   "cell_type": "code",
   "execution_count": 91,
   "metadata": {},
   "outputs": [],
   "source": [
    "from inspect import getargspec,getfullargspec"
   ]
  },
  {
   "cell_type": "code",
   "execution_count": 85,
   "metadata": {},
   "outputs": [
    {
     "data": {
      "text/plain": [
       "Arguments(args=['self'], varargs='args', varkw='kwargs')"
      ]
     },
     "execution_count": 85,
     "metadata": {},
     "output_type": "execute_result"
    }
   ],
   "source": [
    "getargs(abc.__call__.__code__)"
   ]
  },
  {
   "cell_type": "code",
   "execution_count": 98,
   "metadata": {},
   "outputs": [],
   "source": [
    "def a():return 123\n",
    "def b(a,b=1):return 123\n",
    "def c(*args,a=1,b=2):return a\n",
    "def d(a=1,b:{\"type\":int}=2,**kwargs, ):return a"
   ]
  },
  {
   "cell_type": "code",
   "execution_count": 99,
   "metadata": {},
   "outputs": [
    {
     "name": "stdout",
     "output_type": "stream",
     "text": [
      "FullArgSpec(args=[], varargs=None, varkw=None, defaults=None, kwonlyargs=[], kwonlydefaults=None, annotations={})\n",
      "FullArgSpec(args=['a', 'b'], varargs=None, varkw=None, defaults=(1,), kwonlyargs=[], kwonlydefaults=None, annotations={})\n",
      "FullArgSpec(args=[], varargs='args', varkw=None, defaults=None, kwonlyargs=['a', 'b'], kwonlydefaults={'a': 1, 'b': 2}, annotations={})\n",
      "FullArgSpec(args=['a', 'b'], varargs=None, varkw='kwargs', defaults=(1, 2), kwonlyargs=[], kwonlydefaults=None, annotations={'b': {'type': <class 'int'>}})\n"
     ]
    }
   ],
   "source": [
    "for f in [a,b,c,d]:\n",
    "    print(getfullargspec(f))"
   ]
  },
  {
   "cell_type": "code",
   "execution_count": null,
   "metadata": {},
   "outputs": [],
   "source": []
  }
 ],
 "metadata": {
  "kernelspec": {
   "display_name": "Python 3",
   "language": "python",
   "name": "python3"
  },
  "language_info": {
   "codemirror_mode": {
    "name": "ipython",
    "version": 3
   },
   "file_extension": ".py",
   "mimetype": "text/x-python",
   "name": "python",
   "nbconvert_exporter": "python",
   "pygments_lexer": "ipython3",
   "version": "3.7.4"
  },
  "toc": {
   "base_numbering": 1,
   "nav_menu": {},
   "number_sections": true,
   "sideBar": true,
   "skip_h1_title": false,
   "title_cell": "Table of Contents",
   "title_sidebar": "Contents",
   "toc_cell": false,
   "toc_position": {},
   "toc_section_display": true,
   "toc_window_display": false
  }
 },
 "nbformat": 4,
 "nbformat_minor": 4
}
