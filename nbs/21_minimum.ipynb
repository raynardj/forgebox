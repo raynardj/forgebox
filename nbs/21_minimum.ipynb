{
 "cells": [
  {
   "cell_type": "markdown",
   "metadata": {},
   "source": [
    "# Minimum\n",
    "> Minimal way of managing a **(Directed Acyclic Graph)DAG pipeline**"
   ]
  },
  {
   "cell_type": "code",
   "execution_count": 1,
   "metadata": {},
   "outputs": [],
   "source": [
    "# default_exp minimum"
   ]
  },
  {
   "cell_type": "code",
   "execution_count": 77,
   "metadata": {},
   "outputs": [],
   "source": [
    "# export\n",
    "from forgebox.config import Config\n",
    "from datetime import datetime\n",
    "from uuid import uuid4\n",
    "from inspect import getargspec\n",
    "from copy import deepcopy"
   ]
  },
  {
   "cell_type": "code",
   "execution_count": 155,
   "metadata": {
    "code_folding": [
     22,
     57,
     64
    ]
   },
   "outputs": [],
   "source": [
    "def now():return datetime.now().timestamp()\n",
    "\n",
    "class Link:\n",
    "    is_link_identifier = True\n",
    "    data = Config()\n",
    "    inputs = Config()\n",
    "    verbose = 0\n",
    "    def __init__(self,func):\n",
    "        self.ensure_funcs()\n",
    "        func_name = func.__name__\n",
    "        self.func_name = func_name\n",
    "        self.funcs_[func_name] = func\n",
    "        self.func = self.funcs_[func_name]\n",
    "        self.register_args()\n",
    "        \n",
    "    def __repr__(self,):\n",
    "        return f\"[Link Function]:{self.func}\"\n",
    "    \n",
    "    def ensure_funcs(self,):\n",
    "        if hasattr(self,\"funcs_\")==False:\n",
    "            self.__class__.funcs_ = Config()\n",
    "            \n",
    "    def ensure_uuid(self,uuid:str)->str:\n",
    "        \"\"\"\n",
    "        Make sure there's uuid,\n",
    "        if not create on\n",
    "        \"\"\"\n",
    "        if uuid == False:\n",
    "            uuid = str(uuid4())\n",
    "            self.data[uuid] = Config()\n",
    "            self.inputs[uuid] = Config()\n",
    "            return uuid\n",
    "        else:\n",
    "            return uuid\n",
    "        \n",
    "    def check_callback(self,v,uuid):\n",
    "        \n",
    "        if hasattr(v,\"is_link_identifier\")==False:\n",
    "            # this is not a callback function\n",
    "            return v\n",
    "        \n",
    "        elif v.func_name in self.data[uuid]:\n",
    "            # found calculated result of the function\n",
    "            # read the cached result\n",
    "            if self.verbose>0:\n",
    "                print(f\"[{self.func_name}] using cache:\\t{v.func_name}\")\n",
    "            return self.data[uuid].get(v.func_name)\n",
    "        \n",
    "        else:\n",
    "            # calculated result of function v not found,\n",
    "            # execuate the calculation\n",
    "            if self.verbose>0:\n",
    "                print(f\"[{self.func_name}] execute callback:\\t{v.func_name}\")\n",
    "            result = v.unit_call(uuid)()\n",
    "            return result\n",
    "    \n",
    "    @staticmethod\n",
    "    def value_only(dict_:Config)->Config:\n",
    "        \"\"\"\n",
    "        filter out the value that requires callback\n",
    "        \"\"\"\n",
    "        return Config((k,v) for k,v in dict_.items() if hasattr(v,\"is_link_identifier\")==False)\n",
    "    \n",
    "    @staticmethod\n",
    "    def callback_only(dict_:Config)->Config:\n",
    "        \"\"\"\n",
    "        filter out the value that does not require callback\n",
    "        \"\"\"\n",
    "        return Config((k,v) for k,v in dict_.items() if hasattr(v,\"is_link_identifier\")==True)\n",
    "    \n",
    "    def get_cached(self,uuid:str)->Config:\n",
    "        \"\"\"\n",
    "        Get the cached data\n",
    "        \"\"\"\n",
    "        this_data = self.data[uuid]\n",
    "        return Config((k,this_data.get(k)) for k in self.all_argname \\\n",
    "                          if k in this_data)\n",
    "        \n",
    "    def unit_call(self,uuid = False):\n",
    "        uuid = self.ensure_uuid(uuid)\n",
    "        \n",
    "        def called(*args,**kwargs):\n",
    "            # record inputs\n",
    "            kwargs0 = deepcopy(self.kwargs_default)\n",
    "            kwargs0.update(kwargs)\n",
    "            \n",
    "            # save inputs\n",
    "            self.inputs[uuid].update(Config({self.func_name:Config(args = args,\n",
    "                                                                   kwargs = kwargs0)}))\n",
    "            # save data\n",
    "            self.data[uuid].update(self.value_only(kwargs0))\n",
    "            \n",
    "            # check the cache for all args\n",
    "            cached = self.get_cached(uuid)\n",
    "            kwargs0.update(cached)\n",
    "            \n",
    "            # check the callback trigger\n",
    "            args0 = list(self.check_callback(a,uuid) for a in args)\n",
    "            kwargs0 = dict((k,self.check_callback(v,uuid)) for k,v in kwargs0.items())\n",
    "            \n",
    "            # redundant keywords\n",
    "            if (len(args0)>0) and len(self.arg_spec.args)>=len(args0):\n",
    "                manual_args = self.arg_spec.args[:len(args0)]\n",
    "                for k in manual_args:\n",
    "                    if k in kwargs0:\n",
    "                        del kwargs0[k]\n",
    "                if len(args0)>len(manual_args):\n",
    "                    for args0[-len(manual_args):]:\n",
    "            \n",
    "            # run function\n",
    "            if self.verbose > 1:\n",
    "                print(f\"[{self.func_name}] final args {args0}\")\n",
    "                print(f\"[{self.func_name}] final kwargs {kwargs0}\")\n",
    "            rt = self.func(*args0,**kwargs0)\n",
    "            \n",
    "            # save outputs\n",
    "            if hasattr(rt,'items'):\n",
    "                self.data[uuid].update(rt)\n",
    "            self.data[uuid].update({self.func_name:rt})\n",
    "            \n",
    "            return rt\n",
    "        return called\n",
    "        \n",
    "    def __call__(self,*args,**kwargs,):\n",
    "        return self.unit_call()(*args,**kwargs)\n",
    "    \n",
    "    def register_args(self)->None:\n",
    "        \"\"\"\n",
    "        Register all the arguements\n",
    "        \"\"\"\n",
    "        arg_spec = getfullargspec(self.func)\n",
    "        self.arg_spec = arg_spec\n",
    "        \n",
    "        # gather all the default **keyword** arguments\n",
    "        kwargs_default = dict()\n",
    "        if arg_spec.defaults != None:\n",
    "            kwargs_default.update(dict(zip(arg_spec.args[::-1],arg_spec.defaults[::-1])))\n",
    "        if arg_spec.kwonlydefaults != None:\n",
    "            kwargs_default.update(dict(zip(arg_spec.kwonlyargs[::-1],arg_spec.kwonlydefaults[::-1])))\n",
    "        self.kwargs_default = kwargs_default\n",
    "        \n",
    "        # gather all the arg,kwarg name\n",
    "        self.all_argname = []\n",
    "        if len(arg_spec.args)>0:\n",
    "            self.all_argname+=arg_spec.args\n",
    "        if len(arg_spec.kwonlyargs)>0:\n",
    "            self.all_argname+=arg_spec.kwonlyargs"
   ]
  },
  {
   "cell_type": "code",
   "execution_count": 156,
   "metadata": {},
   "outputs": [],
   "source": [
    "Link.verbose = 2"
   ]
  },
  {
   "cell_type": "code",
   "execution_count": 159,
   "metadata": {},
   "outputs": [],
   "source": [
    "@Link\n",
    "def abc(a = 2,b=3):\n",
    "    return a**2\n",
    "\n",
    "@Link\n",
    "def process_abc(f = abc,d=2): \n",
    "    return f*d\n",
    "\n",
    "@Link\n",
    "def step2(d=5,e = process_abc,):\n",
    "    return {\"power\":e**d,\"mod\":e%d}\n",
    "\n",
    "@Link\n",
    "def step3(mod):\n",
    "    return mod/2\n"
   ]
  },
  {
   "cell_type": "code",
   "execution_count": 160,
   "metadata": {},
   "outputs": [
    {
     "name": "stdout",
     "output_type": "stream",
     "text": [
      "[step3] final args []\n",
      "[step3] final kwargs {}\n"
     ]
    },
    {
     "ename": "TypeError",
     "evalue": "step3() missing 1 required positional argument: 'mod'",
     "output_type": "error",
     "traceback": [
      "\u001b[0;31m---------------------------------------------------------------------------\u001b[0m",
      "\u001b[0;31mTypeError\u001b[0m                                 Traceback (most recent call last)",
      "\u001b[0;32m<ipython-input-160-93e7421bb413>\u001b[0m in \u001b[0;36m<module>\u001b[0;34m\u001b[0m\n\u001b[0;32m----> 1\u001b[0;31m \u001b[0mstep3\u001b[0m\u001b[0;34m(\u001b[0m\u001b[0;34m)\u001b[0m\u001b[0;34m\u001b[0m\u001b[0;34m\u001b[0m\u001b[0m\n\u001b[0m",
      "\u001b[0;32m<ipython-input-155-5099601ed5c0>\u001b[0m in \u001b[0;36m__call__\u001b[0;34m(self, *args, **kwargs)\u001b[0m\n\u001b[1;32m    120\u001b[0m \u001b[0;34m\u001b[0m\u001b[0m\n\u001b[1;32m    121\u001b[0m     \u001b[0;32mdef\u001b[0m \u001b[0m__call__\u001b[0m\u001b[0;34m(\u001b[0m\u001b[0mself\u001b[0m\u001b[0;34m,\u001b[0m\u001b[0;34m*\u001b[0m\u001b[0margs\u001b[0m\u001b[0;34m,\u001b[0m\u001b[0;34m**\u001b[0m\u001b[0mkwargs\u001b[0m\u001b[0;34m,\u001b[0m\u001b[0;34m)\u001b[0m\u001b[0;34m:\u001b[0m\u001b[0;34m\u001b[0m\u001b[0;34m\u001b[0m\u001b[0m\n\u001b[0;32m--> 122\u001b[0;31m         \u001b[0;32mreturn\u001b[0m \u001b[0mself\u001b[0m\u001b[0;34m.\u001b[0m\u001b[0munit_call\u001b[0m\u001b[0;34m(\u001b[0m\u001b[0;34m)\u001b[0m\u001b[0;34m(\u001b[0m\u001b[0;34m*\u001b[0m\u001b[0margs\u001b[0m\u001b[0;34m,\u001b[0m\u001b[0;34m**\u001b[0m\u001b[0mkwargs\u001b[0m\u001b[0;34m)\u001b[0m\u001b[0;34m\u001b[0m\u001b[0;34m\u001b[0m\u001b[0m\n\u001b[0m\u001b[1;32m    123\u001b[0m \u001b[0;34m\u001b[0m\u001b[0m\n\u001b[1;32m    124\u001b[0m     \u001b[0;32mdef\u001b[0m \u001b[0mregister_args\u001b[0m\u001b[0;34m(\u001b[0m\u001b[0mself\u001b[0m\u001b[0;34m)\u001b[0m\u001b[0;34m->\u001b[0m\u001b[0;32mNone\u001b[0m\u001b[0;34m:\u001b[0m\u001b[0;34m\u001b[0m\u001b[0;34m\u001b[0m\u001b[0m\n",
      "\u001b[0;32m<ipython-input-155-5099601ed5c0>\u001b[0m in \u001b[0;36mcalled\u001b[0;34m(*args, **kwargs)\u001b[0m\n\u001b[1;32m    109\u001b[0m                 \u001b[0mprint\u001b[0m\u001b[0;34m(\u001b[0m\u001b[0;34mf\"[{self.func_name}] final args {args0}\"\u001b[0m\u001b[0;34m)\u001b[0m\u001b[0;34m\u001b[0m\u001b[0;34m\u001b[0m\u001b[0m\n\u001b[1;32m    110\u001b[0m                 \u001b[0mprint\u001b[0m\u001b[0;34m(\u001b[0m\u001b[0;34mf\"[{self.func_name}] final kwargs {kwargs0}\"\u001b[0m\u001b[0;34m)\u001b[0m\u001b[0;34m\u001b[0m\u001b[0;34m\u001b[0m\u001b[0m\n\u001b[0;32m--> 111\u001b[0;31m             \u001b[0mrt\u001b[0m \u001b[0;34m=\u001b[0m \u001b[0mself\u001b[0m\u001b[0;34m.\u001b[0m\u001b[0mfunc\u001b[0m\u001b[0;34m(\u001b[0m\u001b[0;34m*\u001b[0m\u001b[0margs0\u001b[0m\u001b[0;34m,\u001b[0m\u001b[0;34m**\u001b[0m\u001b[0mkwargs0\u001b[0m\u001b[0;34m)\u001b[0m\u001b[0;34m\u001b[0m\u001b[0;34m\u001b[0m\u001b[0m\n\u001b[0m\u001b[1;32m    112\u001b[0m \u001b[0;34m\u001b[0m\u001b[0m\n\u001b[1;32m    113\u001b[0m             \u001b[0;31m# save outputs\u001b[0m\u001b[0;34m\u001b[0m\u001b[0;34m\u001b[0m\u001b[0;34m\u001b[0m\u001b[0m\n",
      "\u001b[0;31mTypeError\u001b[0m: step3() missing 1 required positional argument: 'mod'"
     ]
    }
   ],
   "source": [
    "step3()"
   ]
  },
  {
   "cell_type": "code",
   "execution_count": 91,
   "metadata": {},
   "outputs": [
    {
     "data": {
      "text/plain": [
       "25"
      ]
     },
     "execution_count": 91,
     "metadata": {},
     "output_type": "execute_result"
    }
   ],
   "source": [
    "abc(5)"
   ]
  },
  {
   "cell_type": "code",
   "execution_count": 92,
   "metadata": {},
   "outputs": [
    {
     "data": {
      "text/plain": [
       "{'9ddc067c-20ae-4489-88cb-facaf968b2c2': {'abc': {'args': (5,),\n",
       "   'kwargs': {'b': 3, 'a': 2}}}}"
      ]
     },
     "execution_count": 92,
     "metadata": {},
     "output_type": "execute_result"
    }
   ],
   "source": [
    "abc.inputs"
   ]
  },
  {
   "cell_type": "code",
   "execution_count": 93,
   "metadata": {},
   "outputs": [
    {
     "data": {
      "text/plain": [
       "{'9ddc067c-20ae-4489-88cb-facaf968b2c2': {'b': 3, 'a': 2, 'abc': 25}}"
      ]
     },
     "execution_count": 93,
     "metadata": {},
     "output_type": "execute_result"
    }
   ],
   "source": [
    "abc.data"
   ]
  },
  {
   "cell_type": "code",
   "execution_count": 94,
   "metadata": {},
   "outputs": [
    {
     "data": {
      "text/plain": [
       "{'abc': <function __main__.abc(a=2, b=3)>}"
      ]
     },
     "execution_count": 94,
     "metadata": {},
     "output_type": "execute_result"
    }
   ],
   "source": [
    "abc.funcs_"
   ]
  },
  {
   "cell_type": "code",
   "execution_count": 13,
   "metadata": {},
   "outputs": [],
   "source": [
    "from inspect import getargspec,getfullargspec"
   ]
  },
  {
   "cell_type": "code",
   "execution_count": 53,
   "metadata": {},
   "outputs": [],
   "source": [
    "def a():return 123\n",
    "def b(a,b=1):return 123\n",
    "def c(*args,a=1,b=2):return a\n",
    "def d(a=1,b:{\"type\":int}=2,**kwargs, ):return a\n",
    "def e(a=1,**kwargs):return a"
   ]
  },
  {
   "cell_type": "code",
   "execution_count": 54,
   "metadata": {},
   "outputs": [
    {
     "name": "stdout",
     "output_type": "stream",
     "text": [
      "FullArgSpec(args=[], varargs=None, varkw=None, defaults=None, kwonlyargs=[], kwonlydefaults=None, annotations={})\n",
      "FullArgSpec(args=['a', 'b'], varargs=None, varkw=None, defaults=(1,), kwonlyargs=[], kwonlydefaults=None, annotations={})\n",
      "FullArgSpec(args=[], varargs='args', varkw=None, defaults=None, kwonlyargs=['a', 'b'], kwonlydefaults={'a': 1, 'b': 2}, annotations={})\n",
      "FullArgSpec(args=['a', 'b'], varargs=None, varkw='kwargs', defaults=(1, 2), kwonlyargs=[], kwonlydefaults=None, annotations={'b': {'type': <class 'int'>}})\n",
      "FullArgSpec(args=['a'], varargs=None, varkw='kwargs', defaults=(1,), kwonlyargs=[], kwonlydefaults=None, annotations={})\n"
     ]
    }
   ],
   "source": [
    "for f in [a,b,c,d,e]:\n",
    "    print(getfullargspec(f))"
   ]
  },
  {
   "cell_type": "code",
   "execution_count": 56,
   "metadata": {},
   "outputs": [],
   "source": [
    "arg_spec = getfullargspec(b)\n",
    "\n",
    "kwargs_default = dict()\n",
    "if arg_spec.defaults != None:\n",
    "    kwargs_default.update(dict(zip(arg_spec.args[::-1],arg_spec.defaults[::-1])))\n",
    "if arg_spec.kwonlydefaults != None:\n",
    "    kwargs_default.update(dict(zip(arg_spec.kwonlyargs[::-1],arg_spec.kwonlydefaults[::-1])))"
   ]
  },
  {
   "cell_type": "code",
   "execution_count": 76,
   "metadata": {},
   "outputs": [
    {
     "data": {
      "text/plain": [
       "{'b': 1}"
      ]
     },
     "execution_count": 76,
     "metadata": {},
     "output_type": "execute_result"
    }
   ],
   "source": [
    "kwargs_default"
   ]
  },
  {
   "cell_type": "code",
   "execution_count": null,
   "metadata": {},
   "outputs": [],
   "source": []
  }
 ],
 "metadata": {
  "kernelspec": {
   "display_name": "Python 3",
   "language": "python",
   "name": "python3"
  },
  "language_info": {
   "codemirror_mode": {
    "name": "ipython",
    "version": 3
   },
   "file_extension": ".py",
   "mimetype": "text/x-python",
   "name": "python",
   "nbconvert_exporter": "python",
   "pygments_lexer": "ipython3",
   "version": "3.7.4"
  },
  "toc": {
   "base_numbering": 1,
   "nav_menu": {},
   "number_sections": true,
   "sideBar": true,
   "skip_h1_title": false,
   "title_cell": "Table of Contents",
   "title_sidebar": "Contents",
   "toc_cell": false,
   "toc_position": {},
   "toc_section_display": true,
   "toc_window_display": false
  }
 },
 "nbformat": 4,
 "nbformat_minor": 4
}
