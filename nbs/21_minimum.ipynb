{
 "cells": [
  {
   "cell_type": "markdown",
   "metadata": {},
   "source": [
    "# Minimum\n",
    "> Minimal way of managing a **(Directed Acyclic Graph)DAG pipeline**"
   ]
  },
  {
   "cell_type": "code",
   "execution_count": 1,
   "metadata": {},
   "outputs": [],
   "source": [
    "# default_exp minimum"
   ]
  },
  {
   "cell_type": "code",
   "execution_count": 77,
   "metadata": {},
   "outputs": [],
   "source": [
    "# export\n",
    "from forgebox.config import Config\n",
    "from datetime import datetime\n",
    "from uuid import uuid4\n",
    "from inspect import getargspec\n",
    "from copy import deepcopy"
   ]
  },
  {
   "cell_type": "code",
   "execution_count": 43,
   "metadata": {},
   "outputs": [],
   "source": [
    "def now():return datetime.now().timestamp()\n",
    "\n",
    "class Link:\n",
    "    is_link_identifier = True\n",
    "    data = Config()\n",
    "    inputs = Config()\n",
    "    def __init__(self,func):\n",
    "        self.ensure_funcs()\n",
    "        func_name = func.__name__\n",
    "        self.func_name = func_name\n",
    "        self.funcs_[func_name] = func\n",
    "        self.func = self.funcs_[func_name]\n",
    "        self.get_kwargs_default()\n",
    "        \n",
    "    def __repr__(self,):\n",
    "        return f\"[Link Function]:{self.func}\"\n",
    "    \n",
    "    def ensure_funcs(self,):\n",
    "        if hasattr(self,\"funcs_\")==False:\n",
    "            self.__class__.funcs_ = Config()\n",
    "            \n",
    "    def ensure_uuid(self,uuid):\n",
    "        if uuid == False:\n",
    "            uuid = str(uuid4())\n",
    "            self.data[uuid] = Config()\n",
    "            self.inputs[uuid] = Config()\n",
    "            return uuid\n",
    "        else:\n",
    "            return uuid\n",
    "        \n",
    "    def check_callback(self,v,uuid):\n",
    "        if hasattr(v,\"is_link_identifier\"):\n",
    "            return v.unit_call(uuid)\n",
    "        else:\n",
    "            return v\n",
    "        \n",
    "    def unit_call(self,uuid = False):\n",
    "        uuid = self.ensure_uuid(uuid)\n",
    "        def called(*args,**kwargs):\n",
    "            # record inputs\n",
    "            kwargs0 = deepcopy(self.kwargs_default)\n",
    "            kwargs0.update(kwargs)\n",
    "            \n",
    "            self.inputs[uuid].update(Config({self.func_name:Config(args = args,kwargs = kwargs0)}))\n",
    "            \n",
    "            kwargs0 = dict((k,self.check_callback(v,uuid) for k,v in kwargs0.items()))\n",
    "            \n",
    "            # run function\n",
    "            rt = self.func(*args,**kwargs)\n",
    "            \n",
    "            # record outputs\n",
    "            self.data[uuid].update({self.func_name:rt})\n",
    "            return rt\n",
    "        return called\n",
    "        \n",
    "    def __call__(self,*args,**kwargs,):\n",
    "        return self.unit_call()(*args,**kwargs)\n",
    "    \n",
    "    def get_kwargs_default(self):\n",
    "        arg_spec = getfullargspec(self.func)\n",
    "        \n",
    "        kwargs_default = dict()\n",
    "        if arg_spec.defaults != None:\n",
    "            kwargs_default.update(dict(zip(arg_spec.args[::-1],arg_spec.defaults[::-1])))\n",
    "        if arg_spec.kwonlydefaults != None:\n",
    "            kwargs_default.update(dict(zip(arg_spec.kwonlyargs[::-1],arg_spec.kwonlydefaults[::-1])))\n",
    "        self.kwargs_default = kwargs_default"
   ]
  },
  {
   "cell_type": "code",
   "execution_count": 44,
   "metadata": {},
   "outputs": [],
   "source": [
    "@Link\n",
    "def abc(a = 2,b=3):\n",
    "    return a**2"
   ]
  },
  {
   "cell_type": "code",
   "execution_count": 45,
   "metadata": {},
   "outputs": [
    {
     "data": {
      "text/plain": [
       "25"
      ]
     },
     "execution_count": 45,
     "metadata": {},
     "output_type": "execute_result"
    }
   ],
   "source": [
    "abc(5)"
   ]
  },
  {
   "cell_type": "code",
   "execution_count": 46,
   "metadata": {},
   "outputs": [
    {
     "data": {
      "text/plain": [
       "{'e39bc0b1-781c-4e16-9c55-e76b5dc8d15e': {'abc': {'args': (5,), 'kwargs': {}}}}"
      ]
     },
     "execution_count": 46,
     "metadata": {},
     "output_type": "execute_result"
    }
   ],
   "source": [
    "abc.inputs"
   ]
  },
  {
   "cell_type": "code",
   "execution_count": 52,
   "metadata": {},
   "outputs": [
    {
     "data": {
      "text/plain": [
       "{'e39bc0b1-781c-4e16-9c55-e76b5dc8d15e': {'abc': 25}}"
      ]
     },
     "execution_count": 52,
     "metadata": {},
     "output_type": "execute_result"
    }
   ],
   "source": [
    "abc.data"
   ]
  },
  {
   "cell_type": "code",
   "execution_count": 81,
   "metadata": {},
   "outputs": [
    {
     "data": {
      "text/plain": [
       "{'abc': <function __main__.abc(a=2, b=3)>}"
      ]
     },
     "execution_count": 81,
     "metadata": {},
     "output_type": "execute_result"
    }
   ],
   "source": [
    "abc.funcs_"
   ]
  },
  {
   "cell_type": "code",
   "execution_count": 13,
   "metadata": {},
   "outputs": [],
   "source": [
    "from inspect import getargspec,getfullargspec"
   ]
  },
  {
   "cell_type": "code",
   "execution_count": 53,
   "metadata": {},
   "outputs": [],
   "source": [
    "def a():return 123\n",
    "def b(a,b=1):return 123\n",
    "def c(*args,a=1,b=2):return a\n",
    "def d(a=1,b:{\"type\":int}=2,**kwargs, ):return a\n",
    "def e(a=1,**kwargs):return a"
   ]
  },
  {
   "cell_type": "code",
   "execution_count": 54,
   "metadata": {},
   "outputs": [
    {
     "name": "stdout",
     "output_type": "stream",
     "text": [
      "FullArgSpec(args=[], varargs=None, varkw=None, defaults=None, kwonlyargs=[], kwonlydefaults=None, annotations={})\n",
      "FullArgSpec(args=['a', 'b'], varargs=None, varkw=None, defaults=(1,), kwonlyargs=[], kwonlydefaults=None, annotations={})\n",
      "FullArgSpec(args=[], varargs='args', varkw=None, defaults=None, kwonlyargs=['a', 'b'], kwonlydefaults={'a': 1, 'b': 2}, annotations={})\n",
      "FullArgSpec(args=['a', 'b'], varargs=None, varkw='kwargs', defaults=(1, 2), kwonlyargs=[], kwonlydefaults=None, annotations={'b': {'type': <class 'int'>}})\n",
      "FullArgSpec(args=['a'], varargs=None, varkw='kwargs', defaults=(1,), kwonlyargs=[], kwonlydefaults=None, annotations={})\n"
     ]
    }
   ],
   "source": [
    "for f in [a,b,c,d,e]:\n",
    "    print(getfullargspec(f))"
   ]
  },
  {
   "cell_type": "code",
   "execution_count": 56,
   "metadata": {},
   "outputs": [],
   "source": [
    "arg_spec = getfullargspec(b)\n",
    "\n",
    "kwargs_default = dict()\n",
    "if arg_spec.defaults != None:\n",
    "    kwargs_default.update(dict(zip(arg_spec.args[::-1],arg_spec.defaults[::-1])))\n",
    "if arg_spec.kwonlydefaults != None:\n",
    "    kwargs_default.update(dict(zip(arg_spec.kwonlyargs[::-1],arg_spec.kwonlydefaults[::-1])))"
   ]
  },
  {
   "cell_type": "code",
   "execution_count": 76,
   "metadata": {},
   "outputs": [
    {
     "data": {
      "text/plain": [
       "{'b': 1}"
      ]
     },
     "execution_count": 76,
     "metadata": {},
     "output_type": "execute_result"
    }
   ],
   "source": [
    "kwargs_default"
   ]
  },
  {
   "cell_type": "code",
   "execution_count": null,
   "metadata": {},
   "outputs": [],
   "source": []
  }
 ],
 "metadata": {
  "kernelspec": {
   "display_name": "Python 3",
   "language": "python",
   "name": "python3"
  },
  "language_info": {
   "codemirror_mode": {
    "name": "ipython",
    "version": 3
   },
   "file_extension": ".py",
   "mimetype": "text/x-python",
   "name": "python",
   "nbconvert_exporter": "python",
   "pygments_lexer": "ipython3",
   "version": "3.7.4"
  },
  "toc": {
   "base_numbering": 1,
   "nav_menu": {},
   "number_sections": true,
   "sideBar": true,
   "skip_h1_title": false,
   "title_cell": "Table of Contents",
   "title_sidebar": "Contents",
   "toc_cell": false,
   "toc_position": {},
   "toc_section_display": true,
   "toc_window_display": false
  }
 },
 "nbformat": 4,
 "nbformat_minor": 4
}
