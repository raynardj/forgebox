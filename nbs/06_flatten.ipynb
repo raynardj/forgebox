{
 "cells": [
  {
   "cell_type": "markdown",
   "metadata": {},
   "source": [
    "# Flatten"
   ]
  },
  {
   "cell_type": "code",
   "execution_count": 1,
   "metadata": {},
   "outputs": [],
   "source": [
    "# default_exp flatten"
   ]
  },
  {
   "cell_type": "markdown",
   "metadata": {},
   "source": [
    "## Flattening the tree structure"
   ]
  },
  {
   "cell_type": "code",
   "execution_count": 6,
   "metadata": {},
   "outputs": [],
   "source": [
    "# export\n",
    "\n",
    "from typing import List, Callable, Any, Dict\n",
    "class Flatten:\n",
    "    \"\"\"\n",
    "    Flatten a tree structure dictionary\n",
    "    \"\"\"\n",
    "    def __init__(\n",
    "        self, data,\n",
    "        key_callback: Callable = None,\n",
    "        key_connection: str = \"_\",\n",
    "        ):\n",
    "        self.data = data\n",
    "        self.key_callback = key_callback\n",
    "        self.key_connection = key_connection\n",
    "\n",
    "    def flattening(\n",
    "        self, data,\n",
    "        result=None,\n",
    "        upper_key=\"\"\n",
    "        ) -> Dict[str, str]:\n",
    "        \"\"\"\n",
    "        Recursive flatten function\n",
    "        \"\"\"\n",
    "        if result is None:\n",
    "            result = {}\n",
    "        for key, value in data.items():\n",
    "            if self.key_callback is not None:\n",
    "                key = self.key_callback(key)\n",
    "            if isinstance(value, dict):\n",
    "                self.flattening(value, result,\n",
    "                upper_key=f\"{key}{self.key_connection}\")\n",
    "            else:\n",
    "                result[f\"{upper_key}{key}\"] = value\n",
    "        return result\n",
    "\n",
    "    def __call__(self) -> Dict[str, str]:\n",
    "        return self.flattening(self.data)\n",
    "    \n"
   ]
  },
  {
   "cell_type": "markdown",
   "metadata": {},
   "source": [
    "## Testing a tree structure"
   ]
  },
  {
   "cell_type": "code",
   "execution_count": 10,
   "metadata": {},
   "outputs": [
    {
     "data": {
      "text/plain": [
       "{'a': [1, 2, {'c': 'd'}], 'b=>g': 1}"
      ]
     },
     "execution_count": 10,
     "metadata": {},
     "output_type": "execute_result"
    }
   ],
   "source": [
    "Flatten({\"a\":[1,2,{\"c\":\"d\"}],\"b\":{\"g\":1}}, key_connection=\"=>\")()"
   ]
  },
  {
   "cell_type": "code",
   "execution_count": null,
   "metadata": {},
   "outputs": [],
   "source": []
  }
 ],
 "metadata": {
  "kernelspec": {
   "display_name": "Python 3",
   "language": "python",
   "name": "python3"
  },
  "language_info": {
   "codemirror_mode": {
    "name": "ipython",
    "version": 3
   },
   "file_extension": ".py",
   "mimetype": "text/x-python",
   "name": "python",
   "nbconvert_exporter": "python",
   "pygments_lexer": "ipython3",
   "version": "3.7.4"
  },
  "toc": {
   "base_numbering": 1,
   "nav_menu": {},
   "number_sections": true,
   "sideBar": true,
   "skip_h1_title": false,
   "title_cell": "Table of Contents",
   "title_sidebar": "Contents",
   "toc_cell": false,
   "toc_position": {},
   "toc_section_display": true,
   "toc_window_display": false
  }
 },
 "nbformat": 4,
 "nbformat_minor": 4
}
