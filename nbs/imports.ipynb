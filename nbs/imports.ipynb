{
 "cells": [
  {
   "cell_type": "markdown",
   "metadata": {},
   "source": [
    "# 03 Imports\n",
    "> standard imports"
   ]
  },
  {
   "cell_type": "code",
   "execution_count": 1,
   "metadata": {},
   "outputs": [],
   "source": [
    "# default_exp imports"
   ]
  },
  {
   "cell_type": "code",
   "execution_count": 4,
   "metadata": {},
   "outputs": [
    {
     "name": "stdout",
     "output_type": "stream",
     "text": [
      "Torch Vision not loaded\n"
     ]
    }
   ],
   "source": [
    "# export\n",
    "\n",
    "__all__ = [\"pd\",\"np\",\"partial\",\"Path\",\"json\",\"Counter\",\n",
    "           \"plt\",\"os\",\"sys\",\"glob\",\"Image\",]\n",
    "import pandas as pd\n",
    "\n",
    "pd.DataFrame.vc = lambda self,col:pd.DataFrame(self[col].value_counts())\n",
    "\n",
    "import numpy as np\n",
    "from pathlib import Path\n",
    "import json\n",
    "from functools import partial\n",
    "from collections import Counter\n",
    "from matplotlib import pyplot as plt\n",
    "\n",
    "import os\n",
    "import sys\n",
    "\n",
    "try:\n",
    "    import torch\n",
    "    from torch import nn\n",
    "    from torch.utils.data.dataset import Dataset\n",
    "    from torch.utils.data.dataloader import DataLoader\n",
    "    __all__+=[\"nn\",\"torch\",\"Dataset\",\"DataLoader\"]\n",
    "except:\n",
    "    print(\"\"\"Pytorch not loaded\"\"\")\n",
    "\n",
    "try:\n",
    "    from torchvision import transforms as tfm\n",
    "    __all__.append(\"tfm\")\n",
    "except:\n",
    "    print(\"\"\"Torch Vision not loaded\"\"\")\n",
    "\n",
    "try:\n",
    "    from ipywidgets import interact, interact_manual\n",
    "    from IPython.display import HTML\n",
    "    __all__+=[\"interact\",\"interact_manual\",\"HTML\"]\n",
    "except:\n",
    "    print(\"Jupyter notebook libs not loaded\")\n",
    "\n",
    "from glob import glob\n",
    "from PIL import Image\n",
    "\n",
    "Path.ls = lambda x:os.listdir(x)\n",
    "\n",
    "def to_optim(self,optimizer = torch.optim.Adam,**kwargs):\n",
    "    self.optimizer = optimizer(self.parameters(),**kwargs)\n",
    "\n",
    "torch.nn.Module.to_optim=to_optim\n",
    "__all__.append(\"to_optim\")"
   ]
  }
 ],
 "metadata": {
  "kernelspec": {
   "display_name": "Python 3",
   "language": "python",
   "name": "python3"
  },
  "language_info": {
   "codemirror_mode": {
    "name": "ipython",
    "version": 3
   },
   "file_extension": ".py",
   "mimetype": "text/x-python",
   "name": "python",
   "nbconvert_exporter": "python",
   "pygments_lexer": "ipython3",
   "version": "3.7.4"
  }
 },
 "nbformat": 4,
 "nbformat_minor": 2
}
