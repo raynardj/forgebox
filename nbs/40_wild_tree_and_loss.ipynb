{
 "cells": [
  {
   "cell_type": "markdown",
   "metadata": {},
   "source": [
    "# Wild Tree and loss\n",
    "> A tree loss for classifiying categories as a tree structure"
   ]
  },
  {
   "cell_type": "code",
   "execution_count": 2,
   "metadata": {},
   "outputs": [],
   "source": [
    "# default_exp wildtree"
   ]
  },
  {
   "cell_type": "code",
   "execution_count": 3,
   "metadata": {},
   "outputs": [],
   "source": [
    "# export\n",
    "import pandas as pd\n",
    "import numpy as np\n",
    "from pathlib import Path\n",
    "from collections import Counter\n",
    "from typing import Callable, List, Dict"
   ]
  },
  {
   "cell_type": "markdown",
   "metadata": {},
   "source": [
    "## Sample data"
   ]
  },
  {
   "cell_type": "markdown",
   "metadata": {},
   "source": [
    "We down load the data from [oncotree here](http://oncotree.mskcc.org/api/tumorTypes/tree?&version=oncotree_latest_stable), save as json file"
   ]
  },
  {
   "cell_type": "code",
   "execution_count": 4,
   "metadata": {},
   "outputs": [],
   "source": [
    "import os\n",
    "import json"
   ]
  },
  {
   "cell_type": "code",
   "execution_count": 5,
   "metadata": {},
   "outputs": [],
   "source": [
    "with open(Path(os.environ['HOME'])/\"Downloads\"/\"oncotree.json\",\"r\") as f:\n",
    "    oncotree = json.load(f)"
   ]
  },
  {
   "cell_type": "code",
   "execution_count": 60,
   "metadata": {},
   "outputs": [
    {
     "data": {
      "text/plain": [
       "dict_keys(['code', 'color', 'name', 'mainType', 'externalReferences', 'tissue', 'children', 'parent', 'history', 'level', 'revocations', 'precursors'])"
      ]
     },
     "execution_count": 60,
     "metadata": {},
     "output_type": "execute_result"
    }
   ],
   "source": [
    "oncotree['TISSUE'].keys()"
   ]
  },
  {
   "cell_type": "markdown",
   "metadata": {},
   "source": [
    "## Wildtree"
   ]
  },
  {
   "cell_type": "code",
   "execution_count": 7,
   "metadata": {},
   "outputs": [],
   "source": [
    "# export\n",
    "def cache(f: Callable) -> Callable:\n",
    "    \"\"\"\n",
    "    cache for class property, use as decorator\n",
    "    \"\"\"\n",
    "    fname = f.__name__\n",
    "\n",
    "    def wrapper(self):\n",
    "        if fname in self.caches:\n",
    "            return self.caches[fname]\n",
    "        else:\n",
    "            v = f(self)\n",
    "            self.caches[fname] = v\n",
    "            return v\n",
    "    return wrapper\n",
    "        \n",
    "class WildNode:\n",
    "    \"\"\"\n",
    "    A node in graph, with uncertain edge possibilities\n",
    "    \"\"\"\n",
    "    def __init__(self, name):\n",
    "        self.name = name\n",
    "        self.nodes[name] = self\n",
    "        self.as_parent = []\n",
    "        self.as_kid = []\n",
    "        self.all_edges = []\n",
    "        self.caches = dict()\n",
    "\n",
    "    @classmethod\n",
    "    def get(cls, name):\n",
    "        if name in cls.nodes:\n",
    "            return cls.nodes[name]\n",
    "        else:\n",
    "            return cls(name)\n",
    "\n",
    "    def __repr__(self) -> str:\n",
    "        return self.name\n",
    "\n",
    "    @property\n",
    "    @cache\n",
    "    def kids(self):\n",
    "        return list(e.kid for e in self.as_parent)\n",
    "\n",
    "    @property\n",
    "    @cache\n",
    "    def parents(self):\n",
    "        return list(e.parent for e in self.as_kid)\n",
    "\n",
    "    @property\n",
    "    @cache\n",
    "    def kid_summary(self):\n",
    "        return dict(Counter(map(lambda x: x.name, self.kids)))\n",
    "\n",
    "    @property\n",
    "    @cache\n",
    "    def parent_summary(self):\n",
    "        return dict(Counter(map(lambda x: x.name, self.parents)))\n",
    "\n",
    "    @property\n",
    "    @cache\n",
    "    def detail(self) -> str:\n",
    "        return f\"<name:{self.name},level:{self.to_root}>\\n\\tparents:{self.parent_summary}\\n\\tkids:{self.kid_summary}\"\n",
    "    \n",
    "    @classmethod\n",
    "    def calc_to_root(cls, root):\n",
    "        for node in cls.nodes.values():\n",
    "            path = node.search(root)\n",
    "            node.to_root = len(path)-1\n",
    "\n",
    "    def search(self, another: str) -> List[Dict[str, str]]:\n",
    "        \"\"\"\n",
    "        Search a treval parth within a possible tree\n",
    "        - another: str, name\n",
    "        \"\"\"\n",
    "        fresh_step = {\"name\": self.name, \"direction\": \"none\", \"freq\":\"1\"}\n",
    "        searched = dict({self.name: {\"path\": [fresh_step]}})\n",
    "        unsearched = self.nodes.keys()\n",
    "        height = []\n",
    "        latest_depth = [self.name, ]\n",
    "\n",
    "        def conclude(\n",
    "            latest_depth: List[Dict[str, str]],\n",
    "            new_depth: List[Dict[str, str]]\n",
    "        ):\n",
    "            latest_depth.clear()\n",
    "            latest_depth += new_depth\n",
    "\n",
    "        def deeper():\n",
    "            new_depth = []\n",
    "            for name in latest_depth:\n",
    "\n",
    "                obj = self.get(name)\n",
    "                for direction, summary in\\\n",
    "                    zip(\n",
    "                        [\"up\", \"down\"],\n",
    "                        [obj.parent_summary, obj.kid_summary]):\n",
    "                    for n, freq in summary.items():\n",
    "                        if n in searched:\n",
    "                            continue\n",
    "\n",
    "                        new_step = {\"name\": n, \"freq\": freq,\n",
    "                                    \"direction\": direction}\n",
    "                        searched[n] = dict(\n",
    "                            path=searched[name][\"path\"]+[new_step, ])\n",
    "                        new_depth.append(n)\n",
    "                        conclude(latest_depth, new_depth)\n",
    "                        if another == n:\n",
    "                            return\n",
    "            conclude(latest_depth, new_depth)\n",
    "\n",
    "        while True:\n",
    "            if len(latest_depth) == 0:\n",
    "                return []\n",
    "            if another in latest_depth:\n",
    "                return searched[another]['path']\n",
    "\n",
    "            deeper()\n",
    "\n",
    "class WildEdge:\n",
    "    def __init__(\n",
    "        self,\n",
    "        parent: WildNode,\n",
    "        kid: WildNode,\n",
    "    ):\n",
    "        self.parent = parent\n",
    "        self.kid = kid\n",
    "        for node in [parent, kid]:\n",
    "            node.all_edges.append(self)\n",
    "        parent.as_parent.append(self)\n",
    "        kid.as_kid.append(self)\n",
    "        self.edges.append(self)\n",
    "\n",
    "    def __repr__(self):\n",
    "        return f\"[parent:{self.parent}][kid:{self.kid}]\"\n",
    "    \n",
    "class WildTree:\n",
    "    \"\"\"\n",
    "    A tree that will analyze a tree structure\n",
    "        from (parent-kid) pairs data\n",
    "        use tree.create_new_edge('parent','kid') to \n",
    "            add a new edge\n",
    "            \n",
    "    The tree doesn't have to be a very clear structure,\n",
    "        2 nodes can have both parent-kid and siblings relationship\n",
    "        the tree will find the shortest path anyway\n",
    "        \n",
    "    ### **Important**\n",
    "    After added all the edges**, use ```tree.root_map``` for\n",
    "        finding the tree root.\n",
    "    \n",
    "    tree('name1','name2') to get a dataframe on travel path\n",
    "    \"\"\"\n",
    "    def __init__(self):\n",
    "        self.node_class,self.edge_class = self.new_class()\n",
    "        self.create_new_edge=self.edge_class.from_names\n",
    "        self.nodes = self.node_class.nodes\n",
    "        \n",
    "    def find_a_root(self):\n",
    "        for k, node in self.nodes.items():\n",
    "            if len(node.parents)==0 and len(node.kids)!=0:\n",
    "                yield node\n",
    "        \n",
    "    def __repr__(self):\n",
    "        return f\"tree.node_class,tree.create_new_edge('a', 'b')\"\n",
    "    \n",
    "    def __getitem__(self, node_name:str):\n",
    "        return self.nodes[node_name]\n",
    "    \n",
    "    def new_class(self):\n",
    "        class TreeNode(WildNode):\n",
    "            nodes = dict()\n",
    "        class TreeEdge(WildEdge):\n",
    "            nodes = TreeNode.nodes\n",
    "            edges = list()\n",
    "            @classmethod\n",
    "            def from_names(cls, parent: str, kid: str,):\n",
    "                return cls(\n",
    "                    TreeNode.get(parent),\n",
    "                    TreeNode.get(kid))\n",
    "        \n",
    "        TreeEdge.nodes = TreeNode.nodes\n",
    "        return TreeNode,TreeEdge\n",
    "    \n",
    "    def root_map(self):\n",
    "        \"\"\"\n",
    "        Necessary step!\n",
    "        Run this after input all the edges\n",
    "        \"\"\"\n",
    "        self.root = next(self.find_a_root())\n",
    "        self.node_class.calc_to_root(self.root.name)\n",
    "        \n",
    "    def __call__(self, a: str, b: str) -> pd.DataFrame:\n",
    "        \"\"\"\n",
    "        Calculate the travel path between 2 nodes\n",
    "        \"\"\"\n",
    "        df = pd.DataFrame(self[a].search(b))\n",
    "        df['to_root'] = df.name.apply(lambda x:self[x].to_root)\n",
    "        return df"
   ]
  },
  {
   "cell_type": "markdown",
   "metadata": {},
   "source": [
    "## Test wildtree"
   ]
  },
  {
   "cell_type": "code",
   "execution_count": 8,
   "metadata": {},
   "outputs": [],
   "source": [
    "def parse_node(node: WildNode, callback: Callable) -> None:\n",
    "    parent = node['name']\n",
    "    if 'children' in node:\n",
    "        for child_name,child_node in node['children'].items():\n",
    "            # this is the onlything you have to do to fill a \n",
    "            # wild tree data, create new edge for \n",
    "            # every parent/kid string pairs\n",
    "            callback(parent, child_node['name'])\n",
    "            parse_node(child_node, callback=callback)"
   ]
  },
  {
   "cell_type": "code",
   "execution_count": 9,
   "metadata": {},
   "outputs": [],
   "source": [
    "tree = WildTree()"
   ]
  },
  {
   "cell_type": "code",
   "execution_count": 10,
   "metadata": {},
   "outputs": [],
   "source": [
    "parse_node(oncotree['TISSUE'], callback=tree.create_new_edge)"
   ]
  },
  {
   "cell_type": "code",
   "execution_count": 11,
   "metadata": {},
   "outputs": [],
   "source": [
    "tree.root_map()"
   ]
  },
  {
   "cell_type": "markdown",
   "metadata": {},
   "source": [
    "WildTree found the root node automatically"
   ]
  },
  {
   "cell_type": "code",
   "execution_count": 13,
   "metadata": {},
   "outputs": [
    {
     "data": {
      "text/plain": [
       "Tissue"
      ]
     },
     "execution_count": 13,
     "metadata": {},
     "output_type": "execute_result"
    }
   ],
   "source": [
    "tree.root"
   ]
  },
  {
   "cell_type": "code",
   "execution_count": 59,
   "metadata": {},
   "outputs": [
    {
     "name": "stdout",
     "output_type": "stream",
     "text": [
      "Tissue\tOvary/Fallopian Tube\tOvarian Cancer, Other\tOvarian Choriocarcinoma, NOS\tHigh-Grade Neuroendocrine Carcinoma of the Ovary\tHigh-Grade Serous Fallopian Tube Cancer\tOvarian Epithelial Tumor\tEndometrioid Borderlin Ovarian Tumor\tSerous Ovarian Cancer\tHigh-Grade Serous Ovarian Cancer\tLow-Grade Serous Ovarian Cancer\tBrenner Tumor\tBrenner Tumor, Benign\tBrenner Tumor, Borderline\tBrenner Tumor, Malignant\tClear Cell Borderline Ovarian Tumor\tOvarian Seromucinous Carcinoma\tOvarian Seromucinous Adenoma\tEndometrioid Ovarian Cancer\tSerous Borderline Ovarian Tumor\tMucinous Ovarian Cancer\tSerous Borderline Ovarian Tumor, Micropapillary\tMixed Ovarian Carcinoma\tMucinous Borderline Ovarian Tumor\tClear Cell Ovarian Cancer\tSmall Cell Carcinoma of the Ovary\tOvarian Seromucinous Borderline Tumor\tOvarian Carcinosarcoma/Malignant Mixed Mesodermal Tumor\tOvarian Germ Cell Tumor\tImmature Teratoma\tPolyembryoma\tMixed Germ Cell Tumor\tMature Teratoma\tDysgerminoma\tEmbryonal Carcinoma\tYolk Sac Tumor\tSex Cord Stromal Tumor\tSertoli-Leydig Cell Tumor\tSteroid Cell Tumor, NOS\tGranulosa Cell Tumor\tGonadoblastoma\tFibrothecoma\tLymphoid\tLymphoid Neoplasm\tPosttransplant Lymphoproliferative Disorders\tClassical Hodgkin Lymphoma PTLD\tPolymorphic PTLD\tFlorid Follicular Hyperplasia PTLD\tMonomorphic PTLD (B- and T-/NK-cell types)\tPlasmacytic Hyperplasia PTLD\tInfectious Mononucleosis PTLD\tB-Lymphoblastic Leukemia/Lymphoma\tB-Lymphoblastic Leukemia/Lymphoma with Recurrent Genetic Abnormalities\tB-Lymphoblastic Leukemia/Lymphoma, BCR-ABL1 Like\tB-Lymphoblastic Leukemia/Lymphoma with t(v;11q23.3);KMT2A Rearranged\tB-Lymphoblastic Leukemia/Lymphoma with t(1;19)(q23;p13.3);TCF3-PBX1\tB-Lymphoblastic Leukemia/Lymphoma with t(5;14)(q31.1;q32.3) IL3-IGH\tB-Lymphoblastic Leukemia/Lymphoma with iAMP21\tB-Lymphoblastic Leukemia/Lymphoma with Hyperdiploidy\tB-Lymphoblastic Leukemia/Lymphoma with Hypodiploidy\tB-Lymphoblastic Leukemia/Lymphoma with t(9;22)(q34.1;q11.2);BCR-ABL1\tB-Lymphoblastic Leukemia/Lymphoma with t(12;21)(p13.2;q22.1); ETV6-RUNX1\tB-Lymphoblastic Leukemia/Lymphoma, NOS\tNon-Hodgkin Lymphoma\tMature B-Cell Neoplasms\tSolitary Plasmacytoma of Bone\tFollicular Lymphoma\tIn Situ Follicular Neoplasia\tDuodenal-Type Follicular Lymphoma\tMonoclonal B-Cell Lymphocytosis\tLymphoplasmacytic Lymphoma\tWaldenstrom Macroglobulinemia\tBurkitt Lymphoma\tPrimary Cutaneous DLBCL, Leg Type\tEBV Positive Mucocutaneous Ulcer\tDLBCL Associated with Chronic Inflammation\tB-Cell Prolymphocytic Leukemia\tPrimary DLBCL of the central nervous system\tB-Cell Lymphoma, Unclassifiable, with Features Intermediate between DLBCL and Classical Hodgkin lymphoma\tAlpha Heavy-Chain Disease\tChronic Lymphocytic Leukemia/Small Lymphocytic Lymphoma\tMu Heavy-Chain Disease\tPrimary Cutaneous Follicle Center Lymphoma\tLymphomatoid Granulomatosis\tHigh-Grade B-Cell Lymphoma, NOS\tMonoclonal Gammopathy of Undetermined Significance\tIgG\tIgA\tIgM\tBurkitt-Like Lymphoma with 11q Aberration\tHHV8 Positive DLBCL, NOS\tPrimary Mediastinal (Thymic) Large B-Cell Lymphoma\tPlasmablastic Lymphoma\tGamma Heavy-Chain Disease\tEBV Positive DLBCL, NOS\tLarge B-Cell Lymphoma with IRF4 Rearrangement\tExtraosseous Plasmacytoma\tPediatric-Type Follicular Lymphoma\tHairy Cell Leukemia\tHigh-Grade B-Cell Lymphoma, with MYC and BCL2 and/or BCL6 Rearrangements\n"
     ]
    }
   ],
   "source": [
    "print('\\t'.join(list(tree.nodes.keys())[:100]))"
   ]
  },
  {
   "cell_type": "code",
   "execution_count": 15,
   "metadata": {},
   "outputs": [
    {
     "data": {
      "text/html": [
       "<div>\n",
       "<style scoped>\n",
       "    .dataframe tbody tr th:only-of-type {\n",
       "        vertical-align: middle;\n",
       "    }\n",
       "\n",
       "    .dataframe tbody tr th {\n",
       "        vertical-align: top;\n",
       "    }\n",
       "\n",
       "    .dataframe thead th {\n",
       "        text-align: right;\n",
       "    }\n",
       "</style>\n",
       "<table border=\"1\" class=\"dataframe\">\n",
       "  <thead>\n",
       "    <tr style=\"text-align: right;\">\n",
       "      <th></th>\n",
       "      <th>name</th>\n",
       "      <th>direction</th>\n",
       "      <th>freq</th>\n",
       "      <th>to_root</th>\n",
       "    </tr>\n",
       "  </thead>\n",
       "  <tbody>\n",
       "    <tr>\n",
       "      <td>0</td>\n",
       "      <td>Chromophobe Renal Cell Carcinoma</td>\n",
       "      <td>none</td>\n",
       "      <td>1</td>\n",
       "      <td>4</td>\n",
       "    </tr>\n",
       "    <tr>\n",
       "      <td>1</td>\n",
       "      <td>Renal Non-Clear Cell Carcinoma</td>\n",
       "      <td>up</td>\n",
       "      <td>1</td>\n",
       "      <td>3</td>\n",
       "    </tr>\n",
       "    <tr>\n",
       "      <td>2</td>\n",
       "      <td>Renal Cell Carcinoma</td>\n",
       "      <td>up</td>\n",
       "      <td>1</td>\n",
       "      <td>2</td>\n",
       "    </tr>\n",
       "    <tr>\n",
       "      <td>3</td>\n",
       "      <td>Kidney</td>\n",
       "      <td>up</td>\n",
       "      <td>1</td>\n",
       "      <td>1</td>\n",
       "    </tr>\n",
       "    <tr>\n",
       "      <td>4</td>\n",
       "      <td>Tissue</td>\n",
       "      <td>up</td>\n",
       "      <td>1</td>\n",
       "      <td>0</td>\n",
       "    </tr>\n",
       "    <tr>\n",
       "      <td>5</td>\n",
       "      <td>Head and Neck</td>\n",
       "      <td>down</td>\n",
       "      <td>1</td>\n",
       "      <td>1</td>\n",
       "    </tr>\n",
       "    <tr>\n",
       "      <td>6</td>\n",
       "      <td>Salivary Carcinoma</td>\n",
       "      <td>down</td>\n",
       "      <td>1</td>\n",
       "      <td>2</td>\n",
       "    </tr>\n",
       "    <tr>\n",
       "      <td>7</td>\n",
       "      <td>Pleomorphic Adenoma</td>\n",
       "      <td>down</td>\n",
       "      <td>1</td>\n",
       "      <td>3</td>\n",
       "    </tr>\n",
       "  </tbody>\n",
       "</table>\n",
       "</div>"
      ],
      "text/plain": [
       "                               name direction freq  to_root\n",
       "0  Chromophobe Renal Cell Carcinoma      none    1        4\n",
       "1    Renal Non-Clear Cell Carcinoma        up    1        3\n",
       "2              Renal Cell Carcinoma        up    1        2\n",
       "3                            Kidney        up    1        1\n",
       "4                            Tissue        up    1        0\n",
       "5                     Head and Neck      down    1        1\n",
       "6                Salivary Carcinoma      down    1        2\n",
       "7               Pleomorphic Adenoma      down    1        3"
      ]
     },
     "execution_count": 15,
     "metadata": {},
     "output_type": "execute_result"
    }
   ],
   "source": [
    "tree('Chromophobe Renal Cell Carcinoma','Pleomorphic Adenoma')"
   ]
  },
  {
   "cell_type": "code",
   "execution_count": 17,
   "metadata": {},
   "outputs": [
    {
     "name": "stdout",
     "output_type": "stream",
     "text": [
      "<name:Chromophobe Renal Cell Carcinoma,level:4>\n",
      "\tparents:{'Renal Non-Clear Cell Carcinoma': 1}\n",
      "\tkids:{}\n"
     ]
    }
   ],
   "source": [
    "print(tree['Chromophobe Renal Cell Carcinoma'].detail)"
   ]
  },
  {
   "cell_type": "markdown",
   "metadata": {},
   "source": [
    "## Integrate to binary cross entropy\n",
    "This part will create loss function with weights (according to tree), nhot encoder to translate string of a branch"
   ]
  },
  {
   "cell_type": "code",
   "execution_count": 24,
   "metadata": {},
   "outputs": [],
   "source": [
    "# export\n",
    "def calc_weight(x: np.array):\n",
    "    \"\"\"\n",
    "    Calculate the weight for BCELoss,\n",
    "        where the nodes closer to root will cause bigger loss\n",
    "        when it's wronged confidently\n",
    "    \"\"\"\n",
    "    exp = np.exp(-x)\n",
    "    return exp/exp.sum()\n",
    "\n",
    "def loss_package(tree: WildTree) -> dict:\n",
    "    \"\"\"\n",
    "    Create an entire package of things,\n",
    "    Input:\n",
    "    - tree: WildTree\n",
    "    Output:\n",
    "    - dictionary keys:\n",
    "        - weight\n",
    "        - bce_loss: a pytorch nn module\n",
    "        - encoder: Callable, a function translate name to nhot encoding\n",
    "        - name_list: a list of entity names\n",
    "        - to_root_list: an numpy array describe the\n",
    "            travel distance to root\n",
    "    - \n",
    "    \"\"\"\n",
    "    import torch\n",
    "    from torch import nn\n",
    "    to_root_df = pd.DataFrame(\n",
    "        list(dict(name=name, to_root=node.to_root)\n",
    "             for name,node in tree.nodes.items()))\n",
    "    \n",
    "    to_root_df = to_root_df\\\n",
    "        .sort_values(by=\"to_root\",ascending=True,)\\\n",
    "        .reset_index(drop=True)\n",
    "    \n",
    "    name_list = list(to_root_df.name)\n",
    "    n2i = dict((v,k) for k,v in enumerate(name_list))\n",
    "    to_root_list = np.array(list(to_root_df.to_root))\n",
    "    \n",
    "    weight = torch.FloatTensor(calc_weight(to_root_list)*100)\n",
    "    bce_loss = nn.BCELoss(weight=weight)\n",
    "    \n",
    "    eye = np.eye(len(name_list))\n",
    "    \n",
    "    def encoder(\n",
    "        branch: str\n",
    "    ) -> np.array:\n",
    "        \"\"\"\n",
    "        An encoder translate name to nhot encoding\n",
    "            which we can use as Y label\n",
    "        \"\"\"\n",
    "        node = tree[branch]\n",
    "        idx = np.array(\n",
    "            list(map(lambda x: n2i[x['name']],\n",
    "                     node.search(tree.root.name))),dtype=int)\n",
    "        return eye[idx].sum(axis=0)\n",
    "    \n",
    "    return dict(weight=weight,\n",
    "                bce_loss=bce_loss,\n",
    "                name_list=name_list,\n",
    "                encoder=encoder,\n",
    "                to_root_list=to_root_list)"
   ]
  },
  {
   "cell_type": "code",
   "execution_count": 25,
   "metadata": {},
   "outputs": [],
   "source": [
    "package = loss_package(tree)"
   ]
  },
  {
   "cell_type": "markdown",
   "metadata": {},
   "source": [
    "### Encoder function"
   ]
  },
  {
   "cell_type": "code",
   "execution_count": 28,
   "metadata": {},
   "outputs": [],
   "source": [
    "from matplotlib import pyplot as plt"
   ]
  },
  {
   "cell_type": "code",
   "execution_count": 40,
   "metadata": {},
   "outputs": [],
   "source": [
    "encoder = package['encoder']"
   ]
  },
  {
   "cell_type": "code",
   "execution_count": 43,
   "metadata": {},
   "outputs": [
    {
     "data": {
      "text/plain": [
       "array([1., 0., 0., 0., 0., 0., 0., 0., 0., 0., 0., 0., 0., 0., 0., 0., 0.,\n",
       "       0., 0., 0., 0., 0., 0., 0., 0., 0., 0., 0., 1., 0., 0., 0., 0., 0.,\n",
       "       0., 0., 0., 0., 0., 0., 0., 0., 0., 0., 0., 0., 0., 0., 0., 0., 0.,\n",
       "       0., 0., 0., 0., 0., 0., 0., 0., 0., 0., 0., 0., 0., 0., 0., 0., 0.,\n",
       "       0., 0., 0., 0., 0., 0., 0., 0., 0., 0., 0., 0., 0., 0., 0., 0., 0.,\n",
       "       0., 0., 0., 0., 0., 0., 0., 0., 0., 0., 0., 0., 0., 0., 0., 0., 0.,\n",
       "       0., 0., 0., 0., 0., 0., 0., 0., 0., 0., 0., 0., 0., 0., 0., 0., 0.,\n",
       "       0., 0., 0., 0., 0., 0., 0., 0., 0., 0., 0., 0., 0., 0., 0., 0., 0.,\n",
       "       0., 0., 0., 0., 0., 0., 0., 0., 0., 0., 0., 0., 1., 0., 0., 0., 0.,\n",
       "       0., 0., 0., 0., 0., 0., 0., 0., 0., 0., 0., 0., 0., 0., 0., 0., 0.,\n",
       "       0., 0., 0., 0., 0., 0., 0., 0., 0., 0., 0., 0., 0., 0., 0., 0., 0.,\n",
       "       0., 0., 0., 0., 0., 0., 0., 0., 0., 0., 0., 0., 0.])"
      ]
     },
     "execution_count": 43,
     "metadata": {},
     "output_type": "execute_result"
    }
   ],
   "source": [
    "encoder('Renal Non-Clear Cell Carcinoma')[:200]"
   ]
  },
  {
   "cell_type": "markdown",
   "metadata": {},
   "source": [
    "Visualize a port of nhot encoding"
   ]
  },
  {
   "cell_type": "code",
   "execution_count": 46,
   "metadata": {},
   "outputs": [
    {
     "data": {
      "text/plain": [
       "<matplotlib.image.AxesImage at 0x11c4f0710>"
      ]
     },
     "execution_count": 46,
     "metadata": {},
     "output_type": "execute_result"
    },
    {
     "data": {
      "image/png": "[encoded data removed]",
      "text/plain": [
       "<Figure size 432x288 with 1 Axes>"
      ]
     },
     "metadata": {
      "needs_background": "light"
     },
     "output_type": "display_data"
    }
   ],
   "source": [
    "plt.imshow(encoder('Renal Non-Clear Cell Carcinoma')[None,:200].repeat(20,axis=0))"
   ]
  },
  {
   "cell_type": "markdown",
   "metadata": {},
   "source": [
    "### A list of int suggest the travel distance to root of all the categories"
   ]
  },
  {
   "cell_type": "code",
   "execution_count": 55,
   "metadata": {},
   "outputs": [
    {
     "data": {
      "text/plain": [
       "array([0, 1, 1, 1, 1, 1, 1, 1, 1, 1, 1, 1, 1, 1, 1, 1, 1, 1, 1, 1, 1, 1,\n",
       "       1, 1, 1, 1, 1, 1, 1, 1, 1, 1, 1, 2, 2, 2, 2, 2, 2, 2, 2, 2, 2, 2,\n",
       "       2, 2, 2, 2, 2, 2, 2, 2, 2, 2, 2, 2, 2, 2, 2, 2, 2, 2, 2, 2, 2, 2,\n",
       "       2, 2, 2, 2, 2, 2, 2, 2, 2, 2, 2, 2, 2, 2, 2, 2, 2, 2, 2, 2, 2, 2,\n",
       "       2, 2, 2, 2, 2, 2, 2, 2, 2, 2, 2, 2, 2, 2, 2, 2, 2, 2, 2, 2, 2, 2,\n",
       "       2, 2, 2, 2, 2, 2, 2, 2, 2, 2, 2, 2, 2, 2, 2, 2, 2, 2, 2, 2, 2, 2,\n",
       "       2, 2, 2, 2, 2, 2, 2, 2, 2, 2, 2, 2, 2, 2, 2, 2, 2, 2, 2, 2, 2, 2,\n",
       "       2, 2, 2, 2, 2, 2, 2, 2, 2, 2, 2, 2, 2, 2, 2, 2, 2, 2, 2, 2, 2, 2,\n",
       "       2, 2, 2, 2, 2, 2, 2, 2, 2, 2, 2, 2, 2, 2, 2, 2, 2, 2, 2, 2, 2, 2,\n",
       "       2, 2, 2, 2, 2, 2, 2, 2, 2, 2, 2, 2, 2, 2, 2, 2, 2, 2, 2, 2, 2, 2,\n",
       "       2, 2, 2, 2, 2, 2, 2, 2, 2, 2, 2, 2, 2, 2, 2, 2, 2, 2, 2, 2, 2, 2,\n",
       "       2, 2, 2, 2, 2, 2, 2, 2, 2, 2, 2, 2, 2, 2, 2, 2, 2, 2, 3, 3, 3, 3,\n",
       "       3, 3, 3, 3, 3, 3, 3, 3, 3, 3, 3, 3, 3, 3, 3, 3, 3, 3, 3, 3, 3, 3,\n",
       "       3, 3, 3, 3, 3, 3, 3, 3, 3, 3, 3, 3, 3, 3, 3, 3, 3, 3, 3, 3, 3, 3,\n",
       "       3, 3, 3, 3, 3, 3, 3, 3, 3, 3, 3, 3, 3, 3, 3, 3, 3, 3, 3, 3, 3, 3,\n",
       "       3, 3, 3, 3, 3, 3, 3, 3, 3, 3, 3, 3, 3, 3, 3, 3, 3, 3, 3, 3, 3, 3,\n",
       "       3, 3, 3, 3, 3, 3, 3, 3, 3, 3, 3, 3, 3, 3, 3, 3, 3, 3, 3, 3, 3, 3,\n",
       "       3, 3, 3, 3, 3, 3, 3, 3, 3, 3, 3, 3, 3, 3, 3, 3, 3, 3, 3, 3, 3, 3,\n",
       "       3, 3, 3, 3, 3, 3, 3, 3, 3, 3, 3, 3, 3, 3, 3, 3, 3, 3, 3, 3, 3, 3,\n",
       "       3, 3, 3, 3, 3, 3, 3, 3, 3, 3, 3, 3, 3, 3, 3, 3, 3, 3, 3, 3, 3, 3,\n",
       "       3, 3, 3, 3, 3, 3, 3, 3, 3, 3, 3, 3, 3, 3, 3, 3, 3, 3, 3, 3, 3, 3,\n",
       "       3, 3, 3, 3, 3, 3, 3, 3, 3, 3, 3, 3, 3, 3, 3, 3, 3, 3, 3, 3, 3, 3,\n",
       "       3, 3, 3, 3, 3, 3, 3, 3, 3, 3, 3, 3, 3, 3, 3, 3, 3, 3, 3, 3, 3, 3,\n",
       "       3, 3, 3, 3, 3, 3, 3, 3, 3, 3, 3, 3, 3, 3, 3, 3, 3, 3, 3, 3, 3, 3,\n",
       "       3, 3, 3, 3, 3, 3, 3, 3, 3, 3, 3, 3, 3, 3, 3, 3, 3, 3, 3, 3, 3, 3,\n",
       "       3, 3, 3, 3, 3, 3, 3, 3, 3, 3, 3, 3, 3, 3, 3, 3, 3, 3, 3, 3, 3, 3,\n",
       "       3, 3, 3, 3, 3, 4, 4, 4, 4, 4, 4, 4, 4, 4, 4, 4, 4, 4, 4, 4, 4, 4,\n",
       "       4, 4, 4, 4, 4, 4, 4, 4, 4, 4, 4, 4, 4, 4, 4, 4, 4, 4, 4, 4, 4, 4,\n",
       "       4, 4, 4, 4, 4, 4, 4, 4, 4, 4, 4, 4, 4, 4, 4, 4, 4, 4, 4, 4, 4, 4,\n",
       "       4, 4, 4, 4, 4, 4, 4, 4, 4, 4, 4, 4, 4, 4, 4, 4, 4, 4, 4, 4, 4, 4,\n",
       "       4, 4, 4, 4, 4, 4, 4, 4, 4, 4, 4, 4, 4, 4, 4, 4, 4, 4, 4, 4, 4, 4,\n",
       "       4, 4, 4, 4, 4, 4, 4, 4, 4, 4, 4, 4, 4, 4, 4, 4, 4, 4, 4, 5, 5, 5,\n",
       "       5, 5, 5, 5, 5, 5, 5, 5, 5, 5, 5, 5, 5, 5, 5, 5, 5, 5, 5, 5, 5, 5,\n",
       "       5, 5, 5, 5, 5, 5, 5, 5, 5, 5, 5, 5, 5, 5, 5, 5, 5, 5, 5, 5, 5, 5,\n",
       "       5, 5, 5, 5, 5, 5, 5, 5, 5, 5, 5, 5, 5, 5, 5, 5, 5, 5, 5, 5, 5, 5,\n",
       "       5, 5, 5, 5, 5, 5, 5, 5, 5, 5, 5, 5, 5, 5, 5, 5, 5, 5, 5, 5, 5, 5,\n",
       "       5, 5, 5, 5, 5, 5, 5, 5, 5, 5, 5, 5, 5, 5, 5, 5, 5, 5, 5, 5, 5, 5,\n",
       "       5, 5, 5, 5, 5, 5, 5, 5, 5, 5, 5, 5, 5, 6, 6, 6, 6, 6, 6, 6, 6, 6,\n",
       "       6, 6, 6, 6, 6, 6, 6, 6, 6, 6, 6, 6, 6, 6, 6])"
      ]
     },
     "execution_count": 55,
     "metadata": {},
     "output_type": "execute_result"
    }
   ],
   "source": [
    "package['to_root_list']"
   ]
  },
  {
   "cell_type": "markdown",
   "metadata": {},
   "source": [
    "### Loss function"
   ]
  },
  {
   "cell_type": "code",
   "execution_count": 49,
   "metadata": {},
   "outputs": [
    {
     "data": {
      "text/plain": [
       "torch.nn.modules.loss.BCELoss"
      ]
     },
     "execution_count": 49,
     "metadata": {},
     "output_type": "execute_result"
    }
   ],
   "source": [
    "bce_loss = package[\"bce_loss\"]\n",
    "type(bce_loss)"
   ]
  },
  {
   "cell_type": "markdown",
   "metadata": {},
   "source": [
    "The loss function as weights according to the structure"
   ]
  },
  {
   "cell_type": "code",
   "execution_count": 54,
   "metadata": {},
   "outputs": [
    {
     "data": {
      "text/plain": [
       "<matplotlib.image.AxesImage at 0x11d78b0d0>"
      ]
     },
     "execution_count": 54,
     "metadata": {},
     "output_type": "execute_result"
    },
    {
     "data": {
      "image/png": "[encoded data removed]",
      "text/plain": [
       "<Figure size 432x288 with 1 Axes>"
      ]
     },
     "metadata": {
      "needs_background": "light"
     },
     "output_type": "display_data"
    }
   ],
   "source": [
    "plt.imshow(bce_loss.weight.numpy()[None,].repeat(200,axis=0))"
   ]
  },
  {
   "cell_type": "code",
   "execution_count": null,
   "metadata": {},
   "outputs": [],
   "source": []
  }
 ],
 "metadata": {
  "kernelspec": {
   "display_name": "Python 3",
   "language": "python",
   "name": "python3"
  },
  "language_info": {
   "codemirror_mode": {
    "name": "ipython",
    "version": 3
   },
   "file_extension": ".py",
   "mimetype": "text/x-python",
   "name": "python",
   "nbconvert_exporter": "python",
   "pygments_lexer": "ipython3",
   "version": "3.7.4"
  },
  "toc": {
   "base_numbering": 1,
   "nav_menu": {},
   "number_sections": true,
   "sideBar": true,
   "skip_h1_title": false,
   "title_cell": "Table of Contents",
   "title_sidebar": "Contents",
   "toc_cell": false,
   "toc_position": {},
   "toc_section_display": true,
   "toc_window_display": false
  }
 },
 "nbformat": 4,
 "nbformat_minor": 4
}
