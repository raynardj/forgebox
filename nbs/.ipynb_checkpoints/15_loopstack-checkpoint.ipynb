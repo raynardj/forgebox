{
 "cells": [
  {
   "cell_type": "markdown",
   "metadata": {},
   "source": [
    "# 15 LoopStack"
   ]
  },
  {
   "cell_type": "code",
   "execution_count": 1,
   "metadata": {},
   "outputs": [],
   "source": [
    "# default_exp loopstack"
   ]
  },
  {
   "cell_type": "code",
   "execution_count": 2,
   "metadata": {},
   "outputs": [],
   "source": [
    "# export\n",
    "from forgebox.loop import Loop,ProgressBar,Tolerate,Event\n",
    "from types import MethodType"
   ]
  },
  {
   "cell_type": "code",
   "execution_count": 3,
   "metadata": {},
   "outputs": [],
   "source": [
    "# export\n",
    "def create_event(event_name):\n",
    "    class BatchEvent(Event):pass\n",
    "    BatchEvent.__name__ = event_name\n",
    "    return BatchEvent\n",
    "\n",
    "def events(*enames):\n",
    "    return list(map(create_event,enames))"
   ]
  },
  {
   "cell_type": "code",
   "execution_count": 4,
   "metadata": {},
   "outputs": [],
   "source": [
    "# export\n",
    "class LoopStack(Loop):\n",
    "    \"\"\"\n",
    "    A stack of loop\n",
    "    \"\"\"\n",
    "    @classmethod\n",
    "    def from_loops(cls,*loops):\n",
    "        def init(self,iterable=[],name = None):\n",
    "            name = name if name!=None else cls.__name__\n",
    "            \n",
    "            self.loops = dict()\n",
    "            l = Loop(iterable)\n",
    "            for L in loops:\n",
    "                l = L(iterable = l)\n",
    "            super().__init__(iterable = l,\n",
    "                             name = name)\n",
    "            \n",
    "        setattr(cls,\"__init__\",init)\n",
    "        return cls\n",
    "    \n",
    "    def __repr__(self,):\n",
    "        return f\"LoopStack>:{self.name}\\n\\t\"+\\\n",
    "            \"\\n\\t\".join(map(str,self.core.layers[:-1]))"
   ]
  },
  {
   "cell_type": "code",
   "execution_count": 5,
   "metadata": {},
   "outputs": [],
   "source": [
    "TRAIN_EVENTS = [\"DATA_PROCESS\",\"FORWARD\",\"LOSS_CALC\",\n",
    "                \"BACKWARD\",\"OPT_STEP\",\"METRICS\"]\n",
    "EVAL_EVENTS = [\"DATA_PROCESS\",\"EVAL_WRAP\",\"FORWARD\",\"LOSS_CALC\",\"METRICS\"]"
   ]
  },
  {
   "cell_type": "code",
   "execution_count": 13,
   "metadata": {},
   "outputs": [],
   "source": [
    "# export \n",
    "class TrainLoop(LoopStack):\n",
    "    def __init__(self,data_iter):\n",
    "        self.from_loops(ProgressBar,Tolerate,\n",
    "                        *events(*TRAIN_EVENTS))\n",
    "        self.__init__(data_iter,)\n",
    "        \n",
    "        @self.on_DATA_PROCESS\n",
    "        def opt_zero_grad(self):\n",
    "            self.opt.zero_grad()\n",
    "        \n",
    "        @self.before_1st_FORWARD\n",
    "        def switch_model_to_train(self):\n",
    "            self.core.model = self.core.model.train()\n",
    "            \n",
    "class EvalLoop(LoopStack):\n",
    "    def __init__(self,data_iter):\n",
    "        self.from_loops(ProgressBar,Tolerate,\n",
    "                        *events(*EVAL_EVENTS))\n",
    "        self.__init__(data_iter,)\n",
    "        \n",
    "        @self.EVAL_FORWARD.downstream\n",
    "        def torch_eval_wrap(self,func):\n",
    "            with torch.no_grad():\n",
    "                func()"
   ]
  },
  {
   "cell_type": "code",
   "execution_count": 14,
   "metadata": {},
   "outputs": [
    {
     "data": {
      "text/plain": [
       "LoopStack>:TrainLoop\n",
       "\tlayer🍰Loop\n",
       "\tlayer🍰ProgressBar\n",
       "\tlayer🍰Tolerate\n",
       "\tevent🌏DATA_PROCESS\n",
       "\tevent🌏FORWARD\n",
       "\tevent🌏LOSS_CALC\n",
       "\tevent🌏BACKWARD\n",
       "\tevent🌏OPT_STEP\n",
       "\tevent🌏METRICS"
      ]
     },
     "execution_count": 14,
     "metadata": {},
     "output_type": "execute_result"
    }
   ],
   "source": [
    "loop = TrainLoop(range(50))\n",
    "loop"
   ]
  },
  {
   "cell_type": "code",
   "execution_count": 8,
   "metadata": {},
   "outputs": [
    {
     "name": "stdout",
     "output_type": "stream",
     "text": [
      "Loop layer TrainLoop summary:\n",
      "==================================================\n",
      "🍰layer0.0\tlayer🍰Loop\n",
      "--------------------------------------------------\n",
      "🍰layer1.0\tlayer🍰ProgressBar\n",
      "\t[🐍func_name]\tpgbar_data\n",
      "\t[⛰doc]\t\n",
      "        update progress bar with python dictionary\n",
      "        data: python dictionary\n",
      "        \n",
      "\t[😝var]\tself,data\n",
      "\t[😜names]\tt,set_postfix\n",
      "\t...................................\n",
      "\t[🐍func_name]\tpgbar_description\n",
      "\t[⛰doc]\t\n",
      "        update progress bar prefix with text string\n",
      "        \n",
      "\t[😝var]\tself,text\n",
      "\t[😜names]\tt,set_description_str\n",
      "\t...................................\n",
      "--------------------------------------------------\n",
      "🍰layer2.0\tlayer🍰Tolerate\n",
      "\t[🐍func_name]\terror_list\n",
      "\t[⛰doc]\t\n",
      "        A list of errors happend so far\n",
      "        \n",
      "\t[😝var]\tself\n",
      "\t[😜names]\terrors\n",
      "\t...................................\n",
      "--------------------------------------------------\n",
      "🍰layer3.0\tevent🌏DATA_PROCESS\n",
      "\t[🐍func_name]\tafter_last_DATA_PROCESS\n",
      "\t[⛰doc]\t\n",
      "            Append new after_last callback for event:DATA_PROCESS\n",
      "            Use this function as decorator\n",
      "        \n",
      "\t[😝var]\tcls,f\n",
      "\t[😜names]\tgetattr\n",
      "\t...................................\n",
      "\t[🐍func_name]\tbefore_1st_DATA_PROCESS\n",
      "\t[⛰doc]\t\n",
      "            Append new before_1st callback for event:DATA_PROCESS\n",
      "            Use this function as decorator\n",
      "        \n",
      "\t[😝var]\tcls,f\n",
      "\t[😜names]\tgetattr\n",
      "\t...................................\n",
      "\t[🐍func_name]\ton_DATA_PROCESS\n",
      "\t[⛰doc]\t\n",
      "            Append new on callback for event:DATA_PROCESS\n",
      "            Use this function as decorator\n",
      "        \n",
      "\t[😝var]\tcls,f\n",
      "\t[😜names]\tgetattr\n",
      "\t...................................\n",
      "--------------------------------------------------\n",
      "🍰layer4.0\tevent🌏FORWARD\n",
      "\t[🐍func_name]\tafter_last_FORWARD\n",
      "\t[⛰doc]\t\n",
      "            Append new after_last callback for event:FORWARD\n",
      "            Use this function as decorator\n",
      "        \n",
      "\t[😝var]\tcls,f\n",
      "\t[😜names]\tgetattr\n",
      "\t...................................\n",
      "\t[🐍func_name]\tbefore_1st_FORWARD\n",
      "\t[⛰doc]\t\n",
      "            Append new before_1st callback for event:FORWARD\n",
      "            Use this function as decorator\n",
      "        \n",
      "\t[😝var]\tcls,f\n",
      "\t[😜names]\tgetattr\n",
      "\t...................................\n",
      "\t[🐍func_name]\ton_FORWARD\n",
      "\t[⛰doc]\t\n",
      "            Append new on callback for event:FORWARD\n",
      "            Use this function as decorator\n",
      "        \n",
      "\t[😝var]\tcls,f\n",
      "\t[😜names]\tgetattr\n",
      "\t...................................\n",
      "--------------------------------------------------\n",
      "🍰layer5.0\tevent🌏LOSS_CALC\n",
      "\t[🐍func_name]\tafter_last_LOSS_CALC\n",
      "\t[⛰doc]\t\n",
      "            Append new after_last callback for event:LOSS_CALC\n",
      "            Use this function as decorator\n",
      "        \n",
      "\t[😝var]\tcls,f\n",
      "\t[😜names]\tgetattr\n",
      "\t...................................\n",
      "\t[🐍func_name]\tbefore_1st_LOSS_CALC\n",
      "\t[⛰doc]\t\n",
      "            Append new before_1st callback for event:LOSS_CALC\n",
      "            Use this function as decorator\n",
      "        \n",
      "\t[😝var]\tcls,f\n",
      "\t[😜names]\tgetattr\n",
      "\t...................................\n",
      "\t[🐍func_name]\ton_LOSS_CALC\n",
      "\t[⛰doc]\t\n",
      "            Append new on callback for event:LOSS_CALC\n",
      "            Use this function as decorator\n",
      "        \n",
      "\t[😝var]\tcls,f\n",
      "\t[😜names]\tgetattr\n",
      "\t...................................\n",
      "--------------------------------------------------\n",
      "🍰layer6.0\tevent🌏BACKWARD\n",
      "\t[🐍func_name]\tafter_last_BACKWARD\n",
      "\t[⛰doc]\t\n",
      "            Append new after_last callback for event:BACKWARD\n",
      "            Use this function as decorator\n",
      "        \n",
      "\t[😝var]\tcls,f\n",
      "\t[😜names]\tgetattr\n",
      "\t...................................\n",
      "\t[🐍func_name]\tbefore_1st_BACKWARD\n",
      "\t[⛰doc]\t\n",
      "            Append new before_1st callback for event:BACKWARD\n",
      "            Use this function as decorator\n",
      "        \n",
      "\t[😝var]\tcls,f\n",
      "\t[😜names]\tgetattr\n",
      "\t...................................\n",
      "\t[🐍func_name]\ton_BACKWARD\n",
      "\t[⛰doc]\t\n",
      "            Append new on callback for event:BACKWARD\n",
      "            Use this function as decorator\n",
      "        \n",
      "\t[😝var]\tcls,f\n",
      "\t[😜names]\tgetattr\n",
      "\t...................................\n",
      "--------------------------------------------------\n",
      "🍰layer7.0\tevent🌏OPT_STEP\n",
      "\t[🐍func_name]\tafter_last_OPT_STEP\n",
      "\t[⛰doc]\t\n",
      "            Append new after_last callback for event:OPT_STEP\n",
      "            Use this function as decorator\n",
      "        \n",
      "\t[😝var]\tcls,f\n",
      "\t[😜names]\tgetattr\n",
      "\t...................................\n",
      "\t[🐍func_name]\tbefore_1st_OPT_STEP\n",
      "\t[⛰doc]\t\n",
      "            Append new before_1st callback for event:OPT_STEP\n",
      "            Use this function as decorator\n",
      "        \n",
      "\t[😝var]\tcls,f\n",
      "\t[😜names]\tgetattr\n",
      "\t...................................\n",
      "\t[🐍func_name]\ton_OPT_STEP\n",
      "\t[⛰doc]\t\n",
      "            Append new on callback for event:OPT_STEP\n",
      "            Use this function as decorator\n",
      "        \n",
      "\t[😝var]\tcls,f\n",
      "\t[😜names]\tgetattr\n",
      "\t...................................\n",
      "--------------------------------------------------\n",
      "🍰layer8.0\tevent🌏METRICS\n",
      "\t[🐍func_name]\tafter_last_METRICS\n",
      "\t[⛰doc]\t\n",
      "            Append new after_last callback for event:METRICS\n",
      "            Use this function as decorator\n",
      "        \n",
      "\t[😝var]\tcls,f\n",
      "\t[😜names]\tgetattr\n",
      "\t...................................\n",
      "\t[🐍func_name]\tbefore_1st_METRICS\n",
      "\t[⛰doc]\t\n",
      "            Append new before_1st callback for event:METRICS\n",
      "            Use this function as decorator\n",
      "        \n",
      "\t[😝var]\tcls,f\n",
      "\t[😜names]\tgetattr\n",
      "\t...................................\n",
      "\t[🐍func_name]\ton_METRICS\n",
      "\t[⛰doc]\t\n",
      "            Append new on callback for event:METRICS\n",
      "            Use this function as decorator\n",
      "        \n",
      "\t[😝var]\tcls,f\n",
      "\t[😜names]\tgetattr\n",
      "\t...................................\n",
      "--------------------------------------------------\n",
      "🍰layer9.0\tLoopStack>:TrainLoop\n",
      "\tlayer🍰Loop\n",
      "\tlayer🍰ProgressBar\n",
      "\tlayer🍰Tolerate\n",
      "\tevent🌏DATA_PROCESS\n",
      "\tevent🌏FORWARD\n",
      "\tevent🌏LOSS_CALC\n",
      "\tevent🌏BACKWARD\n",
      "\tevent🌏OPT_STEP\n",
      "\tevent🌏METRICS\n",
      "--------------------------------------------------\n",
      "==================================================\n",
      "\n"
     ]
    }
   ],
   "source": [
    "loop.summary()"
   ]
  },
  {
   "cell_type": "code",
   "execution_count": 9,
   "metadata": {},
   "outputs": [],
   "source": [
    "from time import sleep"
   ]
  },
  {
   "cell_type": "code",
   "execution_count": 10,
   "metadata": {},
   "outputs": [],
   "source": [
    "@loop.on_DATA_PROCESS\n",
    "def process_data(loop):\n",
    "    sleep(.1)\n",
    "    loop.core.double = loop.element*2\n",
    "    \n",
    "@loop.on_FORWARD\n",
    "def update_pg(loop):\n",
    "    loop.pgbar_description(f\"double: {loop.double}\")\n",
    "    \n",
    "@loop.on_FORWARD\n",
    "def another_thing_on_forward(loop):\n",
    "    loop.pgbar_data(dict(a=1))"
   ]
  },
  {
   "cell_type": "code",
   "execution_count": 11,
   "metadata": {},
   "outputs": [
    {
     "data": {
      "application/vnd.jupyter.widget-view+json": {
       "model_id": "849fb32754804c4fb9285486123b63ef",
       "version_major": 2,
       "version_minor": 0
      },
      "text/plain": [
       "HBox(children=(IntProgress(value=0, max=50), HTML(value='')))"
      ]
     },
     "metadata": {},
     "output_type": "display_data"
    },
    {
     "name": "stdout",
     "output_type": "stream",
     "text": [
      "\n"
     ]
    }
   ],
   "source": [
    "loop.run()"
   ]
  },
  {
   "cell_type": "code",
   "execution_count": null,
   "metadata": {},
   "outputs": [],
   "source": []
  }
 ],
 "metadata": {
  "kernelspec": {
   "display_name": "Python 3",
   "language": "python",
   "name": "python3"
  },
  "language_info": {
   "codemirror_mode": {
    "name": "ipython",
    "version": 3
   },
   "file_extension": ".py",
   "mimetype": "text/x-python",
   "name": "python",
   "nbconvert_exporter": "python",
   "pygments_lexer": "ipython3",
   "version": "3.7.4"
  }
 },
 "nbformat": 4,
 "nbformat_minor": 4
}
