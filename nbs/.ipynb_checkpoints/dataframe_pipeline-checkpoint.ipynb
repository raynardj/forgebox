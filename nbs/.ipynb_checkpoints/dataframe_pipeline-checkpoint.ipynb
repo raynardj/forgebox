{
 "cells": [
  {
   "cell_type": "markdown",
   "metadata": {},
   "source": [
    "# DataFrame PipeLine\n",
    "> A pandas dataframe pipeline\n",
    "\n",
    "This is a tutorial about tabular data processing pipeline"
   ]
  },
  {
   "cell_type": "code",
   "execution_count": 1,
   "metadata": {},
   "outputs": [],
   "source": [
    "# default_exp pipe"
   ]
  },
  {
   "cell_type": "markdown",
   "metadata": {},
   "source": [
    "## Dependence\n",
    "This tool works on pandas DataFrame"
   ]
  },
  {
   "cell_type": "code",
   "execution_count": 2,
   "metadata": {},
   "outputs": [],
   "source": [
    "# export\n",
    "import numpy as np\n",
    "import pandas as pd\n",
    "from itertools import chain\n",
    "from collections import Counter"
   ]
  },
  {
   "cell_type": "markdown",
   "metadata": {},
   "source": [
    "## Basic Structure"
   ]
  },
  {
   "cell_type": "markdown",
   "metadata": {},
   "source": [
    "* ```Node``` is the basic root structure of pipeline, it's a status of data\n",
    "* ```Edge``` is the **change** between the nodes, usually a function"
   ]
  },
  {
   "cell_type": "markdown",
   "metadata": {},
   "source": [
    "### Node\n",
    "\n",
    "* Node, works on a DataFrame\n",
    "* chunkNode, when the entire DataFrame is intimidating to the memory, a chunkNode works on a generator"
   ]
  },
  {
   "cell_type": "code",
   "execution_count": 9,
   "metadata": {},
   "outputs": [],
   "source": [
    "# export\n",
    "class Node(object):\n",
    "    def __init__(self, df, verbose=1):\n",
    "        super(Node,self).__init__()\n",
    "        self.df = df\n",
    "        self.verbose = verbose\n",
    "        self.pipenames = list()\n",
    "        self.pipe = list()\n",
    "\n",
    "    def __repr__(self):\n",
    "        return \"<forge pipeline node>\\n\\t|\"+\"\\n\\t|\".join(self.pipenames)\n",
    "\n",
    "    def __or__(self, edge):\n",
    "        \"\"\"\n",
    "        use it as:\n",
    "        node|edge|edge\n",
    "        :param process_step:\n",
    "        :return:\n",
    "        \"\"\"\n",
    "        self.pipe.append(edge)\n",
    "        self.pipenames.append(edge.edge_name)\n",
    "        return self\n",
    "\n",
    "    def run(self):\n",
    "        for pro_i in range(len(self.pipe)):\n",
    "            if self.verbose > 0: print(\"[df edge]:%s\" % self.pipenames[pro_i])\n",
    "            pro = self.pipe[pro_i]\n",
    "            self.df = pro.pro(self.df)\n",
    "        return self.df\n",
    "\n",
    "class chunkNode(Node):\n",
    "    def __init__(self, df_chunk, verbose=1):\n",
    "        \"\"\"\n",
    "        Use this class instead of Node class, for huge data sourse like big csv or huge SQL table\n",
    "        chunkNode(pd.read_csv(\"xxx.csv\",chunksize = 1000), verbose =1)\n",
    "        :param df_chunk: pandas dataframe with chunksize parameter\n",
    "        :param verbose:\n",
    "        \"\"\"\n",
    "        super(chunkNode, self).__init__(df = df_chunk, verbose = verbose)\n",
    "        self.df_chunk = self.df\n",
    "\n",
    "    def run(self):\n",
    "        \"\"\"\n",
    "        Running iterations on the entire dataset\n",
    "        :return: None\n",
    "        \"\"\"\n",
    "        for df in self.df:\n",
    "            for pro_i in range(len(self.pipe)):\n",
    "                if self.verbose > 0: print(\"[df edge]:%s\" % self.pipenames[pro_i])\n",
    "                pro = self.pipe[pro_i]\n",
    "                df = pro.pro(df)\n",
    "\n",
    "    def testrun(self):\n",
    "        \"\"\"\n",
    "        testing for 1 iteration\n",
    "        :return: the result dataframe\n",
    "        \"\"\"\n",
    "        testdf = next(self.df)\n",
    "        print(\"Please restart the generator after running test\",flush=True)\n",
    "        for pro_i in range(len(self.pipe)):\n",
    "            if self.verbose > 0: print(\"[df edge]:%s\" % self.pipenames[pro_i])\n",
    "            pro = self.pipe[pro_i]\n",
    "            testdf = pro.pro(testdf)\n",
    "\n",
    "        return testdf"
   ]
  },
  {
   "cell_type": "markdown",
   "metadata": {},
   "source": [
    "### Edges\n",
    "There are 2 types of edges"
   ]
  },
  {
   "cell_type": "code",
   "execution_count": 3,
   "metadata": {},
   "outputs": [],
   "source": [
    "# export\n",
    "class frameEdge(object):\n",
    "    def __init__(self, edge_name=None):\n",
    "        super(frameEdge, self).__init__()\n",
    "        if edge_name == None:\n",
    "            edge_name = \"DataFrame_Processing_Edge\"\n",
    "        self.edge_name = edge_name\n",
    "        self.i = None\n",
    "\n",
    "    def __mul__(self, cols):\n",
    "        assert 0, \"Only colEdge support * columns operation\"\n",
    "\n",
    "    def define(self, f):\n",
    "        def wraper(df):\n",
    "            return f(df)\n",
    "\n",
    "        self.pro = wraper\n",
    "        return wraper\n",
    "\n",
    "\n",
    "class colEdge(object):\n",
    "    def __init__(self, edge_name=None):\n",
    "        super().__init__()\n",
    "        if edge_name == None:\n",
    "            edge_name = \"DataSeries_Processing_Edge\"\n",
    "        self.edge_name = edge_name\n",
    "        self.cols = []\n",
    "\n",
    "    def __mul__(self, cols):\n",
    "        self.cols = cols\n",
    "        return self\n",
    "\n",
    "    def __mod__(self,col):\n",
    "        self.cols = [col]\n",
    "        return self\n",
    "\n",
    "    def define(self, f):\n",
    "        def wraper(col):\n",
    "            col = f(col)\n",
    "            return col\n",
    "\n",
    "        self.colpro = wraper\n",
    "        return wraper\n",
    "\n",
    "    def pro(self, df):\n",
    "        for c in self.cols:\n",
    "            df[c] = self.colpro(df[c])\n",
    "        return df\n",
    "\n",
    "nothing = frameEdge(\"empety_process\")\n",
    "\n",
    "@nothing.define\n",
    "def donothing(df):\n",
    "    return df"
   ]
  },
  {
   "cell_type": "markdown",
   "metadata": {},
   "source": [
    "* A frameEdge defines what happens from a dataframe to dataframe."
   ]
  },
  {
   "cell_type": "code",
   "execution_count": null,
   "metadata": {},
   "outputs": [],
   "source": [
    "grpby = frameEdge(\"groupby\")\n",
    "\n",
    "@grpby.define\n",
    "def grpby_func(df):\n",
    "    return df.groupby(\"item_id\").count()"
   ]
  },
  {
   "cell_type": "markdown",
   "metadata": {},
   "source": [
    "* A colEdge defines what happens from a column (data series) to a edited version of this column"
   ]
  },
  {
   "cell_type": "code",
   "execution_count": null,
   "metadata": {},
   "outputs": [],
   "source": [
    "double_value = colEdge(\"value double\")\n",
    "\n",
    "@double_value.define\n",
    "def double_value_func(col):\n",
    "    return col*2"
   ]
  },
  {
   "cell_type": "markdown",
   "metadata": {},
   "source": [
    "## Some examples  on edge"
   ]
  },
  {
   "cell_type": "code",
   "execution_count": 29,
   "metadata": {},
   "outputs": [],
   "source": [
    "# export\n",
    "class fillNaEdge(colEdge):\n",
    "    def __init__(self, fill=0.):\n",
    "        super().__init__(\"fillna_%s\"%(fill))\n",
    "        self.fill = fill\n",
    "\n",
    "    def colpro(self, col):\n",
    "        return col.fillna(self.fill)\n",
    "\n",
    "\n",
    "class engTokEdge(colEdge):\n",
    "    def __init__(self, tokenizer=None, max_len=None):\n",
    "        \"\"\"\n",
    "        Default using tweet tokenizer\n",
    "        \"\"\"\n",
    "        super().__init__(\"En Tokenization\")\n",
    "        if tokenizer ==None:\n",
    "            from nltk.tokenize import TweetTokenizer\n",
    "            self.tokenizer = TweetTokenizer()\n",
    "        else:\n",
    "            self.tokenizer = tokenizer\n",
    "        self.max_len = max_len\n",
    "\n",
    "    def colpro(self, c):\n",
    "        return c.apply(lambda x: self.tokenizer.tokenize(x)[:self.max_len])\n",
    "\n",
    "eng_twt_tk = engTokEdge()\n",
    "\n",
    "class CNTok(colEdge):\n",
    "    def __init__(self):\n",
    "        \"\"\"\n",
    "        cntok = CNTok()\n",
    "        datanode = start_node|cntok*[\"col1\",\"col2\"]\n",
    "        datanode.run()\n",
    "        \"\"\"\n",
    "        super().__init__(\"chinese_tokenize\")\n",
    "        from jieba import cut\n",
    "        self.cut = cut\n",
    "\n",
    "    def colpro(self, col):\n",
    "        col = col.apply(lambda x:list(self.cut(str(x))))\n",
    "        return col\n",
    "\n",
    "class capMinMaxEdge(colEdge):\n",
    "    def __init__(self, min_ = None, max_ = None):\n",
    "        super().__init__(\"cap min:%s max:%s\"%(min_,max_))\n",
    "        self.min_ = min_\n",
    "        self.max_ = max_\n",
    "\n",
    "    def colpro(self,col):\n",
    "        col = np.clip(col.values,a_min = self.min_, a_max = self.max_)\n",
    "        return col\n",
    "\n",
    "class trackVocabEdge(colEdge):\n",
    "    \"\"\"\n",
    "    a colEdge\n",
    "    input column should contain python list\n",
    "    This edge will keep track a vocabulary pandas DataFrame\n",
    "    tck_vcb = TrackVocab()\n",
    "    tck_vcb.vocab is the accumulated vocabulary\n",
    "    \"\"\"\n",
    "    def __init__(self):\n",
    "        super().__init__(\"track vocab\")\n",
    "        self.vocab = pd.DataFrame({\"token\": [], \"cnt\": []})\n",
    "\n",
    "    def colpro(self, col):\n",
    "        lists = list(col)\n",
    "        biglist = list(chain.from_iterable(lists))\n",
    "        self.vocab = self.combine_vocab(self.build_vocab(biglist))\n",
    "        return col\n",
    "\n",
    "    def get_token_count_dict(self, full_tok):\n",
    "        \"\"\"count the token to a list\"\"\"\n",
    "        return Counter(full_tok)\n",
    "\n",
    "    def build_vocab(self, full_tok):\n",
    "        ct_dict = self.get_token_count_dict(full_tok)\n",
    "        tk, ct = list(ct_dict.keys()), list(ct_dict.values())\n",
    "\n",
    "        return pd.DataFrame({\"token\": tk, \"cnt\": ct})\n",
    "\n",
    "    def combine_vocab(self, new_vocab):\n",
    "        combinedf = pd.concat([self.vocab, new_vocab]).groupby(\"token\").sum().reset_index()\n",
    "        return combinedf.sort_values(by=\"cnt\", ascending=False).reset_index().rename(columns = {\"index\":\"idx\"})\n",
    "\n",
    "    def save_vocab(self, json_url):\n",
    "        self.vocab.to_json(json_url)\n",
    "\n",
    "\n",
    "class saveCSV(frameEdge):\n",
    "    \"\"\"\n",
    "    DataFrame Edge\n",
    "    SaveCsv(\"/path/to/file.csv\")\n",
    "    \"\"\"\n",
    "    def __init__(self, csvpath, tocsv_conf={\"sep\": \"\\t\", \"index\":False}):\n",
    "        super().__init__(\"save to csv\")\n",
    "        self.csvpath = csvpath\n",
    "        self.tocsv_conf = tocsv_conf\n",
    "        self.header = True\n",
    "\n",
    "    def pro(self, df):\n",
    "        df.to_csv(self.csvpath,header=self.header, mode=\"a\", **self.tocsv_conf)\n",
    "        self.header = False\n",
    "        return df\n",
    "\n",
    "class saveSQL(frameEdge):\n",
    "    \"\"\"\n",
    "    DataFrame Edge\n",
    "    SaveSQL(\"table_name\", con)\n",
    "    \"\"\"\n",
    "    def __init__(self, table_name, con, tosql_conf={\"index\": False, \"if_exists\":\"append\"}):\n",
    "        super().__init__(\"save to sql_table\")\n",
    "        self.table_name = table_name\n",
    "        self.con = con\n",
    "        self.tosql_conf = tosql_conf\n",
    "\n",
    "    def pro(self, df):\n",
    "        df.to_sql(self.table_name, con=self.con, **self.tosql_conf)\n",
    "        return df"
   ]
  },
  {
   "cell_type": "markdown",
   "metadata": {},
   "source": [
    "## Pipe in simple look\n",
    "\n",
    "#### Column edges\n",
    "```edge``` defines a method of processing data.\n",
    "* colEdge and its sub-class process column\n",
    "* frameEdge and its cub_class process a dataframe (multiple columns)\n",
    "\n",
    "### Nodes/Edges relationship mapping\n",
    "* node1 ==edge1==> node2 : \n",
    "    * \n",
    "    ```python\n",
    "    node2 = node1 | edge1\n",
    "    ```\n",
    "* node1 ==edge1==>edge2==> node2 : \n",
    "    * \n",
    "    ```python\n",
    "    node2 = node1 | edge1 | edge2\n",
    "    ```\n",
    "    * \n",
    "    ```python\n",
    "    node3 = node2 | edge3\n",
    "    ```\n",
    "    \n",
    "### Relationship mapping with **columns specified**\n",
    "* Specifying 1 column"
   ]
  },
  {
   "cell_type": "code",
   "execution_count": null,
   "metadata": {},
   "outputs": [],
   "source": [
    "node2 = node1 | edge1%\"column_1\""
   ]
  },
  {
   "cell_type": "markdown",
   "metadata": {},
   "source": [
    "* Specifying multiple columns"
   ]
  },
  {
   "cell_type": "code",
   "execution_count": null,
   "metadata": {},
   "outputs": [],
   "source": [
    "node2 = node1 | edge1*[\"column_2\",\"column_3\",\"column_4\"]"
   ]
  },
  {
   "cell_type": "markdown",
   "metadata": {},
   "source": [
    "## Tutorial"
   ]
  },
  {
   "cell_type": "code",
   "execution_count": 5,
   "metadata": {},
   "outputs": [],
   "source": [
    "import pandas as pd\n",
    "import numpy as np\n",
    "from pathlib import Path\n",
    "import os"
   ]
  },
  {
   "cell_type": "markdown",
   "metadata": {},
   "source": [
    "Sample dataset: [New York City Airbnb Open Data](https://www.kaggle.com/dgomonov/new-york-city-airbnb-open-data)"
   ]
  },
  {
   "cell_type": "code",
   "execution_count": 6,
   "metadata": {},
   "outputs": [],
   "source": [
    "HOME = Path(os.environ[\"HOME\"])/\"data\"\n",
    "DATA = HOME/\"AB_NYC_2019.csv\""
   ]
  },
  {
   "cell_type": "markdown",
   "metadata": {},
   "source": [
    "A preview on data set"
   ]
  },
  {
   "cell_type": "code",
   "execution_count": 17,
   "metadata": {},
   "outputs": [
    {
     "data": {
      "text/html": [
       "<div>\n",
       "<style scoped>\n",
       "    .dataframe tbody tr th:only-of-type {\n",
       "        vertical-align: middle;\n",
       "    }\n",
       "\n",
       "    .dataframe tbody tr th {\n",
       "        vertical-align: top;\n",
       "    }\n",
       "\n",
       "    .dataframe thead th {\n",
       "        text-align: right;\n",
       "    }\n",
       "</style>\n",
       "<table border=\"1\" class=\"dataframe\">\n",
       "  <thead>\n",
       "    <tr style=\"text-align: right;\">\n",
       "      <th></th>\n",
       "      <th>id</th>\n",
       "      <th>name</th>\n",
       "      <th>host_id</th>\n",
       "      <th>host_name</th>\n",
       "      <th>neighbourhood_group</th>\n",
       "      <th>neighbourhood</th>\n",
       "      <th>latitude</th>\n",
       "      <th>longitude</th>\n",
       "      <th>room_type</th>\n",
       "      <th>price</th>\n",
       "      <th>minimum_nights</th>\n",
       "      <th>number_of_reviews</th>\n",
       "      <th>last_review</th>\n",
       "      <th>reviews_per_month</th>\n",
       "      <th>calculated_host_listings_count</th>\n",
       "      <th>availability_365</th>\n",
       "    </tr>\n",
       "  </thead>\n",
       "  <tbody>\n",
       "    <tr>\n",
       "      <th>0</th>\n",
       "      <td>2539</td>\n",
       "      <td>Clean &amp; quiet apt home by the park</td>\n",
       "      <td>2787</td>\n",
       "      <td>John</td>\n",
       "      <td>Brooklyn</td>\n",
       "      <td>Kensington</td>\n",
       "      <td>40.64749</td>\n",
       "      <td>-73.97237</td>\n",
       "      <td>Private room</td>\n",
       "      <td>149</td>\n",
       "      <td>1</td>\n",
       "      <td>9</td>\n",
       "      <td>2018-10-19</td>\n",
       "      <td>0.21</td>\n",
       "      <td>6</td>\n",
       "      <td>365</td>\n",
       "    </tr>\n",
       "    <tr>\n",
       "      <th>1</th>\n",
       "      <td>2595</td>\n",
       "      <td>Skylit Midtown Castle</td>\n",
       "      <td>2845</td>\n",
       "      <td>Jennifer</td>\n",
       "      <td>Manhattan</td>\n",
       "      <td>Midtown</td>\n",
       "      <td>40.75362</td>\n",
       "      <td>-73.98377</td>\n",
       "      <td>Entire home/apt</td>\n",
       "      <td>225</td>\n",
       "      <td>1</td>\n",
       "      <td>45</td>\n",
       "      <td>2019-05-21</td>\n",
       "      <td>0.38</td>\n",
       "      <td>2</td>\n",
       "      <td>355</td>\n",
       "    </tr>\n",
       "    <tr>\n",
       "      <th>2</th>\n",
       "      <td>3647</td>\n",
       "      <td>THE VILLAGE OF HARLEM....NEW YORK !</td>\n",
       "      <td>4632</td>\n",
       "      <td>Elisabeth</td>\n",
       "      <td>Manhattan</td>\n",
       "      <td>Harlem</td>\n",
       "      <td>40.80902</td>\n",
       "      <td>-73.94190</td>\n",
       "      <td>Private room</td>\n",
       "      <td>150</td>\n",
       "      <td>3</td>\n",
       "      <td>0</td>\n",
       "      <td>NaN</td>\n",
       "      <td>NaN</td>\n",
       "      <td>1</td>\n",
       "      <td>365</td>\n",
       "    </tr>\n",
       "    <tr>\n",
       "      <th>3</th>\n",
       "      <td>3831</td>\n",
       "      <td>Cozy Entire Floor of Brownstone</td>\n",
       "      <td>4869</td>\n",
       "      <td>LisaRoxanne</td>\n",
       "      <td>Brooklyn</td>\n",
       "      <td>Clinton Hill</td>\n",
       "      <td>40.68514</td>\n",
       "      <td>-73.95976</td>\n",
       "      <td>Entire home/apt</td>\n",
       "      <td>89</td>\n",
       "      <td>1</td>\n",
       "      <td>270</td>\n",
       "      <td>2019-07-05</td>\n",
       "      <td>4.64</td>\n",
       "      <td>1</td>\n",
       "      <td>194</td>\n",
       "    </tr>\n",
       "    <tr>\n",
       "      <th>4</th>\n",
       "      <td>5022</td>\n",
       "      <td>Entire Apt: Spacious Studio/Loft by central park</td>\n",
       "      <td>7192</td>\n",
       "      <td>Laura</td>\n",
       "      <td>Manhattan</td>\n",
       "      <td>East Harlem</td>\n",
       "      <td>40.79851</td>\n",
       "      <td>-73.94399</td>\n",
       "      <td>Entire home/apt</td>\n",
       "      <td>80</td>\n",
       "      <td>10</td>\n",
       "      <td>9</td>\n",
       "      <td>2018-11-19</td>\n",
       "      <td>0.10</td>\n",
       "      <td>1</td>\n",
       "      <td>0</td>\n",
       "    </tr>\n",
       "  </tbody>\n",
       "</table>\n",
       "</div>"
      ],
      "text/plain": [
       "     id                                              name  host_id  \\\n",
       "0  2539                Clean & quiet apt home by the park     2787   \n",
       "1  2595                             Skylit Midtown Castle     2845   \n",
       "2  3647               THE VILLAGE OF HARLEM....NEW YORK !     4632   \n",
       "3  3831                   Cozy Entire Floor of Brownstone     4869   \n",
       "4  5022  Entire Apt: Spacious Studio/Loft by central park     7192   \n",
       "\n",
       "     host_name neighbourhood_group neighbourhood  latitude  longitude  \\\n",
       "0         John            Brooklyn    Kensington  40.64749  -73.97237   \n",
       "1     Jennifer           Manhattan       Midtown  40.75362  -73.98377   \n",
       "2    Elisabeth           Manhattan        Harlem  40.80902  -73.94190   \n",
       "3  LisaRoxanne            Brooklyn  Clinton Hill  40.68514  -73.95976   \n",
       "4        Laura           Manhattan   East Harlem  40.79851  -73.94399   \n",
       "\n",
       "         room_type  price  minimum_nights  number_of_reviews last_review  \\\n",
       "0     Private room    149               1                  9  2018-10-19   \n",
       "1  Entire home/apt    225               1                 45  2019-05-21   \n",
       "2     Private room    150               3                  0         NaN   \n",
       "3  Entire home/apt     89               1                270  2019-07-05   \n",
       "4  Entire home/apt     80              10                  9  2018-11-19   \n",
       "\n",
       "   reviews_per_month  calculated_host_listings_count  availability_365  \n",
       "0               0.21                               6               365  \n",
       "1               0.38                               2               355  \n",
       "2                NaN                               1               365  \n",
       "3               4.64                               1               194  \n",
       "4               0.10                               1                 0  "
      ]
     },
     "execution_count": 17,
     "metadata": {},
     "output_type": "execute_result"
    }
   ],
   "source": [
    "df = pd.read_csv(DATA)\n",
    "\n",
    "df.head()"
   ]
  },
  {
   "cell_type": "markdown",
   "metadata": {},
   "source": [
    "Start node, a pandas dataframe"
   ]
  },
  {
   "cell_type": "markdown",
   "metadata": {},
   "source": [
    "### Real Data Example"
   ]
  },
  {
   "cell_type": "code",
   "execution_count": null,
   "metadata": {},
   "outputs": [],
   "source": [
    "from forgebox.pipe import *"
   ]
  },
  {
   "cell_type": "code",
   "execution_count": 30,
   "metadata": {},
   "outputs": [],
   "source": [
    "start_node = Node(df)"
   ]
  },
  {
   "cell_type": "code",
   "execution_count": 31,
   "metadata": {},
   "outputs": [],
   "source": [
    "cap_minmax_edge = capMinMaxEdge(max_ = 100)\n",
    "fill_na_edge = fillNaEdge(\"\")"
   ]
  },
  {
   "cell_type": "markdown",
   "metadata": {},
   "source": [
    "Setting the node/edge pipeline"
   ]
  },
  {
   "cell_type": "code",
   "execution_count": 32,
   "metadata": {},
   "outputs": [],
   "source": [
    "# clip minmax value on 1 column\n",
    "# fill na to \"\", on 2 columns\n",
    "# tokenize, on 2 columns\n",
    "end_node = start_node|cap_minmax_edge %\"number_of_reviews\"\\\n",
    "                    |fill_na_edge *[\"name\",\"room_type\"]\\\n",
    "                    |eng_twt_tk*[\"name\",\"room_type\"]   "
   ]
  },
  {
   "cell_type": "markdown",
   "metadata": {},
   "source": [
    "Print out the pipeline layout"
   ]
  },
  {
   "cell_type": "code",
   "execution_count": 33,
   "metadata": {},
   "outputs": [
    {
     "data": {
      "text/plain": [
       "<forge pipeline node>\n",
       "\t|cap min:None max:100\n",
       "\t|fillna_\n",
       "\t|En Tokenization"
      ]
     },
     "execution_count": 33,
     "metadata": {},
     "output_type": "execute_result"
    }
   ],
   "source": [
    "end_node"
   ]
  },
  {
   "cell_type": "markdown",
   "metadata": {},
   "source": [
    "Excute the processing"
   ]
  },
  {
   "cell_type": "code",
   "execution_count": 34,
   "metadata": {},
   "outputs": [
    {
     "name": "stdout",
     "output_type": "stream",
     "text": [
      "[df edge]:cap min:None max:100\n",
      "[df edge]:fillna_\n",
      "[df edge]:En Tokenization\n"
     ]
    }
   ],
   "source": [
    "end_df = end_node.run()"
   ]
  },
  {
   "cell_type": "markdown",
   "metadata": {},
   "source": [
    "Checking the processed data"
   ]
  },
  {
   "cell_type": "code",
   "execution_count": 35,
   "metadata": {},
   "outputs": [
    {
     "data": {
      "text/html": [
       "<div>\n",
       "<style scoped>\n",
       "    .dataframe tbody tr th:only-of-type {\n",
       "        vertical-align: middle;\n",
       "    }\n",
       "\n",
       "    .dataframe tbody tr th {\n",
       "        vertical-align: top;\n",
       "    }\n",
       "\n",
       "    .dataframe thead th {\n",
       "        text-align: right;\n",
       "    }\n",
       "</style>\n",
       "<table border=\"1\" class=\"dataframe\">\n",
       "  <thead>\n",
       "    <tr style=\"text-align: right;\">\n",
       "      <th></th>\n",
       "      <th>id</th>\n",
       "      <th>name</th>\n",
       "      <th>host_id</th>\n",
       "      <th>host_name</th>\n",
       "      <th>neighbourhood_group</th>\n",
       "      <th>neighbourhood</th>\n",
       "      <th>latitude</th>\n",
       "      <th>longitude</th>\n",
       "      <th>room_type</th>\n",
       "      <th>price</th>\n",
       "      <th>minimum_nights</th>\n",
       "      <th>number_of_reviews</th>\n",
       "      <th>last_review</th>\n",
       "      <th>reviews_per_month</th>\n",
       "      <th>calculated_host_listings_count</th>\n",
       "      <th>availability_365</th>\n",
       "    </tr>\n",
       "  </thead>\n",
       "  <tbody>\n",
       "    <tr>\n",
       "      <th>0</th>\n",
       "      <td>2539</td>\n",
       "      <td>[Clean, &amp;, quiet, apt, home, by, the, park]</td>\n",
       "      <td>2787</td>\n",
       "      <td>John</td>\n",
       "      <td>Brooklyn</td>\n",
       "      <td>Kensington</td>\n",
       "      <td>40.64749</td>\n",
       "      <td>-73.97237</td>\n",
       "      <td>[Private, room]</td>\n",
       "      <td>149</td>\n",
       "      <td>1</td>\n",
       "      <td>9</td>\n",
       "      <td>2018-10-19</td>\n",
       "      <td>0.21</td>\n",
       "      <td>6</td>\n",
       "      <td>365</td>\n",
       "    </tr>\n",
       "    <tr>\n",
       "      <th>1</th>\n",
       "      <td>2595</td>\n",
       "      <td>[Skylit, Midtown, Castle]</td>\n",
       "      <td>2845</td>\n",
       "      <td>Jennifer</td>\n",
       "      <td>Manhattan</td>\n",
       "      <td>Midtown</td>\n",
       "      <td>40.75362</td>\n",
       "      <td>-73.98377</td>\n",
       "      <td>[Entire, home, /, apt]</td>\n",
       "      <td>225</td>\n",
       "      <td>1</td>\n",
       "      <td>45</td>\n",
       "      <td>2019-05-21</td>\n",
       "      <td>0.38</td>\n",
       "      <td>2</td>\n",
       "      <td>355</td>\n",
       "    </tr>\n",
       "    <tr>\n",
       "      <th>2</th>\n",
       "      <td>3647</td>\n",
       "      <td>[THE, VILLAGE, OF, HARLEM, ..., NEW, YORK, !]</td>\n",
       "      <td>4632</td>\n",
       "      <td>Elisabeth</td>\n",
       "      <td>Manhattan</td>\n",
       "      <td>Harlem</td>\n",
       "      <td>40.80902</td>\n",
       "      <td>-73.94190</td>\n",
       "      <td>[Private, room]</td>\n",
       "      <td>150</td>\n",
       "      <td>3</td>\n",
       "      <td>0</td>\n",
       "      <td>NaN</td>\n",
       "      <td>NaN</td>\n",
       "      <td>1</td>\n",
       "      <td>365</td>\n",
       "    </tr>\n",
       "    <tr>\n",
       "      <th>3</th>\n",
       "      <td>3831</td>\n",
       "      <td>[Cozy, Entire, Floor, of, Brownstone]</td>\n",
       "      <td>4869</td>\n",
       "      <td>LisaRoxanne</td>\n",
       "      <td>Brooklyn</td>\n",
       "      <td>Clinton Hill</td>\n",
       "      <td>40.68514</td>\n",
       "      <td>-73.95976</td>\n",
       "      <td>[Entire, home, /, apt]</td>\n",
       "      <td>89</td>\n",
       "      <td>1</td>\n",
       "      <td>100</td>\n",
       "      <td>2019-07-05</td>\n",
       "      <td>4.64</td>\n",
       "      <td>1</td>\n",
       "      <td>194</td>\n",
       "    </tr>\n",
       "    <tr>\n",
       "      <th>4</th>\n",
       "      <td>5022</td>\n",
       "      <td>[Entire, Apt, :, Spacious, Studio, /, Loft, by...</td>\n",
       "      <td>7192</td>\n",
       "      <td>Laura</td>\n",
       "      <td>Manhattan</td>\n",
       "      <td>East Harlem</td>\n",
       "      <td>40.79851</td>\n",
       "      <td>-73.94399</td>\n",
       "      <td>[Entire, home, /, apt]</td>\n",
       "      <td>80</td>\n",
       "      <td>10</td>\n",
       "      <td>9</td>\n",
       "      <td>2018-11-19</td>\n",
       "      <td>0.10</td>\n",
       "      <td>1</td>\n",
       "      <td>0</td>\n",
       "    </tr>\n",
       "  </tbody>\n",
       "</table>\n",
       "</div>"
      ],
      "text/plain": [
       "     id                                               name  host_id  \\\n",
       "0  2539        [Clean, &, quiet, apt, home, by, the, park]     2787   \n",
       "1  2595                          [Skylit, Midtown, Castle]     2845   \n",
       "2  3647      [THE, VILLAGE, OF, HARLEM, ..., NEW, YORK, !]     4632   \n",
       "3  3831              [Cozy, Entire, Floor, of, Brownstone]     4869   \n",
       "4  5022  [Entire, Apt, :, Spacious, Studio, /, Loft, by...     7192   \n",
       "\n",
       "     host_name neighbourhood_group neighbourhood  latitude  longitude  \\\n",
       "0         John            Brooklyn    Kensington  40.64749  -73.97237   \n",
       "1     Jennifer           Manhattan       Midtown  40.75362  -73.98377   \n",
       "2    Elisabeth           Manhattan        Harlem  40.80902  -73.94190   \n",
       "3  LisaRoxanne            Brooklyn  Clinton Hill  40.68514  -73.95976   \n",
       "4        Laura           Manhattan   East Harlem  40.79851  -73.94399   \n",
       "\n",
       "                room_type  price  minimum_nights  number_of_reviews  \\\n",
       "0         [Private, room]    149               1                  9   \n",
       "1  [Entire, home, /, apt]    225               1                 45   \n",
       "2         [Private, room]    150               3                  0   \n",
       "3  [Entire, home, /, apt]     89               1                100   \n",
       "4  [Entire, home, /, apt]     80              10                  9   \n",
       "\n",
       "  last_review  reviews_per_month  calculated_host_listings_count  \\\n",
       "0  2018-10-19               0.21                               6   \n",
       "1  2019-05-21               0.38                               2   \n",
       "2         NaN                NaN                               1   \n",
       "3  2019-07-05               4.64                               1   \n",
       "4  2018-11-19               0.10                               1   \n",
       "\n",
       "   availability_365  \n",
       "0               365  \n",
       "1               355  \n",
       "2               365  \n",
       "3               194  \n",
       "4                 0  "
      ]
     },
     "execution_count": 35,
     "metadata": {},
     "output_type": "execute_result"
    }
   ],
   "source": [
    "end_df.head()"
   ]
  },
  {
   "cell_type": "markdown",
   "metadata": {},
   "source": [
    "### Working with bigger data\n",
    "There is often the cases when we have to deal with csv > 500m in size or a huge sql table.\n",
    "\n",
    "In some cases we want to work/ save the data batch by batch\n",
    "\n",
    "Gladely, pandas offer a chunksize solution, so we can process huge structured data in batch(defined by the chunk size)"
   ]
  },
  {
   "cell_type": "code",
   "execution_count": 36,
   "metadata": {},
   "outputs": [],
   "source": [
    "from forgebox.pipe import chunkNode,saveCSV, saveSQL"
   ]
  },
  {
   "cell_type": "markdown",
   "metadata": {},
   "source": [
    "```saveCSV``` : saving file could be a part of the pipeline, we can follow that edge by ```saveSQL``` if we like"
   ]
  },
  {
   "cell_type": "code",
   "execution_count": 37,
   "metadata": {},
   "outputs": [],
   "source": [
    "start_node = chunkNode(pd.read_csv(DATA, chunksize=5000), verbose = 1)\n",
    "\n",
    "end_node = start_node|cap_minmax_edge %\"number_of_reviews\"\\\n",
    "                    |fill_na_edge *[\"name\",\"room_type\"]\\\n",
    "                    |eng_twt_tk*[\"name\",\"room_type\"]\\\n",
    "                    |saveCSV(HOME/\"nyc_processed.csv\")"
   ]
  },
  {
   "cell_type": "markdown",
   "metadata": {},
   "source": [
    "Pipeline layout summary"
   ]
  },
  {
   "cell_type": "code",
   "execution_count": 38,
   "metadata": {},
   "outputs": [
    {
     "data": {
      "text/plain": [
       "<forge pipeline node>\n",
       "\t|cap min:None max:100\n",
       "\t|fillna_\n",
       "\t|En Tokenization\n",
       "\t|save to csv"
      ]
     },
     "execution_count": 38,
     "metadata": {},
     "output_type": "execute_result"
    }
   ],
   "source": [
    "end_node"
   ]
  },
  {
   "cell_type": "markdown",
   "metadata": {},
   "source": [
    "**Notice**\n",
    "* ```run``` function that \n",
    "    * start with a chunkNode has **no return**, \n",
    "    * start with a Node will ruturn the **result dataframe**. \n",
    "* This feature is purposefully designed, assuming the result data could also be huge and not suitable to remain its entirety in RAM."
   ]
  },
  {
   "cell_type": "markdown",
   "metadata": {},
   "source": [
    "Excute the processing， if you are annoyed by the verbosity, set ```verbose=0```"
   ]
  },
  {
   "cell_type": "code",
   "execution_count": 39,
   "metadata": {},
   "outputs": [
    {
     "name": "stdout",
     "output_type": "stream",
     "text": [
      "[df edge]:cap min:None max:100\n",
      "[df edge]:fillna_\n",
      "[df edge]:En Tokenization\n",
      "[df edge]:save to csv\n",
      "[df edge]:cap min:None max:100\n",
      "[df edge]:fillna_\n",
      "[df edge]:En Tokenization\n",
      "[df edge]:save to csv\n",
      "[df edge]:cap min:None max:100\n",
      "[df edge]:fillna_\n",
      "[df edge]:En Tokenization\n",
      "[df edge]:save to csv\n",
      "[df edge]:cap min:None max:100\n",
      "[df edge]:fillna_\n",
      "[df edge]:En Tokenization\n",
      "[df edge]:save to csv\n",
      "[df edge]:cap min:None max:100\n",
      "[df edge]:fillna_\n",
      "[df edge]:En Tokenization\n",
      "[df edge]:save to csv\n",
      "[df edge]:cap min:None max:100\n",
      "[df edge]:fillna_\n",
      "[df edge]:En Tokenization\n",
      "[df edge]:save to csv\n",
      "[df edge]:cap min:None max:100\n",
      "[df edge]:fillna_\n",
      "[df edge]:En Tokenization\n",
      "[df edge]:save to csv\n",
      "[df edge]:cap min:None max:100\n",
      "[df edge]:fillna_\n",
      "[df edge]:En Tokenization\n",
      "[df edge]:save to csv\n",
      "[df edge]:cap min:None max:100\n",
      "[df edge]:fillna_\n",
      "[df edge]:En Tokenization\n",
      "[df edge]:save to csv\n",
      "[df edge]:cap min:None max:100\n",
      "[df edge]:fillna_\n",
      "[df edge]:En Tokenization\n",
      "[df edge]:save to csv\n"
     ]
    }
   ],
   "source": [
    "end_node.run()"
   ]
  },
  {
   "cell_type": "code",
   "execution_count": 40,
   "metadata": {},
   "outputs": [
    {
     "name": "stdout",
     "output_type": "stream",
     "text": [
      "0\t2539\t['Clean', '&', 'quiet', 'apt', 'home', 'by', 'the', 'park']\t2787\tJohn\tBrooklyn\tKensington\t40.647490000000005\t-73.97237\t['Private', 'room']\t149\t1\t9\t2018-10-19\t0.21\t6\t365\r\n",
      "1\t2595\t['Skylit', 'Midtown', 'Castle']\t2845\tJennifer\tManhattan\tMidtown\t40.75362\t-73.98376999999999\t['Entire', 'home', '/', 'apt']\t225\t1\t45\t2019-05-21\t0.38\t2\t355\r\n",
      "2\t3647\t['THE', 'VILLAGE', 'OF', 'HARLEM', '...', 'NEW', 'YORK', '!']\t4632\tElisabeth\tManhattan\tHarlem\t40.809020000000004\t-73.9419\t['Private', 'room']\t150\t3\t0\t\t\t1\t365\r\n"
     ]
    }
   ],
   "source": [
    "!head -n3 {HOME/\"nyc_processed.csv\"}"
   ]
  },
  {
   "cell_type": "markdown",
   "metadata": {},
   "source": [
    "### Define a new edge\n",
    "Create a new edge\n",
    "\n",
    "Define the processing function with the ```define``` decorator.\n",
    "\n",
    "* col is a pandas data series, the concept of ```column``` in pandas\n",
    "* In this case we use the ```apply``` function of data series, any decorated function would work as long as it return another data series"
   ]
  },
  {
   "cell_type": "code",
   "execution_count": 16,
   "metadata": {},
   "outputs": [],
   "source": [
    "lower_case = colEdge(\"lower case\")\n",
    "\n",
    "\n",
    "def lowerList(x):\n",
    "    return list(str(i).lower() for i in x)\n",
    "\n",
    "@lower_case.define\n",
    "def lower(col):\n",
    "    return col.apply(lowerList)"
   ]
  },
  {
   "cell_type": "code",
   "execution_count": 17,
   "metadata": {},
   "outputs": [],
   "source": [
    "# The DIYed edge will work on columns \"name\" and \"room_type\" after tokenization\n",
    "df = pd.read_csv(DATA)\n",
    "start_node = Node(df)\n",
    "end_node = start_node|cap_minmax_edge %\"number_of_reviews\"\\\n",
    "                    |fill_na_edge *[\"name\",\"room_type\"]\\\n",
    "                    |eng_twt_tk*[\"name\",\"room_type\"]\\\n",
    "                    |lower_case*[\"name\",\"room_type\"]"
   ]
  },
  {
   "cell_type": "code",
   "execution_count": 18,
   "metadata": {},
   "outputs": [
    {
     "data": {
      "text/plain": [
       "<forge pipeline node>\n",
       "\t|cap min:None max:100\n",
       "\t|fillna_\n",
       "\t|En Tokenization\n",
       "\t|lower case"
      ]
     },
     "execution_count": 18,
     "metadata": {},
     "output_type": "execute_result"
    }
   ],
   "source": [
    "end_node"
   ]
  },
  {
   "cell_type": "code",
   "execution_count": 19,
   "metadata": {},
   "outputs": [
    {
     "name": "stdout",
     "output_type": "stream",
     "text": [
      "[df edge]:cap min:None max:100\n",
      "[df edge]:fillna_\n",
      "[df edge]:En Tokenization\n",
      "[df edge]:lower case\n"
     ]
    },
    {
     "data": {
      "text/html": [
       "<div>\n",
       "<style scoped>\n",
       "    .dataframe tbody tr th:only-of-type {\n",
       "        vertical-align: middle;\n",
       "    }\n",
       "\n",
       "    .dataframe tbody tr th {\n",
       "        vertical-align: top;\n",
       "    }\n",
       "\n",
       "    .dataframe thead th {\n",
       "        text-align: right;\n",
       "    }\n",
       "</style>\n",
       "<table border=\"1\" class=\"dataframe\">\n",
       "  <thead>\n",
       "    <tr style=\"text-align: right;\">\n",
       "      <th></th>\n",
       "      <th>id</th>\n",
       "      <th>name</th>\n",
       "      <th>host_id</th>\n",
       "      <th>host_name</th>\n",
       "      <th>neighbourhood_group</th>\n",
       "      <th>neighbourhood</th>\n",
       "      <th>latitude</th>\n",
       "      <th>longitude</th>\n",
       "      <th>room_type</th>\n",
       "      <th>price</th>\n",
       "      <th>minimum_nights</th>\n",
       "      <th>number_of_reviews</th>\n",
       "      <th>last_review</th>\n",
       "      <th>reviews_per_month</th>\n",
       "      <th>calculated_host_listings_count</th>\n",
       "      <th>availability_365</th>\n",
       "    </tr>\n",
       "  </thead>\n",
       "  <tbody>\n",
       "    <tr>\n",
       "      <th>0</th>\n",
       "      <td>2539</td>\n",
       "      <td>[clean, &amp;, quiet, apt, home, by, the, park]</td>\n",
       "      <td>2787</td>\n",
       "      <td>John</td>\n",
       "      <td>Brooklyn</td>\n",
       "      <td>Kensington</td>\n",
       "      <td>40.64749</td>\n",
       "      <td>-73.97237</td>\n",
       "      <td>[private, room]</td>\n",
       "      <td>149</td>\n",
       "      <td>1</td>\n",
       "      <td>9</td>\n",
       "      <td>2018-10-19</td>\n",
       "      <td>0.21</td>\n",
       "      <td>6</td>\n",
       "      <td>365</td>\n",
       "    </tr>\n",
       "    <tr>\n",
       "      <th>1</th>\n",
       "      <td>2595</td>\n",
       "      <td>[skylit, midtown, castle]</td>\n",
       "      <td>2845</td>\n",
       "      <td>Jennifer</td>\n",
       "      <td>Manhattan</td>\n",
       "      <td>Midtown</td>\n",
       "      <td>40.75362</td>\n",
       "      <td>-73.98377</td>\n",
       "      <td>[entire, home, /, apt]</td>\n",
       "      <td>225</td>\n",
       "      <td>1</td>\n",
       "      <td>45</td>\n",
       "      <td>2019-05-21</td>\n",
       "      <td>0.38</td>\n",
       "      <td>2</td>\n",
       "      <td>355</td>\n",
       "    </tr>\n",
       "    <tr>\n",
       "      <th>2</th>\n",
       "      <td>3647</td>\n",
       "      <td>[the, village, of, harlem, ..., new, york, !]</td>\n",
       "      <td>4632</td>\n",
       "      <td>Elisabeth</td>\n",
       "      <td>Manhattan</td>\n",
       "      <td>Harlem</td>\n",
       "      <td>40.80902</td>\n",
       "      <td>-73.94190</td>\n",
       "      <td>[private, room]</td>\n",
       "      <td>150</td>\n",
       "      <td>3</td>\n",
       "      <td>0</td>\n",
       "      <td>NaN</td>\n",
       "      <td>NaN</td>\n",
       "      <td>1</td>\n",
       "      <td>365</td>\n",
       "    </tr>\n",
       "    <tr>\n",
       "      <th>3</th>\n",
       "      <td>3831</td>\n",
       "      <td>[cozy, entire, floor, of, brownstone]</td>\n",
       "      <td>4869</td>\n",
       "      <td>LisaRoxanne</td>\n",
       "      <td>Brooklyn</td>\n",
       "      <td>Clinton Hill</td>\n",
       "      <td>40.68514</td>\n",
       "      <td>-73.95976</td>\n",
       "      <td>[entire, home, /, apt]</td>\n",
       "      <td>89</td>\n",
       "      <td>1</td>\n",
       "      <td>100</td>\n",
       "      <td>2019-07-05</td>\n",
       "      <td>4.64</td>\n",
       "      <td>1</td>\n",
       "      <td>194</td>\n",
       "    </tr>\n",
       "    <tr>\n",
       "      <th>4</th>\n",
       "      <td>5022</td>\n",
       "      <td>[entire, apt, :, spacious, studio, /, loft, by...</td>\n",
       "      <td>7192</td>\n",
       "      <td>Laura</td>\n",
       "      <td>Manhattan</td>\n",
       "      <td>East Harlem</td>\n",
       "      <td>40.79851</td>\n",
       "      <td>-73.94399</td>\n",
       "      <td>[entire, home, /, apt]</td>\n",
       "      <td>80</td>\n",
       "      <td>10</td>\n",
       "      <td>9</td>\n",
       "      <td>2018-11-19</td>\n",
       "      <td>0.10</td>\n",
       "      <td>1</td>\n",
       "      <td>0</td>\n",
       "    </tr>\n",
       "  </tbody>\n",
       "</table>\n",
       "</div>"
      ],
      "text/plain": [
       "     id                                               name  host_id  \\\n",
       "0  2539        [clean, &, quiet, apt, home, by, the, park]     2787   \n",
       "1  2595                          [skylit, midtown, castle]     2845   \n",
       "2  3647      [the, village, of, harlem, ..., new, york, !]     4632   \n",
       "3  3831              [cozy, entire, floor, of, brownstone]     4869   \n",
       "4  5022  [entire, apt, :, spacious, studio, /, loft, by...     7192   \n",
       "\n",
       "     host_name neighbourhood_group neighbourhood  latitude  longitude  \\\n",
       "0         John            Brooklyn    Kensington  40.64749  -73.97237   \n",
       "1     Jennifer           Manhattan       Midtown  40.75362  -73.98377   \n",
       "2    Elisabeth           Manhattan        Harlem  40.80902  -73.94190   \n",
       "3  LisaRoxanne            Brooklyn  Clinton Hill  40.68514  -73.95976   \n",
       "4        Laura           Manhattan   East Harlem  40.79851  -73.94399   \n",
       "\n",
       "                room_type  price  minimum_nights  number_of_reviews  \\\n",
       "0         [private, room]    149               1                  9   \n",
       "1  [entire, home, /, apt]    225               1                 45   \n",
       "2         [private, room]    150               3                  0   \n",
       "3  [entire, home, /, apt]     89               1                100   \n",
       "4  [entire, home, /, apt]     80              10                  9   \n",
       "\n",
       "  last_review  reviews_per_month  calculated_host_listings_count  \\\n",
       "0  2018-10-19               0.21                               6   \n",
       "1  2019-05-21               0.38                               2   \n",
       "2         NaN                NaN                               1   \n",
       "3  2019-07-05               4.64                               1   \n",
       "4  2018-11-19               0.10                               1   \n",
       "\n",
       "   availability_365  \n",
       "0               365  \n",
       "1               355  \n",
       "2               365  \n",
       "3               194  \n",
       "4                 0  "
      ]
     },
     "execution_count": 19,
     "metadata": {},
     "output_type": "execute_result"
    }
   ],
   "source": [
    "end_df = end_node.run()\n",
    "end_df.head()"
   ]
  }
 ],
 "metadata": {
  "kernelspec": {
   "display_name": "Python 3",
   "language": "python",
   "name": "python3"
  },
  "language_info": {
   "codemirror_mode": {
    "name": "ipython",
    "version": 3
   },
   "file_extension": ".py",
   "mimetype": "text/x-python",
   "name": "python",
   "nbconvert_exporter": "python",
   "pygments_lexer": "ipython3",
   "version": "3.7.4"
  }
 },
 "nbformat": 4,
 "nbformat_minor": 2
}
