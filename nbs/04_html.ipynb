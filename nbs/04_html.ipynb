{
 "cells": [
  {
   "cell_type": "markdown",
   "metadata": {},
   "source": [
    "# HTML operation\n",
    "> HTML operation in jupyter notebook, easier life with visualization"
   ]
  },
  {
   "cell_type": "code",
   "execution_count": 1,
   "metadata": {},
   "outputs": [],
   "source": [
    "# default_exp html"
   ]
  },
  {
   "cell_type": "code",
   "execution_count": 2,
   "metadata": {},
   "outputs": [],
   "source": [
    "# export\n",
    "from IPython.display import HTML\n",
    "\n",
    "class DOM:\n",
    "    def __init__(self,txt,tag,kwargs = dict()):\n",
    "        self.txt = txt\n",
    "        self.tag = str(tag).lower()\n",
    "        self.attrs = kwargs\n",
    "        self.refresh_attr()\n",
    "        \n",
    "    @staticmethod\n",
    "    def extend(text,tag,**kwargs):\n",
    "        attributes =(\" \".join(f'{k}=\"{v}\"' for k,v in kwargs.items()))\n",
    "        attributes=\" \"+attributes if attributes else attributes\n",
    "        start = f\"<{tag}{attributes}>\"\n",
    "        inner = f\"{text}\"\n",
    "        end = f\"</{tag}>\"\n",
    "        text = f\"{start}{inner}{end}\"\n",
    "        return start,inner,end\n",
    "    \n",
    "    def refresh_attr(self):\n",
    "        self.start,self.inner,self.end = self.extend(self.txt,self.tag,**self.attrs)\n",
    "    \n",
    "    def __mul__(self,new_tag):\n",
    "        assert type(new_tag)==str\n",
    "        return DOM(self.text,new_tag)\n",
    "    \n",
    "    def __add__(self,dom):\n",
    "        return self.text+dom.text\n",
    "    \n",
    "    def __repr__(self):\n",
    "        return f\"{self.start}{self.inner}{self.end}\"\n",
    "    \n",
    "    def __getitem__(self,k):\n",
    "        return self.attrs[k]\n",
    "    \n",
    "    def __setitem__(self,k,v):\n",
    "        self.update({k,v})\n",
    "        \n",
    "    def __call__(self):\n",
    "        self.display()\n",
    "    \n",
    "    @property\n",
    "    def text(self):\n",
    "        return str(self)\n",
    "    \n",
    "    def append(self,subdom):\n",
    "        self.inner = self.inner+str(subdom)\n",
    "        return self\n",
    "    \n",
    "    def update(self,dict_):\n",
    "        self.attrs.update(dict_)\n",
    "        self.refresh_attr()\n",
    "        return self\n",
    "    \n",
    "    def display(self):\n",
    "        display(HTML(self.text))"
   ]
  },
  {
   "cell_type": "markdown",
   "metadata": {},
   "source": [
    "## Create HTML tag"
   ]
  },
  {
   "cell_type": "code",
   "execution_count": 3,
   "metadata": {},
   "outputs": [
    {
     "data": {
      "text/plain": [
       "<div class=\"btn btn-sm btn-danger\" id=\"test_btn_001\">Hello</div>"
      ]
     },
     "execution_count": 3,
     "metadata": {},
     "output_type": "execute_result"
    }
   ],
   "source": [
    "btn = DOM(\"Hello\",tag=\"div\",kwargs = {\"class\":\"btn btn-sm btn-danger\",\"id\":\"test_btn_001\"})\n",
    "\n",
    "btn"
   ]
  },
  {
   "cell_type": "markdown",
   "metadata": {},
   "source": [
    "Show HTML raw text"
   ]
  },
  {
   "cell_type": "code",
   "execution_count": 4,
   "metadata": {},
   "outputs": [
    {
     "data": {
      "text/plain": [
       "'<div class=\"btn btn-sm btn-danger\" id=\"test_btn_001\">Hello</div>'"
      ]
     },
     "execution_count": 4,
     "metadata": {},
     "output_type": "execute_result"
    }
   ],
   "source": [
    "btn.text"
   ]
  },
  {
   "cell_type": "markdown",
   "metadata": {},
   "source": [
    "Display in HTML"
   ]
  },
  {
   "cell_type": "code",
   "execution_count": 5,
   "metadata": {},
   "outputs": [
    {
     "data": {
      "text/html": [
       "<div class=\"btn btn-sm btn-danger\" id=\"test_btn_001\">Hello</div>"
      ],
      "text/plain": [
       "<IPython.core.display.HTML object>"
      ]
     },
     "metadata": {},
     "output_type": "display_data"
    }
   ],
   "source": [
    "btn()"
   ]
  },
  {
   "cell_type": "markdown",
   "metadata": {},
   "source": [
    "## Extend tag"
   ]
  },
  {
   "cell_type": "code",
   "execution_count": 6,
   "metadata": {},
   "outputs": [
    {
     "data": {
      "text/plain": [
       "<span><div>a</div></span>"
      ]
     },
     "execution_count": 6,
     "metadata": {},
     "output_type": "execute_result"
    }
   ],
   "source": [
    "DOM(\"a\",\"div\")*\"span\""
   ]
  },
  {
   "cell_type": "markdown",
   "metadata": {},
   "source": [
    "## DOM operation"
   ]
  },
  {
   "cell_type": "code",
   "execution_count": 17,
   "metadata": {},
   "outputs": [
    {
     "data": {
      "text/plain": [
       "<ul class=\"list-group\"></ul>"
      ]
     },
     "execution_count": 17,
     "metadata": {},
     "output_type": "execute_result"
    }
   ],
   "source": [
    "ul = DOM(\"\",\"ul\")\n",
    "ul"
   ]
  },
  {
   "cell_type": "code",
   "execution_count": 18,
   "metadata": {},
   "outputs": [
    {
     "data": {
      "text/plain": [
       "<ul class=\"list-group\"></ul>"
      ]
     },
     "execution_count": 18,
     "metadata": {},
     "output_type": "execute_result"
    }
   ],
   "source": [
    "ul.update({\"class\":\"list-group\"})"
   ]
  },
  {
   "cell_type": "code",
   "execution_count": 19,
   "metadata": {},
   "outputs": [],
   "source": [
    "for i in range(5):\n",
    "    ul.append(DOM(f\"List item{i}\", \"li\",{\"class\":\"list-group-item paint-red\"}))"
   ]
  },
  {
   "cell_type": "code",
   "execution_count": 20,
   "metadata": {},
   "outputs": [
    {
     "data": {
      "text/html": [
       "<ul class=\"list-group\"><li class=\"list-group-item paint-red\">List item0</li><li class=\"list-group-item paint-red\">List item1</li><li class=\"list-group-item paint-red\">List item2</li><li class=\"list-group-item paint-red\">List item3</li><li class=\"list-group-item paint-red\">List item4</li></ul>"
      ],
      "text/plain": [
       "<IPython.core.display.HTML object>"
      ]
     },
     "metadata": {},
     "output_type": "display_data"
    }
   ],
   "source": [
    "ul()"
   ]
  },
  {
   "cell_type": "code",
   "execution_count": 3,
   "metadata": {},
   "outputs": [],
   "source": [
    "# export \n",
    "def deeper(x):\n",
    "    if type(x) in [list, set, tuple]:\n",
    "        return list_group(x)\n",
    "    if type(x) == dict:\n",
    "        return list_group_kv(x)\n",
    "    return x\n",
    "\n",
    "def list_group(iterable):\n",
    "    ul = DOM(\"\",\"ul\",{\"class\":\"list-group\"})\n",
    "    for i in iterable:\n",
    "        li = DOM(deeper(i),\"li\",{\"class\":\"list-group-item\"})\n",
    "        ul.append(li)\n",
    "    return ul"
   ]
  },
  {
   "cell_type": "code",
   "execution_count": 9,
   "metadata": {},
   "outputs": [],
   "source": [
    "# export\n",
    "import math\n",
    "def col_sm(iterable,portions = None,):\n",
    "    if portions == None:\n",
    "        portions = [math.floor(12/len(iterable)),]* len(iterable)\n",
    "    row = DOM(\"\",\"div\",{\"class\":\"row\"})\n",
    "    for i,p in zip(iterable,portions):\n",
    "        row.append(DOM(i,\"div\",{\"class\":f\"col-sm-{p}\"}))\n",
    "    return row\n",
    "        "
   ]
  },
  {
   "cell_type": "code",
   "execution_count": 14,
   "metadata": {},
   "outputs": [
    {
     "data": {
      "text/html": [
       "<div class=\"row\"><div class=\"col-sm-4\">foo</div><div class=\"col-sm-4\">bar</div><div class=\"col-sm-4\">return</div></div>"
      ],
      "text/plain": [
       "<IPython.core.display.HTML object>"
      ]
     },
     "metadata": {},
     "output_type": "display_data"
    }
   ],
   "source": [
    "col_sm([\"foo\",\"bar\",\"return\"])()"
   ]
  },
  {
   "cell_type": "code",
   "execution_count": 15,
   "metadata": {},
   "outputs": [
    {
     "data": {
      "text/html": [
       "<div class=\"row\"><div class=\"col-sm-2\">foo</div><div class=\"col-sm-5\">bar</div><div class=\"col-sm-5\">return</div></div>"
      ],
      "text/plain": [
       "<IPython.core.display.HTML object>"
      ]
     },
     "metadata": {},
     "output_type": "display_data"
    }
   ],
   "source": [
    "col_sm([\"foo\",\"bar\",\"return\"],[2,5,5])()"
   ]
  },
  {
   "cell_type": "code",
   "execution_count": 5,
   "metadata": {},
   "outputs": [],
   "source": [
    "# export\n",
    "def list_group_kv(data):\n",
    "    result = []\n",
    "    for k,v in data.items():\n",
    "        row = DOM(\"\",\"div\",{\"class\":\"row\"})\n",
    "        row.append(DOM(f\"{k}\",\"strong\",{\"class\":\"col-sm-5\"}))\\\n",
    "            .append(DOM(f\"{deeper(v)}\",\"span\",{\"class\":\"col-sm-7\"}))\n",
    "        result.append(row)\n",
    "    return list_group(result)"
   ]
  },
  {
   "cell_type": "markdown",
   "metadata": {},
   "source": [
    "## Example: Running JavaScript"
   ]
  },
  {
   "cell_type": "code",
   "execution_count": 21,
   "metadata": {},
   "outputs": [
    {
     "data": {
      "text/plain": [
       "<script class=\"list-group\">alert(123)</script>"
      ]
     },
     "execution_count": 21,
     "metadata": {},
     "output_type": "execute_result"
    }
   ],
   "source": [
    "DOM(\"alert(123)\",\"script\")"
   ]
  },
  {
   "cell_type": "markdown",
   "metadata": {},
   "source": [
    "execute js script"
   ]
  },
  {
   "cell_type": "code",
   "execution_count": null,
   "metadata": {},
   "outputs": [],
   "source": [
    "DOM(\"alert(123)\",\"script\")()"
   ]
  },
  {
   "cell_type": "markdown",
   "metadata": {},
   "source": [
    "Longer script"
   ]
  },
  {
   "cell_type": "code",
   "execution_count": 23,
   "metadata": {},
   "outputs": [
    {
     "data": {
      "text/html": [
       "<script class=\"list-group\">\n",
       "console.log(document.querySelectorAll(\".paint-red\"))\n",
       "document.querySelectorAll(\".paint-red\").forEach(dom=>{\n",
       "dom.className=dom.className+\" text-danger\"\n",
       "})\n",
       "</script>"
      ],
      "text/plain": [
       "<IPython.core.display.HTML object>"
      ]
     },
     "metadata": {},
     "output_type": "display_data"
    }
   ],
   "source": [
    "paint_red = \"\"\"\n",
    "console.log(document.querySelectorAll(\".paint-red\"))\n",
    "document.querySelectorAll(\".paint-red\").forEach(dom=>{\n",
    "dom.className=dom.className+\" text-danger\"\n",
    "})\n",
    "\"\"\"\n",
    "\n",
    "DOM(paint_red,\"script\")()"
   ]
  },
  {
   "cell_type": "markdown",
   "metadata": {},
   "source": [
    "### A class designed for running javascript"
   ]
  },
  {
   "cell_type": "code",
   "execution_count": 46,
   "metadata": {},
   "outputs": [],
   "source": [
    "# export\n",
    "def JS(code):\n",
    "    DOM(code,\"script\",)()\n",
    "    \n",
    "def JS_file(path):\n",
    "    \"\"\"\n",
    "    load javascript file \n",
    "    \"\"\"\n",
    "    with open(path,\"r\") as f:\n",
    "        DOM(f.read(),\"script\")()"
   ]
  },
  {
   "cell_type": "code",
   "execution_count": null,
   "metadata": {},
   "outputs": [],
   "source": []
  }
 ],
 "metadata": {
  "kernelspec": {
   "display_name": "Python 3",
   "language": "python",
   "name": "python3"
  },
  "language_info": {
   "codemirror_mode": {
    "name": "ipython",
    "version": 3
   },
   "file_extension": ".py",
   "mimetype": "text/x-python",
   "name": "python",
   "nbconvert_exporter": "python",
   "pygments_lexer": "ipython3",
   "version": "3.7.4"
  },
  "toc": {
   "base_numbering": 1,
   "nav_menu": {},
   "number_sections": true,
   "sideBar": true,
   "skip_h1_title": false,
   "title_cell": "Table of Contents",
   "title_sidebar": "Contents",
   "toc_cell": false,
   "toc_position": {},
   "toc_section_display": true,
   "toc_window_display": false
  }
 },
 "nbformat": 4,
 "nbformat_minor": 2
}
