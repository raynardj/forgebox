{
 "cells": [
  {
   "cell_type": "markdown",
   "metadata": {},
   "source": [
    "# 01 A logged editable table\n",
    "> Traceable editable table in flask"
   ]
  },
  {
   "cell_type": "code",
   "execution_count": 1,
   "metadata": {},
   "outputs": [],
   "source": [
    "from flask import Flask\n",
    "app = Flask(__name__)\n",
    "\n",
    "@app.route('/')\n",
    "def hello_world():\n",
    "    return 'Hello, World!'"
   ]
  },
  {
   "cell_type": "markdown",
   "metadata": {},
   "source": [
    "## Run a simple applitcation"
   ]
  },
  {
   "cell_type": "code",
   "execution_count": 2,
   "metadata": {},
   "outputs": [],
   "source": [
    "# default_exp editable"
   ]
  },
  {
   "cell_type": "code",
   "execution_count": 3,
   "metadata": {},
   "outputs": [],
   "source": [
    "# export\n",
    "import pandas as pd\n",
    "from datetime import datetime\n",
    "import json\n",
    "from sqlalchemy import create_engine as ce\n",
    "from sqlalchemy import text\n",
    "from jinja2 import Template"
   ]
  },
  {
   "cell_type": "code",
   "execution_count": 4,
   "metadata": {},
   "outputs": [],
   "source": [
    "# export\n",
    "from pathlib import Path\n",
    "def get_static():\n",
    "    import forgebox\n",
    "    return Path(forgebox.__path__[0])/\"static\""
   ]
  },
  {
   "cell_type": "code",
   "execution_count": 5,
   "metadata": {},
   "outputs": [],
   "source": [
    "# export\n",
    "def edit_js():\n",
    "    with open(get_static()/\"edit.js\",\"r\") as f:\n",
    "        return f\"<script>{f.read()}</script>\"\n",
    "\n",
    "\n",
    "class DefaultTemp(Template):\n",
    "    \"\"\"\n",
    "    Jinjia template with some default render config\n",
    "    \"\"\"\n",
    "    def render(self,dt):\n",
    "        dt.update(dict(type=type,now = datetime.now()))\n",
    "        return super().render(dt)"
   ]
  },
  {
   "cell_type": "markdown",
   "metadata": {},
   "source": [
    "## Create sample data"
   ]
  },
  {
   "cell_type": "code",
   "execution_count": 6,
   "metadata": {},
   "outputs": [],
   "source": [
    "con = ce(\"sqlite:///sample.db\")\n",
    "\n",
    "sample_df = pd.DataFrame(dict(name=[\"Darrow\",\"Virginia\",\"Sevro\",]*20,\n",
    "                              house =[\"Andromedus\",\"Augustus\",\"Barca\"]*20,\n",
    "                              age=[20,18,17]*20))\n",
    "\n",
    "sample_df.to_sql(\"sample_table\",index_label=\"id\",\n",
    "                 index=True,\n",
    "                 con = con, method='multi',\n",
    "                 if_exists=\"replace\")"
   ]
  },
  {
   "cell_type": "code",
   "execution_count": 7,
   "metadata": {},
   "outputs": [],
   "source": [
    "# export\n",
    "from flask import request\n",
    "from flask import g\n",
    "from datetime import datetime\n",
    "\n",
    "class Editable:\n",
    "    def __init__(self,name,app,table_name,con,id_col,\n",
    "                 log_con,log_table=\"editable_log\",columns = None):\n",
    "        \"\"\"\n",
    "        name: route name for url path, \n",
    "            also it will be the task title appearning on the frontend\n",
    "        app:flask app\n",
    "        table_name: table to edit\n",
    "        con:sqlachemy connnection, created by : con = sqlalchemy.create_engine\n",
    "        id_col: a column with unique value\n",
    "        log_con:sqlachemy connnection, for storaging change log\n",
    "        \"\"\"\n",
    "        self.name = name\n",
    "        self.app = app\n",
    "        self.table_name = table_name\n",
    "        self.con = con\n",
    "        self.log_con = log_con\n",
    "        self.columns = \",\".join(columns) if columns!=None else \"*\"\n",
    "        self.id_col = id_col\n",
    "        \n",
    "        self.t_workspace = self.load_temp(get_static()/\"workspace.html\")\n",
    "        self.t_table = self.load_temp(get_static()/\"table.html\")\n",
    "        self.assign()\n",
    "        \n",
    "    def assign(self): \n",
    "        self.app.route(f\"/{self.name}\")(self.workspace)\n",
    "        self.app.route(f\"/{self.name}/df_api\")(self.read_df)\n",
    "        self.app.route(f\"/{self.name}/save_api\",\n",
    "                       methods=[\"POST\"])(self.save_data)\n",
    "\n",
    "    def workspace(self):\n",
    "        return self.t_workspace.render(dict(title=self.name,\n",
    "                                                pk=self.id_col,\n",
    "                                                edit_js = edit_js()))\n",
    "\n",
    "    def save_data(self):\n",
    "        data = json.loads(request.data)\n",
    "        # update change and save log\n",
    "        changes = data[\"changes\"]\n",
    "        log_df = pd.DataFrame(list(self.single_row(change) for change in changes))\n",
    "        \n",
    "        log_df[\"idx\"] = log_df.idx.apply(str)\n",
    "        log_df[\"original\"] = log_df.original.apply(str)\n",
    "        log_df[\"changed\"] = log_df.changed.apply(str)\n",
    "        log_df.to_sql(f\"editable_log\",con = self.log_con,index=False, if_exists=\"append\")\n",
    "        \n",
    "        print(log_df)\n",
    "        # return updated table\n",
    "        query = data[\"query\"]\n",
    "        page = query[\"page\"]\n",
    "        where = query[\"where\"]\n",
    "        return self.data_table(page,where)\n",
    "    \n",
    "    def settype(self,k):\n",
    "        if k[:3] == \"int\": return int\n",
    "        elif \"float\" in k: return float\n",
    "        elif k==\"str\":return str\n",
    "        elif k==\"list\":return list\n",
    "        elif k==\"dict\":return dict\n",
    "        else: return eval(k)\n",
    "    \n",
    "    def single_row(self,row):\n",
    "        row[\"ip\"]= request.remote_addr\n",
    "        row[\"table_name\"] = self.table_name\n",
    "        row[\"ts\"] = datetime.now() \n",
    "        if row[\"original\"]==row[\"changed\"]: \n",
    "            row['sql'] = \"\"\n",
    "            return row\n",
    "        else:\n",
    "            col = row[\"col\"]\n",
    "            val = row[\"changed\"] \n",
    "            val = f\"'{val}'\" if 'str' in row[\"valtype\"] else val\n",
    "            idx = row[\"idx\"]\n",
    "            idx = f\"'{idx}'\" if type(idx)==str else idx\n",
    "            set_clause = f\"SET {col}={val}\"\n",
    "            sql = f\"\"\"UPDATE {self.table_name} \n",
    "            {set_clause} WHERE {self.id_col}={idx}\n",
    "            \"\"\"\n",
    "            row['sql'] = sql\n",
    "            self.con.execute(sql)\n",
    "            return row\n",
    "            \n",
    "    def read_df(self):\n",
    "        page = request.args.get('page')\n",
    "        where = request.args.get('where')\n",
    "        return self.data_table(page,where)\n",
    "        \n",
    "    def data_table(self,page,where):\n",
    "        where_clause = \"\" if where.strip() == \"\" else f\"WHERE {where} \"\n",
    "        sql = f\"\"\"SELECT {self.columns} FROM {self.table_name} {where_clause}\n",
    "        ORDER BY {self.id_col} ASC LIMIT {page},20\n",
    "        \"\"\"\n",
    "        print(sql)\n",
    "        df = pd.read_sql(sql,self.con)\n",
    "        df = df.set_index(self.id_col)\n",
    "        return self.t_table.render(dict(df = df))\n",
    "        \n",
    "    def load_temp(self,path):\n",
    "        with open(path, \"r\") as f:\n",
    "            return DefaultTemp(f.read())"
   ]
  },
  {
   "cell_type": "markdown",
   "metadata": {},
   "source": [
    "## Testing editable frontend"
   ]
  },
  {
   "cell_type": "code",
   "execution_count": null,
   "metadata": {},
   "outputs": [],
   "source": [
    "app = Flask(__name__)\n",
    "\n",
    "# Create Editable pages around sample_table\n",
    "Editable(\"table1\", # route/task name\n",
    "         app, # flask app to wrap around\n",
    "         table_name=\"sample_table\", # target table name\n",
    "         id_col=\"id\", # unique column\n",
    "         con = con,\n",
    "         log_con=con\n",
    "        )\n",
    "\n",
    "app.run(host=\"0.0.0.0\",port = 4242,debug=False)"
   ]
  },
  {
   "cell_type": "markdown",
   "metadata": {},
   "source": [
    "### Retrieve the log"
   ]
  },
  {
   "cell_type": "code",
   "execution_count": 9,
   "metadata": {},
   "outputs": [],
   "source": [
    "from forgebox.df import PandasDisplay"
   ]
  },
  {
   "cell_type": "code",
   "execution_count": null,
   "metadata": {},
   "outputs": [],
   "source": [
    "with PandasDisplay(max_colwidth = 0,max_rows=100):\n",
    "    display(pd.read_sql('editable_log',con = con))"
   ]
  },
  {
   "cell_type": "code",
   "execution_count": null,
   "metadata": {},
   "outputs": [],
   "source": []
  }
 ],
 "metadata": {
  "kernelspec": {
   "display_name": "Python 3",
   "language": "python",
   "name": "python3"
  },
  "language_info": {
   "codemirror_mode": {
    "name": "ipython",
    "version": 3
   },
   "file_extension": ".py",
   "mimetype": "text/x-python",
   "name": "python",
   "nbconvert_exporter": "python",
   "pygments_lexer": "ipython3",
   "version": "3.7.4"
  },
  "toc": {
   "base_numbering": 1,
   "nav_menu": {},
   "number_sections": true,
   "sideBar": true,
   "skip_h1_title": false,
   "title_cell": "Table of Contents",
   "title_sidebar": "Contents",
   "toc_cell": false,
   "toc_position": {},
   "toc_section_display": true,
   "toc_window_display": false
  }
 },
 "nbformat": 4,
 "nbformat_minor": 2
}
